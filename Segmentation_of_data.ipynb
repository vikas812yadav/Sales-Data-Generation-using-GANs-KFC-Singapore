{
 "cells": [
  {
   "cell_type": "markdown",
   "metadata": {},
   "source": [
    "# Word2Vec"
   ]
  },
  {
   "cell_type": "markdown",
   "metadata": {},
   "source": [
    "## Preprocessing "
   ]
  },
  {
   "cell_type": "code",
   "execution_count": 2,
   "metadata": {},
   "outputs": [],
   "source": [
    "using DataFrames\n",
    "using CSV"
   ]
  },
  {
   "cell_type": "code",
   "execution_count": 145,
   "metadata": {},
   "outputs": [],
   "source": [
    "import Dates"
   ]
  },
  {
   "cell_type": "code",
   "execution_count": 141,
   "metadata": {
    "scrolled": true
   },
   "outputs": [
    {
     "data": {
      "text/html": [
       "<table class=\"data-frame\"><thead><tr><th></th><th>storenum</th><th>business_date</th><th>transaction_key</th><th>item_key</th><th>item_description</th></tr><tr><th></th><th>Int64</th><th>String</th><th>Int64</th><th>Int64</th><th>String?</th></tr></thead><tbody><p>6,860,066 rows × 12 columns (omitted printing of 7 columns)</p><tr><th>1</th><td>502</td><td>2021-03-29 00:00:00.000</td><td>1724</td><td>916755</td><td>D-10P CKN BKT</td></tr><tr><th>2</th><td>502</td><td>2021-03-29 00:00:00.000</td><td>1724</td><td>710033</td><td>DEL SURCHARGE</td></tr><tr><th>3</th><td>502</td><td>2021-03-29 00:00:00.000</td><td>1724</td><td>1</td><td>D-CASH</td></tr><tr><th>4</th><td>502</td><td>2021-03-29 00:00:00.000</td><td>1725</td><td>700103</td><td>D-3PC ML(OR)</td></tr><tr><th>5</th><td>502</td><td>2021-03-29 00:00:00.000</td><td>1725</td><td>710033</td><td>DEL SURCHARGE</td></tr><tr><th>6</th><td>502</td><td>2021-03-29 00:00:00.000</td><td>1725</td><td>1</td><td>D-CASH</td></tr><tr><th>7</th><td>502</td><td>2021-03-29 00:00:00.000</td><td>1726</td><td>710009</td><td>D-ZINGER</td></tr><tr><th>8</th><td>502</td><td>2021-03-29 00:00:00.000</td><td>1726</td><td>700103</td><td>D-3PC ML(OR)</td></tr><tr><th>9</th><td>502</td><td>2021-03-29 00:00:00.000</td><td>1726</td><td>710033</td><td>DEL SURCHARGE</td></tr><tr><th>10</th><td>502</td><td>2021-03-29 00:00:00.000</td><td>1726</td><td>1</td><td>D-CASH</td></tr><tr><th>11</th><td>502</td><td>2021-03-29 00:00:00.000</td><td>1727</td><td>922023</td><td>D-10 FOR $10</td></tr><tr><th>12</th><td>502</td><td>2021-03-29 00:00:00.000</td><td>1727</td><td>913618</td><td>D-10P CKN 2-5PM</td></tr><tr><th>13</th><td>502</td><td>2021-03-29 00:00:00.000</td><td>1727</td><td>710033</td><td>DEL SURCHARGE</td></tr><tr><th>14</th><td>502</td><td>2021-03-29 00:00:00.000</td><td>1727</td><td>3</td><td>D-DBS Paylah</td></tr><tr><th>15</th><td>502</td><td>2021-03-29 00:00:00.000</td><td>1728</td><td>916137</td><td>D-FM POT BWL</td></tr><tr><th>16</th><td>502</td><td>2021-03-29 00:00:00.000</td><td>1728</td><td>710018</td><td>D-C/SL MED</td></tr><tr><th>17</th><td>502</td><td>2021-03-29 00:00:00.000</td><td>1728</td><td>710021</td><td>D-W/PT MED</td></tr><tr><th>18</th><td>502</td><td>2021-03-29 00:00:00.000</td><td>1728</td><td>919893</td><td>D-8P FOR $15</td></tr><tr><th>19</th><td>502</td><td>2021-03-29 00:00:00.000</td><td>1728</td><td>710033</td><td>DEL SURCHARGE</td></tr><tr><th>20</th><td>502</td><td>2021-03-29 00:00:00.000</td><td>1728</td><td>8</td><td>D-eNETS CREDIT</td></tr><tr><th>21</th><td>502</td><td>2021-03-29 00:00:00.000</td><td>1729</td><td>913961</td><td>D-8P VRTY FEAST</td></tr><tr><th>22</th><td>502</td><td>2021-03-29 00:00:00.000</td><td>1729</td><td>710033</td><td>DEL SURCHARGE</td></tr><tr><th>23</th><td>502</td><td>2021-03-29 00:00:00.000</td><td>1729</td><td>8</td><td>D-eNETS CREDIT</td></tr><tr><th>24</th><td>502</td><td>2021-03-29 00:00:00.000</td><td>1730</td><td>921466</td><td>D-2P CKN BX</td></tr><tr><th>25</th><td>502</td><td>2021-03-29 00:00:00.000</td><td>1730</td><td>921466</td><td>D-2P CKN BX</td></tr><tr><th>26</th><td>502</td><td>2021-03-29 00:00:00.000</td><td>1730</td><td>921466</td><td>D-2P CKN BX</td></tr><tr><th>27</th><td>502</td><td>2021-03-29 00:00:00.000</td><td>1730</td><td>710033</td><td>DEL SURCHARGE</td></tr><tr><th>28</th><td>502</td><td>2021-03-29 00:00:00.000</td><td>1730</td><td>8</td><td>D-eNETS CREDIT</td></tr><tr><th>29</th><td>502</td><td>2021-03-29 00:00:00.000</td><td>1731</td><td>913299</td><td>D-AO 2 CHZ FRIES-APP</td></tr><tr><th>30</th><td>502</td><td>2021-03-29 00:00:00.000</td><td>1731</td><td>922023</td><td>D-10 FOR $10</td></tr><tr><th>&vellip;</th><td>&vellip;</td><td>&vellip;</td><td>&vellip;</td><td>&vellip;</td><td>&vellip;</td></tr></tbody></table>"
      ],
      "text/latex": [
       "\\begin{tabular}{r|cccccc}\n",
       "\t& storenum & business\\_date & transaction\\_key & item\\_key & item\\_description & \\\\\n",
       "\t\\hline\n",
       "\t& Int64 & String & Int64 & Int64 & String? & \\\\\n",
       "\t\\hline\n",
       "\t1 & 502 & 2021-03-29 00:00:00.000 & 1724 & 916755 & D-10P CKN BKT & $\\dots$ \\\\\n",
       "\t2 & 502 & 2021-03-29 00:00:00.000 & 1724 & 710033 & DEL SURCHARGE & $\\dots$ \\\\\n",
       "\t3 & 502 & 2021-03-29 00:00:00.000 & 1724 & 1 & D-CASH & $\\dots$ \\\\\n",
       "\t4 & 502 & 2021-03-29 00:00:00.000 & 1725 & 700103 & D-3PC ML(OR) & $\\dots$ \\\\\n",
       "\t5 & 502 & 2021-03-29 00:00:00.000 & 1725 & 710033 & DEL SURCHARGE & $\\dots$ \\\\\n",
       "\t6 & 502 & 2021-03-29 00:00:00.000 & 1725 & 1 & D-CASH & $\\dots$ \\\\\n",
       "\t7 & 502 & 2021-03-29 00:00:00.000 & 1726 & 710009 & D-ZINGER & $\\dots$ \\\\\n",
       "\t8 & 502 & 2021-03-29 00:00:00.000 & 1726 & 700103 & D-3PC ML(OR) & $\\dots$ \\\\\n",
       "\t9 & 502 & 2021-03-29 00:00:00.000 & 1726 & 710033 & DEL SURCHARGE & $\\dots$ \\\\\n",
       "\t10 & 502 & 2021-03-29 00:00:00.000 & 1726 & 1 & D-CASH & $\\dots$ \\\\\n",
       "\t11 & 502 & 2021-03-29 00:00:00.000 & 1727 & 922023 & D-10 FOR \\$10 & $\\dots$ \\\\\n",
       "\t12 & 502 & 2021-03-29 00:00:00.000 & 1727 & 913618 & D-10P CKN 2-5PM & $\\dots$ \\\\\n",
       "\t13 & 502 & 2021-03-29 00:00:00.000 & 1727 & 710033 & DEL SURCHARGE & $\\dots$ \\\\\n",
       "\t14 & 502 & 2021-03-29 00:00:00.000 & 1727 & 3 & D-DBS Paylah & $\\dots$ \\\\\n",
       "\t15 & 502 & 2021-03-29 00:00:00.000 & 1728 & 916137 & D-FM POT BWL & $\\dots$ \\\\\n",
       "\t16 & 502 & 2021-03-29 00:00:00.000 & 1728 & 710018 & D-C/SL MED & $\\dots$ \\\\\n",
       "\t17 & 502 & 2021-03-29 00:00:00.000 & 1728 & 710021 & D-W/PT MED & $\\dots$ \\\\\n",
       "\t18 & 502 & 2021-03-29 00:00:00.000 & 1728 & 919893 & D-8P FOR \\$15 & $\\dots$ \\\\\n",
       "\t19 & 502 & 2021-03-29 00:00:00.000 & 1728 & 710033 & DEL SURCHARGE & $\\dots$ \\\\\n",
       "\t20 & 502 & 2021-03-29 00:00:00.000 & 1728 & 8 & D-eNETS CREDIT & $\\dots$ \\\\\n",
       "\t21 & 502 & 2021-03-29 00:00:00.000 & 1729 & 913961 & D-8P VRTY FEAST & $\\dots$ \\\\\n",
       "\t22 & 502 & 2021-03-29 00:00:00.000 & 1729 & 710033 & DEL SURCHARGE & $\\dots$ \\\\\n",
       "\t23 & 502 & 2021-03-29 00:00:00.000 & 1729 & 8 & D-eNETS CREDIT & $\\dots$ \\\\\n",
       "\t24 & 502 & 2021-03-29 00:00:00.000 & 1730 & 921466 & D-2P CKN BX & $\\dots$ \\\\\n",
       "\t25 & 502 & 2021-03-29 00:00:00.000 & 1730 & 921466 & D-2P CKN BX & $\\dots$ \\\\\n",
       "\t26 & 502 & 2021-03-29 00:00:00.000 & 1730 & 921466 & D-2P CKN BX & $\\dots$ \\\\\n",
       "\t27 & 502 & 2021-03-29 00:00:00.000 & 1730 & 710033 & DEL SURCHARGE & $\\dots$ \\\\\n",
       "\t28 & 502 & 2021-03-29 00:00:00.000 & 1730 & 8 & D-eNETS CREDIT & $\\dots$ \\\\\n",
       "\t29 & 502 & 2021-03-29 00:00:00.000 & 1731 & 913299 & D-AO 2 CHZ FRIES-APP & $\\dots$ \\\\\n",
       "\t30 & 502 & 2021-03-29 00:00:00.000 & 1731 & 922023 & D-10 FOR \\$10 & $\\dots$ \\\\\n",
       "\t$\\dots$ & $\\dots$ & $\\dots$ & $\\dots$ & $\\dots$ & $\\dots$ &  \\\\\n",
       "\\end{tabular}\n"
      ],
      "text/plain": [
       "\u001b[1m6860066×12 DataFrame\u001b[0m\n",
       "\u001b[1m     Row \u001b[0m│\u001b[1m storenum \u001b[0m\u001b[1m business_date           \u001b[0m\u001b[1m transaction_key \u001b[0m\u001b[1m item_key \u001b[0m\u001b[1m item_\u001b[0m ⋯\n",
       "\u001b[1m         \u001b[0m│\u001b[90m Int64    \u001b[0m\u001b[90m String                  \u001b[0m\u001b[90m Int64           \u001b[0m\u001b[90m Int64    \u001b[0m\u001b[90m Strin\u001b[0m ⋯\n",
       "─────────┼──────────────────────────────────────────────────────────────────────\n",
       "       1 │      502  2021-03-29 00:00:00.000             1724    916755  D-10P ⋯\n",
       "       2 │      502  2021-03-29 00:00:00.000             1724    710033  DEL S\n",
       "       3 │      502  2021-03-29 00:00:00.000             1724         1  D-CAS\n",
       "       4 │      502  2021-03-29 00:00:00.000             1725    700103  D-3PC\n",
       "       5 │      502  2021-03-29 00:00:00.000             1725    710033  DEL S ⋯\n",
       "       6 │      502  2021-03-29 00:00:00.000             1725         1  D-CAS\n",
       "       7 │      502  2021-03-29 00:00:00.000             1726    710009  D-ZIN\n",
       "       8 │      502  2021-03-29 00:00:00.000             1726    700103  D-3PC\n",
       "       9 │      502  2021-03-29 00:00:00.000             1726    710033  DEL S ⋯\n",
       "      10 │      502  2021-03-29 00:00:00.000             1726         1  D-CAS\n",
       "      11 │      502  2021-03-29 00:00:00.000             1727    922023  D-10\n",
       "    ⋮    │    ⋮                 ⋮                    ⋮            ⋮            ⋱\n",
       " 6860057 │      670  2021-05-07 00:00:00.000             5317    922110  2P(TG\n",
       " 6860058 │      670  2021-05-07 00:00:00.000             5317    450011  RWP>C ⋯\n",
       " 6860059 │      670  2021-05-07 00:00:00.000             5317    914357  1P EG\n",
       " 6860060 │      670  2021-05-07 00:00:00.000             5317         8  D-eNE\n",
       " 6860061 │      670  2021-05-07 00:00:00.000             5318    912781  1 OR\n",
       " 6860062 │      670  2021-05-07 00:00:00.000             5318    450046  RFF>C ⋯\n",
       " 6860063 │      670  2021-05-07 00:00:00.000             5318    914357  1P EG\n",
       " 6860064 │      670  2021-05-07 00:00:00.000             5318         8  D-eNE\n",
       " 6860065 │      670  2021-05-07 00:00:00.000             5319    921046  5P AC\n",
       " 6860066 │      670  2021-05-07 00:00:00.000             5319        15  DI-DB ⋯\n",
       "\u001b[36m                                              8 columns and 6860045 rows omitted\u001b[0m"
      ]
     },
     "execution_count": 141,
     "metadata": {},
     "output_type": "execute_result"
    }
   ],
   "source": [
    "df = DataFrame(CSV.File(\"2021-03-29__2021-05-07.csv\"))"
   ]
  },
  {
   "cell_type": "code",
   "execution_count": 142,
   "metadata": {
    "scrolled": true
   },
   "outputs": [
    {
     "data": {
      "text/html": [
       "<table class=\"data-frame\"><thead><tr><th></th><th>storenum</th><th>business_date</th><th>transaction_key</th><th>item_key</th><th>item_description</th></tr><tr><th></th><th>Int64</th><th>String</th><th>Int64</th><th>Int64</th><th>String</th></tr></thead><tbody><p>6,859,688 rows × 12 columns (omitted printing of 7 columns)</p><tr><th>1</th><td>502</td><td>2021-03-29 00:00:00.000</td><td>1724</td><td>916755</td><td>D-10P CKN BKT</td></tr><tr><th>2</th><td>502</td><td>2021-03-29 00:00:00.000</td><td>1724</td><td>710033</td><td>DEL SURCHARGE</td></tr><tr><th>3</th><td>502</td><td>2021-03-29 00:00:00.000</td><td>1724</td><td>1</td><td>D-CASH</td></tr><tr><th>4</th><td>502</td><td>2021-03-29 00:00:00.000</td><td>1725</td><td>700103</td><td>D-3PC ML(OR)</td></tr><tr><th>5</th><td>502</td><td>2021-03-29 00:00:00.000</td><td>1725</td><td>710033</td><td>DEL SURCHARGE</td></tr><tr><th>6</th><td>502</td><td>2021-03-29 00:00:00.000</td><td>1725</td><td>1</td><td>D-CASH</td></tr><tr><th>7</th><td>502</td><td>2021-03-29 00:00:00.000</td><td>1726</td><td>710009</td><td>D-ZINGER</td></tr><tr><th>8</th><td>502</td><td>2021-03-29 00:00:00.000</td><td>1726</td><td>700103</td><td>D-3PC ML(OR)</td></tr><tr><th>9</th><td>502</td><td>2021-03-29 00:00:00.000</td><td>1726</td><td>710033</td><td>DEL SURCHARGE</td></tr><tr><th>10</th><td>502</td><td>2021-03-29 00:00:00.000</td><td>1726</td><td>1</td><td>D-CASH</td></tr><tr><th>11</th><td>502</td><td>2021-03-29 00:00:00.000</td><td>1727</td><td>922023</td><td>D-10 FOR $10</td></tr><tr><th>12</th><td>502</td><td>2021-03-29 00:00:00.000</td><td>1727</td><td>913618</td><td>D-10P CKN 2-5PM</td></tr><tr><th>13</th><td>502</td><td>2021-03-29 00:00:00.000</td><td>1727</td><td>710033</td><td>DEL SURCHARGE</td></tr><tr><th>14</th><td>502</td><td>2021-03-29 00:00:00.000</td><td>1727</td><td>3</td><td>D-DBS Paylah</td></tr><tr><th>15</th><td>502</td><td>2021-03-29 00:00:00.000</td><td>1728</td><td>916137</td><td>D-FM POT BWL</td></tr><tr><th>16</th><td>502</td><td>2021-03-29 00:00:00.000</td><td>1728</td><td>710018</td><td>D-C/SL MED</td></tr><tr><th>17</th><td>502</td><td>2021-03-29 00:00:00.000</td><td>1728</td><td>710021</td><td>D-W/PT MED</td></tr><tr><th>18</th><td>502</td><td>2021-03-29 00:00:00.000</td><td>1728</td><td>919893</td><td>D-8P FOR $15</td></tr><tr><th>19</th><td>502</td><td>2021-03-29 00:00:00.000</td><td>1728</td><td>710033</td><td>DEL SURCHARGE</td></tr><tr><th>20</th><td>502</td><td>2021-03-29 00:00:00.000</td><td>1728</td><td>8</td><td>D-eNETS CREDIT</td></tr><tr><th>21</th><td>502</td><td>2021-03-29 00:00:00.000</td><td>1729</td><td>913961</td><td>D-8P VRTY FEAST</td></tr><tr><th>22</th><td>502</td><td>2021-03-29 00:00:00.000</td><td>1729</td><td>710033</td><td>DEL SURCHARGE</td></tr><tr><th>23</th><td>502</td><td>2021-03-29 00:00:00.000</td><td>1729</td><td>8</td><td>D-eNETS CREDIT</td></tr><tr><th>24</th><td>502</td><td>2021-03-29 00:00:00.000</td><td>1730</td><td>921466</td><td>D-2P CKN BX</td></tr><tr><th>25</th><td>502</td><td>2021-03-29 00:00:00.000</td><td>1730</td><td>921466</td><td>D-2P CKN BX</td></tr><tr><th>26</th><td>502</td><td>2021-03-29 00:00:00.000</td><td>1730</td><td>921466</td><td>D-2P CKN BX</td></tr><tr><th>27</th><td>502</td><td>2021-03-29 00:00:00.000</td><td>1730</td><td>710033</td><td>DEL SURCHARGE</td></tr><tr><th>28</th><td>502</td><td>2021-03-29 00:00:00.000</td><td>1730</td><td>8</td><td>D-eNETS CREDIT</td></tr><tr><th>29</th><td>502</td><td>2021-03-29 00:00:00.000</td><td>1731</td><td>913299</td><td>D-AO 2 CHZ FRIES-APP</td></tr><tr><th>30</th><td>502</td><td>2021-03-29 00:00:00.000</td><td>1731</td><td>922023</td><td>D-10 FOR $10</td></tr><tr><th>&vellip;</th><td>&vellip;</td><td>&vellip;</td><td>&vellip;</td><td>&vellip;</td><td>&vellip;</td></tr></tbody></table>"
      ],
      "text/latex": [
       "\\begin{tabular}{r|cccccc}\n",
       "\t& storenum & business\\_date & transaction\\_key & item\\_key & item\\_description & \\\\\n",
       "\t\\hline\n",
       "\t& Int64 & String & Int64 & Int64 & String & \\\\\n",
       "\t\\hline\n",
       "\t1 & 502 & 2021-03-29 00:00:00.000 & 1724 & 916755 & D-10P CKN BKT & $\\dots$ \\\\\n",
       "\t2 & 502 & 2021-03-29 00:00:00.000 & 1724 & 710033 & DEL SURCHARGE & $\\dots$ \\\\\n",
       "\t3 & 502 & 2021-03-29 00:00:00.000 & 1724 & 1 & D-CASH & $\\dots$ \\\\\n",
       "\t4 & 502 & 2021-03-29 00:00:00.000 & 1725 & 700103 & D-3PC ML(OR) & $\\dots$ \\\\\n",
       "\t5 & 502 & 2021-03-29 00:00:00.000 & 1725 & 710033 & DEL SURCHARGE & $\\dots$ \\\\\n",
       "\t6 & 502 & 2021-03-29 00:00:00.000 & 1725 & 1 & D-CASH & $\\dots$ \\\\\n",
       "\t7 & 502 & 2021-03-29 00:00:00.000 & 1726 & 710009 & D-ZINGER & $\\dots$ \\\\\n",
       "\t8 & 502 & 2021-03-29 00:00:00.000 & 1726 & 700103 & D-3PC ML(OR) & $\\dots$ \\\\\n",
       "\t9 & 502 & 2021-03-29 00:00:00.000 & 1726 & 710033 & DEL SURCHARGE & $\\dots$ \\\\\n",
       "\t10 & 502 & 2021-03-29 00:00:00.000 & 1726 & 1 & D-CASH & $\\dots$ \\\\\n",
       "\t11 & 502 & 2021-03-29 00:00:00.000 & 1727 & 922023 & D-10 FOR \\$10 & $\\dots$ \\\\\n",
       "\t12 & 502 & 2021-03-29 00:00:00.000 & 1727 & 913618 & D-10P CKN 2-5PM & $\\dots$ \\\\\n",
       "\t13 & 502 & 2021-03-29 00:00:00.000 & 1727 & 710033 & DEL SURCHARGE & $\\dots$ \\\\\n",
       "\t14 & 502 & 2021-03-29 00:00:00.000 & 1727 & 3 & D-DBS Paylah & $\\dots$ \\\\\n",
       "\t15 & 502 & 2021-03-29 00:00:00.000 & 1728 & 916137 & D-FM POT BWL & $\\dots$ \\\\\n",
       "\t16 & 502 & 2021-03-29 00:00:00.000 & 1728 & 710018 & D-C/SL MED & $\\dots$ \\\\\n",
       "\t17 & 502 & 2021-03-29 00:00:00.000 & 1728 & 710021 & D-W/PT MED & $\\dots$ \\\\\n",
       "\t18 & 502 & 2021-03-29 00:00:00.000 & 1728 & 919893 & D-8P FOR \\$15 & $\\dots$ \\\\\n",
       "\t19 & 502 & 2021-03-29 00:00:00.000 & 1728 & 710033 & DEL SURCHARGE & $\\dots$ \\\\\n",
       "\t20 & 502 & 2021-03-29 00:00:00.000 & 1728 & 8 & D-eNETS CREDIT & $\\dots$ \\\\\n",
       "\t21 & 502 & 2021-03-29 00:00:00.000 & 1729 & 913961 & D-8P VRTY FEAST & $\\dots$ \\\\\n",
       "\t22 & 502 & 2021-03-29 00:00:00.000 & 1729 & 710033 & DEL SURCHARGE & $\\dots$ \\\\\n",
       "\t23 & 502 & 2021-03-29 00:00:00.000 & 1729 & 8 & D-eNETS CREDIT & $\\dots$ \\\\\n",
       "\t24 & 502 & 2021-03-29 00:00:00.000 & 1730 & 921466 & D-2P CKN BX & $\\dots$ \\\\\n",
       "\t25 & 502 & 2021-03-29 00:00:00.000 & 1730 & 921466 & D-2P CKN BX & $\\dots$ \\\\\n",
       "\t26 & 502 & 2021-03-29 00:00:00.000 & 1730 & 921466 & D-2P CKN BX & $\\dots$ \\\\\n",
       "\t27 & 502 & 2021-03-29 00:00:00.000 & 1730 & 710033 & DEL SURCHARGE & $\\dots$ \\\\\n",
       "\t28 & 502 & 2021-03-29 00:00:00.000 & 1730 & 8 & D-eNETS CREDIT & $\\dots$ \\\\\n",
       "\t29 & 502 & 2021-03-29 00:00:00.000 & 1731 & 913299 & D-AO 2 CHZ FRIES-APP & $\\dots$ \\\\\n",
       "\t30 & 502 & 2021-03-29 00:00:00.000 & 1731 & 922023 & D-10 FOR \\$10 & $\\dots$ \\\\\n",
       "\t$\\dots$ & $\\dots$ & $\\dots$ & $\\dots$ & $\\dots$ & $\\dots$ &  \\\\\n",
       "\\end{tabular}\n"
      ],
      "text/plain": [
       "\u001b[1m6859688×12 DataFrame\u001b[0m\n",
       "\u001b[1m     Row \u001b[0m│\u001b[1m storenum \u001b[0m\u001b[1m business_date           \u001b[0m\u001b[1m transaction_key \u001b[0m\u001b[1m item_key \u001b[0m\u001b[1m item_\u001b[0m ⋯\n",
       "\u001b[1m         \u001b[0m│\u001b[90m Int64    \u001b[0m\u001b[90m String                  \u001b[0m\u001b[90m Int64           \u001b[0m\u001b[90m Int64    \u001b[0m\u001b[90m Strin\u001b[0m ⋯\n",
       "─────────┼──────────────────────────────────────────────────────────────────────\n",
       "       1 │      502  2021-03-29 00:00:00.000             1724    916755  D-10P ⋯\n",
       "       2 │      502  2021-03-29 00:00:00.000             1724    710033  DEL S\n",
       "       3 │      502  2021-03-29 00:00:00.000             1724         1  D-CAS\n",
       "       4 │      502  2021-03-29 00:00:00.000             1725    700103  D-3PC\n",
       "       5 │      502  2021-03-29 00:00:00.000             1725    710033  DEL S ⋯\n",
       "       6 │      502  2021-03-29 00:00:00.000             1725         1  D-CAS\n",
       "       7 │      502  2021-03-29 00:00:00.000             1726    710009  D-ZIN\n",
       "       8 │      502  2021-03-29 00:00:00.000             1726    700103  D-3PC\n",
       "       9 │      502  2021-03-29 00:00:00.000             1726    710033  DEL S ⋯\n",
       "      10 │      502  2021-03-29 00:00:00.000             1726         1  D-CAS\n",
       "      11 │      502  2021-03-29 00:00:00.000             1727    922023  D-10\n",
       "    ⋮    │    ⋮                 ⋮                    ⋮            ⋮            ⋱\n",
       " 6859679 │      670  2021-05-07 00:00:00.000             5317    922110  2P(TG\n",
       " 6859680 │      670  2021-05-07 00:00:00.000             5317    450011  RWP>C ⋯\n",
       " 6859681 │      670  2021-05-07 00:00:00.000             5317    914357  1P EG\n",
       " 6859682 │      670  2021-05-07 00:00:00.000             5317         8  D-eNE\n",
       " 6859683 │      670  2021-05-07 00:00:00.000             5318    912781  1 OR\n",
       " 6859684 │      670  2021-05-07 00:00:00.000             5318    450046  RFF>C ⋯\n",
       " 6859685 │      670  2021-05-07 00:00:00.000             5318    914357  1P EG\n",
       " 6859686 │      670  2021-05-07 00:00:00.000             5318         8  D-eNE\n",
       " 6859687 │      670  2021-05-07 00:00:00.000             5319    921046  5P AC\n",
       " 6859688 │      670  2021-05-07 00:00:00.000             5319        15  DI-DB ⋯\n",
       "\u001b[36m                                              8 columns and 6859667 rows omitted\u001b[0m"
      ]
     },
     "execution_count": 142,
     "metadata": {},
     "output_type": "execute_result"
    }
   ],
   "source": [
    "#remove missing values\n",
    "dropmissing!(df)"
   ]
  },
  {
   "cell_type": "code",
   "execution_count": 143,
   "metadata": {
    "scrolled": true
   },
   "outputs": [
    {
     "data": {
      "text/html": [
       "<table class=\"data-frame\"><thead><tr><th></th><th>storenum</th><th>transaction_key</th><th>item_key</th><th>item_description</th><th>transaction_type</th><th>sales_amount</th></tr><tr><th></th><th>Int64</th><th>Int64</th><th>Int64</th><th>String</th><th>String</th><th>Float64</th></tr></thead><tbody><p>6,859,688 rows × 8 columns (omitted printing of 2 columns)</p><tr><th>1</th><td>502</td><td>1724</td><td>916755</td><td>D-10P CKN BKT</td><td>M</td><td>26.9159</td></tr><tr><th>2</th><td>502</td><td>1724</td><td>710033</td><td>DEL SURCHARGE</td><td>M</td><td>3.7383</td></tr><tr><th>3</th><td>502</td><td>1724</td><td>1</td><td>D-CASH</td><td>T</td><td>30.6542</td></tr><tr><th>4</th><td>502</td><td>1725</td><td>700103</td><td>D-3PC ML(OR)</td><td>M</td><td>58.4112</td></tr><tr><th>5</th><td>502</td><td>1725</td><td>710033</td><td>DEL SURCHARGE</td><td>M</td><td>3.7383</td></tr><tr><th>6</th><td>502</td><td>1725</td><td>1</td><td>D-CASH</td><td>T</td><td>62.1495</td></tr><tr><th>7</th><td>502</td><td>1726</td><td>710009</td><td>D-ZINGER</td><td>M</td><td>10.9346</td></tr><tr><th>8</th><td>502</td><td>1726</td><td>700103</td><td>D-3PC ML(OR)</td><td>M</td><td>46.729</td></tr><tr><th>9</th><td>502</td><td>1726</td><td>710033</td><td>DEL SURCHARGE</td><td>M</td><td>3.7383</td></tr><tr><th>10</th><td>502</td><td>1726</td><td>1</td><td>D-CASH</td><td>T</td><td>61.4019</td></tr><tr><th>11</th><td>502</td><td>1727</td><td>922023</td><td>D-10 FOR $10</td><td>M</td><td>9.3458</td></tr><tr><th>12</th><td>502</td><td>1727</td><td>913618</td><td>D-10P CKN 2-5PM</td><td>M</td><td>16.8224</td></tr><tr><th>13</th><td>502</td><td>1727</td><td>710033</td><td>DEL SURCHARGE</td><td>M</td><td>3.7383</td></tr><tr><th>14</th><td>502</td><td>1727</td><td>3</td><td>D-DBS Paylah</td><td>T</td><td>29.9065</td></tr><tr><th>15</th><td>502</td><td>1728</td><td>916137</td><td>D-FM POT BWL</td><td>M</td><td>5.0</td></tr><tr><th>16</th><td>502</td><td>1728</td><td>710018</td><td>D-C/SL MED</td><td>M</td><td>3.4579</td></tr><tr><th>17</th><td>502</td><td>1728</td><td>710021</td><td>D-W/PT MED</td><td>M</td><td>3.4579</td></tr><tr><th>18</th><td>502</td><td>1728</td><td>919893</td><td>D-8P FOR $15</td><td>M</td><td>14.0187</td></tr><tr><th>19</th><td>502</td><td>1728</td><td>710033</td><td>DEL SURCHARGE</td><td>M</td><td>3.7383</td></tr><tr><th>20</th><td>502</td><td>1728</td><td>8</td><td>D-eNETS CREDIT</td><td>T</td><td>29.6729</td></tr><tr><th>21</th><td>502</td><td>1729</td><td>913961</td><td>D-8P VRTY FEAST</td><td>M</td><td>38.271</td></tr><tr><th>22</th><td>502</td><td>1729</td><td>710033</td><td>DEL SURCHARGE</td><td>M</td><td>3.7383</td></tr><tr><th>23</th><td>502</td><td>1729</td><td>8</td><td>D-eNETS CREDIT</td><td>T</td><td>42.0093</td></tr><tr><th>24</th><td>502</td><td>1730</td><td>921466</td><td>D-2P CKN BX</td><td>M</td><td>39.2523</td></tr><tr><th>25</th><td>502</td><td>1730</td><td>921466</td><td>D-2P CKN BX</td><td>M</td><td>39.2523</td></tr><tr><th>26</th><td>502</td><td>1730</td><td>921466</td><td>D-2P CKN BX</td><td>M</td><td>29.4393</td></tr><tr><th>27</th><td>502</td><td>1730</td><td>710033</td><td>DEL SURCHARGE</td><td>M</td><td>3.7383</td></tr><tr><th>28</th><td>502</td><td>1730</td><td>8</td><td>D-eNETS CREDIT</td><td>T</td><td>111.682</td></tr><tr><th>29</th><td>502</td><td>1731</td><td>913299</td><td>D-AO 2 CHZ FRIES-APP</td><td>M</td><td>5.6075</td></tr><tr><th>30</th><td>502</td><td>1731</td><td>922023</td><td>D-10 FOR $10</td><td>M</td><td>9.3458</td></tr><tr><th>&vellip;</th><td>&vellip;</td><td>&vellip;</td><td>&vellip;</td><td>&vellip;</td><td>&vellip;</td><td>&vellip;</td></tr></tbody></table>"
      ],
      "text/latex": [
       "\\begin{tabular}{r|ccccccc}\n",
       "\t& storenum & transaction\\_key & item\\_key & item\\_description & transaction\\_type & sales\\_amount & \\\\\n",
       "\t\\hline\n",
       "\t& Int64 & Int64 & Int64 & String & String & Float64 & \\\\\n",
       "\t\\hline\n",
       "\t1 & 502 & 1724 & 916755 & D-10P CKN BKT & M & 26.9159 & $\\dots$ \\\\\n",
       "\t2 & 502 & 1724 & 710033 & DEL SURCHARGE & M & 3.7383 & $\\dots$ \\\\\n",
       "\t3 & 502 & 1724 & 1 & D-CASH & T & 30.6542 & $\\dots$ \\\\\n",
       "\t4 & 502 & 1725 & 700103 & D-3PC ML(OR) & M & 58.4112 & $\\dots$ \\\\\n",
       "\t5 & 502 & 1725 & 710033 & DEL SURCHARGE & M & 3.7383 & $\\dots$ \\\\\n",
       "\t6 & 502 & 1725 & 1 & D-CASH & T & 62.1495 & $\\dots$ \\\\\n",
       "\t7 & 502 & 1726 & 710009 & D-ZINGER & M & 10.9346 & $\\dots$ \\\\\n",
       "\t8 & 502 & 1726 & 700103 & D-3PC ML(OR) & M & 46.729 & $\\dots$ \\\\\n",
       "\t9 & 502 & 1726 & 710033 & DEL SURCHARGE & M & 3.7383 & $\\dots$ \\\\\n",
       "\t10 & 502 & 1726 & 1 & D-CASH & T & 61.4019 & $\\dots$ \\\\\n",
       "\t11 & 502 & 1727 & 922023 & D-10 FOR \\$10 & M & 9.3458 & $\\dots$ \\\\\n",
       "\t12 & 502 & 1727 & 913618 & D-10P CKN 2-5PM & M & 16.8224 & $\\dots$ \\\\\n",
       "\t13 & 502 & 1727 & 710033 & DEL SURCHARGE & M & 3.7383 & $\\dots$ \\\\\n",
       "\t14 & 502 & 1727 & 3 & D-DBS Paylah & T & 29.9065 & $\\dots$ \\\\\n",
       "\t15 & 502 & 1728 & 916137 & D-FM POT BWL & M & 5.0 & $\\dots$ \\\\\n",
       "\t16 & 502 & 1728 & 710018 & D-C/SL MED & M & 3.4579 & $\\dots$ \\\\\n",
       "\t17 & 502 & 1728 & 710021 & D-W/PT MED & M & 3.4579 & $\\dots$ \\\\\n",
       "\t18 & 502 & 1728 & 919893 & D-8P FOR \\$15 & M & 14.0187 & $\\dots$ \\\\\n",
       "\t19 & 502 & 1728 & 710033 & DEL SURCHARGE & M & 3.7383 & $\\dots$ \\\\\n",
       "\t20 & 502 & 1728 & 8 & D-eNETS CREDIT & T & 29.6729 & $\\dots$ \\\\\n",
       "\t21 & 502 & 1729 & 913961 & D-8P VRTY FEAST & M & 38.271 & $\\dots$ \\\\\n",
       "\t22 & 502 & 1729 & 710033 & DEL SURCHARGE & M & 3.7383 & $\\dots$ \\\\\n",
       "\t23 & 502 & 1729 & 8 & D-eNETS CREDIT & T & 42.0093 & $\\dots$ \\\\\n",
       "\t24 & 502 & 1730 & 921466 & D-2P CKN BX & M & 39.2523 & $\\dots$ \\\\\n",
       "\t25 & 502 & 1730 & 921466 & D-2P CKN BX & M & 39.2523 & $\\dots$ \\\\\n",
       "\t26 & 502 & 1730 & 921466 & D-2P CKN BX & M & 29.4393 & $\\dots$ \\\\\n",
       "\t27 & 502 & 1730 & 710033 & DEL SURCHARGE & M & 3.7383 & $\\dots$ \\\\\n",
       "\t28 & 502 & 1730 & 8 & D-eNETS CREDIT & T & 111.682 & $\\dots$ \\\\\n",
       "\t29 & 502 & 1731 & 913299 & D-AO 2 CHZ FRIES-APP & M & 5.6075 & $\\dots$ \\\\\n",
       "\t30 & 502 & 1731 & 922023 & D-10 FOR \\$10 & M & 9.3458 & $\\dots$ \\\\\n",
       "\t$\\dots$ & $\\dots$ & $\\dots$ & $\\dots$ & $\\dots$ & $\\dots$ & $\\dots$ &  \\\\\n",
       "\\end{tabular}\n"
      ],
      "text/plain": [
       "\u001b[1m6859688×8 DataFrame\u001b[0m\n",
       "\u001b[1m     Row \u001b[0m│\u001b[1m storenum \u001b[0m\u001b[1m transaction_key \u001b[0m\u001b[1m item_key \u001b[0m\u001b[1m item_description \u001b[0m\u001b[1m transaction_\u001b[0m ⋯\n",
       "\u001b[1m         \u001b[0m│\u001b[90m Int64    \u001b[0m\u001b[90m Int64           \u001b[0m\u001b[90m Int64    \u001b[0m\u001b[90m String           \u001b[0m\u001b[90m String      \u001b[0m ⋯\n",
       "─────────┼──────────────────────────────────────────────────────────────────────\n",
       "       1 │      502             1724    916755  D-10P CKN BKT     M            ⋯\n",
       "       2 │      502             1724    710033  DEL SURCHARGE     M\n",
       "       3 │      502             1724         1  D-CASH            T\n",
       "       4 │      502             1725    700103  D-3PC ML(OR)      M\n",
       "       5 │      502             1725    710033  DEL SURCHARGE     M            ⋯\n",
       "       6 │      502             1725         1  D-CASH            T\n",
       "       7 │      502             1726    710009  D-ZINGER          M\n",
       "       8 │      502             1726    700103  D-3PC ML(OR)      M\n",
       "       9 │      502             1726    710033  DEL SURCHARGE     M            ⋯\n",
       "      10 │      502             1726         1  D-CASH            T\n",
       "      11 │      502             1727    922023  D-10 FOR $10      M\n",
       "    ⋮    │    ⋮             ⋮            ⋮             ⋮                 ⋮     ⋱\n",
       " 6859679 │      670             5317    922110  2P(TG) ML         M\n",
       " 6859680 │      670             5317    450011  RWP>CF            M            ⋯\n",
       " 6859681 │      670             5317    914357  1P EGG TART       M\n",
       " 6859682 │      670             5317         8  D-eNETS CREDIT    T\n",
       " 6859683 │      670             5318    912781  1 OR ZNG BX       M\n",
       " 6859684 │      670             5318    450046  RFF>CFRIES        M            ⋯\n",
       " 6859685 │      670             5318    914357  1P EGG TART       M\n",
       " 6859686 │      670             5318         8  D-eNETS CREDIT    T\n",
       " 6859687 │      670             5319    921046  5P ACB 30%        M\n",
       " 6859688 │      670             5319        15  DI-DBS PAYLAH     T            ⋯\n",
       "\u001b[36m                                              4 columns and 6859667 rows omitted\u001b[0m"
      ]
     },
     "execution_count": 143,
     "metadata": {},
     "output_type": "execute_result"
    }
   ],
   "source": [
    "#Considering only useful columns\n",
    "df = df[:,[:storenum,:transaction_key,:item_key,:item_description,:transaction_type,:sales_amount,:sales_channel,:clsd_chk_date_time]]"
   ]
  },
  {
   "cell_type": "code",
   "execution_count": 146,
   "metadata": {
    "scrolled": true
   },
   "outputs": [
    {
     "data": {
      "text/plain": [
       "6859688-element Vector{Any}:\n",
       " \"502_1724_2021-03-29\"\n",
       " \"502_1724_2021-03-29\"\n",
       " \"502_1724_2021-03-29\"\n",
       " \"502_1725_2021-03-29\"\n",
       " \"502_1725_2021-03-29\"\n",
       " \"502_1725_2021-03-29\"\n",
       " \"502_1726_2021-03-29\"\n",
       " \"502_1726_2021-03-29\"\n",
       " \"502_1726_2021-03-29\"\n",
       " \"502_1726_2021-03-29\"\n",
       " \"502_1727_2021-03-29\"\n",
       " \"502_1727_2021-03-29\"\n",
       " \"502_1727_2021-03-29\"\n",
       " ⋮\n",
       " \"670_5316_2021-05-07\"\n",
       " \"670_5316_2021-05-07\"\n",
       " \"670_5317_2021-05-07\"\n",
       " \"670_5317_2021-05-07\"\n",
       " \"670_5317_2021-05-07\"\n",
       " \"670_5317_2021-05-07\"\n",
       " \"670_5318_2021-05-07\"\n",
       " \"670_5318_2021-05-07\"\n",
       " \"670_5318_2021-05-07\"\n",
       " \"670_5318_2021-05-07\"\n",
       " \"670_5319_2021-05-07\"\n",
       " \"670_5319_2021-05-07\""
      ]
     },
     "execution_count": 146,
     "metadata": {},
     "output_type": "execute_result"
    }
   ],
   "source": [
    "#Developing unique key by combining storenum and transaction_key and date\n",
    "ar = []\n",
    "\n",
    "for i in 1:length(df.transaction_key)\n",
    "    push!(ar,string(df.storenum[i])*\"_\"*string(df.transaction_key[i])*\"_\"*string(Dates.Date(string(df.clsd_chk_date_time[i]),\"yyyy-mm-dd HH:MM:SS.s\")))\n",
    "end\n",
    "\n",
    "select!(df,Not(\"transaction_key\"))\n",
    "\n",
    "df.store_transaction_key = ar"
   ]
  },
  {
   "cell_type": "code",
   "execution_count": 147,
   "metadata": {
    "scrolled": true
   },
   "outputs": [
    {
     "data": {
      "text/html": [
       "<table class=\"data-frame\"><thead><tr><th></th><th>storenum</th><th>item_key</th><th>item_description</th><th>transaction_type</th><th>sales_amount</th><th>sales_channel</th></tr><tr><th></th><th>Int64</th><th>Int64</th><th>String</th><th>String</th><th>Float64</th><th>String</th></tr></thead><tbody><p>6,859,688 rows × 9 columns (omitted printing of 3 columns)</p><tr><th>1</th><td>502</td><td>916755</td><td>D-10P CKN BKT</td><td>M</td><td>26.9159</td><td>Online-Delivery</td></tr><tr><th>2</th><td>502</td><td>710033</td><td>DEL SURCHARGE</td><td>M</td><td>3.7383</td><td>Online-Delivery</td></tr><tr><th>3</th><td>502</td><td>1</td><td>D-CASH</td><td>T</td><td>30.6542</td><td>Online-Delivery</td></tr><tr><th>4</th><td>502</td><td>700103</td><td>D-3PC ML(OR)</td><td>M</td><td>58.4112</td><td>Phone-Delivery</td></tr><tr><th>5</th><td>502</td><td>710033</td><td>DEL SURCHARGE</td><td>M</td><td>3.7383</td><td>Phone-Delivery</td></tr><tr><th>6</th><td>502</td><td>1</td><td>D-CASH</td><td>T</td><td>62.1495</td><td>Phone-Delivery</td></tr><tr><th>7</th><td>502</td><td>710009</td><td>D-ZINGER</td><td>M</td><td>10.9346</td><td>Phone-Delivery</td></tr><tr><th>8</th><td>502</td><td>700103</td><td>D-3PC ML(OR)</td><td>M</td><td>46.729</td><td>Phone-Delivery</td></tr><tr><th>9</th><td>502</td><td>710033</td><td>DEL SURCHARGE</td><td>M</td><td>3.7383</td><td>Phone-Delivery</td></tr><tr><th>10</th><td>502</td><td>1</td><td>D-CASH</td><td>T</td><td>61.4019</td><td>Phone-Delivery</td></tr><tr><th>11</th><td>502</td><td>922023</td><td>D-10 FOR $10</td><td>M</td><td>9.3458</td><td>Online-Delivery</td></tr><tr><th>12</th><td>502</td><td>913618</td><td>D-10P CKN 2-5PM</td><td>M</td><td>16.8224</td><td>Online-Delivery</td></tr><tr><th>13</th><td>502</td><td>710033</td><td>DEL SURCHARGE</td><td>M</td><td>3.7383</td><td>Online-Delivery</td></tr><tr><th>14</th><td>502</td><td>3</td><td>D-DBS Paylah</td><td>T</td><td>29.9065</td><td>Online-Delivery</td></tr><tr><th>15</th><td>502</td><td>916137</td><td>D-FM POT BWL</td><td>M</td><td>5.0</td><td>Online-Delivery</td></tr><tr><th>16</th><td>502</td><td>710018</td><td>D-C/SL MED</td><td>M</td><td>3.4579</td><td>Online-Delivery</td></tr><tr><th>17</th><td>502</td><td>710021</td><td>D-W/PT MED</td><td>M</td><td>3.4579</td><td>Online-Delivery</td></tr><tr><th>18</th><td>502</td><td>919893</td><td>D-8P FOR $15</td><td>M</td><td>14.0187</td><td>Online-Delivery</td></tr><tr><th>19</th><td>502</td><td>710033</td><td>DEL SURCHARGE</td><td>M</td><td>3.7383</td><td>Online-Delivery</td></tr><tr><th>20</th><td>502</td><td>8</td><td>D-eNETS CREDIT</td><td>T</td><td>29.6729</td><td>Online-Delivery</td></tr><tr><th>21</th><td>502</td><td>913961</td><td>D-8P VRTY FEAST</td><td>M</td><td>38.271</td><td>Online-Delivery</td></tr><tr><th>22</th><td>502</td><td>710033</td><td>DEL SURCHARGE</td><td>M</td><td>3.7383</td><td>Online-Delivery</td></tr><tr><th>23</th><td>502</td><td>8</td><td>D-eNETS CREDIT</td><td>T</td><td>42.0093</td><td>Online-Delivery</td></tr><tr><th>24</th><td>502</td><td>921466</td><td>D-2P CKN BX</td><td>M</td><td>39.2523</td><td>Online-Delivery</td></tr><tr><th>25</th><td>502</td><td>921466</td><td>D-2P CKN BX</td><td>M</td><td>39.2523</td><td>Online-Delivery</td></tr><tr><th>26</th><td>502</td><td>921466</td><td>D-2P CKN BX</td><td>M</td><td>29.4393</td><td>Online-Delivery</td></tr><tr><th>27</th><td>502</td><td>710033</td><td>DEL SURCHARGE</td><td>M</td><td>3.7383</td><td>Online-Delivery</td></tr><tr><th>28</th><td>502</td><td>8</td><td>D-eNETS CREDIT</td><td>T</td><td>111.682</td><td>Online-Delivery</td></tr><tr><th>29</th><td>502</td><td>913299</td><td>D-AO 2 CHZ FRIES-APP</td><td>M</td><td>5.6075</td><td>Online-Delivery</td></tr><tr><th>30</th><td>502</td><td>922023</td><td>D-10 FOR $10</td><td>M</td><td>9.3458</td><td>Online-Delivery</td></tr><tr><th>&vellip;</th><td>&vellip;</td><td>&vellip;</td><td>&vellip;</td><td>&vellip;</td><td>&vellip;</td><td>&vellip;</td></tr></tbody></table>"
      ],
      "text/latex": [
       "\\begin{tabular}{r|ccccccc}\n",
       "\t& storenum & item\\_key & item\\_description & transaction\\_type & sales\\_amount & sales\\_channel & \\\\\n",
       "\t\\hline\n",
       "\t& Int64 & Int64 & String & String & Float64 & String & \\\\\n",
       "\t\\hline\n",
       "\t1 & 502 & 916755 & D-10P CKN BKT & M & 26.9159 & Online-Delivery & $\\dots$ \\\\\n",
       "\t2 & 502 & 710033 & DEL SURCHARGE & M & 3.7383 & Online-Delivery & $\\dots$ \\\\\n",
       "\t3 & 502 & 1 & D-CASH & T & 30.6542 & Online-Delivery & $\\dots$ \\\\\n",
       "\t4 & 502 & 700103 & D-3PC ML(OR) & M & 58.4112 & Phone-Delivery & $\\dots$ \\\\\n",
       "\t5 & 502 & 710033 & DEL SURCHARGE & M & 3.7383 & Phone-Delivery & $\\dots$ \\\\\n",
       "\t6 & 502 & 1 & D-CASH & T & 62.1495 & Phone-Delivery & $\\dots$ \\\\\n",
       "\t7 & 502 & 710009 & D-ZINGER & M & 10.9346 & Phone-Delivery & $\\dots$ \\\\\n",
       "\t8 & 502 & 700103 & D-3PC ML(OR) & M & 46.729 & Phone-Delivery & $\\dots$ \\\\\n",
       "\t9 & 502 & 710033 & DEL SURCHARGE & M & 3.7383 & Phone-Delivery & $\\dots$ \\\\\n",
       "\t10 & 502 & 1 & D-CASH & T & 61.4019 & Phone-Delivery & $\\dots$ \\\\\n",
       "\t11 & 502 & 922023 & D-10 FOR \\$10 & M & 9.3458 & Online-Delivery & $\\dots$ \\\\\n",
       "\t12 & 502 & 913618 & D-10P CKN 2-5PM & M & 16.8224 & Online-Delivery & $\\dots$ \\\\\n",
       "\t13 & 502 & 710033 & DEL SURCHARGE & M & 3.7383 & Online-Delivery & $\\dots$ \\\\\n",
       "\t14 & 502 & 3 & D-DBS Paylah & T & 29.9065 & Online-Delivery & $\\dots$ \\\\\n",
       "\t15 & 502 & 916137 & D-FM POT BWL & M & 5.0 & Online-Delivery & $\\dots$ \\\\\n",
       "\t16 & 502 & 710018 & D-C/SL MED & M & 3.4579 & Online-Delivery & $\\dots$ \\\\\n",
       "\t17 & 502 & 710021 & D-W/PT MED & M & 3.4579 & Online-Delivery & $\\dots$ \\\\\n",
       "\t18 & 502 & 919893 & D-8P FOR \\$15 & M & 14.0187 & Online-Delivery & $\\dots$ \\\\\n",
       "\t19 & 502 & 710033 & DEL SURCHARGE & M & 3.7383 & Online-Delivery & $\\dots$ \\\\\n",
       "\t20 & 502 & 8 & D-eNETS CREDIT & T & 29.6729 & Online-Delivery & $\\dots$ \\\\\n",
       "\t21 & 502 & 913961 & D-8P VRTY FEAST & M & 38.271 & Online-Delivery & $\\dots$ \\\\\n",
       "\t22 & 502 & 710033 & DEL SURCHARGE & M & 3.7383 & Online-Delivery & $\\dots$ \\\\\n",
       "\t23 & 502 & 8 & D-eNETS CREDIT & T & 42.0093 & Online-Delivery & $\\dots$ \\\\\n",
       "\t24 & 502 & 921466 & D-2P CKN BX & M & 39.2523 & Online-Delivery & $\\dots$ \\\\\n",
       "\t25 & 502 & 921466 & D-2P CKN BX & M & 39.2523 & Online-Delivery & $\\dots$ \\\\\n",
       "\t26 & 502 & 921466 & D-2P CKN BX & M & 29.4393 & Online-Delivery & $\\dots$ \\\\\n",
       "\t27 & 502 & 710033 & DEL SURCHARGE & M & 3.7383 & Online-Delivery & $\\dots$ \\\\\n",
       "\t28 & 502 & 8 & D-eNETS CREDIT & T & 111.682 & Online-Delivery & $\\dots$ \\\\\n",
       "\t29 & 502 & 913299 & D-AO 2 CHZ FRIES-APP & M & 5.6075 & Online-Delivery & $\\dots$ \\\\\n",
       "\t30 & 502 & 922023 & D-10 FOR \\$10 & M & 9.3458 & Online-Delivery & $\\dots$ \\\\\n",
       "\t$\\dots$ & $\\dots$ & $\\dots$ & $\\dots$ & $\\dots$ & $\\dots$ & $\\dots$ &  \\\\\n",
       "\\end{tabular}\n"
      ],
      "text/plain": [
       "\u001b[1m6859688×9 DataFrame\u001b[0m\n",
       "\u001b[1m     Row \u001b[0m│\u001b[1m storenum \u001b[0m\u001b[1m item_key \u001b[0m\u001b[1m item_description \u001b[0m\u001b[1m transaction_type \u001b[0m\u001b[1m sales_amoun\u001b[0m ⋯\n",
       "\u001b[1m         \u001b[0m│\u001b[90m Int64    \u001b[0m\u001b[90m Int64    \u001b[0m\u001b[90m String           \u001b[0m\u001b[90m String           \u001b[0m\u001b[90m Float64    \u001b[0m ⋯\n",
       "─────────┼──────────────────────────────────────────────────────────────────────\n",
       "       1 │      502    916755  D-10P CKN BKT     M                    26.9159  ⋯\n",
       "       2 │      502    710033  DEL SURCHARGE     M                     3.7383\n",
       "       3 │      502         1  D-CASH            T                    30.6542\n",
       "       4 │      502    700103  D-3PC ML(OR)      M                    58.4112\n",
       "       5 │      502    710033  DEL SURCHARGE     M                     3.7383  ⋯\n",
       "       6 │      502         1  D-CASH            T                    62.1495\n",
       "       7 │      502    710009  D-ZINGER          M                    10.9346\n",
       "       8 │      502    700103  D-3PC ML(OR)      M                    46.729\n",
       "       9 │      502    710033  DEL SURCHARGE     M                     3.7383  ⋯\n",
       "      10 │      502         1  D-CASH            T                    61.4019\n",
       "      11 │      502    922023  D-10 FOR $10      M                     9.3458\n",
       "    ⋮    │    ⋮         ⋮             ⋮                 ⋮               ⋮      ⋱\n",
       " 6859679 │      670    922110  2P(TG) ML         M                     8.3645\n",
       " 6859680 │      670    450011  RWP>CF            M                     2.0561  ⋯\n",
       " 6859681 │      670    914357  1P EGG TART       M                     1.215\n",
       " 6859682 │      670         8  D-eNETS CREDIT    T                    11.6355\n",
       " 6859683 │      670    912781  1 OR ZNG BX       M                     8.5514\n",
       " 6859684 │      670    450046  RFF>CFRIES        M                     1.8692  ⋯\n",
       " 6859685 │      670    914357  1P EGG TART       M                     1.215\n",
       " 6859686 │      670         8  D-eNETS CREDIT    T                    11.6355\n",
       " 6859687 │      670    921046  5P ACB 30%        M                     9.6262\n",
       " 6859688 │      670        15  DI-DBS PAYLAH     T                     9.62617 ⋯\n",
       "\u001b[36m                                              5 columns and 6859667 rows omitted\u001b[0m"
      ]
     },
     "execution_count": 147,
     "metadata": {},
     "output_type": "execute_result"
    }
   ],
   "source": [
    "#Placing particular daypart\n",
    "label = []\n",
    "week_label = []\n",
    "\n",
    "for i in 1:length(df.storenum)\n",
    "    \n",
    "    #Considering weektime\n",
    "    day = Dates.dayofweek(Dates.Date(string(df.clsd_chk_date_time[i]),\"yyyy-mm-dd HH:MM:SS.s\"))\n",
    "    if day>=1&&day<=5\n",
    "        push!(week_label,\"Weekday\")\n",
    "    else\n",
    "        push!(week_label,\"Weekend\")\n",
    "    end\n",
    "    \n",
    "    #Considering daytime\n",
    "    temp = Dates.DateTime(string(df.clsd_chk_date_time[i]),\"yyyy-mm-dd HH:MM:SS.s\")\n",
    "    hr = Dates.hour(temp)\n",
    "    if hr>=0&&hr<12\n",
    "        push!(label,\"Breakfast\")\n",
    "    elseif hr>=12&&hr<18\n",
    "        push!(label,\"Lunch\")\n",
    "    else\n",
    "        push!(label,\"Dinner\")\n",
    "    end\n",
    "    \n",
    "end\n",
    "\n",
    "df.weektime = week_label\n",
    "df.daytime = label\n",
    "\n",
    "select!(df,Not(\"clsd_chk_date_time\"))"
   ]
  },
  {
   "cell_type": "code",
   "execution_count": 148,
   "metadata": {
    "scrolled": true
   },
   "outputs": [
    {
     "data": {
      "text/plain": [
       "6859688-element Vector{Any}:\n",
       " \"Breakfast_Weekday\"\n",
       " \"Breakfast_Weekday\"\n",
       " \"Breakfast_Weekday\"\n",
       " \"Breakfast_Weekday\"\n",
       " \"Breakfast_Weekday\"\n",
       " \"Breakfast_Weekday\"\n",
       " \"Breakfast_Weekday\"\n",
       " \"Breakfast_Weekday\"\n",
       " \"Breakfast_Weekday\"\n",
       " \"Breakfast_Weekday\"\n",
       " \"Breakfast_Weekday\"\n",
       " \"Breakfast_Weekday\"\n",
       " \"Breakfast_Weekday\"\n",
       " ⋮\n",
       " \"Lunch_Weekday\"\n",
       " \"Lunch_Weekday\"\n",
       " \"Dinner_Weekday\"\n",
       " \"Dinner_Weekday\"\n",
       " \"Dinner_Weekday\"\n",
       " \"Dinner_Weekday\"\n",
       " \"Dinner_Weekday\"\n",
       " \"Dinner_Weekday\"\n",
       " \"Dinner_Weekday\"\n",
       " \"Dinner_Weekday\"\n",
       " \"Dinner_Weekday\"\n",
       " \"Dinner_Weekday\""
      ]
     },
     "execution_count": 148,
     "metadata": {},
     "output_type": "execute_result"
    }
   ],
   "source": [
    "#Considering daypart\n",
    "daypart = []\n",
    "\n",
    "for i in 1:length(df.storenum)\n",
    "    push!(daypart,string(df.daytime[i])*\"_\"*string(df.weektime[i]))\n",
    "end\n",
    "\n",
    "df.daypart = daypart"
   ]
  },
  {
   "cell_type": "code",
   "execution_count": 156,
   "metadata": {},
   "outputs": [
    {
     "data": {
      "text/plain": [
       "\"Dataset1.csv\""
      ]
     },
     "execution_count": 156,
     "metadata": {},
     "output_type": "execute_result"
    }
   ],
   "source": [
    "#save the dataset\n",
    "CSV.write(\"Dataset1.csv\",df)"
   ]
  },
  {
   "cell_type": "code",
   "execution_count": 2,
   "metadata": {
    "scrolled": true
   },
   "outputs": [
    {
     "data": {
      "text/html": [
       "<table class=\"data-frame\"><thead><tr><th></th><th>storenum</th><th>item_key</th><th>item_description</th><th>transaction_type</th><th>sales_amount</th><th>sales_channel</th></tr><tr><th></th><th>Int64</th><th>Int64</th><th>String</th><th>String</th><th>Float64</th><th>String</th></tr></thead><tbody><p>6,859,688 rows × 10 columns (omitted printing of 4 columns)</p><tr><th>1</th><td>502</td><td>916755</td><td>D-10P CKN BKT</td><td>M</td><td>26.9159</td><td>Online-Delivery</td></tr><tr><th>2</th><td>502</td><td>710033</td><td>DEL SURCHARGE</td><td>M</td><td>3.7383</td><td>Online-Delivery</td></tr><tr><th>3</th><td>502</td><td>1</td><td>D-CASH</td><td>T</td><td>30.6542</td><td>Online-Delivery</td></tr><tr><th>4</th><td>502</td><td>700103</td><td>D-3PC ML(OR)</td><td>M</td><td>58.4112</td><td>Phone-Delivery</td></tr><tr><th>5</th><td>502</td><td>710033</td><td>DEL SURCHARGE</td><td>M</td><td>3.7383</td><td>Phone-Delivery</td></tr><tr><th>6</th><td>502</td><td>1</td><td>D-CASH</td><td>T</td><td>62.1495</td><td>Phone-Delivery</td></tr><tr><th>7</th><td>502</td><td>710009</td><td>D-ZINGER</td><td>M</td><td>10.9346</td><td>Phone-Delivery</td></tr><tr><th>8</th><td>502</td><td>700103</td><td>D-3PC ML(OR)</td><td>M</td><td>46.729</td><td>Phone-Delivery</td></tr><tr><th>9</th><td>502</td><td>710033</td><td>DEL SURCHARGE</td><td>M</td><td>3.7383</td><td>Phone-Delivery</td></tr><tr><th>10</th><td>502</td><td>1</td><td>D-CASH</td><td>T</td><td>61.4019</td><td>Phone-Delivery</td></tr><tr><th>11</th><td>502</td><td>922023</td><td>D-10 FOR $10</td><td>M</td><td>9.3458</td><td>Online-Delivery</td></tr><tr><th>12</th><td>502</td><td>913618</td><td>D-10P CKN 2-5PM</td><td>M</td><td>16.8224</td><td>Online-Delivery</td></tr><tr><th>13</th><td>502</td><td>710033</td><td>DEL SURCHARGE</td><td>M</td><td>3.7383</td><td>Online-Delivery</td></tr><tr><th>14</th><td>502</td><td>3</td><td>D-DBS Paylah</td><td>T</td><td>29.9065</td><td>Online-Delivery</td></tr><tr><th>15</th><td>502</td><td>916137</td><td>D-FM POT BWL</td><td>M</td><td>5.0</td><td>Online-Delivery</td></tr><tr><th>16</th><td>502</td><td>710018</td><td>D-C/SL MED</td><td>M</td><td>3.4579</td><td>Online-Delivery</td></tr><tr><th>17</th><td>502</td><td>710021</td><td>D-W/PT MED</td><td>M</td><td>3.4579</td><td>Online-Delivery</td></tr><tr><th>18</th><td>502</td><td>919893</td><td>D-8P FOR $15</td><td>M</td><td>14.0187</td><td>Online-Delivery</td></tr><tr><th>19</th><td>502</td><td>710033</td><td>DEL SURCHARGE</td><td>M</td><td>3.7383</td><td>Online-Delivery</td></tr><tr><th>20</th><td>502</td><td>8</td><td>D-eNETS CREDIT</td><td>T</td><td>29.6729</td><td>Online-Delivery</td></tr><tr><th>21</th><td>502</td><td>913961</td><td>D-8P VRTY FEAST</td><td>M</td><td>38.271</td><td>Online-Delivery</td></tr><tr><th>22</th><td>502</td><td>710033</td><td>DEL SURCHARGE</td><td>M</td><td>3.7383</td><td>Online-Delivery</td></tr><tr><th>23</th><td>502</td><td>8</td><td>D-eNETS CREDIT</td><td>T</td><td>42.0093</td><td>Online-Delivery</td></tr><tr><th>24</th><td>502</td><td>921466</td><td>D-2P CKN BX</td><td>M</td><td>39.2523</td><td>Online-Delivery</td></tr><tr><th>25</th><td>502</td><td>921466</td><td>D-2P CKN BX</td><td>M</td><td>39.2523</td><td>Online-Delivery</td></tr><tr><th>26</th><td>502</td><td>921466</td><td>D-2P CKN BX</td><td>M</td><td>29.4393</td><td>Online-Delivery</td></tr><tr><th>27</th><td>502</td><td>710033</td><td>DEL SURCHARGE</td><td>M</td><td>3.7383</td><td>Online-Delivery</td></tr><tr><th>28</th><td>502</td><td>8</td><td>D-eNETS CREDIT</td><td>T</td><td>111.682</td><td>Online-Delivery</td></tr><tr><th>29</th><td>502</td><td>913299</td><td>D-AO 2 CHZ FRIES-APP</td><td>M</td><td>5.6075</td><td>Online-Delivery</td></tr><tr><th>30</th><td>502</td><td>922023</td><td>D-10 FOR $10</td><td>M</td><td>9.3458</td><td>Online-Delivery</td></tr><tr><th>&vellip;</th><td>&vellip;</td><td>&vellip;</td><td>&vellip;</td><td>&vellip;</td><td>&vellip;</td><td>&vellip;</td></tr></tbody></table>"
      ],
      "text/latex": [
       "\\begin{tabular}{r|ccccccc}\n",
       "\t& storenum & item\\_key & item\\_description & transaction\\_type & sales\\_amount & sales\\_channel & \\\\\n",
       "\t\\hline\n",
       "\t& Int64 & Int64 & String & String & Float64 & String & \\\\\n",
       "\t\\hline\n",
       "\t1 & 502 & 916755 & D-10P CKN BKT & M & 26.9159 & Online-Delivery & $\\dots$ \\\\\n",
       "\t2 & 502 & 710033 & DEL SURCHARGE & M & 3.7383 & Online-Delivery & $\\dots$ \\\\\n",
       "\t3 & 502 & 1 & D-CASH & T & 30.6542 & Online-Delivery & $\\dots$ \\\\\n",
       "\t4 & 502 & 700103 & D-3PC ML(OR) & M & 58.4112 & Phone-Delivery & $\\dots$ \\\\\n",
       "\t5 & 502 & 710033 & DEL SURCHARGE & M & 3.7383 & Phone-Delivery & $\\dots$ \\\\\n",
       "\t6 & 502 & 1 & D-CASH & T & 62.1495 & Phone-Delivery & $\\dots$ \\\\\n",
       "\t7 & 502 & 710009 & D-ZINGER & M & 10.9346 & Phone-Delivery & $\\dots$ \\\\\n",
       "\t8 & 502 & 700103 & D-3PC ML(OR) & M & 46.729 & Phone-Delivery & $\\dots$ \\\\\n",
       "\t9 & 502 & 710033 & DEL SURCHARGE & M & 3.7383 & Phone-Delivery & $\\dots$ \\\\\n",
       "\t10 & 502 & 1 & D-CASH & T & 61.4019 & Phone-Delivery & $\\dots$ \\\\\n",
       "\t11 & 502 & 922023 & D-10 FOR \\$10 & M & 9.3458 & Online-Delivery & $\\dots$ \\\\\n",
       "\t12 & 502 & 913618 & D-10P CKN 2-5PM & M & 16.8224 & Online-Delivery & $\\dots$ \\\\\n",
       "\t13 & 502 & 710033 & DEL SURCHARGE & M & 3.7383 & Online-Delivery & $\\dots$ \\\\\n",
       "\t14 & 502 & 3 & D-DBS Paylah & T & 29.9065 & Online-Delivery & $\\dots$ \\\\\n",
       "\t15 & 502 & 916137 & D-FM POT BWL & M & 5.0 & Online-Delivery & $\\dots$ \\\\\n",
       "\t16 & 502 & 710018 & D-C/SL MED & M & 3.4579 & Online-Delivery & $\\dots$ \\\\\n",
       "\t17 & 502 & 710021 & D-W/PT MED & M & 3.4579 & Online-Delivery & $\\dots$ \\\\\n",
       "\t18 & 502 & 919893 & D-8P FOR \\$15 & M & 14.0187 & Online-Delivery & $\\dots$ \\\\\n",
       "\t19 & 502 & 710033 & DEL SURCHARGE & M & 3.7383 & Online-Delivery & $\\dots$ \\\\\n",
       "\t20 & 502 & 8 & D-eNETS CREDIT & T & 29.6729 & Online-Delivery & $\\dots$ \\\\\n",
       "\t21 & 502 & 913961 & D-8P VRTY FEAST & M & 38.271 & Online-Delivery & $\\dots$ \\\\\n",
       "\t22 & 502 & 710033 & DEL SURCHARGE & M & 3.7383 & Online-Delivery & $\\dots$ \\\\\n",
       "\t23 & 502 & 8 & D-eNETS CREDIT & T & 42.0093 & Online-Delivery & $\\dots$ \\\\\n",
       "\t24 & 502 & 921466 & D-2P CKN BX & M & 39.2523 & Online-Delivery & $\\dots$ \\\\\n",
       "\t25 & 502 & 921466 & D-2P CKN BX & M & 39.2523 & Online-Delivery & $\\dots$ \\\\\n",
       "\t26 & 502 & 921466 & D-2P CKN BX & M & 29.4393 & Online-Delivery & $\\dots$ \\\\\n",
       "\t27 & 502 & 710033 & DEL SURCHARGE & M & 3.7383 & Online-Delivery & $\\dots$ \\\\\n",
       "\t28 & 502 & 8 & D-eNETS CREDIT & T & 111.682 & Online-Delivery & $\\dots$ \\\\\n",
       "\t29 & 502 & 913299 & D-AO 2 CHZ FRIES-APP & M & 5.6075 & Online-Delivery & $\\dots$ \\\\\n",
       "\t30 & 502 & 922023 & D-10 FOR \\$10 & M & 9.3458 & Online-Delivery & $\\dots$ \\\\\n",
       "\t$\\dots$ & $\\dots$ & $\\dots$ & $\\dots$ & $\\dots$ & $\\dots$ & $\\dots$ &  \\\\\n",
       "\\end{tabular}\n"
      ],
      "text/plain": [
       "\u001b[1m6859688×10 DataFrame\u001b[0m\n",
       "\u001b[1m     Row \u001b[0m│\u001b[1m storenum \u001b[0m\u001b[1m item_key \u001b[0m\u001b[1m item_description \u001b[0m\u001b[1m transaction_type \u001b[0m\u001b[1m sales_amoun\u001b[0m ⋯\n",
       "\u001b[1m         \u001b[0m│\u001b[90m Int64    \u001b[0m\u001b[90m Int64    \u001b[0m\u001b[90m String           \u001b[0m\u001b[90m String           \u001b[0m\u001b[90m Float64    \u001b[0m ⋯\n",
       "─────────┼──────────────────────────────────────────────────────────────────────\n",
       "       1 │      502    916755  D-10P CKN BKT     M                    26.9159  ⋯\n",
       "       2 │      502    710033  DEL SURCHARGE     M                     3.7383\n",
       "       3 │      502         1  D-CASH            T                    30.6542\n",
       "       4 │      502    700103  D-3PC ML(OR)      M                    58.4112\n",
       "       5 │      502    710033  DEL SURCHARGE     M                     3.7383  ⋯\n",
       "       6 │      502         1  D-CASH            T                    62.1495\n",
       "       7 │      502    710009  D-ZINGER          M                    10.9346\n",
       "       8 │      502    700103  D-3PC ML(OR)      M                    46.729\n",
       "       9 │      502    710033  DEL SURCHARGE     M                     3.7383  ⋯\n",
       "      10 │      502         1  D-CASH            T                    61.4019\n",
       "      11 │      502    922023  D-10 FOR $10      M                     9.3458\n",
       "    ⋮    │    ⋮         ⋮             ⋮                 ⋮               ⋮      ⋱\n",
       " 6859679 │      670    922110  2P(TG) ML         M                     8.3645\n",
       " 6859680 │      670    450011  RWP>CF            M                     2.0561  ⋯\n",
       " 6859681 │      670    914357  1P EGG TART       M                     1.215\n",
       " 6859682 │      670         8  D-eNETS CREDIT    T                    11.6355\n",
       " 6859683 │      670    912781  1 OR ZNG BX       M                     8.5514\n",
       " 6859684 │      670    450046  RFF>CFRIES        M                     1.8692  ⋯\n",
       " 6859685 │      670    914357  1P EGG TART       M                     1.215\n",
       " 6859686 │      670         8  D-eNETS CREDIT    T                    11.6355\n",
       " 6859687 │      670    921046  5P ACB 30%        M                     9.6262\n",
       " 6859688 │      670        15  DI-DBS PAYLAH     T                     9.62617 ⋯\n",
       "\u001b[36m                                              6 columns and 6859667 rows omitted\u001b[0m"
      ]
     },
     "execution_count": 2,
     "metadata": {},
     "output_type": "execute_result"
    }
   ],
   "source": [
    "df = DataFrame(CSV.File(\"Dataset1.csv\"))"
   ]
  },
  {
   "cell_type": "code",
   "execution_count": null,
   "metadata": {},
   "outputs": [],
   "source": [
    "#grouping by transaction type\n",
    "grp = groupby(df, :transaction_type)"
   ]
  },
  {
   "cell_type": "code",
   "execution_count": 4,
   "metadata": {
    "scrolled": true
   },
   "outputs": [
    {
     "data": {
      "text/html": [
       "<table class=\"data-frame\"><thead><tr><th></th><th>storenum</th><th>item_key</th><th>item_description</th><th>transaction_type</th><th>sales_amount</th><th>sales_channel</th></tr><tr><th></th><th>Int64</th><th>Int64</th><th>String</th><th>String</th><th>Float64</th><th>String</th></tr></thead><tbody><p>5,214,325 rows × 10 columns (omitted printing of 4 columns)</p><tr><th>1</th><td>502</td><td>916755</td><td>D-10P CKN BKT</td><td>M</td><td>26.9159</td><td>Online-Delivery</td></tr><tr><th>2</th><td>502</td><td>710033</td><td>DEL SURCHARGE</td><td>M</td><td>3.7383</td><td>Online-Delivery</td></tr><tr><th>3</th><td>502</td><td>700103</td><td>D-3PC ML(OR)</td><td>M</td><td>58.4112</td><td>Phone-Delivery</td></tr><tr><th>4</th><td>502</td><td>710033</td><td>DEL SURCHARGE</td><td>M</td><td>3.7383</td><td>Phone-Delivery</td></tr><tr><th>5</th><td>502</td><td>710009</td><td>D-ZINGER</td><td>M</td><td>10.9346</td><td>Phone-Delivery</td></tr><tr><th>6</th><td>502</td><td>700103</td><td>D-3PC ML(OR)</td><td>M</td><td>46.729</td><td>Phone-Delivery</td></tr><tr><th>7</th><td>502</td><td>710033</td><td>DEL SURCHARGE</td><td>M</td><td>3.7383</td><td>Phone-Delivery</td></tr><tr><th>8</th><td>502</td><td>922023</td><td>D-10 FOR $10</td><td>M</td><td>9.3458</td><td>Online-Delivery</td></tr><tr><th>9</th><td>502</td><td>913618</td><td>D-10P CKN 2-5PM</td><td>M</td><td>16.8224</td><td>Online-Delivery</td></tr><tr><th>10</th><td>502</td><td>710033</td><td>DEL SURCHARGE</td><td>M</td><td>3.7383</td><td>Online-Delivery</td></tr><tr><th>11</th><td>502</td><td>916137</td><td>D-FM POT BWL</td><td>M</td><td>5.0</td><td>Online-Delivery</td></tr><tr><th>12</th><td>502</td><td>710018</td><td>D-C/SL MED</td><td>M</td><td>3.4579</td><td>Online-Delivery</td></tr><tr><th>13</th><td>502</td><td>710021</td><td>D-W/PT MED</td><td>M</td><td>3.4579</td><td>Online-Delivery</td></tr><tr><th>14</th><td>502</td><td>919893</td><td>D-8P FOR $15</td><td>M</td><td>14.0187</td><td>Online-Delivery</td></tr><tr><th>15</th><td>502</td><td>710033</td><td>DEL SURCHARGE</td><td>M</td><td>3.7383</td><td>Online-Delivery</td></tr><tr><th>16</th><td>502</td><td>913961</td><td>D-8P VRTY FEAST</td><td>M</td><td>38.271</td><td>Online-Delivery</td></tr><tr><th>17</th><td>502</td><td>710033</td><td>DEL SURCHARGE</td><td>M</td><td>3.7383</td><td>Online-Delivery</td></tr><tr><th>18</th><td>502</td><td>921466</td><td>D-2P CKN BX</td><td>M</td><td>39.2523</td><td>Online-Delivery</td></tr><tr><th>19</th><td>502</td><td>921466</td><td>D-2P CKN BX</td><td>M</td><td>39.2523</td><td>Online-Delivery</td></tr><tr><th>20</th><td>502</td><td>921466</td><td>D-2P CKN BX</td><td>M</td><td>29.4393</td><td>Online-Delivery</td></tr><tr><th>21</th><td>502</td><td>710033</td><td>DEL SURCHARGE</td><td>M</td><td>3.7383</td><td>Online-Delivery</td></tr><tr><th>22</th><td>502</td><td>913299</td><td>D-AO 2 CHZ FRIES-APP</td><td>M</td><td>5.6075</td><td>Online-Delivery</td></tr><tr><th>23</th><td>502</td><td>922023</td><td>D-10 FOR $10</td><td>M</td><td>9.3458</td><td>Online-Delivery</td></tr><tr><th>24</th><td>502</td><td>710033</td><td>DEL SURCHARGE</td><td>M</td><td>3.7383</td><td>Online-Delivery</td></tr><tr><th>25</th><td>502</td><td>921474</td><td>D-ZNGBX+2P CKN BX</td><td>M</td><td>15.1402</td><td>Online-Delivery</td></tr><tr><th>26</th><td>502</td><td>916131</td><td>D-1P CRY BWL ML</td><td>M</td><td>7.9907</td><td>Online-Delivery</td></tr><tr><th>27</th><td>502</td><td>912754</td><td>D-1P ZNG BOX</td><td>M</td><td>10.2336</td><td>Online-Delivery</td></tr><tr><th>28</th><td>502</td><td>710033</td><td>DEL SURCHARGE</td><td>M</td><td>3.7383</td><td>Online-Delivery</td></tr><tr><th>29</th><td>502</td><td>916759</td><td>D-ALA SNACK N SHARE BX  </td><td>M</td><td>12.1028</td><td>Online-Delivery</td></tr><tr><th>30</th><td>502</td><td>922023</td><td>D-10 FOR $10</td><td>M</td><td>9.3458</td><td>Online-Delivery</td></tr><tr><th>&vellip;</th><td>&vellip;</td><td>&vellip;</td><td>&vellip;</td><td>&vellip;</td><td>&vellip;</td><td>&vellip;</td></tr></tbody></table>"
      ],
      "text/latex": [
       "\\begin{tabular}{r|ccccccc}\n",
       "\t& storenum & item\\_key & item\\_description & transaction\\_type & sales\\_amount & sales\\_channel & \\\\\n",
       "\t\\hline\n",
       "\t& Int64 & Int64 & String & String & Float64 & String & \\\\\n",
       "\t\\hline\n",
       "\t1 & 502 & 916755 & D-10P CKN BKT & M & 26.9159 & Online-Delivery & $\\dots$ \\\\\n",
       "\t2 & 502 & 710033 & DEL SURCHARGE & M & 3.7383 & Online-Delivery & $\\dots$ \\\\\n",
       "\t3 & 502 & 700103 & D-3PC ML(OR) & M & 58.4112 & Phone-Delivery & $\\dots$ \\\\\n",
       "\t4 & 502 & 710033 & DEL SURCHARGE & M & 3.7383 & Phone-Delivery & $\\dots$ \\\\\n",
       "\t5 & 502 & 710009 & D-ZINGER & M & 10.9346 & Phone-Delivery & $\\dots$ \\\\\n",
       "\t6 & 502 & 700103 & D-3PC ML(OR) & M & 46.729 & Phone-Delivery & $\\dots$ \\\\\n",
       "\t7 & 502 & 710033 & DEL SURCHARGE & M & 3.7383 & Phone-Delivery & $\\dots$ \\\\\n",
       "\t8 & 502 & 922023 & D-10 FOR \\$10 & M & 9.3458 & Online-Delivery & $\\dots$ \\\\\n",
       "\t9 & 502 & 913618 & D-10P CKN 2-5PM & M & 16.8224 & Online-Delivery & $\\dots$ \\\\\n",
       "\t10 & 502 & 710033 & DEL SURCHARGE & M & 3.7383 & Online-Delivery & $\\dots$ \\\\\n",
       "\t11 & 502 & 916137 & D-FM POT BWL & M & 5.0 & Online-Delivery & $\\dots$ \\\\\n",
       "\t12 & 502 & 710018 & D-C/SL MED & M & 3.4579 & Online-Delivery & $\\dots$ \\\\\n",
       "\t13 & 502 & 710021 & D-W/PT MED & M & 3.4579 & Online-Delivery & $\\dots$ \\\\\n",
       "\t14 & 502 & 919893 & D-8P FOR \\$15 & M & 14.0187 & Online-Delivery & $\\dots$ \\\\\n",
       "\t15 & 502 & 710033 & DEL SURCHARGE & M & 3.7383 & Online-Delivery & $\\dots$ \\\\\n",
       "\t16 & 502 & 913961 & D-8P VRTY FEAST & M & 38.271 & Online-Delivery & $\\dots$ \\\\\n",
       "\t17 & 502 & 710033 & DEL SURCHARGE & M & 3.7383 & Online-Delivery & $\\dots$ \\\\\n",
       "\t18 & 502 & 921466 & D-2P CKN BX & M & 39.2523 & Online-Delivery & $\\dots$ \\\\\n",
       "\t19 & 502 & 921466 & D-2P CKN BX & M & 39.2523 & Online-Delivery & $\\dots$ \\\\\n",
       "\t20 & 502 & 921466 & D-2P CKN BX & M & 29.4393 & Online-Delivery & $\\dots$ \\\\\n",
       "\t21 & 502 & 710033 & DEL SURCHARGE & M & 3.7383 & Online-Delivery & $\\dots$ \\\\\n",
       "\t22 & 502 & 913299 & D-AO 2 CHZ FRIES-APP & M & 5.6075 & Online-Delivery & $\\dots$ \\\\\n",
       "\t23 & 502 & 922023 & D-10 FOR \\$10 & M & 9.3458 & Online-Delivery & $\\dots$ \\\\\n",
       "\t24 & 502 & 710033 & DEL SURCHARGE & M & 3.7383 & Online-Delivery & $\\dots$ \\\\\n",
       "\t25 & 502 & 921474 & D-ZNGBX+2P CKN BX & M & 15.1402 & Online-Delivery & $\\dots$ \\\\\n",
       "\t26 & 502 & 916131 & D-1P CRY BWL ML & M & 7.9907 & Online-Delivery & $\\dots$ \\\\\n",
       "\t27 & 502 & 912754 & D-1P ZNG BOX & M & 10.2336 & Online-Delivery & $\\dots$ \\\\\n",
       "\t28 & 502 & 710033 & DEL SURCHARGE & M & 3.7383 & Online-Delivery & $\\dots$ \\\\\n",
       "\t29 & 502 & 916759 & D-ALA SNACK N SHARE BX   & M & 12.1028 & Online-Delivery & $\\dots$ \\\\\n",
       "\t30 & 502 & 922023 & D-10 FOR \\$10 & M & 9.3458 & Online-Delivery & $\\dots$ \\\\\n",
       "\t$\\dots$ & $\\dots$ & $\\dots$ & $\\dots$ & $\\dots$ & $\\dots$ & $\\dots$ &  \\\\\n",
       "\\end{tabular}\n"
      ],
      "text/plain": [
       "\u001b[1m5214325×10 SubDataFrame\u001b[0m\n",
       "\u001b[1m     Row \u001b[0m│\u001b[1m storenum \u001b[0m\u001b[1m item_key \u001b[0m\u001b[1m item_description \u001b[0m\u001b[1m transaction_type \u001b[0m\u001b[1m sales_amoun\u001b[0m ⋯\n",
       "\u001b[1m         \u001b[0m│\u001b[90m Int64    \u001b[0m\u001b[90m Int64    \u001b[0m\u001b[90m String           \u001b[0m\u001b[90m String           \u001b[0m\u001b[90m Float64    \u001b[0m ⋯\n",
       "─────────┼──────────────────────────────────────────────────────────────────────\n",
       "       1 │      502    916755  D-10P CKN BKT     M                      26.915 ⋯\n",
       "       2 │      502    710033  DEL SURCHARGE     M                       3.738\n",
       "       3 │      502    700103  D-3PC ML(OR)      M                      58.411\n",
       "       4 │      502    710033  DEL SURCHARGE     M                       3.738\n",
       "       5 │      502    710009  D-ZINGER          M                      10.934 ⋯\n",
       "       6 │      502    700103  D-3PC ML(OR)      M                      46.729\n",
       "       7 │      502    710033  DEL SURCHARGE     M                       3.738\n",
       "       8 │      502    922023  D-10 FOR $10      M                       9.345\n",
       "       9 │      502    913618  D-10P CKN 2-5PM   M                      16.822 ⋯\n",
       "      10 │      502    710033  DEL SURCHARGE     M                       3.738\n",
       "      11 │      502    916137  D-FM POT BWL      M                       5.0\n",
       "    ⋮    │    ⋮         ⋮             ⋮                 ⋮               ⋮      ⋱\n",
       " 5214316 │      670    921046  5P ACB 30%        M                       9.626\n",
       " 5214317 │      670    922204  ZNG+SJ-R          M                       0.934 ⋯\n",
       " 5214318 │      670    921048  15P ACB 30%       M                      25.420\n",
       " 5214319 │      670    922110  2P(TG) ML         M                       8.364\n",
       " 5214320 │      670    450011  RWP>CF            M                       2.056\n",
       " 5214321 │      670    914357  1P EGG TART       M                       1.215 ⋯\n",
       " 5214322 │      670    912781  1 OR ZNG BX       M                       8.551\n",
       " 5214323 │      670    450046  RFF>CFRIES        M                       1.869\n",
       " 5214324 │      670    914357  1P EGG TART       M                       1.215\n",
       " 5214325 │      670    921046  5P ACB 30%        M                       9.626 ⋯\n",
       "\u001b[36m                                              6 columns and 5214304 rows omitted\u001b[0m"
      ]
     },
     "execution_count": 4,
     "metadata": {},
     "output_type": "execute_result"
    }
   ],
   "source": [
    "#selecting Transaction type : M\n",
    "df = grp[1]"
   ]
  },
  {
   "cell_type": "code",
   "execution_count": 5,
   "metadata": {
    "scrolled": true
   },
   "outputs": [
    {
     "data": {
      "text/html": [
       "<p><b>GroupedDataFrame with 1264699 groups based on key: store_transaction_key</b></p><p><i>First Group (2 rows): store_transaction_key = \"502_1724_2021-03-29\"</i></p><table class=\"data-frame\"><thead><tr><th></th><th>storenum</th><th>item_key</th><th>item_description</th><th>transaction_type</th><th>sales_amount</th><th>sales_channel</th></tr><tr><th></th><th>Int64</th><th>Int64</th><th>String</th><th>String</th><th>Float64</th><th>String</th></tr></thead><tbody><tr><th>1</th><td>502</td><td>916755</td><td>D-10P CKN BKT</td><td>M</td><td>26.9159</td><td>Online-Delivery</td></tr><tr><th>2</th><td>502</td><td>710033</td><td>DEL SURCHARGE</td><td>M</td><td>3.7383</td><td>Online-Delivery</td></tr></tbody></table><p>&vellip;</p><p><i>Last Group (1 row): store_transaction_key = \"670_5319_2021-05-07\"</i></p><table class=\"data-frame\"><thead><tr><th></th><th>storenum</th><th>item_key</th><th>item_description</th><th>transaction_type</th><th>sales_amount</th><th>sales_channel</th></tr><tr><th></th><th>Int64</th><th>Int64</th><th>String</th><th>String</th><th>Float64</th><th>String</th></tr></thead><tbody><tr><th>1</th><td>670</td><td>921046</td><td>5P ACB 30%</td><td>M</td><td>9.6262</td><td>Self-Ordering TA</td></tr></tbody></table>"
      ],
      "text/latex": [
       "GroupedDataFrame with 1264699 groups based on key: store\\_transaction\\_key\n",
       "\n",
       "First Group (2 rows): store\\_transaction\\_key = \"502\\_1724\\_2021-03-29\"\n",
       "\n",
       "\\begin{tabular}{r|ccccccc}\n",
       "\t& storenum & item\\_key & item\\_description & transaction\\_type & sales\\_amount & sales\\_channel & \\\\\n",
       "\t\\hline\n",
       "\t& Int64 & Int64 & String & String & Float64 & String & \\\\\n",
       "\t\\hline\n",
       "\t1 & 502 & 916755 & D-10P CKN BKT & M & 26.9159 & Online-Delivery & $\\dots$ \\\\\n",
       "\t2 & 502 & 710033 & DEL SURCHARGE & M & 3.7383 & Online-Delivery & $\\dots$ \\\\\n",
       "\\end{tabular}\n",
       "\n",
       "$\\dots$\n",
       "\n",
       "Last Group (1 row): store\\_transaction\\_key = \"670\\_5319\\_2021-05-07\"\n",
       "\n",
       "\\begin{tabular}{r|ccccccc}\n",
       "\t& storenum & item\\_key & item\\_description & transaction\\_type & sales\\_amount & sales\\_channel & \\\\\n",
       "\t\\hline\n",
       "\t& Int64 & Int64 & String & String & Float64 & String & \\\\\n",
       "\t\\hline\n",
       "\t1 & 670 & 921046 & 5P ACB 30\\% & M & 9.6262 & Self-Ordering TA & $\\dots$ \\\\\n",
       "\\end{tabular}\n"
      ],
      "text/plain": [
       "GroupedDataFrame with 1264699 groups based on key: store_transaction_key\n",
       "First Group (2 rows): store_transaction_key = \"502_1724_2021-03-29\"\n",
       "\u001b[1m Row \u001b[0m│\u001b[1m storenum \u001b[0m\u001b[1m item_key \u001b[0m\u001b[1m item_description \u001b[0m\u001b[1m transaction_type \u001b[0m\u001b[1m sales_amount \u001b[0m\u001b[1m s\u001b[0m ⋯\n",
       "\u001b[1m     \u001b[0m│\u001b[90m Int64    \u001b[0m\u001b[90m Int64    \u001b[0m\u001b[90m String           \u001b[0m\u001b[90m String           \u001b[0m\u001b[90m Float64      \u001b[0m\u001b[90m S\u001b[0m ⋯\n",
       "─────┼──────────────────────────────────────────────────────────────────────────\n",
       "   1 │      502    916755  D-10P CKN BKT     M                      26.9159  O ⋯\n",
       "   2 │      502    710033  DEL SURCHARGE     M                       3.7383  O\n",
       "\u001b[36m                                                               5 columns omitted\u001b[0m\n",
       "⋮\n",
       "Last Group (1 row): store_transaction_key = \"670_5319_2021-05-07\"\n",
       "\u001b[1m Row \u001b[0m│\u001b[1m storenum \u001b[0m\u001b[1m item_key \u001b[0m\u001b[1m item_description \u001b[0m\u001b[1m transaction_type \u001b[0m\u001b[1m sales_amount \u001b[0m\u001b[1m s\u001b[0m ⋯\n",
       "\u001b[1m     \u001b[0m│\u001b[90m Int64    \u001b[0m\u001b[90m Int64    \u001b[0m\u001b[90m String           \u001b[0m\u001b[90m String           \u001b[0m\u001b[90m Float64      \u001b[0m\u001b[90m S\u001b[0m ⋯\n",
       "─────┼──────────────────────────────────────────────────────────────────────────\n",
       "   1 │      670    921046  5P ACB 30%        M                       9.6262  S ⋯\n",
       "\u001b[36m                                                               5 columns omitted\u001b[0m"
      ]
     },
     "execution_count": 5,
     "metadata": {},
     "output_type": "execute_result"
    }
   ],
   "source": [
    "#grouping by Store Transaction key\n",
    "grp = groupby(df, :store_transaction_key)"
   ]
  },
  {
   "cell_type": "code",
   "execution_count": 6,
   "metadata": {},
   "outputs": [
    {
     "data": {
      "text/plain": [
       "remove_space (generic function with 1 method)"
      ]
     },
     "execution_count": 6,
     "metadata": {},
     "output_type": "execute_result"
    }
   ],
   "source": [
    "# Remove spaces from a string,Input-string,Output-string\n",
    "function remove_space(s)\n",
    "    s1 = \"\"\n",
    "    for i in 1:length(s)\n",
    "        if(!isspace(s[i]))\n",
    "            s1 = s1 * s[i]\n",
    "        end\n",
    "    end\n",
    "    return s1\n",
    "end"
   ]
  },
  {
   "cell_type": "code",
   "execution_count": 7,
   "metadata": {},
   "outputs": [
    {
     "data": {
      "text/plain": [
       "change_item_desc! (generic function with 1 method)"
      ]
     },
     "execution_count": 7,
     "metadata": {},
     "output_type": "execute_result"
    }
   ],
   "source": [
    "# Function to remove spaces from the item descriptions \n",
    "function change_item_desc!(grp)\n",
    "for i in 1:length(grp)\n",
    "    for j in 1:size(grp[i],1)\n",
    "        grp[i].item_description[j] = remove_space(grp[i].item_description[j])\n",
    "    end\n",
    "    #println(\"grp : \",i)\n",
    "end\n",
    "end"
   ]
  },
  {
   "cell_type": "code",
   "execution_count": 8,
   "metadata": {},
   "outputs": [],
   "source": [
    "#Remove Spaces from Item Description\n",
    "change_item_desc!(grp)"
   ]
  },
  {
   "cell_type": "code",
   "execution_count": 12,
   "metadata": {},
   "outputs": [
    {
     "data": {
      "text/plain": [
       "get_high_low_sales (generic function with 1 method)"
      ]
     },
     "execution_count": 12,
     "metadata": {},
     "output_type": "execute_result"
    }
   ],
   "source": [
    "#function that decides Highprice or Lowprice\n",
    "function get_high_low_sales(df1)\n",
    "    sum = 0\n",
    "    for i in 1:size(df1,1)\n",
    "        sum = sum + df1.sales_amount[i]\n",
    "    end\n",
    "    if(sum >= 15.0)\n",
    "        ans = \"Highprice\"\n",
    "    else\n",
    "        ans = \"Lowprice\"\n",
    "    end\n",
    "    return ans\n",
    "end"
   ]
  },
  {
   "cell_type": "code",
   "execution_count": 13,
   "metadata": {},
   "outputs": [
    {
     "data": {
      "text/plain": [
       "create_text (generic function with 1 method)"
      ]
     },
     "execution_count": 13,
     "metadata": {},
     "output_type": "execute_result"
    }
   ],
   "source": [
    "#function that generates the text data for transaction keys in range lower-upper\n",
    "function create_text(lower,upper,grp)\n",
    "    text =\"\"\n",
    "    for i in lower:upper\n",
    "        #appending storenum as a attribute\n",
    "        x = string(grp[i].storenum[1])\n",
    "        #appending high or low sales value\n",
    "        x = x * \" \" * get_high_low_sales(grp[i])\n",
    "        #sort the items in decreasing order of their sales amount\n",
    "        df_sort = sort(grp[i], :sales_amount , rev = true)\n",
    "        for j in 1:size(df_sort,1)\n",
    "            s = df_sort.item_description[j]\n",
    "            #appending item desc\n",
    "            x = x * \" \" * s\n",
    "        end\n",
    "        text = text * \"\\n\" * x\n",
    "    end\n",
    "    return text\n",
    "end    "
   ]
  },
  {
   "cell_type": "code",
   "execution_count": 14,
   "metadata": {},
   "outputs": [
    {
     "data": {
      "text/plain": [
       "get_text (generic function with 1 method)"
      ]
     },
     "execution_count": 14,
     "metadata": {},
     "output_type": "execute_result"
    }
   ],
   "source": [
    "#function that passes the range to create_text and combines them all\n",
    "function get_text(batchsize,grp)\n",
    "    text = \"\"\n",
    "    maxlength = size(grp,1)\n",
    "    count = 1\n",
    "    while(count<=maxlength)\n",
    "        lower = count\n",
    "        upper = count + batchsize\n",
    "        if(upper > maxlength)\n",
    "            upper = maxlength\n",
    "        end\n",
    "        count = upper+1\n",
    "        text1 = create_text(lower,upper,grp)\n",
    "        text = text * text1\n",
    "        println(lower,\" \",upper)\n",
    "    end\n",
    "    return text\n",
    "end"
   ]
  },
  {
   "cell_type": "code",
   "execution_count": null,
   "metadata": {},
   "outputs": [],
   "source": [
    "#generate the complete text data\n",
    "text = get_text(10000,grp)"
   ]
  },
  {
   "cell_type": "code",
   "execution_count": 16,
   "metadata": {},
   "outputs": [],
   "source": [
    "#save the text file\n",
    "open(\"text.txt\", \"w\") do io\n",
    "           write(io, text)\n",
    "       end;"
   ]
  },
  {
   "cell_type": "markdown",
   "metadata": {},
   "source": [
    "## Training"
   ]
  },
  {
   "cell_type": "code",
   "execution_count": null,
   "metadata": {},
   "outputs": [],
   "source": [
    "] add Word2Vec\n",
    "using Word2Vec"
   ]
  },
  {
   "cell_type": "code",
   "execution_count": null,
   "metadata": {},
   "outputs": [],
   "source": [
    "#Word2vec Training needs to be in Linux-based Sysytem\n",
    "#training the word2vec using text data\n",
    "word2vec(\"text.txt\", \"text-vec.txt\",size = 20 ,iter = 20 ,min_count = 1, verbose=true)"
   ]
  },
  {
   "cell_type": "code",
   "execution_count": null,
   "metadata": {},
   "outputs": [],
   "source": [
    "#load the model\n",
    "model = wordvectors(\"text-vec.txt\")"
   ]
  },
  {
   "cell_type": "markdown",
   "metadata": {},
   "source": [
    "# Clustering "
   ]
  },
  {
   "cell_type": "markdown",
   "metadata": {},
   "source": [
    "## Preprocessing"
   ]
  },
  {
   "cell_type": "code",
   "execution_count": 1,
   "metadata": {},
   "outputs": [],
   "source": [
    "using DataFrames\n",
    "using CSV\n",
    "using Word2Vec"
   ]
  },
  {
   "cell_type": "code",
   "execution_count": 4,
   "metadata": {
    "scrolled": true
   },
   "outputs": [
    {
     "data": {
      "text/html": [
       "<table class=\"data-frame\"><thead><tr><th></th><th>storenum</th><th>item_key</th><th>item_description</th><th>transaction_type</th><th>sales_amount</th><th>sales_channel</th></tr><tr><th></th><th>Int64</th><th>Int64</th><th>String</th><th>String</th><th>Float64</th><th>String</th></tr></thead><tbody><p>6,859,688 rows × 10 columns (omitted printing of 4 columns)</p><tr><th>1</th><td>502</td><td>916755</td><td>D-10P CKN BKT</td><td>M</td><td>26.9159</td><td>Online-Delivery</td></tr><tr><th>2</th><td>502</td><td>710033</td><td>DEL SURCHARGE</td><td>M</td><td>3.7383</td><td>Online-Delivery</td></tr><tr><th>3</th><td>502</td><td>1</td><td>D-CASH</td><td>T</td><td>30.6542</td><td>Online-Delivery</td></tr><tr><th>4</th><td>502</td><td>700103</td><td>D-3PC ML(OR)</td><td>M</td><td>58.4112</td><td>Phone-Delivery</td></tr><tr><th>5</th><td>502</td><td>710033</td><td>DEL SURCHARGE</td><td>M</td><td>3.7383</td><td>Phone-Delivery</td></tr><tr><th>6</th><td>502</td><td>1</td><td>D-CASH</td><td>T</td><td>62.1495</td><td>Phone-Delivery</td></tr><tr><th>7</th><td>502</td><td>710009</td><td>D-ZINGER</td><td>M</td><td>10.9346</td><td>Phone-Delivery</td></tr><tr><th>8</th><td>502</td><td>700103</td><td>D-3PC ML(OR)</td><td>M</td><td>46.729</td><td>Phone-Delivery</td></tr><tr><th>9</th><td>502</td><td>710033</td><td>DEL SURCHARGE</td><td>M</td><td>3.7383</td><td>Phone-Delivery</td></tr><tr><th>10</th><td>502</td><td>1</td><td>D-CASH</td><td>T</td><td>61.4019</td><td>Phone-Delivery</td></tr><tr><th>11</th><td>502</td><td>922023</td><td>D-10 FOR $10</td><td>M</td><td>9.3458</td><td>Online-Delivery</td></tr><tr><th>12</th><td>502</td><td>913618</td><td>D-10P CKN 2-5PM</td><td>M</td><td>16.8224</td><td>Online-Delivery</td></tr><tr><th>13</th><td>502</td><td>710033</td><td>DEL SURCHARGE</td><td>M</td><td>3.7383</td><td>Online-Delivery</td></tr><tr><th>14</th><td>502</td><td>3</td><td>D-DBS Paylah</td><td>T</td><td>29.9065</td><td>Online-Delivery</td></tr><tr><th>15</th><td>502</td><td>916137</td><td>D-FM POT BWL</td><td>M</td><td>5.0</td><td>Online-Delivery</td></tr><tr><th>16</th><td>502</td><td>710018</td><td>D-C/SL MED</td><td>M</td><td>3.4579</td><td>Online-Delivery</td></tr><tr><th>17</th><td>502</td><td>710021</td><td>D-W/PT MED</td><td>M</td><td>3.4579</td><td>Online-Delivery</td></tr><tr><th>18</th><td>502</td><td>919893</td><td>D-8P FOR $15</td><td>M</td><td>14.0187</td><td>Online-Delivery</td></tr><tr><th>19</th><td>502</td><td>710033</td><td>DEL SURCHARGE</td><td>M</td><td>3.7383</td><td>Online-Delivery</td></tr><tr><th>20</th><td>502</td><td>8</td><td>D-eNETS CREDIT</td><td>T</td><td>29.6729</td><td>Online-Delivery</td></tr><tr><th>21</th><td>502</td><td>913961</td><td>D-8P VRTY FEAST</td><td>M</td><td>38.271</td><td>Online-Delivery</td></tr><tr><th>22</th><td>502</td><td>710033</td><td>DEL SURCHARGE</td><td>M</td><td>3.7383</td><td>Online-Delivery</td></tr><tr><th>23</th><td>502</td><td>8</td><td>D-eNETS CREDIT</td><td>T</td><td>42.0093</td><td>Online-Delivery</td></tr><tr><th>24</th><td>502</td><td>921466</td><td>D-2P CKN BX</td><td>M</td><td>39.2523</td><td>Online-Delivery</td></tr><tr><th>25</th><td>502</td><td>921466</td><td>D-2P CKN BX</td><td>M</td><td>39.2523</td><td>Online-Delivery</td></tr><tr><th>26</th><td>502</td><td>921466</td><td>D-2P CKN BX</td><td>M</td><td>29.4393</td><td>Online-Delivery</td></tr><tr><th>27</th><td>502</td><td>710033</td><td>DEL SURCHARGE</td><td>M</td><td>3.7383</td><td>Online-Delivery</td></tr><tr><th>28</th><td>502</td><td>8</td><td>D-eNETS CREDIT</td><td>T</td><td>111.682</td><td>Online-Delivery</td></tr><tr><th>29</th><td>502</td><td>913299</td><td>D-AO 2 CHZ FRIES-APP</td><td>M</td><td>5.6075</td><td>Online-Delivery</td></tr><tr><th>30</th><td>502</td><td>922023</td><td>D-10 FOR $10</td><td>M</td><td>9.3458</td><td>Online-Delivery</td></tr><tr><th>&vellip;</th><td>&vellip;</td><td>&vellip;</td><td>&vellip;</td><td>&vellip;</td><td>&vellip;</td><td>&vellip;</td></tr></tbody></table>"
      ],
      "text/latex": [
       "\\begin{tabular}{r|ccccccc}\n",
       "\t& storenum & item\\_key & item\\_description & transaction\\_type & sales\\_amount & sales\\_channel & \\\\\n",
       "\t\\hline\n",
       "\t& Int64 & Int64 & String & String & Float64 & String & \\\\\n",
       "\t\\hline\n",
       "\t1 & 502 & 916755 & D-10P CKN BKT & M & 26.9159 & Online-Delivery & $\\dots$ \\\\\n",
       "\t2 & 502 & 710033 & DEL SURCHARGE & M & 3.7383 & Online-Delivery & $\\dots$ \\\\\n",
       "\t3 & 502 & 1 & D-CASH & T & 30.6542 & Online-Delivery & $\\dots$ \\\\\n",
       "\t4 & 502 & 700103 & D-3PC ML(OR) & M & 58.4112 & Phone-Delivery & $\\dots$ \\\\\n",
       "\t5 & 502 & 710033 & DEL SURCHARGE & M & 3.7383 & Phone-Delivery & $\\dots$ \\\\\n",
       "\t6 & 502 & 1 & D-CASH & T & 62.1495 & Phone-Delivery & $\\dots$ \\\\\n",
       "\t7 & 502 & 710009 & D-ZINGER & M & 10.9346 & Phone-Delivery & $\\dots$ \\\\\n",
       "\t8 & 502 & 700103 & D-3PC ML(OR) & M & 46.729 & Phone-Delivery & $\\dots$ \\\\\n",
       "\t9 & 502 & 710033 & DEL SURCHARGE & M & 3.7383 & Phone-Delivery & $\\dots$ \\\\\n",
       "\t10 & 502 & 1 & D-CASH & T & 61.4019 & Phone-Delivery & $\\dots$ \\\\\n",
       "\t11 & 502 & 922023 & D-10 FOR \\$10 & M & 9.3458 & Online-Delivery & $\\dots$ \\\\\n",
       "\t12 & 502 & 913618 & D-10P CKN 2-5PM & M & 16.8224 & Online-Delivery & $\\dots$ \\\\\n",
       "\t13 & 502 & 710033 & DEL SURCHARGE & M & 3.7383 & Online-Delivery & $\\dots$ \\\\\n",
       "\t14 & 502 & 3 & D-DBS Paylah & T & 29.9065 & Online-Delivery & $\\dots$ \\\\\n",
       "\t15 & 502 & 916137 & D-FM POT BWL & M & 5.0 & Online-Delivery & $\\dots$ \\\\\n",
       "\t16 & 502 & 710018 & D-C/SL MED & M & 3.4579 & Online-Delivery & $\\dots$ \\\\\n",
       "\t17 & 502 & 710021 & D-W/PT MED & M & 3.4579 & Online-Delivery & $\\dots$ \\\\\n",
       "\t18 & 502 & 919893 & D-8P FOR \\$15 & M & 14.0187 & Online-Delivery & $\\dots$ \\\\\n",
       "\t19 & 502 & 710033 & DEL SURCHARGE & M & 3.7383 & Online-Delivery & $\\dots$ \\\\\n",
       "\t20 & 502 & 8 & D-eNETS CREDIT & T & 29.6729 & Online-Delivery & $\\dots$ \\\\\n",
       "\t21 & 502 & 913961 & D-8P VRTY FEAST & M & 38.271 & Online-Delivery & $\\dots$ \\\\\n",
       "\t22 & 502 & 710033 & DEL SURCHARGE & M & 3.7383 & Online-Delivery & $\\dots$ \\\\\n",
       "\t23 & 502 & 8 & D-eNETS CREDIT & T & 42.0093 & Online-Delivery & $\\dots$ \\\\\n",
       "\t24 & 502 & 921466 & D-2P CKN BX & M & 39.2523 & Online-Delivery & $\\dots$ \\\\\n",
       "\t25 & 502 & 921466 & D-2P CKN BX & M & 39.2523 & Online-Delivery & $\\dots$ \\\\\n",
       "\t26 & 502 & 921466 & D-2P CKN BX & M & 29.4393 & Online-Delivery & $\\dots$ \\\\\n",
       "\t27 & 502 & 710033 & DEL SURCHARGE & M & 3.7383 & Online-Delivery & $\\dots$ \\\\\n",
       "\t28 & 502 & 8 & D-eNETS CREDIT & T & 111.682 & Online-Delivery & $\\dots$ \\\\\n",
       "\t29 & 502 & 913299 & D-AO 2 CHZ FRIES-APP & M & 5.6075 & Online-Delivery & $\\dots$ \\\\\n",
       "\t30 & 502 & 922023 & D-10 FOR \\$10 & M & 9.3458 & Online-Delivery & $\\dots$ \\\\\n",
       "\t$\\dots$ & $\\dots$ & $\\dots$ & $\\dots$ & $\\dots$ & $\\dots$ & $\\dots$ &  \\\\\n",
       "\\end{tabular}\n"
      ],
      "text/plain": [
       "\u001b[1m6859688×10 DataFrame\u001b[0m\n",
       "\u001b[1m     Row \u001b[0m│\u001b[1m storenum \u001b[0m\u001b[1m item_key \u001b[0m\u001b[1m item_description \u001b[0m\u001b[1m transaction_type \u001b[0m\u001b[1m sales_amoun\u001b[0m ⋯\n",
       "\u001b[1m         \u001b[0m│\u001b[90m Int64    \u001b[0m\u001b[90m Int64    \u001b[0m\u001b[90m String           \u001b[0m\u001b[90m String           \u001b[0m\u001b[90m Float64    \u001b[0m ⋯\n",
       "─────────┼──────────────────────────────────────────────────────────────────────\n",
       "       1 │      502    916755  D-10P CKN BKT     M                    26.9159  ⋯\n",
       "       2 │      502    710033  DEL SURCHARGE     M                     3.7383\n",
       "       3 │      502         1  D-CASH            T                    30.6542\n",
       "       4 │      502    700103  D-3PC ML(OR)      M                    58.4112\n",
       "       5 │      502    710033  DEL SURCHARGE     M                     3.7383  ⋯\n",
       "       6 │      502         1  D-CASH            T                    62.1495\n",
       "       7 │      502    710009  D-ZINGER          M                    10.9346\n",
       "       8 │      502    700103  D-3PC ML(OR)      M                    46.729\n",
       "       9 │      502    710033  DEL SURCHARGE     M                     3.7383  ⋯\n",
       "      10 │      502         1  D-CASH            T                    61.4019\n",
       "      11 │      502    922023  D-10 FOR $10      M                     9.3458\n",
       "    ⋮    │    ⋮         ⋮             ⋮                 ⋮               ⋮      ⋱\n",
       " 6859679 │      670    922110  2P(TG) ML         M                     8.3645\n",
       " 6859680 │      670    450011  RWP>CF            M                     2.0561  ⋯\n",
       " 6859681 │      670    914357  1P EGG TART       M                     1.215\n",
       " 6859682 │      670         8  D-eNETS CREDIT    T                    11.6355\n",
       " 6859683 │      670    912781  1 OR ZNG BX       M                     8.5514\n",
       " 6859684 │      670    450046  RFF>CFRIES        M                     1.8692  ⋯\n",
       " 6859685 │      670    914357  1P EGG TART       M                     1.215\n",
       " 6859686 │      670         8  D-eNETS CREDIT    T                    11.6355\n",
       " 6859687 │      670    921046  5P ACB 30%        M                     9.6262\n",
       " 6859688 │      670        15  DI-DBS PAYLAH     T                     9.62617 ⋯\n",
       "\u001b[36m                                              6 columns and 6859667 rows omitted\u001b[0m"
      ]
     },
     "execution_count": 4,
     "metadata": {},
     "output_type": "execute_result"
    }
   ],
   "source": [
    "df = DataFrame(CSV.File(\"Dataset1.csv\"))"
   ]
  },
  {
   "cell_type": "code",
   "execution_count": 5,
   "metadata": {
    "scrolled": true
   },
   "outputs": [
    {
     "data": {
      "text/html": [
       "<p><b>GroupedDataFrame with 3 groups based on key: transaction_type</b></p><p><i>First Group (5214325 rows): transaction_type = \"M\"</i></p><table class=\"data-frame\"><thead><tr><th></th><th>storenum</th><th>item_key</th><th>item_description</th><th>transaction_type</th><th>sales_amount</th><th>sales_channel</th></tr><tr><th></th><th>Int64</th><th>Int64</th><th>String</th><th>String</th><th>Float64</th><th>String</th></tr></thead><tbody><tr><th>1</th><td>502</td><td>916755</td><td>D-10P CKN BKT</td><td>M</td><td>26.9159</td><td>Online-Delivery</td></tr><tr><th>2</th><td>502</td><td>710033</td><td>DEL SURCHARGE</td><td>M</td><td>3.7383</td><td>Online-Delivery</td></tr><tr><th>3</th><td>502</td><td>700103</td><td>D-3PC ML(OR)</td><td>M</td><td>58.4112</td><td>Phone-Delivery</td></tr><tr><th>4</th><td>502</td><td>710033</td><td>DEL SURCHARGE</td><td>M</td><td>3.7383</td><td>Phone-Delivery</td></tr><tr><th>5</th><td>502</td><td>710009</td><td>D-ZINGER</td><td>M</td><td>10.9346</td><td>Phone-Delivery</td></tr><tr><th>6</th><td>502</td><td>700103</td><td>D-3PC ML(OR)</td><td>M</td><td>46.729</td><td>Phone-Delivery</td></tr><tr><th>7</th><td>502</td><td>710033</td><td>DEL SURCHARGE</td><td>M</td><td>3.7383</td><td>Phone-Delivery</td></tr><tr><th>8</th><td>502</td><td>922023</td><td>D-10 FOR $10</td><td>M</td><td>9.3458</td><td>Online-Delivery</td></tr><tr><th>9</th><td>502</td><td>913618</td><td>D-10P CKN 2-5PM</td><td>M</td><td>16.8224</td><td>Online-Delivery</td></tr><tr><th>10</th><td>502</td><td>710033</td><td>DEL SURCHARGE</td><td>M</td><td>3.7383</td><td>Online-Delivery</td></tr><tr><th>11</th><td>502</td><td>916137</td><td>D-FM POT BWL</td><td>M</td><td>5.0</td><td>Online-Delivery</td></tr><tr><th>12</th><td>502</td><td>710018</td><td>D-C/SL MED</td><td>M</td><td>3.4579</td><td>Online-Delivery</td></tr><tr><th>13</th><td>502</td><td>710021</td><td>D-W/PT MED</td><td>M</td><td>3.4579</td><td>Online-Delivery</td></tr><tr><th>14</th><td>502</td><td>919893</td><td>D-8P FOR $15</td><td>M</td><td>14.0187</td><td>Online-Delivery</td></tr><tr><th>15</th><td>502</td><td>710033</td><td>DEL SURCHARGE</td><td>M</td><td>3.7383</td><td>Online-Delivery</td></tr><tr><th>16</th><td>502</td><td>913961</td><td>D-8P VRTY FEAST</td><td>M</td><td>38.271</td><td>Online-Delivery</td></tr><tr><th>17</th><td>502</td><td>710033</td><td>DEL SURCHARGE</td><td>M</td><td>3.7383</td><td>Online-Delivery</td></tr><tr><th>18</th><td>502</td><td>921466</td><td>D-2P CKN BX</td><td>M</td><td>39.2523</td><td>Online-Delivery</td></tr><tr><th>19</th><td>502</td><td>921466</td><td>D-2P CKN BX</td><td>M</td><td>39.2523</td><td>Online-Delivery</td></tr><tr><th>20</th><td>502</td><td>921466</td><td>D-2P CKN BX</td><td>M</td><td>29.4393</td><td>Online-Delivery</td></tr><tr><th>21</th><td>502</td><td>710033</td><td>DEL SURCHARGE</td><td>M</td><td>3.7383</td><td>Online-Delivery</td></tr><tr><th>22</th><td>502</td><td>913299</td><td>D-AO 2 CHZ FRIES-APP</td><td>M</td><td>5.6075</td><td>Online-Delivery</td></tr><tr><th>23</th><td>502</td><td>922023</td><td>D-10 FOR $10</td><td>M</td><td>9.3458</td><td>Online-Delivery</td></tr><tr><th>24</th><td>502</td><td>710033</td><td>DEL SURCHARGE</td><td>M</td><td>3.7383</td><td>Online-Delivery</td></tr><tr><th>25</th><td>502</td><td>921474</td><td>D-ZNGBX+2P CKN BX</td><td>M</td><td>15.1402</td><td>Online-Delivery</td></tr><tr><th>26</th><td>502</td><td>916131</td><td>D-1P CRY BWL ML</td><td>M</td><td>7.9907</td><td>Online-Delivery</td></tr><tr><th>27</th><td>502</td><td>912754</td><td>D-1P ZNG BOX</td><td>M</td><td>10.2336</td><td>Online-Delivery</td></tr><tr><th>28</th><td>502</td><td>710033</td><td>DEL SURCHARGE</td><td>M</td><td>3.7383</td><td>Online-Delivery</td></tr><tr><th>29</th><td>502</td><td>916759</td><td>D-ALA SNACK N SHARE BX  </td><td>M</td><td>12.1028</td><td>Online-Delivery</td></tr><tr><th>30</th><td>502</td><td>922023</td><td>D-10 FOR $10</td><td>M</td><td>9.3458</td><td>Online-Delivery</td></tr><tr><th>&vellip;</th><td>&vellip;</td><td>&vellip;</td><td>&vellip;</td><td>&vellip;</td><td>&vellip;</td><td>&vellip;</td></tr></tbody></table><p>&vellip;</p><p><i>Last Group (12833 rows): transaction_type = \"D\"</i></p><table class=\"data-frame\"><thead><tr><th></th><th>storenum</th><th>item_key</th><th>item_description</th><th>transaction_type</th><th>sales_amount</th><th>sales_channel</th></tr><tr><th></th><th>Int64</th><th>Int64</th><th>String</th><th>String</th><th>Float64</th><th>String</th></tr></thead><tbody><tr><th>1</th><td>502</td><td>2000</td><td>25% EMP DISC</td><td>D</td><td>-1.9626</td><td>Drive-Thru</td></tr><tr><th>2</th><td>502</td><td>3007</td><td>$1-OFF(PAssion)</td><td>D</td><td>-0.9346</td><td>Eat In (EI)</td></tr><tr><th>3</th><td>502</td><td>8027</td><td>10% OFF GES DEAL</td><td>D</td><td>-1.8131</td><td>Eat In (EI)</td></tr><tr><th>4</th><td>502</td><td>3007</td><td>$1-OFF(PAssion)</td><td>D</td><td>-0.9346</td><td>Take Away (TA)</td></tr><tr><th>5</th><td>504</td><td>3007</td><td>$1-OFF(PAssion)</td><td>D</td><td>-0.9346</td><td>Eat In (EI)</td></tr><tr><th>6</th><td>504</td><td>3007</td><td>$1-OFF(PAssion)</td><td>D</td><td>-0.9346</td><td>Eat In (EI)</td></tr><tr><th>7</th><td>504</td><td>3007</td><td>$1-OFF(PAssion)</td><td>D</td><td>0.9346</td><td>Eat In (EI)</td></tr><tr><th>8</th><td>504</td><td>3007</td><td>$1-OFF(PAssion)</td><td>D</td><td>-0.9346</td><td>Eat In (EI)</td></tr><tr><th>9</th><td>504</td><td>5010</td><td>10% OFF(LSM)</td><td>D</td><td>-0.9438</td><td>Eat In (EI)</td></tr><tr><th>10</th><td>504</td><td>8027</td><td>10% OFF GES DEAL</td><td>D</td><td>-2.243</td><td>Take Away (TA)</td></tr><tr><th>11</th><td>505</td><td>5016</td><td>10% OFF xFOOD PANDA</td><td>D</td><td>-1.0751</td><td>Eat In (EI)</td></tr><tr><th>12</th><td>505</td><td>5016</td><td>10% OFF xFOOD PANDA</td><td>D</td><td>-0.9813</td><td>Take Away (TA)</td></tr><tr><th>13</th><td>505</td><td>5010</td><td>10% OFF(LSM)</td><td>D</td><td>-0.7851</td><td>Drive-Thru</td></tr><tr><th>14</th><td>505</td><td>5010</td><td>10% OFF(LSM)</td><td>D</td><td>0.7851</td><td>Drive-Thru</td></tr><tr><th>15</th><td>505</td><td>3007</td><td>$1-OFF(PAssion)</td><td>D</td><td>-0.9346</td><td>Eat In (EI)</td></tr><tr><th>16</th><td>506</td><td>5016</td><td>10% OFF xFOOD PANDA</td><td>D</td><td>-0.5517</td><td>Breakfast (BF)</td></tr><tr><th>17</th><td>506</td><td>5016</td><td>10% OFF xFOOD PANDA</td><td>D</td><td>-0.4019</td><td>Breakfast (BF)</td></tr><tr><th>18</th><td>506</td><td>3007</td><td>$1-OFF(PAssion)</td><td>D</td><td>-0.9346</td><td>Eat In (EI)</td></tr><tr><th>19</th><td>506</td><td>3007</td><td>$1-OFF(PAssion)</td><td>D</td><td>-0.9346</td><td>Eat In (EI)</td></tr><tr><th>20</th><td>506</td><td>2000</td><td>25% EMP DISC</td><td>D</td><td>-3.6075</td><td>Eat In (EI)</td></tr><tr><th>21</th><td>506</td><td>3007</td><td>$1-OFF(PAssion)</td><td>D</td><td>-0.9346</td><td>Take Away (TA)</td></tr><tr><th>22</th><td>506</td><td>3007</td><td>$1-OFF(PAssion)</td><td>D</td><td>-0.9346</td><td>Eat In (EI)</td></tr><tr><th>23</th><td>506</td><td>3007</td><td>$1-OFF(PAssion)</td><td>D</td><td>-0.9346</td><td>Take Away (TA)</td></tr><tr><th>24</th><td>506</td><td>3007</td><td>$1-OFF(PAssion)</td><td>D</td><td>-0.9304</td><td>Take Away (TA)</td></tr><tr><th>25</th><td>506</td><td>5016</td><td>10% OFF xFOOD PANDA</td><td>D</td><td>-0.9816</td><td>Take Away (TA)</td></tr><tr><th>26</th><td>506</td><td>8027</td><td>10% OFF GES DEAL</td><td>D</td><td>-0.9346</td><td>Take Away (TA)</td></tr><tr><th>27</th><td>506</td><td>3007</td><td>$1-OFF(PAssion)</td><td>D</td><td>-0.9346</td><td>Eat In (EI)</td></tr><tr><th>28</th><td>506</td><td>3007</td><td>$1-OFF(PAssion)</td><td>D</td><td>-0.9346</td><td>Eat In (EI)</td></tr><tr><th>29</th><td>506</td><td>3007</td><td>$1-OFF(PAssion)</td><td>D</td><td>-0.9346</td><td>Take Away (TA)</td></tr><tr><th>30</th><td>506</td><td>8027</td><td>10% OFF GES DEAL</td><td>D</td><td>-0.9719</td><td>Take Away (TA)</td></tr><tr><th>&vellip;</th><td>&vellip;</td><td>&vellip;</td><td>&vellip;</td><td>&vellip;</td><td>&vellip;</td><td>&vellip;</td></tr></tbody></table>"
      ],
      "text/latex": [
       "GroupedDataFrame with 3 groups based on key: transaction\\_type\n",
       "\n",
       "First Group (5214325 rows): transaction\\_type = \"M\"\n",
       "\n",
       "\\begin{tabular}{r|ccccccc}\n",
       "\t& storenum & item\\_key & item\\_description & transaction\\_type & sales\\_amount & sales\\_channel & \\\\\n",
       "\t\\hline\n",
       "\t& Int64 & Int64 & String & String & Float64 & String & \\\\\n",
       "\t\\hline\n",
       "\t1 & 502 & 916755 & D-10P CKN BKT & M & 26.9159 & Online-Delivery & $\\dots$ \\\\\n",
       "\t2 & 502 & 710033 & DEL SURCHARGE & M & 3.7383 & Online-Delivery & $\\dots$ \\\\\n",
       "\t3 & 502 & 700103 & D-3PC ML(OR) & M & 58.4112 & Phone-Delivery & $\\dots$ \\\\\n",
       "\t4 & 502 & 710033 & DEL SURCHARGE & M & 3.7383 & Phone-Delivery & $\\dots$ \\\\\n",
       "\t5 & 502 & 710009 & D-ZINGER & M & 10.9346 & Phone-Delivery & $\\dots$ \\\\\n",
       "\t6 & 502 & 700103 & D-3PC ML(OR) & M & 46.729 & Phone-Delivery & $\\dots$ \\\\\n",
       "\t7 & 502 & 710033 & DEL SURCHARGE & M & 3.7383 & Phone-Delivery & $\\dots$ \\\\\n",
       "\t8 & 502 & 922023 & D-10 FOR \\$10 & M & 9.3458 & Online-Delivery & $\\dots$ \\\\\n",
       "\t9 & 502 & 913618 & D-10P CKN 2-5PM & M & 16.8224 & Online-Delivery & $\\dots$ \\\\\n",
       "\t10 & 502 & 710033 & DEL SURCHARGE & M & 3.7383 & Online-Delivery & $\\dots$ \\\\\n",
       "\t11 & 502 & 916137 & D-FM POT BWL & M & 5.0 & Online-Delivery & $\\dots$ \\\\\n",
       "\t12 & 502 & 710018 & D-C/SL MED & M & 3.4579 & Online-Delivery & $\\dots$ \\\\\n",
       "\t13 & 502 & 710021 & D-W/PT MED & M & 3.4579 & Online-Delivery & $\\dots$ \\\\\n",
       "\t14 & 502 & 919893 & D-8P FOR \\$15 & M & 14.0187 & Online-Delivery & $\\dots$ \\\\\n",
       "\t15 & 502 & 710033 & DEL SURCHARGE & M & 3.7383 & Online-Delivery & $\\dots$ \\\\\n",
       "\t16 & 502 & 913961 & D-8P VRTY FEAST & M & 38.271 & Online-Delivery & $\\dots$ \\\\\n",
       "\t17 & 502 & 710033 & DEL SURCHARGE & M & 3.7383 & Online-Delivery & $\\dots$ \\\\\n",
       "\t18 & 502 & 921466 & D-2P CKN BX & M & 39.2523 & Online-Delivery & $\\dots$ \\\\\n",
       "\t19 & 502 & 921466 & D-2P CKN BX & M & 39.2523 & Online-Delivery & $\\dots$ \\\\\n",
       "\t20 & 502 & 921466 & D-2P CKN BX & M & 29.4393 & Online-Delivery & $\\dots$ \\\\\n",
       "\t21 & 502 & 710033 & DEL SURCHARGE & M & 3.7383 & Online-Delivery & $\\dots$ \\\\\n",
       "\t22 & 502 & 913299 & D-AO 2 CHZ FRIES-APP & M & 5.6075 & Online-Delivery & $\\dots$ \\\\\n",
       "\t23 & 502 & 922023 & D-10 FOR \\$10 & M & 9.3458 & Online-Delivery & $\\dots$ \\\\\n",
       "\t24 & 502 & 710033 & DEL SURCHARGE & M & 3.7383 & Online-Delivery & $\\dots$ \\\\\n",
       "\t25 & 502 & 921474 & D-ZNGBX+2P CKN BX & M & 15.1402 & Online-Delivery & $\\dots$ \\\\\n",
       "\t26 & 502 & 916131 & D-1P CRY BWL ML & M & 7.9907 & Online-Delivery & $\\dots$ \\\\\n",
       "\t27 & 502 & 912754 & D-1P ZNG BOX & M & 10.2336 & Online-Delivery & $\\dots$ \\\\\n",
       "\t28 & 502 & 710033 & DEL SURCHARGE & M & 3.7383 & Online-Delivery & $\\dots$ \\\\\n",
       "\t29 & 502 & 916759 & D-ALA SNACK N SHARE BX   & M & 12.1028 & Online-Delivery & $\\dots$ \\\\\n",
       "\t30 & 502 & 922023 & D-10 FOR \\$10 & M & 9.3458 & Online-Delivery & $\\dots$ \\\\\n",
       "\t$\\dots$ & $\\dots$ & $\\dots$ & $\\dots$ & $\\dots$ & $\\dots$ & $\\dots$ &  \\\\\n",
       "\\end{tabular}\n",
       "\n",
       "$\\dots$\n",
       "\n",
       "Last Group (12833 rows): transaction\\_type = \"D\"\n",
       "\n",
       "\\begin{tabular}{r|ccccccc}\n",
       "\t& storenum & item\\_key & item\\_description & transaction\\_type & sales\\_amount & sales\\_channel & \\\\\n",
       "\t\\hline\n",
       "\t& Int64 & Int64 & String & String & Float64 & String & \\\\\n",
       "\t\\hline\n",
       "\t1 & 502 & 2000 & 25\\% EMP DISC & D & -1.9626 & Drive-Thru & $\\dots$ \\\\\n",
       "\t2 & 502 & 3007 & \\$1-OFF(PAssion) & D & -0.9346 & Eat In (EI) & $\\dots$ \\\\\n",
       "\t3 & 502 & 8027 & 10\\% OFF GES DEAL & D & -1.8131 & Eat In (EI) & $\\dots$ \\\\\n",
       "\t4 & 502 & 3007 & \\$1-OFF(PAssion) & D & -0.9346 & Take Away (TA) & $\\dots$ \\\\\n",
       "\t5 & 504 & 3007 & \\$1-OFF(PAssion) & D & -0.9346 & Eat In (EI) & $\\dots$ \\\\\n",
       "\t6 & 504 & 3007 & \\$1-OFF(PAssion) & D & -0.9346 & Eat In (EI) & $\\dots$ \\\\\n",
       "\t7 & 504 & 3007 & \\$1-OFF(PAssion) & D & 0.9346 & Eat In (EI) & $\\dots$ \\\\\n",
       "\t8 & 504 & 3007 & \\$1-OFF(PAssion) & D & -0.9346 & Eat In (EI) & $\\dots$ \\\\\n",
       "\t9 & 504 & 5010 & 10\\% OFF(LSM) & D & -0.9438 & Eat In (EI) & $\\dots$ \\\\\n",
       "\t10 & 504 & 8027 & 10\\% OFF GES DEAL & D & -2.243 & Take Away (TA) & $\\dots$ \\\\\n",
       "\t11 & 505 & 5016 & 10\\% OFF xFOOD PANDA & D & -1.0751 & Eat In (EI) & $\\dots$ \\\\\n",
       "\t12 & 505 & 5016 & 10\\% OFF xFOOD PANDA & D & -0.9813 & Take Away (TA) & $\\dots$ \\\\\n",
       "\t13 & 505 & 5010 & 10\\% OFF(LSM) & D & -0.7851 & Drive-Thru & $\\dots$ \\\\\n",
       "\t14 & 505 & 5010 & 10\\% OFF(LSM) & D & 0.7851 & Drive-Thru & $\\dots$ \\\\\n",
       "\t15 & 505 & 3007 & \\$1-OFF(PAssion) & D & -0.9346 & Eat In (EI) & $\\dots$ \\\\\n",
       "\t16 & 506 & 5016 & 10\\% OFF xFOOD PANDA & D & -0.5517 & Breakfast (BF) & $\\dots$ \\\\\n",
       "\t17 & 506 & 5016 & 10\\% OFF xFOOD PANDA & D & -0.4019 & Breakfast (BF) & $\\dots$ \\\\\n",
       "\t18 & 506 & 3007 & \\$1-OFF(PAssion) & D & -0.9346 & Eat In (EI) & $\\dots$ \\\\\n",
       "\t19 & 506 & 3007 & \\$1-OFF(PAssion) & D & -0.9346 & Eat In (EI) & $\\dots$ \\\\\n",
       "\t20 & 506 & 2000 & 25\\% EMP DISC & D & -3.6075 & Eat In (EI) & $\\dots$ \\\\\n",
       "\t21 & 506 & 3007 & \\$1-OFF(PAssion) & D & -0.9346 & Take Away (TA) & $\\dots$ \\\\\n",
       "\t22 & 506 & 3007 & \\$1-OFF(PAssion) & D & -0.9346 & Eat In (EI) & $\\dots$ \\\\\n",
       "\t23 & 506 & 3007 & \\$1-OFF(PAssion) & D & -0.9346 & Take Away (TA) & $\\dots$ \\\\\n",
       "\t24 & 506 & 3007 & \\$1-OFF(PAssion) & D & -0.9304 & Take Away (TA) & $\\dots$ \\\\\n",
       "\t25 & 506 & 5016 & 10\\% OFF xFOOD PANDA & D & -0.9816 & Take Away (TA) & $\\dots$ \\\\\n",
       "\t26 & 506 & 8027 & 10\\% OFF GES DEAL & D & -0.9346 & Take Away (TA) & $\\dots$ \\\\\n",
       "\t27 & 506 & 3007 & \\$1-OFF(PAssion) & D & -0.9346 & Eat In (EI) & $\\dots$ \\\\\n",
       "\t28 & 506 & 3007 & \\$1-OFF(PAssion) & D & -0.9346 & Eat In (EI) & $\\dots$ \\\\\n",
       "\t29 & 506 & 3007 & \\$1-OFF(PAssion) & D & -0.9346 & Take Away (TA) & $\\dots$ \\\\\n",
       "\t30 & 506 & 8027 & 10\\% OFF GES DEAL & D & -0.9719 & Take Away (TA) & $\\dots$ \\\\\n",
       "\t$\\dots$ & $\\dots$ & $\\dots$ & $\\dots$ & $\\dots$ & $\\dots$ & $\\dots$ &  \\\\\n",
       "\\end{tabular}\n"
      ],
      "text/plain": [
       "GroupedDataFrame with 3 groups based on key: transaction_type\n",
       "First Group (5214325 rows): transaction_type = \"M\"\n",
       "\u001b[1m     Row \u001b[0m│\u001b[1m storenum \u001b[0m\u001b[1m item_key \u001b[0m\u001b[1m item_description \u001b[0m\u001b[1m transaction_type \u001b[0m\u001b[1m sales_amoun\u001b[0m ⋯\n",
       "\u001b[1m         \u001b[0m│\u001b[90m Int64    \u001b[0m\u001b[90m Int64    \u001b[0m\u001b[90m String           \u001b[0m\u001b[90m String           \u001b[0m\u001b[90m Float64    \u001b[0m ⋯\n",
       "─────────┼──────────────────────────────────────────────────────────────────────\n",
       "       1 │      502    916755  D-10P CKN BKT     M                      26.915 ⋯\n",
       "       2 │      502    710033  DEL SURCHARGE     M                       3.738\n",
       "       3 │      502    700103  D-3PC ML(OR)      M                      58.411\n",
       "       4 │      502    710033  DEL SURCHARGE     M                       3.738\n",
       "       5 │      502    710009  D-ZINGER          M                      10.934 ⋯\n",
       "       6 │      502    700103  D-3PC ML(OR)      M                      46.729\n",
       "       7 │      502    710033  DEL SURCHARGE     M                       3.738\n",
       "       8 │      502    922023  D-10 FOR $10      M                       9.345\n",
       "       9 │      502    913618  D-10P CKN 2-5PM   M                      16.822 ⋯\n",
       "      10 │      502    710033  DEL SURCHARGE     M                       3.738\n",
       "      11 │      502    916137  D-FM POT BWL      M                       5.0\n",
       "    ⋮    │    ⋮         ⋮             ⋮                 ⋮               ⋮      ⋱\n",
       " 5214315 │      670    200006  RT BEER -M        M                       2.757\n",
       " 5214316 │      670    921046  5P ACB 30%        M                       9.626 ⋯\n",
       " 5214317 │      670    922204  ZNG+SJ-R          M                       0.934\n",
       " 5214318 │      670    921048  15P ACB 30%       M                      25.420\n",
       " 5214319 │      670    922110  2P(TG) ML         M                       8.364\n",
       " 5214320 │      670    450011  RWP>CF            M                       2.056 ⋯\n",
       " 5214321 │      670    914357  1P EGG TART       M                       1.215\n",
       " 5214322 │      670    912781  1 OR ZNG BX       M                       8.551\n",
       " 5214323 │      670    450046  RFF>CFRIES        M                       1.869\n",
       " 5214324 │      670    914357  1P EGG TART       M                       1.215 ⋯\n",
       " 5214325 │      670    921046  5P ACB 30%        M                       9.626\n",
       "\u001b[36m                                              6 columns and 5214303 rows omitted\u001b[0m\n",
       "⋮\n",
       "Last Group (12833 rows): transaction_type = \"D\"\n",
       "\u001b[1m   Row \u001b[0m│\u001b[1m storenum \u001b[0m\u001b[1m item_key \u001b[0m\u001b[1m item_description    \u001b[0m\u001b[1m transaction_type \u001b[0m\u001b[1m sales_amou\u001b[0m ⋯\n",
       "\u001b[1m       \u001b[0m│\u001b[90m Int64    \u001b[0m\u001b[90m Int64    \u001b[0m\u001b[90m String              \u001b[0m\u001b[90m String           \u001b[0m\u001b[90m Float64   \u001b[0m ⋯\n",
       "───────┼────────────────────────────────────────────────────────────────────────\n",
       "     1 │      502      2000  25% EMP DISC         D                      -1.96 ⋯\n",
       "     2 │      502      3007  $1-OFF(PAssion)      D                      -0.93\n",
       "     3 │      502      8027  10% OFF GES DEAL     D                      -1.81\n",
       "     4 │      502      3007  $1-OFF(PAssion)      D                      -0.93\n",
       "     5 │      504      3007  $1-OFF(PAssion)      D                      -0.93 ⋯\n",
       "     6 │      504      3007  $1-OFF(PAssion)      D                      -0.93\n",
       "     7 │      504      3007  $1-OFF(PAssion)      D                       0.93\n",
       "     8 │      504      3007  $1-OFF(PAssion)      D                      -0.93\n",
       "     9 │      504      5010  10% OFF(LSM)         D                      -0.94 ⋯\n",
       "    10 │      504      8027  10% OFF GES DEAL     D                      -2.24\n",
       "    11 │      505      5016  10% OFF xFOOD PANDA  D                      -1.07\n",
       "   ⋮   │    ⋮         ⋮               ⋮                  ⋮               ⋮     ⋱\n",
       " 12823 │      660      8027  10% OFF GES DEAL     D                      -0.46\n",
       " 12824 │      660      8027  10% OFF GES DEAL     D                      -1.66 ⋯\n",
       " 12825 │      664      3007  $1-OFF(PAssion)      D                      -0.93\n",
       " 12826 │      664      3007  $1-OFF(PAssion)      D                      -0.93\n",
       " 12827 │      664      8027  10% OFF GES DEAL     D                      -0.60\n",
       " 12828 │      665      3007  $1-OFF(PAssion)      D                      -0.93 ⋯\n",
       " 12829 │      665      3007  $1-OFF(PAssion)      D                      -0.93\n",
       " 12830 │      665      5010  10% OFF(LSM)         D                      -0.46\n",
       " 12831 │      666      3007  $1-OFF(PAssion)      D                      -0.93\n",
       " 12832 │      670      8027  10% OFF GES DEAL     D                      -0.78 ⋯\n",
       " 12833 │      670      8027  10% OFF GES DEAL     D                      -0.32\n",
       "\u001b[36m                                                6 columns and 12811 rows omitted\u001b[0m"
      ]
     },
     "execution_count": 5,
     "metadata": {},
     "output_type": "execute_result"
    }
   ],
   "source": [
    "#group by transaction type\n",
    "grp = groupby(df, :transaction_type)"
   ]
  },
  {
   "cell_type": "code",
   "execution_count": 6,
   "metadata": {
    "scrolled": true
   },
   "outputs": [
    {
     "data": {
      "text/html": [
       "<table class=\"data-frame\"><thead><tr><th></th><th>storenum</th><th>item_key</th><th>item_description</th><th>transaction_type</th><th>sales_amount</th><th>sales_channel</th></tr><tr><th></th><th>Int64</th><th>Int64</th><th>String</th><th>String</th><th>Float64</th><th>String</th></tr></thead><tbody><p>5,214,325 rows × 10 columns (omitted printing of 4 columns)</p><tr><th>1</th><td>502</td><td>916755</td><td>D-10P CKN BKT</td><td>M</td><td>26.9159</td><td>Online-Delivery</td></tr><tr><th>2</th><td>502</td><td>710033</td><td>DEL SURCHARGE</td><td>M</td><td>3.7383</td><td>Online-Delivery</td></tr><tr><th>3</th><td>502</td><td>700103</td><td>D-3PC ML(OR)</td><td>M</td><td>58.4112</td><td>Phone-Delivery</td></tr><tr><th>4</th><td>502</td><td>710033</td><td>DEL SURCHARGE</td><td>M</td><td>3.7383</td><td>Phone-Delivery</td></tr><tr><th>5</th><td>502</td><td>710009</td><td>D-ZINGER</td><td>M</td><td>10.9346</td><td>Phone-Delivery</td></tr><tr><th>6</th><td>502</td><td>700103</td><td>D-3PC ML(OR)</td><td>M</td><td>46.729</td><td>Phone-Delivery</td></tr><tr><th>7</th><td>502</td><td>710033</td><td>DEL SURCHARGE</td><td>M</td><td>3.7383</td><td>Phone-Delivery</td></tr><tr><th>8</th><td>502</td><td>922023</td><td>D-10 FOR $10</td><td>M</td><td>9.3458</td><td>Online-Delivery</td></tr><tr><th>9</th><td>502</td><td>913618</td><td>D-10P CKN 2-5PM</td><td>M</td><td>16.8224</td><td>Online-Delivery</td></tr><tr><th>10</th><td>502</td><td>710033</td><td>DEL SURCHARGE</td><td>M</td><td>3.7383</td><td>Online-Delivery</td></tr><tr><th>11</th><td>502</td><td>916137</td><td>D-FM POT BWL</td><td>M</td><td>5.0</td><td>Online-Delivery</td></tr><tr><th>12</th><td>502</td><td>710018</td><td>D-C/SL MED</td><td>M</td><td>3.4579</td><td>Online-Delivery</td></tr><tr><th>13</th><td>502</td><td>710021</td><td>D-W/PT MED</td><td>M</td><td>3.4579</td><td>Online-Delivery</td></tr><tr><th>14</th><td>502</td><td>919893</td><td>D-8P FOR $15</td><td>M</td><td>14.0187</td><td>Online-Delivery</td></tr><tr><th>15</th><td>502</td><td>710033</td><td>DEL SURCHARGE</td><td>M</td><td>3.7383</td><td>Online-Delivery</td></tr><tr><th>16</th><td>502</td><td>913961</td><td>D-8P VRTY FEAST</td><td>M</td><td>38.271</td><td>Online-Delivery</td></tr><tr><th>17</th><td>502</td><td>710033</td><td>DEL SURCHARGE</td><td>M</td><td>3.7383</td><td>Online-Delivery</td></tr><tr><th>18</th><td>502</td><td>921466</td><td>D-2P CKN BX</td><td>M</td><td>39.2523</td><td>Online-Delivery</td></tr><tr><th>19</th><td>502</td><td>921466</td><td>D-2P CKN BX</td><td>M</td><td>39.2523</td><td>Online-Delivery</td></tr><tr><th>20</th><td>502</td><td>921466</td><td>D-2P CKN BX</td><td>M</td><td>29.4393</td><td>Online-Delivery</td></tr><tr><th>21</th><td>502</td><td>710033</td><td>DEL SURCHARGE</td><td>M</td><td>3.7383</td><td>Online-Delivery</td></tr><tr><th>22</th><td>502</td><td>913299</td><td>D-AO 2 CHZ FRIES-APP</td><td>M</td><td>5.6075</td><td>Online-Delivery</td></tr><tr><th>23</th><td>502</td><td>922023</td><td>D-10 FOR $10</td><td>M</td><td>9.3458</td><td>Online-Delivery</td></tr><tr><th>24</th><td>502</td><td>710033</td><td>DEL SURCHARGE</td><td>M</td><td>3.7383</td><td>Online-Delivery</td></tr><tr><th>25</th><td>502</td><td>921474</td><td>D-ZNGBX+2P CKN BX</td><td>M</td><td>15.1402</td><td>Online-Delivery</td></tr><tr><th>26</th><td>502</td><td>916131</td><td>D-1P CRY BWL ML</td><td>M</td><td>7.9907</td><td>Online-Delivery</td></tr><tr><th>27</th><td>502</td><td>912754</td><td>D-1P ZNG BOX</td><td>M</td><td>10.2336</td><td>Online-Delivery</td></tr><tr><th>28</th><td>502</td><td>710033</td><td>DEL SURCHARGE</td><td>M</td><td>3.7383</td><td>Online-Delivery</td></tr><tr><th>29</th><td>502</td><td>916759</td><td>D-ALA SNACK N SHARE BX  </td><td>M</td><td>12.1028</td><td>Online-Delivery</td></tr><tr><th>30</th><td>502</td><td>922023</td><td>D-10 FOR $10</td><td>M</td><td>9.3458</td><td>Online-Delivery</td></tr><tr><th>&vellip;</th><td>&vellip;</td><td>&vellip;</td><td>&vellip;</td><td>&vellip;</td><td>&vellip;</td><td>&vellip;</td></tr></tbody></table>"
      ],
      "text/latex": [
       "\\begin{tabular}{r|ccccccc}\n",
       "\t& storenum & item\\_key & item\\_description & transaction\\_type & sales\\_amount & sales\\_channel & \\\\\n",
       "\t\\hline\n",
       "\t& Int64 & Int64 & String & String & Float64 & String & \\\\\n",
       "\t\\hline\n",
       "\t1 & 502 & 916755 & D-10P CKN BKT & M & 26.9159 & Online-Delivery & $\\dots$ \\\\\n",
       "\t2 & 502 & 710033 & DEL SURCHARGE & M & 3.7383 & Online-Delivery & $\\dots$ \\\\\n",
       "\t3 & 502 & 700103 & D-3PC ML(OR) & M & 58.4112 & Phone-Delivery & $\\dots$ \\\\\n",
       "\t4 & 502 & 710033 & DEL SURCHARGE & M & 3.7383 & Phone-Delivery & $\\dots$ \\\\\n",
       "\t5 & 502 & 710009 & D-ZINGER & M & 10.9346 & Phone-Delivery & $\\dots$ \\\\\n",
       "\t6 & 502 & 700103 & D-3PC ML(OR) & M & 46.729 & Phone-Delivery & $\\dots$ \\\\\n",
       "\t7 & 502 & 710033 & DEL SURCHARGE & M & 3.7383 & Phone-Delivery & $\\dots$ \\\\\n",
       "\t8 & 502 & 922023 & D-10 FOR \\$10 & M & 9.3458 & Online-Delivery & $\\dots$ \\\\\n",
       "\t9 & 502 & 913618 & D-10P CKN 2-5PM & M & 16.8224 & Online-Delivery & $\\dots$ \\\\\n",
       "\t10 & 502 & 710033 & DEL SURCHARGE & M & 3.7383 & Online-Delivery & $\\dots$ \\\\\n",
       "\t11 & 502 & 916137 & D-FM POT BWL & M & 5.0 & Online-Delivery & $\\dots$ \\\\\n",
       "\t12 & 502 & 710018 & D-C/SL MED & M & 3.4579 & Online-Delivery & $\\dots$ \\\\\n",
       "\t13 & 502 & 710021 & D-W/PT MED & M & 3.4579 & Online-Delivery & $\\dots$ \\\\\n",
       "\t14 & 502 & 919893 & D-8P FOR \\$15 & M & 14.0187 & Online-Delivery & $\\dots$ \\\\\n",
       "\t15 & 502 & 710033 & DEL SURCHARGE & M & 3.7383 & Online-Delivery & $\\dots$ \\\\\n",
       "\t16 & 502 & 913961 & D-8P VRTY FEAST & M & 38.271 & Online-Delivery & $\\dots$ \\\\\n",
       "\t17 & 502 & 710033 & DEL SURCHARGE & M & 3.7383 & Online-Delivery & $\\dots$ \\\\\n",
       "\t18 & 502 & 921466 & D-2P CKN BX & M & 39.2523 & Online-Delivery & $\\dots$ \\\\\n",
       "\t19 & 502 & 921466 & D-2P CKN BX & M & 39.2523 & Online-Delivery & $\\dots$ \\\\\n",
       "\t20 & 502 & 921466 & D-2P CKN BX & M & 29.4393 & Online-Delivery & $\\dots$ \\\\\n",
       "\t21 & 502 & 710033 & DEL SURCHARGE & M & 3.7383 & Online-Delivery & $\\dots$ \\\\\n",
       "\t22 & 502 & 913299 & D-AO 2 CHZ FRIES-APP & M & 5.6075 & Online-Delivery & $\\dots$ \\\\\n",
       "\t23 & 502 & 922023 & D-10 FOR \\$10 & M & 9.3458 & Online-Delivery & $\\dots$ \\\\\n",
       "\t24 & 502 & 710033 & DEL SURCHARGE & M & 3.7383 & Online-Delivery & $\\dots$ \\\\\n",
       "\t25 & 502 & 921474 & D-ZNGBX+2P CKN BX & M & 15.1402 & Online-Delivery & $\\dots$ \\\\\n",
       "\t26 & 502 & 916131 & D-1P CRY BWL ML & M & 7.9907 & Online-Delivery & $\\dots$ \\\\\n",
       "\t27 & 502 & 912754 & D-1P ZNG BOX & M & 10.2336 & Online-Delivery & $\\dots$ \\\\\n",
       "\t28 & 502 & 710033 & DEL SURCHARGE & M & 3.7383 & Online-Delivery & $\\dots$ \\\\\n",
       "\t29 & 502 & 916759 & D-ALA SNACK N SHARE BX   & M & 12.1028 & Online-Delivery & $\\dots$ \\\\\n",
       "\t30 & 502 & 922023 & D-10 FOR \\$10 & M & 9.3458 & Online-Delivery & $\\dots$ \\\\\n",
       "\t$\\dots$ & $\\dots$ & $\\dots$ & $\\dots$ & $\\dots$ & $\\dots$ & $\\dots$ &  \\\\\n",
       "\\end{tabular}\n"
      ],
      "text/plain": [
       "\u001b[1m5214325×10 SubDataFrame\u001b[0m\n",
       "\u001b[1m     Row \u001b[0m│\u001b[1m storenum \u001b[0m\u001b[1m item_key \u001b[0m\u001b[1m item_description \u001b[0m\u001b[1m transaction_type \u001b[0m\u001b[1m sales_amoun\u001b[0m ⋯\n",
       "\u001b[1m         \u001b[0m│\u001b[90m Int64    \u001b[0m\u001b[90m Int64    \u001b[0m\u001b[90m String           \u001b[0m\u001b[90m String           \u001b[0m\u001b[90m Float64    \u001b[0m ⋯\n",
       "─────────┼──────────────────────────────────────────────────────────────────────\n",
       "       1 │      502    916755  D-10P CKN BKT     M                      26.915 ⋯\n",
       "       2 │      502    710033  DEL SURCHARGE     M                       3.738\n",
       "       3 │      502    700103  D-3PC ML(OR)      M                      58.411\n",
       "       4 │      502    710033  DEL SURCHARGE     M                       3.738\n",
       "       5 │      502    710009  D-ZINGER          M                      10.934 ⋯\n",
       "       6 │      502    700103  D-3PC ML(OR)      M                      46.729\n",
       "       7 │      502    710033  DEL SURCHARGE     M                       3.738\n",
       "       8 │      502    922023  D-10 FOR $10      M                       9.345\n",
       "       9 │      502    913618  D-10P CKN 2-5PM   M                      16.822 ⋯\n",
       "      10 │      502    710033  DEL SURCHARGE     M                       3.738\n",
       "      11 │      502    916137  D-FM POT BWL      M                       5.0\n",
       "    ⋮    │    ⋮         ⋮             ⋮                 ⋮               ⋮      ⋱\n",
       " 5214316 │      670    921046  5P ACB 30%        M                       9.626\n",
       " 5214317 │      670    922204  ZNG+SJ-R          M                       0.934 ⋯\n",
       " 5214318 │      670    921048  15P ACB 30%       M                      25.420\n",
       " 5214319 │      670    922110  2P(TG) ML         M                       8.364\n",
       " 5214320 │      670    450011  RWP>CF            M                       2.056\n",
       " 5214321 │      670    914357  1P EGG TART       M                       1.215 ⋯\n",
       " 5214322 │      670    912781  1 OR ZNG BX       M                       8.551\n",
       " 5214323 │      670    450046  RFF>CFRIES        M                       1.869\n",
       " 5214324 │      670    914357  1P EGG TART       M                       1.215\n",
       " 5214325 │      670    921046  5P ACB 30%        M                       9.626 ⋯\n",
       "\u001b[36m                                              6 columns and 5214304 rows omitted\u001b[0m"
      ]
     },
     "execution_count": 6,
     "metadata": {},
     "output_type": "execute_result"
    }
   ],
   "source": [
    "#selecting transaction type : M\n",
    "df = grp[1]"
   ]
  },
  {
   "cell_type": "code",
   "execution_count": 7,
   "metadata": {
    "scrolled": true
   },
   "outputs": [
    {
     "data": {
      "text/html": [
       "<p><b>GroupedDataFrame with 1264699 groups based on key: store_transaction_key</b></p><p><i>First Group (2 rows): store_transaction_key = \"502_1724_2021-03-29\"</i></p><table class=\"data-frame\"><thead><tr><th></th><th>storenum</th><th>item_key</th><th>item_description</th><th>transaction_type</th><th>sales_amount</th><th>sales_channel</th></tr><tr><th></th><th>Int64</th><th>Int64</th><th>String</th><th>String</th><th>Float64</th><th>String</th></tr></thead><tbody><tr><th>1</th><td>502</td><td>916755</td><td>D-10P CKN BKT</td><td>M</td><td>26.9159</td><td>Online-Delivery</td></tr><tr><th>2</th><td>502</td><td>710033</td><td>DEL SURCHARGE</td><td>M</td><td>3.7383</td><td>Online-Delivery</td></tr></tbody></table><p>&vellip;</p><p><i>Last Group (1 row): store_transaction_key = \"670_5319_2021-05-07\"</i></p><table class=\"data-frame\"><thead><tr><th></th><th>storenum</th><th>item_key</th><th>item_description</th><th>transaction_type</th><th>sales_amount</th><th>sales_channel</th></tr><tr><th></th><th>Int64</th><th>Int64</th><th>String</th><th>String</th><th>Float64</th><th>String</th></tr></thead><tbody><tr><th>1</th><td>670</td><td>921046</td><td>5P ACB 30%</td><td>M</td><td>9.6262</td><td>Self-Ordering TA</td></tr></tbody></table>"
      ],
      "text/latex": [
       "GroupedDataFrame with 1264699 groups based on key: store\\_transaction\\_key\n",
       "\n",
       "First Group (2 rows): store\\_transaction\\_key = \"502\\_1724\\_2021-03-29\"\n",
       "\n",
       "\\begin{tabular}{r|ccccccc}\n",
       "\t& storenum & item\\_key & item\\_description & transaction\\_type & sales\\_amount & sales\\_channel & \\\\\n",
       "\t\\hline\n",
       "\t& Int64 & Int64 & String & String & Float64 & String & \\\\\n",
       "\t\\hline\n",
       "\t1 & 502 & 916755 & D-10P CKN BKT & M & 26.9159 & Online-Delivery & $\\dots$ \\\\\n",
       "\t2 & 502 & 710033 & DEL SURCHARGE & M & 3.7383 & Online-Delivery & $\\dots$ \\\\\n",
       "\\end{tabular}\n",
       "\n",
       "$\\dots$\n",
       "\n",
       "Last Group (1 row): store\\_transaction\\_key = \"670\\_5319\\_2021-05-07\"\n",
       "\n",
       "\\begin{tabular}{r|ccccccc}\n",
       "\t& storenum & item\\_key & item\\_description & transaction\\_type & sales\\_amount & sales\\_channel & \\\\\n",
       "\t\\hline\n",
       "\t& Int64 & Int64 & String & String & Float64 & String & \\\\\n",
       "\t\\hline\n",
       "\t1 & 670 & 921046 & 5P ACB 30\\% & M & 9.6262 & Self-Ordering TA & $\\dots$ \\\\\n",
       "\\end{tabular}\n"
      ],
      "text/plain": [
       "GroupedDataFrame with 1264699 groups based on key: store_transaction_key\n",
       "First Group (2 rows): store_transaction_key = \"502_1724_2021-03-29\"\n",
       "\u001b[1m Row \u001b[0m│\u001b[1m storenum \u001b[0m\u001b[1m item_key \u001b[0m\u001b[1m item_description \u001b[0m\u001b[1m transaction_type \u001b[0m\u001b[1m sales_amount \u001b[0m\u001b[1m s\u001b[0m ⋯\n",
       "\u001b[1m     \u001b[0m│\u001b[90m Int64    \u001b[0m\u001b[90m Int64    \u001b[0m\u001b[90m String           \u001b[0m\u001b[90m String           \u001b[0m\u001b[90m Float64      \u001b[0m\u001b[90m S\u001b[0m ⋯\n",
       "─────┼──────────────────────────────────────────────────────────────────────────\n",
       "   1 │      502    916755  D-10P CKN BKT     M                      26.9159  O ⋯\n",
       "   2 │      502    710033  DEL SURCHARGE     M                       3.7383  O\n",
       "\u001b[36m                                                               5 columns omitted\u001b[0m\n",
       "⋮\n",
       "Last Group (1 row): store_transaction_key = \"670_5319_2021-05-07\"\n",
       "\u001b[1m Row \u001b[0m│\u001b[1m storenum \u001b[0m\u001b[1m item_key \u001b[0m\u001b[1m item_description \u001b[0m\u001b[1m transaction_type \u001b[0m\u001b[1m sales_amount \u001b[0m\u001b[1m s\u001b[0m ⋯\n",
       "\u001b[1m     \u001b[0m│\u001b[90m Int64    \u001b[0m\u001b[90m Int64    \u001b[0m\u001b[90m String           \u001b[0m\u001b[90m String           \u001b[0m\u001b[90m Float64      \u001b[0m\u001b[90m S\u001b[0m ⋯\n",
       "─────┼──────────────────────────────────────────────────────────────────────────\n",
       "   1 │      670    921046  5P ACB 30%        M                       9.6262  S ⋯\n",
       "\u001b[36m                                                               5 columns omitted\u001b[0m"
      ]
     },
     "execution_count": 7,
     "metadata": {},
     "output_type": "execute_result"
    }
   ],
   "source": [
    "#group by store transaction key\n",
    "grp = groupby(df, :store_transaction_key)"
   ]
  },
  {
   "cell_type": "code",
   "execution_count": 22,
   "metadata": {},
   "outputs": [
    {
     "data": {
      "text/plain": [
       "remove_space (generic function with 1 method)"
      ]
     },
     "execution_count": 22,
     "metadata": {},
     "output_type": "execute_result"
    }
   ],
   "source": [
    "#function to remove spaces\n",
    "function remove_space(s)\n",
    "    s1 = \"\"\n",
    "    for i in 1:length(s)\n",
    "        if(!isspace(s[i]))\n",
    "            s1 = s1 * s[i]\n",
    "        end\n",
    "    end\n",
    "    return s1\n",
    "end"
   ]
  },
  {
   "cell_type": "code",
   "execution_count": 23,
   "metadata": {},
   "outputs": [
    {
     "data": {
      "text/plain": [
       "change_item_desc! (generic function with 1 method)"
      ]
     },
     "execution_count": 23,
     "metadata": {},
     "output_type": "execute_result"
    }
   ],
   "source": [
    "#function that remove spaces from item description\n",
    "function change_item_desc!(grp)\n",
    "for i in 1:length(grp)\n",
    "    for j in 1:size(grp[i],1)\n",
    "        grp[i].item_description[j] = remove_space(grp[i].item_description[j])\n",
    "    end\n",
    "    #println(\"grp : \",i)\n",
    "end\n",
    "end"
   ]
  },
  {
   "cell_type": "code",
   "execution_count": 24,
   "metadata": {},
   "outputs": [],
   "source": [
    "change_item_desc!(grp)"
   ]
  },
  {
   "cell_type": "code",
   "execution_count": 2,
   "metadata": {},
   "outputs": [
    {
     "data": {
      "text/plain": [
       "WordVectors 1481 words, 20-element Float64 vectors"
      ]
     },
     "execution_count": 2,
     "metadata": {},
     "output_type": "execute_result"
    }
   ],
   "source": [
    "#load the word2vec model\n",
    "model = wordvectors(\"text-vec.txt\")"
   ]
  },
  {
   "cell_type": "code",
   "execution_count": 26,
   "metadata": {},
   "outputs": [
    {
     "data": {
      "text/plain": [
       "get_embedding (generic function with 1 method)"
      ]
     },
     "execution_count": 26,
     "metadata": {},
     "output_type": "execute_result"
    }
   ],
   "source": [
    "#function that combines embedding of different items in a particular transaction key\n",
    "function get_embedding(df1)\n",
    "    x = zeros(20,1)\n",
    "    for i in 1:size(df1,1)\n",
    "        #x = x + df1.quantity_sum[i] * get_vector(model,df1.item_description[i])\n",
    "        x = x + get_vector(model,df1.item_description[i])\n",
    "    end\n",
    "    return x\n",
    "end"
   ]
  },
  {
   "cell_type": "code",
   "execution_count": 34,
   "metadata": {},
   "outputs": [
    {
     "data": {
      "text/plain": [
       "get_embedding_vector (generic function with 1 method)"
      ]
     },
     "execution_count": 34,
     "metadata": {},
     "output_type": "execute_result"
    }
   ],
   "source": [
    "#function that generates embedding in a given range of transactions and combines them\n",
    "function get_embedding_vector(df,lower,upper)\n",
    "    #grp = groupby(df[lower], :item_description)\n",
    "    #df1 = combine(grp, :quantity => sum)\n",
    "    embedding_vector = get_embedding(df[lower])\n",
    "    for i in (lower+1):upper\n",
    "        #grp = groupby(df[i], :item_description)\n",
    "        #df1 = combine(grp, :quantity => sum)\n",
    "        embed = get_embedding(df[i])\n",
    "        embedding_vector = hcat(embedding_vector,embed)\n",
    "    end\n",
    "    return embedding_vector\n",
    "end"
   ]
  },
  {
   "cell_type": "code",
   "execution_count": 35,
   "metadata": {},
   "outputs": [
    {
     "data": {
      "text/plain": [
       "embeddings (generic function with 1 method)"
      ]
     },
     "execution_count": 35,
     "metadata": {},
     "output_type": "execute_result"
    }
   ],
   "source": [
    "#function that passes the range to get_embedding_vector and combines them all\n",
    "function embeddings(df,batch_size)\n",
    "    embedding = get_embedding_vector(df,1,1)\n",
    "    count = 2\n",
    "    max_length = size(df,1)\n",
    "    while (count <= max_length)\n",
    "        lower = count\n",
    "        upper = lower + batch_size\n",
    "        if(upper > max_length)\n",
    "            upper = max_length\n",
    "        end\n",
    "        embedding_batch = get_embedding_vector(df,lower,upper)\n",
    "        embedding = hcat(embedding,embedding_batch)\n",
    "        count = upper + 1\n",
    "        println(lower,\" \",upper)\n",
    "    end\n",
    "    return embedding\n",
    "end"
   ]
  },
  {
   "cell_type": "code",
   "execution_count": 36,
   "metadata": {
    "scrolled": true
   },
   "outputs": [
    {
     "name": "stdout",
     "output_type": "stream",
     "text": [
      "2 10002\n",
      "10003 20003\n",
      "20004 30004\n",
      "30005 40005\n",
      "40006 50006\n",
      "50007 60007\n",
      "60008 70008\n",
      "70009 80009\n",
      "80010 90010\n",
      "90011 100011\n",
      "100012 110012\n",
      "110013 120013\n",
      "120014 130014\n",
      "130015 140015\n",
      "140016 150016\n",
      "150017 160017\n",
      "160018 170018\n",
      "170019 180019\n",
      "180020 190020\n",
      "190021 200021\n",
      "200022 210022\n",
      "210023 220023\n",
      "220024 230024\n",
      "230025 240025\n",
      "240026 250026\n",
      "250027 260027\n",
      "260028 270028\n",
      "270029 280029\n",
      "280030 290030\n",
      "290031 300031\n",
      "300032 310032\n",
      "310033 320033\n",
      "320034 330034\n",
      "330035 340035\n",
      "340036 350036\n",
      "350037 360037\n",
      "360038 370038\n",
      "370039 380039\n",
      "380040 390040\n",
      "390041 400041\n",
      "400042 410042\n",
      "410043 420043\n",
      "420044 430044\n",
      "430045 440045\n",
      "440046 450046\n",
      "450047 460047\n",
      "460048 470048\n",
      "470049 480049\n",
      "480050 490050\n",
      "490051 500051\n",
      "500052 510052\n",
      "510053 520053\n",
      "520054 530054\n",
      "530055 540055\n",
      "540056 550056\n",
      "550057 560057\n",
      "560058 570058\n",
      "570059 580059\n",
      "580060 590060\n",
      "590061 600061\n",
      "600062 610062\n",
      "610063 620063\n",
      "620064 630064\n",
      "630065 640065\n",
      "640066 650066\n",
      "650067 660067\n",
      "660068 670068\n",
      "670069 680069\n",
      "680070 690070\n",
      "690071 700071\n",
      "700072 710072\n",
      "710073 720073\n",
      "720074 730074\n",
      "730075 740075\n",
      "740076 750076\n",
      "750077 760077\n",
      "760078 770078\n",
      "770079 780079\n",
      "780080 790080\n",
      "790081 800081\n",
      "800082 810082\n",
      "810083 820083\n",
      "820084 830084\n",
      "830085 840085\n",
      "840086 850086\n",
      "850087 860087\n",
      "860088 870088\n",
      "870089 880089\n",
      "880090 890090\n",
      "890091 900091\n",
      "900092 910092\n",
      "910093 920093\n",
      "920094 930094\n",
      "930095 940095\n",
      "940096 950096\n",
      "950097 960097\n",
      "960098 970098\n",
      "970099 980099\n",
      "980100 990100\n",
      "990101 1000101\n",
      "1000102 1010102\n",
      "1010103 1020103\n",
      "1020104 1030104\n",
      "1030105 1040105\n",
      "1040106 1050106\n",
      "1050107 1060107\n",
      "1060108 1070108\n",
      "1070109 1080109\n",
      "1080110 1090110\n",
      "1090111 1100111\n",
      "1100112 1110112\n",
      "1110113 1120113\n",
      "1120114 1130114\n",
      "1130115 1140115\n",
      "1140116 1150116\n",
      "1150117 1160117\n",
      "1160118 1170118\n",
      "1170119 1180119\n",
      "1180120 1190120\n",
      "1190121 1200121\n",
      "1200122 1210122\n",
      "1210123 1220123\n",
      "1220124 1230124\n",
      "1230125 1240125\n",
      "1240126 1250126\n",
      "1250127 1260127\n",
      "1260128 1264699\n"
     ]
    },
    {
     "data": {
      "text/plain": [
       "20×1264699 Matrix{Float64}:\n",
       "  0.0807736  -0.298324    -0.376631   …   0.531692    0.486949     0.178528\n",
       " -0.181403   -0.402742    -0.533046       0.84595     0.777913     0.0217549\n",
       "  0.472851    0.359196     0.606288       0.511388    0.0240603    0.0130382\n",
       " -0.724752   -0.509869    -0.701936       1.07786     0.387327    -0.203487\n",
       " -0.297743   -0.0244358   -0.0823986     -0.259268   -0.951213     0.0530786\n",
       " -0.0460276  -0.0582655    0.0422824  …  -0.367387   -0.123161     0.0912789\n",
       "  0.125119    0.0127468    0.170374      -0.545894   -0.235022    -0.171274\n",
       "  0.399329    0.330665     0.584976      -0.138561   -0.710823     0.0461399\n",
       " -0.162985   -0.0978179   -0.161787       0.175265    0.00757571  -0.374797\n",
       " -0.309832   -0.167004    -0.255125      -0.33333    -0.785822    -0.522906\n",
       "  0.879035    0.627074     1.02829    …  -0.406884   -0.56223      0.0537822\n",
       "  0.641812    0.64865      1.05065       -0.035325    0.729042    -0.150086\n",
       " -0.148668    0.00136002   0.0822228      0.683239    0.81125      0.0362989\n",
       " -0.600011   -0.788558    -1.07538        0.0472325   0.22988      0.244246\n",
       " -0.0195764   0.112441     0.0412687      0.262361   -0.397229    -0.120178\n",
       " -0.210922   -0.363839    -0.740743   …   0.51729    -0.016625    -0.269933\n",
       "  0.217447    0.158626     0.205341       0.73692     0.0406738    0.394099\n",
       " -0.164694   -0.0900915   -0.31668       -0.289946    0.410061     0.178828\n",
       "  0.43975     0.452007     0.731692       0.0191756   0.462571    -0.200147\n",
       " -0.277423   -0.541662    -0.8134         0.107862    0.724089    -0.261743"
      ]
     },
     "execution_count": 36,
     "metadata": {},
     "output_type": "execute_result"
    }
   ],
   "source": [
    "#generate all the embeddings\n",
    "embedding = embeddings(grp,10000)"
   ]
  },
  {
   "cell_type": "code",
   "execution_count": 39,
   "metadata": {
    "collapsed": true
   },
   "outputs": [
    {
     "data": {
      "text/plain": [
       "1264699×20 adjoint(::Matrix{Float64}) with eltype Float64:\n",
       "  0.0807736  -0.181403    0.472851     …  -0.164694    0.43975    -0.277423\n",
       " -0.298324   -0.402742    0.359196        -0.0900915   0.452007   -0.541662\n",
       " -0.376631   -0.533046    0.606288        -0.31668     0.731692   -0.8134\n",
       " -0.168432   -0.371601    0.981333        -0.0341286   0.710133   -0.435524\n",
       " -0.455413   -0.466958    1.19374         -1.09094     1.2236     -1.21271\n",
       "  0.058775   -0.393831    0.377368     …  -0.211293    0.316592   -0.333772\n",
       " -0.472407   -0.751798    1.25231          0.152741    0.51368    -0.783546\n",
       "  0.100918   -0.703018    0.780118        -0.17083     0.663192   -0.545561\n",
       " -0.461569   -0.881826    1.37396          0.0984649   0.752633   -0.947403\n",
       " -0.122057   -0.513262    0.693519        -0.345433    0.592342   -0.556627\n",
       " -0.367377   -0.566901    1.13106      …  -0.63274     0.817723   -0.671362\n",
       " -0.845733   -0.980413    1.88027         -1.01351     1.46286    -1.1625\n",
       " -0.112542   -0.461963    0.818379         0.0312036   0.429983   -0.379877\n",
       "  ⋮                                    ⋱                          \n",
       "  2.44109     1.8411      1.05654          0.0834623   0.293829    0.362142\n",
       " -0.0836162   0.0377523  -0.000954342      0.235177    0.207014    0.0308559\n",
       "  0.238756    0.517652    0.158536         0.499756    0.588752    0.24182\n",
       "  0.113163    0.0305402   0.0667357    …   0.236606   -0.183804   -0.26124\n",
       "  0.391466   -0.253537    0.0237103        0.192351    0.197711   -0.00360162\n",
       "  0.445203    0.626206    0.50667         -0.280784    0.465967    0.212214\n",
       "  0.178528    0.0217549   0.0130382        0.178828   -0.200147   -0.261743\n",
       "  0.413788   -0.0123858   0.253044        -0.0504766  -0.155738   -0.252317\n",
       "  0.0594564   0.0393438   0.0522137    …   0.276947   -0.120972   -0.291218\n",
       "  0.531692    0.84595     0.511388        -0.289946    0.0191756   0.107862\n",
       "  0.486949    0.777913    0.0240603        0.410061    0.462571    0.724089\n",
       "  0.178528    0.0217549   0.0130382        0.178828   -0.200147   -0.261743"
      ]
     },
     "execution_count": 39,
     "metadata": {},
     "output_type": "execute_result"
    }
   ],
   "source": [
    "#take the transpose\n",
    "embedding = embedding'"
   ]
  },
  {
   "cell_type": "code",
   "execution_count": 40,
   "metadata": {
    "collapsed": true
   },
   "outputs": [
    {
     "data": {
      "text/html": [
       "<table class=\"data-frame\"><thead><tr><th></th><th>x1</th><th>x2</th><th>x3</th><th>x4</th><th>x5</th><th>x6</th><th>x7</th></tr><tr><th></th><th>Float64</th><th>Float64</th><th>Float64</th><th>Float64</th><th>Float64</th><th>Float64</th><th>Float64</th></tr></thead><tbody><p>1,264,699 rows × 20 columns (omitted printing of 13 columns)</p><tr><th>1</th><td>0.0807736</td><td>-0.181403</td><td>0.472851</td><td>-0.724752</td><td>-0.297743</td><td>-0.0460276</td><td>0.125119</td></tr><tr><th>2</th><td>-0.298324</td><td>-0.402742</td><td>0.359196</td><td>-0.509869</td><td>-0.0244358</td><td>-0.0582655</td><td>0.0127468</td></tr><tr><th>3</th><td>-0.376631</td><td>-0.533046</td><td>0.606288</td><td>-0.701936</td><td>-0.0823986</td><td>0.0422824</td><td>0.170374</td></tr><tr><th>4</th><td>-0.168432</td><td>-0.371601</td><td>0.981333</td><td>-1.08266</td><td>-0.461833</td><td>0.18827</td><td>-0.0219005</td></tr><tr><th>5</th><td>-0.455413</td><td>-0.466958</td><td>1.19374</td><td>-1.53188</td><td>-0.364902</td><td>0.028291</td><td>0.173354</td></tr><tr><th>6</th><td>0.058775</td><td>-0.393831</td><td>0.377368</td><td>-0.802184</td><td>-0.389637</td><td>0.0201574</td><td>0.0480522</td></tr><tr><th>7</th><td>-0.472407</td><td>-0.751798</td><td>1.25231</td><td>-0.774226</td><td>0.467831</td><td>0.113411</td><td>0.807281</td></tr><tr><th>8</th><td>0.100918</td><td>-0.703018</td><td>0.780118</td><td>-0.6989</td><td>-0.259651</td><td>-0.126119</td><td>0.175043</td></tr><tr><th>9</th><td>-0.461569</td><td>-0.881826</td><td>1.37396</td><td>-0.80085</td><td>0.116868</td><td>0.288593</td><td>0.408366</td></tr><tr><th>10</th><td>-0.122057</td><td>-0.513262</td><td>0.693519</td><td>-1.23886</td><td>-0.39336</td><td>0.188452</td><td>0.120312</td></tr><tr><th>11</th><td>-0.367377</td><td>-0.566901</td><td>1.13106</td><td>-1.5333</td><td>-0.0225692</td><td>0.205838</td><td>0.203381</td></tr><tr><th>12</th><td>-0.845733</td><td>-0.980413</td><td>1.88027</td><td>-1.83487</td><td>0.410814</td><td>0.359629</td><td>0.07619</td></tr><tr><th>13</th><td>-0.112542</td><td>-0.461963</td><td>0.818379</td><td>-0.545331</td><td>0.024362</td><td>-0.0262666</td><td>0.0644608</td></tr><tr><th>14</th><td>0.100918</td><td>-0.703018</td><td>0.780118</td><td>-0.6989</td><td>-0.259651</td><td>-0.126119</td><td>0.175043</td></tr><tr><th>15</th><td>-1.14068</td><td>-1.30644</td><td>2.11473</td><td>-2.25787</td><td>-0.947927</td><td>0.821257</td><td>-0.26388</td></tr><tr><th>16</th><td>-0.519634</td><td>-1.19437</td><td>1.81915</td><td>-1.8118</td><td>0.121729</td><td>0.544099</td><td>0.45435</td></tr><tr><th>17</th><td>-0.0602937</td><td>-0.252198</td><td>0.737318</td><td>-1.10921</td><td>-0.211005</td><td>0.0292459</td><td>0.115073</td></tr><tr><th>18</th><td>-0.166387</td><td>-1.10598</td><td>1.97396</td><td>-1.03001</td><td>-0.257371</td><td>-0.0487326</td><td>0.0260226</td></tr><tr><th>19</th><td>-0.0982529</td><td>-0.386201</td><td>0.746273</td><td>-0.907158</td><td>-0.434066</td><td>0.0955928</td><td>-0.22281</td></tr><tr><th>20</th><td>0.0404971</td><td>-0.216866</td><td>0.719635</td><td>-0.558035</td><td>-0.166147</td><td>-0.0167215</td><td>-0.0265851</td></tr><tr><th>21</th><td>0.100918</td><td>-0.703018</td><td>0.780118</td><td>-0.6989</td><td>-0.259651</td><td>-0.126119</td><td>0.175043</td></tr><tr><th>22</th><td>-0.700342</td><td>-1.11106</td><td>1.50212</td><td>-1.45542</td><td>-0.243436</td><td>0.582046</td><td>0.493256</td></tr><tr><th>23</th><td>-0.272838</td><td>-0.603037</td><td>1.05466</td><td>-0.90734</td><td>0.176448</td><td>0.033905</td><td>0.674583</td></tr><tr><th>24</th><td>-1.04882</td><td>-1.50505</td><td>2.3951</td><td>-1.36068</td><td>0.462076</td><td>0.683404</td><td>0.799743</td></tr><tr><th>25</th><td>-0.0953782</td><td>-0.646763</td><td>0.660365</td><td>-0.655697</td><td>-0.121217</td><td>0.0249985</td><td>0.2334</td></tr><tr><th>26</th><td>-0.429771</td><td>-0.710939</td><td>1.21948</td><td>-0.828895</td><td>-0.0610887</td><td>0.172568</td><td>-0.00986505</td></tr><tr><th>27</th><td>-0.204868</td><td>-0.958282</td><td>0.962475</td><td>-1.31434</td><td>-0.497723</td><td>-0.0124053</td><td>0.274015</td></tr><tr><th>28</th><td>0.0807736</td><td>-0.181403</td><td>0.472851</td><td>-0.724752</td><td>-0.297743</td><td>-0.0460276</td><td>0.125119</td></tr><tr><th>29</th><td>-0.110399</td><td>-0.207228</td><td>0.8565</td><td>-1.29321</td><td>-0.43303</td><td>-0.127818</td><td>0.273957</td></tr><tr><th>30</th><td>-0.251264</td><td>-0.540134</td><td>1.08669</td><td>-0.822451</td><td>0.130671</td><td>-0.0112444</td><td>0.173402</td></tr><tr><th>&vellip;</th><td>&vellip;</td><td>&vellip;</td><td>&vellip;</td><td>&vellip;</td><td>&vellip;</td><td>&vellip;</td><td>&vellip;</td></tr></tbody></table>"
      ],
      "text/latex": [
       "\\begin{tabular}{r|cccccccc}\n",
       "\t& x1 & x2 & x3 & x4 & x5 & x6 & x7 & \\\\\n",
       "\t\\hline\n",
       "\t& Float64 & Float64 & Float64 & Float64 & Float64 & Float64 & Float64 & \\\\\n",
       "\t\\hline\n",
       "\t1 & 0.0807736 & -0.181403 & 0.472851 & -0.724752 & -0.297743 & -0.0460276 & 0.125119 & $\\dots$ \\\\\n",
       "\t2 & -0.298324 & -0.402742 & 0.359196 & -0.509869 & -0.0244358 & -0.0582655 & 0.0127468 & $\\dots$ \\\\\n",
       "\t3 & -0.376631 & -0.533046 & 0.606288 & -0.701936 & -0.0823986 & 0.0422824 & 0.170374 & $\\dots$ \\\\\n",
       "\t4 & -0.168432 & -0.371601 & 0.981333 & -1.08266 & -0.461833 & 0.18827 & -0.0219005 & $\\dots$ \\\\\n",
       "\t5 & -0.455413 & -0.466958 & 1.19374 & -1.53188 & -0.364902 & 0.028291 & 0.173354 & $\\dots$ \\\\\n",
       "\t6 & 0.058775 & -0.393831 & 0.377368 & -0.802184 & -0.389637 & 0.0201574 & 0.0480522 & $\\dots$ \\\\\n",
       "\t7 & -0.472407 & -0.751798 & 1.25231 & -0.774226 & 0.467831 & 0.113411 & 0.807281 & $\\dots$ \\\\\n",
       "\t8 & 0.100918 & -0.703018 & 0.780118 & -0.6989 & -0.259651 & -0.126119 & 0.175043 & $\\dots$ \\\\\n",
       "\t9 & -0.461569 & -0.881826 & 1.37396 & -0.80085 & 0.116868 & 0.288593 & 0.408366 & $\\dots$ \\\\\n",
       "\t10 & -0.122057 & -0.513262 & 0.693519 & -1.23886 & -0.39336 & 0.188452 & 0.120312 & $\\dots$ \\\\\n",
       "\t11 & -0.367377 & -0.566901 & 1.13106 & -1.5333 & -0.0225692 & 0.205838 & 0.203381 & $\\dots$ \\\\\n",
       "\t12 & -0.845733 & -0.980413 & 1.88027 & -1.83487 & 0.410814 & 0.359629 & 0.07619 & $\\dots$ \\\\\n",
       "\t13 & -0.112542 & -0.461963 & 0.818379 & -0.545331 & 0.024362 & -0.0262666 & 0.0644608 & $\\dots$ \\\\\n",
       "\t14 & 0.100918 & -0.703018 & 0.780118 & -0.6989 & -0.259651 & -0.126119 & 0.175043 & $\\dots$ \\\\\n",
       "\t15 & -1.14068 & -1.30644 & 2.11473 & -2.25787 & -0.947927 & 0.821257 & -0.26388 & $\\dots$ \\\\\n",
       "\t16 & -0.519634 & -1.19437 & 1.81915 & -1.8118 & 0.121729 & 0.544099 & 0.45435 & $\\dots$ \\\\\n",
       "\t17 & -0.0602937 & -0.252198 & 0.737318 & -1.10921 & -0.211005 & 0.0292459 & 0.115073 & $\\dots$ \\\\\n",
       "\t18 & -0.166387 & -1.10598 & 1.97396 & -1.03001 & -0.257371 & -0.0487326 & 0.0260226 & $\\dots$ \\\\\n",
       "\t19 & -0.0982529 & -0.386201 & 0.746273 & -0.907158 & -0.434066 & 0.0955928 & -0.22281 & $\\dots$ \\\\\n",
       "\t20 & 0.0404971 & -0.216866 & 0.719635 & -0.558035 & -0.166147 & -0.0167215 & -0.0265851 & $\\dots$ \\\\\n",
       "\t21 & 0.100918 & -0.703018 & 0.780118 & -0.6989 & -0.259651 & -0.126119 & 0.175043 & $\\dots$ \\\\\n",
       "\t22 & -0.700342 & -1.11106 & 1.50212 & -1.45542 & -0.243436 & 0.582046 & 0.493256 & $\\dots$ \\\\\n",
       "\t23 & -0.272838 & -0.603037 & 1.05466 & -0.90734 & 0.176448 & 0.033905 & 0.674583 & $\\dots$ \\\\\n",
       "\t24 & -1.04882 & -1.50505 & 2.3951 & -1.36068 & 0.462076 & 0.683404 & 0.799743 & $\\dots$ \\\\\n",
       "\t25 & -0.0953782 & -0.646763 & 0.660365 & -0.655697 & -0.121217 & 0.0249985 & 0.2334 & $\\dots$ \\\\\n",
       "\t26 & -0.429771 & -0.710939 & 1.21948 & -0.828895 & -0.0610887 & 0.172568 & -0.00986505 & $\\dots$ \\\\\n",
       "\t27 & -0.204868 & -0.958282 & 0.962475 & -1.31434 & -0.497723 & -0.0124053 & 0.274015 & $\\dots$ \\\\\n",
       "\t28 & 0.0807736 & -0.181403 & 0.472851 & -0.724752 & -0.297743 & -0.0460276 & 0.125119 & $\\dots$ \\\\\n",
       "\t29 & -0.110399 & -0.207228 & 0.8565 & -1.29321 & -0.43303 & -0.127818 & 0.273957 & $\\dots$ \\\\\n",
       "\t30 & -0.251264 & -0.540134 & 1.08669 & -0.822451 & 0.130671 & -0.0112444 & 0.173402 & $\\dots$ \\\\\n",
       "\t$\\dots$ & $\\dots$ & $\\dots$ & $\\dots$ & $\\dots$ & $\\dots$ & $\\dots$ & $\\dots$ &  \\\\\n",
       "\\end{tabular}\n"
      ],
      "text/plain": [
       "\u001b[1m1264699×20 DataFrame\u001b[0m\n",
       "\u001b[1m     Row \u001b[0m│\u001b[1m x1         \u001b[0m\u001b[1m x2         \u001b[0m\u001b[1m x3           \u001b[0m\u001b[1m x4         \u001b[0m\u001b[1m x5         \u001b[0m\u001b[1m x6   \u001b[0m ⋯\n",
       "\u001b[1m         \u001b[0m│\u001b[90m Float64    \u001b[0m\u001b[90m Float64    \u001b[0m\u001b[90m Float64      \u001b[0m\u001b[90m Float64    \u001b[0m\u001b[90m Float64    \u001b[0m\u001b[90m Float\u001b[0m ⋯\n",
       "─────────┼──────────────────────────────────────────────────────────────────────\n",
       "       1 │  0.0807736  -0.181403    0.472851     -0.724752   -0.297743   -0.04 ⋯\n",
       "       2 │ -0.298324   -0.402742    0.359196     -0.509869   -0.0244358  -0.05\n",
       "       3 │ -0.376631   -0.533046    0.606288     -0.701936   -0.0823986   0.04\n",
       "       4 │ -0.168432   -0.371601    0.981333     -1.08266    -0.461833    0.18\n",
       "       5 │ -0.455413   -0.466958    1.19374      -1.53188    -0.364902    0.02 ⋯\n",
       "       6 │  0.058775   -0.393831    0.377368     -0.802184   -0.389637    0.02\n",
       "       7 │ -0.472407   -0.751798    1.25231      -0.774226    0.467831    0.11\n",
       "       8 │  0.100918   -0.703018    0.780118     -0.6989     -0.259651   -0.12\n",
       "       9 │ -0.461569   -0.881826    1.37396      -0.80085     0.116868    0.28 ⋯\n",
       "      10 │ -0.122057   -0.513262    0.693519     -1.23886    -0.39336     0.18\n",
       "      11 │ -0.367377   -0.566901    1.13106      -1.5333     -0.0225692   0.20\n",
       "    ⋮    │     ⋮           ⋮            ⋮            ⋮           ⋮           ⋮ ⋱\n",
       " 1264690 │  0.238756    0.517652    0.158536     -0.214609   -0.172406   -0.03\n",
       " 1264691 │  0.113163    0.0305402   0.0667357    -0.153462    0.0613791   0.10 ⋯\n",
       " 1264692 │  0.391466   -0.253537    0.0237103    -0.27032     0.0627411  -0.29\n",
       " 1264693 │  0.445203    0.626206    0.50667      -0.214465   -0.242198    0.28\n",
       " 1264694 │  0.178528    0.0217549   0.0130382    -0.203487    0.0530786   0.09\n",
       " 1264695 │  0.413788   -0.0123858   0.253044      0.0362252   0.462365   -0.25 ⋯\n",
       " 1264696 │  0.0594564   0.0393438   0.0522137    -0.124757   -0.0489487   0.05\n",
       " 1264697 │  0.531692    0.84595     0.511388      1.07786    -0.259268   -0.36\n",
       " 1264698 │  0.486949    0.777913    0.0240603     0.387327   -0.951213   -0.12\n",
       " 1264699 │  0.178528    0.0217549   0.0130382    -0.203487    0.0530786   0.09 ⋯\n",
       "\u001b[36m                                             15 columns and 1264678 rows omitted\u001b[0m"
      ]
     },
     "execution_count": 40,
     "metadata": {},
     "output_type": "execute_result"
    }
   ],
   "source": [
    "#convert embedding to dataframe\n",
    "df_embedding = DataFrame(embedding,:auto)"
   ]
  },
  {
   "cell_type": "code",
   "execution_count": 42,
   "metadata": {},
   "outputs": [
    {
     "data": {
      "text/plain": [
       "\"embedding-all.csv\""
      ]
     },
     "execution_count": 42,
     "metadata": {},
     "output_type": "execute_result"
    }
   ],
   "source": [
    "#save the embedding dataframe\n",
    "CSV.write(\"embedding-all.csv\",df_embedding)"
   ]
  },
  {
   "cell_type": "code",
   "execution_count": 3,
   "metadata": {
    "collapsed": true
   },
   "outputs": [
    {
     "data": {
      "text/html": [
       "<table class=\"data-frame\"><thead><tr><th></th><th>x1</th><th>x2</th><th>x3</th><th>x4</th><th>x5</th><th>x6</th><th>x7</th></tr><tr><th></th><th>Float64</th><th>Float64</th><th>Float64</th><th>Float64</th><th>Float64</th><th>Float64</th><th>Float64</th></tr></thead><tbody><p>1,264,699 rows × 20 columns (omitted printing of 13 columns)</p><tr><th>1</th><td>0.0807736</td><td>-0.181403</td><td>0.472851</td><td>-0.724752</td><td>-0.297743</td><td>-0.0460276</td><td>0.125119</td></tr><tr><th>2</th><td>-0.298324</td><td>-0.402742</td><td>0.359196</td><td>-0.509869</td><td>-0.0244358</td><td>-0.0582655</td><td>0.0127468</td></tr><tr><th>3</th><td>-0.376631</td><td>-0.533046</td><td>0.606288</td><td>-0.701936</td><td>-0.0823986</td><td>0.0422824</td><td>0.170374</td></tr><tr><th>4</th><td>-0.168432</td><td>-0.371601</td><td>0.981333</td><td>-1.08266</td><td>-0.461833</td><td>0.18827</td><td>-0.0219005</td></tr><tr><th>5</th><td>-0.455413</td><td>-0.466958</td><td>1.19374</td><td>-1.53188</td><td>-0.364902</td><td>0.028291</td><td>0.173354</td></tr><tr><th>6</th><td>0.058775</td><td>-0.393831</td><td>0.377368</td><td>-0.802184</td><td>-0.389637</td><td>0.0201574</td><td>0.0480522</td></tr><tr><th>7</th><td>-0.472407</td><td>-0.751798</td><td>1.25231</td><td>-0.774226</td><td>0.467831</td><td>0.113411</td><td>0.807281</td></tr><tr><th>8</th><td>0.100918</td><td>-0.703018</td><td>0.780118</td><td>-0.6989</td><td>-0.259651</td><td>-0.126119</td><td>0.175043</td></tr><tr><th>9</th><td>-0.461569</td><td>-0.881826</td><td>1.37396</td><td>-0.80085</td><td>0.116868</td><td>0.288593</td><td>0.408366</td></tr><tr><th>10</th><td>-0.122057</td><td>-0.513262</td><td>0.693519</td><td>-1.23886</td><td>-0.39336</td><td>0.188452</td><td>0.120312</td></tr><tr><th>11</th><td>-0.367377</td><td>-0.566901</td><td>1.13106</td><td>-1.5333</td><td>-0.0225692</td><td>0.205838</td><td>0.203381</td></tr><tr><th>12</th><td>-0.845733</td><td>-0.980413</td><td>1.88027</td><td>-1.83487</td><td>0.410814</td><td>0.359629</td><td>0.07619</td></tr><tr><th>13</th><td>-0.112542</td><td>-0.461963</td><td>0.818379</td><td>-0.545331</td><td>0.024362</td><td>-0.0262666</td><td>0.0644608</td></tr><tr><th>14</th><td>0.100918</td><td>-0.703018</td><td>0.780118</td><td>-0.6989</td><td>-0.259651</td><td>-0.126119</td><td>0.175043</td></tr><tr><th>15</th><td>-1.14068</td><td>-1.30644</td><td>2.11473</td><td>-2.25787</td><td>-0.947927</td><td>0.821257</td><td>-0.26388</td></tr><tr><th>16</th><td>-0.519634</td><td>-1.19437</td><td>1.81915</td><td>-1.8118</td><td>0.121729</td><td>0.544099</td><td>0.45435</td></tr><tr><th>17</th><td>-0.0602937</td><td>-0.252198</td><td>0.737318</td><td>-1.10921</td><td>-0.211005</td><td>0.0292459</td><td>0.115073</td></tr><tr><th>18</th><td>-0.166387</td><td>-1.10598</td><td>1.97396</td><td>-1.03001</td><td>-0.257371</td><td>-0.0487326</td><td>0.0260226</td></tr><tr><th>19</th><td>-0.0982529</td><td>-0.386201</td><td>0.746273</td><td>-0.907158</td><td>-0.434066</td><td>0.0955928</td><td>-0.22281</td></tr><tr><th>20</th><td>0.0404971</td><td>-0.216866</td><td>0.719635</td><td>-0.558035</td><td>-0.166147</td><td>-0.0167215</td><td>-0.0265851</td></tr><tr><th>21</th><td>0.100918</td><td>-0.703018</td><td>0.780118</td><td>-0.6989</td><td>-0.259651</td><td>-0.126119</td><td>0.175043</td></tr><tr><th>22</th><td>-0.700342</td><td>-1.11106</td><td>1.50212</td><td>-1.45542</td><td>-0.243436</td><td>0.582046</td><td>0.493256</td></tr><tr><th>23</th><td>-0.272838</td><td>-0.603037</td><td>1.05466</td><td>-0.90734</td><td>0.176448</td><td>0.033905</td><td>0.674583</td></tr><tr><th>24</th><td>-1.04882</td><td>-1.50505</td><td>2.3951</td><td>-1.36068</td><td>0.462076</td><td>0.683404</td><td>0.799743</td></tr><tr><th>25</th><td>-0.0953782</td><td>-0.646763</td><td>0.660365</td><td>-0.655697</td><td>-0.121217</td><td>0.0249985</td><td>0.2334</td></tr><tr><th>26</th><td>-0.429771</td><td>-0.710939</td><td>1.21948</td><td>-0.828895</td><td>-0.0610887</td><td>0.172568</td><td>-0.00986505</td></tr><tr><th>27</th><td>-0.204868</td><td>-0.958282</td><td>0.962475</td><td>-1.31434</td><td>-0.497723</td><td>-0.0124053</td><td>0.274015</td></tr><tr><th>28</th><td>0.0807736</td><td>-0.181403</td><td>0.472851</td><td>-0.724752</td><td>-0.297743</td><td>-0.0460276</td><td>0.125119</td></tr><tr><th>29</th><td>-0.110399</td><td>-0.207228</td><td>0.8565</td><td>-1.29321</td><td>-0.43303</td><td>-0.127818</td><td>0.273957</td></tr><tr><th>30</th><td>-0.251264</td><td>-0.540134</td><td>1.08669</td><td>-0.822451</td><td>0.130671</td><td>-0.0112444</td><td>0.173402</td></tr><tr><th>&vellip;</th><td>&vellip;</td><td>&vellip;</td><td>&vellip;</td><td>&vellip;</td><td>&vellip;</td><td>&vellip;</td><td>&vellip;</td></tr></tbody></table>"
      ],
      "text/latex": [
       "\\begin{tabular}{r|cccccccc}\n",
       "\t& x1 & x2 & x3 & x4 & x5 & x6 & x7 & \\\\\n",
       "\t\\hline\n",
       "\t& Float64 & Float64 & Float64 & Float64 & Float64 & Float64 & Float64 & \\\\\n",
       "\t\\hline\n",
       "\t1 & 0.0807736 & -0.181403 & 0.472851 & -0.724752 & -0.297743 & -0.0460276 & 0.125119 & $\\dots$ \\\\\n",
       "\t2 & -0.298324 & -0.402742 & 0.359196 & -0.509869 & -0.0244358 & -0.0582655 & 0.0127468 & $\\dots$ \\\\\n",
       "\t3 & -0.376631 & -0.533046 & 0.606288 & -0.701936 & -0.0823986 & 0.0422824 & 0.170374 & $\\dots$ \\\\\n",
       "\t4 & -0.168432 & -0.371601 & 0.981333 & -1.08266 & -0.461833 & 0.18827 & -0.0219005 & $\\dots$ \\\\\n",
       "\t5 & -0.455413 & -0.466958 & 1.19374 & -1.53188 & -0.364902 & 0.028291 & 0.173354 & $\\dots$ \\\\\n",
       "\t6 & 0.058775 & -0.393831 & 0.377368 & -0.802184 & -0.389637 & 0.0201574 & 0.0480522 & $\\dots$ \\\\\n",
       "\t7 & -0.472407 & -0.751798 & 1.25231 & -0.774226 & 0.467831 & 0.113411 & 0.807281 & $\\dots$ \\\\\n",
       "\t8 & 0.100918 & -0.703018 & 0.780118 & -0.6989 & -0.259651 & -0.126119 & 0.175043 & $\\dots$ \\\\\n",
       "\t9 & -0.461569 & -0.881826 & 1.37396 & -0.80085 & 0.116868 & 0.288593 & 0.408366 & $\\dots$ \\\\\n",
       "\t10 & -0.122057 & -0.513262 & 0.693519 & -1.23886 & -0.39336 & 0.188452 & 0.120312 & $\\dots$ \\\\\n",
       "\t11 & -0.367377 & -0.566901 & 1.13106 & -1.5333 & -0.0225692 & 0.205838 & 0.203381 & $\\dots$ \\\\\n",
       "\t12 & -0.845733 & -0.980413 & 1.88027 & -1.83487 & 0.410814 & 0.359629 & 0.07619 & $\\dots$ \\\\\n",
       "\t13 & -0.112542 & -0.461963 & 0.818379 & -0.545331 & 0.024362 & -0.0262666 & 0.0644608 & $\\dots$ \\\\\n",
       "\t14 & 0.100918 & -0.703018 & 0.780118 & -0.6989 & -0.259651 & -0.126119 & 0.175043 & $\\dots$ \\\\\n",
       "\t15 & -1.14068 & -1.30644 & 2.11473 & -2.25787 & -0.947927 & 0.821257 & -0.26388 & $\\dots$ \\\\\n",
       "\t16 & -0.519634 & -1.19437 & 1.81915 & -1.8118 & 0.121729 & 0.544099 & 0.45435 & $\\dots$ \\\\\n",
       "\t17 & -0.0602937 & -0.252198 & 0.737318 & -1.10921 & -0.211005 & 0.0292459 & 0.115073 & $\\dots$ \\\\\n",
       "\t18 & -0.166387 & -1.10598 & 1.97396 & -1.03001 & -0.257371 & -0.0487326 & 0.0260226 & $\\dots$ \\\\\n",
       "\t19 & -0.0982529 & -0.386201 & 0.746273 & -0.907158 & -0.434066 & 0.0955928 & -0.22281 & $\\dots$ \\\\\n",
       "\t20 & 0.0404971 & -0.216866 & 0.719635 & -0.558035 & -0.166147 & -0.0167215 & -0.0265851 & $\\dots$ \\\\\n",
       "\t21 & 0.100918 & -0.703018 & 0.780118 & -0.6989 & -0.259651 & -0.126119 & 0.175043 & $\\dots$ \\\\\n",
       "\t22 & -0.700342 & -1.11106 & 1.50212 & -1.45542 & -0.243436 & 0.582046 & 0.493256 & $\\dots$ \\\\\n",
       "\t23 & -0.272838 & -0.603037 & 1.05466 & -0.90734 & 0.176448 & 0.033905 & 0.674583 & $\\dots$ \\\\\n",
       "\t24 & -1.04882 & -1.50505 & 2.3951 & -1.36068 & 0.462076 & 0.683404 & 0.799743 & $\\dots$ \\\\\n",
       "\t25 & -0.0953782 & -0.646763 & 0.660365 & -0.655697 & -0.121217 & 0.0249985 & 0.2334 & $\\dots$ \\\\\n",
       "\t26 & -0.429771 & -0.710939 & 1.21948 & -0.828895 & -0.0610887 & 0.172568 & -0.00986505 & $\\dots$ \\\\\n",
       "\t27 & -0.204868 & -0.958282 & 0.962475 & -1.31434 & -0.497723 & -0.0124053 & 0.274015 & $\\dots$ \\\\\n",
       "\t28 & 0.0807736 & -0.181403 & 0.472851 & -0.724752 & -0.297743 & -0.0460276 & 0.125119 & $\\dots$ \\\\\n",
       "\t29 & -0.110399 & -0.207228 & 0.8565 & -1.29321 & -0.43303 & -0.127818 & 0.273957 & $\\dots$ \\\\\n",
       "\t30 & -0.251264 & -0.540134 & 1.08669 & -0.822451 & 0.130671 & -0.0112444 & 0.173402 & $\\dots$ \\\\\n",
       "\t$\\dots$ & $\\dots$ & $\\dots$ & $\\dots$ & $\\dots$ & $\\dots$ & $\\dots$ & $\\dots$ &  \\\\\n",
       "\\end{tabular}\n"
      ],
      "text/plain": [
       "\u001b[1m1264699×20 DataFrame\u001b[0m\n",
       "\u001b[1m     Row \u001b[0m│\u001b[1m x1         \u001b[0m\u001b[1m x2         \u001b[0m\u001b[1m x3           \u001b[0m\u001b[1m x4         \u001b[0m\u001b[1m x5         \u001b[0m\u001b[1m x6   \u001b[0m ⋯\n",
       "\u001b[1m         \u001b[0m│\u001b[90m Float64    \u001b[0m\u001b[90m Float64    \u001b[0m\u001b[90m Float64      \u001b[0m\u001b[90m Float64    \u001b[0m\u001b[90m Float64    \u001b[0m\u001b[90m Float\u001b[0m ⋯\n",
       "─────────┼──────────────────────────────────────────────────────────────────────\n",
       "       1 │  0.0807736  -0.181403    0.472851     -0.724752   -0.297743   -0.04 ⋯\n",
       "       2 │ -0.298324   -0.402742    0.359196     -0.509869   -0.0244358  -0.05\n",
       "       3 │ -0.376631   -0.533046    0.606288     -0.701936   -0.0823986   0.04\n",
       "       4 │ -0.168432   -0.371601    0.981333     -1.08266    -0.461833    0.18\n",
       "       5 │ -0.455413   -0.466958    1.19374      -1.53188    -0.364902    0.02 ⋯\n",
       "       6 │  0.058775   -0.393831    0.377368     -0.802184   -0.389637    0.02\n",
       "       7 │ -0.472407   -0.751798    1.25231      -0.774226    0.467831    0.11\n",
       "       8 │  0.100918   -0.703018    0.780118     -0.6989     -0.259651   -0.12\n",
       "       9 │ -0.461569   -0.881826    1.37396      -0.80085     0.116868    0.28 ⋯\n",
       "      10 │ -0.122057   -0.513262    0.693519     -1.23886    -0.39336     0.18\n",
       "      11 │ -0.367377   -0.566901    1.13106      -1.5333     -0.0225692   0.20\n",
       "    ⋮    │     ⋮           ⋮            ⋮            ⋮           ⋮           ⋮ ⋱\n",
       " 1264690 │  0.238756    0.517652    0.158536     -0.214609   -0.172406   -0.03\n",
       " 1264691 │  0.113163    0.0305402   0.0667357    -0.153462    0.0613791   0.10 ⋯\n",
       " 1264692 │  0.391466   -0.253537    0.0237103    -0.27032     0.0627411  -0.29\n",
       " 1264693 │  0.445203    0.626206    0.50667      -0.214465   -0.242198    0.28\n",
       " 1264694 │  0.178528    0.0217549   0.0130382    -0.203487    0.0530786   0.09\n",
       " 1264695 │  0.413788   -0.0123858   0.253044      0.0362252   0.462365   -0.25 ⋯\n",
       " 1264696 │  0.0594564   0.0393438   0.0522137    -0.124757   -0.0489487   0.05\n",
       " 1264697 │  0.531692    0.84595     0.511388      1.07786    -0.259268   -0.36\n",
       " 1264698 │  0.486949    0.777913    0.0240603     0.387327   -0.951213   -0.12\n",
       " 1264699 │  0.178528    0.0217549   0.0130382    -0.203487    0.0530786   0.09 ⋯\n",
       "\u001b[36m                                             15 columns and 1264678 rows omitted\u001b[0m"
      ]
     },
     "execution_count": 3,
     "metadata": {},
     "output_type": "execute_result"
    }
   ],
   "source": [
    "#load the embeddings\n",
    "df_embedding = DataFrame(CSV.File(\"embedding-all.csv\"))"
   ]
  },
  {
   "cell_type": "code",
   "execution_count": 18,
   "metadata": {
    "collapsed": true
   },
   "outputs": [
    {
     "data": {
      "text/plain": [
       "1264699×20 Matrix{Float64}:\n",
       "  0.0807736  -0.181403    0.472851     …  -0.164694    0.43975    -0.277423\n",
       " -0.298324   -0.402742    0.359196        -0.0900915   0.452007   -0.541662\n",
       " -0.376631   -0.533046    0.606288        -0.31668     0.731692   -0.8134\n",
       " -0.168432   -0.371601    0.981333        -0.0341286   0.710133   -0.435524\n",
       " -0.455413   -0.466958    1.19374         -1.09094     1.2236     -1.21271\n",
       "  0.058775   -0.393831    0.377368     …  -0.211293    0.316592   -0.333772\n",
       " -0.472407   -0.751798    1.25231          0.152741    0.51368    -0.783546\n",
       "  0.100918   -0.703018    0.780118        -0.17083     0.663192   -0.545561\n",
       " -0.461569   -0.881826    1.37396          0.0984649   0.752633   -0.947403\n",
       " -0.122057   -0.513262    0.693519        -0.345433    0.592342   -0.556627\n",
       " -0.367377   -0.566901    1.13106      …  -0.63274     0.817723   -0.671362\n",
       " -0.845733   -0.980413    1.88027         -1.01351     1.46286    -1.1625\n",
       " -0.112542   -0.461963    0.818379         0.0312036   0.429983   -0.379877\n",
       "  ⋮                                    ⋱                          \n",
       "  2.44109     1.8411      1.05654          0.0834623   0.293829    0.362142\n",
       " -0.0836162   0.0377523  -0.000954342      0.235177    0.207014    0.0308559\n",
       "  0.238756    0.517652    0.158536         0.499756    0.588752    0.24182\n",
       "  0.113163    0.0305402   0.0667357    …   0.236606   -0.183804   -0.26124\n",
       "  0.391466   -0.253537    0.0237103        0.192351    0.197711   -0.00360162\n",
       "  0.445203    0.626206    0.50667         -0.280784    0.465967    0.212214\n",
       "  0.178528    0.0217549   0.0130382        0.178828   -0.200147   -0.261743\n",
       "  0.413788   -0.0123858   0.253044        -0.0504766  -0.155738   -0.252317\n",
       "  0.0594564   0.0393438   0.0522137    …   0.276947   -0.120972   -0.291218\n",
       "  0.531692    0.84595     0.511388        -0.289946    0.0191756   0.107862\n",
       "  0.486949    0.777913    0.0240603        0.410061    0.462571    0.724089\n",
       "  0.178528    0.0217549   0.0130382        0.178828   -0.200147   -0.261743"
      ]
     },
     "execution_count": 18,
     "metadata": {},
     "output_type": "execute_result"
    }
   ],
   "source": [
    "#convert dataframe to matrix\n",
    "embedding = Matrix(df_embedding)"
   ]
  },
  {
   "cell_type": "code",
   "execution_count": 8,
   "metadata": {
    "collapsed": true
   },
   "outputs": [
    {
     "data": {
      "text/plain": [
       "Dict{Any, Any} with 1264699 entries:\n",
       "  \"551_4984_2021-04-08\" => 348625\n",
       "  \"551_4172_2021-03-30\" => 46704\n",
       "  \"654_4357_2021-03-31\" => 94340\n",
       "  \"551_4682_2021-04-08\" => 348324\n",
       "  \"664_5927_2021-04-08\" => 364088\n",
       "  \"530_5097_2021-04-18\" => 672605\n",
       "  \"507_5970_2021-04-12\" => 483982\n",
       "  \"563_6128_2021-04-11\" => 461858\n",
       "  \"563_6447_2021-04-13\" => 525782\n",
       "  \"523_4380_2021-04-22\" => 802688\n",
       "  \"577_7948_2021-03-29\" => 16293\n",
       "  \"519_5217_2021-04-25\" => 894285\n",
       "  \"520_5670_2021-04-29\" => 1007358\n",
       "  \"528_5996_2021-05-06\" => 1214246\n",
       "  \"548_6387_2021-04-04\" => 220165\n",
       "  \"603_5255_2021-05-07\" => 1254194\n",
       "  \"540_5477_2021-04-07\" => 312404\n",
       "  \"643_4336_2021-04-09\" => 396810\n",
       "  \"551_4089_2021-05-01\" => 1076767\n",
       "  \"653_5468_2021-04-18\" => 692574\n",
       "  \"513_5300_2021-05-04\" => 1158086\n",
       "  \"652_6412_2021-04-09\" => 398035\n",
       "  \"523_6599_2021-04-09\" => 375052\n",
       "  \"552_6460_2021-03-31\" => 80536\n",
       "  \"533_7836_2021-04-19\" => 705626\n",
       "  ⋮                     => ⋮"
      ]
     },
     "execution_count": 8,
     "metadata": {},
     "output_type": "execute_result"
    }
   ],
   "source": [
    "#creating dictionary that maps transaction key with its index\n",
    "dict_index = Dict()\n",
    "for i in 1:length(grp)\n",
    "    dict_index[grp[i].store_transaction_key[1]] = i\n",
    "end\n",
    "dict_index"
   ]
  },
  {
   "cell_type": "code",
   "execution_count": 9,
   "metadata": {
    "collapsed": true
   },
   "outputs": [
    {
     "data": {
      "text/html": [
       "<table class=\"data-frame\"><thead><tr><th></th><th>storenum</th><th>item_key</th><th>item_description</th><th>transaction_type</th><th>sales_amount</th><th>sales_channel</th></tr><tr><th></th><th>Int64</th><th>Int64</th><th>String</th><th>String</th><th>Float64</th><th>String</th></tr></thead><tbody><p>6,859,688 rows × 10 columns (omitted printing of 4 columns)</p><tr><th>1</th><td>502</td><td>916755</td><td>D-10P CKN BKT</td><td>M</td><td>26.9159</td><td>Online-Delivery</td></tr><tr><th>2</th><td>502</td><td>710033</td><td>DEL SURCHARGE</td><td>M</td><td>3.7383</td><td>Online-Delivery</td></tr><tr><th>3</th><td>502</td><td>1</td><td>D-CASH</td><td>T</td><td>30.6542</td><td>Online-Delivery</td></tr><tr><th>4</th><td>502</td><td>700103</td><td>D-3PC ML(OR)</td><td>M</td><td>58.4112</td><td>Phone-Delivery</td></tr><tr><th>5</th><td>502</td><td>710033</td><td>DEL SURCHARGE</td><td>M</td><td>3.7383</td><td>Phone-Delivery</td></tr><tr><th>6</th><td>502</td><td>1</td><td>D-CASH</td><td>T</td><td>62.1495</td><td>Phone-Delivery</td></tr><tr><th>7</th><td>502</td><td>710009</td><td>D-ZINGER</td><td>M</td><td>10.9346</td><td>Phone-Delivery</td></tr><tr><th>8</th><td>502</td><td>700103</td><td>D-3PC ML(OR)</td><td>M</td><td>46.729</td><td>Phone-Delivery</td></tr><tr><th>9</th><td>502</td><td>710033</td><td>DEL SURCHARGE</td><td>M</td><td>3.7383</td><td>Phone-Delivery</td></tr><tr><th>10</th><td>502</td><td>1</td><td>D-CASH</td><td>T</td><td>61.4019</td><td>Phone-Delivery</td></tr><tr><th>11</th><td>502</td><td>922023</td><td>D-10 FOR $10</td><td>M</td><td>9.3458</td><td>Online-Delivery</td></tr><tr><th>12</th><td>502</td><td>913618</td><td>D-10P CKN 2-5PM</td><td>M</td><td>16.8224</td><td>Online-Delivery</td></tr><tr><th>13</th><td>502</td><td>710033</td><td>DEL SURCHARGE</td><td>M</td><td>3.7383</td><td>Online-Delivery</td></tr><tr><th>14</th><td>502</td><td>3</td><td>D-DBS Paylah</td><td>T</td><td>29.9065</td><td>Online-Delivery</td></tr><tr><th>15</th><td>502</td><td>916137</td><td>D-FM POT BWL</td><td>M</td><td>5.0</td><td>Online-Delivery</td></tr><tr><th>16</th><td>502</td><td>710018</td><td>D-C/SL MED</td><td>M</td><td>3.4579</td><td>Online-Delivery</td></tr><tr><th>17</th><td>502</td><td>710021</td><td>D-W/PT MED</td><td>M</td><td>3.4579</td><td>Online-Delivery</td></tr><tr><th>18</th><td>502</td><td>919893</td><td>D-8P FOR $15</td><td>M</td><td>14.0187</td><td>Online-Delivery</td></tr><tr><th>19</th><td>502</td><td>710033</td><td>DEL SURCHARGE</td><td>M</td><td>3.7383</td><td>Online-Delivery</td></tr><tr><th>20</th><td>502</td><td>8</td><td>D-eNETS CREDIT</td><td>T</td><td>29.6729</td><td>Online-Delivery</td></tr><tr><th>21</th><td>502</td><td>913961</td><td>D-8P VRTY FEAST</td><td>M</td><td>38.271</td><td>Online-Delivery</td></tr><tr><th>22</th><td>502</td><td>710033</td><td>DEL SURCHARGE</td><td>M</td><td>3.7383</td><td>Online-Delivery</td></tr><tr><th>23</th><td>502</td><td>8</td><td>D-eNETS CREDIT</td><td>T</td><td>42.0093</td><td>Online-Delivery</td></tr><tr><th>24</th><td>502</td><td>921466</td><td>D-2P CKN BX</td><td>M</td><td>39.2523</td><td>Online-Delivery</td></tr><tr><th>25</th><td>502</td><td>921466</td><td>D-2P CKN BX</td><td>M</td><td>39.2523</td><td>Online-Delivery</td></tr><tr><th>26</th><td>502</td><td>921466</td><td>D-2P CKN BX</td><td>M</td><td>29.4393</td><td>Online-Delivery</td></tr><tr><th>27</th><td>502</td><td>710033</td><td>DEL SURCHARGE</td><td>M</td><td>3.7383</td><td>Online-Delivery</td></tr><tr><th>28</th><td>502</td><td>8</td><td>D-eNETS CREDIT</td><td>T</td><td>111.682</td><td>Online-Delivery</td></tr><tr><th>29</th><td>502</td><td>913299</td><td>D-AO 2 CHZ FRIES-APP</td><td>M</td><td>5.6075</td><td>Online-Delivery</td></tr><tr><th>30</th><td>502</td><td>922023</td><td>D-10 FOR $10</td><td>M</td><td>9.3458</td><td>Online-Delivery</td></tr><tr><th>&vellip;</th><td>&vellip;</td><td>&vellip;</td><td>&vellip;</td><td>&vellip;</td><td>&vellip;</td><td>&vellip;</td></tr></tbody></table>"
      ],
      "text/latex": [
       "\\begin{tabular}{r|ccccccc}\n",
       "\t& storenum & item\\_key & item\\_description & transaction\\_type & sales\\_amount & sales\\_channel & \\\\\n",
       "\t\\hline\n",
       "\t& Int64 & Int64 & String & String & Float64 & String & \\\\\n",
       "\t\\hline\n",
       "\t1 & 502 & 916755 & D-10P CKN BKT & M & 26.9159 & Online-Delivery & $\\dots$ \\\\\n",
       "\t2 & 502 & 710033 & DEL SURCHARGE & M & 3.7383 & Online-Delivery & $\\dots$ \\\\\n",
       "\t3 & 502 & 1 & D-CASH & T & 30.6542 & Online-Delivery & $\\dots$ \\\\\n",
       "\t4 & 502 & 700103 & D-3PC ML(OR) & M & 58.4112 & Phone-Delivery & $\\dots$ \\\\\n",
       "\t5 & 502 & 710033 & DEL SURCHARGE & M & 3.7383 & Phone-Delivery & $\\dots$ \\\\\n",
       "\t6 & 502 & 1 & D-CASH & T & 62.1495 & Phone-Delivery & $\\dots$ \\\\\n",
       "\t7 & 502 & 710009 & D-ZINGER & M & 10.9346 & Phone-Delivery & $\\dots$ \\\\\n",
       "\t8 & 502 & 700103 & D-3PC ML(OR) & M & 46.729 & Phone-Delivery & $\\dots$ \\\\\n",
       "\t9 & 502 & 710033 & DEL SURCHARGE & M & 3.7383 & Phone-Delivery & $\\dots$ \\\\\n",
       "\t10 & 502 & 1 & D-CASH & T & 61.4019 & Phone-Delivery & $\\dots$ \\\\\n",
       "\t11 & 502 & 922023 & D-10 FOR \\$10 & M & 9.3458 & Online-Delivery & $\\dots$ \\\\\n",
       "\t12 & 502 & 913618 & D-10P CKN 2-5PM & M & 16.8224 & Online-Delivery & $\\dots$ \\\\\n",
       "\t13 & 502 & 710033 & DEL SURCHARGE & M & 3.7383 & Online-Delivery & $\\dots$ \\\\\n",
       "\t14 & 502 & 3 & D-DBS Paylah & T & 29.9065 & Online-Delivery & $\\dots$ \\\\\n",
       "\t15 & 502 & 916137 & D-FM POT BWL & M & 5.0 & Online-Delivery & $\\dots$ \\\\\n",
       "\t16 & 502 & 710018 & D-C/SL MED & M & 3.4579 & Online-Delivery & $\\dots$ \\\\\n",
       "\t17 & 502 & 710021 & D-W/PT MED & M & 3.4579 & Online-Delivery & $\\dots$ \\\\\n",
       "\t18 & 502 & 919893 & D-8P FOR \\$15 & M & 14.0187 & Online-Delivery & $\\dots$ \\\\\n",
       "\t19 & 502 & 710033 & DEL SURCHARGE & M & 3.7383 & Online-Delivery & $\\dots$ \\\\\n",
       "\t20 & 502 & 8 & D-eNETS CREDIT & T & 29.6729 & Online-Delivery & $\\dots$ \\\\\n",
       "\t21 & 502 & 913961 & D-8P VRTY FEAST & M & 38.271 & Online-Delivery & $\\dots$ \\\\\n",
       "\t22 & 502 & 710033 & DEL SURCHARGE & M & 3.7383 & Online-Delivery & $\\dots$ \\\\\n",
       "\t23 & 502 & 8 & D-eNETS CREDIT & T & 42.0093 & Online-Delivery & $\\dots$ \\\\\n",
       "\t24 & 502 & 921466 & D-2P CKN BX & M & 39.2523 & Online-Delivery & $\\dots$ \\\\\n",
       "\t25 & 502 & 921466 & D-2P CKN BX & M & 39.2523 & Online-Delivery & $\\dots$ \\\\\n",
       "\t26 & 502 & 921466 & D-2P CKN BX & M & 29.4393 & Online-Delivery & $\\dots$ \\\\\n",
       "\t27 & 502 & 710033 & DEL SURCHARGE & M & 3.7383 & Online-Delivery & $\\dots$ \\\\\n",
       "\t28 & 502 & 8 & D-eNETS CREDIT & T & 111.682 & Online-Delivery & $\\dots$ \\\\\n",
       "\t29 & 502 & 913299 & D-AO 2 CHZ FRIES-APP & M & 5.6075 & Online-Delivery & $\\dots$ \\\\\n",
       "\t30 & 502 & 922023 & D-10 FOR \\$10 & M & 9.3458 & Online-Delivery & $\\dots$ \\\\\n",
       "\t$\\dots$ & $\\dots$ & $\\dots$ & $\\dots$ & $\\dots$ & $\\dots$ & $\\dots$ &  \\\\\n",
       "\\end{tabular}\n"
      ],
      "text/plain": [
       "\u001b[1m6859688×10 DataFrame\u001b[0m\n",
       "\u001b[1m     Row \u001b[0m│\u001b[1m storenum \u001b[0m\u001b[1m item_key \u001b[0m\u001b[1m item_description \u001b[0m\u001b[1m transaction_type \u001b[0m\u001b[1m sales_amoun\u001b[0m ⋯\n",
       "\u001b[1m         \u001b[0m│\u001b[90m Int64    \u001b[0m\u001b[90m Int64    \u001b[0m\u001b[90m String           \u001b[0m\u001b[90m String           \u001b[0m\u001b[90m Float64    \u001b[0m ⋯\n",
       "─────────┼──────────────────────────────────────────────────────────────────────\n",
       "       1 │      502    916755  D-10P CKN BKT     M                    26.9159  ⋯\n",
       "       2 │      502    710033  DEL SURCHARGE     M                     3.7383\n",
       "       3 │      502         1  D-CASH            T                    30.6542\n",
       "       4 │      502    700103  D-3PC ML(OR)      M                    58.4112\n",
       "       5 │      502    710033  DEL SURCHARGE     M                     3.7383  ⋯\n",
       "       6 │      502         1  D-CASH            T                    62.1495\n",
       "       7 │      502    710009  D-ZINGER          M                    10.9346\n",
       "       8 │      502    700103  D-3PC ML(OR)      M                    46.729\n",
       "       9 │      502    710033  DEL SURCHARGE     M                     3.7383  ⋯\n",
       "      10 │      502         1  D-CASH            T                    61.4019\n",
       "      11 │      502    922023  D-10 FOR $10      M                     9.3458\n",
       "    ⋮    │    ⋮         ⋮             ⋮                 ⋮               ⋮      ⋱\n",
       " 6859679 │      670    922110  2P(TG) ML         M                     8.3645\n",
       " 6859680 │      670    450011  RWP>CF            M                     2.0561  ⋯\n",
       " 6859681 │      670    914357  1P EGG TART       M                     1.215\n",
       " 6859682 │      670         8  D-eNETS CREDIT    T                    11.6355\n",
       " 6859683 │      670    912781  1 OR ZNG BX       M                     8.5514\n",
       " 6859684 │      670    450046  RFF>CFRIES        M                     1.8692  ⋯\n",
       " 6859685 │      670    914357  1P EGG TART       M                     1.215\n",
       " 6859686 │      670         8  D-eNETS CREDIT    T                    11.6355\n",
       " 6859687 │      670    921046  5P ACB 30%        M                     9.6262\n",
       " 6859688 │      670        15  DI-DBS PAYLAH     T                     9.62617 ⋯\n",
       "\u001b[36m                                              6 columns and 6859667 rows omitted\u001b[0m"
      ]
     },
     "execution_count": 9,
     "metadata": {},
     "output_type": "execute_result"
    }
   ],
   "source": [
    "df = DataFrame(CSV.File(\"Dataset1.csv\"))"
   ]
  },
  {
   "cell_type": "code",
   "execution_count": 10,
   "metadata": {
    "collapsed": true
   },
   "outputs": [
    {
     "data": {
      "text/html": [
       "<p><b>GroupedDataFrame with 3 groups based on key: transaction_type</b></p><p><i>First Group (5214325 rows): transaction_type = \"M\"</i></p><table class=\"data-frame\"><thead><tr><th></th><th>storenum</th><th>item_key</th><th>item_description</th><th>transaction_type</th><th>sales_amount</th><th>sales_channel</th></tr><tr><th></th><th>Int64</th><th>Int64</th><th>String</th><th>String</th><th>Float64</th><th>String</th></tr></thead><tbody><tr><th>1</th><td>502</td><td>916755</td><td>D-10P CKN BKT</td><td>M</td><td>26.9159</td><td>Online-Delivery</td></tr><tr><th>2</th><td>502</td><td>710033</td><td>DEL SURCHARGE</td><td>M</td><td>3.7383</td><td>Online-Delivery</td></tr><tr><th>3</th><td>502</td><td>700103</td><td>D-3PC ML(OR)</td><td>M</td><td>58.4112</td><td>Phone-Delivery</td></tr><tr><th>4</th><td>502</td><td>710033</td><td>DEL SURCHARGE</td><td>M</td><td>3.7383</td><td>Phone-Delivery</td></tr><tr><th>5</th><td>502</td><td>710009</td><td>D-ZINGER</td><td>M</td><td>10.9346</td><td>Phone-Delivery</td></tr><tr><th>6</th><td>502</td><td>700103</td><td>D-3PC ML(OR)</td><td>M</td><td>46.729</td><td>Phone-Delivery</td></tr><tr><th>7</th><td>502</td><td>710033</td><td>DEL SURCHARGE</td><td>M</td><td>3.7383</td><td>Phone-Delivery</td></tr><tr><th>8</th><td>502</td><td>922023</td><td>D-10 FOR $10</td><td>M</td><td>9.3458</td><td>Online-Delivery</td></tr><tr><th>9</th><td>502</td><td>913618</td><td>D-10P CKN 2-5PM</td><td>M</td><td>16.8224</td><td>Online-Delivery</td></tr><tr><th>10</th><td>502</td><td>710033</td><td>DEL SURCHARGE</td><td>M</td><td>3.7383</td><td>Online-Delivery</td></tr><tr><th>11</th><td>502</td><td>916137</td><td>D-FM POT BWL</td><td>M</td><td>5.0</td><td>Online-Delivery</td></tr><tr><th>12</th><td>502</td><td>710018</td><td>D-C/SL MED</td><td>M</td><td>3.4579</td><td>Online-Delivery</td></tr><tr><th>13</th><td>502</td><td>710021</td><td>D-W/PT MED</td><td>M</td><td>3.4579</td><td>Online-Delivery</td></tr><tr><th>14</th><td>502</td><td>919893</td><td>D-8P FOR $15</td><td>M</td><td>14.0187</td><td>Online-Delivery</td></tr><tr><th>15</th><td>502</td><td>710033</td><td>DEL SURCHARGE</td><td>M</td><td>3.7383</td><td>Online-Delivery</td></tr><tr><th>16</th><td>502</td><td>913961</td><td>D-8P VRTY FEAST</td><td>M</td><td>38.271</td><td>Online-Delivery</td></tr><tr><th>17</th><td>502</td><td>710033</td><td>DEL SURCHARGE</td><td>M</td><td>3.7383</td><td>Online-Delivery</td></tr><tr><th>18</th><td>502</td><td>921466</td><td>D-2P CKN BX</td><td>M</td><td>39.2523</td><td>Online-Delivery</td></tr><tr><th>19</th><td>502</td><td>921466</td><td>D-2P CKN BX</td><td>M</td><td>39.2523</td><td>Online-Delivery</td></tr><tr><th>20</th><td>502</td><td>921466</td><td>D-2P CKN BX</td><td>M</td><td>29.4393</td><td>Online-Delivery</td></tr><tr><th>21</th><td>502</td><td>710033</td><td>DEL SURCHARGE</td><td>M</td><td>3.7383</td><td>Online-Delivery</td></tr><tr><th>22</th><td>502</td><td>913299</td><td>D-AO 2 CHZ FRIES-APP</td><td>M</td><td>5.6075</td><td>Online-Delivery</td></tr><tr><th>23</th><td>502</td><td>922023</td><td>D-10 FOR $10</td><td>M</td><td>9.3458</td><td>Online-Delivery</td></tr><tr><th>24</th><td>502</td><td>710033</td><td>DEL SURCHARGE</td><td>M</td><td>3.7383</td><td>Online-Delivery</td></tr><tr><th>25</th><td>502</td><td>921474</td><td>D-ZNGBX+2P CKN BX</td><td>M</td><td>15.1402</td><td>Online-Delivery</td></tr><tr><th>26</th><td>502</td><td>916131</td><td>D-1P CRY BWL ML</td><td>M</td><td>7.9907</td><td>Online-Delivery</td></tr><tr><th>27</th><td>502</td><td>912754</td><td>D-1P ZNG BOX</td><td>M</td><td>10.2336</td><td>Online-Delivery</td></tr><tr><th>28</th><td>502</td><td>710033</td><td>DEL SURCHARGE</td><td>M</td><td>3.7383</td><td>Online-Delivery</td></tr><tr><th>29</th><td>502</td><td>916759</td><td>D-ALA SNACK N SHARE BX  </td><td>M</td><td>12.1028</td><td>Online-Delivery</td></tr><tr><th>30</th><td>502</td><td>922023</td><td>D-10 FOR $10</td><td>M</td><td>9.3458</td><td>Online-Delivery</td></tr><tr><th>&vellip;</th><td>&vellip;</td><td>&vellip;</td><td>&vellip;</td><td>&vellip;</td><td>&vellip;</td><td>&vellip;</td></tr></tbody></table><p>&vellip;</p><p><i>Last Group (12833 rows): transaction_type = \"D\"</i></p><table class=\"data-frame\"><thead><tr><th></th><th>storenum</th><th>item_key</th><th>item_description</th><th>transaction_type</th><th>sales_amount</th><th>sales_channel</th></tr><tr><th></th><th>Int64</th><th>Int64</th><th>String</th><th>String</th><th>Float64</th><th>String</th></tr></thead><tbody><tr><th>1</th><td>502</td><td>2000</td><td>25% EMP DISC</td><td>D</td><td>-1.9626</td><td>Drive-Thru</td></tr><tr><th>2</th><td>502</td><td>3007</td><td>$1-OFF(PAssion)</td><td>D</td><td>-0.9346</td><td>Eat In (EI)</td></tr><tr><th>3</th><td>502</td><td>8027</td><td>10% OFF GES DEAL</td><td>D</td><td>-1.8131</td><td>Eat In (EI)</td></tr><tr><th>4</th><td>502</td><td>3007</td><td>$1-OFF(PAssion)</td><td>D</td><td>-0.9346</td><td>Take Away (TA)</td></tr><tr><th>5</th><td>504</td><td>3007</td><td>$1-OFF(PAssion)</td><td>D</td><td>-0.9346</td><td>Eat In (EI)</td></tr><tr><th>6</th><td>504</td><td>3007</td><td>$1-OFF(PAssion)</td><td>D</td><td>-0.9346</td><td>Eat In (EI)</td></tr><tr><th>7</th><td>504</td><td>3007</td><td>$1-OFF(PAssion)</td><td>D</td><td>0.9346</td><td>Eat In (EI)</td></tr><tr><th>8</th><td>504</td><td>3007</td><td>$1-OFF(PAssion)</td><td>D</td><td>-0.9346</td><td>Eat In (EI)</td></tr><tr><th>9</th><td>504</td><td>5010</td><td>10% OFF(LSM)</td><td>D</td><td>-0.9438</td><td>Eat In (EI)</td></tr><tr><th>10</th><td>504</td><td>8027</td><td>10% OFF GES DEAL</td><td>D</td><td>-2.243</td><td>Take Away (TA)</td></tr><tr><th>11</th><td>505</td><td>5016</td><td>10% OFF xFOOD PANDA</td><td>D</td><td>-1.0751</td><td>Eat In (EI)</td></tr><tr><th>12</th><td>505</td><td>5016</td><td>10% OFF xFOOD PANDA</td><td>D</td><td>-0.9813</td><td>Take Away (TA)</td></tr><tr><th>13</th><td>505</td><td>5010</td><td>10% OFF(LSM)</td><td>D</td><td>-0.7851</td><td>Drive-Thru</td></tr><tr><th>14</th><td>505</td><td>5010</td><td>10% OFF(LSM)</td><td>D</td><td>0.7851</td><td>Drive-Thru</td></tr><tr><th>15</th><td>505</td><td>3007</td><td>$1-OFF(PAssion)</td><td>D</td><td>-0.9346</td><td>Eat In (EI)</td></tr><tr><th>16</th><td>506</td><td>5016</td><td>10% OFF xFOOD PANDA</td><td>D</td><td>-0.5517</td><td>Breakfast (BF)</td></tr><tr><th>17</th><td>506</td><td>5016</td><td>10% OFF xFOOD PANDA</td><td>D</td><td>-0.4019</td><td>Breakfast (BF)</td></tr><tr><th>18</th><td>506</td><td>3007</td><td>$1-OFF(PAssion)</td><td>D</td><td>-0.9346</td><td>Eat In (EI)</td></tr><tr><th>19</th><td>506</td><td>3007</td><td>$1-OFF(PAssion)</td><td>D</td><td>-0.9346</td><td>Eat In (EI)</td></tr><tr><th>20</th><td>506</td><td>2000</td><td>25% EMP DISC</td><td>D</td><td>-3.6075</td><td>Eat In (EI)</td></tr><tr><th>21</th><td>506</td><td>3007</td><td>$1-OFF(PAssion)</td><td>D</td><td>-0.9346</td><td>Take Away (TA)</td></tr><tr><th>22</th><td>506</td><td>3007</td><td>$1-OFF(PAssion)</td><td>D</td><td>-0.9346</td><td>Eat In (EI)</td></tr><tr><th>23</th><td>506</td><td>3007</td><td>$1-OFF(PAssion)</td><td>D</td><td>-0.9346</td><td>Take Away (TA)</td></tr><tr><th>24</th><td>506</td><td>3007</td><td>$1-OFF(PAssion)</td><td>D</td><td>-0.9304</td><td>Take Away (TA)</td></tr><tr><th>25</th><td>506</td><td>5016</td><td>10% OFF xFOOD PANDA</td><td>D</td><td>-0.9816</td><td>Take Away (TA)</td></tr><tr><th>26</th><td>506</td><td>8027</td><td>10% OFF GES DEAL</td><td>D</td><td>-0.9346</td><td>Take Away (TA)</td></tr><tr><th>27</th><td>506</td><td>3007</td><td>$1-OFF(PAssion)</td><td>D</td><td>-0.9346</td><td>Eat In (EI)</td></tr><tr><th>28</th><td>506</td><td>3007</td><td>$1-OFF(PAssion)</td><td>D</td><td>-0.9346</td><td>Eat In (EI)</td></tr><tr><th>29</th><td>506</td><td>3007</td><td>$1-OFF(PAssion)</td><td>D</td><td>-0.9346</td><td>Take Away (TA)</td></tr><tr><th>30</th><td>506</td><td>8027</td><td>10% OFF GES DEAL</td><td>D</td><td>-0.9719</td><td>Take Away (TA)</td></tr><tr><th>&vellip;</th><td>&vellip;</td><td>&vellip;</td><td>&vellip;</td><td>&vellip;</td><td>&vellip;</td><td>&vellip;</td></tr></tbody></table>"
      ],
      "text/latex": [
       "GroupedDataFrame with 3 groups based on key: transaction\\_type\n",
       "\n",
       "First Group (5214325 rows): transaction\\_type = \"M\"\n",
       "\n",
       "\\begin{tabular}{r|ccccccc}\n",
       "\t& storenum & item\\_key & item\\_description & transaction\\_type & sales\\_amount & sales\\_channel & \\\\\n",
       "\t\\hline\n",
       "\t& Int64 & Int64 & String & String & Float64 & String & \\\\\n",
       "\t\\hline\n",
       "\t1 & 502 & 916755 & D-10P CKN BKT & M & 26.9159 & Online-Delivery & $\\dots$ \\\\\n",
       "\t2 & 502 & 710033 & DEL SURCHARGE & M & 3.7383 & Online-Delivery & $\\dots$ \\\\\n",
       "\t3 & 502 & 700103 & D-3PC ML(OR) & M & 58.4112 & Phone-Delivery & $\\dots$ \\\\\n",
       "\t4 & 502 & 710033 & DEL SURCHARGE & M & 3.7383 & Phone-Delivery & $\\dots$ \\\\\n",
       "\t5 & 502 & 710009 & D-ZINGER & M & 10.9346 & Phone-Delivery & $\\dots$ \\\\\n",
       "\t6 & 502 & 700103 & D-3PC ML(OR) & M & 46.729 & Phone-Delivery & $\\dots$ \\\\\n",
       "\t7 & 502 & 710033 & DEL SURCHARGE & M & 3.7383 & Phone-Delivery & $\\dots$ \\\\\n",
       "\t8 & 502 & 922023 & D-10 FOR \\$10 & M & 9.3458 & Online-Delivery & $\\dots$ \\\\\n",
       "\t9 & 502 & 913618 & D-10P CKN 2-5PM & M & 16.8224 & Online-Delivery & $\\dots$ \\\\\n",
       "\t10 & 502 & 710033 & DEL SURCHARGE & M & 3.7383 & Online-Delivery & $\\dots$ \\\\\n",
       "\t11 & 502 & 916137 & D-FM POT BWL & M & 5.0 & Online-Delivery & $\\dots$ \\\\\n",
       "\t12 & 502 & 710018 & D-C/SL MED & M & 3.4579 & Online-Delivery & $\\dots$ \\\\\n",
       "\t13 & 502 & 710021 & D-W/PT MED & M & 3.4579 & Online-Delivery & $\\dots$ \\\\\n",
       "\t14 & 502 & 919893 & D-8P FOR \\$15 & M & 14.0187 & Online-Delivery & $\\dots$ \\\\\n",
       "\t15 & 502 & 710033 & DEL SURCHARGE & M & 3.7383 & Online-Delivery & $\\dots$ \\\\\n",
       "\t16 & 502 & 913961 & D-8P VRTY FEAST & M & 38.271 & Online-Delivery & $\\dots$ \\\\\n",
       "\t17 & 502 & 710033 & DEL SURCHARGE & M & 3.7383 & Online-Delivery & $\\dots$ \\\\\n",
       "\t18 & 502 & 921466 & D-2P CKN BX & M & 39.2523 & Online-Delivery & $\\dots$ \\\\\n",
       "\t19 & 502 & 921466 & D-2P CKN BX & M & 39.2523 & Online-Delivery & $\\dots$ \\\\\n",
       "\t20 & 502 & 921466 & D-2P CKN BX & M & 29.4393 & Online-Delivery & $\\dots$ \\\\\n",
       "\t21 & 502 & 710033 & DEL SURCHARGE & M & 3.7383 & Online-Delivery & $\\dots$ \\\\\n",
       "\t22 & 502 & 913299 & D-AO 2 CHZ FRIES-APP & M & 5.6075 & Online-Delivery & $\\dots$ \\\\\n",
       "\t23 & 502 & 922023 & D-10 FOR \\$10 & M & 9.3458 & Online-Delivery & $\\dots$ \\\\\n",
       "\t24 & 502 & 710033 & DEL SURCHARGE & M & 3.7383 & Online-Delivery & $\\dots$ \\\\\n",
       "\t25 & 502 & 921474 & D-ZNGBX+2P CKN BX & M & 15.1402 & Online-Delivery & $\\dots$ \\\\\n",
       "\t26 & 502 & 916131 & D-1P CRY BWL ML & M & 7.9907 & Online-Delivery & $\\dots$ \\\\\n",
       "\t27 & 502 & 912754 & D-1P ZNG BOX & M & 10.2336 & Online-Delivery & $\\dots$ \\\\\n",
       "\t28 & 502 & 710033 & DEL SURCHARGE & M & 3.7383 & Online-Delivery & $\\dots$ \\\\\n",
       "\t29 & 502 & 916759 & D-ALA SNACK N SHARE BX   & M & 12.1028 & Online-Delivery & $\\dots$ \\\\\n",
       "\t30 & 502 & 922023 & D-10 FOR \\$10 & M & 9.3458 & Online-Delivery & $\\dots$ \\\\\n",
       "\t$\\dots$ & $\\dots$ & $\\dots$ & $\\dots$ & $\\dots$ & $\\dots$ & $\\dots$ &  \\\\\n",
       "\\end{tabular}\n",
       "\n",
       "$\\dots$\n",
       "\n",
       "Last Group (12833 rows): transaction\\_type = \"D\"\n",
       "\n",
       "\\begin{tabular}{r|ccccccc}\n",
       "\t& storenum & item\\_key & item\\_description & transaction\\_type & sales\\_amount & sales\\_channel & \\\\\n",
       "\t\\hline\n",
       "\t& Int64 & Int64 & String & String & Float64 & String & \\\\\n",
       "\t\\hline\n",
       "\t1 & 502 & 2000 & 25\\% EMP DISC & D & -1.9626 & Drive-Thru & $\\dots$ \\\\\n",
       "\t2 & 502 & 3007 & \\$1-OFF(PAssion) & D & -0.9346 & Eat In (EI) & $\\dots$ \\\\\n",
       "\t3 & 502 & 8027 & 10\\% OFF GES DEAL & D & -1.8131 & Eat In (EI) & $\\dots$ \\\\\n",
       "\t4 & 502 & 3007 & \\$1-OFF(PAssion) & D & -0.9346 & Take Away (TA) & $\\dots$ \\\\\n",
       "\t5 & 504 & 3007 & \\$1-OFF(PAssion) & D & -0.9346 & Eat In (EI) & $\\dots$ \\\\\n",
       "\t6 & 504 & 3007 & \\$1-OFF(PAssion) & D & -0.9346 & Eat In (EI) & $\\dots$ \\\\\n",
       "\t7 & 504 & 3007 & \\$1-OFF(PAssion) & D & 0.9346 & Eat In (EI) & $\\dots$ \\\\\n",
       "\t8 & 504 & 3007 & \\$1-OFF(PAssion) & D & -0.9346 & Eat In (EI) & $\\dots$ \\\\\n",
       "\t9 & 504 & 5010 & 10\\% OFF(LSM) & D & -0.9438 & Eat In (EI) & $\\dots$ \\\\\n",
       "\t10 & 504 & 8027 & 10\\% OFF GES DEAL & D & -2.243 & Take Away (TA) & $\\dots$ \\\\\n",
       "\t11 & 505 & 5016 & 10\\% OFF xFOOD PANDA & D & -1.0751 & Eat In (EI) & $\\dots$ \\\\\n",
       "\t12 & 505 & 5016 & 10\\% OFF xFOOD PANDA & D & -0.9813 & Take Away (TA) & $\\dots$ \\\\\n",
       "\t13 & 505 & 5010 & 10\\% OFF(LSM) & D & -0.7851 & Drive-Thru & $\\dots$ \\\\\n",
       "\t14 & 505 & 5010 & 10\\% OFF(LSM) & D & 0.7851 & Drive-Thru & $\\dots$ \\\\\n",
       "\t15 & 505 & 3007 & \\$1-OFF(PAssion) & D & -0.9346 & Eat In (EI) & $\\dots$ \\\\\n",
       "\t16 & 506 & 5016 & 10\\% OFF xFOOD PANDA & D & -0.5517 & Breakfast (BF) & $\\dots$ \\\\\n",
       "\t17 & 506 & 5016 & 10\\% OFF xFOOD PANDA & D & -0.4019 & Breakfast (BF) & $\\dots$ \\\\\n",
       "\t18 & 506 & 3007 & \\$1-OFF(PAssion) & D & -0.9346 & Eat In (EI) & $\\dots$ \\\\\n",
       "\t19 & 506 & 3007 & \\$1-OFF(PAssion) & D & -0.9346 & Eat In (EI) & $\\dots$ \\\\\n",
       "\t20 & 506 & 2000 & 25\\% EMP DISC & D & -3.6075 & Eat In (EI) & $\\dots$ \\\\\n",
       "\t21 & 506 & 3007 & \\$1-OFF(PAssion) & D & -0.9346 & Take Away (TA) & $\\dots$ \\\\\n",
       "\t22 & 506 & 3007 & \\$1-OFF(PAssion) & D & -0.9346 & Eat In (EI) & $\\dots$ \\\\\n",
       "\t23 & 506 & 3007 & \\$1-OFF(PAssion) & D & -0.9346 & Take Away (TA) & $\\dots$ \\\\\n",
       "\t24 & 506 & 3007 & \\$1-OFF(PAssion) & D & -0.9304 & Take Away (TA) & $\\dots$ \\\\\n",
       "\t25 & 506 & 5016 & 10\\% OFF xFOOD PANDA & D & -0.9816 & Take Away (TA) & $\\dots$ \\\\\n",
       "\t26 & 506 & 8027 & 10\\% OFF GES DEAL & D & -0.9346 & Take Away (TA) & $\\dots$ \\\\\n",
       "\t27 & 506 & 3007 & \\$1-OFF(PAssion) & D & -0.9346 & Eat In (EI) & $\\dots$ \\\\\n",
       "\t28 & 506 & 3007 & \\$1-OFF(PAssion) & D & -0.9346 & Eat In (EI) & $\\dots$ \\\\\n",
       "\t29 & 506 & 3007 & \\$1-OFF(PAssion) & D & -0.9346 & Take Away (TA) & $\\dots$ \\\\\n",
       "\t30 & 506 & 8027 & 10\\% OFF GES DEAL & D & -0.9719 & Take Away (TA) & $\\dots$ \\\\\n",
       "\t$\\dots$ & $\\dots$ & $\\dots$ & $\\dots$ & $\\dots$ & $\\dots$ & $\\dots$ &  \\\\\n",
       "\\end{tabular}\n"
      ],
      "text/plain": [
       "GroupedDataFrame with 3 groups based on key: transaction_type\n",
       "First Group (5214325 rows): transaction_type = \"M\"\n",
       "\u001b[1m     Row \u001b[0m│\u001b[1m storenum \u001b[0m\u001b[1m item_key \u001b[0m\u001b[1m item_description \u001b[0m\u001b[1m transaction_type \u001b[0m\u001b[1m sales_amoun\u001b[0m ⋯\n",
       "\u001b[1m         \u001b[0m│\u001b[90m Int64    \u001b[0m\u001b[90m Int64    \u001b[0m\u001b[90m String           \u001b[0m\u001b[90m String           \u001b[0m\u001b[90m Float64    \u001b[0m ⋯\n",
       "─────────┼──────────────────────────────────────────────────────────────────────\n",
       "       1 │      502    916755  D-10P CKN BKT     M                      26.915 ⋯\n",
       "       2 │      502    710033  DEL SURCHARGE     M                       3.738\n",
       "       3 │      502    700103  D-3PC ML(OR)      M                      58.411\n",
       "       4 │      502    710033  DEL SURCHARGE     M                       3.738\n",
       "       5 │      502    710009  D-ZINGER          M                      10.934 ⋯\n",
       "       6 │      502    700103  D-3PC ML(OR)      M                      46.729\n",
       "       7 │      502    710033  DEL SURCHARGE     M                       3.738\n",
       "       8 │      502    922023  D-10 FOR $10      M                       9.345\n",
       "       9 │      502    913618  D-10P CKN 2-5PM   M                      16.822 ⋯\n",
       "      10 │      502    710033  DEL SURCHARGE     M                       3.738\n",
       "      11 │      502    916137  D-FM POT BWL      M                       5.0\n",
       "    ⋮    │    ⋮         ⋮             ⋮                 ⋮               ⋮      ⋱\n",
       " 5214315 │      670    200006  RT BEER -M        M                       2.757\n",
       " 5214316 │      670    921046  5P ACB 30%        M                       9.626 ⋯\n",
       " 5214317 │      670    922204  ZNG+SJ-R          M                       0.934\n",
       " 5214318 │      670    921048  15P ACB 30%       M                      25.420\n",
       " 5214319 │      670    922110  2P(TG) ML         M                       8.364\n",
       " 5214320 │      670    450011  RWP>CF            M                       2.056 ⋯\n",
       " 5214321 │      670    914357  1P EGG TART       M                       1.215\n",
       " 5214322 │      670    912781  1 OR ZNG BX       M                       8.551\n",
       " 5214323 │      670    450046  RFF>CFRIES        M                       1.869\n",
       " 5214324 │      670    914357  1P EGG TART       M                       1.215 ⋯\n",
       " 5214325 │      670    921046  5P ACB 30%        M                       9.626\n",
       "\u001b[36m                                              6 columns and 5214303 rows omitted\u001b[0m\n",
       "⋮\n",
       "Last Group (12833 rows): transaction_type = \"D\"\n",
       "\u001b[1m   Row \u001b[0m│\u001b[1m storenum \u001b[0m\u001b[1m item_key \u001b[0m\u001b[1m item_description    \u001b[0m\u001b[1m transaction_type \u001b[0m\u001b[1m sales_amou\u001b[0m ⋯\n",
       "\u001b[1m       \u001b[0m│\u001b[90m Int64    \u001b[0m\u001b[90m Int64    \u001b[0m\u001b[90m String              \u001b[0m\u001b[90m String           \u001b[0m\u001b[90m Float64   \u001b[0m ⋯\n",
       "───────┼────────────────────────────────────────────────────────────────────────\n",
       "     1 │      502      2000  25% EMP DISC         D                      -1.96 ⋯\n",
       "     2 │      502      3007  $1-OFF(PAssion)      D                      -0.93\n",
       "     3 │      502      8027  10% OFF GES DEAL     D                      -1.81\n",
       "     4 │      502      3007  $1-OFF(PAssion)      D                      -0.93\n",
       "     5 │      504      3007  $1-OFF(PAssion)      D                      -0.93 ⋯\n",
       "     6 │      504      3007  $1-OFF(PAssion)      D                      -0.93\n",
       "     7 │      504      3007  $1-OFF(PAssion)      D                       0.93\n",
       "     8 │      504      3007  $1-OFF(PAssion)      D                      -0.93\n",
       "     9 │      504      5010  10% OFF(LSM)         D                      -0.94 ⋯\n",
       "    10 │      504      8027  10% OFF GES DEAL     D                      -2.24\n",
       "    11 │      505      5016  10% OFF xFOOD PANDA  D                      -1.07\n",
       "   ⋮   │    ⋮         ⋮               ⋮                  ⋮               ⋮     ⋱\n",
       " 12823 │      660      8027  10% OFF GES DEAL     D                      -0.46\n",
       " 12824 │      660      8027  10% OFF GES DEAL     D                      -1.66 ⋯\n",
       " 12825 │      664      3007  $1-OFF(PAssion)      D                      -0.93\n",
       " 12826 │      664      3007  $1-OFF(PAssion)      D                      -0.93\n",
       " 12827 │      664      8027  10% OFF GES DEAL     D                      -0.60\n",
       " 12828 │      665      3007  $1-OFF(PAssion)      D                      -0.93 ⋯\n",
       " 12829 │      665      3007  $1-OFF(PAssion)      D                      -0.93\n",
       " 12830 │      665      5010  10% OFF(LSM)         D                      -0.46\n",
       " 12831 │      666      3007  $1-OFF(PAssion)      D                      -0.93\n",
       " 12832 │      670      8027  10% OFF GES DEAL     D                      -0.78 ⋯\n",
       " 12833 │      670      8027  10% OFF GES DEAL     D                      -0.32\n",
       "\u001b[36m                                                6 columns and 12811 rows omitted\u001b[0m"
      ]
     },
     "execution_count": 10,
     "metadata": {},
     "output_type": "execute_result"
    }
   ],
   "source": [
    "#group by transaction type\n",
    "df = groupby(df,:transaction_type)"
   ]
  },
  {
   "cell_type": "code",
   "execution_count": 11,
   "metadata": {
    "collapsed": true
   },
   "outputs": [
    {
     "data": {
      "text/html": [
       "<table class=\"data-frame\"><thead><tr><th></th><th>storenum</th><th>item_key</th><th>item_description</th><th>transaction_type</th><th>sales_amount</th><th>sales_channel</th></tr><tr><th></th><th>Int64</th><th>Int64</th><th>String</th><th>String</th><th>Float64</th><th>String</th></tr></thead><tbody><p>5,214,325 rows × 10 columns (omitted printing of 4 columns)</p><tr><th>1</th><td>502</td><td>916755</td><td>D-10P CKN BKT</td><td>M</td><td>26.9159</td><td>Online-Delivery</td></tr><tr><th>2</th><td>502</td><td>710033</td><td>DEL SURCHARGE</td><td>M</td><td>3.7383</td><td>Online-Delivery</td></tr><tr><th>3</th><td>502</td><td>700103</td><td>D-3PC ML(OR)</td><td>M</td><td>58.4112</td><td>Phone-Delivery</td></tr><tr><th>4</th><td>502</td><td>710033</td><td>DEL SURCHARGE</td><td>M</td><td>3.7383</td><td>Phone-Delivery</td></tr><tr><th>5</th><td>502</td><td>710009</td><td>D-ZINGER</td><td>M</td><td>10.9346</td><td>Phone-Delivery</td></tr><tr><th>6</th><td>502</td><td>700103</td><td>D-3PC ML(OR)</td><td>M</td><td>46.729</td><td>Phone-Delivery</td></tr><tr><th>7</th><td>502</td><td>710033</td><td>DEL SURCHARGE</td><td>M</td><td>3.7383</td><td>Phone-Delivery</td></tr><tr><th>8</th><td>502</td><td>922023</td><td>D-10 FOR $10</td><td>M</td><td>9.3458</td><td>Online-Delivery</td></tr><tr><th>9</th><td>502</td><td>913618</td><td>D-10P CKN 2-5PM</td><td>M</td><td>16.8224</td><td>Online-Delivery</td></tr><tr><th>10</th><td>502</td><td>710033</td><td>DEL SURCHARGE</td><td>M</td><td>3.7383</td><td>Online-Delivery</td></tr><tr><th>11</th><td>502</td><td>916137</td><td>D-FM POT BWL</td><td>M</td><td>5.0</td><td>Online-Delivery</td></tr><tr><th>12</th><td>502</td><td>710018</td><td>D-C/SL MED</td><td>M</td><td>3.4579</td><td>Online-Delivery</td></tr><tr><th>13</th><td>502</td><td>710021</td><td>D-W/PT MED</td><td>M</td><td>3.4579</td><td>Online-Delivery</td></tr><tr><th>14</th><td>502</td><td>919893</td><td>D-8P FOR $15</td><td>M</td><td>14.0187</td><td>Online-Delivery</td></tr><tr><th>15</th><td>502</td><td>710033</td><td>DEL SURCHARGE</td><td>M</td><td>3.7383</td><td>Online-Delivery</td></tr><tr><th>16</th><td>502</td><td>913961</td><td>D-8P VRTY FEAST</td><td>M</td><td>38.271</td><td>Online-Delivery</td></tr><tr><th>17</th><td>502</td><td>710033</td><td>DEL SURCHARGE</td><td>M</td><td>3.7383</td><td>Online-Delivery</td></tr><tr><th>18</th><td>502</td><td>921466</td><td>D-2P CKN BX</td><td>M</td><td>39.2523</td><td>Online-Delivery</td></tr><tr><th>19</th><td>502</td><td>921466</td><td>D-2P CKN BX</td><td>M</td><td>39.2523</td><td>Online-Delivery</td></tr><tr><th>20</th><td>502</td><td>921466</td><td>D-2P CKN BX</td><td>M</td><td>29.4393</td><td>Online-Delivery</td></tr><tr><th>21</th><td>502</td><td>710033</td><td>DEL SURCHARGE</td><td>M</td><td>3.7383</td><td>Online-Delivery</td></tr><tr><th>22</th><td>502</td><td>913299</td><td>D-AO 2 CHZ FRIES-APP</td><td>M</td><td>5.6075</td><td>Online-Delivery</td></tr><tr><th>23</th><td>502</td><td>922023</td><td>D-10 FOR $10</td><td>M</td><td>9.3458</td><td>Online-Delivery</td></tr><tr><th>24</th><td>502</td><td>710033</td><td>DEL SURCHARGE</td><td>M</td><td>3.7383</td><td>Online-Delivery</td></tr><tr><th>25</th><td>502</td><td>921474</td><td>D-ZNGBX+2P CKN BX</td><td>M</td><td>15.1402</td><td>Online-Delivery</td></tr><tr><th>26</th><td>502</td><td>916131</td><td>D-1P CRY BWL ML</td><td>M</td><td>7.9907</td><td>Online-Delivery</td></tr><tr><th>27</th><td>502</td><td>912754</td><td>D-1P ZNG BOX</td><td>M</td><td>10.2336</td><td>Online-Delivery</td></tr><tr><th>28</th><td>502</td><td>710033</td><td>DEL SURCHARGE</td><td>M</td><td>3.7383</td><td>Online-Delivery</td></tr><tr><th>29</th><td>502</td><td>916759</td><td>D-ALA SNACK N SHARE BX  </td><td>M</td><td>12.1028</td><td>Online-Delivery</td></tr><tr><th>30</th><td>502</td><td>922023</td><td>D-10 FOR $10</td><td>M</td><td>9.3458</td><td>Online-Delivery</td></tr><tr><th>&vellip;</th><td>&vellip;</td><td>&vellip;</td><td>&vellip;</td><td>&vellip;</td><td>&vellip;</td><td>&vellip;</td></tr></tbody></table>"
      ],
      "text/latex": [
       "\\begin{tabular}{r|ccccccc}\n",
       "\t& storenum & item\\_key & item\\_description & transaction\\_type & sales\\_amount & sales\\_channel & \\\\\n",
       "\t\\hline\n",
       "\t& Int64 & Int64 & String & String & Float64 & String & \\\\\n",
       "\t\\hline\n",
       "\t1 & 502 & 916755 & D-10P CKN BKT & M & 26.9159 & Online-Delivery & $\\dots$ \\\\\n",
       "\t2 & 502 & 710033 & DEL SURCHARGE & M & 3.7383 & Online-Delivery & $\\dots$ \\\\\n",
       "\t3 & 502 & 700103 & D-3PC ML(OR) & M & 58.4112 & Phone-Delivery & $\\dots$ \\\\\n",
       "\t4 & 502 & 710033 & DEL SURCHARGE & M & 3.7383 & Phone-Delivery & $\\dots$ \\\\\n",
       "\t5 & 502 & 710009 & D-ZINGER & M & 10.9346 & Phone-Delivery & $\\dots$ \\\\\n",
       "\t6 & 502 & 700103 & D-3PC ML(OR) & M & 46.729 & Phone-Delivery & $\\dots$ \\\\\n",
       "\t7 & 502 & 710033 & DEL SURCHARGE & M & 3.7383 & Phone-Delivery & $\\dots$ \\\\\n",
       "\t8 & 502 & 922023 & D-10 FOR \\$10 & M & 9.3458 & Online-Delivery & $\\dots$ \\\\\n",
       "\t9 & 502 & 913618 & D-10P CKN 2-5PM & M & 16.8224 & Online-Delivery & $\\dots$ \\\\\n",
       "\t10 & 502 & 710033 & DEL SURCHARGE & M & 3.7383 & Online-Delivery & $\\dots$ \\\\\n",
       "\t11 & 502 & 916137 & D-FM POT BWL & M & 5.0 & Online-Delivery & $\\dots$ \\\\\n",
       "\t12 & 502 & 710018 & D-C/SL MED & M & 3.4579 & Online-Delivery & $\\dots$ \\\\\n",
       "\t13 & 502 & 710021 & D-W/PT MED & M & 3.4579 & Online-Delivery & $\\dots$ \\\\\n",
       "\t14 & 502 & 919893 & D-8P FOR \\$15 & M & 14.0187 & Online-Delivery & $\\dots$ \\\\\n",
       "\t15 & 502 & 710033 & DEL SURCHARGE & M & 3.7383 & Online-Delivery & $\\dots$ \\\\\n",
       "\t16 & 502 & 913961 & D-8P VRTY FEAST & M & 38.271 & Online-Delivery & $\\dots$ \\\\\n",
       "\t17 & 502 & 710033 & DEL SURCHARGE & M & 3.7383 & Online-Delivery & $\\dots$ \\\\\n",
       "\t18 & 502 & 921466 & D-2P CKN BX & M & 39.2523 & Online-Delivery & $\\dots$ \\\\\n",
       "\t19 & 502 & 921466 & D-2P CKN BX & M & 39.2523 & Online-Delivery & $\\dots$ \\\\\n",
       "\t20 & 502 & 921466 & D-2P CKN BX & M & 29.4393 & Online-Delivery & $\\dots$ \\\\\n",
       "\t21 & 502 & 710033 & DEL SURCHARGE & M & 3.7383 & Online-Delivery & $\\dots$ \\\\\n",
       "\t22 & 502 & 913299 & D-AO 2 CHZ FRIES-APP & M & 5.6075 & Online-Delivery & $\\dots$ \\\\\n",
       "\t23 & 502 & 922023 & D-10 FOR \\$10 & M & 9.3458 & Online-Delivery & $\\dots$ \\\\\n",
       "\t24 & 502 & 710033 & DEL SURCHARGE & M & 3.7383 & Online-Delivery & $\\dots$ \\\\\n",
       "\t25 & 502 & 921474 & D-ZNGBX+2P CKN BX & M & 15.1402 & Online-Delivery & $\\dots$ \\\\\n",
       "\t26 & 502 & 916131 & D-1P CRY BWL ML & M & 7.9907 & Online-Delivery & $\\dots$ \\\\\n",
       "\t27 & 502 & 912754 & D-1P ZNG BOX & M & 10.2336 & Online-Delivery & $\\dots$ \\\\\n",
       "\t28 & 502 & 710033 & DEL SURCHARGE & M & 3.7383 & Online-Delivery & $\\dots$ \\\\\n",
       "\t29 & 502 & 916759 & D-ALA SNACK N SHARE BX   & M & 12.1028 & Online-Delivery & $\\dots$ \\\\\n",
       "\t30 & 502 & 922023 & D-10 FOR \\$10 & M & 9.3458 & Online-Delivery & $\\dots$ \\\\\n",
       "\t$\\dots$ & $\\dots$ & $\\dots$ & $\\dots$ & $\\dots$ & $\\dots$ & $\\dots$ &  \\\\\n",
       "\\end{tabular}\n"
      ],
      "text/plain": [
       "\u001b[1m5214325×10 SubDataFrame\u001b[0m\n",
       "\u001b[1m     Row \u001b[0m│\u001b[1m storenum \u001b[0m\u001b[1m item_key \u001b[0m\u001b[1m item_description \u001b[0m\u001b[1m transaction_type \u001b[0m\u001b[1m sales_amoun\u001b[0m ⋯\n",
       "\u001b[1m         \u001b[0m│\u001b[90m Int64    \u001b[0m\u001b[90m Int64    \u001b[0m\u001b[90m String           \u001b[0m\u001b[90m String           \u001b[0m\u001b[90m Float64    \u001b[0m ⋯\n",
       "─────────┼──────────────────────────────────────────────────────────────────────\n",
       "       1 │      502    916755  D-10P CKN BKT     M                      26.915 ⋯\n",
       "       2 │      502    710033  DEL SURCHARGE     M                       3.738\n",
       "       3 │      502    700103  D-3PC ML(OR)      M                      58.411\n",
       "       4 │      502    710033  DEL SURCHARGE     M                       3.738\n",
       "       5 │      502    710009  D-ZINGER          M                      10.934 ⋯\n",
       "       6 │      502    700103  D-3PC ML(OR)      M                      46.729\n",
       "       7 │      502    710033  DEL SURCHARGE     M                       3.738\n",
       "       8 │      502    922023  D-10 FOR $10      M                       9.345\n",
       "       9 │      502    913618  D-10P CKN 2-5PM   M                      16.822 ⋯\n",
       "      10 │      502    710033  DEL SURCHARGE     M                       3.738\n",
       "      11 │      502    916137  D-FM POT BWL      M                       5.0\n",
       "    ⋮    │    ⋮         ⋮             ⋮                 ⋮               ⋮      ⋱\n",
       " 5214316 │      670    921046  5P ACB 30%        M                       9.626\n",
       " 5214317 │      670    922204  ZNG+SJ-R          M                       0.934 ⋯\n",
       " 5214318 │      670    921048  15P ACB 30%       M                      25.420\n",
       " 5214319 │      670    922110  2P(TG) ML         M                       8.364\n",
       " 5214320 │      670    450011  RWP>CF            M                       2.056\n",
       " 5214321 │      670    914357  1P EGG TART       M                       1.215 ⋯\n",
       " 5214322 │      670    912781  1 OR ZNG BX       M                       8.551\n",
       " 5214323 │      670    450046  RFF>CFRIES        M                       1.869\n",
       " 5214324 │      670    914357  1P EGG TART       M                       1.215\n",
       " 5214325 │      670    921046  5P ACB 30%        M                       9.626 ⋯\n",
       "\u001b[36m                                              6 columns and 5214304 rows omitted\u001b[0m"
      ]
     },
     "execution_count": 11,
     "metadata": {},
     "output_type": "execute_result"
    }
   ],
   "source": [
    "#selecting Transaction Type :M\n",
    "df = df[1]"
   ]
  },
  {
   "cell_type": "code",
   "execution_count": 12,
   "metadata": {
    "collapsed": true
   },
   "outputs": [
    {
     "data": {
      "text/html": [
       "<p><b>GroupedDataFrame with 6 groups based on key: daypart</b></p><p><i>First Group (593802 rows): daypart = \"Breakfast_Weekday\"</i></p><table class=\"data-frame\"><thead><tr><th></th><th>storenum</th><th>item_key</th><th>item_description</th><th>transaction_type</th><th>sales_amount</th><th>sales_channel</th></tr><tr><th></th><th>Int64</th><th>Int64</th><th>String</th><th>String</th><th>Float64</th><th>String</th></tr></thead><tbody><tr><th>1</th><td>502</td><td>916755</td><td>D-10P CKN BKT</td><td>M</td><td>26.9159</td><td>Online-Delivery</td></tr><tr><th>2</th><td>502</td><td>710033</td><td>DEL SURCHARGE</td><td>M</td><td>3.7383</td><td>Online-Delivery</td></tr><tr><th>3</th><td>502</td><td>700103</td><td>D-3PC ML(OR)</td><td>M</td><td>58.4112</td><td>Phone-Delivery</td></tr><tr><th>4</th><td>502</td><td>710033</td><td>DEL SURCHARGE</td><td>M</td><td>3.7383</td><td>Phone-Delivery</td></tr><tr><th>5</th><td>502</td><td>710009</td><td>D-ZINGER</td><td>M</td><td>10.9346</td><td>Phone-Delivery</td></tr><tr><th>6</th><td>502</td><td>700103</td><td>D-3PC ML(OR)</td><td>M</td><td>46.729</td><td>Phone-Delivery</td></tr><tr><th>7</th><td>502</td><td>710033</td><td>DEL SURCHARGE</td><td>M</td><td>3.7383</td><td>Phone-Delivery</td></tr><tr><th>8</th><td>502</td><td>922023</td><td>D-10 FOR $10</td><td>M</td><td>9.3458</td><td>Online-Delivery</td></tr><tr><th>9</th><td>502</td><td>913618</td><td>D-10P CKN 2-5PM</td><td>M</td><td>16.8224</td><td>Online-Delivery</td></tr><tr><th>10</th><td>502</td><td>710033</td><td>DEL SURCHARGE</td><td>M</td><td>3.7383</td><td>Online-Delivery</td></tr><tr><th>11</th><td>502</td><td>916137</td><td>D-FM POT BWL</td><td>M</td><td>5.0</td><td>Online-Delivery</td></tr><tr><th>12</th><td>502</td><td>710018</td><td>D-C/SL MED</td><td>M</td><td>3.4579</td><td>Online-Delivery</td></tr><tr><th>13</th><td>502</td><td>710021</td><td>D-W/PT MED</td><td>M</td><td>3.4579</td><td>Online-Delivery</td></tr><tr><th>14</th><td>502</td><td>919893</td><td>D-8P FOR $15</td><td>M</td><td>14.0187</td><td>Online-Delivery</td></tr><tr><th>15</th><td>502</td><td>710033</td><td>DEL SURCHARGE</td><td>M</td><td>3.7383</td><td>Online-Delivery</td></tr><tr><th>16</th><td>502</td><td>913961</td><td>D-8P VRTY FEAST</td><td>M</td><td>38.271</td><td>Online-Delivery</td></tr><tr><th>17</th><td>502</td><td>710033</td><td>DEL SURCHARGE</td><td>M</td><td>3.7383</td><td>Online-Delivery</td></tr><tr><th>18</th><td>502</td><td>921466</td><td>D-2P CKN BX</td><td>M</td><td>39.2523</td><td>Online-Delivery</td></tr><tr><th>19</th><td>502</td><td>921466</td><td>D-2P CKN BX</td><td>M</td><td>39.2523</td><td>Online-Delivery</td></tr><tr><th>20</th><td>502</td><td>921466</td><td>D-2P CKN BX</td><td>M</td><td>29.4393</td><td>Online-Delivery</td></tr><tr><th>21</th><td>502</td><td>710033</td><td>DEL SURCHARGE</td><td>M</td><td>3.7383</td><td>Online-Delivery</td></tr><tr><th>22</th><td>502</td><td>913299</td><td>D-AO 2 CHZ FRIES-APP</td><td>M</td><td>5.6075</td><td>Online-Delivery</td></tr><tr><th>23</th><td>502</td><td>922023</td><td>D-10 FOR $10</td><td>M</td><td>9.3458</td><td>Online-Delivery</td></tr><tr><th>24</th><td>502</td><td>710033</td><td>DEL SURCHARGE</td><td>M</td><td>3.7383</td><td>Online-Delivery</td></tr><tr><th>25</th><td>502</td><td>921474</td><td>D-ZNGBX+2P CKN BX</td><td>M</td><td>15.1402</td><td>Online-Delivery</td></tr><tr><th>26</th><td>502</td><td>916131</td><td>D-1P CRY BWL ML</td><td>M</td><td>7.9907</td><td>Online-Delivery</td></tr><tr><th>27</th><td>502</td><td>912754</td><td>D-1P ZNG BOX</td><td>M</td><td>10.2336</td><td>Online-Delivery</td></tr><tr><th>28</th><td>502</td><td>710033</td><td>DEL SURCHARGE</td><td>M</td><td>3.7383</td><td>Online-Delivery</td></tr><tr><th>29</th><td>502</td><td>9999994</td><td>*BF Eat In*</td><td>M</td><td>0.0</td><td>Breakfast (BF)</td></tr><tr><th>30</th><td>502</td><td>500009</td><td>PORRIDGE</td><td>M</td><td>3.0841</td><td>Breakfast (BF)</td></tr><tr><th>&vellip;</th><td>&vellip;</td><td>&vellip;</td><td>&vellip;</td><td>&vellip;</td><td>&vellip;</td><td>&vellip;</td></tr></tbody></table><p>&vellip;</p><p><i>Last Group (645209 rows): daypart = \"Lunch_Weekend\"</i></p><table class=\"data-frame\"><thead><tr><th></th><th>storenum</th><th>item_key</th><th>item_description</th><th>transaction_type</th><th>sales_amount</th><th>sales_channel</th></tr><tr><th></th><th>Int64</th><th>Int64</th><th>String</th><th>String</th><th>Float64</th><th>String</th></tr></thead><tbody><tr><th>1</th><td>502</td><td>710009</td><td>D-ZINGER</td><td>M</td><td>5.4673</td><td>Online-Delivery</td></tr><tr><th>2</th><td>502</td><td>913299</td><td>D-AO 2 CHZ FRIES-APP</td><td>M</td><td>5.6075</td><td>Online-Delivery</td></tr><tr><th>3</th><td>502</td><td>916755</td><td>D-10P CKN BKT</td><td>M</td><td>26.9159</td><td>Online-Delivery</td></tr><tr><th>4</th><td>502</td><td>710033</td><td>DEL SURCHARGE</td><td>M</td><td>3.7383</td><td>Online-Delivery</td></tr><tr><th>5</th><td>502</td><td>710021</td><td>D-W/PT MED</td><td>M</td><td>6.9159</td><td>Online-Delivery</td></tr><tr><th>6</th><td>502</td><td>710018</td><td>D-C/SL MED</td><td>M</td><td>6.9159</td><td>Online-Delivery</td></tr><tr><th>7</th><td>502</td><td>922023</td><td>D-10 FOR $10</td><td>M</td><td>9.3458</td><td>Online-Delivery</td></tr><tr><th>8</th><td>502</td><td>916755</td><td>D-10P CKN BKT</td><td>M</td><td>26.9159</td><td>Online-Delivery</td></tr><tr><th>9</th><td>502</td><td>710033</td><td>DEL SURCHARGE</td><td>M</td><td>3.7383</td><td>Online-Delivery</td></tr><tr><th>10</th><td>502</td><td>922023</td><td>D-10 FOR $10</td><td>M</td><td>9.3458</td><td>Online-Delivery</td></tr><tr><th>11</th><td>502</td><td>916131</td><td>D-1P CRY BWL ML</td><td>M</td><td>7.9907</td><td>Online-Delivery</td></tr><tr><th>12</th><td>502</td><td>710033</td><td>DEL SURCHARGE</td><td>M</td><td>3.7383</td><td>Online-Delivery</td></tr><tr><th>13</th><td>502</td><td>710043</td><td>D-6P EGG TARTS</td><td>M</td><td>14.9533</td><td>Phone-Delivery</td></tr><tr><th>14</th><td>502</td><td>912754</td><td>D-1P ZNG BOX</td><td>M</td><td>102.336</td><td>Phone-Delivery</td></tr><tr><th>15</th><td>502</td><td>915879</td><td>D-1P TGY PKT BX</td><td>M</td><td>81.8692</td><td>Phone-Delivery</td></tr><tr><th>16</th><td>502</td><td>710033</td><td>DEL SURCHARGE</td><td>M</td><td>3.7383</td><td>Phone-Delivery</td></tr><tr><th>17</th><td>502</td><td>710064</td><td>D-CKN RICE</td><td>M</td><td>0.9346</td><td>Online-Delivery</td></tr><tr><th>18</th><td>502</td><td>710018</td><td>D-C/SL MED</td><td>M</td><td>3.4579</td><td>Online-Delivery</td></tr><tr><th>19</th><td>502</td><td>922023</td><td>D-10 FOR $10</td><td>M</td><td>9.3458</td><td>Online-Delivery</td></tr><tr><th>20</th><td>502</td><td>710033</td><td>DEL SURCHARGE</td><td>M</td><td>3.7383</td><td>Online-Delivery</td></tr><tr><th>21</th><td>502</td><td>915882</td><td>D-TGY PKT</td><td>M</td><td>5.4673</td><td>Online-Delivery</td></tr><tr><th>22</th><td>502</td><td>922023</td><td>D-10 FOR $10</td><td>M</td><td>9.3458</td><td>Online-Delivery</td></tr><tr><th>23</th><td>502</td><td>710033</td><td>DEL SURCHARGE</td><td>M</td><td>3.7383</td><td>Online-Delivery</td></tr><tr><th>24</th><td>502</td><td>710009</td><td>D-ZINGER</td><td>M</td><td>5.4673</td><td>Online-Delivery</td></tr><tr><th>25</th><td>502</td><td>913299</td><td>D-AO 2 CHZ FRIES-APP</td><td>M</td><td>5.6075</td><td>Online-Delivery</td></tr><tr><th>26</th><td>502</td><td>922023</td><td>D-10 FOR $10</td><td>M</td><td>9.3458</td><td>Online-Delivery</td></tr><tr><th>27</th><td>502</td><td>710033</td><td>DEL SURCHARGE</td><td>M</td><td>3.7383</td><td>Online-Delivery</td></tr><tr><th>28</th><td>502</td><td>913299</td><td>D-AO 2 CHZ FRIES-APP</td><td>M</td><td>5.6075</td><td>Online-Delivery</td></tr><tr><th>29</th><td>502</td><td>922023</td><td>D-10 FOR $10</td><td>M</td><td>9.3458</td><td>Online-Delivery</td></tr><tr><th>30</th><td>502</td><td>710033</td><td>DEL SURCHARGE</td><td>M</td><td>3.7383</td><td>Online-Delivery</td></tr><tr><th>&vellip;</th><td>&vellip;</td><td>&vellip;</td><td>&vellip;</td><td>&vellip;</td><td>&vellip;</td><td>&vellip;</td></tr></tbody></table>"
      ],
      "text/latex": [
       "GroupedDataFrame with 6 groups based on key: daypart\n",
       "\n",
       "First Group (593802 rows): daypart = \"Breakfast\\_Weekday\"\n",
       "\n",
       "\\begin{tabular}{r|ccccccc}\n",
       "\t& storenum & item\\_key & item\\_description & transaction\\_type & sales\\_amount & sales\\_channel & \\\\\n",
       "\t\\hline\n",
       "\t& Int64 & Int64 & String & String & Float64 & String & \\\\\n",
       "\t\\hline\n",
       "\t1 & 502 & 916755 & D-10P CKN BKT & M & 26.9159 & Online-Delivery & $\\dots$ \\\\\n",
       "\t2 & 502 & 710033 & DEL SURCHARGE & M & 3.7383 & Online-Delivery & $\\dots$ \\\\\n",
       "\t3 & 502 & 700103 & D-3PC ML(OR) & M & 58.4112 & Phone-Delivery & $\\dots$ \\\\\n",
       "\t4 & 502 & 710033 & DEL SURCHARGE & M & 3.7383 & Phone-Delivery & $\\dots$ \\\\\n",
       "\t5 & 502 & 710009 & D-ZINGER & M & 10.9346 & Phone-Delivery & $\\dots$ \\\\\n",
       "\t6 & 502 & 700103 & D-3PC ML(OR) & M & 46.729 & Phone-Delivery & $\\dots$ \\\\\n",
       "\t7 & 502 & 710033 & DEL SURCHARGE & M & 3.7383 & Phone-Delivery & $\\dots$ \\\\\n",
       "\t8 & 502 & 922023 & D-10 FOR \\$10 & M & 9.3458 & Online-Delivery & $\\dots$ \\\\\n",
       "\t9 & 502 & 913618 & D-10P CKN 2-5PM & M & 16.8224 & Online-Delivery & $\\dots$ \\\\\n",
       "\t10 & 502 & 710033 & DEL SURCHARGE & M & 3.7383 & Online-Delivery & $\\dots$ \\\\\n",
       "\t11 & 502 & 916137 & D-FM POT BWL & M & 5.0 & Online-Delivery & $\\dots$ \\\\\n",
       "\t12 & 502 & 710018 & D-C/SL MED & M & 3.4579 & Online-Delivery & $\\dots$ \\\\\n",
       "\t13 & 502 & 710021 & D-W/PT MED & M & 3.4579 & Online-Delivery & $\\dots$ \\\\\n",
       "\t14 & 502 & 919893 & D-8P FOR \\$15 & M & 14.0187 & Online-Delivery & $\\dots$ \\\\\n",
       "\t15 & 502 & 710033 & DEL SURCHARGE & M & 3.7383 & Online-Delivery & $\\dots$ \\\\\n",
       "\t16 & 502 & 913961 & D-8P VRTY FEAST & M & 38.271 & Online-Delivery & $\\dots$ \\\\\n",
       "\t17 & 502 & 710033 & DEL SURCHARGE & M & 3.7383 & Online-Delivery & $\\dots$ \\\\\n",
       "\t18 & 502 & 921466 & D-2P CKN BX & M & 39.2523 & Online-Delivery & $\\dots$ \\\\\n",
       "\t19 & 502 & 921466 & D-2P CKN BX & M & 39.2523 & Online-Delivery & $\\dots$ \\\\\n",
       "\t20 & 502 & 921466 & D-2P CKN BX & M & 29.4393 & Online-Delivery & $\\dots$ \\\\\n",
       "\t21 & 502 & 710033 & DEL SURCHARGE & M & 3.7383 & Online-Delivery & $\\dots$ \\\\\n",
       "\t22 & 502 & 913299 & D-AO 2 CHZ FRIES-APP & M & 5.6075 & Online-Delivery & $\\dots$ \\\\\n",
       "\t23 & 502 & 922023 & D-10 FOR \\$10 & M & 9.3458 & Online-Delivery & $\\dots$ \\\\\n",
       "\t24 & 502 & 710033 & DEL SURCHARGE & M & 3.7383 & Online-Delivery & $\\dots$ \\\\\n",
       "\t25 & 502 & 921474 & D-ZNGBX+2P CKN BX & M & 15.1402 & Online-Delivery & $\\dots$ \\\\\n",
       "\t26 & 502 & 916131 & D-1P CRY BWL ML & M & 7.9907 & Online-Delivery & $\\dots$ \\\\\n",
       "\t27 & 502 & 912754 & D-1P ZNG BOX & M & 10.2336 & Online-Delivery & $\\dots$ \\\\\n",
       "\t28 & 502 & 710033 & DEL SURCHARGE & M & 3.7383 & Online-Delivery & $\\dots$ \\\\\n",
       "\t29 & 502 & 9999994 & *BF Eat In* & M & 0.0 & Breakfast (BF) & $\\dots$ \\\\\n",
       "\t30 & 502 & 500009 & PORRIDGE & M & 3.0841 & Breakfast (BF) & $\\dots$ \\\\\n",
       "\t$\\dots$ & $\\dots$ & $\\dots$ & $\\dots$ & $\\dots$ & $\\dots$ & $\\dots$ &  \\\\\n",
       "\\end{tabular}\n",
       "\n",
       "$\\dots$\n",
       "\n",
       "Last Group (645209 rows): daypart = \"Lunch\\_Weekend\"\n",
       "\n",
       "\\begin{tabular}{r|ccccccc}\n",
       "\t& storenum & item\\_key & item\\_description & transaction\\_type & sales\\_amount & sales\\_channel & \\\\\n",
       "\t\\hline\n",
       "\t& Int64 & Int64 & String & String & Float64 & String & \\\\\n",
       "\t\\hline\n",
       "\t1 & 502 & 710009 & D-ZINGER & M & 5.4673 & Online-Delivery & $\\dots$ \\\\\n",
       "\t2 & 502 & 913299 & D-AO 2 CHZ FRIES-APP & M & 5.6075 & Online-Delivery & $\\dots$ \\\\\n",
       "\t3 & 502 & 916755 & D-10P CKN BKT & M & 26.9159 & Online-Delivery & $\\dots$ \\\\\n",
       "\t4 & 502 & 710033 & DEL SURCHARGE & M & 3.7383 & Online-Delivery & $\\dots$ \\\\\n",
       "\t5 & 502 & 710021 & D-W/PT MED & M & 6.9159 & Online-Delivery & $\\dots$ \\\\\n",
       "\t6 & 502 & 710018 & D-C/SL MED & M & 6.9159 & Online-Delivery & $\\dots$ \\\\\n",
       "\t7 & 502 & 922023 & D-10 FOR \\$10 & M & 9.3458 & Online-Delivery & $\\dots$ \\\\\n",
       "\t8 & 502 & 916755 & D-10P CKN BKT & M & 26.9159 & Online-Delivery & $\\dots$ \\\\\n",
       "\t9 & 502 & 710033 & DEL SURCHARGE & M & 3.7383 & Online-Delivery & $\\dots$ \\\\\n",
       "\t10 & 502 & 922023 & D-10 FOR \\$10 & M & 9.3458 & Online-Delivery & $\\dots$ \\\\\n",
       "\t11 & 502 & 916131 & D-1P CRY BWL ML & M & 7.9907 & Online-Delivery & $\\dots$ \\\\\n",
       "\t12 & 502 & 710033 & DEL SURCHARGE & M & 3.7383 & Online-Delivery & $\\dots$ \\\\\n",
       "\t13 & 502 & 710043 & D-6P EGG TARTS & M & 14.9533 & Phone-Delivery & $\\dots$ \\\\\n",
       "\t14 & 502 & 912754 & D-1P ZNG BOX & M & 102.336 & Phone-Delivery & $\\dots$ \\\\\n",
       "\t15 & 502 & 915879 & D-1P TGY PKT BX & M & 81.8692 & Phone-Delivery & $\\dots$ \\\\\n",
       "\t16 & 502 & 710033 & DEL SURCHARGE & M & 3.7383 & Phone-Delivery & $\\dots$ \\\\\n",
       "\t17 & 502 & 710064 & D-CKN RICE & M & 0.9346 & Online-Delivery & $\\dots$ \\\\\n",
       "\t18 & 502 & 710018 & D-C/SL MED & M & 3.4579 & Online-Delivery & $\\dots$ \\\\\n",
       "\t19 & 502 & 922023 & D-10 FOR \\$10 & M & 9.3458 & Online-Delivery & $\\dots$ \\\\\n",
       "\t20 & 502 & 710033 & DEL SURCHARGE & M & 3.7383 & Online-Delivery & $\\dots$ \\\\\n",
       "\t21 & 502 & 915882 & D-TGY PKT & M & 5.4673 & Online-Delivery & $\\dots$ \\\\\n",
       "\t22 & 502 & 922023 & D-10 FOR \\$10 & M & 9.3458 & Online-Delivery & $\\dots$ \\\\\n",
       "\t23 & 502 & 710033 & DEL SURCHARGE & M & 3.7383 & Online-Delivery & $\\dots$ \\\\\n",
       "\t24 & 502 & 710009 & D-ZINGER & M & 5.4673 & Online-Delivery & $\\dots$ \\\\\n",
       "\t25 & 502 & 913299 & D-AO 2 CHZ FRIES-APP & M & 5.6075 & Online-Delivery & $\\dots$ \\\\\n",
       "\t26 & 502 & 922023 & D-10 FOR \\$10 & M & 9.3458 & Online-Delivery & $\\dots$ \\\\\n",
       "\t27 & 502 & 710033 & DEL SURCHARGE & M & 3.7383 & Online-Delivery & $\\dots$ \\\\\n",
       "\t28 & 502 & 913299 & D-AO 2 CHZ FRIES-APP & M & 5.6075 & Online-Delivery & $\\dots$ \\\\\n",
       "\t29 & 502 & 922023 & D-10 FOR \\$10 & M & 9.3458 & Online-Delivery & $\\dots$ \\\\\n",
       "\t30 & 502 & 710033 & DEL SURCHARGE & M & 3.7383 & Online-Delivery & $\\dots$ \\\\\n",
       "\t$\\dots$ & $\\dots$ & $\\dots$ & $\\dots$ & $\\dots$ & $\\dots$ & $\\dots$ &  \\\\\n",
       "\\end{tabular}\n"
      ],
      "text/plain": [
       "GroupedDataFrame with 6 groups based on key: daypart\n",
       "First Group (593802 rows): daypart = \"Breakfast_Weekday\"\n",
       "\u001b[1m    Row \u001b[0m│\u001b[1m storenum \u001b[0m\u001b[1m item_key \u001b[0m\u001b[1m item_description \u001b[0m\u001b[1m transaction_type \u001b[0m\u001b[1m sales_amount\u001b[0m ⋯\n",
       "\u001b[1m        \u001b[0m│\u001b[90m Int64    \u001b[0m\u001b[90m Int64    \u001b[0m\u001b[90m String           \u001b[0m\u001b[90m String           \u001b[0m\u001b[90m Float64     \u001b[0m ⋯\n",
       "────────┼───────────────────────────────────────────────────────────────────────\n",
       "      1 │      502    916755  D-10P CKN BKT     M                      26.9159 ⋯\n",
       "      2 │      502    710033  DEL SURCHARGE     M                       3.7383\n",
       "      3 │      502    700103  D-3PC ML(OR)      M                      58.4112\n",
       "      4 │      502    710033  DEL SURCHARGE     M                       3.7383\n",
       "      5 │      502    710009  D-ZINGER          M                      10.9346 ⋯\n",
       "      6 │      502    700103  D-3PC ML(OR)      M                      46.729\n",
       "      7 │      502    710033  DEL SURCHARGE     M                       3.7383\n",
       "      8 │      502    922023  D-10 FOR $10      M                       9.3458\n",
       "      9 │      502    913618  D-10P CKN 2-5PM   M                      16.8224 ⋯\n",
       "     10 │      502    710033  DEL SURCHARGE     M                       3.7383\n",
       "     11 │      502    916137  D-FM POT BWL      M                       5.0\n",
       "   ⋮    │    ⋮         ⋮             ⋮                 ⋮               ⋮       ⋱\n",
       " 593792 │      670    539990  *                 M                       0.0\n",
       " 593793 │      670    918058  TGY PKT           M                       5.4673 ⋯\n",
       " 593794 │      670     75004  POPCORN L         M                       4.3925\n",
       " 593795 │      670     75005  CHZ FRIES         M                       4.1121\n",
       " 593796 │      670    914357  1P EGG TART       M                       1.215\n",
       " 593797 │      670    922110  2P(TG) ML         M                       8.3645 ⋯\n",
       " 593798 │      670    921826  $2.5 3PTEN+1DIP   M                       2.3364\n",
       " 593799 │      670    922202  2P CKN+SJ-R       M                       0.9346\n",
       " 593800 │      670     30001  2P(OR)ML-A        M                       7.8505\n",
       " 593801 │      670    922062  AO MASK B         M                       1.8224 ⋯\n",
       " 593802 │      670     80001  SHRM BGR          M                       2.8037\n",
       "\u001b[36m                                               5 columns and 593780 rows omitted\u001b[0m\n",
       "⋮\n",
       "Last Group (645209 rows): daypart = \"Lunch_Weekend\"\n",
       "\u001b[1m    Row \u001b[0m│\u001b[1m storenum \u001b[0m\u001b[1m item_key \u001b[0m\u001b[1m item_description     \u001b[0m\u001b[1m transaction_type \u001b[0m\u001b[1m sales_am\u001b[0m ⋯\n",
       "\u001b[1m        \u001b[0m│\u001b[90m Int64    \u001b[0m\u001b[90m Int64    \u001b[0m\u001b[90m String               \u001b[0m\u001b[90m String           \u001b[0m\u001b[90m Float64 \u001b[0m ⋯\n",
       "────────┼───────────────────────────────────────────────────────────────────────\n",
       "      1 │      502    710009  D-ZINGER              M                       5. ⋯\n",
       "      2 │      502    913299  D-AO 2 CHZ FRIES-APP  M                       5.\n",
       "      3 │      502    916755  D-10P CKN BKT         M                      26.\n",
       "      4 │      502    710033  DEL SURCHARGE         M                       3.\n",
       "      5 │      502    710021  D-W/PT MED            M                       6. ⋯\n",
       "      6 │      502    710018  D-C/SL MED            M                       6.\n",
       "      7 │      502    922023  D-10 FOR $10          M                       9.\n",
       "      8 │      502    916755  D-10P CKN BKT         M                      26.\n",
       "      9 │      502    710033  DEL SURCHARGE         M                       3. ⋯\n",
       "     10 │      502    922023  D-10 FOR $10          M                       9.\n",
       "     11 │      502    916131  D-1P CRY BWL ML       M                       7.\n",
       "   ⋮    │    ⋮         ⋮               ⋮                   ⋮               ⋮   ⋱\n",
       " 645199 │      670    400134  RP>SJORA -R           M                       0.\n",
       " 645200 │      670    921826  $2.5 3PTEN+1DIP       M                       2. ⋯\n",
       " 645201 │      670    922110  2P(TG) ML             M                       8.\n",
       " 645202 │      670    922110  2P(TG) ML             M                       8.\n",
       " 645203 │      670     45104  2P TDR SNCKR          M                       3.\n",
       " 645204 │      670     75004  POPCORN L             M                       8. ⋯\n",
       " 645205 │      670    916089  OR RC BWL ML          M                       4.\n",
       " 645206 │      670    922086  $2.95 ZNG             M                       2.\n",
       " 645207 │      670    914982  FAM POT ML            M                       4.\n",
       " 645208 │      670    922255  10P CEL FST           M                      39. ⋯\n",
       " 645209 │      670    922202  2P CKN+SJ-R           M                       0.\n",
       "\u001b[36m                                               6 columns and 645187 rows omitted\u001b[0m"
      ]
     },
     "execution_count": 12,
     "metadata": {},
     "output_type": "execute_result"
    }
   ],
   "source": [
    "#groupby daypart\n",
    "df = groupby(df,:daypart)"
   ]
  },
  {
   "cell_type": "code",
   "execution_count": 30,
   "metadata": {},
   "outputs": [
    {
     "data": {
      "text/plain": [
       "get_embed_vector (generic function with 1 method)"
      ]
     },
     "execution_count": 30,
     "metadata": {},
     "output_type": "execute_result"
    }
   ],
   "source": [
    "#function that generates embedding in a given range of transaction\n",
    "function get_embed_vector(grp,lower,upper)\n",
    "    arr_trn = String[]\n",
    "    push!(arr_trn,grp[lower].store_transaction_key[1])\n",
    "    x = embedding[dict_index[grp[lower].store_transaction_key[1]],:]\n",
    "    arr_embedd = x\n",
    "    for j in (lower+1):upper\n",
    "        arr_trn = vcat(arr_trn,grp[j].store_transaction_key[1])\n",
    "        x = embedding[dict_index[grp[j].store_transaction_key[1]],:]\n",
    "        arr_embedd = hcat(arr_embedd,x)\n",
    "    end\n",
    "    return arr_trn,arr_embedd\n",
    "end"
   ]
  },
  {
   "cell_type": "code",
   "execution_count": 37,
   "metadata": {},
   "outputs": [
    {
     "data": {
      "text/plain": [
       "embedd (generic function with 1 method)"
      ]
     },
     "execution_count": 37,
     "metadata": {},
     "output_type": "execute_result"
    }
   ],
   "source": [
    "# function that passes range to get_embed_vector and combines them as per their daypart\n",
    "function embedd(df,batch_size)\n",
    "    for i in 1:length(df)\n",
    "        grp = groupby(df[i],:store_transaction_key)\n",
    "        arr_trn,arr_embedd = get_embed_vector(grp,1,1)\n",
    "        count = 2\n",
    "        max_length = length(grp)\n",
    "        while (count <= max_length)\n",
    "            lower = count\n",
    "            upper = lower + batch_size\n",
    "            if(upper > max_length)\n",
    "                upper = max_length\n",
    "            end\n",
    "            arr_trn_batch,arr_embedd_batch = get_embed_vector(grp,lower,upper)\n",
    "            arr_trn = vcat(arr_trn,arr_trn_batch)\n",
    "            arr_embedd = hcat(arr_embedd,arr_embedd_batch)\n",
    "            count = upper + 1\n",
    "            println(df[i].daypart[1],\" \",lower,\" \",upper)\n",
    "        end\n",
    "        df_embedd = DataFrame(arr_embedd',:auto)\n",
    "        df_trn = DataFrame(store_transaction_key = arr_trn)\n",
    "        embedd_file = df[i].daypart[1] * \"_embedding.csv\"\n",
    "        trn_file = df[i].daypart[1] * \"_transaction_key.csv\"\n",
    "        CSV.write(embedd_file,df_embedd)\n",
    "        CSV.write(trn_file,df_trn)\n",
    "    end\n",
    "end"
   ]
  },
  {
   "cell_type": "code",
   "execution_count": 38,
   "metadata": {
    "collapsed": true
   },
   "outputs": [
    {
     "name": "stdout",
     "output_type": "stream",
     "text": [
      "Breakfast_Weekday 2 10002\n",
      "Breakfast_Weekday 10003 20003\n",
      "Breakfast_Weekday 20004 30004\n",
      "Breakfast_Weekday 30005 40005\n",
      "Breakfast_Weekday 40006 50006\n",
      "Breakfast_Weekday 50007 60007\n",
      "Breakfast_Weekday 60008 70008\n",
      "Breakfast_Weekday 70009 80009\n",
      "Breakfast_Weekday 80010 90010\n",
      "Breakfast_Weekday 90011 100011\n",
      "Breakfast_Weekday 100012 110012\n",
      "Breakfast_Weekday 110013 120013\n",
      "Breakfast_Weekday 120014 130014\n",
      "Breakfast_Weekday 130015 131812\n",
      "Lunch_Weekday 2 10002\n",
      "Lunch_Weekday 10003 20003\n",
      "Lunch_Weekday 20004 30004\n",
      "Lunch_Weekday 30005 40005\n",
      "Lunch_Weekday 40006 50006\n",
      "Lunch_Weekday 50007 60007\n",
      "Lunch_Weekday 60008 70008\n",
      "Lunch_Weekday 70009 80009\n",
      "Lunch_Weekday 80010 90010\n",
      "Lunch_Weekday 90011 100011\n",
      "Lunch_Weekday 100012 110012\n",
      "Lunch_Weekday 110013 120013\n",
      "Lunch_Weekday 120014 130014\n",
      "Lunch_Weekday 130015 140015\n",
      "Lunch_Weekday 140016 150016\n",
      "Lunch_Weekday 150017 160017\n",
      "Lunch_Weekday 160018 170018\n",
      "Lunch_Weekday 170019 180019\n",
      "Lunch_Weekday 180020 190020\n",
      "Lunch_Weekday 190021 200021\n",
      "Lunch_Weekday 200022 210022\n",
      "Lunch_Weekday 210023 220023\n",
      "Lunch_Weekday 220024 230024\n",
      "Lunch_Weekday 230025 240025\n",
      "Lunch_Weekday 240026 250026\n",
      "Lunch_Weekday 250027 260027\n",
      "Lunch_Weekday 260028 270028\n",
      "Lunch_Weekday 270029 280029\n",
      "Lunch_Weekday 280030 290030\n",
      "Lunch_Weekday 290031 300031\n",
      "Lunch_Weekday 300032 310032\n",
      "Lunch_Weekday 310033 320033\n",
      "Lunch_Weekday 320034 330034\n",
      "Lunch_Weekday 330035 340035\n",
      "Lunch_Weekday 340036 350036\n",
      "Lunch_Weekday 350037 360037\n",
      "Lunch_Weekday 360038 370038\n",
      "Lunch_Weekday 370039 380039\n",
      "Lunch_Weekday 380040 390040\n",
      "Lunch_Weekday 390041 400041\n",
      "Lunch_Weekday 400042 409783\n",
      "Dinner_Weekday 2 10002\n",
      "Dinner_Weekday 10003 20003\n",
      "Dinner_Weekday 20004 30004\n",
      "Dinner_Weekday 30005 40005\n",
      "Dinner_Weekday 40006 50006\n",
      "Dinner_Weekday 50007 60007\n",
      "Dinner_Weekday 60008 70008\n",
      "Dinner_Weekday 70009 80009\n",
      "Dinner_Weekday 80010 90010\n",
      "Dinner_Weekday 90011 100011\n",
      "Dinner_Weekday 100012 110012\n",
      "Dinner_Weekday 110013 120013\n",
      "Dinner_Weekday 120014 130014\n",
      "Dinner_Weekday 130015 140015\n",
      "Dinner_Weekday 140016 150016\n",
      "Dinner_Weekday 150017 160017\n",
      "Dinner_Weekday 160018 170018\n",
      "Dinner_Weekday 170019 180019\n",
      "Dinner_Weekday 180020 190020\n",
      "Dinner_Weekday 190021 200021\n",
      "Dinner_Weekday 200022 210022\n",
      "Dinner_Weekday 210023 220023\n",
      "Dinner_Weekday 220024 230024\n",
      "Dinner_Weekday 230025 240025\n",
      "Dinner_Weekday 240026 250026\n",
      "Dinner_Weekday 250027 260027\n",
      "Dinner_Weekday 260028 270028\n",
      "Dinner_Weekday 270029 280029\n",
      "Dinner_Weekday 280030 290030\n",
      "Dinner_Weekday 290031 300031\n",
      "Dinner_Weekday 300032 310032\n",
      "Dinner_Weekday 310033 320033\n",
      "Dinner_Weekday 320034 330034\n",
      "Dinner_Weekday 330035 340035\n",
      "Dinner_Weekday 340036 350036\n",
      "Dinner_Weekday 350037 360037\n",
      "Dinner_Weekday 360038 370038\n",
      "Dinner_Weekday 370039 370587\n",
      "Dinner_Weekend 2 10002\n",
      "Dinner_Weekend 10003 20003\n",
      "Dinner_Weekend 20004 30004\n",
      "Dinner_Weekend 30005 40005\n",
      "Dinner_Weekend 40006 50006\n",
      "Dinner_Weekend 50007 60007\n",
      "Dinner_Weekend 60008 70008\n",
      "Dinner_Weekend 70009 80009\n",
      "Dinner_Weekend 80010 90010\n",
      "Dinner_Weekend 90011 100011\n",
      "Dinner_Weekend 100012 110012\n",
      "Dinner_Weekend 110013 120013\n",
      "Dinner_Weekend 120014 123724\n",
      "Breakfast_Weekend 2 10002\n",
      "Breakfast_Weekend 10003 20003\n",
      "Breakfast_Weekend 20004 30004\n",
      "Breakfast_Weekend 30005 40005\n",
      "Breakfast_Weekend 40006 50006\n",
      "Breakfast_Weekend 50007 60007\n",
      "Breakfast_Weekend 60008 70008\n",
      "Breakfast_Weekend 70009 71891\n",
      "Lunch_Weekend 2 10002\n",
      "Lunch_Weekend 10003 20003\n",
      "Lunch_Weekend 20004 30004\n",
      "Lunch_Weekend 30005 40005\n",
      "Lunch_Weekend 40006 50006\n",
      "Lunch_Weekend 50007 60007\n",
      "Lunch_Weekend 60008 70008\n",
      "Lunch_Weekend 70009 80009\n",
      "Lunch_Weekend 80010 90010\n",
      "Lunch_Weekend 90011 100011\n",
      "Lunch_Weekend 100012 110012\n",
      "Lunch_Weekend 110013 120013\n",
      "Lunch_Weekend 120014 130014\n",
      "Lunch_Weekend 130015 140015\n",
      "Lunch_Weekend 140016 150016\n",
      "Lunch_Weekend 150017 157689\n"
     ]
    }
   ],
   "source": [
    "#generate embedding daypart wise\n",
    "embedd(df,10000)"
   ]
  },
  {
   "cell_type": "markdown",
   "metadata": {},
   "source": [
    "## Run K-Means"
   ]
  },
  {
   "cell_type": "code",
   "execution_count": 7,
   "metadata": {},
   "outputs": [],
   "source": [
    "using Clustering"
   ]
  },
  {
   "cell_type": "markdown",
   "metadata": {},
   "source": [
    "### Breakfast_Weekday"
   ]
  },
  {
   "cell_type": "code",
   "execution_count": 117,
   "metadata": {
    "collapsed": true
   },
   "outputs": [
    {
     "data": {
      "text/plain": [
       "20×131812 adjoint(::Matrix{Float64}) with eltype Float64:\n",
       "  0.0807736  -0.298324    -0.376631   …   0.438891     0.388387    0.378176\n",
       " -0.181403   -0.402742    -0.533046       0.606485    -0.0298589   0.483388\n",
       "  0.472851    0.359196     0.606288       0.171945     0.248771    0.295489\n",
       " -0.724752   -0.509869    -0.701936       0.496072    -0.0178658   0.725668\n",
       " -0.297743   -0.0244358   -0.0823986      0.228519     0.443795   -0.0896801\n",
       " -0.0460276  -0.0582655    0.0422824  …  -0.171102    -0.292664   -0.722883\n",
       "  0.125119    0.0127468    0.170374      -0.39775     -0.0198879  -0.859396\n",
       "  0.399329    0.330665     0.584976       0.13063     -0.0966249  -0.490137\n",
       " -0.162985   -0.0978179   -0.161787      -0.0638738   -0.165642   -0.534077\n",
       " -0.309832   -0.167004    -0.255125      -0.516866    -0.22247    -0.399812\n",
       "  0.879035    0.627074     1.02829    …  -0.48593     -0.169128   -0.0732331\n",
       "  0.641812    0.64865      1.05065        0.262217     0.29581     0.505039\n",
       " -0.148668    0.00136002   0.0822228     -0.042202    -0.232049    0.428257\n",
       " -0.600011   -0.788558    -1.07538        0.0104923    0.370124    0.0940835\n",
       " -0.0195764   0.112441     0.0412687     -0.14275     -0.0659328  -0.475592\n",
       " -0.210922   -0.363839    -0.740743   …   0.479631    -0.0799536   0.197564\n",
       "  0.217447    0.158626     0.205341       0.724122     0.0333268   0.712399\n",
       " -0.164694   -0.0900915   -0.31668        0.00599083  -0.0821113   0.402351\n",
       "  0.43975     0.452007     0.731692       0.0549176   -0.0449218  -0.327823\n",
       " -0.277423   -0.541662    -0.8134        -0.147367    -0.298718    0.239015"
      ]
     },
     "execution_count": 117,
     "metadata": {},
     "output_type": "execute_result"
    }
   ],
   "source": [
    "#load the embedding file\n",
    "embedding = DataFrame(CSV.File(\"Breakfast_Weekday_embedding.csv\"))\n",
    "embedding = Matrix(embedding)'"
   ]
  },
  {
   "cell_type": "code",
   "execution_count": 118,
   "metadata": {},
   "outputs": [
    {
     "data": {
      "text/plain": [
       "KmeansResult{Matrix{Float64}, Float64, Int64}([-0.4471176139968878 -0.9364478361063603; -0.28249274021719645 0.058610508840510764; … ; -0.36082783260216744 -0.19114080830784705; -0.10194926287467768 0.5829121327500763], [1, 1, 1, 1, 1, 1, 1, 1, 1, 1  …  1, 1, 2, 1, 2, 1, 1, 1, 1, 1], [8.376324686216986, 7.847146089242774, 11.9947752522232, 11.213791666113309, 24.528422594675334, 7.036462409467005, 19.446727817076905, 10.753772897053182, 17.510086390936003, 2.035837344361674  …  8.690924196475642, 5.171122741548809, 10.303458953539973, 6.555155086250427, 138.2806768840774, 5.424129436856107, 4.508825264197722, 8.938332890365992, 5.5249803762112935, 7.480858537767784], [120994, 10818], [120994, 10818], 1.2852000877241555e6, 5, true)"
      ]
     },
     "execution_count": 118,
     "metadata": {},
     "output_type": "execute_result"
    }
   ],
   "source": [
    "#perform the K-means Cluster\n",
    "result = kmeans(embedding, 2)"
   ]
  },
  {
   "cell_type": "code",
   "execution_count": 119,
   "metadata": {},
   "outputs": [
    {
     "data": {
      "text/plain": [
       "\"Breakfast_Weekday_Clusters.csv\""
      ]
     },
     "execution_count": 119,
     "metadata": {},
     "output_type": "execute_result"
    }
   ],
   "source": [
    "#Save the Cluster result\n",
    "df_trn = DataFrame(CSV.File(\"Breakfast_Weekday_transaction_key.csv\"))\n",
    "df1 = DataFrame(store_transaction_key = df_trn.store_transaction_key ,cluster = result.assignments)\n",
    "CSV.write(\"Breakfast_Weekday_Clusters.csv\",df1)"
   ]
  },
  {
   "cell_type": "markdown",
   "metadata": {},
   "source": [
    "### Breakfast_Weekend"
   ]
  },
  {
   "cell_type": "code",
   "execution_count": 120,
   "metadata": {},
   "outputs": [
    {
     "data": {
      "text/plain": [
       "20×71891 adjoint(::Matrix{Float64}) with eltype Float64:\n",
       "  0.372556   -0.266937   0.24977     1.88038     …   1.37042     0.333757\n",
       " -0.313874   -0.544634  -0.290599    1.5778          0.292717    0.343022\n",
       " -0.123103   -0.663282  -0.153279    0.168579       -1.22561    -0.343002\n",
       " -0.360869   -1.30533   -0.449341    0.256847       -0.902404   -0.777397\n",
       "  0.50701     0.750812   0.466164   -0.565964        1.88297     1.40189\n",
       "  0.982093    1.83848    0.929596   -0.327728    …   1.88191     0.282751\n",
       "  0.0486435   0.403699   0.177429   -1.82325         1.20285     0.298568\n",
       " -0.359112   -0.567493  -0.461527   -0.0127245       0.0863854   0.532484\n",
       "  0.5922      1.24965    0.616551   -0.635856       -0.244929   -0.391113\n",
       " -0.40232    -0.760717  -0.5195      0.387407        1.92265     1.18049\n",
       " -0.322769   -0.576413  -0.434824   -1.29576     …  -0.410703   -0.176743\n",
       " -0.356571   -0.256119  -0.113509    0.210346       -1.03501    -0.633606\n",
       " -0.0423897   0.174509   0.111712    1.07753        -0.804012   -0.975766\n",
       "  0.267254    0.874318   0.302832   -0.701166       -1.04872    -0.241042\n",
       "  0.299828    0.708387   0.221705    0.362788       -0.21847    -0.044385\n",
       "  0.500402    0.811254   0.533736   -0.0184838   …   0.463271   -0.197155\n",
       "  0.737289    1.35616    0.39863     1.32993        -1.4631      0.36771\n",
       "  0.315673    1.11474    0.495797   -0.00863849     -0.631422    0.0326283\n",
       " -0.0336136  -0.604548  -0.216098    0.606003       -2.13544    -0.931456\n",
       "  0.036022   -0.549556  -0.0190077   0.235265        0.449767    0.628694"
      ]
     },
     "execution_count": 120,
     "metadata": {},
     "output_type": "execute_result"
    }
   ],
   "source": [
    "#load the embedding file\n",
    "embedding = DataFrame(CSV.File(\"Breakfast_Weekend_embedding.csv\"))\n",
    "embedding = Matrix(embedding)'"
   ]
  },
  {
   "cell_type": "code",
   "execution_count": 121,
   "metadata": {},
   "outputs": [
    {
     "data": {
      "text/plain": [
       "KmeansResult{Matrix{Float64}, Float64, Int64}([-1.3104686166164932 -0.049369307884556804; -0.8040170243434672 -0.021538313534344815; … ; -0.7569409719604064 -0.06617524960918907; -0.12964844808855597 0.0982944072078865], [2, 2, 2, 2, 2, 2, 2, 2, 2, 2  …  2, 2, 2, 2, 2, 2, 2, 2, 2, 2], [6.922773068366034, 20.841040899767343, 6.548745310070032, 17.516303099728407, 3.4036185668025096, 5.347586277745385, 1.78662896777641, 3.1357072079700923, 2.1545036590447917, 7.804807056483603  …  7.121416389023723, 10.64177606392994, 7.816801907680354, 12.873327721947964, 9.877884389797163, 8.970287924031357, 6.195492495262455, 4.651918735274796, 30.834195745205506, 10.842618782713059], [30698, 41193], [30698, 41193], 752705.7487613951, 13, true)"
      ]
     },
     "execution_count": 121,
     "metadata": {},
     "output_type": "execute_result"
    }
   ],
   "source": [
    "#perform the K-means Cluster\n",
    "result = kmeans(embedding, 2)\n",
    "#no cluster possible"
   ]
  },
  {
   "cell_type": "code",
   "execution_count": 122,
   "metadata": {},
   "outputs": [
    {
     "data": {
      "text/plain": [
       "\"Breakfast_Weekend_Clusters.csv\""
      ]
     },
     "execution_count": 122,
     "metadata": {},
     "output_type": "execute_result"
    }
   ],
   "source": [
    "#Save the Cluster result\n",
    "df_trn = DataFrame(CSV.File(\"Breakfast_Weekend_transaction_key.csv\"))\n",
    "df1 = DataFrame(store_transaction_key = df_trn.store_transaction_key ,cluster = ones(length(df_trn.store_transaction_key)))\n",
    "CSV.write(\"Breakfast_Weekend_Clusters.csv\",df1)"
   ]
  },
  {
   "cell_type": "markdown",
   "metadata": {},
   "source": [
    "### Dinner_Weekday"
   ]
  },
  {
   "cell_type": "code",
   "execution_count": 123,
   "metadata": {},
   "outputs": [
    {
     "data": {
      "text/plain": [
       "20×370587 adjoint(::Matrix{Float64}) with eltype Float64:\n",
       "  0.0807736  -0.110399  -0.251264    …   0.531692    0.486949     0.178528\n",
       " -0.181403   -0.207228  -0.540134        0.84595     0.777913     0.0217549\n",
       "  0.472851    0.8565     1.08669         0.511388    0.0240603    0.0130382\n",
       " -0.724752   -1.29321   -0.822451        1.07786     0.387327    -0.203487\n",
       " -0.297743   -0.43303    0.130671       -0.259268   -0.951213     0.0530786\n",
       " -0.0460276  -0.127818  -0.0112444   …  -0.367387   -0.123161     0.0912789\n",
       "  0.125119    0.273957   0.173402       -0.545894   -0.235022    -0.171274\n",
       "  0.399329    0.744113   0.463469       -0.138561   -0.710823     0.0461399\n",
       " -0.162985   -0.294044  -0.202941        0.175265    0.00757571  -0.374797\n",
       " -0.309832   -0.222309  -0.0119564      -0.33333    -0.785822    -0.522906\n",
       "  0.879035    1.73214    1.02657     …  -0.406884   -0.56223      0.0537822\n",
       "  0.641812    1.38999    0.972064       -0.035325    0.729042    -0.150086\n",
       " -0.148668   -0.202345   0.205022        0.683239    0.81125      0.0362989\n",
       " -0.600011   -1.1764    -0.968661        0.0472325   0.22988      0.244246\n",
       " -0.0195764  -0.10237   -0.00318878      0.262361   -0.397229    -0.120178\n",
       " -0.210922   -0.894782  -0.648718    …   0.51729    -0.016625    -0.269933\n",
       "  0.217447    0.222955   0.115135        0.73692     0.0406738    0.394099\n",
       " -0.164694   -0.789421  -0.282511       -0.289946    0.410061     0.178828\n",
       "  0.43975     1.04296    0.691476        0.0191756   0.462571    -0.200147\n",
       " -0.277423   -0.58017   -0.412359        0.107862    0.724089    -0.261743"
      ]
     },
     "execution_count": 123,
     "metadata": {},
     "output_type": "execute_result"
    }
   ],
   "source": [
    "#load the embedding file\n",
    "embedding = DataFrame(CSV.File(\"Dinner_Weekday_embedding.csv\"))\n",
    "embedding = Matrix(embedding)'"
   ]
  },
  {
   "cell_type": "code",
   "execution_count": 124,
   "metadata": {},
   "outputs": [
    {
     "data": {
      "text/plain": [
       "KmeansResult{Matrix{Float64}, Float64, Int64}([-1.4294874555038852 0.42623293715621713 -0.0514437732108066; 1.3191348265822842 0.32436663755619016 0.630686115415426; … ; -0.6755017532107471 0.01804519060491235 -0.80843369418626; 0.47683069002709405 0.05134900283437604 -0.393042802007517], [2, 2, 2, 2, 2, 2, 2, 2, 2, 2  …  2, 2, 2, 2, 2, 2, 2, 2, 2, 2], [3.6495794882636625, 13.40832968171983, 7.373258246428449, 28.877834921379748, 3.5458298711222156, 12.358937984851352, 3.6495794882636625, 7.679148602621564, 27.28904353337534, 13.523032458303014  …  1.8456051511851395, 1.0508820009065847, 1.1297420680449521, 17.205537297894516, 1.0737412165926326, 1.5761171952383428, 0.9953312387178338, 3.103892277586971, 4.1870204384985605, 0.9431870671647287], [17406, 220447, 132734], [17406, 220447, 132734], 2.7307240153547064e6, 22, true)"
      ]
     },
     "execution_count": 124,
     "metadata": {},
     "output_type": "execute_result"
    }
   ],
   "source": [
    "#perform the K-means Cluster\n",
    "result = kmeans(embedding, 3)"
   ]
  },
  {
   "cell_type": "code",
   "execution_count": 125,
   "metadata": {},
   "outputs": [
    {
     "data": {
      "text/plain": [
       "\"Dinner_Weekday_Clusters.csv\""
      ]
     },
     "execution_count": 125,
     "metadata": {},
     "output_type": "execute_result"
    }
   ],
   "source": [
    "#Save the Cluster result\n",
    "df_trn = DataFrame(CSV.File(\"Dinner_Weekday_transaction_key.csv\"))\n",
    "df1 = DataFrame(store_transaction_key = df_trn.store_transaction_key ,cluster = result.assignments)\n",
    "CSV.write(\"Dinner_Weekday_Clusters.csv\",df1)"
   ]
  },
  {
   "cell_type": "markdown",
   "metadata": {},
   "source": [
    "### Dinner_Weekend"
   ]
  },
  {
   "cell_type": "code",
   "execution_count": 126,
   "metadata": {},
   "outputs": [
    {
     "data": {
      "text/plain": [
       "20×123724 adjoint(::Matrix{Float64}) with eltype Float64:\n",
       " -0.056664   0.129841   -0.131852   …   0.413788    0.32124     -0.604335\n",
       " -1.61709   -0.759426   -0.669773      -0.0123858   0.258321     0.170708\n",
       "  1.68117    0.792435    0.824239       0.253044   -0.232599    -0.321831\n",
       "  1.37442   -0.233935   -0.946427       0.0362252  -0.0173772   -0.0547052\n",
       " -1.7539     0.0926925  -0.318254       0.462365   -0.170488    -0.661649\n",
       " -1.81215   -0.211294    0.0826085  …  -0.25954    -0.27131     -0.571971\n",
       "  0.216412   0.381626    0.227019       0.0766728  -0.320435    -0.0114739\n",
       "  0.410128   0.492012    0.651527      -0.173813   -0.601068    -0.6111\n",
       "  0.68258   -0.266702   -0.198676      -0.147526   -0.295446    -0.113853\n",
       " -0.902946  -0.475313   -0.210947      -0.175707   -0.655642    -0.115154\n",
       "  1.42664    1.2201      1.19901    …  -0.139213   -0.305462    -0.0552342\n",
       " -0.861059   1.25013     1.05935        0.275395    0.469376    -0.467399\n",
       "  0.22676   -0.059696    0.139943      -0.175131    0.0454334    1.03128\n",
       "  1.25325   -0.743605   -0.649028       0.408211    0.201238     0.309577\n",
       "  1.3065    -0.0753849  -0.109122      -0.0849213  -0.471826     0.211228\n",
       " -0.830621  -0.649779   -0.583533   …   0.0453458  -0.00559826  -0.466788\n",
       " -2.11688    0.478626    0.153592       0.0339106   0.508778    -0.179886\n",
       " -1.47379   -0.0805059  -0.135043      -0.0504766   0.381075    -0.296108\n",
       "  0.467957   0.663919    0.608465      -0.155738    0.373859    -0.613469\n",
       "  0.632305  -0.692868   -0.513353      -0.252317    0.26242     -0.424229"
      ]
     },
     "execution_count": 126,
     "metadata": {},
     "output_type": "execute_result"
    }
   ],
   "source": [
    "#load the embedding file\n",
    "embedding = DataFrame(CSV.File(\"Dinner_Weekend_embedding.csv\"))\n",
    "embedding = Matrix(embedding)'"
   ]
  },
  {
   "cell_type": "code",
   "execution_count": 127,
   "metadata": {},
   "outputs": [
    {
     "data": {
      "text/plain": [
       "KmeansResult{Matrix{Float64}, Float64, Int64}([0.2514832458012829 -2.0260125856235502 -0.014484215518187137; 0.49427121930113577 2.1065971952065516 0.1558224892856436; … ; -0.2571554529285567 -0.8344366250471729 -0.5200914804453568; -0.13010337688394102 0.4463294866736241 0.1648154870564845], [1, 1, 1, 1, 1, 1, 1, 1, 1, 1  …  1, 1, 1, 1, 1, 1, 1, 1, 1, 1], [31.470272670543032, 10.088511941133383, 9.548110111435589, 9.72030305042693, 21.556487163320963, 22.7815934260218, 24.05376382586239, 15.369731756119574, 16.611282225018293, 19.96639809054373  …  5.0459636780896, 2.7190735830192176, 4.1802378452304465, 3.6505311435831667, 3.916555006461296, 3.343806939227589, 3.4292438669407703, 3.4292438669407703, 2.83685119348947, 2.6202453953269176], [109349, 2743, 11632], [109349, 2743, 11632], 1.1405663874145201e6, 52, true)"
      ]
     },
     "execution_count": 127,
     "metadata": {},
     "output_type": "execute_result"
    }
   ],
   "source": [
    "#perform the K-means Cluster\n",
    "result = kmeans(embedding, 3)"
   ]
  },
  {
   "cell_type": "code",
   "execution_count": 128,
   "metadata": {},
   "outputs": [
    {
     "data": {
      "text/plain": [
       "\"Dinner_Weekend_Clusters.csv\""
      ]
     },
     "execution_count": 128,
     "metadata": {},
     "output_type": "execute_result"
    }
   ],
   "source": [
    "#Save the Cluster result\n",
    "df_trn = DataFrame(CSV.File(\"Dinner_Weekend_transaction_key.csv\"))\n",
    "df1 = DataFrame(store_transaction_key = df_trn.store_transaction_key ,cluster = result.assignments)\n",
    "CSV.write(\"Dinner_Weekend_Clusters.csv\",df1)"
   ]
  },
  {
   "cell_type": "markdown",
   "metadata": {},
   "source": [
    "### Lunch_Weekday"
   ]
  },
  {
   "cell_type": "code",
   "execution_count": 129,
   "metadata": {},
   "outputs": [
    {
     "data": {
      "text/plain": [
       "20×409783 adjoint(::Matrix{Float64}) with eltype Float64:\n",
       " -0.122057    -0.367377   -0.845733   …   0.178528    0.413788    0.0594564\n",
       " -0.513262    -0.566901   -0.980413       0.0217549  -0.0123858   0.0393438\n",
       "  0.693519     1.13106     1.88027        0.0130382   0.253044    0.0522137\n",
       " -1.23886     -1.5333     -1.83487       -0.203487    0.0362252  -0.124757\n",
       " -0.39336     -0.0225692   0.410814       0.0530786   0.462365   -0.0489487\n",
       "  0.188452     0.205838    0.359629   …   0.0912789  -0.25954     0.0577221\n",
       "  0.120312     0.203381    0.07619       -0.171274    0.0766728   0.107286\n",
       "  0.612771     0.612477    0.651718       0.0461399  -0.173813    0.240561\n",
       " -0.164136     0.0036094  -0.252699      -0.374797   -0.147526   -0.438675\n",
       " -0.00802361   0.305402    0.69883       -0.522906   -0.175707   -0.467532\n",
       "  1.19227      1.34173     1.78422    …   0.0537822  -0.139213    0.00421227\n",
       "  0.861892     1.30816     1.9721        -0.150086    0.275395    0.0215598\n",
       "  0.105181     0.27866     0.663522       0.0362989  -0.175131    0.0714674\n",
       " -0.734523    -0.876154   -1.78709        0.244246    0.408211    0.253827\n",
       " -0.00560564   0.129348    0.0747223     -0.120178   -0.0849213  -0.232825\n",
       " -0.502638    -1.0114     -1.64494    …  -0.269933    0.0453458  -0.185961\n",
       "  0.0440694   -0.180158   -0.333513       0.394099    0.0339106   0.394396\n",
       " -0.345433    -0.63274    -1.01351        0.178828   -0.0504766   0.276947\n",
       "  0.592342     0.817723    1.46286       -0.200147   -0.155738   -0.120972\n",
       " -0.556627    -0.671362   -1.1625        -0.261743   -0.252317   -0.291218"
      ]
     },
     "execution_count": 129,
     "metadata": {},
     "output_type": "execute_result"
    }
   ],
   "source": [
    "#load the embedding file\n",
    "embedding = DataFrame(CSV.File(\"Lunch_Weekday_embedding.csv\"))\n",
    "embedding = Matrix(embedding)'"
   ]
  },
  {
   "cell_type": "code",
   "execution_count": 130,
   "metadata": {},
   "outputs": [
    {
     "data": {
      "text/plain": [
       "KmeansResult{Matrix{Float64}, Float64, Int64}([1.4990014309721216 -0.39421581030685987 … 0.38123790139200797 0.023910004768047596; 0.9591152260785674 0.4899232780237265 … 0.34124345938376033 0.25078116826713404; … ; -1.044533438147529 -0.6868523587661068 … 0.08342817820159998 -0.3459880624145346; -0.3616168730650625 -0.36814751001744095 … 0.11693478351966476 0.28761373993558775], [3, 3, 3, 3, 3, 3, 3, 3, 3, 3  …  5, 5, 6, 5, 5, 5, 5, 5, 5, 5], [1.1417452828882944, 1.5969070621008292, 7.479689707132181, 2.0753028967846614, 0.9251659382995321, 12.114839585003132, 10.110471957723291, 0.8646632303878512, 10.01983820791498, 1.5768670543265948  …  1.7293437625001002, 3.0780092651909032, 1.9455170963472699, 1.5151697465857823, 6.354567250178774, 0.8920719480744574, 5.3335460646901485, 1.091991460707535, 1.5326044495683306, 1.3430500736138926], [29406, 115396, 19955, 17580, 197644, 29802], [29406, 115396, 19955, 17580, 197644, 29802], 2.0699198917011449e6, 60, true)"
      ]
     },
     "execution_count": 130,
     "metadata": {},
     "output_type": "execute_result"
    }
   ],
   "source": [
    "#perform the K-means Cluster\n",
    "result = kmeans(embedding, 6)"
   ]
  },
  {
   "cell_type": "code",
   "execution_count": 131,
   "metadata": {},
   "outputs": [
    {
     "data": {
      "text/plain": [
       "\"Lunch_Weekday_Clusters.csv\""
      ]
     },
     "execution_count": 131,
     "metadata": {},
     "output_type": "execute_result"
    }
   ],
   "source": [
    "#Save the Cluster result\n",
    "df_trn = DataFrame(CSV.File(\"Lunch_Weekday_transaction_key.csv\"))\n",
    "df1 = DataFrame(store_transaction_key = df_trn.store_transaction_key ,cluster = result.assignments)\n",
    "CSV.write(\"Lunch_Weekday_Clusters.csv\",df1)"
   ]
  },
  {
   "cell_type": "markdown",
   "metadata": {},
   "source": [
    "### Lunch_Weekend"
   ]
  },
  {
   "cell_type": "code",
   "execution_count": 132,
   "metadata": {},
   "outputs": [
    {
     "data": {
      "text/plain": [
       "20×157689 adjoint(::Matrix{Float64}) with eltype Float64:\n",
       "  0.1069     -0.319329   -0.20871      …   0.139421    0.127595     0.388387\n",
       " -0.599278   -0.361963   -0.628395         0.274628   -0.00770821  -0.0298589\n",
       "  0.938032    1.1182      0.826695        -0.215686    0.380518     0.248771\n",
       " -0.785116   -1.81783    -1.06537         -0.312846    0.114318    -0.0178658\n",
       " -0.352354   -0.728717   -0.24234         -0.478996   -0.0362984    0.443795\n",
       " -0.0957394   0.0771736   0.223697     …  -0.995031    0.124966    -0.292664\n",
       "  0.310466    0.278642    0.270913        -1.07708    -0.0800129   -0.0198879\n",
       "  0.836731    0.994123    0.684424        -0.146555    0.148707    -0.0966249\n",
       " -0.467967   -0.34041     0.000262579      0.0291816  -0.500023    -0.165642\n",
       " -0.382465   -0.102178   -0.168292        -0.880115   -0.441527    -0.22247\n",
       "  1.74037     2.18424     1.17365      …  -0.32797    -0.0291582   -0.169128\n",
       "  1.41279     1.68927     0.998852         0.505731   -0.183        0.29581\n",
       " -0.153014   -0.156747    0.165141        -0.222131    0.173888    -0.232049\n",
       " -1.07153    -1.09349    -0.534801         0.554275    0.125468     0.370124\n",
       " -0.0913908  -0.158718    0.127977         0.172621   -0.0824527   -0.0659328\n",
       " -0.867903   -1.09349    -0.600907     …   0.197845    0.0467883   -0.0799536\n",
       "  0.429981    0.127654    0.107798         1.17881     0.339174     0.0333268\n",
       " -0.511656   -0.76541    -0.119659         0.429606    0.208802    -0.0821113\n",
       "  1.05648     1.19377     0.459546         0.696709    0.121024    -0.0449218\n",
       " -0.870153   -0.62653    -0.655113         0.0952994  -0.269795    -0.298718"
      ]
     },
     "execution_count": 132,
     "metadata": {},
     "output_type": "execute_result"
    }
   ],
   "source": [
    "#load the embedding file\n",
    "embedding = DataFrame(CSV.File(\"Lunch_Weekend_embedding.csv\"))\n",
    "embedding = Matrix(embedding)'"
   ]
  },
  {
   "cell_type": "code",
   "execution_count": 133,
   "metadata": {},
   "outputs": [
    {
     "data": {
      "text/plain": [
       "KmeansResult{Matrix{Float64}, Float64, Int64}([-2.871756272597496 0.4024580694053853 -1.231365407867038 -0.08709232105201252; 3.4520503513817435 0.29893059495331314 1.0817371935646432 0.6167849002840615; … ; -1.1423439618685263 0.09219460434521415 -0.6260239507968697 -0.7507330940890463; 0.3820529610100579 0.055153396809266904 0.4957275072690278 -0.36017116878181366], [2, 2, 2, 2, 2, 2, 2, 2, 2, 2  …  2, 2, 2, 2, 2, 2, 2, 2, 2, 2], [11.928033852588076, 18.70563079628844, 7.020072187701662, 12.928380121499474, 11.717164135449949, 6.9182304052203625, 11.4775785300767, 6.191275749513807, 7.089815614014664, 11.4775785300767  …  2.2022205537280506, 1.4874824002179772, 0.8131701181584703, 1.8705447659658012, 2.8771813550216696, 2.782105197481081, 0.8312289752232094, 4.299955511007342, 0.970443829852528, 1.372099641103234], [1059, 97553, 7140, 51937], [1059, 97553, 7140, 51937], 1.066104048027088e6, 10, true)"
      ]
     },
     "execution_count": 133,
     "metadata": {},
     "output_type": "execute_result"
    }
   ],
   "source": [
    "#perform the K-means Cluster\n",
    "result = kmeans(embedding, 4)"
   ]
  },
  {
   "cell_type": "code",
   "execution_count": 134,
   "metadata": {},
   "outputs": [
    {
     "data": {
      "text/plain": [
       "\"Lunch_Weekend_Clusters.csv\""
      ]
     },
     "execution_count": 134,
     "metadata": {},
     "output_type": "execute_result"
    }
   ],
   "source": [
    "#Save the Cluster result\n",
    "df_trn = DataFrame(CSV.File(\"Lunch_Weekend_transaction_key.csv\"))\n",
    "df1 = DataFrame(store_transaction_key = df_trn.store_transaction_key ,cluster = result.assignments)\n",
    "CSV.write(\"Lunch_Weekend_Clusters.csv\",df1)"
   ]
  },
  {
   "cell_type": "markdown",
   "metadata": {},
   "source": [
    "# Preprocessing for Plotting the results across various parameters"
   ]
  },
  {
   "cell_type": "code",
   "execution_count": 1,
   "metadata": {},
   "outputs": [],
   "source": [
    "using Pkg\n",
    "using DataFrames\n",
    "using CSV\n",
    "using Plots\n",
    "using Word2Vec"
   ]
  },
  {
   "cell_type": "markdown",
   "metadata": {},
   "source": [
    "## Cluster Vs Item Frequency"
   ]
  },
  {
   "cell_type": "code",
   "execution_count": 2,
   "metadata": {
    "scrolled": true
   },
   "outputs": [
    {
     "data": {
      "text/html": [
       "<table class=\"data-frame\"><thead><tr><th></th><th>storenum</th><th>item_key</th><th>item_description</th><th>transaction_type</th><th>sales_amount</th><th>sales_channel</th></tr><tr><th></th><th>Int64</th><th>Int64</th><th>String</th><th>String</th><th>Float64</th><th>String</th></tr></thead><tbody><p>6,859,688 rows × 10 columns (omitted printing of 4 columns)</p><tr><th>1</th><td>502</td><td>916755</td><td>D-10P CKN BKT</td><td>M</td><td>26.9159</td><td>Online-Delivery</td></tr><tr><th>2</th><td>502</td><td>710033</td><td>DEL SURCHARGE</td><td>M</td><td>3.7383</td><td>Online-Delivery</td></tr><tr><th>3</th><td>502</td><td>1</td><td>D-CASH</td><td>T</td><td>30.6542</td><td>Online-Delivery</td></tr><tr><th>4</th><td>502</td><td>700103</td><td>D-3PC ML(OR)</td><td>M</td><td>58.4112</td><td>Phone-Delivery</td></tr><tr><th>5</th><td>502</td><td>710033</td><td>DEL SURCHARGE</td><td>M</td><td>3.7383</td><td>Phone-Delivery</td></tr><tr><th>6</th><td>502</td><td>1</td><td>D-CASH</td><td>T</td><td>62.1495</td><td>Phone-Delivery</td></tr><tr><th>7</th><td>502</td><td>710009</td><td>D-ZINGER</td><td>M</td><td>10.9346</td><td>Phone-Delivery</td></tr><tr><th>8</th><td>502</td><td>700103</td><td>D-3PC ML(OR)</td><td>M</td><td>46.729</td><td>Phone-Delivery</td></tr><tr><th>9</th><td>502</td><td>710033</td><td>DEL SURCHARGE</td><td>M</td><td>3.7383</td><td>Phone-Delivery</td></tr><tr><th>10</th><td>502</td><td>1</td><td>D-CASH</td><td>T</td><td>61.4019</td><td>Phone-Delivery</td></tr><tr><th>11</th><td>502</td><td>922023</td><td>D-10 FOR $10</td><td>M</td><td>9.3458</td><td>Online-Delivery</td></tr><tr><th>12</th><td>502</td><td>913618</td><td>D-10P CKN 2-5PM</td><td>M</td><td>16.8224</td><td>Online-Delivery</td></tr><tr><th>13</th><td>502</td><td>710033</td><td>DEL SURCHARGE</td><td>M</td><td>3.7383</td><td>Online-Delivery</td></tr><tr><th>14</th><td>502</td><td>3</td><td>D-DBS Paylah</td><td>T</td><td>29.9065</td><td>Online-Delivery</td></tr><tr><th>15</th><td>502</td><td>916137</td><td>D-FM POT BWL</td><td>M</td><td>5.0</td><td>Online-Delivery</td></tr><tr><th>16</th><td>502</td><td>710018</td><td>D-C/SL MED</td><td>M</td><td>3.4579</td><td>Online-Delivery</td></tr><tr><th>17</th><td>502</td><td>710021</td><td>D-W/PT MED</td><td>M</td><td>3.4579</td><td>Online-Delivery</td></tr><tr><th>18</th><td>502</td><td>919893</td><td>D-8P FOR $15</td><td>M</td><td>14.0187</td><td>Online-Delivery</td></tr><tr><th>19</th><td>502</td><td>710033</td><td>DEL SURCHARGE</td><td>M</td><td>3.7383</td><td>Online-Delivery</td></tr><tr><th>20</th><td>502</td><td>8</td><td>D-eNETS CREDIT</td><td>T</td><td>29.6729</td><td>Online-Delivery</td></tr><tr><th>21</th><td>502</td><td>913961</td><td>D-8P VRTY FEAST</td><td>M</td><td>38.271</td><td>Online-Delivery</td></tr><tr><th>22</th><td>502</td><td>710033</td><td>DEL SURCHARGE</td><td>M</td><td>3.7383</td><td>Online-Delivery</td></tr><tr><th>23</th><td>502</td><td>8</td><td>D-eNETS CREDIT</td><td>T</td><td>42.0093</td><td>Online-Delivery</td></tr><tr><th>24</th><td>502</td><td>921466</td><td>D-2P CKN BX</td><td>M</td><td>39.2523</td><td>Online-Delivery</td></tr><tr><th>25</th><td>502</td><td>921466</td><td>D-2P CKN BX</td><td>M</td><td>39.2523</td><td>Online-Delivery</td></tr><tr><th>26</th><td>502</td><td>921466</td><td>D-2P CKN BX</td><td>M</td><td>29.4393</td><td>Online-Delivery</td></tr><tr><th>27</th><td>502</td><td>710033</td><td>DEL SURCHARGE</td><td>M</td><td>3.7383</td><td>Online-Delivery</td></tr><tr><th>28</th><td>502</td><td>8</td><td>D-eNETS CREDIT</td><td>T</td><td>111.682</td><td>Online-Delivery</td></tr><tr><th>29</th><td>502</td><td>913299</td><td>D-AO 2 CHZ FRIES-APP</td><td>M</td><td>5.6075</td><td>Online-Delivery</td></tr><tr><th>30</th><td>502</td><td>922023</td><td>D-10 FOR $10</td><td>M</td><td>9.3458</td><td>Online-Delivery</td></tr><tr><th>&vellip;</th><td>&vellip;</td><td>&vellip;</td><td>&vellip;</td><td>&vellip;</td><td>&vellip;</td><td>&vellip;</td></tr></tbody></table>"
      ],
      "text/latex": [
       "\\begin{tabular}{r|ccccccc}\n",
       "\t& storenum & item\\_key & item\\_description & transaction\\_type & sales\\_amount & sales\\_channel & \\\\\n",
       "\t\\hline\n",
       "\t& Int64 & Int64 & String & String & Float64 & String & \\\\\n",
       "\t\\hline\n",
       "\t1 & 502 & 916755 & D-10P CKN BKT & M & 26.9159 & Online-Delivery & $\\dots$ \\\\\n",
       "\t2 & 502 & 710033 & DEL SURCHARGE & M & 3.7383 & Online-Delivery & $\\dots$ \\\\\n",
       "\t3 & 502 & 1 & D-CASH & T & 30.6542 & Online-Delivery & $\\dots$ \\\\\n",
       "\t4 & 502 & 700103 & D-3PC ML(OR) & M & 58.4112 & Phone-Delivery & $\\dots$ \\\\\n",
       "\t5 & 502 & 710033 & DEL SURCHARGE & M & 3.7383 & Phone-Delivery & $\\dots$ \\\\\n",
       "\t6 & 502 & 1 & D-CASH & T & 62.1495 & Phone-Delivery & $\\dots$ \\\\\n",
       "\t7 & 502 & 710009 & D-ZINGER & M & 10.9346 & Phone-Delivery & $\\dots$ \\\\\n",
       "\t8 & 502 & 700103 & D-3PC ML(OR) & M & 46.729 & Phone-Delivery & $\\dots$ \\\\\n",
       "\t9 & 502 & 710033 & DEL SURCHARGE & M & 3.7383 & Phone-Delivery & $\\dots$ \\\\\n",
       "\t10 & 502 & 1 & D-CASH & T & 61.4019 & Phone-Delivery & $\\dots$ \\\\\n",
       "\t11 & 502 & 922023 & D-10 FOR \\$10 & M & 9.3458 & Online-Delivery & $\\dots$ \\\\\n",
       "\t12 & 502 & 913618 & D-10P CKN 2-5PM & M & 16.8224 & Online-Delivery & $\\dots$ \\\\\n",
       "\t13 & 502 & 710033 & DEL SURCHARGE & M & 3.7383 & Online-Delivery & $\\dots$ \\\\\n",
       "\t14 & 502 & 3 & D-DBS Paylah & T & 29.9065 & Online-Delivery & $\\dots$ \\\\\n",
       "\t15 & 502 & 916137 & D-FM POT BWL & M & 5.0 & Online-Delivery & $\\dots$ \\\\\n",
       "\t16 & 502 & 710018 & D-C/SL MED & M & 3.4579 & Online-Delivery & $\\dots$ \\\\\n",
       "\t17 & 502 & 710021 & D-W/PT MED & M & 3.4579 & Online-Delivery & $\\dots$ \\\\\n",
       "\t18 & 502 & 919893 & D-8P FOR \\$15 & M & 14.0187 & Online-Delivery & $\\dots$ \\\\\n",
       "\t19 & 502 & 710033 & DEL SURCHARGE & M & 3.7383 & Online-Delivery & $\\dots$ \\\\\n",
       "\t20 & 502 & 8 & D-eNETS CREDIT & T & 29.6729 & Online-Delivery & $\\dots$ \\\\\n",
       "\t21 & 502 & 913961 & D-8P VRTY FEAST & M & 38.271 & Online-Delivery & $\\dots$ \\\\\n",
       "\t22 & 502 & 710033 & DEL SURCHARGE & M & 3.7383 & Online-Delivery & $\\dots$ \\\\\n",
       "\t23 & 502 & 8 & D-eNETS CREDIT & T & 42.0093 & Online-Delivery & $\\dots$ \\\\\n",
       "\t24 & 502 & 921466 & D-2P CKN BX & M & 39.2523 & Online-Delivery & $\\dots$ \\\\\n",
       "\t25 & 502 & 921466 & D-2P CKN BX & M & 39.2523 & Online-Delivery & $\\dots$ \\\\\n",
       "\t26 & 502 & 921466 & D-2P CKN BX & M & 29.4393 & Online-Delivery & $\\dots$ \\\\\n",
       "\t27 & 502 & 710033 & DEL SURCHARGE & M & 3.7383 & Online-Delivery & $\\dots$ \\\\\n",
       "\t28 & 502 & 8 & D-eNETS CREDIT & T & 111.682 & Online-Delivery & $\\dots$ \\\\\n",
       "\t29 & 502 & 913299 & D-AO 2 CHZ FRIES-APP & M & 5.6075 & Online-Delivery & $\\dots$ \\\\\n",
       "\t30 & 502 & 922023 & D-10 FOR \\$10 & M & 9.3458 & Online-Delivery & $\\dots$ \\\\\n",
       "\t$\\dots$ & $\\dots$ & $\\dots$ & $\\dots$ & $\\dots$ & $\\dots$ & $\\dots$ &  \\\\\n",
       "\\end{tabular}\n"
      ],
      "text/plain": [
       "\u001b[1m6859688×10 DataFrame\u001b[0m\n",
       "\u001b[1m     Row \u001b[0m│\u001b[1m storenum \u001b[0m\u001b[1m item_key \u001b[0m\u001b[1m item_description \u001b[0m\u001b[1m transaction_type \u001b[0m\u001b[1m sales_amoun\u001b[0m ⋯\n",
       "\u001b[1m         \u001b[0m│\u001b[90m Int64    \u001b[0m\u001b[90m Int64    \u001b[0m\u001b[90m String           \u001b[0m\u001b[90m String           \u001b[0m\u001b[90m Float64    \u001b[0m ⋯\n",
       "─────────┼──────────────────────────────────────────────────────────────────────\n",
       "       1 │      502    916755  D-10P CKN BKT     M                    26.9159  ⋯\n",
       "       2 │      502    710033  DEL SURCHARGE     M                     3.7383\n",
       "       3 │      502         1  D-CASH            T                    30.6542\n",
       "       4 │      502    700103  D-3PC ML(OR)      M                    58.4112\n",
       "       5 │      502    710033  DEL SURCHARGE     M                     3.7383  ⋯\n",
       "       6 │      502         1  D-CASH            T                    62.1495\n",
       "       7 │      502    710009  D-ZINGER          M                    10.9346\n",
       "       8 │      502    700103  D-3PC ML(OR)      M                    46.729\n",
       "       9 │      502    710033  DEL SURCHARGE     M                     3.7383  ⋯\n",
       "      10 │      502         1  D-CASH            T                    61.4019\n",
       "      11 │      502    922023  D-10 FOR $10      M                     9.3458\n",
       "    ⋮    │    ⋮         ⋮             ⋮                 ⋮               ⋮      ⋱\n",
       " 6859679 │      670    922110  2P(TG) ML         M                     8.3645\n",
       " 6859680 │      670    450011  RWP>CF            M                     2.0561  ⋯\n",
       " 6859681 │      670    914357  1P EGG TART       M                     1.215\n",
       " 6859682 │      670         8  D-eNETS CREDIT    T                    11.6355\n",
       " 6859683 │      670    912781  1 OR ZNG BX       M                     8.5514\n",
       " 6859684 │      670    450046  RFF>CFRIES        M                     1.8692  ⋯\n",
       " 6859685 │      670    914357  1P EGG TART       M                     1.215\n",
       " 6859686 │      670         8  D-eNETS CREDIT    T                    11.6355\n",
       " 6859687 │      670    921046  5P ACB 30%        M                     9.6262\n",
       " 6859688 │      670        15  DI-DBS PAYLAH     T                     9.62617 ⋯\n",
       "\u001b[36m                                              6 columns and 6859667 rows omitted\u001b[0m"
      ]
     },
     "execution_count": 2,
     "metadata": {},
     "output_type": "execute_result"
    }
   ],
   "source": [
    "df = DataFrame(CSV.File(\"Dataset1.csv\"))"
   ]
  },
  {
   "cell_type": "code",
   "execution_count": 3,
   "metadata": {},
   "outputs": [
    {
     "data": {
      "text/html": [
       "<p><b>GroupedDataFrame with 3 groups based on key: transaction_type</b></p><p><i>First Group (5214325 rows): transaction_type = \"M\"</i></p><table class=\"data-frame\"><thead><tr><th></th><th>storenum</th><th>item_key</th><th>item_description</th><th>transaction_type</th><th>sales_amount</th><th>sales_channel</th></tr><tr><th></th><th>Int64</th><th>Int64</th><th>String</th><th>String</th><th>Float64</th><th>String</th></tr></thead><tbody><tr><th>1</th><td>502</td><td>916755</td><td>D-10P CKN BKT</td><td>M</td><td>26.9159</td><td>Online-Delivery</td></tr><tr><th>2</th><td>502</td><td>710033</td><td>DEL SURCHARGE</td><td>M</td><td>3.7383</td><td>Online-Delivery</td></tr><tr><th>3</th><td>502</td><td>700103</td><td>D-3PC ML(OR)</td><td>M</td><td>58.4112</td><td>Phone-Delivery</td></tr><tr><th>4</th><td>502</td><td>710033</td><td>DEL SURCHARGE</td><td>M</td><td>3.7383</td><td>Phone-Delivery</td></tr><tr><th>5</th><td>502</td><td>710009</td><td>D-ZINGER</td><td>M</td><td>10.9346</td><td>Phone-Delivery</td></tr><tr><th>6</th><td>502</td><td>700103</td><td>D-3PC ML(OR)</td><td>M</td><td>46.729</td><td>Phone-Delivery</td></tr><tr><th>7</th><td>502</td><td>710033</td><td>DEL SURCHARGE</td><td>M</td><td>3.7383</td><td>Phone-Delivery</td></tr><tr><th>8</th><td>502</td><td>922023</td><td>D-10 FOR $10</td><td>M</td><td>9.3458</td><td>Online-Delivery</td></tr><tr><th>9</th><td>502</td><td>913618</td><td>D-10P CKN 2-5PM</td><td>M</td><td>16.8224</td><td>Online-Delivery</td></tr><tr><th>10</th><td>502</td><td>710033</td><td>DEL SURCHARGE</td><td>M</td><td>3.7383</td><td>Online-Delivery</td></tr><tr><th>11</th><td>502</td><td>916137</td><td>D-FM POT BWL</td><td>M</td><td>5.0</td><td>Online-Delivery</td></tr><tr><th>12</th><td>502</td><td>710018</td><td>D-C/SL MED</td><td>M</td><td>3.4579</td><td>Online-Delivery</td></tr><tr><th>13</th><td>502</td><td>710021</td><td>D-W/PT MED</td><td>M</td><td>3.4579</td><td>Online-Delivery</td></tr><tr><th>14</th><td>502</td><td>919893</td><td>D-8P FOR $15</td><td>M</td><td>14.0187</td><td>Online-Delivery</td></tr><tr><th>15</th><td>502</td><td>710033</td><td>DEL SURCHARGE</td><td>M</td><td>3.7383</td><td>Online-Delivery</td></tr><tr><th>16</th><td>502</td><td>913961</td><td>D-8P VRTY FEAST</td><td>M</td><td>38.271</td><td>Online-Delivery</td></tr><tr><th>17</th><td>502</td><td>710033</td><td>DEL SURCHARGE</td><td>M</td><td>3.7383</td><td>Online-Delivery</td></tr><tr><th>18</th><td>502</td><td>921466</td><td>D-2P CKN BX</td><td>M</td><td>39.2523</td><td>Online-Delivery</td></tr><tr><th>19</th><td>502</td><td>921466</td><td>D-2P CKN BX</td><td>M</td><td>39.2523</td><td>Online-Delivery</td></tr><tr><th>20</th><td>502</td><td>921466</td><td>D-2P CKN BX</td><td>M</td><td>29.4393</td><td>Online-Delivery</td></tr><tr><th>21</th><td>502</td><td>710033</td><td>DEL SURCHARGE</td><td>M</td><td>3.7383</td><td>Online-Delivery</td></tr><tr><th>22</th><td>502</td><td>913299</td><td>D-AO 2 CHZ FRIES-APP</td><td>M</td><td>5.6075</td><td>Online-Delivery</td></tr><tr><th>23</th><td>502</td><td>922023</td><td>D-10 FOR $10</td><td>M</td><td>9.3458</td><td>Online-Delivery</td></tr><tr><th>24</th><td>502</td><td>710033</td><td>DEL SURCHARGE</td><td>M</td><td>3.7383</td><td>Online-Delivery</td></tr><tr><th>25</th><td>502</td><td>921474</td><td>D-ZNGBX+2P CKN BX</td><td>M</td><td>15.1402</td><td>Online-Delivery</td></tr><tr><th>26</th><td>502</td><td>916131</td><td>D-1P CRY BWL ML</td><td>M</td><td>7.9907</td><td>Online-Delivery</td></tr><tr><th>27</th><td>502</td><td>912754</td><td>D-1P ZNG BOX</td><td>M</td><td>10.2336</td><td>Online-Delivery</td></tr><tr><th>28</th><td>502</td><td>710033</td><td>DEL SURCHARGE</td><td>M</td><td>3.7383</td><td>Online-Delivery</td></tr><tr><th>29</th><td>502</td><td>916759</td><td>D-ALA SNACK N SHARE BX  </td><td>M</td><td>12.1028</td><td>Online-Delivery</td></tr><tr><th>30</th><td>502</td><td>922023</td><td>D-10 FOR $10</td><td>M</td><td>9.3458</td><td>Online-Delivery</td></tr><tr><th>&vellip;</th><td>&vellip;</td><td>&vellip;</td><td>&vellip;</td><td>&vellip;</td><td>&vellip;</td><td>&vellip;</td></tr></tbody></table><p>&vellip;</p><p><i>Last Group (12833 rows): transaction_type = \"D\"</i></p><table class=\"data-frame\"><thead><tr><th></th><th>storenum</th><th>item_key</th><th>item_description</th><th>transaction_type</th><th>sales_amount</th><th>sales_channel</th></tr><tr><th></th><th>Int64</th><th>Int64</th><th>String</th><th>String</th><th>Float64</th><th>String</th></tr></thead><tbody><tr><th>1</th><td>502</td><td>2000</td><td>25% EMP DISC</td><td>D</td><td>-1.9626</td><td>Drive-Thru</td></tr><tr><th>2</th><td>502</td><td>3007</td><td>$1-OFF(PAssion)</td><td>D</td><td>-0.9346</td><td>Eat In (EI)</td></tr><tr><th>3</th><td>502</td><td>8027</td><td>10% OFF GES DEAL</td><td>D</td><td>-1.8131</td><td>Eat In (EI)</td></tr><tr><th>4</th><td>502</td><td>3007</td><td>$1-OFF(PAssion)</td><td>D</td><td>-0.9346</td><td>Take Away (TA)</td></tr><tr><th>5</th><td>504</td><td>3007</td><td>$1-OFF(PAssion)</td><td>D</td><td>-0.9346</td><td>Eat In (EI)</td></tr><tr><th>6</th><td>504</td><td>3007</td><td>$1-OFF(PAssion)</td><td>D</td><td>-0.9346</td><td>Eat In (EI)</td></tr><tr><th>7</th><td>504</td><td>3007</td><td>$1-OFF(PAssion)</td><td>D</td><td>0.9346</td><td>Eat In (EI)</td></tr><tr><th>8</th><td>504</td><td>3007</td><td>$1-OFF(PAssion)</td><td>D</td><td>-0.9346</td><td>Eat In (EI)</td></tr><tr><th>9</th><td>504</td><td>5010</td><td>10% OFF(LSM)</td><td>D</td><td>-0.9438</td><td>Eat In (EI)</td></tr><tr><th>10</th><td>504</td><td>8027</td><td>10% OFF GES DEAL</td><td>D</td><td>-2.243</td><td>Take Away (TA)</td></tr><tr><th>11</th><td>505</td><td>5016</td><td>10% OFF xFOOD PANDA</td><td>D</td><td>-1.0751</td><td>Eat In (EI)</td></tr><tr><th>12</th><td>505</td><td>5016</td><td>10% OFF xFOOD PANDA</td><td>D</td><td>-0.9813</td><td>Take Away (TA)</td></tr><tr><th>13</th><td>505</td><td>5010</td><td>10% OFF(LSM)</td><td>D</td><td>-0.7851</td><td>Drive-Thru</td></tr><tr><th>14</th><td>505</td><td>5010</td><td>10% OFF(LSM)</td><td>D</td><td>0.7851</td><td>Drive-Thru</td></tr><tr><th>15</th><td>505</td><td>3007</td><td>$1-OFF(PAssion)</td><td>D</td><td>-0.9346</td><td>Eat In (EI)</td></tr><tr><th>16</th><td>506</td><td>5016</td><td>10% OFF xFOOD PANDA</td><td>D</td><td>-0.5517</td><td>Breakfast (BF)</td></tr><tr><th>17</th><td>506</td><td>5016</td><td>10% OFF xFOOD PANDA</td><td>D</td><td>-0.4019</td><td>Breakfast (BF)</td></tr><tr><th>18</th><td>506</td><td>3007</td><td>$1-OFF(PAssion)</td><td>D</td><td>-0.9346</td><td>Eat In (EI)</td></tr><tr><th>19</th><td>506</td><td>3007</td><td>$1-OFF(PAssion)</td><td>D</td><td>-0.9346</td><td>Eat In (EI)</td></tr><tr><th>20</th><td>506</td><td>2000</td><td>25% EMP DISC</td><td>D</td><td>-3.6075</td><td>Eat In (EI)</td></tr><tr><th>21</th><td>506</td><td>3007</td><td>$1-OFF(PAssion)</td><td>D</td><td>-0.9346</td><td>Take Away (TA)</td></tr><tr><th>22</th><td>506</td><td>3007</td><td>$1-OFF(PAssion)</td><td>D</td><td>-0.9346</td><td>Eat In (EI)</td></tr><tr><th>23</th><td>506</td><td>3007</td><td>$1-OFF(PAssion)</td><td>D</td><td>-0.9346</td><td>Take Away (TA)</td></tr><tr><th>24</th><td>506</td><td>3007</td><td>$1-OFF(PAssion)</td><td>D</td><td>-0.9304</td><td>Take Away (TA)</td></tr><tr><th>25</th><td>506</td><td>5016</td><td>10% OFF xFOOD PANDA</td><td>D</td><td>-0.9816</td><td>Take Away (TA)</td></tr><tr><th>26</th><td>506</td><td>8027</td><td>10% OFF GES DEAL</td><td>D</td><td>-0.9346</td><td>Take Away (TA)</td></tr><tr><th>27</th><td>506</td><td>3007</td><td>$1-OFF(PAssion)</td><td>D</td><td>-0.9346</td><td>Eat In (EI)</td></tr><tr><th>28</th><td>506</td><td>3007</td><td>$1-OFF(PAssion)</td><td>D</td><td>-0.9346</td><td>Eat In (EI)</td></tr><tr><th>29</th><td>506</td><td>3007</td><td>$1-OFF(PAssion)</td><td>D</td><td>-0.9346</td><td>Take Away (TA)</td></tr><tr><th>30</th><td>506</td><td>8027</td><td>10% OFF GES DEAL</td><td>D</td><td>-0.9719</td><td>Take Away (TA)</td></tr><tr><th>&vellip;</th><td>&vellip;</td><td>&vellip;</td><td>&vellip;</td><td>&vellip;</td><td>&vellip;</td><td>&vellip;</td></tr></tbody></table>"
      ],
      "text/latex": [
       "GroupedDataFrame with 3 groups based on key: transaction\\_type\n",
       "\n",
       "First Group (5214325 rows): transaction\\_type = \"M\"\n",
       "\n",
       "\\begin{tabular}{r|ccccccc}\n",
       "\t& storenum & item\\_key & item\\_description & transaction\\_type & sales\\_amount & sales\\_channel & \\\\\n",
       "\t\\hline\n",
       "\t& Int64 & Int64 & String & String & Float64 & String & \\\\\n",
       "\t\\hline\n",
       "\t1 & 502 & 916755 & D-10P CKN BKT & M & 26.9159 & Online-Delivery & $\\dots$ \\\\\n",
       "\t2 & 502 & 710033 & DEL SURCHARGE & M & 3.7383 & Online-Delivery & $\\dots$ \\\\\n",
       "\t3 & 502 & 700103 & D-3PC ML(OR) & M & 58.4112 & Phone-Delivery & $\\dots$ \\\\\n",
       "\t4 & 502 & 710033 & DEL SURCHARGE & M & 3.7383 & Phone-Delivery & $\\dots$ \\\\\n",
       "\t5 & 502 & 710009 & D-ZINGER & M & 10.9346 & Phone-Delivery & $\\dots$ \\\\\n",
       "\t6 & 502 & 700103 & D-3PC ML(OR) & M & 46.729 & Phone-Delivery & $\\dots$ \\\\\n",
       "\t7 & 502 & 710033 & DEL SURCHARGE & M & 3.7383 & Phone-Delivery & $\\dots$ \\\\\n",
       "\t8 & 502 & 922023 & D-10 FOR \\$10 & M & 9.3458 & Online-Delivery & $\\dots$ \\\\\n",
       "\t9 & 502 & 913618 & D-10P CKN 2-5PM & M & 16.8224 & Online-Delivery & $\\dots$ \\\\\n",
       "\t10 & 502 & 710033 & DEL SURCHARGE & M & 3.7383 & Online-Delivery & $\\dots$ \\\\\n",
       "\t11 & 502 & 916137 & D-FM POT BWL & M & 5.0 & Online-Delivery & $\\dots$ \\\\\n",
       "\t12 & 502 & 710018 & D-C/SL MED & M & 3.4579 & Online-Delivery & $\\dots$ \\\\\n",
       "\t13 & 502 & 710021 & D-W/PT MED & M & 3.4579 & Online-Delivery & $\\dots$ \\\\\n",
       "\t14 & 502 & 919893 & D-8P FOR \\$15 & M & 14.0187 & Online-Delivery & $\\dots$ \\\\\n",
       "\t15 & 502 & 710033 & DEL SURCHARGE & M & 3.7383 & Online-Delivery & $\\dots$ \\\\\n",
       "\t16 & 502 & 913961 & D-8P VRTY FEAST & M & 38.271 & Online-Delivery & $\\dots$ \\\\\n",
       "\t17 & 502 & 710033 & DEL SURCHARGE & M & 3.7383 & Online-Delivery & $\\dots$ \\\\\n",
       "\t18 & 502 & 921466 & D-2P CKN BX & M & 39.2523 & Online-Delivery & $\\dots$ \\\\\n",
       "\t19 & 502 & 921466 & D-2P CKN BX & M & 39.2523 & Online-Delivery & $\\dots$ \\\\\n",
       "\t20 & 502 & 921466 & D-2P CKN BX & M & 29.4393 & Online-Delivery & $\\dots$ \\\\\n",
       "\t21 & 502 & 710033 & DEL SURCHARGE & M & 3.7383 & Online-Delivery & $\\dots$ \\\\\n",
       "\t22 & 502 & 913299 & D-AO 2 CHZ FRIES-APP & M & 5.6075 & Online-Delivery & $\\dots$ \\\\\n",
       "\t23 & 502 & 922023 & D-10 FOR \\$10 & M & 9.3458 & Online-Delivery & $\\dots$ \\\\\n",
       "\t24 & 502 & 710033 & DEL SURCHARGE & M & 3.7383 & Online-Delivery & $\\dots$ \\\\\n",
       "\t25 & 502 & 921474 & D-ZNGBX+2P CKN BX & M & 15.1402 & Online-Delivery & $\\dots$ \\\\\n",
       "\t26 & 502 & 916131 & D-1P CRY BWL ML & M & 7.9907 & Online-Delivery & $\\dots$ \\\\\n",
       "\t27 & 502 & 912754 & D-1P ZNG BOX & M & 10.2336 & Online-Delivery & $\\dots$ \\\\\n",
       "\t28 & 502 & 710033 & DEL SURCHARGE & M & 3.7383 & Online-Delivery & $\\dots$ \\\\\n",
       "\t29 & 502 & 916759 & D-ALA SNACK N SHARE BX   & M & 12.1028 & Online-Delivery & $\\dots$ \\\\\n",
       "\t30 & 502 & 922023 & D-10 FOR \\$10 & M & 9.3458 & Online-Delivery & $\\dots$ \\\\\n",
       "\t$\\dots$ & $\\dots$ & $\\dots$ & $\\dots$ & $\\dots$ & $\\dots$ & $\\dots$ &  \\\\\n",
       "\\end{tabular}\n",
       "\n",
       "$\\dots$\n",
       "\n",
       "Last Group (12833 rows): transaction\\_type = \"D\"\n",
       "\n",
       "\\begin{tabular}{r|ccccccc}\n",
       "\t& storenum & item\\_key & item\\_description & transaction\\_type & sales\\_amount & sales\\_channel & \\\\\n",
       "\t\\hline\n",
       "\t& Int64 & Int64 & String & String & Float64 & String & \\\\\n",
       "\t\\hline\n",
       "\t1 & 502 & 2000 & 25\\% EMP DISC & D & -1.9626 & Drive-Thru & $\\dots$ \\\\\n",
       "\t2 & 502 & 3007 & \\$1-OFF(PAssion) & D & -0.9346 & Eat In (EI) & $\\dots$ \\\\\n",
       "\t3 & 502 & 8027 & 10\\% OFF GES DEAL & D & -1.8131 & Eat In (EI) & $\\dots$ \\\\\n",
       "\t4 & 502 & 3007 & \\$1-OFF(PAssion) & D & -0.9346 & Take Away (TA) & $\\dots$ \\\\\n",
       "\t5 & 504 & 3007 & \\$1-OFF(PAssion) & D & -0.9346 & Eat In (EI) & $\\dots$ \\\\\n",
       "\t6 & 504 & 3007 & \\$1-OFF(PAssion) & D & -0.9346 & Eat In (EI) & $\\dots$ \\\\\n",
       "\t7 & 504 & 3007 & \\$1-OFF(PAssion) & D & 0.9346 & Eat In (EI) & $\\dots$ \\\\\n",
       "\t8 & 504 & 3007 & \\$1-OFF(PAssion) & D & -0.9346 & Eat In (EI) & $\\dots$ \\\\\n",
       "\t9 & 504 & 5010 & 10\\% OFF(LSM) & D & -0.9438 & Eat In (EI) & $\\dots$ \\\\\n",
       "\t10 & 504 & 8027 & 10\\% OFF GES DEAL & D & -2.243 & Take Away (TA) & $\\dots$ \\\\\n",
       "\t11 & 505 & 5016 & 10\\% OFF xFOOD PANDA & D & -1.0751 & Eat In (EI) & $\\dots$ \\\\\n",
       "\t12 & 505 & 5016 & 10\\% OFF xFOOD PANDA & D & -0.9813 & Take Away (TA) & $\\dots$ \\\\\n",
       "\t13 & 505 & 5010 & 10\\% OFF(LSM) & D & -0.7851 & Drive-Thru & $\\dots$ \\\\\n",
       "\t14 & 505 & 5010 & 10\\% OFF(LSM) & D & 0.7851 & Drive-Thru & $\\dots$ \\\\\n",
       "\t15 & 505 & 3007 & \\$1-OFF(PAssion) & D & -0.9346 & Eat In (EI) & $\\dots$ \\\\\n",
       "\t16 & 506 & 5016 & 10\\% OFF xFOOD PANDA & D & -0.5517 & Breakfast (BF) & $\\dots$ \\\\\n",
       "\t17 & 506 & 5016 & 10\\% OFF xFOOD PANDA & D & -0.4019 & Breakfast (BF) & $\\dots$ \\\\\n",
       "\t18 & 506 & 3007 & \\$1-OFF(PAssion) & D & -0.9346 & Eat In (EI) & $\\dots$ \\\\\n",
       "\t19 & 506 & 3007 & \\$1-OFF(PAssion) & D & -0.9346 & Eat In (EI) & $\\dots$ \\\\\n",
       "\t20 & 506 & 2000 & 25\\% EMP DISC & D & -3.6075 & Eat In (EI) & $\\dots$ \\\\\n",
       "\t21 & 506 & 3007 & \\$1-OFF(PAssion) & D & -0.9346 & Take Away (TA) & $\\dots$ \\\\\n",
       "\t22 & 506 & 3007 & \\$1-OFF(PAssion) & D & -0.9346 & Eat In (EI) & $\\dots$ \\\\\n",
       "\t23 & 506 & 3007 & \\$1-OFF(PAssion) & D & -0.9346 & Take Away (TA) & $\\dots$ \\\\\n",
       "\t24 & 506 & 3007 & \\$1-OFF(PAssion) & D & -0.9304 & Take Away (TA) & $\\dots$ \\\\\n",
       "\t25 & 506 & 5016 & 10\\% OFF xFOOD PANDA & D & -0.9816 & Take Away (TA) & $\\dots$ \\\\\n",
       "\t26 & 506 & 8027 & 10\\% OFF GES DEAL & D & -0.9346 & Take Away (TA) & $\\dots$ \\\\\n",
       "\t27 & 506 & 3007 & \\$1-OFF(PAssion) & D & -0.9346 & Eat In (EI) & $\\dots$ \\\\\n",
       "\t28 & 506 & 3007 & \\$1-OFF(PAssion) & D & -0.9346 & Eat In (EI) & $\\dots$ \\\\\n",
       "\t29 & 506 & 3007 & \\$1-OFF(PAssion) & D & -0.9346 & Take Away (TA) & $\\dots$ \\\\\n",
       "\t30 & 506 & 8027 & 10\\% OFF GES DEAL & D & -0.9719 & Take Away (TA) & $\\dots$ \\\\\n",
       "\t$\\dots$ & $\\dots$ & $\\dots$ & $\\dots$ & $\\dots$ & $\\dots$ & $\\dots$ &  \\\\\n",
       "\\end{tabular}\n"
      ],
      "text/plain": [
       "GroupedDataFrame with 3 groups based on key: transaction_type\n",
       "First Group (5214325 rows): transaction_type = \"M\"\n",
       "\u001b[1m     Row \u001b[0m│\u001b[1m storenum \u001b[0m\u001b[1m item_key \u001b[0m\u001b[1m item_description \u001b[0m\u001b[1m transaction_type \u001b[0m\u001b[1m sales_amoun\u001b[0m ⋯\n",
       "\u001b[1m         \u001b[0m│\u001b[90m Int64    \u001b[0m\u001b[90m Int64    \u001b[0m\u001b[90m String           \u001b[0m\u001b[90m String           \u001b[0m\u001b[90m Float64    \u001b[0m ⋯\n",
       "─────────┼──────────────────────────────────────────────────────────────────────\n",
       "       1 │      502    916755  D-10P CKN BKT     M                      26.915 ⋯\n",
       "       2 │      502    710033  DEL SURCHARGE     M                       3.738\n",
       "       3 │      502    700103  D-3PC ML(OR)      M                      58.411\n",
       "       4 │      502    710033  DEL SURCHARGE     M                       3.738\n",
       "       5 │      502    710009  D-ZINGER          M                      10.934 ⋯\n",
       "       6 │      502    700103  D-3PC ML(OR)      M                      46.729\n",
       "       7 │      502    710033  DEL SURCHARGE     M                       3.738\n",
       "       8 │      502    922023  D-10 FOR $10      M                       9.345\n",
       "       9 │      502    913618  D-10P CKN 2-5PM   M                      16.822 ⋯\n",
       "      10 │      502    710033  DEL SURCHARGE     M                       3.738\n",
       "      11 │      502    916137  D-FM POT BWL      M                       5.0\n",
       "    ⋮    │    ⋮         ⋮             ⋮                 ⋮               ⋮      ⋱\n",
       " 5214315 │      670    200006  RT BEER -M        M                       2.757\n",
       " 5214316 │      670    921046  5P ACB 30%        M                       9.626 ⋯\n",
       " 5214317 │      670    922204  ZNG+SJ-R          M                       0.934\n",
       " 5214318 │      670    921048  15P ACB 30%       M                      25.420\n",
       " 5214319 │      670    922110  2P(TG) ML         M                       8.364\n",
       " 5214320 │      670    450011  RWP>CF            M                       2.056 ⋯\n",
       " 5214321 │      670    914357  1P EGG TART       M                       1.215\n",
       " 5214322 │      670    912781  1 OR ZNG BX       M                       8.551\n",
       " 5214323 │      670    450046  RFF>CFRIES        M                       1.869\n",
       " 5214324 │      670    914357  1P EGG TART       M                       1.215 ⋯\n",
       " 5214325 │      670    921046  5P ACB 30%        M                       9.626\n",
       "\u001b[36m                                              6 columns and 5214303 rows omitted\u001b[0m\n",
       "⋮\n",
       "Last Group (12833 rows): transaction_type = \"D\"\n",
       "\u001b[1m   Row \u001b[0m│\u001b[1m storenum \u001b[0m\u001b[1m item_key \u001b[0m\u001b[1m item_description    \u001b[0m\u001b[1m transaction_type \u001b[0m\u001b[1m sales_amou\u001b[0m ⋯\n",
       "\u001b[1m       \u001b[0m│\u001b[90m Int64    \u001b[0m\u001b[90m Int64    \u001b[0m\u001b[90m String              \u001b[0m\u001b[90m String           \u001b[0m\u001b[90m Float64   \u001b[0m ⋯\n",
       "───────┼────────────────────────────────────────────────────────────────────────\n",
       "     1 │      502      2000  25% EMP DISC         D                      -1.96 ⋯\n",
       "     2 │      502      3007  $1-OFF(PAssion)      D                      -0.93\n",
       "     3 │      502      8027  10% OFF GES DEAL     D                      -1.81\n",
       "     4 │      502      3007  $1-OFF(PAssion)      D                      -0.93\n",
       "     5 │      504      3007  $1-OFF(PAssion)      D                      -0.93 ⋯\n",
       "     6 │      504      3007  $1-OFF(PAssion)      D                      -0.93\n",
       "     7 │      504      3007  $1-OFF(PAssion)      D                       0.93\n",
       "     8 │      504      3007  $1-OFF(PAssion)      D                      -0.93\n",
       "     9 │      504      5010  10% OFF(LSM)         D                      -0.94 ⋯\n",
       "    10 │      504      8027  10% OFF GES DEAL     D                      -2.24\n",
       "    11 │      505      5016  10% OFF xFOOD PANDA  D                      -1.07\n",
       "   ⋮   │    ⋮         ⋮               ⋮                  ⋮               ⋮     ⋱\n",
       " 12823 │      660      8027  10% OFF GES DEAL     D                      -0.46\n",
       " 12824 │      660      8027  10% OFF GES DEAL     D                      -1.66 ⋯\n",
       " 12825 │      664      3007  $1-OFF(PAssion)      D                      -0.93\n",
       " 12826 │      664      3007  $1-OFF(PAssion)      D                      -0.93\n",
       " 12827 │      664      8027  10% OFF GES DEAL     D                      -0.60\n",
       " 12828 │      665      3007  $1-OFF(PAssion)      D                      -0.93 ⋯\n",
       " 12829 │      665      3007  $1-OFF(PAssion)      D                      -0.93\n",
       " 12830 │      665      5010  10% OFF(LSM)         D                      -0.46\n",
       " 12831 │      666      3007  $1-OFF(PAssion)      D                      -0.93\n",
       " 12832 │      670      8027  10% OFF GES DEAL     D                      -0.78 ⋯\n",
       " 12833 │      670      8027  10% OFF GES DEAL     D                      -0.32\n",
       "\u001b[36m                                                6 columns and 12811 rows omitted\u001b[0m"
      ]
     },
     "execution_count": 3,
     "metadata": {},
     "output_type": "execute_result"
    }
   ],
   "source": [
    "df = groupby(df,:transaction_type)"
   ]
  },
  {
   "cell_type": "code",
   "execution_count": 4,
   "metadata": {
    "scrolled": true
   },
   "outputs": [
    {
     "data": {
      "text/html": [
       "<table class=\"data-frame\"><thead><tr><th></th><th>storenum</th><th>item_key</th><th>item_description</th><th>transaction_type</th><th>sales_amount</th><th>sales_channel</th></tr><tr><th></th><th>Int64</th><th>Int64</th><th>String</th><th>String</th><th>Float64</th><th>String</th></tr></thead><tbody><p>5,214,325 rows × 10 columns (omitted printing of 4 columns)</p><tr><th>1</th><td>502</td><td>916755</td><td>D-10P CKN BKT</td><td>M</td><td>26.9159</td><td>Online-Delivery</td></tr><tr><th>2</th><td>502</td><td>710033</td><td>DEL SURCHARGE</td><td>M</td><td>3.7383</td><td>Online-Delivery</td></tr><tr><th>3</th><td>502</td><td>700103</td><td>D-3PC ML(OR)</td><td>M</td><td>58.4112</td><td>Phone-Delivery</td></tr><tr><th>4</th><td>502</td><td>710033</td><td>DEL SURCHARGE</td><td>M</td><td>3.7383</td><td>Phone-Delivery</td></tr><tr><th>5</th><td>502</td><td>710009</td><td>D-ZINGER</td><td>M</td><td>10.9346</td><td>Phone-Delivery</td></tr><tr><th>6</th><td>502</td><td>700103</td><td>D-3PC ML(OR)</td><td>M</td><td>46.729</td><td>Phone-Delivery</td></tr><tr><th>7</th><td>502</td><td>710033</td><td>DEL SURCHARGE</td><td>M</td><td>3.7383</td><td>Phone-Delivery</td></tr><tr><th>8</th><td>502</td><td>922023</td><td>D-10 FOR $10</td><td>M</td><td>9.3458</td><td>Online-Delivery</td></tr><tr><th>9</th><td>502</td><td>913618</td><td>D-10P CKN 2-5PM</td><td>M</td><td>16.8224</td><td>Online-Delivery</td></tr><tr><th>10</th><td>502</td><td>710033</td><td>DEL SURCHARGE</td><td>M</td><td>3.7383</td><td>Online-Delivery</td></tr><tr><th>11</th><td>502</td><td>916137</td><td>D-FM POT BWL</td><td>M</td><td>5.0</td><td>Online-Delivery</td></tr><tr><th>12</th><td>502</td><td>710018</td><td>D-C/SL MED</td><td>M</td><td>3.4579</td><td>Online-Delivery</td></tr><tr><th>13</th><td>502</td><td>710021</td><td>D-W/PT MED</td><td>M</td><td>3.4579</td><td>Online-Delivery</td></tr><tr><th>14</th><td>502</td><td>919893</td><td>D-8P FOR $15</td><td>M</td><td>14.0187</td><td>Online-Delivery</td></tr><tr><th>15</th><td>502</td><td>710033</td><td>DEL SURCHARGE</td><td>M</td><td>3.7383</td><td>Online-Delivery</td></tr><tr><th>16</th><td>502</td><td>913961</td><td>D-8P VRTY FEAST</td><td>M</td><td>38.271</td><td>Online-Delivery</td></tr><tr><th>17</th><td>502</td><td>710033</td><td>DEL SURCHARGE</td><td>M</td><td>3.7383</td><td>Online-Delivery</td></tr><tr><th>18</th><td>502</td><td>921466</td><td>D-2P CKN BX</td><td>M</td><td>39.2523</td><td>Online-Delivery</td></tr><tr><th>19</th><td>502</td><td>921466</td><td>D-2P CKN BX</td><td>M</td><td>39.2523</td><td>Online-Delivery</td></tr><tr><th>20</th><td>502</td><td>921466</td><td>D-2P CKN BX</td><td>M</td><td>29.4393</td><td>Online-Delivery</td></tr><tr><th>21</th><td>502</td><td>710033</td><td>DEL SURCHARGE</td><td>M</td><td>3.7383</td><td>Online-Delivery</td></tr><tr><th>22</th><td>502</td><td>913299</td><td>D-AO 2 CHZ FRIES-APP</td><td>M</td><td>5.6075</td><td>Online-Delivery</td></tr><tr><th>23</th><td>502</td><td>922023</td><td>D-10 FOR $10</td><td>M</td><td>9.3458</td><td>Online-Delivery</td></tr><tr><th>24</th><td>502</td><td>710033</td><td>DEL SURCHARGE</td><td>M</td><td>3.7383</td><td>Online-Delivery</td></tr><tr><th>25</th><td>502</td><td>921474</td><td>D-ZNGBX+2P CKN BX</td><td>M</td><td>15.1402</td><td>Online-Delivery</td></tr><tr><th>26</th><td>502</td><td>916131</td><td>D-1P CRY BWL ML</td><td>M</td><td>7.9907</td><td>Online-Delivery</td></tr><tr><th>27</th><td>502</td><td>912754</td><td>D-1P ZNG BOX</td><td>M</td><td>10.2336</td><td>Online-Delivery</td></tr><tr><th>28</th><td>502</td><td>710033</td><td>DEL SURCHARGE</td><td>M</td><td>3.7383</td><td>Online-Delivery</td></tr><tr><th>29</th><td>502</td><td>916759</td><td>D-ALA SNACK N SHARE BX  </td><td>M</td><td>12.1028</td><td>Online-Delivery</td></tr><tr><th>30</th><td>502</td><td>922023</td><td>D-10 FOR $10</td><td>M</td><td>9.3458</td><td>Online-Delivery</td></tr><tr><th>&vellip;</th><td>&vellip;</td><td>&vellip;</td><td>&vellip;</td><td>&vellip;</td><td>&vellip;</td><td>&vellip;</td></tr></tbody></table>"
      ],
      "text/latex": [
       "\\begin{tabular}{r|ccccccc}\n",
       "\t& storenum & item\\_key & item\\_description & transaction\\_type & sales\\_amount & sales\\_channel & \\\\\n",
       "\t\\hline\n",
       "\t& Int64 & Int64 & String & String & Float64 & String & \\\\\n",
       "\t\\hline\n",
       "\t1 & 502 & 916755 & D-10P CKN BKT & M & 26.9159 & Online-Delivery & $\\dots$ \\\\\n",
       "\t2 & 502 & 710033 & DEL SURCHARGE & M & 3.7383 & Online-Delivery & $\\dots$ \\\\\n",
       "\t3 & 502 & 700103 & D-3PC ML(OR) & M & 58.4112 & Phone-Delivery & $\\dots$ \\\\\n",
       "\t4 & 502 & 710033 & DEL SURCHARGE & M & 3.7383 & Phone-Delivery & $\\dots$ \\\\\n",
       "\t5 & 502 & 710009 & D-ZINGER & M & 10.9346 & Phone-Delivery & $\\dots$ \\\\\n",
       "\t6 & 502 & 700103 & D-3PC ML(OR) & M & 46.729 & Phone-Delivery & $\\dots$ \\\\\n",
       "\t7 & 502 & 710033 & DEL SURCHARGE & M & 3.7383 & Phone-Delivery & $\\dots$ \\\\\n",
       "\t8 & 502 & 922023 & D-10 FOR \\$10 & M & 9.3458 & Online-Delivery & $\\dots$ \\\\\n",
       "\t9 & 502 & 913618 & D-10P CKN 2-5PM & M & 16.8224 & Online-Delivery & $\\dots$ \\\\\n",
       "\t10 & 502 & 710033 & DEL SURCHARGE & M & 3.7383 & Online-Delivery & $\\dots$ \\\\\n",
       "\t11 & 502 & 916137 & D-FM POT BWL & M & 5.0 & Online-Delivery & $\\dots$ \\\\\n",
       "\t12 & 502 & 710018 & D-C/SL MED & M & 3.4579 & Online-Delivery & $\\dots$ \\\\\n",
       "\t13 & 502 & 710021 & D-W/PT MED & M & 3.4579 & Online-Delivery & $\\dots$ \\\\\n",
       "\t14 & 502 & 919893 & D-8P FOR \\$15 & M & 14.0187 & Online-Delivery & $\\dots$ \\\\\n",
       "\t15 & 502 & 710033 & DEL SURCHARGE & M & 3.7383 & Online-Delivery & $\\dots$ \\\\\n",
       "\t16 & 502 & 913961 & D-8P VRTY FEAST & M & 38.271 & Online-Delivery & $\\dots$ \\\\\n",
       "\t17 & 502 & 710033 & DEL SURCHARGE & M & 3.7383 & Online-Delivery & $\\dots$ \\\\\n",
       "\t18 & 502 & 921466 & D-2P CKN BX & M & 39.2523 & Online-Delivery & $\\dots$ \\\\\n",
       "\t19 & 502 & 921466 & D-2P CKN BX & M & 39.2523 & Online-Delivery & $\\dots$ \\\\\n",
       "\t20 & 502 & 921466 & D-2P CKN BX & M & 29.4393 & Online-Delivery & $\\dots$ \\\\\n",
       "\t21 & 502 & 710033 & DEL SURCHARGE & M & 3.7383 & Online-Delivery & $\\dots$ \\\\\n",
       "\t22 & 502 & 913299 & D-AO 2 CHZ FRIES-APP & M & 5.6075 & Online-Delivery & $\\dots$ \\\\\n",
       "\t23 & 502 & 922023 & D-10 FOR \\$10 & M & 9.3458 & Online-Delivery & $\\dots$ \\\\\n",
       "\t24 & 502 & 710033 & DEL SURCHARGE & M & 3.7383 & Online-Delivery & $\\dots$ \\\\\n",
       "\t25 & 502 & 921474 & D-ZNGBX+2P CKN BX & M & 15.1402 & Online-Delivery & $\\dots$ \\\\\n",
       "\t26 & 502 & 916131 & D-1P CRY BWL ML & M & 7.9907 & Online-Delivery & $\\dots$ \\\\\n",
       "\t27 & 502 & 912754 & D-1P ZNG BOX & M & 10.2336 & Online-Delivery & $\\dots$ \\\\\n",
       "\t28 & 502 & 710033 & DEL SURCHARGE & M & 3.7383 & Online-Delivery & $\\dots$ \\\\\n",
       "\t29 & 502 & 916759 & D-ALA SNACK N SHARE BX   & M & 12.1028 & Online-Delivery & $\\dots$ \\\\\n",
       "\t30 & 502 & 922023 & D-10 FOR \\$10 & M & 9.3458 & Online-Delivery & $\\dots$ \\\\\n",
       "\t$\\dots$ & $\\dots$ & $\\dots$ & $\\dots$ & $\\dots$ & $\\dots$ & $\\dots$ &  \\\\\n",
       "\\end{tabular}\n"
      ],
      "text/plain": [
       "\u001b[1m5214325×10 SubDataFrame\u001b[0m\n",
       "\u001b[1m     Row \u001b[0m│\u001b[1m storenum \u001b[0m\u001b[1m item_key \u001b[0m\u001b[1m item_description \u001b[0m\u001b[1m transaction_type \u001b[0m\u001b[1m sales_amoun\u001b[0m ⋯\n",
       "\u001b[1m         \u001b[0m│\u001b[90m Int64    \u001b[0m\u001b[90m Int64    \u001b[0m\u001b[90m String           \u001b[0m\u001b[90m String           \u001b[0m\u001b[90m Float64    \u001b[0m ⋯\n",
       "─────────┼──────────────────────────────────────────────────────────────────────\n",
       "       1 │      502    916755  D-10P CKN BKT     M                      26.915 ⋯\n",
       "       2 │      502    710033  DEL SURCHARGE     M                       3.738\n",
       "       3 │      502    700103  D-3PC ML(OR)      M                      58.411\n",
       "       4 │      502    710033  DEL SURCHARGE     M                       3.738\n",
       "       5 │      502    710009  D-ZINGER          M                      10.934 ⋯\n",
       "       6 │      502    700103  D-3PC ML(OR)      M                      46.729\n",
       "       7 │      502    710033  DEL SURCHARGE     M                       3.738\n",
       "       8 │      502    922023  D-10 FOR $10      M                       9.345\n",
       "       9 │      502    913618  D-10P CKN 2-5PM   M                      16.822 ⋯\n",
       "      10 │      502    710033  DEL SURCHARGE     M                       3.738\n",
       "      11 │      502    916137  D-FM POT BWL      M                       5.0\n",
       "    ⋮    │    ⋮         ⋮             ⋮                 ⋮               ⋮      ⋱\n",
       " 5214316 │      670    921046  5P ACB 30%        M                       9.626\n",
       " 5214317 │      670    922204  ZNG+SJ-R          M                       0.934 ⋯\n",
       " 5214318 │      670    921048  15P ACB 30%       M                      25.420\n",
       " 5214319 │      670    922110  2P(TG) ML         M                       8.364\n",
       " 5214320 │      670    450011  RWP>CF            M                       2.056\n",
       " 5214321 │      670    914357  1P EGG TART       M                       1.215 ⋯\n",
       " 5214322 │      670    912781  1 OR ZNG BX       M                       8.551\n",
       " 5214323 │      670    450046  RFF>CFRIES        M                       1.869\n",
       " 5214324 │      670    914357  1P EGG TART       M                       1.215\n",
       " 5214325 │      670    921046  5P ACB 30%        M                       9.626 ⋯\n",
       "\u001b[36m                                              6 columns and 5214304 rows omitted\u001b[0m"
      ]
     },
     "execution_count": 4,
     "metadata": {},
     "output_type": "execute_result"
    }
   ],
   "source": [
    "df = df[1]"
   ]
  },
  {
   "cell_type": "code",
   "execution_count": 5,
   "metadata": {},
   "outputs": [
    {
     "data": {
      "text/html": [
       "<p><b>GroupedDataFrame with 6 groups based on key: daypart</b></p><p><i>First Group (593802 rows): daypart = \"Breakfast_Weekday\"</i></p><table class=\"data-frame\"><thead><tr><th></th><th>storenum</th><th>item_key</th><th>item_description</th><th>transaction_type</th><th>sales_amount</th><th>sales_channel</th></tr><tr><th></th><th>Int64</th><th>Int64</th><th>String</th><th>String</th><th>Float64</th><th>String</th></tr></thead><tbody><tr><th>1</th><td>502</td><td>916755</td><td>D-10P CKN BKT</td><td>M</td><td>26.9159</td><td>Online-Delivery</td></tr><tr><th>2</th><td>502</td><td>710033</td><td>DEL SURCHARGE</td><td>M</td><td>3.7383</td><td>Online-Delivery</td></tr><tr><th>3</th><td>502</td><td>700103</td><td>D-3PC ML(OR)</td><td>M</td><td>58.4112</td><td>Phone-Delivery</td></tr><tr><th>4</th><td>502</td><td>710033</td><td>DEL SURCHARGE</td><td>M</td><td>3.7383</td><td>Phone-Delivery</td></tr><tr><th>5</th><td>502</td><td>710009</td><td>D-ZINGER</td><td>M</td><td>10.9346</td><td>Phone-Delivery</td></tr><tr><th>6</th><td>502</td><td>700103</td><td>D-3PC ML(OR)</td><td>M</td><td>46.729</td><td>Phone-Delivery</td></tr><tr><th>7</th><td>502</td><td>710033</td><td>DEL SURCHARGE</td><td>M</td><td>3.7383</td><td>Phone-Delivery</td></tr><tr><th>8</th><td>502</td><td>922023</td><td>D-10 FOR $10</td><td>M</td><td>9.3458</td><td>Online-Delivery</td></tr><tr><th>9</th><td>502</td><td>913618</td><td>D-10P CKN 2-5PM</td><td>M</td><td>16.8224</td><td>Online-Delivery</td></tr><tr><th>10</th><td>502</td><td>710033</td><td>DEL SURCHARGE</td><td>M</td><td>3.7383</td><td>Online-Delivery</td></tr><tr><th>11</th><td>502</td><td>916137</td><td>D-FM POT BWL</td><td>M</td><td>5.0</td><td>Online-Delivery</td></tr><tr><th>12</th><td>502</td><td>710018</td><td>D-C/SL MED</td><td>M</td><td>3.4579</td><td>Online-Delivery</td></tr><tr><th>13</th><td>502</td><td>710021</td><td>D-W/PT MED</td><td>M</td><td>3.4579</td><td>Online-Delivery</td></tr><tr><th>14</th><td>502</td><td>919893</td><td>D-8P FOR $15</td><td>M</td><td>14.0187</td><td>Online-Delivery</td></tr><tr><th>15</th><td>502</td><td>710033</td><td>DEL SURCHARGE</td><td>M</td><td>3.7383</td><td>Online-Delivery</td></tr><tr><th>16</th><td>502</td><td>913961</td><td>D-8P VRTY FEAST</td><td>M</td><td>38.271</td><td>Online-Delivery</td></tr><tr><th>17</th><td>502</td><td>710033</td><td>DEL SURCHARGE</td><td>M</td><td>3.7383</td><td>Online-Delivery</td></tr><tr><th>18</th><td>502</td><td>921466</td><td>D-2P CKN BX</td><td>M</td><td>39.2523</td><td>Online-Delivery</td></tr><tr><th>19</th><td>502</td><td>921466</td><td>D-2P CKN BX</td><td>M</td><td>39.2523</td><td>Online-Delivery</td></tr><tr><th>20</th><td>502</td><td>921466</td><td>D-2P CKN BX</td><td>M</td><td>29.4393</td><td>Online-Delivery</td></tr><tr><th>21</th><td>502</td><td>710033</td><td>DEL SURCHARGE</td><td>M</td><td>3.7383</td><td>Online-Delivery</td></tr><tr><th>22</th><td>502</td><td>913299</td><td>D-AO 2 CHZ FRIES-APP</td><td>M</td><td>5.6075</td><td>Online-Delivery</td></tr><tr><th>23</th><td>502</td><td>922023</td><td>D-10 FOR $10</td><td>M</td><td>9.3458</td><td>Online-Delivery</td></tr><tr><th>24</th><td>502</td><td>710033</td><td>DEL SURCHARGE</td><td>M</td><td>3.7383</td><td>Online-Delivery</td></tr><tr><th>25</th><td>502</td><td>921474</td><td>D-ZNGBX+2P CKN BX</td><td>M</td><td>15.1402</td><td>Online-Delivery</td></tr><tr><th>26</th><td>502</td><td>916131</td><td>D-1P CRY BWL ML</td><td>M</td><td>7.9907</td><td>Online-Delivery</td></tr><tr><th>27</th><td>502</td><td>912754</td><td>D-1P ZNG BOX</td><td>M</td><td>10.2336</td><td>Online-Delivery</td></tr><tr><th>28</th><td>502</td><td>710033</td><td>DEL SURCHARGE</td><td>M</td><td>3.7383</td><td>Online-Delivery</td></tr><tr><th>29</th><td>502</td><td>9999994</td><td>*BF Eat In*</td><td>M</td><td>0.0</td><td>Breakfast (BF)</td></tr><tr><th>30</th><td>502</td><td>500009</td><td>PORRIDGE</td><td>M</td><td>3.0841</td><td>Breakfast (BF)</td></tr><tr><th>&vellip;</th><td>&vellip;</td><td>&vellip;</td><td>&vellip;</td><td>&vellip;</td><td>&vellip;</td><td>&vellip;</td></tr></tbody></table><p>&vellip;</p><p><i>Last Group (645209 rows): daypart = \"Lunch_Weekend\"</i></p><table class=\"data-frame\"><thead><tr><th></th><th>storenum</th><th>item_key</th><th>item_description</th><th>transaction_type</th><th>sales_amount</th><th>sales_channel</th></tr><tr><th></th><th>Int64</th><th>Int64</th><th>String</th><th>String</th><th>Float64</th><th>String</th></tr></thead><tbody><tr><th>1</th><td>502</td><td>710009</td><td>D-ZINGER</td><td>M</td><td>5.4673</td><td>Online-Delivery</td></tr><tr><th>2</th><td>502</td><td>913299</td><td>D-AO 2 CHZ FRIES-APP</td><td>M</td><td>5.6075</td><td>Online-Delivery</td></tr><tr><th>3</th><td>502</td><td>916755</td><td>D-10P CKN BKT</td><td>M</td><td>26.9159</td><td>Online-Delivery</td></tr><tr><th>4</th><td>502</td><td>710033</td><td>DEL SURCHARGE</td><td>M</td><td>3.7383</td><td>Online-Delivery</td></tr><tr><th>5</th><td>502</td><td>710021</td><td>D-W/PT MED</td><td>M</td><td>6.9159</td><td>Online-Delivery</td></tr><tr><th>6</th><td>502</td><td>710018</td><td>D-C/SL MED</td><td>M</td><td>6.9159</td><td>Online-Delivery</td></tr><tr><th>7</th><td>502</td><td>922023</td><td>D-10 FOR $10</td><td>M</td><td>9.3458</td><td>Online-Delivery</td></tr><tr><th>8</th><td>502</td><td>916755</td><td>D-10P CKN BKT</td><td>M</td><td>26.9159</td><td>Online-Delivery</td></tr><tr><th>9</th><td>502</td><td>710033</td><td>DEL SURCHARGE</td><td>M</td><td>3.7383</td><td>Online-Delivery</td></tr><tr><th>10</th><td>502</td><td>922023</td><td>D-10 FOR $10</td><td>M</td><td>9.3458</td><td>Online-Delivery</td></tr><tr><th>11</th><td>502</td><td>916131</td><td>D-1P CRY BWL ML</td><td>M</td><td>7.9907</td><td>Online-Delivery</td></tr><tr><th>12</th><td>502</td><td>710033</td><td>DEL SURCHARGE</td><td>M</td><td>3.7383</td><td>Online-Delivery</td></tr><tr><th>13</th><td>502</td><td>710043</td><td>D-6P EGG TARTS</td><td>M</td><td>14.9533</td><td>Phone-Delivery</td></tr><tr><th>14</th><td>502</td><td>912754</td><td>D-1P ZNG BOX</td><td>M</td><td>102.336</td><td>Phone-Delivery</td></tr><tr><th>15</th><td>502</td><td>915879</td><td>D-1P TGY PKT BX</td><td>M</td><td>81.8692</td><td>Phone-Delivery</td></tr><tr><th>16</th><td>502</td><td>710033</td><td>DEL SURCHARGE</td><td>M</td><td>3.7383</td><td>Phone-Delivery</td></tr><tr><th>17</th><td>502</td><td>710064</td><td>D-CKN RICE</td><td>M</td><td>0.9346</td><td>Online-Delivery</td></tr><tr><th>18</th><td>502</td><td>710018</td><td>D-C/SL MED</td><td>M</td><td>3.4579</td><td>Online-Delivery</td></tr><tr><th>19</th><td>502</td><td>922023</td><td>D-10 FOR $10</td><td>M</td><td>9.3458</td><td>Online-Delivery</td></tr><tr><th>20</th><td>502</td><td>710033</td><td>DEL SURCHARGE</td><td>M</td><td>3.7383</td><td>Online-Delivery</td></tr><tr><th>21</th><td>502</td><td>915882</td><td>D-TGY PKT</td><td>M</td><td>5.4673</td><td>Online-Delivery</td></tr><tr><th>22</th><td>502</td><td>922023</td><td>D-10 FOR $10</td><td>M</td><td>9.3458</td><td>Online-Delivery</td></tr><tr><th>23</th><td>502</td><td>710033</td><td>DEL SURCHARGE</td><td>M</td><td>3.7383</td><td>Online-Delivery</td></tr><tr><th>24</th><td>502</td><td>710009</td><td>D-ZINGER</td><td>M</td><td>5.4673</td><td>Online-Delivery</td></tr><tr><th>25</th><td>502</td><td>913299</td><td>D-AO 2 CHZ FRIES-APP</td><td>M</td><td>5.6075</td><td>Online-Delivery</td></tr><tr><th>26</th><td>502</td><td>922023</td><td>D-10 FOR $10</td><td>M</td><td>9.3458</td><td>Online-Delivery</td></tr><tr><th>27</th><td>502</td><td>710033</td><td>DEL SURCHARGE</td><td>M</td><td>3.7383</td><td>Online-Delivery</td></tr><tr><th>28</th><td>502</td><td>913299</td><td>D-AO 2 CHZ FRIES-APP</td><td>M</td><td>5.6075</td><td>Online-Delivery</td></tr><tr><th>29</th><td>502</td><td>922023</td><td>D-10 FOR $10</td><td>M</td><td>9.3458</td><td>Online-Delivery</td></tr><tr><th>30</th><td>502</td><td>710033</td><td>DEL SURCHARGE</td><td>M</td><td>3.7383</td><td>Online-Delivery</td></tr><tr><th>&vellip;</th><td>&vellip;</td><td>&vellip;</td><td>&vellip;</td><td>&vellip;</td><td>&vellip;</td><td>&vellip;</td></tr></tbody></table>"
      ],
      "text/latex": [
       "GroupedDataFrame with 6 groups based on key: daypart\n",
       "\n",
       "First Group (593802 rows): daypart = \"Breakfast\\_Weekday\"\n",
       "\n",
       "\\begin{tabular}{r|ccccccc}\n",
       "\t& storenum & item\\_key & item\\_description & transaction\\_type & sales\\_amount & sales\\_channel & \\\\\n",
       "\t\\hline\n",
       "\t& Int64 & Int64 & String & String & Float64 & String & \\\\\n",
       "\t\\hline\n",
       "\t1 & 502 & 916755 & D-10P CKN BKT & M & 26.9159 & Online-Delivery & $\\dots$ \\\\\n",
       "\t2 & 502 & 710033 & DEL SURCHARGE & M & 3.7383 & Online-Delivery & $\\dots$ \\\\\n",
       "\t3 & 502 & 700103 & D-3PC ML(OR) & M & 58.4112 & Phone-Delivery & $\\dots$ \\\\\n",
       "\t4 & 502 & 710033 & DEL SURCHARGE & M & 3.7383 & Phone-Delivery & $\\dots$ \\\\\n",
       "\t5 & 502 & 710009 & D-ZINGER & M & 10.9346 & Phone-Delivery & $\\dots$ \\\\\n",
       "\t6 & 502 & 700103 & D-3PC ML(OR) & M & 46.729 & Phone-Delivery & $\\dots$ \\\\\n",
       "\t7 & 502 & 710033 & DEL SURCHARGE & M & 3.7383 & Phone-Delivery & $\\dots$ \\\\\n",
       "\t8 & 502 & 922023 & D-10 FOR \\$10 & M & 9.3458 & Online-Delivery & $\\dots$ \\\\\n",
       "\t9 & 502 & 913618 & D-10P CKN 2-5PM & M & 16.8224 & Online-Delivery & $\\dots$ \\\\\n",
       "\t10 & 502 & 710033 & DEL SURCHARGE & M & 3.7383 & Online-Delivery & $\\dots$ \\\\\n",
       "\t11 & 502 & 916137 & D-FM POT BWL & M & 5.0 & Online-Delivery & $\\dots$ \\\\\n",
       "\t12 & 502 & 710018 & D-C/SL MED & M & 3.4579 & Online-Delivery & $\\dots$ \\\\\n",
       "\t13 & 502 & 710021 & D-W/PT MED & M & 3.4579 & Online-Delivery & $\\dots$ \\\\\n",
       "\t14 & 502 & 919893 & D-8P FOR \\$15 & M & 14.0187 & Online-Delivery & $\\dots$ \\\\\n",
       "\t15 & 502 & 710033 & DEL SURCHARGE & M & 3.7383 & Online-Delivery & $\\dots$ \\\\\n",
       "\t16 & 502 & 913961 & D-8P VRTY FEAST & M & 38.271 & Online-Delivery & $\\dots$ \\\\\n",
       "\t17 & 502 & 710033 & DEL SURCHARGE & M & 3.7383 & Online-Delivery & $\\dots$ \\\\\n",
       "\t18 & 502 & 921466 & D-2P CKN BX & M & 39.2523 & Online-Delivery & $\\dots$ \\\\\n",
       "\t19 & 502 & 921466 & D-2P CKN BX & M & 39.2523 & Online-Delivery & $\\dots$ \\\\\n",
       "\t20 & 502 & 921466 & D-2P CKN BX & M & 29.4393 & Online-Delivery & $\\dots$ \\\\\n",
       "\t21 & 502 & 710033 & DEL SURCHARGE & M & 3.7383 & Online-Delivery & $\\dots$ \\\\\n",
       "\t22 & 502 & 913299 & D-AO 2 CHZ FRIES-APP & M & 5.6075 & Online-Delivery & $\\dots$ \\\\\n",
       "\t23 & 502 & 922023 & D-10 FOR \\$10 & M & 9.3458 & Online-Delivery & $\\dots$ \\\\\n",
       "\t24 & 502 & 710033 & DEL SURCHARGE & M & 3.7383 & Online-Delivery & $\\dots$ \\\\\n",
       "\t25 & 502 & 921474 & D-ZNGBX+2P CKN BX & M & 15.1402 & Online-Delivery & $\\dots$ \\\\\n",
       "\t26 & 502 & 916131 & D-1P CRY BWL ML & M & 7.9907 & Online-Delivery & $\\dots$ \\\\\n",
       "\t27 & 502 & 912754 & D-1P ZNG BOX & M & 10.2336 & Online-Delivery & $\\dots$ \\\\\n",
       "\t28 & 502 & 710033 & DEL SURCHARGE & M & 3.7383 & Online-Delivery & $\\dots$ \\\\\n",
       "\t29 & 502 & 9999994 & *BF Eat In* & M & 0.0 & Breakfast (BF) & $\\dots$ \\\\\n",
       "\t30 & 502 & 500009 & PORRIDGE & M & 3.0841 & Breakfast (BF) & $\\dots$ \\\\\n",
       "\t$\\dots$ & $\\dots$ & $\\dots$ & $\\dots$ & $\\dots$ & $\\dots$ & $\\dots$ &  \\\\\n",
       "\\end{tabular}\n",
       "\n",
       "$\\dots$\n",
       "\n",
       "Last Group (645209 rows): daypart = \"Lunch\\_Weekend\"\n",
       "\n",
       "\\begin{tabular}{r|ccccccc}\n",
       "\t& storenum & item\\_key & item\\_description & transaction\\_type & sales\\_amount & sales\\_channel & \\\\\n",
       "\t\\hline\n",
       "\t& Int64 & Int64 & String & String & Float64 & String & \\\\\n",
       "\t\\hline\n",
       "\t1 & 502 & 710009 & D-ZINGER & M & 5.4673 & Online-Delivery & $\\dots$ \\\\\n",
       "\t2 & 502 & 913299 & D-AO 2 CHZ FRIES-APP & M & 5.6075 & Online-Delivery & $\\dots$ \\\\\n",
       "\t3 & 502 & 916755 & D-10P CKN BKT & M & 26.9159 & Online-Delivery & $\\dots$ \\\\\n",
       "\t4 & 502 & 710033 & DEL SURCHARGE & M & 3.7383 & Online-Delivery & $\\dots$ \\\\\n",
       "\t5 & 502 & 710021 & D-W/PT MED & M & 6.9159 & Online-Delivery & $\\dots$ \\\\\n",
       "\t6 & 502 & 710018 & D-C/SL MED & M & 6.9159 & Online-Delivery & $\\dots$ \\\\\n",
       "\t7 & 502 & 922023 & D-10 FOR \\$10 & M & 9.3458 & Online-Delivery & $\\dots$ \\\\\n",
       "\t8 & 502 & 916755 & D-10P CKN BKT & M & 26.9159 & Online-Delivery & $\\dots$ \\\\\n",
       "\t9 & 502 & 710033 & DEL SURCHARGE & M & 3.7383 & Online-Delivery & $\\dots$ \\\\\n",
       "\t10 & 502 & 922023 & D-10 FOR \\$10 & M & 9.3458 & Online-Delivery & $\\dots$ \\\\\n",
       "\t11 & 502 & 916131 & D-1P CRY BWL ML & M & 7.9907 & Online-Delivery & $\\dots$ \\\\\n",
       "\t12 & 502 & 710033 & DEL SURCHARGE & M & 3.7383 & Online-Delivery & $\\dots$ \\\\\n",
       "\t13 & 502 & 710043 & D-6P EGG TARTS & M & 14.9533 & Phone-Delivery & $\\dots$ \\\\\n",
       "\t14 & 502 & 912754 & D-1P ZNG BOX & M & 102.336 & Phone-Delivery & $\\dots$ \\\\\n",
       "\t15 & 502 & 915879 & D-1P TGY PKT BX & M & 81.8692 & Phone-Delivery & $\\dots$ \\\\\n",
       "\t16 & 502 & 710033 & DEL SURCHARGE & M & 3.7383 & Phone-Delivery & $\\dots$ \\\\\n",
       "\t17 & 502 & 710064 & D-CKN RICE & M & 0.9346 & Online-Delivery & $\\dots$ \\\\\n",
       "\t18 & 502 & 710018 & D-C/SL MED & M & 3.4579 & Online-Delivery & $\\dots$ \\\\\n",
       "\t19 & 502 & 922023 & D-10 FOR \\$10 & M & 9.3458 & Online-Delivery & $\\dots$ \\\\\n",
       "\t20 & 502 & 710033 & DEL SURCHARGE & M & 3.7383 & Online-Delivery & $\\dots$ \\\\\n",
       "\t21 & 502 & 915882 & D-TGY PKT & M & 5.4673 & Online-Delivery & $\\dots$ \\\\\n",
       "\t22 & 502 & 922023 & D-10 FOR \\$10 & M & 9.3458 & Online-Delivery & $\\dots$ \\\\\n",
       "\t23 & 502 & 710033 & DEL SURCHARGE & M & 3.7383 & Online-Delivery & $\\dots$ \\\\\n",
       "\t24 & 502 & 710009 & D-ZINGER & M & 5.4673 & Online-Delivery & $\\dots$ \\\\\n",
       "\t25 & 502 & 913299 & D-AO 2 CHZ FRIES-APP & M & 5.6075 & Online-Delivery & $\\dots$ \\\\\n",
       "\t26 & 502 & 922023 & D-10 FOR \\$10 & M & 9.3458 & Online-Delivery & $\\dots$ \\\\\n",
       "\t27 & 502 & 710033 & DEL SURCHARGE & M & 3.7383 & Online-Delivery & $\\dots$ \\\\\n",
       "\t28 & 502 & 913299 & D-AO 2 CHZ FRIES-APP & M & 5.6075 & Online-Delivery & $\\dots$ \\\\\n",
       "\t29 & 502 & 922023 & D-10 FOR \\$10 & M & 9.3458 & Online-Delivery & $\\dots$ \\\\\n",
       "\t30 & 502 & 710033 & DEL SURCHARGE & M & 3.7383 & Online-Delivery & $\\dots$ \\\\\n",
       "\t$\\dots$ & $\\dots$ & $\\dots$ & $\\dots$ & $\\dots$ & $\\dots$ & $\\dots$ &  \\\\\n",
       "\\end{tabular}\n"
      ],
      "text/plain": [
       "GroupedDataFrame with 6 groups based on key: daypart\n",
       "First Group (593802 rows): daypart = \"Breakfast_Weekday\"\n",
       "\u001b[1m    Row \u001b[0m│\u001b[1m storenum \u001b[0m\u001b[1m item_key \u001b[0m\u001b[1m item_description \u001b[0m\u001b[1m transaction_type \u001b[0m\u001b[1m sales_amount\u001b[0m ⋯\n",
       "\u001b[1m        \u001b[0m│\u001b[90m Int64    \u001b[0m\u001b[90m Int64    \u001b[0m\u001b[90m String           \u001b[0m\u001b[90m String           \u001b[0m\u001b[90m Float64     \u001b[0m ⋯\n",
       "────────┼───────────────────────────────────────────────────────────────────────\n",
       "      1 │      502    916755  D-10P CKN BKT     M                      26.9159 ⋯\n",
       "      2 │      502    710033  DEL SURCHARGE     M                       3.7383\n",
       "      3 │      502    700103  D-3PC ML(OR)      M                      58.4112\n",
       "      4 │      502    710033  DEL SURCHARGE     M                       3.7383\n",
       "      5 │      502    710009  D-ZINGER          M                      10.9346 ⋯\n",
       "      6 │      502    700103  D-3PC ML(OR)      M                      46.729\n",
       "      7 │      502    710033  DEL SURCHARGE     M                       3.7383\n",
       "      8 │      502    922023  D-10 FOR $10      M                       9.3458\n",
       "      9 │      502    913618  D-10P CKN 2-5PM   M                      16.8224 ⋯\n",
       "     10 │      502    710033  DEL SURCHARGE     M                       3.7383\n",
       "     11 │      502    916137  D-FM POT BWL      M                       5.0\n",
       "   ⋮    │    ⋮         ⋮             ⋮                 ⋮               ⋮       ⋱\n",
       " 593792 │      670    539990  *                 M                       0.0\n",
       " 593793 │      670    918058  TGY PKT           M                       5.4673 ⋯\n",
       " 593794 │      670     75004  POPCORN L         M                       4.3925\n",
       " 593795 │      670     75005  CHZ FRIES         M                       4.1121\n",
       " 593796 │      670    914357  1P EGG TART       M                       1.215\n",
       " 593797 │      670    922110  2P(TG) ML         M                       8.3645 ⋯\n",
       " 593798 │      670    921826  $2.5 3PTEN+1DIP   M                       2.3364\n",
       " 593799 │      670    922202  2P CKN+SJ-R       M                       0.9346\n",
       " 593800 │      670     30001  2P(OR)ML-A        M                       7.8505\n",
       " 593801 │      670    922062  AO MASK B         M                       1.8224 ⋯\n",
       " 593802 │      670     80001  SHRM BGR          M                       2.8037\n",
       "\u001b[36m                                               5 columns and 593780 rows omitted\u001b[0m\n",
       "⋮\n",
       "Last Group (645209 rows): daypart = \"Lunch_Weekend\"\n",
       "\u001b[1m    Row \u001b[0m│\u001b[1m storenum \u001b[0m\u001b[1m item_key \u001b[0m\u001b[1m item_description     \u001b[0m\u001b[1m transaction_type \u001b[0m\u001b[1m sales_am\u001b[0m ⋯\n",
       "\u001b[1m        \u001b[0m│\u001b[90m Int64    \u001b[0m\u001b[90m Int64    \u001b[0m\u001b[90m String               \u001b[0m\u001b[90m String           \u001b[0m\u001b[90m Float64 \u001b[0m ⋯\n",
       "────────┼───────────────────────────────────────────────────────────────────────\n",
       "      1 │      502    710009  D-ZINGER              M                       5. ⋯\n",
       "      2 │      502    913299  D-AO 2 CHZ FRIES-APP  M                       5.\n",
       "      3 │      502    916755  D-10P CKN BKT         M                      26.\n",
       "      4 │      502    710033  DEL SURCHARGE         M                       3.\n",
       "      5 │      502    710021  D-W/PT MED            M                       6. ⋯\n",
       "      6 │      502    710018  D-C/SL MED            M                       6.\n",
       "      7 │      502    922023  D-10 FOR $10          M                       9.\n",
       "      8 │      502    916755  D-10P CKN BKT         M                      26.\n",
       "      9 │      502    710033  DEL SURCHARGE         M                       3. ⋯\n",
       "     10 │      502    922023  D-10 FOR $10          M                       9.\n",
       "     11 │      502    916131  D-1P CRY BWL ML       M                       7.\n",
       "   ⋮    │    ⋮         ⋮               ⋮                   ⋮               ⋮   ⋱\n",
       " 645199 │      670    400134  RP>SJORA -R           M                       0.\n",
       " 645200 │      670    921826  $2.5 3PTEN+1DIP       M                       2. ⋯\n",
       " 645201 │      670    922110  2P(TG) ML             M                       8.\n",
       " 645202 │      670    922110  2P(TG) ML             M                       8.\n",
       " 645203 │      670     45104  2P TDR SNCKR          M                       3.\n",
       " 645204 │      670     75004  POPCORN L             M                       8. ⋯\n",
       " 645205 │      670    916089  OR RC BWL ML          M                       4.\n",
       " 645206 │      670    922086  $2.95 ZNG             M                       2.\n",
       " 645207 │      670    914982  FAM POT ML            M                       4.\n",
       " 645208 │      670    922255  10P CEL FST           M                      39. ⋯\n",
       " 645209 │      670    922202  2P CKN+SJ-R           M                       0.\n",
       "\u001b[36m                                               6 columns and 645187 rows omitted\u001b[0m"
      ]
     },
     "execution_count": 5,
     "metadata": {},
     "output_type": "execute_result"
    }
   ],
   "source": [
    "df = groupby(df,:daypart)"
   ]
  },
  {
   "cell_type": "code",
   "execution_count": 6,
   "metadata": {},
   "outputs": [
    {
     "data": {
      "text/plain": [
       "remove_space (generic function with 1 method)"
      ]
     },
     "execution_count": 6,
     "metadata": {},
     "output_type": "execute_result"
    }
   ],
   "source": [
    "function remove_space(s)\n",
    "    s1 = \"\"\n",
    "    for i in 1:length(s)\n",
    "        if(!isspace(s[i]))\n",
    "            s1 = s1 * s[i]\n",
    "        end\n",
    "    end\n",
    "    return s1\n",
    "end"
   ]
  },
  {
   "cell_type": "code",
   "execution_count": 7,
   "metadata": {},
   "outputs": [
    {
     "data": {
      "text/plain": [
       "cluster_dict (generic function with 1 method)"
      ]
     },
     "execution_count": 7,
     "metadata": {},
     "output_type": "execute_result"
    }
   ],
   "source": [
    "function cluster_dict(daypart)\n",
    "    filename = daypart * \"_Clusters.csv\"\n",
    "    df1 = DataFrame(CSV.File(filename))\n",
    "    dict = Dict()\n",
    "    for i in 1:size(df1,1)\n",
    "        dict[df1.store_transaction_key[i]] = df1.cluster[i]\n",
    "    end\n",
    "    return dict\n",
    "end"
   ]
  },
  {
   "cell_type": "code",
   "execution_count": 8,
   "metadata": {},
   "outputs": [
    {
     "data": {
      "text/plain": [
       "word_dict (generic function with 1 method)"
      ]
     },
     "execution_count": 8,
     "metadata": {},
     "output_type": "execute_result"
    }
   ],
   "source": [
    "function word_dict()\n",
    "    dict = Dict()\n",
    "    model = wordvectors(\"text-vec.txt\")\n",
    "    words = vocabulary(model)\n",
    "    for i in 1:length(words)\n",
    "        dict[words[i]] = i\n",
    "    end\n",
    "    return dict\n",
    "end"
   ]
  },
  {
   "cell_type": "code",
   "execution_count": 11,
   "metadata": {},
   "outputs": [
    {
     "data": {
      "text/plain": [
       "compute_freq (generic function with 1 method)"
      ]
     },
     "execution_count": 11,
     "metadata": {},
     "output_type": "execute_result"
    }
   ],
   "source": [
    "function compute_freq(grp)\n",
    "    dict_cluster = cluster_dict(grp.daypart[1])\n",
    "    arr_cluster = []\n",
    "    for i in 1:size(grp,1)\n",
    "        push!(arr_cluster,dict_cluster[grp.store_transaction_key[i]])\n",
    "    end\n",
    "    df_new = DataFrame(item_description = grp.item_description , cluster = arr_cluster)\n",
    "    g_clus = groupby(df_new,:cluster)\n",
    "    dict_word = word_dict()\n",
    "    model = wordvectors(\"text-vec.txt\")\n",
    "    words = vocabulary(model)\n",
    "    for i in 1:length(g_clus)\n",
    "        freq = zeros(length(words))\n",
    "        g_item = groupby(g_clus[i],:item_description)\n",
    "        #println(length(g_item))\n",
    "        for j in 1:length(g_item)\n",
    "            item = remove_space(g_item[j].item_description[1])\n",
    "            freq[dict_word[item]] = size(g_item[j],1)\n",
    "        end\n",
    "        df_temp = DataFrame(Words = words , Frequency = freq )\n",
    "        filename = grp.daypart[1] * \"_Cluster-\" * string(g_clus[i].cluster[1]) * \"_Word_Frequency.csv\"\n",
    "        #println(filename)\n",
    "        CSV.write(filename,df_temp)\n",
    "    end\n",
    "end"
   ]
  },
  {
   "cell_type": "code",
   "execution_count": 14,
   "metadata": {
    "scrolled": true
   },
   "outputs": [
    {
     "name": "stdout",
     "output_type": "stream",
     "text": [
      "1061\n",
      "Breakfast_Weekday_Cluster-1_Word_Frequency.csv\n",
      "280\n",
      "Breakfast_Weekday_Cluster-2_Word_Frequency.csv\n",
      "402\n",
      "Lunch_Weekday_Cluster-3_Word_Frequency.csv\n",
      "808\n",
      "Lunch_Weekday_Cluster-5_Word_Frequency.csv\n",
      "289\n",
      "Lunch_Weekday_Cluster-4_Word_Frequency.csv\n",
      "744\n",
      "Lunch_Weekday_Cluster-2_Word_Frequency.csv\n",
      "560\n",
      "Lunch_Weekday_Cluster-1_Word_Frequency.csv\n",
      "701\n",
      "Lunch_Weekday_Cluster-6_Word_Frequency.csv\n",
      "1063\n",
      "Dinner_Weekday_Cluster-2_Word_Frequency.csv\n",
      "803\n",
      "Dinner_Weekday_Cluster-3_Word_Frequency.csv\n",
      "321\n",
      "Dinner_Weekday_Cluster-1_Word_Frequency.csv\n",
      "902\n",
      "Dinner_Weekend_Cluster-1_Word_Frequency.csv\n",
      "467\n",
      "Dinner_Weekend_Cluster-3_Word_Frequency.csv\n",
      "187\n",
      "Dinner_Weekend_Cluster-2_Word_Frequency.csv\n",
      "1021\n",
      "Breakfast_Weekend_Cluster-1.0_Word_Frequency.csv\n",
      "951\n",
      "Lunch_Weekend_Cluster-2_Word_Frequency.csv\n",
      "715\n",
      "Lunch_Weekend_Cluster-4_Word_Frequency.csv\n",
      "300\n",
      "Lunch_Weekend_Cluster-3_Word_Frequency.csv\n",
      "124\n",
      "Lunch_Weekend_Cluster-1_Word_Frequency.csv\n"
     ]
    }
   ],
   "source": [
    "for i in 1:length(df)\n",
    "    compute_freq(df[i])\n",
    "end"
   ]
  },
  {
   "cell_type": "markdown",
   "metadata": {},
   "source": [
    "## sales_channel_preprocessing"
   ]
  },
  {
   "cell_type": "code",
   "execution_count": 3,
   "metadata": {
    "scrolled": true
   },
   "outputs": [
    {
     "data": {
      "text/html": [
       "<table class=\"data-frame\"><thead><tr><th></th><th>storenum</th><th>item_key</th><th>item_description</th><th>transaction_type</th><th>sales_amount</th><th>sales_channel</th></tr><tr><th></th><th>Int64</th><th>Int64</th><th>String</th><th>String</th><th>Float64</th><th>String</th></tr></thead><tbody><p>6,859,688 rows × 10 columns (omitted printing of 4 columns)</p><tr><th>1</th><td>502</td><td>916755</td><td>D-10P CKN BKT</td><td>M</td><td>26.9159</td><td>Online-Delivery</td></tr><tr><th>2</th><td>502</td><td>710033</td><td>DEL SURCHARGE</td><td>M</td><td>3.7383</td><td>Online-Delivery</td></tr><tr><th>3</th><td>502</td><td>1</td><td>D-CASH</td><td>T</td><td>30.6542</td><td>Online-Delivery</td></tr><tr><th>4</th><td>502</td><td>700103</td><td>D-3PC ML(OR)</td><td>M</td><td>58.4112</td><td>Phone-Delivery</td></tr><tr><th>5</th><td>502</td><td>710033</td><td>DEL SURCHARGE</td><td>M</td><td>3.7383</td><td>Phone-Delivery</td></tr><tr><th>6</th><td>502</td><td>1</td><td>D-CASH</td><td>T</td><td>62.1495</td><td>Phone-Delivery</td></tr><tr><th>7</th><td>502</td><td>710009</td><td>D-ZINGER</td><td>M</td><td>10.9346</td><td>Phone-Delivery</td></tr><tr><th>8</th><td>502</td><td>700103</td><td>D-3PC ML(OR)</td><td>M</td><td>46.729</td><td>Phone-Delivery</td></tr><tr><th>9</th><td>502</td><td>710033</td><td>DEL SURCHARGE</td><td>M</td><td>3.7383</td><td>Phone-Delivery</td></tr><tr><th>10</th><td>502</td><td>1</td><td>D-CASH</td><td>T</td><td>61.4019</td><td>Phone-Delivery</td></tr><tr><th>11</th><td>502</td><td>922023</td><td>D-10 FOR $10</td><td>M</td><td>9.3458</td><td>Online-Delivery</td></tr><tr><th>12</th><td>502</td><td>913618</td><td>D-10P CKN 2-5PM</td><td>M</td><td>16.8224</td><td>Online-Delivery</td></tr><tr><th>13</th><td>502</td><td>710033</td><td>DEL SURCHARGE</td><td>M</td><td>3.7383</td><td>Online-Delivery</td></tr><tr><th>14</th><td>502</td><td>3</td><td>D-DBS Paylah</td><td>T</td><td>29.9065</td><td>Online-Delivery</td></tr><tr><th>15</th><td>502</td><td>916137</td><td>D-FM POT BWL</td><td>M</td><td>5.0</td><td>Online-Delivery</td></tr><tr><th>16</th><td>502</td><td>710018</td><td>D-C/SL MED</td><td>M</td><td>3.4579</td><td>Online-Delivery</td></tr><tr><th>17</th><td>502</td><td>710021</td><td>D-W/PT MED</td><td>M</td><td>3.4579</td><td>Online-Delivery</td></tr><tr><th>18</th><td>502</td><td>919893</td><td>D-8P FOR $15</td><td>M</td><td>14.0187</td><td>Online-Delivery</td></tr><tr><th>19</th><td>502</td><td>710033</td><td>DEL SURCHARGE</td><td>M</td><td>3.7383</td><td>Online-Delivery</td></tr><tr><th>20</th><td>502</td><td>8</td><td>D-eNETS CREDIT</td><td>T</td><td>29.6729</td><td>Online-Delivery</td></tr><tr><th>21</th><td>502</td><td>913961</td><td>D-8P VRTY FEAST</td><td>M</td><td>38.271</td><td>Online-Delivery</td></tr><tr><th>22</th><td>502</td><td>710033</td><td>DEL SURCHARGE</td><td>M</td><td>3.7383</td><td>Online-Delivery</td></tr><tr><th>23</th><td>502</td><td>8</td><td>D-eNETS CREDIT</td><td>T</td><td>42.0093</td><td>Online-Delivery</td></tr><tr><th>24</th><td>502</td><td>921466</td><td>D-2P CKN BX</td><td>M</td><td>39.2523</td><td>Online-Delivery</td></tr><tr><th>25</th><td>502</td><td>921466</td><td>D-2P CKN BX</td><td>M</td><td>39.2523</td><td>Online-Delivery</td></tr><tr><th>26</th><td>502</td><td>921466</td><td>D-2P CKN BX</td><td>M</td><td>29.4393</td><td>Online-Delivery</td></tr><tr><th>27</th><td>502</td><td>710033</td><td>DEL SURCHARGE</td><td>M</td><td>3.7383</td><td>Online-Delivery</td></tr><tr><th>28</th><td>502</td><td>8</td><td>D-eNETS CREDIT</td><td>T</td><td>111.682</td><td>Online-Delivery</td></tr><tr><th>29</th><td>502</td><td>913299</td><td>D-AO 2 CHZ FRIES-APP</td><td>M</td><td>5.6075</td><td>Online-Delivery</td></tr><tr><th>30</th><td>502</td><td>922023</td><td>D-10 FOR $10</td><td>M</td><td>9.3458</td><td>Online-Delivery</td></tr><tr><th>&vellip;</th><td>&vellip;</td><td>&vellip;</td><td>&vellip;</td><td>&vellip;</td><td>&vellip;</td><td>&vellip;</td></tr></tbody></table>"
      ],
      "text/latex": [
       "\\begin{tabular}{r|ccccccc}\n",
       "\t& storenum & item\\_key & item\\_description & transaction\\_type & sales\\_amount & sales\\_channel & \\\\\n",
       "\t\\hline\n",
       "\t& Int64 & Int64 & String & String & Float64 & String & \\\\\n",
       "\t\\hline\n",
       "\t1 & 502 & 916755 & D-10P CKN BKT & M & 26.9159 & Online-Delivery & $\\dots$ \\\\\n",
       "\t2 & 502 & 710033 & DEL SURCHARGE & M & 3.7383 & Online-Delivery & $\\dots$ \\\\\n",
       "\t3 & 502 & 1 & D-CASH & T & 30.6542 & Online-Delivery & $\\dots$ \\\\\n",
       "\t4 & 502 & 700103 & D-3PC ML(OR) & M & 58.4112 & Phone-Delivery & $\\dots$ \\\\\n",
       "\t5 & 502 & 710033 & DEL SURCHARGE & M & 3.7383 & Phone-Delivery & $\\dots$ \\\\\n",
       "\t6 & 502 & 1 & D-CASH & T & 62.1495 & Phone-Delivery & $\\dots$ \\\\\n",
       "\t7 & 502 & 710009 & D-ZINGER & M & 10.9346 & Phone-Delivery & $\\dots$ \\\\\n",
       "\t8 & 502 & 700103 & D-3PC ML(OR) & M & 46.729 & Phone-Delivery & $\\dots$ \\\\\n",
       "\t9 & 502 & 710033 & DEL SURCHARGE & M & 3.7383 & Phone-Delivery & $\\dots$ \\\\\n",
       "\t10 & 502 & 1 & D-CASH & T & 61.4019 & Phone-Delivery & $\\dots$ \\\\\n",
       "\t11 & 502 & 922023 & D-10 FOR \\$10 & M & 9.3458 & Online-Delivery & $\\dots$ \\\\\n",
       "\t12 & 502 & 913618 & D-10P CKN 2-5PM & M & 16.8224 & Online-Delivery & $\\dots$ \\\\\n",
       "\t13 & 502 & 710033 & DEL SURCHARGE & M & 3.7383 & Online-Delivery & $\\dots$ \\\\\n",
       "\t14 & 502 & 3 & D-DBS Paylah & T & 29.9065 & Online-Delivery & $\\dots$ \\\\\n",
       "\t15 & 502 & 916137 & D-FM POT BWL & M & 5.0 & Online-Delivery & $\\dots$ \\\\\n",
       "\t16 & 502 & 710018 & D-C/SL MED & M & 3.4579 & Online-Delivery & $\\dots$ \\\\\n",
       "\t17 & 502 & 710021 & D-W/PT MED & M & 3.4579 & Online-Delivery & $\\dots$ \\\\\n",
       "\t18 & 502 & 919893 & D-8P FOR \\$15 & M & 14.0187 & Online-Delivery & $\\dots$ \\\\\n",
       "\t19 & 502 & 710033 & DEL SURCHARGE & M & 3.7383 & Online-Delivery & $\\dots$ \\\\\n",
       "\t20 & 502 & 8 & D-eNETS CREDIT & T & 29.6729 & Online-Delivery & $\\dots$ \\\\\n",
       "\t21 & 502 & 913961 & D-8P VRTY FEAST & M & 38.271 & Online-Delivery & $\\dots$ \\\\\n",
       "\t22 & 502 & 710033 & DEL SURCHARGE & M & 3.7383 & Online-Delivery & $\\dots$ \\\\\n",
       "\t23 & 502 & 8 & D-eNETS CREDIT & T & 42.0093 & Online-Delivery & $\\dots$ \\\\\n",
       "\t24 & 502 & 921466 & D-2P CKN BX & M & 39.2523 & Online-Delivery & $\\dots$ \\\\\n",
       "\t25 & 502 & 921466 & D-2P CKN BX & M & 39.2523 & Online-Delivery & $\\dots$ \\\\\n",
       "\t26 & 502 & 921466 & D-2P CKN BX & M & 29.4393 & Online-Delivery & $\\dots$ \\\\\n",
       "\t27 & 502 & 710033 & DEL SURCHARGE & M & 3.7383 & Online-Delivery & $\\dots$ \\\\\n",
       "\t28 & 502 & 8 & D-eNETS CREDIT & T & 111.682 & Online-Delivery & $\\dots$ \\\\\n",
       "\t29 & 502 & 913299 & D-AO 2 CHZ FRIES-APP & M & 5.6075 & Online-Delivery & $\\dots$ \\\\\n",
       "\t30 & 502 & 922023 & D-10 FOR \\$10 & M & 9.3458 & Online-Delivery & $\\dots$ \\\\\n",
       "\t$\\dots$ & $\\dots$ & $\\dots$ & $\\dots$ & $\\dots$ & $\\dots$ & $\\dots$ &  \\\\\n",
       "\\end{tabular}\n"
      ],
      "text/plain": [
       "\u001b[1m6859688×10 DataFrame\u001b[0m\n",
       "\u001b[1m     Row \u001b[0m│\u001b[1m storenum \u001b[0m\u001b[1m item_key \u001b[0m\u001b[1m item_description \u001b[0m\u001b[1m transaction_type \u001b[0m\u001b[1m sales_amoun\u001b[0m ⋯\n",
       "\u001b[1m         \u001b[0m│\u001b[90m Int64    \u001b[0m\u001b[90m Int64    \u001b[0m\u001b[90m String           \u001b[0m\u001b[90m String           \u001b[0m\u001b[90m Float64    \u001b[0m ⋯\n",
       "─────────┼──────────────────────────────────────────────────────────────────────\n",
       "       1 │      502    916755  D-10P CKN BKT     M                    26.9159  ⋯\n",
       "       2 │      502    710033  DEL SURCHARGE     M                     3.7383\n",
       "       3 │      502         1  D-CASH            T                    30.6542\n",
       "       4 │      502    700103  D-3PC ML(OR)      M                    58.4112\n",
       "       5 │      502    710033  DEL SURCHARGE     M                     3.7383  ⋯\n",
       "       6 │      502         1  D-CASH            T                    62.1495\n",
       "       7 │      502    710009  D-ZINGER          M                    10.9346\n",
       "       8 │      502    700103  D-3PC ML(OR)      M                    46.729\n",
       "       9 │      502    710033  DEL SURCHARGE     M                     3.7383  ⋯\n",
       "      10 │      502         1  D-CASH            T                    61.4019\n",
       "      11 │      502    922023  D-10 FOR $10      M                     9.3458\n",
       "    ⋮    │    ⋮         ⋮             ⋮                 ⋮               ⋮      ⋱\n",
       " 6859679 │      670    922110  2P(TG) ML         M                     8.3645\n",
       " 6859680 │      670    450011  RWP>CF            M                     2.0561  ⋯\n",
       " 6859681 │      670    914357  1P EGG TART       M                     1.215\n",
       " 6859682 │      670         8  D-eNETS CREDIT    T                    11.6355\n",
       " 6859683 │      670    912781  1 OR ZNG BX       M                     8.5514\n",
       " 6859684 │      670    450046  RFF>CFRIES        M                     1.8692  ⋯\n",
       " 6859685 │      670    914357  1P EGG TART       M                     1.215\n",
       " 6859686 │      670         8  D-eNETS CREDIT    T                    11.6355\n",
       " 6859687 │      670    921046  5P ACB 30%        M                     9.6262\n",
       " 6859688 │      670        15  DI-DBS PAYLAH     T                     9.62617 ⋯\n",
       "\u001b[36m                                              6 columns and 6859667 rows omitted\u001b[0m"
      ]
     },
     "execution_count": 3,
     "metadata": {},
     "output_type": "execute_result"
    }
   ],
   "source": [
    "df = DataFrame(CSV.File(\"Dataset1.csv\"))"
   ]
  },
  {
   "cell_type": "code",
   "execution_count": 4,
   "metadata": {},
   "outputs": [
    {
     "data": {
      "text/html": [
       "<p><b>GroupedDataFrame with 3 groups based on key: transaction_type</b></p><p><i>First Group (5214325 rows): transaction_type = \"M\"</i></p><table class=\"data-frame\"><thead><tr><th></th><th>storenum</th><th>item_key</th><th>item_description</th><th>transaction_type</th><th>sales_amount</th><th>sales_channel</th></tr><tr><th></th><th>Int64</th><th>Int64</th><th>String</th><th>String</th><th>Float64</th><th>String</th></tr></thead><tbody><tr><th>1</th><td>502</td><td>916755</td><td>D-10P CKN BKT</td><td>M</td><td>26.9159</td><td>Online-Delivery</td></tr><tr><th>2</th><td>502</td><td>710033</td><td>DEL SURCHARGE</td><td>M</td><td>3.7383</td><td>Online-Delivery</td></tr><tr><th>3</th><td>502</td><td>700103</td><td>D-3PC ML(OR)</td><td>M</td><td>58.4112</td><td>Phone-Delivery</td></tr><tr><th>4</th><td>502</td><td>710033</td><td>DEL SURCHARGE</td><td>M</td><td>3.7383</td><td>Phone-Delivery</td></tr><tr><th>5</th><td>502</td><td>710009</td><td>D-ZINGER</td><td>M</td><td>10.9346</td><td>Phone-Delivery</td></tr><tr><th>6</th><td>502</td><td>700103</td><td>D-3PC ML(OR)</td><td>M</td><td>46.729</td><td>Phone-Delivery</td></tr><tr><th>7</th><td>502</td><td>710033</td><td>DEL SURCHARGE</td><td>M</td><td>3.7383</td><td>Phone-Delivery</td></tr><tr><th>8</th><td>502</td><td>922023</td><td>D-10 FOR $10</td><td>M</td><td>9.3458</td><td>Online-Delivery</td></tr><tr><th>9</th><td>502</td><td>913618</td><td>D-10P CKN 2-5PM</td><td>M</td><td>16.8224</td><td>Online-Delivery</td></tr><tr><th>10</th><td>502</td><td>710033</td><td>DEL SURCHARGE</td><td>M</td><td>3.7383</td><td>Online-Delivery</td></tr><tr><th>11</th><td>502</td><td>916137</td><td>D-FM POT BWL</td><td>M</td><td>5.0</td><td>Online-Delivery</td></tr><tr><th>12</th><td>502</td><td>710018</td><td>D-C/SL MED</td><td>M</td><td>3.4579</td><td>Online-Delivery</td></tr><tr><th>13</th><td>502</td><td>710021</td><td>D-W/PT MED</td><td>M</td><td>3.4579</td><td>Online-Delivery</td></tr><tr><th>14</th><td>502</td><td>919893</td><td>D-8P FOR $15</td><td>M</td><td>14.0187</td><td>Online-Delivery</td></tr><tr><th>15</th><td>502</td><td>710033</td><td>DEL SURCHARGE</td><td>M</td><td>3.7383</td><td>Online-Delivery</td></tr><tr><th>16</th><td>502</td><td>913961</td><td>D-8P VRTY FEAST</td><td>M</td><td>38.271</td><td>Online-Delivery</td></tr><tr><th>17</th><td>502</td><td>710033</td><td>DEL SURCHARGE</td><td>M</td><td>3.7383</td><td>Online-Delivery</td></tr><tr><th>18</th><td>502</td><td>921466</td><td>D-2P CKN BX</td><td>M</td><td>39.2523</td><td>Online-Delivery</td></tr><tr><th>19</th><td>502</td><td>921466</td><td>D-2P CKN BX</td><td>M</td><td>39.2523</td><td>Online-Delivery</td></tr><tr><th>20</th><td>502</td><td>921466</td><td>D-2P CKN BX</td><td>M</td><td>29.4393</td><td>Online-Delivery</td></tr><tr><th>21</th><td>502</td><td>710033</td><td>DEL SURCHARGE</td><td>M</td><td>3.7383</td><td>Online-Delivery</td></tr><tr><th>22</th><td>502</td><td>913299</td><td>D-AO 2 CHZ FRIES-APP</td><td>M</td><td>5.6075</td><td>Online-Delivery</td></tr><tr><th>23</th><td>502</td><td>922023</td><td>D-10 FOR $10</td><td>M</td><td>9.3458</td><td>Online-Delivery</td></tr><tr><th>24</th><td>502</td><td>710033</td><td>DEL SURCHARGE</td><td>M</td><td>3.7383</td><td>Online-Delivery</td></tr><tr><th>25</th><td>502</td><td>921474</td><td>D-ZNGBX+2P CKN BX</td><td>M</td><td>15.1402</td><td>Online-Delivery</td></tr><tr><th>26</th><td>502</td><td>916131</td><td>D-1P CRY BWL ML</td><td>M</td><td>7.9907</td><td>Online-Delivery</td></tr><tr><th>27</th><td>502</td><td>912754</td><td>D-1P ZNG BOX</td><td>M</td><td>10.2336</td><td>Online-Delivery</td></tr><tr><th>28</th><td>502</td><td>710033</td><td>DEL SURCHARGE</td><td>M</td><td>3.7383</td><td>Online-Delivery</td></tr><tr><th>29</th><td>502</td><td>916759</td><td>D-ALA SNACK N SHARE BX  </td><td>M</td><td>12.1028</td><td>Online-Delivery</td></tr><tr><th>30</th><td>502</td><td>922023</td><td>D-10 FOR $10</td><td>M</td><td>9.3458</td><td>Online-Delivery</td></tr><tr><th>&vellip;</th><td>&vellip;</td><td>&vellip;</td><td>&vellip;</td><td>&vellip;</td><td>&vellip;</td><td>&vellip;</td></tr></tbody></table><p>&vellip;</p><p><i>Last Group (12833 rows): transaction_type = \"D\"</i></p><table class=\"data-frame\"><thead><tr><th></th><th>storenum</th><th>item_key</th><th>item_description</th><th>transaction_type</th><th>sales_amount</th><th>sales_channel</th></tr><tr><th></th><th>Int64</th><th>Int64</th><th>String</th><th>String</th><th>Float64</th><th>String</th></tr></thead><tbody><tr><th>1</th><td>502</td><td>2000</td><td>25% EMP DISC</td><td>D</td><td>-1.9626</td><td>Drive-Thru</td></tr><tr><th>2</th><td>502</td><td>3007</td><td>$1-OFF(PAssion)</td><td>D</td><td>-0.9346</td><td>Eat In (EI)</td></tr><tr><th>3</th><td>502</td><td>8027</td><td>10% OFF GES DEAL</td><td>D</td><td>-1.8131</td><td>Eat In (EI)</td></tr><tr><th>4</th><td>502</td><td>3007</td><td>$1-OFF(PAssion)</td><td>D</td><td>-0.9346</td><td>Take Away (TA)</td></tr><tr><th>5</th><td>504</td><td>3007</td><td>$1-OFF(PAssion)</td><td>D</td><td>-0.9346</td><td>Eat In (EI)</td></tr><tr><th>6</th><td>504</td><td>3007</td><td>$1-OFF(PAssion)</td><td>D</td><td>-0.9346</td><td>Eat In (EI)</td></tr><tr><th>7</th><td>504</td><td>3007</td><td>$1-OFF(PAssion)</td><td>D</td><td>0.9346</td><td>Eat In (EI)</td></tr><tr><th>8</th><td>504</td><td>3007</td><td>$1-OFF(PAssion)</td><td>D</td><td>-0.9346</td><td>Eat In (EI)</td></tr><tr><th>9</th><td>504</td><td>5010</td><td>10% OFF(LSM)</td><td>D</td><td>-0.9438</td><td>Eat In (EI)</td></tr><tr><th>10</th><td>504</td><td>8027</td><td>10% OFF GES DEAL</td><td>D</td><td>-2.243</td><td>Take Away (TA)</td></tr><tr><th>11</th><td>505</td><td>5016</td><td>10% OFF xFOOD PANDA</td><td>D</td><td>-1.0751</td><td>Eat In (EI)</td></tr><tr><th>12</th><td>505</td><td>5016</td><td>10% OFF xFOOD PANDA</td><td>D</td><td>-0.9813</td><td>Take Away (TA)</td></tr><tr><th>13</th><td>505</td><td>5010</td><td>10% OFF(LSM)</td><td>D</td><td>-0.7851</td><td>Drive-Thru</td></tr><tr><th>14</th><td>505</td><td>5010</td><td>10% OFF(LSM)</td><td>D</td><td>0.7851</td><td>Drive-Thru</td></tr><tr><th>15</th><td>505</td><td>3007</td><td>$1-OFF(PAssion)</td><td>D</td><td>-0.9346</td><td>Eat In (EI)</td></tr><tr><th>16</th><td>506</td><td>5016</td><td>10% OFF xFOOD PANDA</td><td>D</td><td>-0.5517</td><td>Breakfast (BF)</td></tr><tr><th>17</th><td>506</td><td>5016</td><td>10% OFF xFOOD PANDA</td><td>D</td><td>-0.4019</td><td>Breakfast (BF)</td></tr><tr><th>18</th><td>506</td><td>3007</td><td>$1-OFF(PAssion)</td><td>D</td><td>-0.9346</td><td>Eat In (EI)</td></tr><tr><th>19</th><td>506</td><td>3007</td><td>$1-OFF(PAssion)</td><td>D</td><td>-0.9346</td><td>Eat In (EI)</td></tr><tr><th>20</th><td>506</td><td>2000</td><td>25% EMP DISC</td><td>D</td><td>-3.6075</td><td>Eat In (EI)</td></tr><tr><th>21</th><td>506</td><td>3007</td><td>$1-OFF(PAssion)</td><td>D</td><td>-0.9346</td><td>Take Away (TA)</td></tr><tr><th>22</th><td>506</td><td>3007</td><td>$1-OFF(PAssion)</td><td>D</td><td>-0.9346</td><td>Eat In (EI)</td></tr><tr><th>23</th><td>506</td><td>3007</td><td>$1-OFF(PAssion)</td><td>D</td><td>-0.9346</td><td>Take Away (TA)</td></tr><tr><th>24</th><td>506</td><td>3007</td><td>$1-OFF(PAssion)</td><td>D</td><td>-0.9304</td><td>Take Away (TA)</td></tr><tr><th>25</th><td>506</td><td>5016</td><td>10% OFF xFOOD PANDA</td><td>D</td><td>-0.9816</td><td>Take Away (TA)</td></tr><tr><th>26</th><td>506</td><td>8027</td><td>10% OFF GES DEAL</td><td>D</td><td>-0.9346</td><td>Take Away (TA)</td></tr><tr><th>27</th><td>506</td><td>3007</td><td>$1-OFF(PAssion)</td><td>D</td><td>-0.9346</td><td>Eat In (EI)</td></tr><tr><th>28</th><td>506</td><td>3007</td><td>$1-OFF(PAssion)</td><td>D</td><td>-0.9346</td><td>Eat In (EI)</td></tr><tr><th>29</th><td>506</td><td>3007</td><td>$1-OFF(PAssion)</td><td>D</td><td>-0.9346</td><td>Take Away (TA)</td></tr><tr><th>30</th><td>506</td><td>8027</td><td>10% OFF GES DEAL</td><td>D</td><td>-0.9719</td><td>Take Away (TA)</td></tr><tr><th>&vellip;</th><td>&vellip;</td><td>&vellip;</td><td>&vellip;</td><td>&vellip;</td><td>&vellip;</td><td>&vellip;</td></tr></tbody></table>"
      ],
      "text/latex": [
       "GroupedDataFrame with 3 groups based on key: transaction\\_type\n",
       "\n",
       "First Group (5214325 rows): transaction\\_type = \"M\"\n",
       "\n",
       "\\begin{tabular}{r|ccccccc}\n",
       "\t& storenum & item\\_key & item\\_description & transaction\\_type & sales\\_amount & sales\\_channel & \\\\\n",
       "\t\\hline\n",
       "\t& Int64 & Int64 & String & String & Float64 & String & \\\\\n",
       "\t\\hline\n",
       "\t1 & 502 & 916755 & D-10P CKN BKT & M & 26.9159 & Online-Delivery & $\\dots$ \\\\\n",
       "\t2 & 502 & 710033 & DEL SURCHARGE & M & 3.7383 & Online-Delivery & $\\dots$ \\\\\n",
       "\t3 & 502 & 700103 & D-3PC ML(OR) & M & 58.4112 & Phone-Delivery & $\\dots$ \\\\\n",
       "\t4 & 502 & 710033 & DEL SURCHARGE & M & 3.7383 & Phone-Delivery & $\\dots$ \\\\\n",
       "\t5 & 502 & 710009 & D-ZINGER & M & 10.9346 & Phone-Delivery & $\\dots$ \\\\\n",
       "\t6 & 502 & 700103 & D-3PC ML(OR) & M & 46.729 & Phone-Delivery & $\\dots$ \\\\\n",
       "\t7 & 502 & 710033 & DEL SURCHARGE & M & 3.7383 & Phone-Delivery & $\\dots$ \\\\\n",
       "\t8 & 502 & 922023 & D-10 FOR \\$10 & M & 9.3458 & Online-Delivery & $\\dots$ \\\\\n",
       "\t9 & 502 & 913618 & D-10P CKN 2-5PM & M & 16.8224 & Online-Delivery & $\\dots$ \\\\\n",
       "\t10 & 502 & 710033 & DEL SURCHARGE & M & 3.7383 & Online-Delivery & $\\dots$ \\\\\n",
       "\t11 & 502 & 916137 & D-FM POT BWL & M & 5.0 & Online-Delivery & $\\dots$ \\\\\n",
       "\t12 & 502 & 710018 & D-C/SL MED & M & 3.4579 & Online-Delivery & $\\dots$ \\\\\n",
       "\t13 & 502 & 710021 & D-W/PT MED & M & 3.4579 & Online-Delivery & $\\dots$ \\\\\n",
       "\t14 & 502 & 919893 & D-8P FOR \\$15 & M & 14.0187 & Online-Delivery & $\\dots$ \\\\\n",
       "\t15 & 502 & 710033 & DEL SURCHARGE & M & 3.7383 & Online-Delivery & $\\dots$ \\\\\n",
       "\t16 & 502 & 913961 & D-8P VRTY FEAST & M & 38.271 & Online-Delivery & $\\dots$ \\\\\n",
       "\t17 & 502 & 710033 & DEL SURCHARGE & M & 3.7383 & Online-Delivery & $\\dots$ \\\\\n",
       "\t18 & 502 & 921466 & D-2P CKN BX & M & 39.2523 & Online-Delivery & $\\dots$ \\\\\n",
       "\t19 & 502 & 921466 & D-2P CKN BX & M & 39.2523 & Online-Delivery & $\\dots$ \\\\\n",
       "\t20 & 502 & 921466 & D-2P CKN BX & M & 29.4393 & Online-Delivery & $\\dots$ \\\\\n",
       "\t21 & 502 & 710033 & DEL SURCHARGE & M & 3.7383 & Online-Delivery & $\\dots$ \\\\\n",
       "\t22 & 502 & 913299 & D-AO 2 CHZ FRIES-APP & M & 5.6075 & Online-Delivery & $\\dots$ \\\\\n",
       "\t23 & 502 & 922023 & D-10 FOR \\$10 & M & 9.3458 & Online-Delivery & $\\dots$ \\\\\n",
       "\t24 & 502 & 710033 & DEL SURCHARGE & M & 3.7383 & Online-Delivery & $\\dots$ \\\\\n",
       "\t25 & 502 & 921474 & D-ZNGBX+2P CKN BX & M & 15.1402 & Online-Delivery & $\\dots$ \\\\\n",
       "\t26 & 502 & 916131 & D-1P CRY BWL ML & M & 7.9907 & Online-Delivery & $\\dots$ \\\\\n",
       "\t27 & 502 & 912754 & D-1P ZNG BOX & M & 10.2336 & Online-Delivery & $\\dots$ \\\\\n",
       "\t28 & 502 & 710033 & DEL SURCHARGE & M & 3.7383 & Online-Delivery & $\\dots$ \\\\\n",
       "\t29 & 502 & 916759 & D-ALA SNACK N SHARE BX   & M & 12.1028 & Online-Delivery & $\\dots$ \\\\\n",
       "\t30 & 502 & 922023 & D-10 FOR \\$10 & M & 9.3458 & Online-Delivery & $\\dots$ \\\\\n",
       "\t$\\dots$ & $\\dots$ & $\\dots$ & $\\dots$ & $\\dots$ & $\\dots$ & $\\dots$ &  \\\\\n",
       "\\end{tabular}\n",
       "\n",
       "$\\dots$\n",
       "\n",
       "Last Group (12833 rows): transaction\\_type = \"D\"\n",
       "\n",
       "\\begin{tabular}{r|ccccccc}\n",
       "\t& storenum & item\\_key & item\\_description & transaction\\_type & sales\\_amount & sales\\_channel & \\\\\n",
       "\t\\hline\n",
       "\t& Int64 & Int64 & String & String & Float64 & String & \\\\\n",
       "\t\\hline\n",
       "\t1 & 502 & 2000 & 25\\% EMP DISC & D & -1.9626 & Drive-Thru & $\\dots$ \\\\\n",
       "\t2 & 502 & 3007 & \\$1-OFF(PAssion) & D & -0.9346 & Eat In (EI) & $\\dots$ \\\\\n",
       "\t3 & 502 & 8027 & 10\\% OFF GES DEAL & D & -1.8131 & Eat In (EI) & $\\dots$ \\\\\n",
       "\t4 & 502 & 3007 & \\$1-OFF(PAssion) & D & -0.9346 & Take Away (TA) & $\\dots$ \\\\\n",
       "\t5 & 504 & 3007 & \\$1-OFF(PAssion) & D & -0.9346 & Eat In (EI) & $\\dots$ \\\\\n",
       "\t6 & 504 & 3007 & \\$1-OFF(PAssion) & D & -0.9346 & Eat In (EI) & $\\dots$ \\\\\n",
       "\t7 & 504 & 3007 & \\$1-OFF(PAssion) & D & 0.9346 & Eat In (EI) & $\\dots$ \\\\\n",
       "\t8 & 504 & 3007 & \\$1-OFF(PAssion) & D & -0.9346 & Eat In (EI) & $\\dots$ \\\\\n",
       "\t9 & 504 & 5010 & 10\\% OFF(LSM) & D & -0.9438 & Eat In (EI) & $\\dots$ \\\\\n",
       "\t10 & 504 & 8027 & 10\\% OFF GES DEAL & D & -2.243 & Take Away (TA) & $\\dots$ \\\\\n",
       "\t11 & 505 & 5016 & 10\\% OFF xFOOD PANDA & D & -1.0751 & Eat In (EI) & $\\dots$ \\\\\n",
       "\t12 & 505 & 5016 & 10\\% OFF xFOOD PANDA & D & -0.9813 & Take Away (TA) & $\\dots$ \\\\\n",
       "\t13 & 505 & 5010 & 10\\% OFF(LSM) & D & -0.7851 & Drive-Thru & $\\dots$ \\\\\n",
       "\t14 & 505 & 5010 & 10\\% OFF(LSM) & D & 0.7851 & Drive-Thru & $\\dots$ \\\\\n",
       "\t15 & 505 & 3007 & \\$1-OFF(PAssion) & D & -0.9346 & Eat In (EI) & $\\dots$ \\\\\n",
       "\t16 & 506 & 5016 & 10\\% OFF xFOOD PANDA & D & -0.5517 & Breakfast (BF) & $\\dots$ \\\\\n",
       "\t17 & 506 & 5016 & 10\\% OFF xFOOD PANDA & D & -0.4019 & Breakfast (BF) & $\\dots$ \\\\\n",
       "\t18 & 506 & 3007 & \\$1-OFF(PAssion) & D & -0.9346 & Eat In (EI) & $\\dots$ \\\\\n",
       "\t19 & 506 & 3007 & \\$1-OFF(PAssion) & D & -0.9346 & Eat In (EI) & $\\dots$ \\\\\n",
       "\t20 & 506 & 2000 & 25\\% EMP DISC & D & -3.6075 & Eat In (EI) & $\\dots$ \\\\\n",
       "\t21 & 506 & 3007 & \\$1-OFF(PAssion) & D & -0.9346 & Take Away (TA) & $\\dots$ \\\\\n",
       "\t22 & 506 & 3007 & \\$1-OFF(PAssion) & D & -0.9346 & Eat In (EI) & $\\dots$ \\\\\n",
       "\t23 & 506 & 3007 & \\$1-OFF(PAssion) & D & -0.9346 & Take Away (TA) & $\\dots$ \\\\\n",
       "\t24 & 506 & 3007 & \\$1-OFF(PAssion) & D & -0.9304 & Take Away (TA) & $\\dots$ \\\\\n",
       "\t25 & 506 & 5016 & 10\\% OFF xFOOD PANDA & D & -0.9816 & Take Away (TA) & $\\dots$ \\\\\n",
       "\t26 & 506 & 8027 & 10\\% OFF GES DEAL & D & -0.9346 & Take Away (TA) & $\\dots$ \\\\\n",
       "\t27 & 506 & 3007 & \\$1-OFF(PAssion) & D & -0.9346 & Eat In (EI) & $\\dots$ \\\\\n",
       "\t28 & 506 & 3007 & \\$1-OFF(PAssion) & D & -0.9346 & Eat In (EI) & $\\dots$ \\\\\n",
       "\t29 & 506 & 3007 & \\$1-OFF(PAssion) & D & -0.9346 & Take Away (TA) & $\\dots$ \\\\\n",
       "\t30 & 506 & 8027 & 10\\% OFF GES DEAL & D & -0.9719 & Take Away (TA) & $\\dots$ \\\\\n",
       "\t$\\dots$ & $\\dots$ & $\\dots$ & $\\dots$ & $\\dots$ & $\\dots$ & $\\dots$ &  \\\\\n",
       "\\end{tabular}\n"
      ],
      "text/plain": [
       "GroupedDataFrame with 3 groups based on key: transaction_type\n",
       "First Group (5214325 rows): transaction_type = \"M\"\n",
       "\u001b[1m     Row \u001b[0m│\u001b[1m storenum \u001b[0m\u001b[1m item_key \u001b[0m\u001b[1m item_description \u001b[0m\u001b[1m transaction_type \u001b[0m\u001b[1m sales_amoun\u001b[0m ⋯\n",
       "\u001b[1m         \u001b[0m│\u001b[90m Int64    \u001b[0m\u001b[90m Int64    \u001b[0m\u001b[90m String           \u001b[0m\u001b[90m String           \u001b[0m\u001b[90m Float64    \u001b[0m ⋯\n",
       "─────────┼──────────────────────────────────────────────────────────────────────\n",
       "       1 │      502    916755  D-10P CKN BKT     M                      26.915 ⋯\n",
       "       2 │      502    710033  DEL SURCHARGE     M                       3.738\n",
       "       3 │      502    700103  D-3PC ML(OR)      M                      58.411\n",
       "       4 │      502    710033  DEL SURCHARGE     M                       3.738\n",
       "       5 │      502    710009  D-ZINGER          M                      10.934 ⋯\n",
       "       6 │      502    700103  D-3PC ML(OR)      M                      46.729\n",
       "       7 │      502    710033  DEL SURCHARGE     M                       3.738\n",
       "       8 │      502    922023  D-10 FOR $10      M                       9.345\n",
       "       9 │      502    913618  D-10P CKN 2-5PM   M                      16.822 ⋯\n",
       "      10 │      502    710033  DEL SURCHARGE     M                       3.738\n",
       "      11 │      502    916137  D-FM POT BWL      M                       5.0\n",
       "    ⋮    │    ⋮         ⋮             ⋮                 ⋮               ⋮      ⋱\n",
       " 5214315 │      670    200006  RT BEER -M        M                       2.757\n",
       " 5214316 │      670    921046  5P ACB 30%        M                       9.626 ⋯\n",
       " 5214317 │      670    922204  ZNG+SJ-R          M                       0.934\n",
       " 5214318 │      670    921048  15P ACB 30%       M                      25.420\n",
       " 5214319 │      670    922110  2P(TG) ML         M                       8.364\n",
       " 5214320 │      670    450011  RWP>CF            M                       2.056 ⋯\n",
       " 5214321 │      670    914357  1P EGG TART       M                       1.215\n",
       " 5214322 │      670    912781  1 OR ZNG BX       M                       8.551\n",
       " 5214323 │      670    450046  RFF>CFRIES        M                       1.869\n",
       " 5214324 │      670    914357  1P EGG TART       M                       1.215 ⋯\n",
       " 5214325 │      670    921046  5P ACB 30%        M                       9.626\n",
       "\u001b[36m                                              6 columns and 5214303 rows omitted\u001b[0m\n",
       "⋮\n",
       "Last Group (12833 rows): transaction_type = \"D\"\n",
       "\u001b[1m   Row \u001b[0m│\u001b[1m storenum \u001b[0m\u001b[1m item_key \u001b[0m\u001b[1m item_description    \u001b[0m\u001b[1m transaction_type \u001b[0m\u001b[1m sales_amou\u001b[0m ⋯\n",
       "\u001b[1m       \u001b[0m│\u001b[90m Int64    \u001b[0m\u001b[90m Int64    \u001b[0m\u001b[90m String              \u001b[0m\u001b[90m String           \u001b[0m\u001b[90m Float64   \u001b[0m ⋯\n",
       "───────┼────────────────────────────────────────────────────────────────────────\n",
       "     1 │      502      2000  25% EMP DISC         D                      -1.96 ⋯\n",
       "     2 │      502      3007  $1-OFF(PAssion)      D                      -0.93\n",
       "     3 │      502      8027  10% OFF GES DEAL     D                      -1.81\n",
       "     4 │      502      3007  $1-OFF(PAssion)      D                      -0.93\n",
       "     5 │      504      3007  $1-OFF(PAssion)      D                      -0.93 ⋯\n",
       "     6 │      504      3007  $1-OFF(PAssion)      D                      -0.93\n",
       "     7 │      504      3007  $1-OFF(PAssion)      D                       0.93\n",
       "     8 │      504      3007  $1-OFF(PAssion)      D                      -0.93\n",
       "     9 │      504      5010  10% OFF(LSM)         D                      -0.94 ⋯\n",
       "    10 │      504      8027  10% OFF GES DEAL     D                      -2.24\n",
       "    11 │      505      5016  10% OFF xFOOD PANDA  D                      -1.07\n",
       "   ⋮   │    ⋮         ⋮               ⋮                  ⋮               ⋮     ⋱\n",
       " 12823 │      660      8027  10% OFF GES DEAL     D                      -0.46\n",
       " 12824 │      660      8027  10% OFF GES DEAL     D                      -1.66 ⋯\n",
       " 12825 │      664      3007  $1-OFF(PAssion)      D                      -0.93\n",
       " 12826 │      664      3007  $1-OFF(PAssion)      D                      -0.93\n",
       " 12827 │      664      8027  10% OFF GES DEAL     D                      -0.60\n",
       " 12828 │      665      3007  $1-OFF(PAssion)      D                      -0.93 ⋯\n",
       " 12829 │      665      3007  $1-OFF(PAssion)      D                      -0.93\n",
       " 12830 │      665      5010  10% OFF(LSM)         D                      -0.46\n",
       " 12831 │      666      3007  $1-OFF(PAssion)      D                      -0.93\n",
       " 12832 │      670      8027  10% OFF GES DEAL     D                      -0.78 ⋯\n",
       " 12833 │      670      8027  10% OFF GES DEAL     D                      -0.32\n",
       "\u001b[36m                                                6 columns and 12811 rows omitted\u001b[0m"
      ]
     },
     "execution_count": 4,
     "metadata": {},
     "output_type": "execute_result"
    }
   ],
   "source": [
    "grp = groupby(df,:transaction_type)"
   ]
  },
  {
   "cell_type": "code",
   "execution_count": 16,
   "metadata": {
    "scrolled": true
   },
   "outputs": [
    {
     "data": {
      "text/html": [
       "<table class=\"data-frame\"><thead><tr><th></th><th>storenum</th><th>item_key</th><th>item_description</th><th>transaction_type</th><th>sales_amount</th><th>sales_channel</th></tr><tr><th></th><th>Int64</th><th>Int64</th><th>String</th><th>String</th><th>Float64</th><th>String</th></tr></thead><tbody><p>1,632,530 rows × 10 columns (omitted printing of 4 columns)</p><tr><th>1</th><td>502</td><td>1</td><td>D-CASH</td><td>T</td><td>30.6542</td><td>Online-Delivery</td></tr><tr><th>2</th><td>502</td><td>1</td><td>D-CASH</td><td>T</td><td>62.1495</td><td>Phone-Delivery</td></tr><tr><th>3</th><td>502</td><td>1</td><td>D-CASH</td><td>T</td><td>61.4019</td><td>Phone-Delivery</td></tr><tr><th>4</th><td>502</td><td>3</td><td>D-DBS Paylah</td><td>T</td><td>29.9065</td><td>Online-Delivery</td></tr><tr><th>5</th><td>502</td><td>8</td><td>D-eNETS CREDIT</td><td>T</td><td>29.6729</td><td>Online-Delivery</td></tr><tr><th>6</th><td>502</td><td>8</td><td>D-eNETS CREDIT</td><td>T</td><td>42.0093</td><td>Online-Delivery</td></tr><tr><th>7</th><td>502</td><td>8</td><td>D-eNETS CREDIT</td><td>T</td><td>111.682</td><td>Online-Delivery</td></tr><tr><th>8</th><td>502</td><td>3</td><td>D-DBS Paylah</td><td>T</td><td>18.6916</td><td>Online-Delivery</td></tr><tr><th>9</th><td>502</td><td>3</td><td>D-DBS Paylah</td><td>T</td><td>37.1028</td><td>Online-Delivery</td></tr><tr><th>10</th><td>502</td><td>3</td><td>D-DBS Paylah</td><td>T</td><td>25.1869</td><td>Online-Delivery</td></tr><tr><th>11</th><td>502</td><td>8</td><td>D-eNETS CREDIT</td><td>T</td><td>17.0093</td><td>Online-Delivery</td></tr><tr><th>12</th><td>502</td><td>3</td><td>D-DBS Paylah</td><td>T</td><td>24.7664</td><td>Online-Delivery</td></tr><tr><th>13</th><td>502</td><td>3</td><td>D-DBS Paylah</td><td>T</td><td>18.8785</td><td>Online-Delivery</td></tr><tr><th>14</th><td>502</td><td>8</td><td>D-eNETS CREDIT</td><td>T</td><td>18.6916</td><td>Online-Delivery</td></tr><tr><th>15</th><td>502</td><td>1</td><td>D-CASH</td><td>T</td><td>183.037</td><td>Phone-Delivery</td></tr><tr><th>16</th><td>502</td><td>8</td><td>D-eNETS CREDIT</td><td>T</td><td>41.1682</td><td>Online-Delivery</td></tr><tr><th>17</th><td>502</td><td>3</td><td>D-DBS Paylah</td><td>T</td><td>34.3925</td><td>Online-Delivery</td></tr><tr><th>18</th><td>502</td><td>3</td><td>D-DBS Paylah</td><td>T</td><td>59.7196</td><td>Online-Delivery</td></tr><tr><th>19</th><td>502</td><td>8</td><td>D-eNETS CREDIT</td><td>T</td><td>26.1682</td><td>Online-Delivery</td></tr><tr><th>20</th><td>502</td><td>8</td><td>D-eNETS CREDIT</td><td>T</td><td>20.5607</td><td>Online-Delivery</td></tr><tr><th>21</th><td>502</td><td>1</td><td>D-CASH</td><td>T</td><td>18.6916</td><td>Online-Delivery</td></tr><tr><th>22</th><td>502</td><td>8</td><td>D-eNETS CREDIT</td><td>T</td><td>37.0561</td><td>Online-Delivery</td></tr><tr><th>23</th><td>502</td><td>8</td><td>D-eNETS CREDIT</td><td>T</td><td>27.243</td><td>Online-Delivery</td></tr><tr><th>24</th><td>502</td><td>1</td><td>D-CASH</td><td>T</td><td>57.1028</td><td>Online-Delivery</td></tr><tr><th>25</th><td>502</td><td>3</td><td>D-DBS Paylah</td><td>T</td><td>18.6916</td><td>Online-Delivery</td></tr><tr><th>26</th><td>502</td><td>8</td><td>D-eNETS CREDIT</td><td>T</td><td>35.7009</td><td>Online-Delivery</td></tr><tr><th>27</th><td>502</td><td>8</td><td>D-eNETS CREDIT</td><td>T</td><td>41.9159</td><td>Online-Delivery</td></tr><tr><th>28</th><td>502</td><td>8</td><td>D-eNETS CREDIT</td><td>T</td><td>30.6542</td><td>Online-Delivery</td></tr><tr><th>29</th><td>502</td><td>8</td><td>D-eNETS CREDIT</td><td>T</td><td>44.486</td><td>Online-Delivery</td></tr><tr><th>30</th><td>502</td><td>8</td><td>D-eNETS CREDIT</td><td>T</td><td>21.215</td><td>Online-Delivery</td></tr><tr><th>&vellip;</th><td>&vellip;</td><td>&vellip;</td><td>&vellip;</td><td>&vellip;</td><td>&vellip;</td><td>&vellip;</td></tr></tbody></table>"
      ],
      "text/latex": [
       "\\begin{tabular}{r|ccccccc}\n",
       "\t& storenum & item\\_key & item\\_description & transaction\\_type & sales\\_amount & sales\\_channel & \\\\\n",
       "\t\\hline\n",
       "\t& Int64 & Int64 & String & String & Float64 & String & \\\\\n",
       "\t\\hline\n",
       "\t1 & 502 & 1 & D-CASH & T & 30.6542 & Online-Delivery & $\\dots$ \\\\\n",
       "\t2 & 502 & 1 & D-CASH & T & 62.1495 & Phone-Delivery & $\\dots$ \\\\\n",
       "\t3 & 502 & 1 & D-CASH & T & 61.4019 & Phone-Delivery & $\\dots$ \\\\\n",
       "\t4 & 502 & 3 & D-DBS Paylah & T & 29.9065 & Online-Delivery & $\\dots$ \\\\\n",
       "\t5 & 502 & 8 & D-eNETS CREDIT & T & 29.6729 & Online-Delivery & $\\dots$ \\\\\n",
       "\t6 & 502 & 8 & D-eNETS CREDIT & T & 42.0093 & Online-Delivery & $\\dots$ \\\\\n",
       "\t7 & 502 & 8 & D-eNETS CREDIT & T & 111.682 & Online-Delivery & $\\dots$ \\\\\n",
       "\t8 & 502 & 3 & D-DBS Paylah & T & 18.6916 & Online-Delivery & $\\dots$ \\\\\n",
       "\t9 & 502 & 3 & D-DBS Paylah & T & 37.1028 & Online-Delivery & $\\dots$ \\\\\n",
       "\t10 & 502 & 3 & D-DBS Paylah & T & 25.1869 & Online-Delivery & $\\dots$ \\\\\n",
       "\t11 & 502 & 8 & D-eNETS CREDIT & T & 17.0093 & Online-Delivery & $\\dots$ \\\\\n",
       "\t12 & 502 & 3 & D-DBS Paylah & T & 24.7664 & Online-Delivery & $\\dots$ \\\\\n",
       "\t13 & 502 & 3 & D-DBS Paylah & T & 18.8785 & Online-Delivery & $\\dots$ \\\\\n",
       "\t14 & 502 & 8 & D-eNETS CREDIT & T & 18.6916 & Online-Delivery & $\\dots$ \\\\\n",
       "\t15 & 502 & 1 & D-CASH & T & 183.037 & Phone-Delivery & $\\dots$ \\\\\n",
       "\t16 & 502 & 8 & D-eNETS CREDIT & T & 41.1682 & Online-Delivery & $\\dots$ \\\\\n",
       "\t17 & 502 & 3 & D-DBS Paylah & T & 34.3925 & Online-Delivery & $\\dots$ \\\\\n",
       "\t18 & 502 & 3 & D-DBS Paylah & T & 59.7196 & Online-Delivery & $\\dots$ \\\\\n",
       "\t19 & 502 & 8 & D-eNETS CREDIT & T & 26.1682 & Online-Delivery & $\\dots$ \\\\\n",
       "\t20 & 502 & 8 & D-eNETS CREDIT & T & 20.5607 & Online-Delivery & $\\dots$ \\\\\n",
       "\t21 & 502 & 1 & D-CASH & T & 18.6916 & Online-Delivery & $\\dots$ \\\\\n",
       "\t22 & 502 & 8 & D-eNETS CREDIT & T & 37.0561 & Online-Delivery & $\\dots$ \\\\\n",
       "\t23 & 502 & 8 & D-eNETS CREDIT & T & 27.243 & Online-Delivery & $\\dots$ \\\\\n",
       "\t24 & 502 & 1 & D-CASH & T & 57.1028 & Online-Delivery & $\\dots$ \\\\\n",
       "\t25 & 502 & 3 & D-DBS Paylah & T & 18.6916 & Online-Delivery & $\\dots$ \\\\\n",
       "\t26 & 502 & 8 & D-eNETS CREDIT & T & 35.7009 & Online-Delivery & $\\dots$ \\\\\n",
       "\t27 & 502 & 8 & D-eNETS CREDIT & T & 41.9159 & Online-Delivery & $\\dots$ \\\\\n",
       "\t28 & 502 & 8 & D-eNETS CREDIT & T & 30.6542 & Online-Delivery & $\\dots$ \\\\\n",
       "\t29 & 502 & 8 & D-eNETS CREDIT & T & 44.486 & Online-Delivery & $\\dots$ \\\\\n",
       "\t30 & 502 & 8 & D-eNETS CREDIT & T & 21.215 & Online-Delivery & $\\dots$ \\\\\n",
       "\t$\\dots$ & $\\dots$ & $\\dots$ & $\\dots$ & $\\dots$ & $\\dots$ & $\\dots$ &  \\\\\n",
       "\\end{tabular}\n"
      ],
      "text/plain": [
       "\u001b[1m1632530×10 DataFrame\u001b[0m\n",
       "\u001b[1m     Row \u001b[0m│\u001b[1m storenum \u001b[0m\u001b[1m item_key \u001b[0m\u001b[1m item_description \u001b[0m\u001b[1m transaction_type \u001b[0m\u001b[1m sales_amoun\u001b[0m ⋯\n",
       "\u001b[1m         \u001b[0m│\u001b[90m Int64    \u001b[0m\u001b[90m Int64    \u001b[0m\u001b[90m String           \u001b[0m\u001b[90m String           \u001b[0m\u001b[90m Float64    \u001b[0m ⋯\n",
       "─────────┼──────────────────────────────────────────────────────────────────────\n",
       "       1 │      502         1  D-CASH            T                    30.6542  ⋯\n",
       "       2 │      502         1  D-CASH            T                    62.1495\n",
       "       3 │      502         1  D-CASH            T                    61.4019\n",
       "       4 │      502         3  D-DBS Paylah      T                    29.9065\n",
       "       5 │      502         8  D-eNETS CREDIT    T                    29.6729  ⋯\n",
       "       6 │      502         8  D-eNETS CREDIT    T                    42.0093\n",
       "       7 │      502         8  D-eNETS CREDIT    T                   111.682\n",
       "       8 │      502         3  D-DBS Paylah      T                    18.6916\n",
       "       9 │      502         3  D-DBS Paylah      T                    37.1028  ⋯\n",
       "      10 │      502         3  D-DBS Paylah      T                    25.1869\n",
       "      11 │      502         8  D-eNETS CREDIT    T                    17.0093\n",
       "    ⋮    │    ⋮         ⋮             ⋮                 ⋮               ⋮      ⋱\n",
       " 1632521 │      670         7  KIOSK DBS M/VISA  T                     6.02804\n",
       " 1632522 │      670         7  KIOSK DBS M/VISA  T                    14.3925  ⋯\n",
       " 1632523 │      670        15  DI-DBS PAYLAH     T                     3.97196\n",
       " 1632524 │      670         8  D-eNETS CREDIT    T                    34.6729\n",
       " 1632525 │      670         8  D-eNETS CREDIT    T                     9.62617\n",
       " 1632526 │      670        15  DI-DBS PAYLAH     T                     0.93457 ⋯\n",
       " 1632527 │      670         8  D-eNETS CREDIT    T                    25.4206\n",
       " 1632528 │      670         8  D-eNETS CREDIT    T                    11.6355\n",
       " 1632529 │      670         8  D-eNETS CREDIT    T                    11.6355\n",
       " 1632530 │      670        15  DI-DBS PAYLAH     T                     9.62617 ⋯\n",
       "\u001b[36m                                              6 columns and 1632509 rows omitted\u001b[0m"
      ]
     },
     "execution_count": 16,
     "metadata": {},
     "output_type": "execute_result"
    }
   ],
   "source": [
    "grp_t = DataFrame(grp[2])"
   ]
  },
  {
   "cell_type": "code",
   "execution_count": 17,
   "metadata": {
    "scrolled": true
   },
   "outputs": [
    {
     "data": {
      "text/html": [
       "<table class=\"data-frame\"><thead><tr><th></th><th>storenum</th><th>item_key</th><th>item_description</th><th>transaction_type</th><th>sales_amount</th><th>sales_channel</th></tr><tr><th></th><th>Int64</th><th>Int64</th><th>String</th><th>String</th><th>Float64</th><th>String</th></tr></thead><tbody><p>5,214,325 rows × 10 columns (omitted printing of 4 columns)</p><tr><th>1</th><td>502</td><td>916755</td><td>D-10P CKN BKT</td><td>M</td><td>26.9159</td><td>Online-Delivery</td></tr><tr><th>2</th><td>502</td><td>710033</td><td>DEL SURCHARGE</td><td>M</td><td>3.7383</td><td>Online-Delivery</td></tr><tr><th>3</th><td>502</td><td>700103</td><td>D-3PC ML(OR)</td><td>M</td><td>58.4112</td><td>Phone-Delivery</td></tr><tr><th>4</th><td>502</td><td>710033</td><td>DEL SURCHARGE</td><td>M</td><td>3.7383</td><td>Phone-Delivery</td></tr><tr><th>5</th><td>502</td><td>710009</td><td>D-ZINGER</td><td>M</td><td>10.9346</td><td>Phone-Delivery</td></tr><tr><th>6</th><td>502</td><td>700103</td><td>D-3PC ML(OR)</td><td>M</td><td>46.729</td><td>Phone-Delivery</td></tr><tr><th>7</th><td>502</td><td>710033</td><td>DEL SURCHARGE</td><td>M</td><td>3.7383</td><td>Phone-Delivery</td></tr><tr><th>8</th><td>502</td><td>922023</td><td>D-10 FOR $10</td><td>M</td><td>9.3458</td><td>Online-Delivery</td></tr><tr><th>9</th><td>502</td><td>913618</td><td>D-10P CKN 2-5PM</td><td>M</td><td>16.8224</td><td>Online-Delivery</td></tr><tr><th>10</th><td>502</td><td>710033</td><td>DEL SURCHARGE</td><td>M</td><td>3.7383</td><td>Online-Delivery</td></tr><tr><th>11</th><td>502</td><td>916137</td><td>D-FM POT BWL</td><td>M</td><td>5.0</td><td>Online-Delivery</td></tr><tr><th>12</th><td>502</td><td>710018</td><td>D-C/SL MED</td><td>M</td><td>3.4579</td><td>Online-Delivery</td></tr><tr><th>13</th><td>502</td><td>710021</td><td>D-W/PT MED</td><td>M</td><td>3.4579</td><td>Online-Delivery</td></tr><tr><th>14</th><td>502</td><td>919893</td><td>D-8P FOR $15</td><td>M</td><td>14.0187</td><td>Online-Delivery</td></tr><tr><th>15</th><td>502</td><td>710033</td><td>DEL SURCHARGE</td><td>M</td><td>3.7383</td><td>Online-Delivery</td></tr><tr><th>16</th><td>502</td><td>913961</td><td>D-8P VRTY FEAST</td><td>M</td><td>38.271</td><td>Online-Delivery</td></tr><tr><th>17</th><td>502</td><td>710033</td><td>DEL SURCHARGE</td><td>M</td><td>3.7383</td><td>Online-Delivery</td></tr><tr><th>18</th><td>502</td><td>921466</td><td>D-2P CKN BX</td><td>M</td><td>39.2523</td><td>Online-Delivery</td></tr><tr><th>19</th><td>502</td><td>921466</td><td>D-2P CKN BX</td><td>M</td><td>39.2523</td><td>Online-Delivery</td></tr><tr><th>20</th><td>502</td><td>921466</td><td>D-2P CKN BX</td><td>M</td><td>29.4393</td><td>Online-Delivery</td></tr><tr><th>21</th><td>502</td><td>710033</td><td>DEL SURCHARGE</td><td>M</td><td>3.7383</td><td>Online-Delivery</td></tr><tr><th>22</th><td>502</td><td>913299</td><td>D-AO 2 CHZ FRIES-APP</td><td>M</td><td>5.6075</td><td>Online-Delivery</td></tr><tr><th>23</th><td>502</td><td>922023</td><td>D-10 FOR $10</td><td>M</td><td>9.3458</td><td>Online-Delivery</td></tr><tr><th>24</th><td>502</td><td>710033</td><td>DEL SURCHARGE</td><td>M</td><td>3.7383</td><td>Online-Delivery</td></tr><tr><th>25</th><td>502</td><td>921474</td><td>D-ZNGBX+2P CKN BX</td><td>M</td><td>15.1402</td><td>Online-Delivery</td></tr><tr><th>26</th><td>502</td><td>916131</td><td>D-1P CRY BWL ML</td><td>M</td><td>7.9907</td><td>Online-Delivery</td></tr><tr><th>27</th><td>502</td><td>912754</td><td>D-1P ZNG BOX</td><td>M</td><td>10.2336</td><td>Online-Delivery</td></tr><tr><th>28</th><td>502</td><td>710033</td><td>DEL SURCHARGE</td><td>M</td><td>3.7383</td><td>Online-Delivery</td></tr><tr><th>29</th><td>502</td><td>916759</td><td>D-ALA SNACK N SHARE BX  </td><td>M</td><td>12.1028</td><td>Online-Delivery</td></tr><tr><th>30</th><td>502</td><td>922023</td><td>D-10 FOR $10</td><td>M</td><td>9.3458</td><td>Online-Delivery</td></tr><tr><th>&vellip;</th><td>&vellip;</td><td>&vellip;</td><td>&vellip;</td><td>&vellip;</td><td>&vellip;</td><td>&vellip;</td></tr></tbody></table>"
      ],
      "text/latex": [
       "\\begin{tabular}{r|ccccccc}\n",
       "\t& storenum & item\\_key & item\\_description & transaction\\_type & sales\\_amount & sales\\_channel & \\\\\n",
       "\t\\hline\n",
       "\t& Int64 & Int64 & String & String & Float64 & String & \\\\\n",
       "\t\\hline\n",
       "\t1 & 502 & 916755 & D-10P CKN BKT & M & 26.9159 & Online-Delivery & $\\dots$ \\\\\n",
       "\t2 & 502 & 710033 & DEL SURCHARGE & M & 3.7383 & Online-Delivery & $\\dots$ \\\\\n",
       "\t3 & 502 & 700103 & D-3PC ML(OR) & M & 58.4112 & Phone-Delivery & $\\dots$ \\\\\n",
       "\t4 & 502 & 710033 & DEL SURCHARGE & M & 3.7383 & Phone-Delivery & $\\dots$ \\\\\n",
       "\t5 & 502 & 710009 & D-ZINGER & M & 10.9346 & Phone-Delivery & $\\dots$ \\\\\n",
       "\t6 & 502 & 700103 & D-3PC ML(OR) & M & 46.729 & Phone-Delivery & $\\dots$ \\\\\n",
       "\t7 & 502 & 710033 & DEL SURCHARGE & M & 3.7383 & Phone-Delivery & $\\dots$ \\\\\n",
       "\t8 & 502 & 922023 & D-10 FOR \\$10 & M & 9.3458 & Online-Delivery & $\\dots$ \\\\\n",
       "\t9 & 502 & 913618 & D-10P CKN 2-5PM & M & 16.8224 & Online-Delivery & $\\dots$ \\\\\n",
       "\t10 & 502 & 710033 & DEL SURCHARGE & M & 3.7383 & Online-Delivery & $\\dots$ \\\\\n",
       "\t11 & 502 & 916137 & D-FM POT BWL & M & 5.0 & Online-Delivery & $\\dots$ \\\\\n",
       "\t12 & 502 & 710018 & D-C/SL MED & M & 3.4579 & Online-Delivery & $\\dots$ \\\\\n",
       "\t13 & 502 & 710021 & D-W/PT MED & M & 3.4579 & Online-Delivery & $\\dots$ \\\\\n",
       "\t14 & 502 & 919893 & D-8P FOR \\$15 & M & 14.0187 & Online-Delivery & $\\dots$ \\\\\n",
       "\t15 & 502 & 710033 & DEL SURCHARGE & M & 3.7383 & Online-Delivery & $\\dots$ \\\\\n",
       "\t16 & 502 & 913961 & D-8P VRTY FEAST & M & 38.271 & Online-Delivery & $\\dots$ \\\\\n",
       "\t17 & 502 & 710033 & DEL SURCHARGE & M & 3.7383 & Online-Delivery & $\\dots$ \\\\\n",
       "\t18 & 502 & 921466 & D-2P CKN BX & M & 39.2523 & Online-Delivery & $\\dots$ \\\\\n",
       "\t19 & 502 & 921466 & D-2P CKN BX & M & 39.2523 & Online-Delivery & $\\dots$ \\\\\n",
       "\t20 & 502 & 921466 & D-2P CKN BX & M & 29.4393 & Online-Delivery & $\\dots$ \\\\\n",
       "\t21 & 502 & 710033 & DEL SURCHARGE & M & 3.7383 & Online-Delivery & $\\dots$ \\\\\n",
       "\t22 & 502 & 913299 & D-AO 2 CHZ FRIES-APP & M & 5.6075 & Online-Delivery & $\\dots$ \\\\\n",
       "\t23 & 502 & 922023 & D-10 FOR \\$10 & M & 9.3458 & Online-Delivery & $\\dots$ \\\\\n",
       "\t24 & 502 & 710033 & DEL SURCHARGE & M & 3.7383 & Online-Delivery & $\\dots$ \\\\\n",
       "\t25 & 502 & 921474 & D-ZNGBX+2P CKN BX & M & 15.1402 & Online-Delivery & $\\dots$ \\\\\n",
       "\t26 & 502 & 916131 & D-1P CRY BWL ML & M & 7.9907 & Online-Delivery & $\\dots$ \\\\\n",
       "\t27 & 502 & 912754 & D-1P ZNG BOX & M & 10.2336 & Online-Delivery & $\\dots$ \\\\\n",
       "\t28 & 502 & 710033 & DEL SURCHARGE & M & 3.7383 & Online-Delivery & $\\dots$ \\\\\n",
       "\t29 & 502 & 916759 & D-ALA SNACK N SHARE BX   & M & 12.1028 & Online-Delivery & $\\dots$ \\\\\n",
       "\t30 & 502 & 922023 & D-10 FOR \\$10 & M & 9.3458 & Online-Delivery & $\\dots$ \\\\\n",
       "\t$\\dots$ & $\\dots$ & $\\dots$ & $\\dots$ & $\\dots$ & $\\dots$ & $\\dots$ &  \\\\\n",
       "\\end{tabular}\n"
      ],
      "text/plain": [
       "\u001b[1m5214325×10 DataFrame\u001b[0m\n",
       "\u001b[1m     Row \u001b[0m│\u001b[1m storenum \u001b[0m\u001b[1m item_key \u001b[0m\u001b[1m item_description \u001b[0m\u001b[1m transaction_type \u001b[0m\u001b[1m sales_amoun\u001b[0m ⋯\n",
       "\u001b[1m         \u001b[0m│\u001b[90m Int64    \u001b[0m\u001b[90m Int64    \u001b[0m\u001b[90m String           \u001b[0m\u001b[90m String           \u001b[0m\u001b[90m Float64    \u001b[0m ⋯\n",
       "─────────┼──────────────────────────────────────────────────────────────────────\n",
       "       1 │      502    916755  D-10P CKN BKT     M                      26.915 ⋯\n",
       "       2 │      502    710033  DEL SURCHARGE     M                       3.738\n",
       "       3 │      502    700103  D-3PC ML(OR)      M                      58.411\n",
       "       4 │      502    710033  DEL SURCHARGE     M                       3.738\n",
       "       5 │      502    710009  D-ZINGER          M                      10.934 ⋯\n",
       "       6 │      502    700103  D-3PC ML(OR)      M                      46.729\n",
       "       7 │      502    710033  DEL SURCHARGE     M                       3.738\n",
       "       8 │      502    922023  D-10 FOR $10      M                       9.345\n",
       "       9 │      502    913618  D-10P CKN 2-5PM   M                      16.822 ⋯\n",
       "      10 │      502    710033  DEL SURCHARGE     M                       3.738\n",
       "      11 │      502    916137  D-FM POT BWL      M                       5.0\n",
       "    ⋮    │    ⋮         ⋮             ⋮                 ⋮               ⋮      ⋱\n",
       " 5214316 │      670    921046  5P ACB 30%        M                       9.626\n",
       " 5214317 │      670    922204  ZNG+SJ-R          M                       0.934 ⋯\n",
       " 5214318 │      670    921048  15P ACB 30%       M                      25.420\n",
       " 5214319 │      670    922110  2P(TG) ML         M                       8.364\n",
       " 5214320 │      670    450011  RWP>CF            M                       2.056\n",
       " 5214321 │      670    914357  1P EGG TART       M                       1.215 ⋯\n",
       " 5214322 │      670    912781  1 OR ZNG BX       M                       8.551\n",
       " 5214323 │      670    450046  RFF>CFRIES        M                       1.869\n",
       " 5214324 │      670    914357  1P EGG TART       M                       1.215\n",
       " 5214325 │      670    921046  5P ACB 30%        M                       9.626 ⋯\n",
       "\u001b[36m                                              6 columns and 5214304 rows omitted\u001b[0m"
      ]
     },
     "execution_count": 17,
     "metadata": {},
     "output_type": "execute_result"
    }
   ],
   "source": [
    "grp_m = DataFrame(grp[1])"
   ]
  },
  {
   "cell_type": "code",
   "execution_count": 18,
   "metadata": {
    "scrolled": true
   },
   "outputs": [
    {
     "data": {
      "text/html": [
       "<p><b>GroupedDataFrame with 1264698 groups based on key: store_transaction_key</b></p><p><i>First Group (1 row): store_transaction_key = \"502_1724_2021-03-29\"</i></p><table class=\"data-frame\"><thead><tr><th></th><th>storenum</th><th>item_key</th><th>item_description</th><th>transaction_type</th><th>sales_amount</th><th>sales_channel</th></tr><tr><th></th><th>Int64</th><th>Int64</th><th>String</th><th>String</th><th>Float64</th><th>String</th></tr></thead><tbody><tr><th>1</th><td>502</td><td>1</td><td>D-CASH</td><td>T</td><td>30.6542</td><td>Online-Delivery</td></tr></tbody></table><p>&vellip;</p><p><i>Last Group (1 row): store_transaction_key = \"670_5319_2021-05-07\"</i></p><table class=\"data-frame\"><thead><tr><th></th><th>storenum</th><th>item_key</th><th>item_description</th><th>transaction_type</th><th>sales_amount</th><th>sales_channel</th></tr><tr><th></th><th>Int64</th><th>Int64</th><th>String</th><th>String</th><th>Float64</th><th>String</th></tr></thead><tbody><tr><th>1</th><td>670</td><td>15</td><td>DI-DBS PAYLAH</td><td>T</td><td>9.62617</td><td>Self-Ordering TA</td></tr></tbody></table>"
      ],
      "text/latex": [
       "GroupedDataFrame with 1264698 groups based on key: store\\_transaction\\_key\n",
       "\n",
       "First Group (1 row): store\\_transaction\\_key = \"502\\_1724\\_2021-03-29\"\n",
       "\n",
       "\\begin{tabular}{r|ccccccc}\n",
       "\t& storenum & item\\_key & item\\_description & transaction\\_type & sales\\_amount & sales\\_channel & \\\\\n",
       "\t\\hline\n",
       "\t& Int64 & Int64 & String & String & Float64 & String & \\\\\n",
       "\t\\hline\n",
       "\t1 & 502 & 1 & D-CASH & T & 30.6542 & Online-Delivery & $\\dots$ \\\\\n",
       "\\end{tabular}\n",
       "\n",
       "$\\dots$\n",
       "\n",
       "Last Group (1 row): store\\_transaction\\_key = \"670\\_5319\\_2021-05-07\"\n",
       "\n",
       "\\begin{tabular}{r|ccccccc}\n",
       "\t& storenum & item\\_key & item\\_description & transaction\\_type & sales\\_amount & sales\\_channel & \\\\\n",
       "\t\\hline\n",
       "\t& Int64 & Int64 & String & String & Float64 & String & \\\\\n",
       "\t\\hline\n",
       "\t1 & 670 & 15 & DI-DBS PAYLAH & T & 9.62617 & Self-Ordering TA & $\\dots$ \\\\\n",
       "\\end{tabular}\n"
      ],
      "text/plain": [
       "GroupedDataFrame with 1264698 groups based on key: store_transaction_key\n",
       "First Group (1 row): store_transaction_key = \"502_1724_2021-03-29\"\n",
       "\u001b[1m Row \u001b[0m│\u001b[1m storenum \u001b[0m\u001b[1m item_key \u001b[0m\u001b[1m item_description \u001b[0m\u001b[1m transaction_type \u001b[0m\u001b[1m sales_amount \u001b[0m\u001b[1m s\u001b[0m ⋯\n",
       "\u001b[1m     \u001b[0m│\u001b[90m Int64    \u001b[0m\u001b[90m Int64    \u001b[0m\u001b[90m String           \u001b[0m\u001b[90m String           \u001b[0m\u001b[90m Float64      \u001b[0m\u001b[90m S\u001b[0m ⋯\n",
       "─────┼──────────────────────────────────────────────────────────────────────────\n",
       "   1 │      502         1  D-CASH            T                      30.6542  O ⋯\n",
       "\u001b[36m                                                               5 columns omitted\u001b[0m\n",
       "⋮\n",
       "Last Group (1 row): store_transaction_key = \"670_5319_2021-05-07\"\n",
       "\u001b[1m Row \u001b[0m│\u001b[1m storenum \u001b[0m\u001b[1m item_key \u001b[0m\u001b[1m item_description \u001b[0m\u001b[1m transaction_type \u001b[0m\u001b[1m sales_amount \u001b[0m\u001b[1m s\u001b[0m ⋯\n",
       "\u001b[1m     \u001b[0m│\u001b[90m Int64    \u001b[0m\u001b[90m Int64    \u001b[0m\u001b[90m String           \u001b[0m\u001b[90m String           \u001b[0m\u001b[90m Float64      \u001b[0m\u001b[90m S\u001b[0m ⋯\n",
       "─────┼──────────────────────────────────────────────────────────────────────────\n",
       "   1 │      670        15  DI-DBS PAYLAH     T                      9.62617  S ⋯\n",
       "\u001b[36m                                                               5 columns omitted\u001b[0m"
      ]
     },
     "execution_count": 18,
     "metadata": {},
     "output_type": "execute_result"
    }
   ],
   "source": [
    "gdf_t = groupby(grp_t,[:store_transaction_key])"
   ]
  },
  {
   "cell_type": "code",
   "execution_count": 19,
   "metadata": {
    "scrolled": true
   },
   "outputs": [
    {
     "data": {
      "text/html": [
       "<p><b>GroupedDataFrame with 1264699 groups based on key: store_transaction_key</b></p><p><i>First Group (2 rows): store_transaction_key = \"502_1724_2021-03-29\"</i></p><table class=\"data-frame\"><thead><tr><th></th><th>storenum</th><th>item_key</th><th>item_description</th><th>transaction_type</th><th>sales_amount</th><th>sales_channel</th></tr><tr><th></th><th>Int64</th><th>Int64</th><th>String</th><th>String</th><th>Float64</th><th>String</th></tr></thead><tbody><tr><th>1</th><td>502</td><td>916755</td><td>D-10P CKN BKT</td><td>M</td><td>26.9159</td><td>Online-Delivery</td></tr><tr><th>2</th><td>502</td><td>710033</td><td>DEL SURCHARGE</td><td>M</td><td>3.7383</td><td>Online-Delivery</td></tr></tbody></table><p>&vellip;</p><p><i>Last Group (1 row): store_transaction_key = \"670_5319_2021-05-07\"</i></p><table class=\"data-frame\"><thead><tr><th></th><th>storenum</th><th>item_key</th><th>item_description</th><th>transaction_type</th><th>sales_amount</th><th>sales_channel</th></tr><tr><th></th><th>Int64</th><th>Int64</th><th>String</th><th>String</th><th>Float64</th><th>String</th></tr></thead><tbody><tr><th>1</th><td>670</td><td>921046</td><td>5P ACB 30%</td><td>M</td><td>9.6262</td><td>Self-Ordering TA</td></tr></tbody></table>"
      ],
      "text/latex": [
       "GroupedDataFrame with 1264699 groups based on key: store\\_transaction\\_key\n",
       "\n",
       "First Group (2 rows): store\\_transaction\\_key = \"502\\_1724\\_2021-03-29\"\n",
       "\n",
       "\\begin{tabular}{r|ccccccc}\n",
       "\t& storenum & item\\_key & item\\_description & transaction\\_type & sales\\_amount & sales\\_channel & \\\\\n",
       "\t\\hline\n",
       "\t& Int64 & Int64 & String & String & Float64 & String & \\\\\n",
       "\t\\hline\n",
       "\t1 & 502 & 916755 & D-10P CKN BKT & M & 26.9159 & Online-Delivery & $\\dots$ \\\\\n",
       "\t2 & 502 & 710033 & DEL SURCHARGE & M & 3.7383 & Online-Delivery & $\\dots$ \\\\\n",
       "\\end{tabular}\n",
       "\n",
       "$\\dots$\n",
       "\n",
       "Last Group (1 row): store\\_transaction\\_key = \"670\\_5319\\_2021-05-07\"\n",
       "\n",
       "\\begin{tabular}{r|ccccccc}\n",
       "\t& storenum & item\\_key & item\\_description & transaction\\_type & sales\\_amount & sales\\_channel & \\\\\n",
       "\t\\hline\n",
       "\t& Int64 & Int64 & String & String & Float64 & String & \\\\\n",
       "\t\\hline\n",
       "\t1 & 670 & 921046 & 5P ACB 30\\% & M & 9.6262 & Self-Ordering TA & $\\dots$ \\\\\n",
       "\\end{tabular}\n"
      ],
      "text/plain": [
       "GroupedDataFrame with 1264699 groups based on key: store_transaction_key\n",
       "First Group (2 rows): store_transaction_key = \"502_1724_2021-03-29\"\n",
       "\u001b[1m Row \u001b[0m│\u001b[1m storenum \u001b[0m\u001b[1m item_key \u001b[0m\u001b[1m item_description \u001b[0m\u001b[1m transaction_type \u001b[0m\u001b[1m sales_amount \u001b[0m\u001b[1m s\u001b[0m ⋯\n",
       "\u001b[1m     \u001b[0m│\u001b[90m Int64    \u001b[0m\u001b[90m Int64    \u001b[0m\u001b[90m String           \u001b[0m\u001b[90m String           \u001b[0m\u001b[90m Float64      \u001b[0m\u001b[90m S\u001b[0m ⋯\n",
       "─────┼──────────────────────────────────────────────────────────────────────────\n",
       "   1 │      502    916755  D-10P CKN BKT     M                      26.9159  O ⋯\n",
       "   2 │      502    710033  DEL SURCHARGE     M                       3.7383  O\n",
       "\u001b[36m                                                               5 columns omitted\u001b[0m\n",
       "⋮\n",
       "Last Group (1 row): store_transaction_key = \"670_5319_2021-05-07\"\n",
       "\u001b[1m Row \u001b[0m│\u001b[1m storenum \u001b[0m\u001b[1m item_key \u001b[0m\u001b[1m item_description \u001b[0m\u001b[1m transaction_type \u001b[0m\u001b[1m sales_amount \u001b[0m\u001b[1m s\u001b[0m ⋯\n",
       "\u001b[1m     \u001b[0m│\u001b[90m Int64    \u001b[0m\u001b[90m Int64    \u001b[0m\u001b[90m String           \u001b[0m\u001b[90m String           \u001b[0m\u001b[90m Float64      \u001b[0m\u001b[90m S\u001b[0m ⋯\n",
       "─────┼──────────────────────────────────────────────────────────────────────────\n",
       "   1 │      670    921046  5P ACB 30%        M                       9.6262  S ⋯\n",
       "\u001b[36m                                                               5 columns omitted\u001b[0m"
      ]
     },
     "execution_count": 19,
     "metadata": {},
     "output_type": "execute_result"
    }
   ],
   "source": [
    "gdf_m = groupby(grp_m,[:store_transaction_key])"
   ]
  },
  {
   "cell_type": "code",
   "execution_count": 20,
   "metadata": {
    "scrolled": true
   },
   "outputs": [
    {
     "data": {
      "text/html": [
       "<table class=\"data-frame\"><thead><tr><th></th><th>store_transaction_key</th><th>sales_amount_sum</th></tr><tr><th></th><th>String</th><th>Float64</th></tr></thead><tbody><p>1,264,698 rows × 2 columns</p><tr><th>1</th><td>502_1724_2021-03-29</td><td>30.6542</td></tr><tr><th>2</th><td>502_1725_2021-03-29</td><td>62.1495</td></tr><tr><th>3</th><td>502_1726_2021-03-29</td><td>61.4019</td></tr><tr><th>4</th><td>502_1727_2021-03-29</td><td>29.9065</td></tr><tr><th>5</th><td>502_1728_2021-03-29</td><td>29.6729</td></tr><tr><th>6</th><td>502_1729_2021-03-29</td><td>42.0093</td></tr><tr><th>7</th><td>502_1730_2021-03-29</td><td>111.682</td></tr><tr><th>8</th><td>502_1731_2021-03-29</td><td>18.6916</td></tr><tr><th>9</th><td>502_1732_2021-03-29</td><td>37.1028</td></tr><tr><th>10</th><td>502_1733_2021-03-29</td><td>25.1869</td></tr><tr><th>11</th><td>502_1734_2021-03-29</td><td>17.0093</td></tr><tr><th>12</th><td>502_1735_2021-03-29</td><td>24.7664</td></tr><tr><th>13</th><td>502_1736_2021-03-29</td><td>18.8785</td></tr><tr><th>14</th><td>502_1737_2021-03-29</td><td>18.6916</td></tr><tr><th>15</th><td>502_1738_2021-03-29</td><td>183.037</td></tr><tr><th>16</th><td>502_1739_2021-03-29</td><td>41.1682</td></tr><tr><th>17</th><td>502_1740_2021-03-29</td><td>34.3925</td></tr><tr><th>18</th><td>502_1741_2021-03-29</td><td>59.7196</td></tr><tr><th>19</th><td>502_1742_2021-03-29</td><td>26.1682</td></tr><tr><th>20</th><td>502_1743_2021-03-29</td><td>20.5607</td></tr><tr><th>21</th><td>502_1744_2021-03-29</td><td>18.6916</td></tr><tr><th>22</th><td>502_1745_2021-03-29</td><td>37.0561</td></tr><tr><th>23</th><td>502_1746_2021-03-29</td><td>27.243</td></tr><tr><th>24</th><td>502_1747_2021-03-29</td><td>57.1028</td></tr><tr><th>25</th><td>502_1748_2021-03-29</td><td>18.6916</td></tr><tr><th>26</th><td>502_1749_2021-03-29</td><td>35.7009</td></tr><tr><th>27</th><td>502_1750_2021-03-29</td><td>41.9159</td></tr><tr><th>28</th><td>502_1751_2021-03-29</td><td>30.6542</td></tr><tr><th>29</th><td>502_1752_2021-03-29</td><td>44.486</td></tr><tr><th>30</th><td>502_1753_2021-03-29</td><td>21.215</td></tr><tr><th>&vellip;</th><td>&vellip;</td><td>&vellip;</td></tr></tbody></table>"
      ],
      "text/latex": [
       "\\begin{tabular}{r|cc}\n",
       "\t& store\\_transaction\\_key & sales\\_amount\\_sum\\\\\n",
       "\t\\hline\n",
       "\t& String & Float64\\\\\n",
       "\t\\hline\n",
       "\t1 & 502\\_1724\\_2021-03-29 & 30.6542 \\\\\n",
       "\t2 & 502\\_1725\\_2021-03-29 & 62.1495 \\\\\n",
       "\t3 & 502\\_1726\\_2021-03-29 & 61.4019 \\\\\n",
       "\t4 & 502\\_1727\\_2021-03-29 & 29.9065 \\\\\n",
       "\t5 & 502\\_1728\\_2021-03-29 & 29.6729 \\\\\n",
       "\t6 & 502\\_1729\\_2021-03-29 & 42.0093 \\\\\n",
       "\t7 & 502\\_1730\\_2021-03-29 & 111.682 \\\\\n",
       "\t8 & 502\\_1731\\_2021-03-29 & 18.6916 \\\\\n",
       "\t9 & 502\\_1732\\_2021-03-29 & 37.1028 \\\\\n",
       "\t10 & 502\\_1733\\_2021-03-29 & 25.1869 \\\\\n",
       "\t11 & 502\\_1734\\_2021-03-29 & 17.0093 \\\\\n",
       "\t12 & 502\\_1735\\_2021-03-29 & 24.7664 \\\\\n",
       "\t13 & 502\\_1736\\_2021-03-29 & 18.8785 \\\\\n",
       "\t14 & 502\\_1737\\_2021-03-29 & 18.6916 \\\\\n",
       "\t15 & 502\\_1738\\_2021-03-29 & 183.037 \\\\\n",
       "\t16 & 502\\_1739\\_2021-03-29 & 41.1682 \\\\\n",
       "\t17 & 502\\_1740\\_2021-03-29 & 34.3925 \\\\\n",
       "\t18 & 502\\_1741\\_2021-03-29 & 59.7196 \\\\\n",
       "\t19 & 502\\_1742\\_2021-03-29 & 26.1682 \\\\\n",
       "\t20 & 502\\_1743\\_2021-03-29 & 20.5607 \\\\\n",
       "\t21 & 502\\_1744\\_2021-03-29 & 18.6916 \\\\\n",
       "\t22 & 502\\_1745\\_2021-03-29 & 37.0561 \\\\\n",
       "\t23 & 502\\_1746\\_2021-03-29 & 27.243 \\\\\n",
       "\t24 & 502\\_1747\\_2021-03-29 & 57.1028 \\\\\n",
       "\t25 & 502\\_1748\\_2021-03-29 & 18.6916 \\\\\n",
       "\t26 & 502\\_1749\\_2021-03-29 & 35.7009 \\\\\n",
       "\t27 & 502\\_1750\\_2021-03-29 & 41.9159 \\\\\n",
       "\t28 & 502\\_1751\\_2021-03-29 & 30.6542 \\\\\n",
       "\t29 & 502\\_1752\\_2021-03-29 & 44.486 \\\\\n",
       "\t30 & 502\\_1753\\_2021-03-29 & 21.215 \\\\\n",
       "\t$\\dots$ & $\\dots$ & $\\dots$ \\\\\n",
       "\\end{tabular}\n"
      ],
      "text/plain": [
       "\u001b[1m1264698×2 DataFrame\u001b[0m\n",
       "\u001b[1m     Row \u001b[0m│\u001b[1m store_transaction_key \u001b[0m\u001b[1m sales_amount_sum \u001b[0m\n",
       "\u001b[1m         \u001b[0m│\u001b[90m String                \u001b[0m\u001b[90m Float64          \u001b[0m\n",
       "─────────┼─────────────────────────────────────────\n",
       "       1 │ 502_1724_2021-03-29           30.6542\n",
       "       2 │ 502_1725_2021-03-29           62.1495\n",
       "       3 │ 502_1726_2021-03-29           61.4019\n",
       "       4 │ 502_1727_2021-03-29           29.9065\n",
       "       5 │ 502_1728_2021-03-29           29.6729\n",
       "       6 │ 502_1729_2021-03-29           42.0093\n",
       "       7 │ 502_1730_2021-03-29          111.682\n",
       "       8 │ 502_1731_2021-03-29           18.6916\n",
       "       9 │ 502_1732_2021-03-29           37.1028\n",
       "      10 │ 502_1733_2021-03-29           25.1869\n",
       "      11 │ 502_1734_2021-03-29           17.0093\n",
       "    ⋮    │           ⋮                   ⋮\n",
       " 1264689 │ 670_5310_2021-05-07            6.02804\n",
       " 1264690 │ 670_5311_2021-05-07           14.3925\n",
       " 1264691 │ 670_5312_2021-05-07            3.97196\n",
       " 1264692 │ 670_5313_2021-05-07           34.6729\n",
       " 1264693 │ 670_5314_2021-05-07            9.62617\n",
       " 1264694 │ 670_5315_2021-05-07            0.934579\n",
       " 1264695 │ 670_5316_2021-05-07           25.4206\n",
       " 1264696 │ 670_5317_2021-05-07           11.6355\n",
       " 1264697 │ 670_5318_2021-05-07           11.6355\n",
       " 1264698 │ 670_5319_2021-05-07            9.62617\n",
       "\u001b[36m                               1264677 rows omitted\u001b[0m"
      ]
     },
     "execution_count": 20,
     "metadata": {},
     "output_type": "execute_result"
    }
   ],
   "source": [
    "grp_sa_t = combine(gdf_t,:sales_amount =>sum)"
   ]
  },
  {
   "cell_type": "code",
   "execution_count": 21,
   "metadata": {
    "scrolled": true
   },
   "outputs": [
    {
     "data": {
      "text/html": [
       "<table class=\"data-frame\"><thead><tr><th></th><th>store_transaction_key</th><th>sales_amount_sum</th></tr><tr><th></th><th>String</th><th>Float64</th></tr></thead><tbody><p>1,264,699 rows × 2 columns</p><tr><th>1</th><td>502_1724_2021-03-29</td><td>30.6542</td></tr><tr><th>2</th><td>502_1725_2021-03-29</td><td>62.1495</td></tr><tr><th>3</th><td>502_1726_2021-03-29</td><td>61.4019</td></tr><tr><th>4</th><td>502_1727_2021-03-29</td><td>29.9065</td></tr><tr><th>5</th><td>502_1728_2021-03-29</td><td>29.6728</td></tr><tr><th>6</th><td>502_1729_2021-03-29</td><td>42.0093</td></tr><tr><th>7</th><td>502_1730_2021-03-29</td><td>111.682</td></tr><tr><th>8</th><td>502_1731_2021-03-29</td><td>18.6916</td></tr><tr><th>9</th><td>502_1732_2021-03-29</td><td>37.1028</td></tr><tr><th>10</th><td>502_1733_2021-03-29</td><td>25.1869</td></tr><tr><th>11</th><td>502_1734_2021-03-29</td><td>17.0094</td></tr><tr><th>12</th><td>502_1735_2021-03-29</td><td>24.7664</td></tr><tr><th>13</th><td>502_1736_2021-03-29</td><td>18.8785</td></tr><tr><th>14</th><td>502_1737_2021-03-29</td><td>18.6916</td></tr><tr><th>15</th><td>502_1738_2021-03-29</td><td>183.037</td></tr><tr><th>16</th><td>502_1739_2021-03-29</td><td>41.1682</td></tr><tr><th>17</th><td>502_1740_2021-03-29</td><td>34.3925</td></tr><tr><th>18</th><td>502_1741_2021-03-29</td><td>59.7195</td></tr><tr><th>19</th><td>502_1742_2021-03-29</td><td>26.1682</td></tr><tr><th>20</th><td>502_1743_2021-03-29</td><td>20.5607</td></tr><tr><th>21</th><td>502_1744_2021-03-29</td><td>18.6916</td></tr><tr><th>22</th><td>502_1745_2021-03-29</td><td>37.0562</td></tr><tr><th>23</th><td>502_1746_2021-03-29</td><td>27.2429</td></tr><tr><th>24</th><td>502_1747_2021-03-29</td><td>57.1029</td></tr><tr><th>25</th><td>502_1748_2021-03-29</td><td>18.6916</td></tr><tr><th>26</th><td>502_1749_2021-03-29</td><td>35.7009</td></tr><tr><th>27</th><td>502_1750_2021-03-29</td><td>41.9159</td></tr><tr><th>28</th><td>502_1751_2021-03-29</td><td>30.6542</td></tr><tr><th>29</th><td>502_1752_2021-03-29</td><td>44.486</td></tr><tr><th>30</th><td>502_1753_2021-03-29</td><td>21.2149</td></tr><tr><th>&vellip;</th><td>&vellip;</td><td>&vellip;</td></tr></tbody></table>"
      ],
      "text/latex": [
       "\\begin{tabular}{r|cc}\n",
       "\t& store\\_transaction\\_key & sales\\_amount\\_sum\\\\\n",
       "\t\\hline\n",
       "\t& String & Float64\\\\\n",
       "\t\\hline\n",
       "\t1 & 502\\_1724\\_2021-03-29 & 30.6542 \\\\\n",
       "\t2 & 502\\_1725\\_2021-03-29 & 62.1495 \\\\\n",
       "\t3 & 502\\_1726\\_2021-03-29 & 61.4019 \\\\\n",
       "\t4 & 502\\_1727\\_2021-03-29 & 29.9065 \\\\\n",
       "\t5 & 502\\_1728\\_2021-03-29 & 29.6728 \\\\\n",
       "\t6 & 502\\_1729\\_2021-03-29 & 42.0093 \\\\\n",
       "\t7 & 502\\_1730\\_2021-03-29 & 111.682 \\\\\n",
       "\t8 & 502\\_1731\\_2021-03-29 & 18.6916 \\\\\n",
       "\t9 & 502\\_1732\\_2021-03-29 & 37.1028 \\\\\n",
       "\t10 & 502\\_1733\\_2021-03-29 & 25.1869 \\\\\n",
       "\t11 & 502\\_1734\\_2021-03-29 & 17.0094 \\\\\n",
       "\t12 & 502\\_1735\\_2021-03-29 & 24.7664 \\\\\n",
       "\t13 & 502\\_1736\\_2021-03-29 & 18.8785 \\\\\n",
       "\t14 & 502\\_1737\\_2021-03-29 & 18.6916 \\\\\n",
       "\t15 & 502\\_1738\\_2021-03-29 & 183.037 \\\\\n",
       "\t16 & 502\\_1739\\_2021-03-29 & 41.1682 \\\\\n",
       "\t17 & 502\\_1740\\_2021-03-29 & 34.3925 \\\\\n",
       "\t18 & 502\\_1741\\_2021-03-29 & 59.7195 \\\\\n",
       "\t19 & 502\\_1742\\_2021-03-29 & 26.1682 \\\\\n",
       "\t20 & 502\\_1743\\_2021-03-29 & 20.5607 \\\\\n",
       "\t21 & 502\\_1744\\_2021-03-29 & 18.6916 \\\\\n",
       "\t22 & 502\\_1745\\_2021-03-29 & 37.0562 \\\\\n",
       "\t23 & 502\\_1746\\_2021-03-29 & 27.2429 \\\\\n",
       "\t24 & 502\\_1747\\_2021-03-29 & 57.1029 \\\\\n",
       "\t25 & 502\\_1748\\_2021-03-29 & 18.6916 \\\\\n",
       "\t26 & 502\\_1749\\_2021-03-29 & 35.7009 \\\\\n",
       "\t27 & 502\\_1750\\_2021-03-29 & 41.9159 \\\\\n",
       "\t28 & 502\\_1751\\_2021-03-29 & 30.6542 \\\\\n",
       "\t29 & 502\\_1752\\_2021-03-29 & 44.486 \\\\\n",
       "\t30 & 502\\_1753\\_2021-03-29 & 21.2149 \\\\\n",
       "\t$\\dots$ & $\\dots$ & $\\dots$ \\\\\n",
       "\\end{tabular}\n"
      ],
      "text/plain": [
       "\u001b[1m1264699×2 DataFrame\u001b[0m\n",
       "\u001b[1m     Row \u001b[0m│\u001b[1m store_transaction_key \u001b[0m\u001b[1m sales_amount_sum \u001b[0m\n",
       "\u001b[1m         \u001b[0m│\u001b[90m String                \u001b[0m\u001b[90m Float64          \u001b[0m\n",
       "─────────┼─────────────────────────────────────────\n",
       "       1 │ 502_1724_2021-03-29             30.6542\n",
       "       2 │ 502_1725_2021-03-29             62.1495\n",
       "       3 │ 502_1726_2021-03-29             61.4019\n",
       "       4 │ 502_1727_2021-03-29             29.9065\n",
       "       5 │ 502_1728_2021-03-29             29.6728\n",
       "       6 │ 502_1729_2021-03-29             42.0093\n",
       "       7 │ 502_1730_2021-03-29            111.682\n",
       "       8 │ 502_1731_2021-03-29             18.6916\n",
       "       9 │ 502_1732_2021-03-29             37.1028\n",
       "      10 │ 502_1733_2021-03-29             25.1869\n",
       "      11 │ 502_1734_2021-03-29             17.0094\n",
       "    ⋮    │           ⋮                   ⋮\n",
       " 1264690 │ 670_5310_2021-05-07              6.028\n",
       " 1264691 │ 670_5311_2021-05-07             14.3925\n",
       " 1264692 │ 670_5312_2021-05-07              3.972\n",
       " 1264693 │ 670_5313_2021-05-07             34.6729\n",
       " 1264694 │ 670_5314_2021-05-07              9.6262\n",
       " 1264695 │ 670_5315_2021-05-07              0.9346\n",
       " 1264696 │ 670_5316_2021-05-07             25.4206\n",
       " 1264697 │ 670_5317_2021-05-07             11.6356\n",
       " 1264698 │ 670_5318_2021-05-07             11.6356\n",
       " 1264699 │ 670_5319_2021-05-07              9.6262\n",
       "\u001b[36m                               1264678 rows omitted\u001b[0m"
      ]
     },
     "execution_count": 21,
     "metadata": {},
     "output_type": "execute_result"
    }
   ],
   "source": [
    "grp_sa_m = combine(gdf_m,:sales_amount =>sum)"
   ]
  },
  {
   "cell_type": "code",
   "execution_count": 22,
   "metadata": {},
   "outputs": [],
   "source": [
    "map = Dict()\n",
    "\n",
    "for i in 1:length(grp_sa_m.store_transaction_key)\n",
    "    if grp_sa_m.sales_amount_sum[i]<15\n",
    "        map[grp_sa_m.store_transaction_key[i]] = \"lowend\"\n",
    "    else\n",
    "        map[grp_sa_m.store_transaction_key[i]] = \"highend\"\n",
    "    end\n",
    "end"
   ]
  },
  {
   "cell_type": "code",
   "execution_count": 23,
   "metadata": {},
   "outputs": [],
   "source": [
    "for i in 1:length(grp_sa_t.store_transaction_key)\n",
    "    if grp_sa_t.sales_amount_sum[i]<15\n",
    "        map[grp_sa_t.store_transaction_key[i]] = \"lowend\"\n",
    "    else\n",
    "        map[grp_sa_t.store_transaction_key[i]] = \"highend\"\n",
    "    end\n",
    "end"
   ]
  },
  {
   "cell_type": "code",
   "execution_count": 14,
   "metadata": {},
   "outputs": [
    {
     "data": {
      "text/plain": [
       "58.41121494000001"
      ]
     },
     "execution_count": 14,
     "metadata": {},
     "output_type": "execute_result"
    }
   ],
   "source": []
  },
  {
   "cell_type": "code",
   "execution_count": 24,
   "metadata": {
    "scrolled": true
   },
   "outputs": [
    {
     "data": {
      "text/plain": [
       "6859688-element Vector{Any}:\n",
       " \"highend\"\n",
       " \"highend\"\n",
       " \"highend\"\n",
       " \"highend\"\n",
       " \"highend\"\n",
       " \"highend\"\n",
       " \"highend\"\n",
       " \"highend\"\n",
       " \"highend\"\n",
       " \"highend\"\n",
       " \"highend\"\n",
       " \"highend\"\n",
       " \"highend\"\n",
       " ⋮\n",
       " \"highend\"\n",
       " \"highend\"\n",
       " \"lowend\"\n",
       " \"lowend\"\n",
       " \"lowend\"\n",
       " \"lowend\"\n",
       " \"lowend\"\n",
       " \"lowend\"\n",
       " \"lowend\"\n",
       " \"lowend\"\n",
       " \"lowend\"\n",
       " \"lowend\""
      ]
     },
     "execution_count": 24,
     "metadata": {},
     "output_type": "execute_result"
    }
   ],
   "source": [
    "ar = []\n",
    "\n",
    "for i in 1:length(df.storenum)\n",
    "    push!(ar,map[df.store_transaction_key[i]])\n",
    "end\n",
    "\n",
    "df.end1 = ar"
   ]
  },
  {
   "cell_type": "code",
   "execution_count": null,
   "metadata": {},
   "outputs": [],
   "source": [
    "CSV.write(\"Dataset2.csv\",df)"
   ]
  },
  {
   "cell_type": "code",
   "execution_count": null,
   "metadata": {},
   "outputs": [],
   "source": []
  },
  {
   "cell_type": "code",
   "execution_count": null,
   "metadata": {},
   "outputs": [],
   "source": []
  },
  {
   "cell_type": "markdown",
   "metadata": {},
   "source": [
    "## For cluster vs sales_channel plots preprocessing"
   ]
  },
  {
   "cell_type": "code",
   "execution_count": 3,
   "metadata": {
    "scrolled": true
   },
   "outputs": [
    {
     "data": {
      "text/html": [
       "<table class=\"data-frame\"><thead><tr><th></th><th>storenum</th><th>item_key</th><th>item_description</th><th>transaction_type</th><th>sales_amount</th><th>sales_channel</th></tr><tr><th></th><th>Int64</th><th>Int64</th><th>String</th><th>String</th><th>Float64</th><th>String</th></tr></thead><tbody><p>6,859,688 rows × 11 columns (omitted printing of 5 columns)</p><tr><th>1</th><td>502</td><td>916755</td><td>D-10P CKN BKT</td><td>M</td><td>26.9159</td><td>Online-Delivery</td></tr><tr><th>2</th><td>502</td><td>710033</td><td>DEL SURCHARGE</td><td>M</td><td>3.7383</td><td>Online-Delivery</td></tr><tr><th>3</th><td>502</td><td>1</td><td>D-CASH</td><td>T</td><td>30.6542</td><td>Online-Delivery</td></tr><tr><th>4</th><td>502</td><td>700103</td><td>D-3PC ML(OR)</td><td>M</td><td>58.4112</td><td>Phone-Delivery</td></tr><tr><th>5</th><td>502</td><td>710033</td><td>DEL SURCHARGE</td><td>M</td><td>3.7383</td><td>Phone-Delivery</td></tr><tr><th>6</th><td>502</td><td>1</td><td>D-CASH</td><td>T</td><td>62.1495</td><td>Phone-Delivery</td></tr><tr><th>7</th><td>502</td><td>710009</td><td>D-ZINGER</td><td>M</td><td>10.9346</td><td>Phone-Delivery</td></tr><tr><th>8</th><td>502</td><td>700103</td><td>D-3PC ML(OR)</td><td>M</td><td>46.729</td><td>Phone-Delivery</td></tr><tr><th>9</th><td>502</td><td>710033</td><td>DEL SURCHARGE</td><td>M</td><td>3.7383</td><td>Phone-Delivery</td></tr><tr><th>10</th><td>502</td><td>1</td><td>D-CASH</td><td>T</td><td>61.4019</td><td>Phone-Delivery</td></tr><tr><th>11</th><td>502</td><td>922023</td><td>D-10 FOR $10</td><td>M</td><td>9.3458</td><td>Online-Delivery</td></tr><tr><th>12</th><td>502</td><td>913618</td><td>D-10P CKN 2-5PM</td><td>M</td><td>16.8224</td><td>Online-Delivery</td></tr><tr><th>13</th><td>502</td><td>710033</td><td>DEL SURCHARGE</td><td>M</td><td>3.7383</td><td>Online-Delivery</td></tr><tr><th>14</th><td>502</td><td>3</td><td>D-DBS Paylah</td><td>T</td><td>29.9065</td><td>Online-Delivery</td></tr><tr><th>15</th><td>502</td><td>916137</td><td>D-FM POT BWL</td><td>M</td><td>5.0</td><td>Online-Delivery</td></tr><tr><th>16</th><td>502</td><td>710018</td><td>D-C/SL MED</td><td>M</td><td>3.4579</td><td>Online-Delivery</td></tr><tr><th>17</th><td>502</td><td>710021</td><td>D-W/PT MED</td><td>M</td><td>3.4579</td><td>Online-Delivery</td></tr><tr><th>18</th><td>502</td><td>919893</td><td>D-8P FOR $15</td><td>M</td><td>14.0187</td><td>Online-Delivery</td></tr><tr><th>19</th><td>502</td><td>710033</td><td>DEL SURCHARGE</td><td>M</td><td>3.7383</td><td>Online-Delivery</td></tr><tr><th>20</th><td>502</td><td>8</td><td>D-eNETS CREDIT</td><td>T</td><td>29.6729</td><td>Online-Delivery</td></tr><tr><th>21</th><td>502</td><td>913961</td><td>D-8P VRTY FEAST</td><td>M</td><td>38.271</td><td>Online-Delivery</td></tr><tr><th>22</th><td>502</td><td>710033</td><td>DEL SURCHARGE</td><td>M</td><td>3.7383</td><td>Online-Delivery</td></tr><tr><th>23</th><td>502</td><td>8</td><td>D-eNETS CREDIT</td><td>T</td><td>42.0093</td><td>Online-Delivery</td></tr><tr><th>24</th><td>502</td><td>921466</td><td>D-2P CKN BX</td><td>M</td><td>39.2523</td><td>Online-Delivery</td></tr><tr><th>25</th><td>502</td><td>921466</td><td>D-2P CKN BX</td><td>M</td><td>39.2523</td><td>Online-Delivery</td></tr><tr><th>26</th><td>502</td><td>921466</td><td>D-2P CKN BX</td><td>M</td><td>29.4393</td><td>Online-Delivery</td></tr><tr><th>27</th><td>502</td><td>710033</td><td>DEL SURCHARGE</td><td>M</td><td>3.7383</td><td>Online-Delivery</td></tr><tr><th>28</th><td>502</td><td>8</td><td>D-eNETS CREDIT</td><td>T</td><td>111.682</td><td>Online-Delivery</td></tr><tr><th>29</th><td>502</td><td>913299</td><td>D-AO 2 CHZ FRIES-APP</td><td>M</td><td>5.6075</td><td>Online-Delivery</td></tr><tr><th>30</th><td>502</td><td>922023</td><td>D-10 FOR $10</td><td>M</td><td>9.3458</td><td>Online-Delivery</td></tr><tr><th>&vellip;</th><td>&vellip;</td><td>&vellip;</td><td>&vellip;</td><td>&vellip;</td><td>&vellip;</td><td>&vellip;</td></tr></tbody></table>"
      ],
      "text/latex": [
       "\\begin{tabular}{r|ccccccc}\n",
       "\t& storenum & item\\_key & item\\_description & transaction\\_type & sales\\_amount & sales\\_channel & \\\\\n",
       "\t\\hline\n",
       "\t& Int64 & Int64 & String & String & Float64 & String & \\\\\n",
       "\t\\hline\n",
       "\t1 & 502 & 916755 & D-10P CKN BKT & M & 26.9159 & Online-Delivery & $\\dots$ \\\\\n",
       "\t2 & 502 & 710033 & DEL SURCHARGE & M & 3.7383 & Online-Delivery & $\\dots$ \\\\\n",
       "\t3 & 502 & 1 & D-CASH & T & 30.6542 & Online-Delivery & $\\dots$ \\\\\n",
       "\t4 & 502 & 700103 & D-3PC ML(OR) & M & 58.4112 & Phone-Delivery & $\\dots$ \\\\\n",
       "\t5 & 502 & 710033 & DEL SURCHARGE & M & 3.7383 & Phone-Delivery & $\\dots$ \\\\\n",
       "\t6 & 502 & 1 & D-CASH & T & 62.1495 & Phone-Delivery & $\\dots$ \\\\\n",
       "\t7 & 502 & 710009 & D-ZINGER & M & 10.9346 & Phone-Delivery & $\\dots$ \\\\\n",
       "\t8 & 502 & 700103 & D-3PC ML(OR) & M & 46.729 & Phone-Delivery & $\\dots$ \\\\\n",
       "\t9 & 502 & 710033 & DEL SURCHARGE & M & 3.7383 & Phone-Delivery & $\\dots$ \\\\\n",
       "\t10 & 502 & 1 & D-CASH & T & 61.4019 & Phone-Delivery & $\\dots$ \\\\\n",
       "\t11 & 502 & 922023 & D-10 FOR \\$10 & M & 9.3458 & Online-Delivery & $\\dots$ \\\\\n",
       "\t12 & 502 & 913618 & D-10P CKN 2-5PM & M & 16.8224 & Online-Delivery & $\\dots$ \\\\\n",
       "\t13 & 502 & 710033 & DEL SURCHARGE & M & 3.7383 & Online-Delivery & $\\dots$ \\\\\n",
       "\t14 & 502 & 3 & D-DBS Paylah & T & 29.9065 & Online-Delivery & $\\dots$ \\\\\n",
       "\t15 & 502 & 916137 & D-FM POT BWL & M & 5.0 & Online-Delivery & $\\dots$ \\\\\n",
       "\t16 & 502 & 710018 & D-C/SL MED & M & 3.4579 & Online-Delivery & $\\dots$ \\\\\n",
       "\t17 & 502 & 710021 & D-W/PT MED & M & 3.4579 & Online-Delivery & $\\dots$ \\\\\n",
       "\t18 & 502 & 919893 & D-8P FOR \\$15 & M & 14.0187 & Online-Delivery & $\\dots$ \\\\\n",
       "\t19 & 502 & 710033 & DEL SURCHARGE & M & 3.7383 & Online-Delivery & $\\dots$ \\\\\n",
       "\t20 & 502 & 8 & D-eNETS CREDIT & T & 29.6729 & Online-Delivery & $\\dots$ \\\\\n",
       "\t21 & 502 & 913961 & D-8P VRTY FEAST & M & 38.271 & Online-Delivery & $\\dots$ \\\\\n",
       "\t22 & 502 & 710033 & DEL SURCHARGE & M & 3.7383 & Online-Delivery & $\\dots$ \\\\\n",
       "\t23 & 502 & 8 & D-eNETS CREDIT & T & 42.0093 & Online-Delivery & $\\dots$ \\\\\n",
       "\t24 & 502 & 921466 & D-2P CKN BX & M & 39.2523 & Online-Delivery & $\\dots$ \\\\\n",
       "\t25 & 502 & 921466 & D-2P CKN BX & M & 39.2523 & Online-Delivery & $\\dots$ \\\\\n",
       "\t26 & 502 & 921466 & D-2P CKN BX & M & 29.4393 & Online-Delivery & $\\dots$ \\\\\n",
       "\t27 & 502 & 710033 & DEL SURCHARGE & M & 3.7383 & Online-Delivery & $\\dots$ \\\\\n",
       "\t28 & 502 & 8 & D-eNETS CREDIT & T & 111.682 & Online-Delivery & $\\dots$ \\\\\n",
       "\t29 & 502 & 913299 & D-AO 2 CHZ FRIES-APP & M & 5.6075 & Online-Delivery & $\\dots$ \\\\\n",
       "\t30 & 502 & 922023 & D-10 FOR \\$10 & M & 9.3458 & Online-Delivery & $\\dots$ \\\\\n",
       "\t$\\dots$ & $\\dots$ & $\\dots$ & $\\dots$ & $\\dots$ & $\\dots$ & $\\dots$ &  \\\\\n",
       "\\end{tabular}\n"
      ],
      "text/plain": [
       "\u001b[1m6859688×11 DataFrame\u001b[0m\n",
       "\u001b[1m     Row \u001b[0m│\u001b[1m storenum \u001b[0m\u001b[1m item_key \u001b[0m\u001b[1m item_description \u001b[0m\u001b[1m transaction_type \u001b[0m\u001b[1m sales_amoun\u001b[0m ⋯\n",
       "\u001b[1m         \u001b[0m│\u001b[90m Int64    \u001b[0m\u001b[90m Int64    \u001b[0m\u001b[90m String           \u001b[0m\u001b[90m String           \u001b[0m\u001b[90m Float64    \u001b[0m ⋯\n",
       "─────────┼──────────────────────────────────────────────────────────────────────\n",
       "       1 │      502    916755  D-10P CKN BKT     M                    26.9159  ⋯\n",
       "       2 │      502    710033  DEL SURCHARGE     M                     3.7383\n",
       "       3 │      502         1  D-CASH            T                    30.6542\n",
       "       4 │      502    700103  D-3PC ML(OR)      M                    58.4112\n",
       "       5 │      502    710033  DEL SURCHARGE     M                     3.7383  ⋯\n",
       "       6 │      502         1  D-CASH            T                    62.1495\n",
       "       7 │      502    710009  D-ZINGER          M                    10.9346\n",
       "       8 │      502    700103  D-3PC ML(OR)      M                    46.729\n",
       "       9 │      502    710033  DEL SURCHARGE     M                     3.7383  ⋯\n",
       "      10 │      502         1  D-CASH            T                    61.4019\n",
       "      11 │      502    922023  D-10 FOR $10      M                     9.3458\n",
       "    ⋮    │    ⋮         ⋮             ⋮                 ⋮               ⋮      ⋱\n",
       " 6859679 │      670    922110  2P(TG) ML         M                     8.3645\n",
       " 6859680 │      670    450011  RWP>CF            M                     2.0561  ⋯\n",
       " 6859681 │      670    914357  1P EGG TART       M                     1.215\n",
       " 6859682 │      670         8  D-eNETS CREDIT    T                    11.6355\n",
       " 6859683 │      670    912781  1 OR ZNG BX       M                     8.5514\n",
       " 6859684 │      670    450046  RFF>CFRIES        M                     1.8692  ⋯\n",
       " 6859685 │      670    914357  1P EGG TART       M                     1.215\n",
       " 6859686 │      670         8  D-eNETS CREDIT    T                    11.6355\n",
       " 6859687 │      670    921046  5P ACB 30%        M                     9.6262\n",
       " 6859688 │      670        15  DI-DBS PAYLAH     T                     9.62617 ⋯\n",
       "\u001b[36m                                              7 columns and 6859667 rows omitted\u001b[0m"
      ]
     },
     "execution_count": 3,
     "metadata": {},
     "output_type": "execute_result"
    }
   ],
   "source": [
    "df = DataFrame(CSV.File(\"Dataset2.csv\"))"
   ]
  },
  {
   "cell_type": "code",
   "execution_count": 4,
   "metadata": {
    "scrolled": true
   },
   "outputs": [
    {
     "data": {
      "text/html": [
       "<p><b>GroupedDataFrame with 1264700 groups based on key: store_transaction_key</b></p><p><i>First Group (3 rows): store_transaction_key = \"502_1724_2021-03-29\"</i></p><table class=\"data-frame\"><thead><tr><th></th><th>storenum</th><th>item_key</th><th>item_description</th><th>transaction_type</th><th>sales_amount</th><th>sales_channel</th></tr><tr><th></th><th>Int64</th><th>Int64</th><th>String</th><th>String</th><th>Float64</th><th>String</th></tr></thead><tbody><tr><th>1</th><td>502</td><td>916755</td><td>D-10P CKN BKT</td><td>M</td><td>26.9159</td><td>Online-Delivery</td></tr><tr><th>2</th><td>502</td><td>710033</td><td>DEL SURCHARGE</td><td>M</td><td>3.7383</td><td>Online-Delivery</td></tr><tr><th>3</th><td>502</td><td>1</td><td>D-CASH</td><td>T</td><td>30.6542</td><td>Online-Delivery</td></tr></tbody></table><p>&vellip;</p><p><i>Last Group (2 rows): store_transaction_key = \"670_5319_2021-05-07\"</i></p><table class=\"data-frame\"><thead><tr><th></th><th>storenum</th><th>item_key</th><th>item_description</th><th>transaction_type</th><th>sales_amount</th><th>sales_channel</th></tr><tr><th></th><th>Int64</th><th>Int64</th><th>String</th><th>String</th><th>Float64</th><th>String</th></tr></thead><tbody><tr><th>1</th><td>670</td><td>921046</td><td>5P ACB 30%</td><td>M</td><td>9.6262</td><td>Self-Ordering TA</td></tr><tr><th>2</th><td>670</td><td>15</td><td>DI-DBS PAYLAH</td><td>T</td><td>9.62617</td><td>Self-Ordering TA</td></tr></tbody></table>"
      ],
      "text/latex": [
       "GroupedDataFrame with 1264700 groups based on key: store\\_transaction\\_key\n",
       "\n",
       "First Group (3 rows): store\\_transaction\\_key = \"502\\_1724\\_2021-03-29\"\n",
       "\n",
       "\\begin{tabular}{r|ccccccc}\n",
       "\t& storenum & item\\_key & item\\_description & transaction\\_type & sales\\_amount & sales\\_channel & \\\\\n",
       "\t\\hline\n",
       "\t& Int64 & Int64 & String & String & Float64 & String & \\\\\n",
       "\t\\hline\n",
       "\t1 & 502 & 916755 & D-10P CKN BKT & M & 26.9159 & Online-Delivery & $\\dots$ \\\\\n",
       "\t2 & 502 & 710033 & DEL SURCHARGE & M & 3.7383 & Online-Delivery & $\\dots$ \\\\\n",
       "\t3 & 502 & 1 & D-CASH & T & 30.6542 & Online-Delivery & $\\dots$ \\\\\n",
       "\\end{tabular}\n",
       "\n",
       "$\\dots$\n",
       "\n",
       "Last Group (2 rows): store\\_transaction\\_key = \"670\\_5319\\_2021-05-07\"\n",
       "\n",
       "\\begin{tabular}{r|ccccccc}\n",
       "\t& storenum & item\\_key & item\\_description & transaction\\_type & sales\\_amount & sales\\_channel & \\\\\n",
       "\t\\hline\n",
       "\t& Int64 & Int64 & String & String & Float64 & String & \\\\\n",
       "\t\\hline\n",
       "\t1 & 670 & 921046 & 5P ACB 30\\% & M & 9.6262 & Self-Ordering TA & $\\dots$ \\\\\n",
       "\t2 & 670 & 15 & DI-DBS PAYLAH & T & 9.62617 & Self-Ordering TA & $\\dots$ \\\\\n",
       "\\end{tabular}\n"
      ],
      "text/plain": [
       "GroupedDataFrame with 1264700 groups based on key: store_transaction_key\n",
       "First Group (3 rows): store_transaction_key = \"502_1724_2021-03-29\"\n",
       "\u001b[1m Row \u001b[0m│\u001b[1m storenum \u001b[0m\u001b[1m item_key \u001b[0m\u001b[1m item_description \u001b[0m\u001b[1m transaction_type \u001b[0m\u001b[1m sales_amount \u001b[0m\u001b[1m s\u001b[0m ⋯\n",
       "\u001b[1m     \u001b[0m│\u001b[90m Int64    \u001b[0m\u001b[90m Int64    \u001b[0m\u001b[90m String           \u001b[0m\u001b[90m String           \u001b[0m\u001b[90m Float64      \u001b[0m\u001b[90m S\u001b[0m ⋯\n",
       "─────┼──────────────────────────────────────────────────────────────────────────\n",
       "   1 │      502    916755  D-10P CKN BKT     M                      26.9159  O ⋯\n",
       "   2 │      502    710033  DEL SURCHARGE     M                       3.7383  O\n",
       "   3 │      502         1  D-CASH            T                      30.6542  O\n",
       "\u001b[36m                                                               6 columns omitted\u001b[0m\n",
       "⋮\n",
       "Last Group (2 rows): store_transaction_key = \"670_5319_2021-05-07\"\n",
       "\u001b[1m Row \u001b[0m│\u001b[1m storenum \u001b[0m\u001b[1m item_key \u001b[0m\u001b[1m item_description \u001b[0m\u001b[1m transaction_type \u001b[0m\u001b[1m sales_amount \u001b[0m\u001b[1m s\u001b[0m ⋯\n",
       "\u001b[1m     \u001b[0m│\u001b[90m Int64    \u001b[0m\u001b[90m Int64    \u001b[0m\u001b[90m String           \u001b[0m\u001b[90m String           \u001b[0m\u001b[90m Float64      \u001b[0m\u001b[90m S\u001b[0m ⋯\n",
       "─────┼──────────────────────────────────────────────────────────────────────────\n",
       "   1 │      670    921046  5P ACB 30%        M                      9.6262   S ⋯\n",
       "   2 │      670        15  DI-DBS PAYLAH     T                      9.62617  S\n",
       "\u001b[36m                                                               6 columns omitted\u001b[0m"
      ]
     },
     "execution_count": 4,
     "metadata": {},
     "output_type": "execute_result"
    }
   ],
   "source": [
    "grp = groupby(df,:store_transaction_key)"
   ]
  },
  {
   "cell_type": "code",
   "execution_count": 5,
   "metadata": {
    "scrolled": true
   },
   "outputs": [
    {
     "data": {
      "text/plain": [
       "1264700-element Vector{Any}:\n",
       " \"Online-Delivery\"\n",
       " \"Phone-Delivery\"\n",
       " \"Phone-Delivery\"\n",
       " \"Online-Delivery\"\n",
       " \"Online-Delivery\"\n",
       " \"Online-Delivery\"\n",
       " \"Online-Delivery\"\n",
       " \"Online-Delivery\"\n",
       " \"Online-Delivery\"\n",
       " \"Online-Delivery\"\n",
       " \"Online-Delivery\"\n",
       " \"Online-Delivery\"\n",
       " \"Online-Delivery\"\n",
       " ⋮\n",
       " \"Self-Ordering EI\"\n",
       " \"Self-Ordering EI\"\n",
       " \"Self-Ordering EI\"\n",
       " \"Self-Ordering TA\"\n",
       " \"Self-Ordering EI\"\n",
       " \"Self-Ordering EI\"\n",
       " \"Self-Ordering TA\"\n",
       " \"Self-Ordering TA\"\n",
       " \"Self-Ordering TA\"\n",
       " \"Self-Ordering EI\"\n",
       " \"Self-Ordering EI\"\n",
       " \"Self-Ordering TA\""
      ]
     },
     "execution_count": 5,
     "metadata": {},
     "output_type": "execute_result"
    }
   ],
   "source": [
    "sales_channel = []\n",
    "store_transaction_key = []\n",
    "\n",
    "for i in 1:length(grp)\n",
    "    push!(sales_channel,grp[i].sales_channel[1])\n",
    "    push!(store_transaction_key,grp[i].store_transaction_key[1])\n",
    "end\n",
    "\n",
    "df_key_channel = DataFrame()\n",
    "\n",
    "df_key_channel.store_transaction_key = store_transaction_key\n",
    "df_key_channel.sales_channel = sales_channel"
   ]
  },
  {
   "cell_type": "code",
   "execution_count": 6,
   "metadata": {},
   "outputs": [
    {
     "data": {
      "text/plain": [
       "\"df_key_channel.csv\""
      ]
     },
     "execution_count": 6,
     "metadata": {},
     "output_type": "execute_result"
    }
   ],
   "source": [
    "CSV.write(\"df_key_channel.csv\",df_key_channel)"
   ]
  },
  {
   "cell_type": "code",
   "execution_count": 7,
   "metadata": {},
   "outputs": [],
   "source": [
    "dict = Dict()\n",
    "\n",
    "for i in 1:length(df_key_channel.store_transaction_key)\n",
    "    dict[df_key_channel.store_transaction_key[i]] = df_key_channel.sales_channel[i]\n",
    "end"
   ]
  },
  {
   "cell_type": "code",
   "execution_count": 8,
   "metadata": {},
   "outputs": [
    {
     "data": {
      "text/plain": [
       "key_channel_cluster (generic function with 1 method)"
      ]
     },
     "execution_count": 8,
     "metadata": {},
     "output_type": "execute_result"
    }
   ],
   "source": [
    "function key_channel_cluster(input_df)\n",
    "    sales_channel = []\n",
    "    for i in 1:length(input_df.store_transaction_key)\n",
    "        push!(sales_channel,dict[input_df.store_transaction_key[i]])\n",
    "    end\n",
    "    input_df.sales_channel = sales_channel\n",
    "    return input_df\n",
    "end"
   ]
  },
  {
   "cell_type": "code",
   "execution_count": 9,
   "metadata": {
    "scrolled": true
   },
   "outputs": [
    {
     "data": {
      "text/html": [
       "<table class=\"data-frame\"><thead><tr><th></th><th>store_transaction_key</th><th>cluster</th></tr><tr><th></th><th>String</th><th>Int64</th></tr></thead><tbody><p>131,812 rows × 2 columns</p><tr><th>1</th><td>502_1724_2021-03-29</td><td>1</td></tr><tr><th>2</th><td>502_1725_2021-03-29</td><td>1</td></tr><tr><th>3</th><td>502_1726_2021-03-29</td><td>1</td></tr><tr><th>4</th><td>502_1727_2021-03-29</td><td>1</td></tr><tr><th>5</th><td>502_1728_2021-03-29</td><td>1</td></tr><tr><th>6</th><td>502_1729_2021-03-29</td><td>1</td></tr><tr><th>7</th><td>502_1730_2021-03-29</td><td>1</td></tr><tr><th>8</th><td>502_1731_2021-03-29</td><td>1</td></tr><tr><th>9</th><td>502_1732_2021-03-29</td><td>1</td></tr><tr><th>10</th><td>502_6095_2021-03-29</td><td>1</td></tr><tr><th>11</th><td>502_6096_2021-03-29</td><td>1</td></tr><tr><th>12</th><td>502_6097_2021-03-29</td><td>1</td></tr><tr><th>13</th><td>502_6098_2021-03-29</td><td>1</td></tr><tr><th>14</th><td>502_6099_2021-03-29</td><td>1</td></tr><tr><th>15</th><td>502_6100_2021-03-29</td><td>1</td></tr><tr><th>16</th><td>502_6101_2021-03-29</td><td>1</td></tr><tr><th>17</th><td>502_6102_2021-03-29</td><td>1</td></tr><tr><th>18</th><td>502_6103_2021-03-29</td><td>1</td></tr><tr><th>19</th><td>502_6104_2021-03-29</td><td>1</td></tr><tr><th>20</th><td>502_6105_2021-03-29</td><td>1</td></tr><tr><th>21</th><td>502_6106_2021-03-29</td><td>1</td></tr><tr><th>22</th><td>502_6107_2021-03-29</td><td>1</td></tr><tr><th>23</th><td>502_6108_2021-03-29</td><td>1</td></tr><tr><th>24</th><td>502_6109_2021-03-29</td><td>2</td></tr><tr><th>25</th><td>502_6110_2021-03-29</td><td>2</td></tr><tr><th>26</th><td>502_6111_2021-03-29</td><td>1</td></tr><tr><th>27</th><td>502_6112_2021-03-29</td><td>1</td></tr><tr><th>28</th><td>502_6113_2021-03-29</td><td>2</td></tr><tr><th>29</th><td>502_6114_2021-03-29</td><td>1</td></tr><tr><th>30</th><td>502_6115_2021-03-29</td><td>1</td></tr><tr><th>&vellip;</th><td>&vellip;</td><td>&vellip;</td></tr></tbody></table>"
      ],
      "text/latex": [
       "\\begin{tabular}{r|cc}\n",
       "\t& store\\_transaction\\_key & cluster\\\\\n",
       "\t\\hline\n",
       "\t& String & Int64\\\\\n",
       "\t\\hline\n",
       "\t1 & 502\\_1724\\_2021-03-29 & 1 \\\\\n",
       "\t2 & 502\\_1725\\_2021-03-29 & 1 \\\\\n",
       "\t3 & 502\\_1726\\_2021-03-29 & 1 \\\\\n",
       "\t4 & 502\\_1727\\_2021-03-29 & 1 \\\\\n",
       "\t5 & 502\\_1728\\_2021-03-29 & 1 \\\\\n",
       "\t6 & 502\\_1729\\_2021-03-29 & 1 \\\\\n",
       "\t7 & 502\\_1730\\_2021-03-29 & 1 \\\\\n",
       "\t8 & 502\\_1731\\_2021-03-29 & 1 \\\\\n",
       "\t9 & 502\\_1732\\_2021-03-29 & 1 \\\\\n",
       "\t10 & 502\\_6095\\_2021-03-29 & 1 \\\\\n",
       "\t11 & 502\\_6096\\_2021-03-29 & 1 \\\\\n",
       "\t12 & 502\\_6097\\_2021-03-29 & 1 \\\\\n",
       "\t13 & 502\\_6098\\_2021-03-29 & 1 \\\\\n",
       "\t14 & 502\\_6099\\_2021-03-29 & 1 \\\\\n",
       "\t15 & 502\\_6100\\_2021-03-29 & 1 \\\\\n",
       "\t16 & 502\\_6101\\_2021-03-29 & 1 \\\\\n",
       "\t17 & 502\\_6102\\_2021-03-29 & 1 \\\\\n",
       "\t18 & 502\\_6103\\_2021-03-29 & 1 \\\\\n",
       "\t19 & 502\\_6104\\_2021-03-29 & 1 \\\\\n",
       "\t20 & 502\\_6105\\_2021-03-29 & 1 \\\\\n",
       "\t21 & 502\\_6106\\_2021-03-29 & 1 \\\\\n",
       "\t22 & 502\\_6107\\_2021-03-29 & 1 \\\\\n",
       "\t23 & 502\\_6108\\_2021-03-29 & 1 \\\\\n",
       "\t24 & 502\\_6109\\_2021-03-29 & 2 \\\\\n",
       "\t25 & 502\\_6110\\_2021-03-29 & 2 \\\\\n",
       "\t26 & 502\\_6111\\_2021-03-29 & 1 \\\\\n",
       "\t27 & 502\\_6112\\_2021-03-29 & 1 \\\\\n",
       "\t28 & 502\\_6113\\_2021-03-29 & 2 \\\\\n",
       "\t29 & 502\\_6114\\_2021-03-29 & 1 \\\\\n",
       "\t30 & 502\\_6115\\_2021-03-29 & 1 \\\\\n",
       "\t$\\dots$ & $\\dots$ & $\\dots$ \\\\\n",
       "\\end{tabular}\n"
      ],
      "text/plain": [
       "\u001b[1m131812×2 DataFrame\u001b[0m\n",
       "\u001b[1m    Row \u001b[0m│\u001b[1m store_transaction_key \u001b[0m\u001b[1m cluster \u001b[0m\n",
       "\u001b[1m        \u001b[0m│\u001b[90m String                \u001b[0m\u001b[90m Int64   \u001b[0m\n",
       "────────┼────────────────────────────────\n",
       "      1 │ 502_1724_2021-03-29          1\n",
       "      2 │ 502_1725_2021-03-29          1\n",
       "      3 │ 502_1726_2021-03-29          1\n",
       "      4 │ 502_1727_2021-03-29          1\n",
       "      5 │ 502_1728_2021-03-29          1\n",
       "      6 │ 502_1729_2021-03-29          1\n",
       "      7 │ 502_1730_2021-03-29          1\n",
       "      8 │ 502_1731_2021-03-29          1\n",
       "      9 │ 502_1732_2021-03-29          1\n",
       "     10 │ 502_6095_2021-03-29          1\n",
       "     11 │ 502_6096_2021-03-29          1\n",
       "   ⋮    │           ⋮               ⋮\n",
       " 131803 │ 670_4995_2021-05-07          1\n",
       " 131804 │ 670_4996_2021-05-07          1\n",
       " 131805 │ 670_4997_2021-05-07          2\n",
       " 131806 │ 670_4998_2021-05-07          1\n",
       " 131807 │ 670_4999_2021-05-07          2\n",
       " 131808 │ 670_5212_2021-05-07          1\n",
       " 131809 │ 670_5261_2021-05-07          1\n",
       " 131810 │ 670_5262_2021-05-07          1\n",
       " 131811 │ 670_5263_2021-05-07          1\n",
       " 131812 │ 670_5264_2021-05-07          1\n",
       "\u001b[36m                      131791 rows omitted\u001b[0m"
      ]
     },
     "execution_count": 9,
     "metadata": {},
     "output_type": "execute_result"
    }
   ],
   "source": [
    "df1 = DataFrame(CSV.File(\"/home/vikas/Downloads/Breakfast_Weekday_Clusters.csv\"))"
   ]
  },
  {
   "cell_type": "code",
   "execution_count": 10,
   "metadata": {
    "scrolled": true
   },
   "outputs": [
    {
     "data": {
      "text/html": [
       "<table class=\"data-frame\"><thead><tr><th></th><th>store_transaction_key</th><th>cluster</th><th>sales_channel</th></tr><tr><th></th><th>String</th><th>Int64</th><th>Any</th></tr></thead><tbody><p>131,812 rows × 3 columns</p><tr><th>1</th><td>502_1724_2021-03-29</td><td>1</td><td>Online-Delivery</td></tr><tr><th>2</th><td>502_1725_2021-03-29</td><td>1</td><td>Phone-Delivery</td></tr><tr><th>3</th><td>502_1726_2021-03-29</td><td>1</td><td>Phone-Delivery</td></tr><tr><th>4</th><td>502_1727_2021-03-29</td><td>1</td><td>Online-Delivery</td></tr><tr><th>5</th><td>502_1728_2021-03-29</td><td>1</td><td>Online-Delivery</td></tr><tr><th>6</th><td>502_1729_2021-03-29</td><td>1</td><td>Online-Delivery</td></tr><tr><th>7</th><td>502_1730_2021-03-29</td><td>1</td><td>Online-Delivery</td></tr><tr><th>8</th><td>502_1731_2021-03-29</td><td>1</td><td>Online-Delivery</td></tr><tr><th>9</th><td>502_1732_2021-03-29</td><td>1</td><td>Online-Delivery</td></tr><tr><th>10</th><td>502_6095_2021-03-29</td><td>1</td><td>Breakfast (BF)</td></tr><tr><th>11</th><td>502_6096_2021-03-29</td><td>1</td><td>Drive-Thru</td></tr><tr><th>12</th><td>502_6097_2021-03-29</td><td>1</td><td>Drive-Thru</td></tr><tr><th>13</th><td>502_6098_2021-03-29</td><td>1</td><td>Breakfast (BF)</td></tr><tr><th>14</th><td>502_6099_2021-03-29</td><td>1</td><td>Breakfast (BF)</td></tr><tr><th>15</th><td>502_6100_2021-03-29</td><td>1</td><td>Breakfast (BF)</td></tr><tr><th>16</th><td>502_6101_2021-03-29</td><td>1</td><td>Breakfast (BF)</td></tr><tr><th>17</th><td>502_6102_2021-03-29</td><td>1</td><td>Drive-Thru</td></tr><tr><th>18</th><td>502_6103_2021-03-29</td><td>1</td><td>Drive-Thru</td></tr><tr><th>19</th><td>502_6104_2021-03-29</td><td>1</td><td>Breakfast (BF)</td></tr><tr><th>20</th><td>502_6105_2021-03-29</td><td>1</td><td>Breakfast (BF)</td></tr><tr><th>21</th><td>502_6106_2021-03-29</td><td>1</td><td>Drive-Thru</td></tr><tr><th>22</th><td>502_6107_2021-03-29</td><td>1</td><td>Breakfast (BF)</td></tr><tr><th>23</th><td>502_6108_2021-03-29</td><td>1</td><td>Breakfast (BF)</td></tr><tr><th>24</th><td>502_6109_2021-03-29</td><td>2</td><td>Grabfood Breakfast</td></tr><tr><th>25</th><td>502_6110_2021-03-29</td><td>2</td><td>Grabfood Breakfast</td></tr><tr><th>26</th><td>502_6111_2021-03-29</td><td>1</td><td>Take Away (TA)</td></tr><tr><th>27</th><td>502_6112_2021-03-29</td><td>1</td><td>Eat In (EI)</td></tr><tr><th>28</th><td>502_6113_2021-03-29</td><td>2</td><td>Grabfood Daypart</td></tr><tr><th>29</th><td>502_6114_2021-03-29</td><td>1</td><td>Eat In (EI)</td></tr><tr><th>30</th><td>502_6115_2021-03-29</td><td>1</td><td>Eat In (EI)</td></tr><tr><th>&vellip;</th><td>&vellip;</td><td>&vellip;</td><td>&vellip;</td></tr></tbody></table>"
      ],
      "text/latex": [
       "\\begin{tabular}{r|ccc}\n",
       "\t& store\\_transaction\\_key & cluster & sales\\_channel\\\\\n",
       "\t\\hline\n",
       "\t& String & Int64 & Any\\\\\n",
       "\t\\hline\n",
       "\t1 & 502\\_1724\\_2021-03-29 & 1 & Online-Delivery \\\\\n",
       "\t2 & 502\\_1725\\_2021-03-29 & 1 & Phone-Delivery \\\\\n",
       "\t3 & 502\\_1726\\_2021-03-29 & 1 & Phone-Delivery \\\\\n",
       "\t4 & 502\\_1727\\_2021-03-29 & 1 & Online-Delivery \\\\\n",
       "\t5 & 502\\_1728\\_2021-03-29 & 1 & Online-Delivery \\\\\n",
       "\t6 & 502\\_1729\\_2021-03-29 & 1 & Online-Delivery \\\\\n",
       "\t7 & 502\\_1730\\_2021-03-29 & 1 & Online-Delivery \\\\\n",
       "\t8 & 502\\_1731\\_2021-03-29 & 1 & Online-Delivery \\\\\n",
       "\t9 & 502\\_1732\\_2021-03-29 & 1 & Online-Delivery \\\\\n",
       "\t10 & 502\\_6095\\_2021-03-29 & 1 & Breakfast (BF) \\\\\n",
       "\t11 & 502\\_6096\\_2021-03-29 & 1 & Drive-Thru \\\\\n",
       "\t12 & 502\\_6097\\_2021-03-29 & 1 & Drive-Thru \\\\\n",
       "\t13 & 502\\_6098\\_2021-03-29 & 1 & Breakfast (BF) \\\\\n",
       "\t14 & 502\\_6099\\_2021-03-29 & 1 & Breakfast (BF) \\\\\n",
       "\t15 & 502\\_6100\\_2021-03-29 & 1 & Breakfast (BF) \\\\\n",
       "\t16 & 502\\_6101\\_2021-03-29 & 1 & Breakfast (BF) \\\\\n",
       "\t17 & 502\\_6102\\_2021-03-29 & 1 & Drive-Thru \\\\\n",
       "\t18 & 502\\_6103\\_2021-03-29 & 1 & Drive-Thru \\\\\n",
       "\t19 & 502\\_6104\\_2021-03-29 & 1 & Breakfast (BF) \\\\\n",
       "\t20 & 502\\_6105\\_2021-03-29 & 1 & Breakfast (BF) \\\\\n",
       "\t21 & 502\\_6106\\_2021-03-29 & 1 & Drive-Thru \\\\\n",
       "\t22 & 502\\_6107\\_2021-03-29 & 1 & Breakfast (BF) \\\\\n",
       "\t23 & 502\\_6108\\_2021-03-29 & 1 & Breakfast (BF) \\\\\n",
       "\t24 & 502\\_6109\\_2021-03-29 & 2 & Grabfood Breakfast \\\\\n",
       "\t25 & 502\\_6110\\_2021-03-29 & 2 & Grabfood Breakfast \\\\\n",
       "\t26 & 502\\_6111\\_2021-03-29 & 1 & Take Away (TA) \\\\\n",
       "\t27 & 502\\_6112\\_2021-03-29 & 1 & Eat In (EI) \\\\\n",
       "\t28 & 502\\_6113\\_2021-03-29 & 2 & Grabfood Daypart \\\\\n",
       "\t29 & 502\\_6114\\_2021-03-29 & 1 & Eat In (EI) \\\\\n",
       "\t30 & 502\\_6115\\_2021-03-29 & 1 & Eat In (EI) \\\\\n",
       "\t$\\dots$ & $\\dots$ & $\\dots$ & $\\dots$ \\\\\n",
       "\\end{tabular}\n"
      ],
      "text/plain": [
       "\u001b[1m131812×3 DataFrame\u001b[0m\n",
       "\u001b[1m    Row \u001b[0m│\u001b[1m store_transaction_key \u001b[0m\u001b[1m cluster \u001b[0m\u001b[1m sales_channel     \u001b[0m\n",
       "\u001b[1m        \u001b[0m│\u001b[90m String                \u001b[0m\u001b[90m Int64   \u001b[0m\u001b[90m Any               \u001b[0m\n",
       "────────┼───────────────────────────────────────────────────\n",
       "      1 │ 502_1724_2021-03-29          1  Online-Delivery\n",
       "      2 │ 502_1725_2021-03-29          1  Phone-Delivery\n",
       "      3 │ 502_1726_2021-03-29          1  Phone-Delivery\n",
       "      4 │ 502_1727_2021-03-29          1  Online-Delivery\n",
       "      5 │ 502_1728_2021-03-29          1  Online-Delivery\n",
       "      6 │ 502_1729_2021-03-29          1  Online-Delivery\n",
       "      7 │ 502_1730_2021-03-29          1  Online-Delivery\n",
       "      8 │ 502_1731_2021-03-29          1  Online-Delivery\n",
       "      9 │ 502_1732_2021-03-29          1  Online-Delivery\n",
       "     10 │ 502_6095_2021-03-29          1  Breakfast (BF)\n",
       "     11 │ 502_6096_2021-03-29          1  Drive-Thru\n",
       "   ⋮    │           ⋮               ⋮             ⋮\n",
       " 131803 │ 670_4995_2021-05-07          1  Eat In (EI)\n",
       " 131804 │ 670_4996_2021-05-07          1  Eat In (EI)\n",
       " 131805 │ 670_4997_2021-05-07          2  Grabfood Daypart\n",
       " 131806 │ 670_4998_2021-05-07          1  Eat In (EI)\n",
       " 131807 │ 670_4999_2021-05-07          2  Grabfood Daypart\n",
       " 131808 │ 670_5212_2021-05-07          1  Self-Ordering TA\n",
       " 131809 │ 670_5261_2021-05-07          1  Self-Ordering EI\n",
       " 131810 │ 670_5262_2021-05-07          1  Self-Ordering EI\n",
       " 131811 │ 670_5263_2021-05-07          1  Self-Ordering TA\n",
       " 131812 │ 670_5264_2021-05-07          1  Self-Ordering EI\n",
       "\u001b[36m                                         131791 rows omitted\u001b[0m"
      ]
     },
     "execution_count": 10,
     "metadata": {},
     "output_type": "execute_result"
    }
   ],
   "source": [
    "df1 = key_channel_cluster(df1)"
   ]
  },
  {
   "cell_type": "code",
   "execution_count": 12,
   "metadata": {},
   "outputs": [
    {
     "data": {
      "text/plain": [
       "\"/home/vikas/Downloads/Breakfast_Weekday_Clusters_sales_channel.csv\""
      ]
     },
     "execution_count": 12,
     "metadata": {},
     "output_type": "execute_result"
    }
   ],
   "source": [
    "CSV.write(\"/home/vikas/Downloads/Breakfast_Weekday_Clusters_sales_channel.csv\",df1)"
   ]
  },
  {
   "cell_type": "code",
   "execution_count": 13,
   "metadata": {},
   "outputs": [
    {
     "data": {
      "text/plain": [
       "\"/home/vikas/Downloads/Breakfast_Weekend_Clusters.csv_sales_channel.csv\""
      ]
     },
     "execution_count": 13,
     "metadata": {},
     "output_type": "execute_result"
    }
   ],
   "source": [
    "df1 = DataFrame(CSV.File(\"/home/vikas/Downloads/Breakfast_Weekend_Clusters.csv\"))\n",
    "df1 = key_channel_cluster(df1)\n",
    "CSV.write(\"/home/vikas/Downloads/Breakfast_Weekend_Clusters.csv_sales_channel.csv\",df1)"
   ]
  },
  {
   "cell_type": "code",
   "execution_count": 14,
   "metadata": {},
   "outputs": [
    {
     "data": {
      "text/plain": [
       "\"/home/vikas/Downloads/Dinner_Weekend_Clusters_sales_channel.csv\""
      ]
     },
     "execution_count": 14,
     "metadata": {},
     "output_type": "execute_result"
    }
   ],
   "source": [
    "df1 = DataFrame(CSV.File(\"/home/vikas/Downloads/Dinner_Weekend_Clusters.csv\"))\n",
    "df1 = key_channel_cluster(df1)\n",
    "CSV.write(\"/home/vikas/Downloads/Dinner_Weekend_Clusters_sales_channel.csv\",df1)"
   ]
  },
  {
   "cell_type": "code",
   "execution_count": 15,
   "metadata": {},
   "outputs": [
    {
     "data": {
      "text/plain": [
       "\"/home/vikas/Downloads/Lunch_Weekend_Clusters_sales_channel.csv\""
      ]
     },
     "execution_count": 15,
     "metadata": {},
     "output_type": "execute_result"
    }
   ],
   "source": [
    "df1 = DataFrame(CSV.File(\"/home/vikas/Downloads/Lunch_Weekend_Clusters.csv\"))\n",
    "df1 = key_channel_cluster(df1)\n",
    "CSV.write(\"/home/vikas/Downloads/Lunch_Weekend_Clusters_sales_channel.csv\",df1)"
   ]
  },
  {
   "cell_type": "code",
   "execution_count": 16,
   "metadata": {},
   "outputs": [
    {
     "data": {
      "text/plain": [
       "\"/home/vikas/Downloads/Lunch_Weekday_Clusters_sales_channel.csv\""
      ]
     },
     "execution_count": 16,
     "metadata": {},
     "output_type": "execute_result"
    }
   ],
   "source": [
    "df1 = DataFrame(CSV.File(\"/home/vikas/Downloads/Lunch_Weekday_Clusters.csv\"))\n",
    "df1 = key_channel_cluster(df1)\n",
    "CSV.write(\"/home/vikas/Downloads/Lunch_Weekday_Clusters_sales_channel.csv\",df1)"
   ]
  },
  {
   "cell_type": "code",
   "execution_count": 17,
   "metadata": {},
   "outputs": [
    {
     "data": {
      "text/plain": [
       "\"/home/vikas/Downloads/Dinner_Weekday_Clusters_sales_channel.csv\""
      ]
     },
     "execution_count": 17,
     "metadata": {},
     "output_type": "execute_result"
    }
   ],
   "source": [
    "df1 = DataFrame(CSV.File(\"/home/vikas/Downloads/Dinner_Weekday_Clusters.csv\"))\n",
    "df1 = key_channel_cluster(df1)\n",
    "CSV.write(\"/home/vikas/Downloads/Dinner_Weekday_Clusters_sales_channel.csv\",df1)"
   ]
  },
  {
   "cell_type": "code",
   "execution_count": 20,
   "metadata": {},
   "outputs": [
    {
     "data": {
      "text/plain": [
       "channel_vs_cluster (generic function with 1 method)"
      ]
     },
     "execution_count": 20,
     "metadata": {},
     "output_type": "execute_result"
    }
   ],
   "source": [
    "#Preparing cluster-wise sales_channel data\n",
    "function channel_vs_cluster(df)\n",
    "    grp1 = groupby(df,:cluster)\n",
    "    d = DataFrame()\n",
    "    s = unique(df.sales_channel)\n",
    "    d.i = s\n",
    "\n",
    "    for i in 1:length(grp1)\n",
    "        cnt=Dict()\n",
    "        for j in 1:length(grp1[i].sales_channel)\n",
    "            if grp1[i].sales_channel[j] in keys(cnt)\n",
    "                cnt[grp1[i].sales_channel[j]]=cnt[grp1[i].sales_channel[j]] + 1\n",
    "            else\n",
    "                cnt[grp1[i].sales_channel[j]] = 1\n",
    "            end\n",
    "        end\n",
    "        ar = []\n",
    "        for (index,value) in enumerate(s)\n",
    "            if value in keys(cnt)\n",
    "                push!(ar,cnt[value])\n",
    "            else\n",
    "                push!(ar,0)\n",
    "            end\n",
    "        end\n",
    "        dz=DataFrame()\n",
    "        dz.i=ar\n",
    "        d=hcat(d,dz,makeunique=true)\n",
    "    end\n",
    "    return d\n",
    "end"
   ]
  },
  {
   "cell_type": "code",
   "execution_count": 19,
   "metadata": {
    "scrolled": true
   },
   "outputs": [
    {
     "data": {
      "text/html": [
       "<table class=\"data-frame\"><thead><tr><th></th><th>store_transaction_key</th><th>cluster</th><th>sales_channel</th></tr><tr><th></th><th>String</th><th>Int64</th><th>String</th></tr></thead><tbody><p>131,812 rows × 3 columns</p><tr><th>1</th><td>502_1724_2021-03-29</td><td>1</td><td>Online-Delivery</td></tr><tr><th>2</th><td>502_1725_2021-03-29</td><td>1</td><td>Phone-Delivery</td></tr><tr><th>3</th><td>502_1726_2021-03-29</td><td>1</td><td>Phone-Delivery</td></tr><tr><th>4</th><td>502_1727_2021-03-29</td><td>1</td><td>Online-Delivery</td></tr><tr><th>5</th><td>502_1728_2021-03-29</td><td>1</td><td>Online-Delivery</td></tr><tr><th>6</th><td>502_1729_2021-03-29</td><td>1</td><td>Online-Delivery</td></tr><tr><th>7</th><td>502_1730_2021-03-29</td><td>1</td><td>Online-Delivery</td></tr><tr><th>8</th><td>502_1731_2021-03-29</td><td>1</td><td>Online-Delivery</td></tr><tr><th>9</th><td>502_1732_2021-03-29</td><td>1</td><td>Online-Delivery</td></tr><tr><th>10</th><td>502_6095_2021-03-29</td><td>1</td><td>Breakfast (BF)</td></tr><tr><th>11</th><td>502_6096_2021-03-29</td><td>1</td><td>Drive-Thru</td></tr><tr><th>12</th><td>502_6097_2021-03-29</td><td>1</td><td>Drive-Thru</td></tr><tr><th>13</th><td>502_6098_2021-03-29</td><td>1</td><td>Breakfast (BF)</td></tr><tr><th>14</th><td>502_6099_2021-03-29</td><td>1</td><td>Breakfast (BF)</td></tr><tr><th>15</th><td>502_6100_2021-03-29</td><td>1</td><td>Breakfast (BF)</td></tr><tr><th>16</th><td>502_6101_2021-03-29</td><td>1</td><td>Breakfast (BF)</td></tr><tr><th>17</th><td>502_6102_2021-03-29</td><td>1</td><td>Drive-Thru</td></tr><tr><th>18</th><td>502_6103_2021-03-29</td><td>1</td><td>Drive-Thru</td></tr><tr><th>19</th><td>502_6104_2021-03-29</td><td>1</td><td>Breakfast (BF)</td></tr><tr><th>20</th><td>502_6105_2021-03-29</td><td>1</td><td>Breakfast (BF)</td></tr><tr><th>21</th><td>502_6106_2021-03-29</td><td>1</td><td>Drive-Thru</td></tr><tr><th>22</th><td>502_6107_2021-03-29</td><td>1</td><td>Breakfast (BF)</td></tr><tr><th>23</th><td>502_6108_2021-03-29</td><td>1</td><td>Breakfast (BF)</td></tr><tr><th>24</th><td>502_6109_2021-03-29</td><td>2</td><td>Grabfood Breakfast</td></tr><tr><th>25</th><td>502_6110_2021-03-29</td><td>2</td><td>Grabfood Breakfast</td></tr><tr><th>26</th><td>502_6111_2021-03-29</td><td>1</td><td>Take Away (TA)</td></tr><tr><th>27</th><td>502_6112_2021-03-29</td><td>1</td><td>Eat In (EI)</td></tr><tr><th>28</th><td>502_6113_2021-03-29</td><td>2</td><td>Grabfood Daypart</td></tr><tr><th>29</th><td>502_6114_2021-03-29</td><td>1</td><td>Eat In (EI)</td></tr><tr><th>30</th><td>502_6115_2021-03-29</td><td>1</td><td>Eat In (EI)</td></tr><tr><th>&vellip;</th><td>&vellip;</td><td>&vellip;</td><td>&vellip;</td></tr></tbody></table>"
      ],
      "text/latex": [
       "\\begin{tabular}{r|ccc}\n",
       "\t& store\\_transaction\\_key & cluster & sales\\_channel\\\\\n",
       "\t\\hline\n",
       "\t& String & Int64 & String\\\\\n",
       "\t\\hline\n",
       "\t1 & 502\\_1724\\_2021-03-29 & 1 & Online-Delivery \\\\\n",
       "\t2 & 502\\_1725\\_2021-03-29 & 1 & Phone-Delivery \\\\\n",
       "\t3 & 502\\_1726\\_2021-03-29 & 1 & Phone-Delivery \\\\\n",
       "\t4 & 502\\_1727\\_2021-03-29 & 1 & Online-Delivery \\\\\n",
       "\t5 & 502\\_1728\\_2021-03-29 & 1 & Online-Delivery \\\\\n",
       "\t6 & 502\\_1729\\_2021-03-29 & 1 & Online-Delivery \\\\\n",
       "\t7 & 502\\_1730\\_2021-03-29 & 1 & Online-Delivery \\\\\n",
       "\t8 & 502\\_1731\\_2021-03-29 & 1 & Online-Delivery \\\\\n",
       "\t9 & 502\\_1732\\_2021-03-29 & 1 & Online-Delivery \\\\\n",
       "\t10 & 502\\_6095\\_2021-03-29 & 1 & Breakfast (BF) \\\\\n",
       "\t11 & 502\\_6096\\_2021-03-29 & 1 & Drive-Thru \\\\\n",
       "\t12 & 502\\_6097\\_2021-03-29 & 1 & Drive-Thru \\\\\n",
       "\t13 & 502\\_6098\\_2021-03-29 & 1 & Breakfast (BF) \\\\\n",
       "\t14 & 502\\_6099\\_2021-03-29 & 1 & Breakfast (BF) \\\\\n",
       "\t15 & 502\\_6100\\_2021-03-29 & 1 & Breakfast (BF) \\\\\n",
       "\t16 & 502\\_6101\\_2021-03-29 & 1 & Breakfast (BF) \\\\\n",
       "\t17 & 502\\_6102\\_2021-03-29 & 1 & Drive-Thru \\\\\n",
       "\t18 & 502\\_6103\\_2021-03-29 & 1 & Drive-Thru \\\\\n",
       "\t19 & 502\\_6104\\_2021-03-29 & 1 & Breakfast (BF) \\\\\n",
       "\t20 & 502\\_6105\\_2021-03-29 & 1 & Breakfast (BF) \\\\\n",
       "\t21 & 502\\_6106\\_2021-03-29 & 1 & Drive-Thru \\\\\n",
       "\t22 & 502\\_6107\\_2021-03-29 & 1 & Breakfast (BF) \\\\\n",
       "\t23 & 502\\_6108\\_2021-03-29 & 1 & Breakfast (BF) \\\\\n",
       "\t24 & 502\\_6109\\_2021-03-29 & 2 & Grabfood Breakfast \\\\\n",
       "\t25 & 502\\_6110\\_2021-03-29 & 2 & Grabfood Breakfast \\\\\n",
       "\t26 & 502\\_6111\\_2021-03-29 & 1 & Take Away (TA) \\\\\n",
       "\t27 & 502\\_6112\\_2021-03-29 & 1 & Eat In (EI) \\\\\n",
       "\t28 & 502\\_6113\\_2021-03-29 & 2 & Grabfood Daypart \\\\\n",
       "\t29 & 502\\_6114\\_2021-03-29 & 1 & Eat In (EI) \\\\\n",
       "\t30 & 502\\_6115\\_2021-03-29 & 1 & Eat In (EI) \\\\\n",
       "\t$\\dots$ & $\\dots$ & $\\dots$ & $\\dots$ \\\\\n",
       "\\end{tabular}\n"
      ],
      "text/plain": [
       "\u001b[1m131812×3 DataFrame\u001b[0m\n",
       "\u001b[1m    Row \u001b[0m│\u001b[1m store_transaction_key \u001b[0m\u001b[1m cluster \u001b[0m\u001b[1m sales_channel     \u001b[0m\n",
       "\u001b[1m        \u001b[0m│\u001b[90m String                \u001b[0m\u001b[90m Int64   \u001b[0m\u001b[90m String            \u001b[0m\n",
       "────────┼───────────────────────────────────────────────────\n",
       "      1 │ 502_1724_2021-03-29          1  Online-Delivery\n",
       "      2 │ 502_1725_2021-03-29          1  Phone-Delivery\n",
       "      3 │ 502_1726_2021-03-29          1  Phone-Delivery\n",
       "      4 │ 502_1727_2021-03-29          1  Online-Delivery\n",
       "      5 │ 502_1728_2021-03-29          1  Online-Delivery\n",
       "      6 │ 502_1729_2021-03-29          1  Online-Delivery\n",
       "      7 │ 502_1730_2021-03-29          1  Online-Delivery\n",
       "      8 │ 502_1731_2021-03-29          1  Online-Delivery\n",
       "      9 │ 502_1732_2021-03-29          1  Online-Delivery\n",
       "     10 │ 502_6095_2021-03-29          1  Breakfast (BF)\n",
       "     11 │ 502_6096_2021-03-29          1  Drive-Thru\n",
       "   ⋮    │           ⋮               ⋮             ⋮\n",
       " 131803 │ 670_4995_2021-05-07          1  Eat In (EI)\n",
       " 131804 │ 670_4996_2021-05-07          1  Eat In (EI)\n",
       " 131805 │ 670_4997_2021-05-07          2  Grabfood Daypart\n",
       " 131806 │ 670_4998_2021-05-07          1  Eat In (EI)\n",
       " 131807 │ 670_4999_2021-05-07          2  Grabfood Daypart\n",
       " 131808 │ 670_5212_2021-05-07          1  Self-Ordering TA\n",
       " 131809 │ 670_5261_2021-05-07          1  Self-Ordering EI\n",
       " 131810 │ 670_5262_2021-05-07          1  Self-Ordering EI\n",
       " 131811 │ 670_5263_2021-05-07          1  Self-Ordering TA\n",
       " 131812 │ 670_5264_2021-05-07          1  Self-Ordering EI\n",
       "\u001b[36m                                         131791 rows omitted\u001b[0m"
      ]
     },
     "execution_count": 19,
     "metadata": {},
     "output_type": "execute_result"
    }
   ],
   "source": [
    "df1 = DataFrame(CSV.File(\"/home/vikas/Downloads/Breakfast_Weekday_Clusters_sales_channel.csv\"))"
   ]
  },
  {
   "cell_type": "code",
   "execution_count": 21,
   "metadata": {
    "scrolled": true
   },
   "outputs": [
    {
     "data": {
      "text/html": [
       "<table class=\"data-frame\"><thead><tr><th></th><th>i</th><th>i_1</th><th>i_2</th></tr><tr><th></th><th>String</th><th>Any</th><th>Any</th></tr></thead><tbody><p>17 rows × 3 columns</p><tr><th>1</th><td>Online-Delivery</td><td>5871</td><td>6</td></tr><tr><th>2</th><td>Phone-Delivery</td><td>202</td><td>0</td></tr><tr><th>3</th><td>Breakfast (BF)</td><td>44113</td><td>0</td></tr><tr><th>4</th><td>Drive-Thru</td><td>1113</td><td>0</td></tr><tr><th>5</th><td>Grabfood Breakfast</td><td>3400</td><td>7176</td></tr><tr><th>6</th><td>Take Away (TA)</td><td>16015</td><td>25</td></tr><tr><th>7</th><td>Eat In (EI)</td><td>14452</td><td>51</td></tr><tr><th>8</th><td>Grabfood Daypart</td><td>319</td><td>3538</td></tr><tr><th>9</th><td>Self-Ordering EI</td><td>12061</td><td>0</td></tr><tr><th>10</th><td>Self-Ordering TA</td><td>13315</td><td>0</td></tr><tr><th>11</th><td>Foodpanda Breakfast</td><td>7258</td><td>2</td></tr><tr><th>12</th><td>Deliveroo Breakfast</td><td>1405</td><td>7</td></tr><tr><th>13</th><td>Deliveroo Daypart</td><td>348</td><td>11</td></tr><tr><th>14</th><td>Foodpanda Daypart</td><td>1113</td><td>2</td></tr><tr><th>15</th><td>Online-Pickup</td><td>3</td><td>0</td></tr><tr><th>16</th><td>Phone-Pickup</td><td>3</td><td>0</td></tr><tr><th>17</th><td>Catering</td><td>3</td><td>0</td></tr></tbody></table>"
      ],
      "text/latex": [
       "\\begin{tabular}{r|ccc}\n",
       "\t& i & i\\_1 & i\\_2\\\\\n",
       "\t\\hline\n",
       "\t& String & Any & Any\\\\\n",
       "\t\\hline\n",
       "\t1 & Online-Delivery & 5871 & 6 \\\\\n",
       "\t2 & Phone-Delivery & 202 & 0 \\\\\n",
       "\t3 & Breakfast (BF) & 44113 & 0 \\\\\n",
       "\t4 & Drive-Thru & 1113 & 0 \\\\\n",
       "\t5 & Grabfood Breakfast & 3400 & 7176 \\\\\n",
       "\t6 & Take Away (TA) & 16015 & 25 \\\\\n",
       "\t7 & Eat In (EI) & 14452 & 51 \\\\\n",
       "\t8 & Grabfood Daypart & 319 & 3538 \\\\\n",
       "\t9 & Self-Ordering EI & 12061 & 0 \\\\\n",
       "\t10 & Self-Ordering TA & 13315 & 0 \\\\\n",
       "\t11 & Foodpanda Breakfast & 7258 & 2 \\\\\n",
       "\t12 & Deliveroo Breakfast & 1405 & 7 \\\\\n",
       "\t13 & Deliveroo Daypart & 348 & 11 \\\\\n",
       "\t14 & Foodpanda Daypart & 1113 & 2 \\\\\n",
       "\t15 & Online-Pickup & 3 & 0 \\\\\n",
       "\t16 & Phone-Pickup & 3 & 0 \\\\\n",
       "\t17 & Catering & 3 & 0 \\\\\n",
       "\\end{tabular}\n"
      ],
      "text/plain": [
       "\u001b[1m17×3 DataFrame\u001b[0m\n",
       "\u001b[1m Row \u001b[0m│\u001b[1m i                   \u001b[0m\u001b[1m i_1   \u001b[0m\u001b[1m i_2  \u001b[0m\n",
       "\u001b[1m     \u001b[0m│\u001b[90m String              \u001b[0m\u001b[90m Any   \u001b[0m\u001b[90m Any  \u001b[0m\n",
       "─────┼──────────────────────────────────\n",
       "   1 │ Online-Delivery      5871   6\n",
       "   2 │ Phone-Delivery       202    0\n",
       "   3 │ Breakfast (BF)       44113  0\n",
       "   4 │ Drive-Thru           1113   0\n",
       "   5 │ Grabfood Breakfast   3400   7176\n",
       "   6 │ Take Away (TA)       16015  25\n",
       "   7 │ Eat In (EI)          14452  51\n",
       "   8 │ Grabfood Daypart     319    3538\n",
       "   9 │ Self-Ordering EI     12061  0\n",
       "  10 │ Self-Ordering TA     13315  0\n",
       "  11 │ Foodpanda Breakfast  7258   2\n",
       "  12 │ Deliveroo Breakfast  1405   7\n",
       "  13 │ Deliveroo Daypart    348    11\n",
       "  14 │ Foodpanda Daypart    1113   2\n",
       "  15 │ Online-Pickup        3      0\n",
       "  16 │ Phone-Pickup         3      0\n",
       "  17 │ Catering             3      0"
      ]
     },
     "execution_count": 21,
     "metadata": {},
     "output_type": "execute_result"
    }
   ],
   "source": [
    "df1 = channel_vs_cluster(df1)"
   ]
  },
  {
   "cell_type": "code",
   "execution_count": 22,
   "metadata": {},
   "outputs": [
    {
     "data": {
      "text/plain": [
       "\"/home/vikas/Downloads/Breakfast_Weekday_channel_vs_cluster.csv\""
      ]
     },
     "execution_count": 22,
     "metadata": {},
     "output_type": "execute_result"
    }
   ],
   "source": [
    "CSV.write(\"/home/vikas/Downloads/Breakfast_Weekday_channel_vs_cluster.csv\",df1)"
   ]
  },
  {
   "cell_type": "code",
   "execution_count": 23,
   "metadata": {},
   "outputs": [
    {
     "data": {
      "text/plain": [
       "\"/home/vikas/Downloads/Breakfast_Weekend_channel_vs_cluster.csv\""
      ]
     },
     "execution_count": 23,
     "metadata": {},
     "output_type": "execute_result"
    }
   ],
   "source": [
    "df1 = DataFrame(CSV.File(\"/home/vikas/Downloads/Breakfast_Weekend_Clusters_sales_channel.csv\"))\n",
    "df1 = channel_vs_cluster(df1)\n",
    "CSV.write(\"/home/vikas/Downloads/Breakfast_Weekend_channel_vs_cluster.csv\",df1)"
   ]
  },
  {
   "cell_type": "code",
   "execution_count": 24,
   "metadata": {},
   "outputs": [
    {
     "data": {
      "text/plain": [
       "\"/home/vikas/Downloads/Dinner_Weekend_channel_vs_cluster.csv\""
      ]
     },
     "execution_count": 24,
     "metadata": {},
     "output_type": "execute_result"
    }
   ],
   "source": [
    "df1 = DataFrame(CSV.File(\"/home/vikas/Downloads/Dinner_Weekend_Clusters_sales_channel.csv\"))\n",
    "df1 = channel_vs_cluster(df1)\n",
    "CSV.write(\"/home/vikas/Downloads/Dinner_Weekend_channel_vs_cluster.csv\",df1)"
   ]
  },
  {
   "cell_type": "code",
   "execution_count": 25,
   "metadata": {},
   "outputs": [
    {
     "data": {
      "text/plain": [
       "\"/home/vikas/Downloads/Lunch_Weekend_channel_vs_cluster.csv\""
      ]
     },
     "execution_count": 25,
     "metadata": {},
     "output_type": "execute_result"
    }
   ],
   "source": [
    "df1 = DataFrame(CSV.File(\"/home/vikas/Downloads/Lunch_Weekend_Clusters_sales_channel.csv\"))\n",
    "df1 = channel_vs_cluster(df1)\n",
    "CSV.write(\"/home/vikas/Downloads/Lunch_Weekend_channel_vs_cluster.csv\",df1)"
   ]
  },
  {
   "cell_type": "code",
   "execution_count": 26,
   "metadata": {},
   "outputs": [
    {
     "data": {
      "text/plain": [
       "\"/home/vikas/Downloads/Lunch_Weekday_channel_vs_cluster.csv\""
      ]
     },
     "execution_count": 26,
     "metadata": {},
     "output_type": "execute_result"
    }
   ],
   "source": [
    "df1 = DataFrame(CSV.File(\"/home/vikas/Downloads/Lunch_Weekday_Clusters_sales_channel.csv\"))\n",
    "df1 = channel_vs_cluster(df1)\n",
    "CSV.write(\"/home/vikas/Downloads/Lunch_Weekday_channel_vs_cluster.csv\",df1)"
   ]
  },
  {
   "cell_type": "code",
   "execution_count": 27,
   "metadata": {},
   "outputs": [
    {
     "data": {
      "text/plain": [
       "\"/home/vikas/Downloads/Dinner_Weekday_channel_vs_cluster.csv\""
      ]
     },
     "execution_count": 27,
     "metadata": {},
     "output_type": "execute_result"
    }
   ],
   "source": [
    "df1 = DataFrame(CSV.File(\"/home/vikas/Downloads/Dinner_Weekday_Clusters_sales_channel.csv\"))\n",
    "df1 = channel_vs_cluster(df1)\n",
    "CSV.write(\"/home/vikas/Downloads/Dinner_Weekday_channel_vs_cluster.csv\",df1)"
   ]
  },
  {
   "cell_type": "code",
   "execution_count": null,
   "metadata": {},
   "outputs": [],
   "source": []
  },
  {
   "cell_type": "code",
   "execution_count": null,
   "metadata": {},
   "outputs": [],
   "source": []
  },
  {
   "cell_type": "code",
   "execution_count": null,
   "metadata": {},
   "outputs": [],
   "source": []
  },
  {
   "cell_type": "markdown",
   "metadata": {},
   "source": [
    "## For cluster vs SALES_ITEM_CATEGORY, cluster vs PRODUCT_KEY, cluster vs BUNDLE_KEY"
   ]
  },
  {
   "cell_type": "code",
   "execution_count": 3,
   "metadata": {
    "scrolled": true
   },
   "outputs": [
    {
     "data": {
      "text/html": [
       "<table class=\"data-frame\"><thead><tr><th></th><th>SALES_ITEM_SK</th><th>SALES_ITEM_KEY</th><th>SALES_ITEM_DESC</th><th>SALES_ITEM_NM</th></tr><tr><th></th><th>Int64</th><th>Int64</th><th>String</th><th>String</th></tr></thead><tbody><p>6,990 rows × 14 columns (omitted printing of 10 columns)</p><tr><th>1</th><td>1</td><td>41</td><td>2014 Menu (To-be-updated)</td><td>Unmapped items/ Catering Menu</td></tr><tr><th>2</th><td>2</td><td>10001</td><td>1pc (OR)</td><td>1pc COB</td></tr><tr><th>3</th><td>3</td><td>10002</td><td>1pc (HC)</td><td>1pc COB</td></tr><tr><th>4</th><td>4</td><td>10015</td><td>10pcs Bucket</td><td>10pcs All-Chicken Bucket</td></tr><tr><th>5</th><td>5</td><td>10016</td><td>15pcs Bucket</td><td>15pcs All-Chicken Bucket</td></tr><tr><th>6</th><td>6</td><td>10017</td><td>21pcs Bucket</td><td>21pcs All-Chicken Bucket</td></tr><tr><th>7</th><td>7</td><td>30001</td><td>2pcs Chicken Meal (OR)</td><td>2pcs (COB) Meal</td></tr><tr><th>8</th><td>8</td><td>30002</td><td>2pcs Chicken Meal (HC)</td><td>2pcs (COB) Meal</td></tr><tr><th>9</th><td>9</td><td>30003</td><td>3pcs  Meal (OR)</td><td>3pcs (COB) Meal</td></tr><tr><th>10</th><td>10</td><td>30004</td><td>3pcs  Meal (HC)</td><td>3pcs (COB) Meal</td></tr><tr><th>11</th><td>11</td><td>30005</td><td>Zinger Meal</td><td>1 Zinger Meal</td></tr><tr><th>12</th><td>12</td><td>30006</td><td>BBQ Meltz Meal</td><td>1 BBQ Meltz Meal</td></tr><tr><th>13</th><td>13</td><td>30012</td><td>Bandito Meal</td><td>1 BBQ Pocket Meal</td></tr><tr><th>14</th><td>14</td><td>30019</td><td>Fish Ole Meal</td><td>1 Fish Ole Meal</td></tr><tr><th>15</th><td>15</td><td>30030</td><td>Shrooms Meal</td><td>1 Shrooms Burger Meal</td></tr><tr><th>16</th><td>16</td><td>30035</td><td>R.B. (OR) Meal</td><td>Original Rice Bowl Meal</td></tr><tr><th>17</th><td>17</td><td>30036</td><td>R.B. (Curry)</td><td>1 Curry Rice Bowl</td></tr><tr><th>18</th><td>18</td><td>30037</td><td>R.B. (Curry) Meal</td><td>1 Curry Rice Meal</td></tr><tr><th>19</th><td>19</td><td>30045</td><td>3P WINGS ML</td><td>3pcs Wings Meal</td></tr><tr><th>20</th><td>20</td><td>30046</td><td>Bandito Meal (SCE)</td><td>1 BBQ Pocket Meal</td></tr><tr><th>21</th><td>21</td><td>30047</td><td>BBQ Meltz Meal (SCE)</td><td>1 BBQ Meltz Meal</td></tr><tr><th>22</th><td>22</td><td>30048</td><td>Zinger Meal (SCE)</td><td>1 Zinger Meal</td></tr><tr><th>23</th><td>23</td><td>30049</td><td>Caesar Meal</td><td>Caeser Roast Meal</td></tr><tr><th>24</th><td>24</td><td>30050</td><td>Caesar Meal (SCE)</td><td>Caeser Roast Meal</td></tr><tr><th>25</th><td>25</td><td>39101</td><td>Popcorn Ckn Snacker (Kidzania)</td><td>Popcorn Snackers</td></tr><tr><th>26</th><td>26</td><td>39102</td><td>2pcs Chicken Meal (Kidzania)</td><td>2pcs Meal (COB)</td></tr><tr><th>27</th><td>27</td><td>39103</td><td>8pcs Family Feast (Kidzania)</td><td>8pcs Family Feast (COB) (Kidzania)</td></tr><tr><th>28</th><td>28</td><td>39104</td><td>OR Fillet Meal (Kidzania)</td><td>1 Colonel Burger Meal</td></tr><tr><th>29</th><td>29</td><td>39105</td><td>6pcs Nugget Snacker (Kidzania)</td><td>Nuggets Snackers</td></tr><tr><th>30</th><td>30</td><td>39106</td><td>Kidzania Chocolate Ice Cream</td><td>Chocolate Ice Cream</td></tr><tr><th>&vellip;</th><td>&vellip;</td><td>&vellip;</td><td>&vellip;</td><td>&vellip;</td></tr></tbody></table>"
      ],
      "text/latex": [
       "\\begin{tabular}{r|ccccc}\n",
       "\t& SALES\\_ITEM\\_SK & SALES\\_ITEM\\_KEY & SALES\\_ITEM\\_DESC & SALES\\_ITEM\\_NM & \\\\\n",
       "\t\\hline\n",
       "\t& Int64 & Int64 & String & String & \\\\\n",
       "\t\\hline\n",
       "\t1 & 1 & 41 & 2014 Menu (To-be-updated) & Unmapped items/ Catering Menu & $\\dots$ \\\\\n",
       "\t2 & 2 & 10001 & 1pc (OR) & 1pc COB & $\\dots$ \\\\\n",
       "\t3 & 3 & 10002 & 1pc (HC) & 1pc COB & $\\dots$ \\\\\n",
       "\t4 & 4 & 10015 & 10pcs Bucket & 10pcs All-Chicken Bucket & $\\dots$ \\\\\n",
       "\t5 & 5 & 10016 & 15pcs Bucket & 15pcs All-Chicken Bucket & $\\dots$ \\\\\n",
       "\t6 & 6 & 10017 & 21pcs Bucket & 21pcs All-Chicken Bucket & $\\dots$ \\\\\n",
       "\t7 & 7 & 30001 & 2pcs Chicken Meal (OR) & 2pcs (COB) Meal & $\\dots$ \\\\\n",
       "\t8 & 8 & 30002 & 2pcs Chicken Meal (HC) & 2pcs (COB) Meal & $\\dots$ \\\\\n",
       "\t9 & 9 & 30003 & 3pcs  Meal (OR) & 3pcs (COB) Meal & $\\dots$ \\\\\n",
       "\t10 & 10 & 30004 & 3pcs  Meal (HC) & 3pcs (COB) Meal & $\\dots$ \\\\\n",
       "\t11 & 11 & 30005 & Zinger Meal & 1 Zinger Meal & $\\dots$ \\\\\n",
       "\t12 & 12 & 30006 & BBQ Meltz Meal & 1 BBQ Meltz Meal & $\\dots$ \\\\\n",
       "\t13 & 13 & 30012 & Bandito Meal & 1 BBQ Pocket Meal & $\\dots$ \\\\\n",
       "\t14 & 14 & 30019 & Fish Ole Meal & 1 Fish Ole Meal & $\\dots$ \\\\\n",
       "\t15 & 15 & 30030 & Shrooms Meal & 1 Shrooms Burger Meal & $\\dots$ \\\\\n",
       "\t16 & 16 & 30035 & R.B. (OR) Meal & Original Rice Bowl Meal & $\\dots$ \\\\\n",
       "\t17 & 17 & 30036 & R.B. (Curry) & 1 Curry Rice Bowl & $\\dots$ \\\\\n",
       "\t18 & 18 & 30037 & R.B. (Curry) Meal & 1 Curry Rice Meal & $\\dots$ \\\\\n",
       "\t19 & 19 & 30045 & 3P WINGS ML & 3pcs Wings Meal & $\\dots$ \\\\\n",
       "\t20 & 20 & 30046 & Bandito Meal (SCE) & 1 BBQ Pocket Meal & $\\dots$ \\\\\n",
       "\t21 & 21 & 30047 & BBQ Meltz Meal (SCE) & 1 BBQ Meltz Meal & $\\dots$ \\\\\n",
       "\t22 & 22 & 30048 & Zinger Meal (SCE) & 1 Zinger Meal & $\\dots$ \\\\\n",
       "\t23 & 23 & 30049 & Caesar Meal & Caeser Roast Meal & $\\dots$ \\\\\n",
       "\t24 & 24 & 30050 & Caesar Meal (SCE) & Caeser Roast Meal & $\\dots$ \\\\\n",
       "\t25 & 25 & 39101 & Popcorn Ckn Snacker (Kidzania) & Popcorn Snackers & $\\dots$ \\\\\n",
       "\t26 & 26 & 39102 & 2pcs Chicken Meal (Kidzania) & 2pcs Meal (COB) & $\\dots$ \\\\\n",
       "\t27 & 27 & 39103 & 8pcs Family Feast (Kidzania) & 8pcs Family Feast (COB) (Kidzania) & $\\dots$ \\\\\n",
       "\t28 & 28 & 39104 & OR Fillet Meal (Kidzania) & 1 Colonel Burger Meal & $\\dots$ \\\\\n",
       "\t29 & 29 & 39105 & 6pcs Nugget Snacker (Kidzania) & Nuggets Snackers & $\\dots$ \\\\\n",
       "\t30 & 30 & 39106 & Kidzania Chocolate Ice Cream & Chocolate Ice Cream & $\\dots$ \\\\\n",
       "\t$\\dots$ & $\\dots$ & $\\dots$ & $\\dots$ & $\\dots$ &  \\\\\n",
       "\\end{tabular}\n"
      ],
      "text/plain": [
       "\u001b[1m6990×14 DataFrame\u001b[0m\n",
       "\u001b[1m  Row \u001b[0m│\u001b[1m SALES_ITEM_SK \u001b[0m\u001b[1m SALES_ITEM_KEY \u001b[0m\u001b[1m SALES_ITEM_DESC           \u001b[0m\u001b[1m SALES_ITEM_N\u001b[0m ⋯\n",
       "\u001b[1m      \u001b[0m│\u001b[90m Int64         \u001b[0m\u001b[90m Int64          \u001b[0m\u001b[90m String                    \u001b[0m\u001b[90m String      \u001b[0m ⋯\n",
       "──────┼─────────────────────────────────────────────────────────────────────────\n",
       "    1 │             1              41  2014 Menu (To-be-updated)  Unmapped ite ⋯\n",
       "    2 │             2           10001  1pc (OR)                   1pc COB\n",
       "    3 │             3           10002  1pc (HC)                   1pc COB\n",
       "    4 │             4           10015  10pcs Bucket               10pcs All-Ch\n",
       "    5 │             5           10016  15pcs Bucket               15pcs All-Ch ⋯\n",
       "    6 │             6           10017  21pcs Bucket               21pcs All-Ch\n",
       "    7 │             7           30001  2pcs Chicken Meal (OR)     2pcs (COB) M\n",
       "    8 │             8           30002  2pcs Chicken Meal (HC)     2pcs (COB) M\n",
       "    9 │             9           30003  3pcs  Meal (OR)            3pcs (COB) M ⋯\n",
       "   10 │            10           30004  3pcs  Meal (HC)            3pcs (COB) M\n",
       "   11 │            11           30005  Zinger Meal                1 Zinger Mea\n",
       "  ⋮   │       ⋮              ⋮                     ⋮                           ⋱\n",
       " 6981 │          6989          922478  Unknown                    Unknown\n",
       " 6982 │          6990          922482  Unknown                    Unknown      ⋯\n",
       " 6983 │          6991          922481  Unknown                    Unknown\n",
       " 6984 │          6992          922602  Unknown                    Unknown\n",
       " 6985 │          6993          922463  Unknown                    Unknown\n",
       " 6986 │          6994          922470  Unknown                    Unknown      ⋯\n",
       " 6987 │          6995          922467  Unknown                    Unknown\n",
       " 6988 │          6996          922567  Unknown                    Unknown\n",
       " 6989 │          6997          922566  Unknown                    Unknown\n",
       " 6990 │          6998          922568  Unknown                    Unknown      ⋯\n",
       "\u001b[36m                                                11 columns and 6969 rows omitted\u001b[0m"
      ]
     },
     "execution_count": 3,
     "metadata": {},
     "output_type": "execute_result"
    }
   ],
   "source": [
    "df_sgp = DataFrame(CSV.File(\"/home/vikas/Downloads/SGP_sales_item.csv\"))"
   ]
  },
  {
   "cell_type": "code",
   "execution_count": 6,
   "metadata": {},
   "outputs": [],
   "source": [
    "dict3 = Dict()\n",
    "dict1 = Dict()\n",
    "dict2 = Dict()\n",
    "for i in 1:length(df_sgp.SALES_ITEM_KEY)\n",
    "    dict3[df_sgp.SALES_ITEM_KEY[i]] = df_sgp.PRODUCT_TYPE[i]\n",
    "    dict1[df_sgp.SALES_ITEM_KEY[i]] = df_sgp.BUNDLE_TYPE[i]\n",
    "    dict2[df_sgp.SALES_ITEM_KEY[i]] = df_sgp.SALES_ITEM_CATEGORY[i]\n",
    "end"
   ]
  },
  {
   "cell_type": "code",
   "execution_count": 9,
   "metadata": {
    "scrolled": true
   },
   "outputs": [
    {
     "data": {
      "text/html": [
       "<table class=\"data-frame\"><thead><tr><th></th><th>storenum</th><th>item_key</th><th>item_description</th><th>transaction_type</th><th>sales_amount</th><th>sales_channel</th></tr><tr><th></th><th>Int64</th><th>Int64</th><th>String</th><th>String</th><th>Float64</th><th>String</th></tr></thead><tbody><p>6,859,688 rows × 11 columns (omitted printing of 5 columns)</p><tr><th>1</th><td>502</td><td>916755</td><td>D-10P CKN BKT</td><td>M</td><td>26.9159</td><td>Online-Delivery</td></tr><tr><th>2</th><td>502</td><td>710033</td><td>DEL SURCHARGE</td><td>M</td><td>3.7383</td><td>Online-Delivery</td></tr><tr><th>3</th><td>502</td><td>1</td><td>D-CASH</td><td>T</td><td>30.6542</td><td>Online-Delivery</td></tr><tr><th>4</th><td>502</td><td>700103</td><td>D-3PC ML(OR)</td><td>M</td><td>58.4112</td><td>Phone-Delivery</td></tr><tr><th>5</th><td>502</td><td>710033</td><td>DEL SURCHARGE</td><td>M</td><td>3.7383</td><td>Phone-Delivery</td></tr><tr><th>6</th><td>502</td><td>1</td><td>D-CASH</td><td>T</td><td>62.1495</td><td>Phone-Delivery</td></tr><tr><th>7</th><td>502</td><td>710009</td><td>D-ZINGER</td><td>M</td><td>10.9346</td><td>Phone-Delivery</td></tr><tr><th>8</th><td>502</td><td>700103</td><td>D-3PC ML(OR)</td><td>M</td><td>46.729</td><td>Phone-Delivery</td></tr><tr><th>9</th><td>502</td><td>710033</td><td>DEL SURCHARGE</td><td>M</td><td>3.7383</td><td>Phone-Delivery</td></tr><tr><th>10</th><td>502</td><td>1</td><td>D-CASH</td><td>T</td><td>61.4019</td><td>Phone-Delivery</td></tr><tr><th>11</th><td>502</td><td>922023</td><td>D-10 FOR $10</td><td>M</td><td>9.3458</td><td>Online-Delivery</td></tr><tr><th>12</th><td>502</td><td>913618</td><td>D-10P CKN 2-5PM</td><td>M</td><td>16.8224</td><td>Online-Delivery</td></tr><tr><th>13</th><td>502</td><td>710033</td><td>DEL SURCHARGE</td><td>M</td><td>3.7383</td><td>Online-Delivery</td></tr><tr><th>14</th><td>502</td><td>3</td><td>D-DBS Paylah</td><td>T</td><td>29.9065</td><td>Online-Delivery</td></tr><tr><th>15</th><td>502</td><td>916137</td><td>D-FM POT BWL</td><td>M</td><td>5.0</td><td>Online-Delivery</td></tr><tr><th>16</th><td>502</td><td>710018</td><td>D-C/SL MED</td><td>M</td><td>3.4579</td><td>Online-Delivery</td></tr><tr><th>17</th><td>502</td><td>710021</td><td>D-W/PT MED</td><td>M</td><td>3.4579</td><td>Online-Delivery</td></tr><tr><th>18</th><td>502</td><td>919893</td><td>D-8P FOR $15</td><td>M</td><td>14.0187</td><td>Online-Delivery</td></tr><tr><th>19</th><td>502</td><td>710033</td><td>DEL SURCHARGE</td><td>M</td><td>3.7383</td><td>Online-Delivery</td></tr><tr><th>20</th><td>502</td><td>8</td><td>D-eNETS CREDIT</td><td>T</td><td>29.6729</td><td>Online-Delivery</td></tr><tr><th>21</th><td>502</td><td>913961</td><td>D-8P VRTY FEAST</td><td>M</td><td>38.271</td><td>Online-Delivery</td></tr><tr><th>22</th><td>502</td><td>710033</td><td>DEL SURCHARGE</td><td>M</td><td>3.7383</td><td>Online-Delivery</td></tr><tr><th>23</th><td>502</td><td>8</td><td>D-eNETS CREDIT</td><td>T</td><td>42.0093</td><td>Online-Delivery</td></tr><tr><th>24</th><td>502</td><td>921466</td><td>D-2P CKN BX</td><td>M</td><td>39.2523</td><td>Online-Delivery</td></tr><tr><th>25</th><td>502</td><td>921466</td><td>D-2P CKN BX</td><td>M</td><td>39.2523</td><td>Online-Delivery</td></tr><tr><th>26</th><td>502</td><td>921466</td><td>D-2P CKN BX</td><td>M</td><td>29.4393</td><td>Online-Delivery</td></tr><tr><th>27</th><td>502</td><td>710033</td><td>DEL SURCHARGE</td><td>M</td><td>3.7383</td><td>Online-Delivery</td></tr><tr><th>28</th><td>502</td><td>8</td><td>D-eNETS CREDIT</td><td>T</td><td>111.682</td><td>Online-Delivery</td></tr><tr><th>29</th><td>502</td><td>913299</td><td>D-AO 2 CHZ FRIES-APP</td><td>M</td><td>5.6075</td><td>Online-Delivery</td></tr><tr><th>30</th><td>502</td><td>922023</td><td>D-10 FOR $10</td><td>M</td><td>9.3458</td><td>Online-Delivery</td></tr><tr><th>&vellip;</th><td>&vellip;</td><td>&vellip;</td><td>&vellip;</td><td>&vellip;</td><td>&vellip;</td><td>&vellip;</td></tr></tbody></table>"
      ],
      "text/latex": [
       "\\begin{tabular}{r|ccccccc}\n",
       "\t& storenum & item\\_key & item\\_description & transaction\\_type & sales\\_amount & sales\\_channel & \\\\\n",
       "\t\\hline\n",
       "\t& Int64 & Int64 & String & String & Float64 & String & \\\\\n",
       "\t\\hline\n",
       "\t1 & 502 & 916755 & D-10P CKN BKT & M & 26.9159 & Online-Delivery & $\\dots$ \\\\\n",
       "\t2 & 502 & 710033 & DEL SURCHARGE & M & 3.7383 & Online-Delivery & $\\dots$ \\\\\n",
       "\t3 & 502 & 1 & D-CASH & T & 30.6542 & Online-Delivery & $\\dots$ \\\\\n",
       "\t4 & 502 & 700103 & D-3PC ML(OR) & M & 58.4112 & Phone-Delivery & $\\dots$ \\\\\n",
       "\t5 & 502 & 710033 & DEL SURCHARGE & M & 3.7383 & Phone-Delivery & $\\dots$ \\\\\n",
       "\t6 & 502 & 1 & D-CASH & T & 62.1495 & Phone-Delivery & $\\dots$ \\\\\n",
       "\t7 & 502 & 710009 & D-ZINGER & M & 10.9346 & Phone-Delivery & $\\dots$ \\\\\n",
       "\t8 & 502 & 700103 & D-3PC ML(OR) & M & 46.729 & Phone-Delivery & $\\dots$ \\\\\n",
       "\t9 & 502 & 710033 & DEL SURCHARGE & M & 3.7383 & Phone-Delivery & $\\dots$ \\\\\n",
       "\t10 & 502 & 1 & D-CASH & T & 61.4019 & Phone-Delivery & $\\dots$ \\\\\n",
       "\t11 & 502 & 922023 & D-10 FOR \\$10 & M & 9.3458 & Online-Delivery & $\\dots$ \\\\\n",
       "\t12 & 502 & 913618 & D-10P CKN 2-5PM & M & 16.8224 & Online-Delivery & $\\dots$ \\\\\n",
       "\t13 & 502 & 710033 & DEL SURCHARGE & M & 3.7383 & Online-Delivery & $\\dots$ \\\\\n",
       "\t14 & 502 & 3 & D-DBS Paylah & T & 29.9065 & Online-Delivery & $\\dots$ \\\\\n",
       "\t15 & 502 & 916137 & D-FM POT BWL & M & 5.0 & Online-Delivery & $\\dots$ \\\\\n",
       "\t16 & 502 & 710018 & D-C/SL MED & M & 3.4579 & Online-Delivery & $\\dots$ \\\\\n",
       "\t17 & 502 & 710021 & D-W/PT MED & M & 3.4579 & Online-Delivery & $\\dots$ \\\\\n",
       "\t18 & 502 & 919893 & D-8P FOR \\$15 & M & 14.0187 & Online-Delivery & $\\dots$ \\\\\n",
       "\t19 & 502 & 710033 & DEL SURCHARGE & M & 3.7383 & Online-Delivery & $\\dots$ \\\\\n",
       "\t20 & 502 & 8 & D-eNETS CREDIT & T & 29.6729 & Online-Delivery & $\\dots$ \\\\\n",
       "\t21 & 502 & 913961 & D-8P VRTY FEAST & M & 38.271 & Online-Delivery & $\\dots$ \\\\\n",
       "\t22 & 502 & 710033 & DEL SURCHARGE & M & 3.7383 & Online-Delivery & $\\dots$ \\\\\n",
       "\t23 & 502 & 8 & D-eNETS CREDIT & T & 42.0093 & Online-Delivery & $\\dots$ \\\\\n",
       "\t24 & 502 & 921466 & D-2P CKN BX & M & 39.2523 & Online-Delivery & $\\dots$ \\\\\n",
       "\t25 & 502 & 921466 & D-2P CKN BX & M & 39.2523 & Online-Delivery & $\\dots$ \\\\\n",
       "\t26 & 502 & 921466 & D-2P CKN BX & M & 29.4393 & Online-Delivery & $\\dots$ \\\\\n",
       "\t27 & 502 & 710033 & DEL SURCHARGE & M & 3.7383 & Online-Delivery & $\\dots$ \\\\\n",
       "\t28 & 502 & 8 & D-eNETS CREDIT & T & 111.682 & Online-Delivery & $\\dots$ \\\\\n",
       "\t29 & 502 & 913299 & D-AO 2 CHZ FRIES-APP & M & 5.6075 & Online-Delivery & $\\dots$ \\\\\n",
       "\t30 & 502 & 922023 & D-10 FOR \\$10 & M & 9.3458 & Online-Delivery & $\\dots$ \\\\\n",
       "\t$\\dots$ & $\\dots$ & $\\dots$ & $\\dots$ & $\\dots$ & $\\dots$ & $\\dots$ &  \\\\\n",
       "\\end{tabular}\n"
      ],
      "text/plain": [
       "\u001b[1m6859688×11 DataFrame\u001b[0m\n",
       "\u001b[1m     Row \u001b[0m│\u001b[1m storenum \u001b[0m\u001b[1m item_key \u001b[0m\u001b[1m item_description \u001b[0m\u001b[1m transaction_type \u001b[0m\u001b[1m sales_amoun\u001b[0m ⋯\n",
       "\u001b[1m         \u001b[0m│\u001b[90m Int64    \u001b[0m\u001b[90m Int64    \u001b[0m\u001b[90m String           \u001b[0m\u001b[90m String           \u001b[0m\u001b[90m Float64    \u001b[0m ⋯\n",
       "─────────┼──────────────────────────────────────────────────────────────────────\n",
       "       1 │      502    916755  D-10P CKN BKT     M                    26.9159  ⋯\n",
       "       2 │      502    710033  DEL SURCHARGE     M                     3.7383\n",
       "       3 │      502         1  D-CASH            T                    30.6542\n",
       "       4 │      502    700103  D-3PC ML(OR)      M                    58.4112\n",
       "       5 │      502    710033  DEL SURCHARGE     M                     3.7383  ⋯\n",
       "       6 │      502         1  D-CASH            T                    62.1495\n",
       "       7 │      502    710009  D-ZINGER          M                    10.9346\n",
       "       8 │      502    700103  D-3PC ML(OR)      M                    46.729\n",
       "       9 │      502    710033  DEL SURCHARGE     M                     3.7383  ⋯\n",
       "      10 │      502         1  D-CASH            T                    61.4019\n",
       "      11 │      502    922023  D-10 FOR $10      M                     9.3458\n",
       "    ⋮    │    ⋮         ⋮             ⋮                 ⋮               ⋮      ⋱\n",
       " 6859679 │      670    922110  2P(TG) ML         M                     8.3645\n",
       " 6859680 │      670    450011  RWP>CF            M                     2.0561  ⋯\n",
       " 6859681 │      670    914357  1P EGG TART       M                     1.215\n",
       " 6859682 │      670         8  D-eNETS CREDIT    T                    11.6355\n",
       " 6859683 │      670    912781  1 OR ZNG BX       M                     8.5514\n",
       " 6859684 │      670    450046  RFF>CFRIES        M                     1.8692  ⋯\n",
       " 6859685 │      670    914357  1P EGG TART       M                     1.215\n",
       " 6859686 │      670         8  D-eNETS CREDIT    T                    11.6355\n",
       " 6859687 │      670    921046  5P ACB 30%        M                     9.6262\n",
       " 6859688 │      670        15  DI-DBS PAYLAH     T                     9.62617 ⋯\n",
       "\u001b[36m                                              7 columns and 6859667 rows omitted\u001b[0m"
      ]
     },
     "execution_count": 9,
     "metadata": {},
     "output_type": "execute_result"
    }
   ],
   "source": [
    "df = DataFrame(CSV.File(\"Dataset2.csv\"))"
   ]
  },
  {
   "cell_type": "code",
   "execution_count": 11,
   "metadata": {},
   "outputs": [
    {
     "data": {
      "text/html": [
       "<p><b>GroupedDataFrame with 3 groups based on key: transaction_type</b></p><p><i>First Group (5214325 rows): transaction_type = \"M\"</i></p><table class=\"data-frame\"><thead><tr><th></th><th>storenum</th><th>item_key</th><th>item_description</th><th>transaction_type</th><th>sales_amount</th><th>sales_channel</th></tr><tr><th></th><th>Int64</th><th>Int64</th><th>String</th><th>String</th><th>Float64</th><th>String</th></tr></thead><tbody><tr><th>1</th><td>502</td><td>916755</td><td>D-10P CKN BKT</td><td>M</td><td>26.9159</td><td>Online-Delivery</td></tr><tr><th>2</th><td>502</td><td>710033</td><td>DEL SURCHARGE</td><td>M</td><td>3.7383</td><td>Online-Delivery</td></tr><tr><th>3</th><td>502</td><td>700103</td><td>D-3PC ML(OR)</td><td>M</td><td>58.4112</td><td>Phone-Delivery</td></tr><tr><th>4</th><td>502</td><td>710033</td><td>DEL SURCHARGE</td><td>M</td><td>3.7383</td><td>Phone-Delivery</td></tr><tr><th>5</th><td>502</td><td>710009</td><td>D-ZINGER</td><td>M</td><td>10.9346</td><td>Phone-Delivery</td></tr><tr><th>6</th><td>502</td><td>700103</td><td>D-3PC ML(OR)</td><td>M</td><td>46.729</td><td>Phone-Delivery</td></tr><tr><th>7</th><td>502</td><td>710033</td><td>DEL SURCHARGE</td><td>M</td><td>3.7383</td><td>Phone-Delivery</td></tr><tr><th>8</th><td>502</td><td>922023</td><td>D-10 FOR $10</td><td>M</td><td>9.3458</td><td>Online-Delivery</td></tr><tr><th>9</th><td>502</td><td>913618</td><td>D-10P CKN 2-5PM</td><td>M</td><td>16.8224</td><td>Online-Delivery</td></tr><tr><th>10</th><td>502</td><td>710033</td><td>DEL SURCHARGE</td><td>M</td><td>3.7383</td><td>Online-Delivery</td></tr><tr><th>11</th><td>502</td><td>916137</td><td>D-FM POT BWL</td><td>M</td><td>5.0</td><td>Online-Delivery</td></tr><tr><th>12</th><td>502</td><td>710018</td><td>D-C/SL MED</td><td>M</td><td>3.4579</td><td>Online-Delivery</td></tr><tr><th>13</th><td>502</td><td>710021</td><td>D-W/PT MED</td><td>M</td><td>3.4579</td><td>Online-Delivery</td></tr><tr><th>14</th><td>502</td><td>919893</td><td>D-8P FOR $15</td><td>M</td><td>14.0187</td><td>Online-Delivery</td></tr><tr><th>15</th><td>502</td><td>710033</td><td>DEL SURCHARGE</td><td>M</td><td>3.7383</td><td>Online-Delivery</td></tr><tr><th>16</th><td>502</td><td>913961</td><td>D-8P VRTY FEAST</td><td>M</td><td>38.271</td><td>Online-Delivery</td></tr><tr><th>17</th><td>502</td><td>710033</td><td>DEL SURCHARGE</td><td>M</td><td>3.7383</td><td>Online-Delivery</td></tr><tr><th>18</th><td>502</td><td>921466</td><td>D-2P CKN BX</td><td>M</td><td>39.2523</td><td>Online-Delivery</td></tr><tr><th>19</th><td>502</td><td>921466</td><td>D-2P CKN BX</td><td>M</td><td>39.2523</td><td>Online-Delivery</td></tr><tr><th>20</th><td>502</td><td>921466</td><td>D-2P CKN BX</td><td>M</td><td>29.4393</td><td>Online-Delivery</td></tr><tr><th>21</th><td>502</td><td>710033</td><td>DEL SURCHARGE</td><td>M</td><td>3.7383</td><td>Online-Delivery</td></tr><tr><th>22</th><td>502</td><td>913299</td><td>D-AO 2 CHZ FRIES-APP</td><td>M</td><td>5.6075</td><td>Online-Delivery</td></tr><tr><th>23</th><td>502</td><td>922023</td><td>D-10 FOR $10</td><td>M</td><td>9.3458</td><td>Online-Delivery</td></tr><tr><th>24</th><td>502</td><td>710033</td><td>DEL SURCHARGE</td><td>M</td><td>3.7383</td><td>Online-Delivery</td></tr><tr><th>25</th><td>502</td><td>921474</td><td>D-ZNGBX+2P CKN BX</td><td>M</td><td>15.1402</td><td>Online-Delivery</td></tr><tr><th>26</th><td>502</td><td>916131</td><td>D-1P CRY BWL ML</td><td>M</td><td>7.9907</td><td>Online-Delivery</td></tr><tr><th>27</th><td>502</td><td>912754</td><td>D-1P ZNG BOX</td><td>M</td><td>10.2336</td><td>Online-Delivery</td></tr><tr><th>28</th><td>502</td><td>710033</td><td>DEL SURCHARGE</td><td>M</td><td>3.7383</td><td>Online-Delivery</td></tr><tr><th>29</th><td>502</td><td>916759</td><td>D-ALA SNACK N SHARE BX  </td><td>M</td><td>12.1028</td><td>Online-Delivery</td></tr><tr><th>30</th><td>502</td><td>922023</td><td>D-10 FOR $10</td><td>M</td><td>9.3458</td><td>Online-Delivery</td></tr><tr><th>&vellip;</th><td>&vellip;</td><td>&vellip;</td><td>&vellip;</td><td>&vellip;</td><td>&vellip;</td><td>&vellip;</td></tr></tbody></table><p>&vellip;</p><p><i>Last Group (12833 rows): transaction_type = \"D\"</i></p><table class=\"data-frame\"><thead><tr><th></th><th>storenum</th><th>item_key</th><th>item_description</th><th>transaction_type</th><th>sales_amount</th><th>sales_channel</th></tr><tr><th></th><th>Int64</th><th>Int64</th><th>String</th><th>String</th><th>Float64</th><th>String</th></tr></thead><tbody><tr><th>1</th><td>502</td><td>2000</td><td>25% EMP DISC</td><td>D</td><td>-1.9626</td><td>Drive-Thru</td></tr><tr><th>2</th><td>502</td><td>3007</td><td>$1-OFF(PAssion)</td><td>D</td><td>-0.9346</td><td>Eat In (EI)</td></tr><tr><th>3</th><td>502</td><td>8027</td><td>10% OFF GES DEAL</td><td>D</td><td>-1.8131</td><td>Eat In (EI)</td></tr><tr><th>4</th><td>502</td><td>3007</td><td>$1-OFF(PAssion)</td><td>D</td><td>-0.9346</td><td>Take Away (TA)</td></tr><tr><th>5</th><td>504</td><td>3007</td><td>$1-OFF(PAssion)</td><td>D</td><td>-0.9346</td><td>Eat In (EI)</td></tr><tr><th>6</th><td>504</td><td>3007</td><td>$1-OFF(PAssion)</td><td>D</td><td>-0.9346</td><td>Eat In (EI)</td></tr><tr><th>7</th><td>504</td><td>3007</td><td>$1-OFF(PAssion)</td><td>D</td><td>0.9346</td><td>Eat In (EI)</td></tr><tr><th>8</th><td>504</td><td>3007</td><td>$1-OFF(PAssion)</td><td>D</td><td>-0.9346</td><td>Eat In (EI)</td></tr><tr><th>9</th><td>504</td><td>5010</td><td>10% OFF(LSM)</td><td>D</td><td>-0.9438</td><td>Eat In (EI)</td></tr><tr><th>10</th><td>504</td><td>8027</td><td>10% OFF GES DEAL</td><td>D</td><td>-2.243</td><td>Take Away (TA)</td></tr><tr><th>11</th><td>505</td><td>5016</td><td>10% OFF xFOOD PANDA</td><td>D</td><td>-1.0751</td><td>Eat In (EI)</td></tr><tr><th>12</th><td>505</td><td>5016</td><td>10% OFF xFOOD PANDA</td><td>D</td><td>-0.9813</td><td>Take Away (TA)</td></tr><tr><th>13</th><td>505</td><td>5010</td><td>10% OFF(LSM)</td><td>D</td><td>-0.7851</td><td>Drive-Thru</td></tr><tr><th>14</th><td>505</td><td>5010</td><td>10% OFF(LSM)</td><td>D</td><td>0.7851</td><td>Drive-Thru</td></tr><tr><th>15</th><td>505</td><td>3007</td><td>$1-OFF(PAssion)</td><td>D</td><td>-0.9346</td><td>Eat In (EI)</td></tr><tr><th>16</th><td>506</td><td>5016</td><td>10% OFF xFOOD PANDA</td><td>D</td><td>-0.5517</td><td>Breakfast (BF)</td></tr><tr><th>17</th><td>506</td><td>5016</td><td>10% OFF xFOOD PANDA</td><td>D</td><td>-0.4019</td><td>Breakfast (BF)</td></tr><tr><th>18</th><td>506</td><td>3007</td><td>$1-OFF(PAssion)</td><td>D</td><td>-0.9346</td><td>Eat In (EI)</td></tr><tr><th>19</th><td>506</td><td>3007</td><td>$1-OFF(PAssion)</td><td>D</td><td>-0.9346</td><td>Eat In (EI)</td></tr><tr><th>20</th><td>506</td><td>2000</td><td>25% EMP DISC</td><td>D</td><td>-3.6075</td><td>Eat In (EI)</td></tr><tr><th>21</th><td>506</td><td>3007</td><td>$1-OFF(PAssion)</td><td>D</td><td>-0.9346</td><td>Take Away (TA)</td></tr><tr><th>22</th><td>506</td><td>3007</td><td>$1-OFF(PAssion)</td><td>D</td><td>-0.9346</td><td>Eat In (EI)</td></tr><tr><th>23</th><td>506</td><td>3007</td><td>$1-OFF(PAssion)</td><td>D</td><td>-0.9346</td><td>Take Away (TA)</td></tr><tr><th>24</th><td>506</td><td>3007</td><td>$1-OFF(PAssion)</td><td>D</td><td>-0.9304</td><td>Take Away (TA)</td></tr><tr><th>25</th><td>506</td><td>5016</td><td>10% OFF xFOOD PANDA</td><td>D</td><td>-0.9816</td><td>Take Away (TA)</td></tr><tr><th>26</th><td>506</td><td>8027</td><td>10% OFF GES DEAL</td><td>D</td><td>-0.9346</td><td>Take Away (TA)</td></tr><tr><th>27</th><td>506</td><td>3007</td><td>$1-OFF(PAssion)</td><td>D</td><td>-0.9346</td><td>Eat In (EI)</td></tr><tr><th>28</th><td>506</td><td>3007</td><td>$1-OFF(PAssion)</td><td>D</td><td>-0.9346</td><td>Eat In (EI)</td></tr><tr><th>29</th><td>506</td><td>3007</td><td>$1-OFF(PAssion)</td><td>D</td><td>-0.9346</td><td>Take Away (TA)</td></tr><tr><th>30</th><td>506</td><td>8027</td><td>10% OFF GES DEAL</td><td>D</td><td>-0.9719</td><td>Take Away (TA)</td></tr><tr><th>&vellip;</th><td>&vellip;</td><td>&vellip;</td><td>&vellip;</td><td>&vellip;</td><td>&vellip;</td><td>&vellip;</td></tr></tbody></table>"
      ],
      "text/latex": [
       "GroupedDataFrame with 3 groups based on key: transaction\\_type\n",
       "\n",
       "First Group (5214325 rows): transaction\\_type = \"M\"\n",
       "\n",
       "\\begin{tabular}{r|ccccccc}\n",
       "\t& storenum & item\\_key & item\\_description & transaction\\_type & sales\\_amount & sales\\_channel & \\\\\n",
       "\t\\hline\n",
       "\t& Int64 & Int64 & String & String & Float64 & String & \\\\\n",
       "\t\\hline\n",
       "\t1 & 502 & 916755 & D-10P CKN BKT & M & 26.9159 & Online-Delivery & $\\dots$ \\\\\n",
       "\t2 & 502 & 710033 & DEL SURCHARGE & M & 3.7383 & Online-Delivery & $\\dots$ \\\\\n",
       "\t3 & 502 & 700103 & D-3PC ML(OR) & M & 58.4112 & Phone-Delivery & $\\dots$ \\\\\n",
       "\t4 & 502 & 710033 & DEL SURCHARGE & M & 3.7383 & Phone-Delivery & $\\dots$ \\\\\n",
       "\t5 & 502 & 710009 & D-ZINGER & M & 10.9346 & Phone-Delivery & $\\dots$ \\\\\n",
       "\t6 & 502 & 700103 & D-3PC ML(OR) & M & 46.729 & Phone-Delivery & $\\dots$ \\\\\n",
       "\t7 & 502 & 710033 & DEL SURCHARGE & M & 3.7383 & Phone-Delivery & $\\dots$ \\\\\n",
       "\t8 & 502 & 922023 & D-10 FOR \\$10 & M & 9.3458 & Online-Delivery & $\\dots$ \\\\\n",
       "\t9 & 502 & 913618 & D-10P CKN 2-5PM & M & 16.8224 & Online-Delivery & $\\dots$ \\\\\n",
       "\t10 & 502 & 710033 & DEL SURCHARGE & M & 3.7383 & Online-Delivery & $\\dots$ \\\\\n",
       "\t11 & 502 & 916137 & D-FM POT BWL & M & 5.0 & Online-Delivery & $\\dots$ \\\\\n",
       "\t12 & 502 & 710018 & D-C/SL MED & M & 3.4579 & Online-Delivery & $\\dots$ \\\\\n",
       "\t13 & 502 & 710021 & D-W/PT MED & M & 3.4579 & Online-Delivery & $\\dots$ \\\\\n",
       "\t14 & 502 & 919893 & D-8P FOR \\$15 & M & 14.0187 & Online-Delivery & $\\dots$ \\\\\n",
       "\t15 & 502 & 710033 & DEL SURCHARGE & M & 3.7383 & Online-Delivery & $\\dots$ \\\\\n",
       "\t16 & 502 & 913961 & D-8P VRTY FEAST & M & 38.271 & Online-Delivery & $\\dots$ \\\\\n",
       "\t17 & 502 & 710033 & DEL SURCHARGE & M & 3.7383 & Online-Delivery & $\\dots$ \\\\\n",
       "\t18 & 502 & 921466 & D-2P CKN BX & M & 39.2523 & Online-Delivery & $\\dots$ \\\\\n",
       "\t19 & 502 & 921466 & D-2P CKN BX & M & 39.2523 & Online-Delivery & $\\dots$ \\\\\n",
       "\t20 & 502 & 921466 & D-2P CKN BX & M & 29.4393 & Online-Delivery & $\\dots$ \\\\\n",
       "\t21 & 502 & 710033 & DEL SURCHARGE & M & 3.7383 & Online-Delivery & $\\dots$ \\\\\n",
       "\t22 & 502 & 913299 & D-AO 2 CHZ FRIES-APP & M & 5.6075 & Online-Delivery & $\\dots$ \\\\\n",
       "\t23 & 502 & 922023 & D-10 FOR \\$10 & M & 9.3458 & Online-Delivery & $\\dots$ \\\\\n",
       "\t24 & 502 & 710033 & DEL SURCHARGE & M & 3.7383 & Online-Delivery & $\\dots$ \\\\\n",
       "\t25 & 502 & 921474 & D-ZNGBX+2P CKN BX & M & 15.1402 & Online-Delivery & $\\dots$ \\\\\n",
       "\t26 & 502 & 916131 & D-1P CRY BWL ML & M & 7.9907 & Online-Delivery & $\\dots$ \\\\\n",
       "\t27 & 502 & 912754 & D-1P ZNG BOX & M & 10.2336 & Online-Delivery & $\\dots$ \\\\\n",
       "\t28 & 502 & 710033 & DEL SURCHARGE & M & 3.7383 & Online-Delivery & $\\dots$ \\\\\n",
       "\t29 & 502 & 916759 & D-ALA SNACK N SHARE BX   & M & 12.1028 & Online-Delivery & $\\dots$ \\\\\n",
       "\t30 & 502 & 922023 & D-10 FOR \\$10 & M & 9.3458 & Online-Delivery & $\\dots$ \\\\\n",
       "\t$\\dots$ & $\\dots$ & $\\dots$ & $\\dots$ & $\\dots$ & $\\dots$ & $\\dots$ &  \\\\\n",
       "\\end{tabular}\n",
       "\n",
       "$\\dots$\n",
       "\n",
       "Last Group (12833 rows): transaction\\_type = \"D\"\n",
       "\n",
       "\\begin{tabular}{r|ccccccc}\n",
       "\t& storenum & item\\_key & item\\_description & transaction\\_type & sales\\_amount & sales\\_channel & \\\\\n",
       "\t\\hline\n",
       "\t& Int64 & Int64 & String & String & Float64 & String & \\\\\n",
       "\t\\hline\n",
       "\t1 & 502 & 2000 & 25\\% EMP DISC & D & -1.9626 & Drive-Thru & $\\dots$ \\\\\n",
       "\t2 & 502 & 3007 & \\$1-OFF(PAssion) & D & -0.9346 & Eat In (EI) & $\\dots$ \\\\\n",
       "\t3 & 502 & 8027 & 10\\% OFF GES DEAL & D & -1.8131 & Eat In (EI) & $\\dots$ \\\\\n",
       "\t4 & 502 & 3007 & \\$1-OFF(PAssion) & D & -0.9346 & Take Away (TA) & $\\dots$ \\\\\n",
       "\t5 & 504 & 3007 & \\$1-OFF(PAssion) & D & -0.9346 & Eat In (EI) & $\\dots$ \\\\\n",
       "\t6 & 504 & 3007 & \\$1-OFF(PAssion) & D & -0.9346 & Eat In (EI) & $\\dots$ \\\\\n",
       "\t7 & 504 & 3007 & \\$1-OFF(PAssion) & D & 0.9346 & Eat In (EI) & $\\dots$ \\\\\n",
       "\t8 & 504 & 3007 & \\$1-OFF(PAssion) & D & -0.9346 & Eat In (EI) & $\\dots$ \\\\\n",
       "\t9 & 504 & 5010 & 10\\% OFF(LSM) & D & -0.9438 & Eat In (EI) & $\\dots$ \\\\\n",
       "\t10 & 504 & 8027 & 10\\% OFF GES DEAL & D & -2.243 & Take Away (TA) & $\\dots$ \\\\\n",
       "\t11 & 505 & 5016 & 10\\% OFF xFOOD PANDA & D & -1.0751 & Eat In (EI) & $\\dots$ \\\\\n",
       "\t12 & 505 & 5016 & 10\\% OFF xFOOD PANDA & D & -0.9813 & Take Away (TA) & $\\dots$ \\\\\n",
       "\t13 & 505 & 5010 & 10\\% OFF(LSM) & D & -0.7851 & Drive-Thru & $\\dots$ \\\\\n",
       "\t14 & 505 & 5010 & 10\\% OFF(LSM) & D & 0.7851 & Drive-Thru & $\\dots$ \\\\\n",
       "\t15 & 505 & 3007 & \\$1-OFF(PAssion) & D & -0.9346 & Eat In (EI) & $\\dots$ \\\\\n",
       "\t16 & 506 & 5016 & 10\\% OFF xFOOD PANDA & D & -0.5517 & Breakfast (BF) & $\\dots$ \\\\\n",
       "\t17 & 506 & 5016 & 10\\% OFF xFOOD PANDA & D & -0.4019 & Breakfast (BF) & $\\dots$ \\\\\n",
       "\t18 & 506 & 3007 & \\$1-OFF(PAssion) & D & -0.9346 & Eat In (EI) & $\\dots$ \\\\\n",
       "\t19 & 506 & 3007 & \\$1-OFF(PAssion) & D & -0.9346 & Eat In (EI) & $\\dots$ \\\\\n",
       "\t20 & 506 & 2000 & 25\\% EMP DISC & D & -3.6075 & Eat In (EI) & $\\dots$ \\\\\n",
       "\t21 & 506 & 3007 & \\$1-OFF(PAssion) & D & -0.9346 & Take Away (TA) & $\\dots$ \\\\\n",
       "\t22 & 506 & 3007 & \\$1-OFF(PAssion) & D & -0.9346 & Eat In (EI) & $\\dots$ \\\\\n",
       "\t23 & 506 & 3007 & \\$1-OFF(PAssion) & D & -0.9346 & Take Away (TA) & $\\dots$ \\\\\n",
       "\t24 & 506 & 3007 & \\$1-OFF(PAssion) & D & -0.9304 & Take Away (TA) & $\\dots$ \\\\\n",
       "\t25 & 506 & 5016 & 10\\% OFF xFOOD PANDA & D & -0.9816 & Take Away (TA) & $\\dots$ \\\\\n",
       "\t26 & 506 & 8027 & 10\\% OFF GES DEAL & D & -0.9346 & Take Away (TA) & $\\dots$ \\\\\n",
       "\t27 & 506 & 3007 & \\$1-OFF(PAssion) & D & -0.9346 & Eat In (EI) & $\\dots$ \\\\\n",
       "\t28 & 506 & 3007 & \\$1-OFF(PAssion) & D & -0.9346 & Eat In (EI) & $\\dots$ \\\\\n",
       "\t29 & 506 & 3007 & \\$1-OFF(PAssion) & D & -0.9346 & Take Away (TA) & $\\dots$ \\\\\n",
       "\t30 & 506 & 8027 & 10\\% OFF GES DEAL & D & -0.9719 & Take Away (TA) & $\\dots$ \\\\\n",
       "\t$\\dots$ & $\\dots$ & $\\dots$ & $\\dots$ & $\\dots$ & $\\dots$ & $\\dots$ &  \\\\\n",
       "\\end{tabular}\n"
      ],
      "text/plain": [
       "GroupedDataFrame with 3 groups based on key: transaction_type\n",
       "First Group (5214325 rows): transaction_type = \"M\"\n",
       "\u001b[1m     Row \u001b[0m│\u001b[1m storenum \u001b[0m\u001b[1m item_key \u001b[0m\u001b[1m item_description \u001b[0m\u001b[1m transaction_type \u001b[0m\u001b[1m sales_amoun\u001b[0m ⋯\n",
       "\u001b[1m         \u001b[0m│\u001b[90m Int64    \u001b[0m\u001b[90m Int64    \u001b[0m\u001b[90m String           \u001b[0m\u001b[90m String           \u001b[0m\u001b[90m Float64    \u001b[0m ⋯\n",
       "─────────┼──────────────────────────────────────────────────────────────────────\n",
       "       1 │      502    916755  D-10P CKN BKT     M                      26.915 ⋯\n",
       "       2 │      502    710033  DEL SURCHARGE     M                       3.738\n",
       "       3 │      502    700103  D-3PC ML(OR)      M                      58.411\n",
       "       4 │      502    710033  DEL SURCHARGE     M                       3.738\n",
       "       5 │      502    710009  D-ZINGER          M                      10.934 ⋯\n",
       "       6 │      502    700103  D-3PC ML(OR)      M                      46.729\n",
       "       7 │      502    710033  DEL SURCHARGE     M                       3.738\n",
       "       8 │      502    922023  D-10 FOR $10      M                       9.345\n",
       "       9 │      502    913618  D-10P CKN 2-5PM   M                      16.822 ⋯\n",
       "      10 │      502    710033  DEL SURCHARGE     M                       3.738\n",
       "      11 │      502    916137  D-FM POT BWL      M                       5.0\n",
       "    ⋮    │    ⋮         ⋮             ⋮                 ⋮               ⋮      ⋱\n",
       " 5214315 │      670    200006  RT BEER -M        M                       2.757\n",
       " 5214316 │      670    921046  5P ACB 30%        M                       9.626 ⋯\n",
       " 5214317 │      670    922204  ZNG+SJ-R          M                       0.934\n",
       " 5214318 │      670    921048  15P ACB 30%       M                      25.420\n",
       " 5214319 │      670    922110  2P(TG) ML         M                       8.364\n",
       " 5214320 │      670    450011  RWP>CF            M                       2.056 ⋯\n",
       " 5214321 │      670    914357  1P EGG TART       M                       1.215\n",
       " 5214322 │      670    912781  1 OR ZNG BX       M                       8.551\n",
       " 5214323 │      670    450046  RFF>CFRIES        M                       1.869\n",
       " 5214324 │      670    914357  1P EGG TART       M                       1.215 ⋯\n",
       " 5214325 │      670    921046  5P ACB 30%        M                       9.626\n",
       "\u001b[36m                                              7 columns and 5214303 rows omitted\u001b[0m\n",
       "⋮\n",
       "Last Group (12833 rows): transaction_type = \"D\"\n",
       "\u001b[1m   Row \u001b[0m│\u001b[1m storenum \u001b[0m\u001b[1m item_key \u001b[0m\u001b[1m item_description    \u001b[0m\u001b[1m transaction_type \u001b[0m\u001b[1m sales_amou\u001b[0m ⋯\n",
       "\u001b[1m       \u001b[0m│\u001b[90m Int64    \u001b[0m\u001b[90m Int64    \u001b[0m\u001b[90m String              \u001b[0m\u001b[90m String           \u001b[0m\u001b[90m Float64   \u001b[0m ⋯\n",
       "───────┼────────────────────────────────────────────────────────────────────────\n",
       "     1 │      502      2000  25% EMP DISC         D                      -1.96 ⋯\n",
       "     2 │      502      3007  $1-OFF(PAssion)      D                      -0.93\n",
       "     3 │      502      8027  10% OFF GES DEAL     D                      -1.81\n",
       "     4 │      502      3007  $1-OFF(PAssion)      D                      -0.93\n",
       "     5 │      504      3007  $1-OFF(PAssion)      D                      -0.93 ⋯\n",
       "     6 │      504      3007  $1-OFF(PAssion)      D                      -0.93\n",
       "     7 │      504      3007  $1-OFF(PAssion)      D                       0.93\n",
       "     8 │      504      3007  $1-OFF(PAssion)      D                      -0.93\n",
       "     9 │      504      5010  10% OFF(LSM)         D                      -0.94 ⋯\n",
       "    10 │      504      8027  10% OFF GES DEAL     D                      -2.24\n",
       "    11 │      505      5016  10% OFF xFOOD PANDA  D                      -1.07\n",
       "   ⋮   │    ⋮         ⋮               ⋮                  ⋮               ⋮     ⋱\n",
       " 12823 │      660      8027  10% OFF GES DEAL     D                      -0.46\n",
       " 12824 │      660      8027  10% OFF GES DEAL     D                      -1.66 ⋯\n",
       " 12825 │      664      3007  $1-OFF(PAssion)      D                      -0.93\n",
       " 12826 │      664      3007  $1-OFF(PAssion)      D                      -0.93\n",
       " 12827 │      664      8027  10% OFF GES DEAL     D                      -0.60\n",
       " 12828 │      665      3007  $1-OFF(PAssion)      D                      -0.93 ⋯\n",
       " 12829 │      665      3007  $1-OFF(PAssion)      D                      -0.93\n",
       " 12830 │      665      5010  10% OFF(LSM)         D                      -0.46\n",
       " 12831 │      666      3007  $1-OFF(PAssion)      D                      -0.93\n",
       " 12832 │      670      8027  10% OFF GES DEAL     D                      -0.78 ⋯\n",
       " 12833 │      670      8027  10% OFF GES DEAL     D                      -0.32\n",
       "\u001b[36m                                                7 columns and 12811 rows omitted\u001b[0m"
      ]
     },
     "execution_count": 11,
     "metadata": {},
     "output_type": "execute_result"
    }
   ],
   "source": [
    "grp = groupby(df,:transaction_type)"
   ]
  },
  {
   "cell_type": "code",
   "execution_count": 12,
   "metadata": {
    "scrolled": true
   },
   "outputs": [
    {
     "data": {
      "text/html": [
       "<table class=\"data-frame\"><thead><tr><th></th><th>storenum</th><th>item_key</th><th>item_description</th><th>transaction_type</th><th>sales_amount</th><th>sales_channel</th></tr><tr><th></th><th>Int64</th><th>Int64</th><th>String</th><th>String</th><th>Float64</th><th>String</th></tr></thead><tbody><p>5,214,325 rows × 11 columns (omitted printing of 5 columns)</p><tr><th>1</th><td>502</td><td>916755</td><td>D-10P CKN BKT</td><td>M</td><td>26.9159</td><td>Online-Delivery</td></tr><tr><th>2</th><td>502</td><td>710033</td><td>DEL SURCHARGE</td><td>M</td><td>3.7383</td><td>Online-Delivery</td></tr><tr><th>3</th><td>502</td><td>700103</td><td>D-3PC ML(OR)</td><td>M</td><td>58.4112</td><td>Phone-Delivery</td></tr><tr><th>4</th><td>502</td><td>710033</td><td>DEL SURCHARGE</td><td>M</td><td>3.7383</td><td>Phone-Delivery</td></tr><tr><th>5</th><td>502</td><td>710009</td><td>D-ZINGER</td><td>M</td><td>10.9346</td><td>Phone-Delivery</td></tr><tr><th>6</th><td>502</td><td>700103</td><td>D-3PC ML(OR)</td><td>M</td><td>46.729</td><td>Phone-Delivery</td></tr><tr><th>7</th><td>502</td><td>710033</td><td>DEL SURCHARGE</td><td>M</td><td>3.7383</td><td>Phone-Delivery</td></tr><tr><th>8</th><td>502</td><td>922023</td><td>D-10 FOR $10</td><td>M</td><td>9.3458</td><td>Online-Delivery</td></tr><tr><th>9</th><td>502</td><td>913618</td><td>D-10P CKN 2-5PM</td><td>M</td><td>16.8224</td><td>Online-Delivery</td></tr><tr><th>10</th><td>502</td><td>710033</td><td>DEL SURCHARGE</td><td>M</td><td>3.7383</td><td>Online-Delivery</td></tr><tr><th>11</th><td>502</td><td>916137</td><td>D-FM POT BWL</td><td>M</td><td>5.0</td><td>Online-Delivery</td></tr><tr><th>12</th><td>502</td><td>710018</td><td>D-C/SL MED</td><td>M</td><td>3.4579</td><td>Online-Delivery</td></tr><tr><th>13</th><td>502</td><td>710021</td><td>D-W/PT MED</td><td>M</td><td>3.4579</td><td>Online-Delivery</td></tr><tr><th>14</th><td>502</td><td>919893</td><td>D-8P FOR $15</td><td>M</td><td>14.0187</td><td>Online-Delivery</td></tr><tr><th>15</th><td>502</td><td>710033</td><td>DEL SURCHARGE</td><td>M</td><td>3.7383</td><td>Online-Delivery</td></tr><tr><th>16</th><td>502</td><td>913961</td><td>D-8P VRTY FEAST</td><td>M</td><td>38.271</td><td>Online-Delivery</td></tr><tr><th>17</th><td>502</td><td>710033</td><td>DEL SURCHARGE</td><td>M</td><td>3.7383</td><td>Online-Delivery</td></tr><tr><th>18</th><td>502</td><td>921466</td><td>D-2P CKN BX</td><td>M</td><td>39.2523</td><td>Online-Delivery</td></tr><tr><th>19</th><td>502</td><td>921466</td><td>D-2P CKN BX</td><td>M</td><td>39.2523</td><td>Online-Delivery</td></tr><tr><th>20</th><td>502</td><td>921466</td><td>D-2P CKN BX</td><td>M</td><td>29.4393</td><td>Online-Delivery</td></tr><tr><th>21</th><td>502</td><td>710033</td><td>DEL SURCHARGE</td><td>M</td><td>3.7383</td><td>Online-Delivery</td></tr><tr><th>22</th><td>502</td><td>913299</td><td>D-AO 2 CHZ FRIES-APP</td><td>M</td><td>5.6075</td><td>Online-Delivery</td></tr><tr><th>23</th><td>502</td><td>922023</td><td>D-10 FOR $10</td><td>M</td><td>9.3458</td><td>Online-Delivery</td></tr><tr><th>24</th><td>502</td><td>710033</td><td>DEL SURCHARGE</td><td>M</td><td>3.7383</td><td>Online-Delivery</td></tr><tr><th>25</th><td>502</td><td>921474</td><td>D-ZNGBX+2P CKN BX</td><td>M</td><td>15.1402</td><td>Online-Delivery</td></tr><tr><th>26</th><td>502</td><td>916131</td><td>D-1P CRY BWL ML</td><td>M</td><td>7.9907</td><td>Online-Delivery</td></tr><tr><th>27</th><td>502</td><td>912754</td><td>D-1P ZNG BOX</td><td>M</td><td>10.2336</td><td>Online-Delivery</td></tr><tr><th>28</th><td>502</td><td>710033</td><td>DEL SURCHARGE</td><td>M</td><td>3.7383</td><td>Online-Delivery</td></tr><tr><th>29</th><td>502</td><td>916759</td><td>D-ALA SNACK N SHARE BX  </td><td>M</td><td>12.1028</td><td>Online-Delivery</td></tr><tr><th>30</th><td>502</td><td>922023</td><td>D-10 FOR $10</td><td>M</td><td>9.3458</td><td>Online-Delivery</td></tr><tr><th>&vellip;</th><td>&vellip;</td><td>&vellip;</td><td>&vellip;</td><td>&vellip;</td><td>&vellip;</td><td>&vellip;</td></tr></tbody></table>"
      ],
      "text/latex": [
       "\\begin{tabular}{r|ccccccc}\n",
       "\t& storenum & item\\_key & item\\_description & transaction\\_type & sales\\_amount & sales\\_channel & \\\\\n",
       "\t\\hline\n",
       "\t& Int64 & Int64 & String & String & Float64 & String & \\\\\n",
       "\t\\hline\n",
       "\t1 & 502 & 916755 & D-10P CKN BKT & M & 26.9159 & Online-Delivery & $\\dots$ \\\\\n",
       "\t2 & 502 & 710033 & DEL SURCHARGE & M & 3.7383 & Online-Delivery & $\\dots$ \\\\\n",
       "\t3 & 502 & 700103 & D-3PC ML(OR) & M & 58.4112 & Phone-Delivery & $\\dots$ \\\\\n",
       "\t4 & 502 & 710033 & DEL SURCHARGE & M & 3.7383 & Phone-Delivery & $\\dots$ \\\\\n",
       "\t5 & 502 & 710009 & D-ZINGER & M & 10.9346 & Phone-Delivery & $\\dots$ \\\\\n",
       "\t6 & 502 & 700103 & D-3PC ML(OR) & M & 46.729 & Phone-Delivery & $\\dots$ \\\\\n",
       "\t7 & 502 & 710033 & DEL SURCHARGE & M & 3.7383 & Phone-Delivery & $\\dots$ \\\\\n",
       "\t8 & 502 & 922023 & D-10 FOR \\$10 & M & 9.3458 & Online-Delivery & $\\dots$ \\\\\n",
       "\t9 & 502 & 913618 & D-10P CKN 2-5PM & M & 16.8224 & Online-Delivery & $\\dots$ \\\\\n",
       "\t10 & 502 & 710033 & DEL SURCHARGE & M & 3.7383 & Online-Delivery & $\\dots$ \\\\\n",
       "\t11 & 502 & 916137 & D-FM POT BWL & M & 5.0 & Online-Delivery & $\\dots$ \\\\\n",
       "\t12 & 502 & 710018 & D-C/SL MED & M & 3.4579 & Online-Delivery & $\\dots$ \\\\\n",
       "\t13 & 502 & 710021 & D-W/PT MED & M & 3.4579 & Online-Delivery & $\\dots$ \\\\\n",
       "\t14 & 502 & 919893 & D-8P FOR \\$15 & M & 14.0187 & Online-Delivery & $\\dots$ \\\\\n",
       "\t15 & 502 & 710033 & DEL SURCHARGE & M & 3.7383 & Online-Delivery & $\\dots$ \\\\\n",
       "\t16 & 502 & 913961 & D-8P VRTY FEAST & M & 38.271 & Online-Delivery & $\\dots$ \\\\\n",
       "\t17 & 502 & 710033 & DEL SURCHARGE & M & 3.7383 & Online-Delivery & $\\dots$ \\\\\n",
       "\t18 & 502 & 921466 & D-2P CKN BX & M & 39.2523 & Online-Delivery & $\\dots$ \\\\\n",
       "\t19 & 502 & 921466 & D-2P CKN BX & M & 39.2523 & Online-Delivery & $\\dots$ \\\\\n",
       "\t20 & 502 & 921466 & D-2P CKN BX & M & 29.4393 & Online-Delivery & $\\dots$ \\\\\n",
       "\t21 & 502 & 710033 & DEL SURCHARGE & M & 3.7383 & Online-Delivery & $\\dots$ \\\\\n",
       "\t22 & 502 & 913299 & D-AO 2 CHZ FRIES-APP & M & 5.6075 & Online-Delivery & $\\dots$ \\\\\n",
       "\t23 & 502 & 922023 & D-10 FOR \\$10 & M & 9.3458 & Online-Delivery & $\\dots$ \\\\\n",
       "\t24 & 502 & 710033 & DEL SURCHARGE & M & 3.7383 & Online-Delivery & $\\dots$ \\\\\n",
       "\t25 & 502 & 921474 & D-ZNGBX+2P CKN BX & M & 15.1402 & Online-Delivery & $\\dots$ \\\\\n",
       "\t26 & 502 & 916131 & D-1P CRY BWL ML & M & 7.9907 & Online-Delivery & $\\dots$ \\\\\n",
       "\t27 & 502 & 912754 & D-1P ZNG BOX & M & 10.2336 & Online-Delivery & $\\dots$ \\\\\n",
       "\t28 & 502 & 710033 & DEL SURCHARGE & M & 3.7383 & Online-Delivery & $\\dots$ \\\\\n",
       "\t29 & 502 & 916759 & D-ALA SNACK N SHARE BX   & M & 12.1028 & Online-Delivery & $\\dots$ \\\\\n",
       "\t30 & 502 & 922023 & D-10 FOR \\$10 & M & 9.3458 & Online-Delivery & $\\dots$ \\\\\n",
       "\t$\\dots$ & $\\dots$ & $\\dots$ & $\\dots$ & $\\dots$ & $\\dots$ & $\\dots$ &  \\\\\n",
       "\\end{tabular}\n"
      ],
      "text/plain": [
       "\u001b[1m5214325×11 DataFrame\u001b[0m\n",
       "\u001b[1m     Row \u001b[0m│\u001b[1m storenum \u001b[0m\u001b[1m item_key \u001b[0m\u001b[1m item_description \u001b[0m\u001b[1m transaction_type \u001b[0m\u001b[1m sales_amoun\u001b[0m ⋯\n",
       "\u001b[1m         \u001b[0m│\u001b[90m Int64    \u001b[0m\u001b[90m Int64    \u001b[0m\u001b[90m String           \u001b[0m\u001b[90m String           \u001b[0m\u001b[90m Float64    \u001b[0m ⋯\n",
       "─────────┼──────────────────────────────────────────────────────────────────────\n",
       "       1 │      502    916755  D-10P CKN BKT     M                      26.915 ⋯\n",
       "       2 │      502    710033  DEL SURCHARGE     M                       3.738\n",
       "       3 │      502    700103  D-3PC ML(OR)      M                      58.411\n",
       "       4 │      502    710033  DEL SURCHARGE     M                       3.738\n",
       "       5 │      502    710009  D-ZINGER          M                      10.934 ⋯\n",
       "       6 │      502    700103  D-3PC ML(OR)      M                      46.729\n",
       "       7 │      502    710033  DEL SURCHARGE     M                       3.738\n",
       "       8 │      502    922023  D-10 FOR $10      M                       9.345\n",
       "       9 │      502    913618  D-10P CKN 2-5PM   M                      16.822 ⋯\n",
       "      10 │      502    710033  DEL SURCHARGE     M                       3.738\n",
       "      11 │      502    916137  D-FM POT BWL      M                       5.0\n",
       "    ⋮    │    ⋮         ⋮             ⋮                 ⋮               ⋮      ⋱\n",
       " 5214316 │      670    921046  5P ACB 30%        M                       9.626\n",
       " 5214317 │      670    922204  ZNG+SJ-R          M                       0.934 ⋯\n",
       " 5214318 │      670    921048  15P ACB 30%       M                      25.420\n",
       " 5214319 │      670    922110  2P(TG) ML         M                       8.364\n",
       " 5214320 │      670    450011  RWP>CF            M                       2.056\n",
       " 5214321 │      670    914357  1P EGG TART       M                       1.215 ⋯\n",
       " 5214322 │      670    912781  1 OR ZNG BX       M                       8.551\n",
       " 5214323 │      670    450046  RFF>CFRIES        M                       1.869\n",
       " 5214324 │      670    914357  1P EGG TART       M                       1.215\n",
       " 5214325 │      670    921046  5P ACB 30%        M                       9.626 ⋯\n",
       "\u001b[36m                                              7 columns and 5214304 rows omitted\u001b[0m"
      ]
     },
     "execution_count": 12,
     "metadata": {},
     "output_type": "execute_result"
    }
   ],
   "source": [
    "df = DataFrame(grp[1])"
   ]
  },
  {
   "cell_type": "code",
   "execution_count": 37,
   "metadata": {},
   "outputs": [],
   "source": [
    "#Preparing DataFrame for clusterwise sales item category, product type, bundle type in Breakfast_Weekday\n",
    "map = Dict()\n",
    "\n",
    "df1 = DataFrame(CSV.File(\"/home/vikas/Downloads/Breakfast_Weekday_Clusters.csv\"))\n",
    "\n",
    "for i in 1:length(df1.store_transaction_key)\n",
    "    map[df1.store_transaction_key[i]] = df1.cluster[i]\n",
    "end"
   ]
  },
  {
   "cell_type": "code",
   "execution_count": 35,
   "metadata": {
    "scrolled": true
   },
   "outputs": [
    {
     "data": {
      "text/plain": [
       "358036-element Vector{Any}:\n",
       " \"Individual Meal\"\n",
       " \"Ala Carte\"\n",
       " \"Ala Carte\"\n",
       " \"Individual Meal\"\n",
       " \"Trade-up\"\n",
       " \"Trade-up\"\n",
       " \"Trade-up\"\n",
       " \"Individual Meal\"\n",
       " \"Ala Carte\"\n",
       " \"Individual Meal\"\n",
       " \"Trade-up\"\n",
       " \"Trade-up\"\n",
       " \"Add-on\"\n",
       " ⋮\n",
       " \"Trade-up\"\n",
       " \"Ala Carte\"\n",
       " \"Ala Carte\"\n",
       " \"Individual Meal\"\n",
       " \"Trade-up\"\n",
       " \"Add-on\"\n",
       " \"Trade-up\"\n",
       " \"Trade-up\"\n",
       " \"Trade-up\"\n",
       " \"Ala Carte\"\n",
       " \"Ala Carte\"\n",
       " \"Ala Carte\""
      ]
     },
     "execution_count": 35,
     "metadata": {},
     "output_type": "execute_result"
    }
   ],
   "source": [
    "cluster = []\n",
    "storenum = []\n",
    "PRODUCT_TYPE = []\n",
    "SALES_ITEM_CATEGORY = []\n",
    "BUNDLE_TYPE = []\n",
    "store_transaction_key = []\n",
    "\n",
    "for i in 1:length(df.store_transaction_key)\n",
    "    if df.store_transaction_key[i] in keys(map)\n",
    "        push!(cluster,map[df.store_transaction_key[i]])\n",
    "        push!(PRODUCT_TYPE,dict3[df.item_key[i]])\n",
    "        push!(SALES_ITEM_CATEGORY,dict2[df.item_key[i]])\n",
    "        push!(BUNDLE_TYPE,dict1[df.item_key[i]])\n",
    "        push!(store_transaction_key,df.store_transaction_key[i])\n",
    "        push!(storenum,df.storenum[i])\n",
    "    end\n",
    "end\n",
    "\n",
    "df_CPSB_Breakfast_Weekday = DataFrame()\n",
    "df_CPSB_Breakfast_Weekday.storenum = storenum\n",
    "df_CPSB_Breakfast_Weekday.store_transaction_key = store_transaction_key\n",
    "df_CPSB_Breakfast_Weekday.cluster = cluster\n",
    "df_CPSB_Breakfast_Weekday.PRODUCT_TYPE = PRODUCT_TYPE\n",
    "df_CPSB_Breakfast_Weekday.SALES_ITEM_CATEGORY = SALES_ITEM_CATEGORY\n",
    "df_CPSB_Breakfast_Weekday.BUNDLE_TYPE = BUNDLE_TYPE"
   ]
  },
  {
   "cell_type": "code",
   "execution_count": 36,
   "metadata": {},
   "outputs": [
    {
     "data": {
      "text/plain": [
       "\"df_CPSB_Breakfast_Weekend.csv\""
      ]
     },
     "execution_count": 36,
     "metadata": {},
     "output_type": "execute_result"
    }
   ],
   "source": [
    "CSV.write(\"df_CPSB_Breakfast_Weekday.csv\",df_CPSB_Breakfast_Weekend)"
   ]
  },
  {
   "cell_type": "code",
   "execution_count": null,
   "metadata": {},
   "outputs": [],
   "source": [
    "#Preparing DataFrame for clusterwise sales item category, product type, bundle type in Breakfast_Weekend\n",
    "map = Dict()\n",
    "\n",
    "df1 = DataFrame(CSV.File(\"/home/vikas/Downloads/Breakfast_Weekend_Clusters.csv\"))\n",
    "\n",
    "for i in 1:length(df1.store_transaction_key)\n",
    "    map[df1.store_transaction_key[i]] = df1.cluster[i]\n",
    "end\n",
    "\n",
    "cluster = []\n",
    "storenum = []\n",
    "PRODUCT_TYPE = []\n",
    "SALES_ITEM_CATEGORY = []\n",
    "BUNDLE_TYPE = []\n",
    "store_transaction_key = []\n",
    "\n",
    "for i in 1:length(df.store_transaction_key)\n",
    "    if df.store_transaction_key[i] in keys(map)\n",
    "        push!(cluster,map[df.store_transaction_key[i]])\n",
    "        push!(PRODUCT_TYPE,dict3[df.item_key[i]])\n",
    "        push!(SALES_ITEM_CATEGORY,dict2[df.item_key[i]])\n",
    "        push!(BUNDLE_TYPE,dict1[df.item_key[i]])\n",
    "        push!(store_transaction_key,df.store_transaction_key[i])\n",
    "        push!(storenum,df.storenum[i])\n",
    "    end\n",
    "end\n",
    "\n",
    "df_CPSB_Breakfast_Weekend = DataFrame()\n",
    "df_CPSB_Breakfast_Weekend.storenum = storenum\n",
    "df_CPSB_Breakfast_Weekend.store_transaction_key = store_transaction_key\n",
    "df_CPSB_Breakfast_Weekend.cluster = cluster\n",
    "df_CPSB_Breakfast_Weekend.PRODUCT_TYPE = PRODUCT_TYPE\n",
    "df_CPSB_Breakfast_Weekend.SALES_ITEM_CATEGORY = SALES_ITEM_CATEGORY\n",
    "df_CPSB_Breakfast_Weekend.BUNDLE_TYPE = BUNDLE_TYPE\n",
    "\n",
    "CSV.write(\"df_CPSB_Breakfast_Weekend.csv\",df_CPSB_Breakfast_Weekend)"
   ]
  },
  {
   "cell_type": "code",
   "execution_count": null,
   "metadata": {},
   "outputs": [],
   "source": [
    "#Preparing DataFrame for clusterwise sales item category, product type, bundle type in Lunch_Weekday\n",
    "map = Dict()\n",
    "\n",
    "df1 = DataFrame(CSV.File(\"/home/vikas/Downloads/Lunch_Weekday_Clusters.csv\"))\n",
    "\n",
    "for i in 1:length(df1.store_transaction_key)\n",
    "    map[df1.store_transaction_key[i]] = df1.cluster[i]\n",
    "end\n",
    "\n",
    "cluster = []\n",
    "storenum = []\n",
    "PRODUCT_TYPE = []\n",
    "SALES_ITEM_CATEGORY = []\n",
    "BUNDLE_TYPE = []\n",
    "store_transaction_key = []\n",
    "\n",
    "for i in 1:length(df.store_transaction_key)\n",
    "    if df.store_transaction_key[i] in keys(map)\n",
    "        push!(cluster,map[df.store_transaction_key[i]])\n",
    "        push!(PRODUCT_TYPE,dict3[df.item_key[i]])\n",
    "        push!(SALES_ITEM_CATEGORY,dict2[df.item_key[i]])\n",
    "        push!(BUNDLE_TYPE,dict1[df.item_key[i]])\n",
    "        push!(store_transaction_key,df.store_transaction_key[i])\n",
    "        push!(storenum,df.storenum[i])\n",
    "    end\n",
    "end\n",
    "\n",
    "df_CPSB_Lunch_Weekday = DataFrame()\n",
    "df_CPSB_Lunch_Weekday.storenum = storenum\n",
    "df_CPSB_Lunch_Weekday.store_transaction_key = store_transaction_key\n",
    "df_CPSB_Lunch_Weekday.cluster = cluster\n",
    "df_CPSB_Lunch_Weekday.PRODUCT_TYPE = PRODUCT_TYPE\n",
    "df_CPSB_Lunch_Weekday.SALES_ITEM_CATEGORY = SALES_ITEM_CATEGORY\n",
    "df_CPSB_Lunch_Weekday.BUNDLE_TYPE = BUNDLE_TYPE\n",
    "\n",
    "CSV.write(\"df_CPSB_Lunch_Weekday.csv\",df_CPSB_Lunch_Weekday)"
   ]
  },
  {
   "cell_type": "code",
   "execution_count": null,
   "metadata": {},
   "outputs": [],
   "source": [
    "#Preparing DataFrame for clusterwise sales item category, product type, bundle type in Lunch_Weekend\n",
    "map = Dict()\n",
    "\n",
    "df1 = DataFrame(CSV.File(\"/home/vikas/Downloads/Lunch_Weekend_Clusters.csv\"))\n",
    "\n",
    "for i in 1:length(df1.store_transaction_key)\n",
    "    map[df1.store_transaction_key[i]] = df1.cluster[i]\n",
    "end\n",
    "\n",
    "cluster = []\n",
    "storenum = []\n",
    "PRODUCT_TYPE = []\n",
    "SALES_ITEM_CATEGORY = []\n",
    "BUNDLE_TYPE = []\n",
    "store_transaction_key = []\n",
    "\n",
    "for i in 1:length(df.store_transaction_key)\n",
    "    if df.store_transaction_key[i] in keys(map)\n",
    "        push!(cluster,map[df.store_transaction_key[i]])\n",
    "        push!(PRODUCT_TYPE,dict3[df.item_key[i]])\n",
    "        push!(SALES_ITEM_CATEGORY,dict2[df.item_key[i]])\n",
    "        push!(BUNDLE_TYPE,dict1[df.item_key[i]])\n",
    "        push!(store_transaction_key,df.store_transaction_key[i])\n",
    "        push!(storenum,df.storenum[i])\n",
    "    end\n",
    "end\n",
    "\n",
    "df_CPSB_Lunch_Weekend = DataFrame()\n",
    "df_CPSB_Lunch_Weekend.storenum = storenum\n",
    "df_CPSB_Lunch_Weekend.store_transaction_key = store_transaction_key\n",
    "df_CPSB_Lunch_Weekend.cluster = cluster\n",
    "df_CPSB_Lunch_Weekend.PRODUCT_TYPE = PRODUCT_TYPE\n",
    "df_CPSB_Lunch_Weekend.SALES_ITEM_CATEGORY = SALES_ITEM_CATEGORY\n",
    "df_CPSB_Lunch_Weekend.BUNDLE_TYPE = BUNDLE_TYPE\n",
    "\n",
    "CSV.write(\"df_CPSB_Lunch_Weekend.csv\",df_CPSB_Lunch_Weekend)"
   ]
  },
  {
   "cell_type": "code",
   "execution_count": null,
   "metadata": {},
   "outputs": [],
   "source": [
    "#Preparing DataFrame for clusterwise sales item category, product type, bundle type in Dinner_Weekday\n",
    "map = Dict()\n",
    "\n",
    "df1 = DataFrame(CSV.File(\"/home/vikas/Downloads/Dinner_Weekday_Clusters.csv\"))\n",
    "\n",
    "for i in 1:length(df1.store_transaction_key)\n",
    "    map[df1.store_transaction_key[i]] = df1.cluster[i]\n",
    "end\n",
    "\n",
    "cluster = []\n",
    "storenum = []\n",
    "PRODUCT_TYPE = []\n",
    "SALES_ITEM_CATEGORY = []\n",
    "BUNDLE_TYPE = []\n",
    "store_transaction_key = []\n",
    "\n",
    "for i in 1:length(df.store_transaction_key)\n",
    "    if df.store_transaction_key[i] in keys(map)\n",
    "        push!(cluster,map[df.store_transaction_key[i]])\n",
    "        push!(PRODUCT_TYPE,dict3[df.item_key[i]])\n",
    "        push!(SALES_ITEM_CATEGORY,dict2[df.item_key[i]])\n",
    "        push!(BUNDLE_TYPE,dict1[df.item_key[i]])\n",
    "        push!(store_transaction_key,df.store_transaction_key[i])\n",
    "        push!(storenum,df.storenum[i])\n",
    "    end\n",
    "end\n",
    "\n",
    "df_CPSB_Dinner_Weekday = DataFrame()\n",
    "df_CPSB_Dinner_Weekday.storenum = storenum\n",
    "df_CPSB_Dinner_Weekday.store_transaction_key = store_transaction_key\n",
    "df_CPSB_Dinner_Weekday.cluster = cluster\n",
    "df_CPSB_Dinner_Weekday.PRODUCT_TYPE = PRODUCT_TYPE\n",
    "df_CPSB_Dinner_Weekday.SALES_ITEM_CATEGORY = SALES_ITEM_CATEGORY\n",
    "df_CPSB_Dinner_Weekday.BUNDLE_TYPE = BUNDLE_TYPE\n",
    "\n",
    "CSV.write(\"df_CPSB_Dinner_Weekday.csv\",df_CPSB_Dinner_Weekday)"
   ]
  },
  {
   "cell_type": "code",
   "execution_count": null,
   "metadata": {},
   "outputs": [],
   "source": [
    "#Preparing DataFrame for clusterwise sales item category, product type, bundle type in Dinner_Weekend\n",
    "map = Dict()\n",
    "\n",
    "df1 = DataFrame(CSV.File(\"/home/vikas/Downloads/Dinner_Weekend_Clusters.csv\"))\n",
    "\n",
    "for i in 1:length(df1.store_transaction_key)\n",
    "    map[df1.store_transaction_key[i]] = df1.cluster[i]\n",
    "end\n",
    "\n",
    "cluster = []\n",
    "storenum = []\n",
    "PRODUCT_TYPE = []\n",
    "SALES_ITEM_CATEGORY = []\n",
    "BUNDLE_TYPE = []\n",
    "store_transaction_key = []\n",
    "\n",
    "for i in 1:length(df.store_transaction_key)\n",
    "    if df.store_transaction_key[i] in keys(map)\n",
    "        push!(cluster,map[df.store_transaction_key[i]])\n",
    "        push!(PRODUCT_TYPE,dict3[df.item_key[i]])\n",
    "        push!(SALES_ITEM_CATEGORY,dict2[df.item_key[i]])\n",
    "        push!(BUNDLE_TYPE,dict1[df.item_key[i]])\n",
    "        push!(store_transaction_key,df.store_transaction_key[i])\n",
    "        push!(storenum,df.storenum[i])\n",
    "    end\n",
    "end\n",
    "\n",
    "df_CPSB_Dinner_Weekend = DataFrame()\n",
    "df_CPSB_Dinner_Weekend.storenum = storenum\n",
    "df_CPSB_Dinner_Weekend.store_transaction_key = store_transaction_key\n",
    "df_CPSB_Dinner_Weekend.cluster = cluster\n",
    "df_CPSB_Dinner_Weekend.PRODUCT_TYPE = PRODUCT_TYPE\n",
    "df_CPSB_Dinner_Weekend.SALES_ITEM_CATEGORY = SALES_ITEM_CATEGORY\n",
    "df_CPSB_Dinner_Weekend.BUNDLE_TYPE = BUNDLE_TYPE\n",
    "\n",
    "CSV.write(\"df_CPSB_Dinner_Weekend.csv\",df_CPSB_Dinner_Weekend)"
   ]
  },
  {
   "cell_type": "code",
   "execution_count": null,
   "metadata": {},
   "outputs": [],
   "source": []
  },
  {
   "cell_type": "code",
   "execution_count": null,
   "metadata": {},
   "outputs": [],
   "source": []
  },
  {
   "cell_type": "code",
   "execution_count": 43,
   "metadata": {
    "scrolled": true
   },
   "outputs": [
    {
     "data": {
      "text/html": [
       "<table class=\"data-frame\"><thead><tr><th></th><th>storenum</th><th>store_transaction_key</th><th>cluster</th><th>PRODUCT_TYPE</th><th>SALES_ITEM_CATEGORY</th><th>BUNDLE_TYPE</th></tr><tr><th></th><th>Int64</th><th>String</th><th>Int64</th><th>String</th><th>String</th><th>String</th></tr></thead><tbody><p>541,552 rows × 6 columns</p><tr><th>1</th><td>654</td><td>654_7284_2021-03-28</td><td>1</td><td>LTO</td><td>Porridge</td><td>Buddy Meal</td></tr><tr><th>2</th><td>654</td><td>654_7284_2021-03-28</td><td>1</td><td>LTO</td><td>Platters &amp; Pancakes</td><td>Ala Carte</td></tr><tr><th>3</th><td>654</td><td>654_7284_2021-03-28</td><td>1</td><td>Permanent</td><td>Porridge</td><td>Ala Carte</td></tr><tr><th>4</th><td>654</td><td>654_7284_2021-03-28</td><td>1</td><td>Permanent</td><td>Platters &amp; Pancakes</td><td>Individual Meal</td></tr><tr><th>5</th><td>654</td><td>654_7284_2021-03-28</td><td>1</td><td>Permanent</td><td>Beverage</td><td>Trade-up</td></tr><tr><th>6</th><td>654</td><td>654_7284_2021-03-28</td><td>1</td><td>LTO</td><td>Porridge</td><td>Buddy Meal</td></tr><tr><th>7</th><td>502</td><td>502_2004_2021-04-03</td><td>1</td><td>Permanent</td><td>Sides</td><td>Add-on</td></tr><tr><th>8</th><td>502</td><td>502_2004_2021-04-03</td><td>1</td><td>Permanent</td><td>Portables</td><td>Box Meal</td></tr><tr><th>9</th><td>502</td><td>502_2004_2021-04-03</td><td>1</td><td>Permanent</td><td>Others</td><td>Others</td></tr><tr><th>10</th><td>502</td><td>502_2005_2021-04-03</td><td>1</td><td>Permanent</td><td>Non-COB Protein</td><td>Ala Carte</td></tr><tr><th>11</th><td>502</td><td>502_2005_2021-04-03</td><td>1</td><td>Permanent</td><td>Chicken-on-bone</td><td>Group Meal</td></tr><tr><th>12</th><td>502</td><td>502_2005_2021-04-03</td><td>1</td><td>Permanent</td><td>Others</td><td>Others</td></tr><tr><th>13</th><td>502</td><td>502_2006_2021-04-03</td><td>1</td><td>Permanent</td><td>Non-COB Protein</td><td>Ala Carte</td></tr><tr><th>14</th><td>502</td><td>502_2006_2021-04-03</td><td>1</td><td>Permanent</td><td>Chicken-on-bone</td><td>Group Meal</td></tr><tr><th>15</th><td>502</td><td>502_2006_2021-04-03</td><td>1</td><td>Permanent</td><td>Others</td><td>Others</td></tr><tr><th>16</th><td>502</td><td>502_2007_2021-04-03</td><td>1</td><td>Permanent</td><td>Sides</td><td>Ala Carte</td></tr><tr><th>17</th><td>502</td><td>502_2007_2021-04-03</td><td>1</td><td>Permanent</td><td>Sides</td><td>Add-on</td></tr><tr><th>18</th><td>502</td><td>502_2007_2021-04-03</td><td>1</td><td>Permanent</td><td>Chicken-on-bone</td><td>Ala Carte</td></tr><tr><th>19</th><td>502</td><td>502_2007_2021-04-03</td><td>1</td><td>Permanent</td><td>Portables</td><td>Box Meal</td></tr><tr><th>20</th><td>502</td><td>502_2007_2021-04-03</td><td>1</td><td>Permanent</td><td>Others</td><td>Others</td></tr><tr><th>21</th><td>502</td><td>502_2008_2021-04-03</td><td>1</td><td>Permanent</td><td>Sides</td><td>Ala Carte</td></tr><tr><th>22</th><td>502</td><td>502_2008_2021-04-03</td><td>1</td><td>Permanent</td><td>Sides</td><td>Ala Carte</td></tr><tr><th>23</th><td>502</td><td>502_2008_2021-04-03</td><td>1</td><td>Permanent</td><td>Sides</td><td>Ala Carte</td></tr><tr><th>24</th><td>502</td><td>502_2008_2021-04-03</td><td>1</td><td>Permanent</td><td>Chicken-on-bone</td><td>Ala Carte</td></tr><tr><th>25</th><td>502</td><td>502_2008_2021-04-03</td><td>1</td><td>Permanent</td><td>Others</td><td>Others</td></tr><tr><th>26</th><td>502</td><td>502_2009_2021-04-03</td><td>1</td><td>Permanent</td><td>Non-COB Protein</td><td>Ala Carte</td></tr><tr><th>27</th><td>502</td><td>502_2009_2021-04-03</td><td>1</td><td>Permanent</td><td>Portables</td><td>Ala Carte</td></tr><tr><th>28</th><td>502</td><td>502_2009_2021-04-03</td><td>1</td><td>Permanent</td><td>Sides</td><td>Ala Carte</td></tr><tr><th>29</th><td>502</td><td>502_2009_2021-04-03</td><td>1</td><td>Permanent</td><td>Sides</td><td>Ala Carte</td></tr><tr><th>30</th><td>502</td><td>502_2009_2021-04-03</td><td>1</td><td>Permanent</td><td>Others</td><td>Others</td></tr><tr><th>&vellip;</th><td>&vellip;</td><td>&vellip;</td><td>&vellip;</td><td>&vellip;</td><td>&vellip;</td><td>&vellip;</td></tr></tbody></table>"
      ],
      "text/latex": [
       "\\begin{tabular}{r|cccccc}\n",
       "\t& storenum & store\\_transaction\\_key & cluster & PRODUCT\\_TYPE & SALES\\_ITEM\\_CATEGORY & BUNDLE\\_TYPE\\\\\n",
       "\t\\hline\n",
       "\t& Int64 & String & Int64 & String & String & String\\\\\n",
       "\t\\hline\n",
       "\t1 & 654 & 654\\_7284\\_2021-03-28 & 1 & LTO & Porridge & Buddy Meal \\\\\n",
       "\t2 & 654 & 654\\_7284\\_2021-03-28 & 1 & LTO & Platters \\& Pancakes & Ala Carte \\\\\n",
       "\t3 & 654 & 654\\_7284\\_2021-03-28 & 1 & Permanent & Porridge & Ala Carte \\\\\n",
       "\t4 & 654 & 654\\_7284\\_2021-03-28 & 1 & Permanent & Platters \\& Pancakes & Individual Meal \\\\\n",
       "\t5 & 654 & 654\\_7284\\_2021-03-28 & 1 & Permanent & Beverage & Trade-up \\\\\n",
       "\t6 & 654 & 654\\_7284\\_2021-03-28 & 1 & LTO & Porridge & Buddy Meal \\\\\n",
       "\t7 & 502 & 502\\_2004\\_2021-04-03 & 1 & Permanent & Sides & Add-on \\\\\n",
       "\t8 & 502 & 502\\_2004\\_2021-04-03 & 1 & Permanent & Portables & Box Meal \\\\\n",
       "\t9 & 502 & 502\\_2004\\_2021-04-03 & 1 & Permanent & Others & Others \\\\\n",
       "\t10 & 502 & 502\\_2005\\_2021-04-03 & 1 & Permanent & Non-COB Protein & Ala Carte \\\\\n",
       "\t11 & 502 & 502\\_2005\\_2021-04-03 & 1 & Permanent & Chicken-on-bone & Group Meal \\\\\n",
       "\t12 & 502 & 502\\_2005\\_2021-04-03 & 1 & Permanent & Others & Others \\\\\n",
       "\t13 & 502 & 502\\_2006\\_2021-04-03 & 1 & Permanent & Non-COB Protein & Ala Carte \\\\\n",
       "\t14 & 502 & 502\\_2006\\_2021-04-03 & 1 & Permanent & Chicken-on-bone & Group Meal \\\\\n",
       "\t15 & 502 & 502\\_2006\\_2021-04-03 & 1 & Permanent & Others & Others \\\\\n",
       "\t16 & 502 & 502\\_2007\\_2021-04-03 & 1 & Permanent & Sides & Ala Carte \\\\\n",
       "\t17 & 502 & 502\\_2007\\_2021-04-03 & 1 & Permanent & Sides & Add-on \\\\\n",
       "\t18 & 502 & 502\\_2007\\_2021-04-03 & 1 & Permanent & Chicken-on-bone & Ala Carte \\\\\n",
       "\t19 & 502 & 502\\_2007\\_2021-04-03 & 1 & Permanent & Portables & Box Meal \\\\\n",
       "\t20 & 502 & 502\\_2007\\_2021-04-03 & 1 & Permanent & Others & Others \\\\\n",
       "\t21 & 502 & 502\\_2008\\_2021-04-03 & 1 & Permanent & Sides & Ala Carte \\\\\n",
       "\t22 & 502 & 502\\_2008\\_2021-04-03 & 1 & Permanent & Sides & Ala Carte \\\\\n",
       "\t23 & 502 & 502\\_2008\\_2021-04-03 & 1 & Permanent & Sides & Ala Carte \\\\\n",
       "\t24 & 502 & 502\\_2008\\_2021-04-03 & 1 & Permanent & Chicken-on-bone & Ala Carte \\\\\n",
       "\t25 & 502 & 502\\_2008\\_2021-04-03 & 1 & Permanent & Others & Others \\\\\n",
       "\t26 & 502 & 502\\_2009\\_2021-04-03 & 1 & Permanent & Non-COB Protein & Ala Carte \\\\\n",
       "\t27 & 502 & 502\\_2009\\_2021-04-03 & 1 & Permanent & Portables & Ala Carte \\\\\n",
       "\t28 & 502 & 502\\_2009\\_2021-04-03 & 1 & Permanent & Sides & Ala Carte \\\\\n",
       "\t29 & 502 & 502\\_2009\\_2021-04-03 & 1 & Permanent & Sides & Ala Carte \\\\\n",
       "\t30 & 502 & 502\\_2009\\_2021-04-03 & 1 & Permanent & Others & Others \\\\\n",
       "\t$\\dots$ & $\\dots$ & $\\dots$ & $\\dots$ & $\\dots$ & $\\dots$ & $\\dots$ \\\\\n",
       "\\end{tabular}\n"
      ],
      "text/plain": [
       "\u001b[1m541552×6 DataFrame\u001b[0m\n",
       "\u001b[1m    Row \u001b[0m│\u001b[1m storenum \u001b[0m\u001b[1m store_transaction_key \u001b[0m\u001b[1m cluster \u001b[0m\u001b[1m PRODUCT_TYPE \u001b[0m\u001b[1m SALES_ITEM_C\u001b[0m ⋯\n",
       "\u001b[1m        \u001b[0m│\u001b[90m Int64    \u001b[0m\u001b[90m String                \u001b[0m\u001b[90m Int64   \u001b[0m\u001b[90m String       \u001b[0m\u001b[90m String      \u001b[0m ⋯\n",
       "────────┼───────────────────────────────────────────────────────────────────────\n",
       "      1 │      654  654_7284_2021-03-28          1  LTO           Porridge     ⋯\n",
       "      2 │      654  654_7284_2021-03-28          1  LTO           Platters & P\n",
       "      3 │      654  654_7284_2021-03-28          1  Permanent     Porridge\n",
       "      4 │      654  654_7284_2021-03-28          1  Permanent     Platters & P\n",
       "      5 │      654  654_7284_2021-03-28          1  Permanent     Beverage     ⋯\n",
       "      6 │      654  654_7284_2021-03-28          1  LTO           Porridge\n",
       "      7 │      502  502_2004_2021-04-03          1  Permanent     Sides\n",
       "      8 │      502  502_2004_2021-04-03          1  Permanent     Portables\n",
       "      9 │      502  502_2004_2021-04-03          1  Permanent     Others       ⋯\n",
       "     10 │      502  502_2005_2021-04-03          1  Permanent     Non-COB Prot\n",
       "     11 │      502  502_2005_2021-04-03          1  Permanent     Chicken-on-b\n",
       "   ⋮    │    ⋮                ⋮               ⋮          ⋮                 ⋮   ⋱\n",
       " 541543 │      670  670_7733_2021-05-02          1  Unknown       Unknown\n",
       " 541544 │      670  670_7733_2021-05-02          1  Permanent     Chicken-on-b ⋯\n",
       " 541545 │      670  670_7733_2021-05-02          1  Permanent     Sides\n",
       " 541546 │      670  670_7734_2021-05-02          1  Unknown       Unknown\n",
       " 541547 │      670  670_7735_2021-05-02          1  Unknown       Unknown\n",
       " 541548 │      670  670_7736_2021-05-02          1  Unknown       Unknown      ⋯\n",
       " 541549 │      670  670_7737_2021-05-02          1  Permanent     Portables\n",
       " 541550 │      670  670_7737_2021-05-02          1  Permanent     Portables\n",
       " 541551 │      563  563_7599_2021-05-02          1  Unknown       Unknown\n",
       " 541552 │      563  563_7599_2021-05-02          1  Unknown       Unknown      ⋯\n",
       "\u001b[36m                                               2 columns and 541531 rows omitted\u001b[0m"
      ]
     },
     "execution_count": 43,
     "metadata": {},
     "output_type": "execute_result"
    }
   ],
   "source": [
    "df = DataFrame(CSV.File(\"df_CPSB_Breakfast_Weekday.csv\"))"
   ]
  },
  {
   "cell_type": "code",
   "execution_count": 44,
   "metadata": {
    "scrolled": true
   },
   "outputs": [
    {
     "data": {
      "text/plain": [
       "14-element Vector{String}:\n",
       " \"Porridge\"\n",
       " \"Platters & Pancakes\"\n",
       " \"Beverage\"\n",
       " \"Sides\"\n",
       " \"Portables\"\n",
       " \"Others\"\n",
       " \"Non-COB Protein\"\n",
       " \"Chicken-on-bone\"\n",
       " \"Bowls & Rice\"\n",
       " \"Desserts\"\n",
       " \"Unknown\"\n",
       " \"Breakfast Sides\"\n",
       " \"Burgers & Twisters\"\n",
       " \"beverage\""
      ]
     },
     "execution_count": 44,
     "metadata": {},
     "output_type": "execute_result"
    }
   ],
   "source": [
    "d_category = DataFrame()\n",
    "s=unique(df.SALES_ITEM_CATEGORY)\n",
    "d_category.i = s"
   ]
  },
  {
   "cell_type": "code",
   "execution_count": 45,
   "metadata": {
    "scrolled": true
   },
   "outputs": [
    {
     "data": {
      "text/plain": [
       "4-element Vector{String}:\n",
       " \"LTO\"\n",
       " \"Permanent\"\n",
       " \"Others\"\n",
       " \"Unknown\""
      ]
     },
     "execution_count": 45,
     "metadata": {},
     "output_type": "execute_result"
    }
   ],
   "source": [
    "d_product = DataFrame()\n",
    "s=unique(df.PRODUCT_TYPE)\n",
    "d_product.i = s"
   ]
  },
  {
   "cell_type": "code",
   "execution_count": 46,
   "metadata": {
    "scrolled": true
   },
   "outputs": [
    {
     "data": {
      "text/plain": [
       "12-element Vector{String}:\n",
       " \"Buddy Meal\"\n",
       " \"Ala Carte\"\n",
       " \"Individual Meal\"\n",
       " \"Trade-up\"\n",
       " \"Add-on\"\n",
       " \"Box Meal\"\n",
       " \"Others\"\n",
       " \"Group Meal\"\n",
       " \"Unknown\"\n",
       " \"Change\"\n",
       " \"Snacker\"\n",
       " \"Snackers\""
      ]
     },
     "execution_count": 46,
     "metadata": {},
     "output_type": "execute_result"
    }
   ],
   "source": [
    "d_bundle = DataFrame()\n",
    "s=unique(df.BUNDLE_TYPE)\n",
    "d_bundle.i = s"
   ]
  },
  {
   "cell_type": "code",
   "execution_count": 47,
   "metadata": {
    "scrolled": true
   },
   "outputs": [
    {
     "data": {
      "text/html": [
       "<table class=\"data-frame\"><thead><tr><th></th><th>storenum</th><th>store_transaction_key</th><th>cluster</th><th>PRODUCT_TYPE</th><th>BUNDLE_TYPE</th><th>SALES_ITEM_CATEGORY</th></tr><tr><th></th><th>Int64</th><th>String</th><th>Int64</th><th>String</th><th>String</th><th>String</th></tr></thead><tbody><p>541,552 rows × 6 columns</p><tr><th>1</th><td>654</td><td>654_7284_2021-03-28</td><td>1</td><td>LTO</td><td>Buddy Meal</td><td>Porridge</td></tr><tr><th>2</th><td>654</td><td>654_7284_2021-03-28</td><td>1</td><td>LTO</td><td>Ala Carte</td><td>Platters &amp; Pancakes</td></tr><tr><th>3</th><td>654</td><td>654_7284_2021-03-28</td><td>1</td><td>Permanent</td><td>Ala Carte</td><td>Porridge</td></tr><tr><th>4</th><td>654</td><td>654_7284_2021-03-28</td><td>1</td><td>Permanent</td><td>Individual Meal</td><td>Platters &amp; Pancakes</td></tr><tr><th>5</th><td>654</td><td>654_7284_2021-03-28</td><td>1</td><td>Permanent</td><td>Trade-up</td><td>Beverage</td></tr><tr><th>6</th><td>654</td><td>654_7284_2021-03-28</td><td>1</td><td>LTO</td><td>Buddy Meal</td><td>Porridge</td></tr><tr><th>7</th><td>502</td><td>502_2004_2021-04-03</td><td>1</td><td>Permanent</td><td>Add-on</td><td>Sides</td></tr><tr><th>8</th><td>502</td><td>502_2004_2021-04-03</td><td>1</td><td>Permanent</td><td>Box Meal</td><td>Portables</td></tr><tr><th>9</th><td>502</td><td>502_2004_2021-04-03</td><td>1</td><td>Permanent</td><td>Others</td><td>Others</td></tr><tr><th>10</th><td>502</td><td>502_2005_2021-04-03</td><td>1</td><td>Permanent</td><td>Ala Carte</td><td>Non-COB Protein</td></tr><tr><th>11</th><td>502</td><td>502_2005_2021-04-03</td><td>1</td><td>Permanent</td><td>Group Meal</td><td>Chicken-on-bone</td></tr><tr><th>12</th><td>502</td><td>502_2005_2021-04-03</td><td>1</td><td>Permanent</td><td>Others</td><td>Others</td></tr><tr><th>13</th><td>502</td><td>502_2006_2021-04-03</td><td>1</td><td>Permanent</td><td>Ala Carte</td><td>Non-COB Protein</td></tr><tr><th>14</th><td>502</td><td>502_2006_2021-04-03</td><td>1</td><td>Permanent</td><td>Group Meal</td><td>Chicken-on-bone</td></tr><tr><th>15</th><td>502</td><td>502_2006_2021-04-03</td><td>1</td><td>Permanent</td><td>Others</td><td>Others</td></tr><tr><th>16</th><td>502</td><td>502_2007_2021-04-03</td><td>1</td><td>Permanent</td><td>Ala Carte</td><td>Sides</td></tr><tr><th>17</th><td>502</td><td>502_2007_2021-04-03</td><td>1</td><td>Permanent</td><td>Add-on</td><td>Sides</td></tr><tr><th>18</th><td>502</td><td>502_2007_2021-04-03</td><td>1</td><td>Permanent</td><td>Ala Carte</td><td>Chicken-on-bone</td></tr><tr><th>19</th><td>502</td><td>502_2007_2021-04-03</td><td>1</td><td>Permanent</td><td>Box Meal</td><td>Portables</td></tr><tr><th>20</th><td>502</td><td>502_2007_2021-04-03</td><td>1</td><td>Permanent</td><td>Others</td><td>Others</td></tr><tr><th>21</th><td>502</td><td>502_2008_2021-04-03</td><td>1</td><td>Permanent</td><td>Ala Carte</td><td>Sides</td></tr><tr><th>22</th><td>502</td><td>502_2008_2021-04-03</td><td>1</td><td>Permanent</td><td>Ala Carte</td><td>Sides</td></tr><tr><th>23</th><td>502</td><td>502_2008_2021-04-03</td><td>1</td><td>Permanent</td><td>Ala Carte</td><td>Sides</td></tr><tr><th>24</th><td>502</td><td>502_2008_2021-04-03</td><td>1</td><td>Permanent</td><td>Ala Carte</td><td>Chicken-on-bone</td></tr><tr><th>25</th><td>502</td><td>502_2008_2021-04-03</td><td>1</td><td>Permanent</td><td>Others</td><td>Others</td></tr><tr><th>26</th><td>502</td><td>502_2009_2021-04-03</td><td>1</td><td>Permanent</td><td>Ala Carte</td><td>Non-COB Protein</td></tr><tr><th>27</th><td>502</td><td>502_2009_2021-04-03</td><td>1</td><td>Permanent</td><td>Ala Carte</td><td>Portables</td></tr><tr><th>28</th><td>502</td><td>502_2009_2021-04-03</td><td>1</td><td>Permanent</td><td>Ala Carte</td><td>Sides</td></tr><tr><th>29</th><td>502</td><td>502_2009_2021-04-03</td><td>1</td><td>Permanent</td><td>Ala Carte</td><td>Sides</td></tr><tr><th>30</th><td>502</td><td>502_2009_2021-04-03</td><td>1</td><td>Permanent</td><td>Others</td><td>Others</td></tr><tr><th>&vellip;</th><td>&vellip;</td><td>&vellip;</td><td>&vellip;</td><td>&vellip;</td><td>&vellip;</td><td>&vellip;</td></tr></tbody></table>"
      ],
      "text/latex": [
       "\\begin{tabular}{r|cccccc}\n",
       "\t& storenum & store\\_transaction\\_key & cluster & PRODUCT\\_TYPE & BUNDLE\\_TYPE & SALES\\_ITEM\\_CATEGORY\\\\\n",
       "\t\\hline\n",
       "\t& Int64 & String & Int64 & String & String & String\\\\\n",
       "\t\\hline\n",
       "\t1 & 654 & 654\\_7284\\_2021-03-28 & 1 & LTO & Buddy Meal & Porridge \\\\\n",
       "\t2 & 654 & 654\\_7284\\_2021-03-28 & 1 & LTO & Ala Carte & Platters \\& Pancakes \\\\\n",
       "\t3 & 654 & 654\\_7284\\_2021-03-28 & 1 & Permanent & Ala Carte & Porridge \\\\\n",
       "\t4 & 654 & 654\\_7284\\_2021-03-28 & 1 & Permanent & Individual Meal & Platters \\& Pancakes \\\\\n",
       "\t5 & 654 & 654\\_7284\\_2021-03-28 & 1 & Permanent & Trade-up & Beverage \\\\\n",
       "\t6 & 654 & 654\\_7284\\_2021-03-28 & 1 & LTO & Buddy Meal & Porridge \\\\\n",
       "\t7 & 502 & 502\\_2004\\_2021-04-03 & 1 & Permanent & Add-on & Sides \\\\\n",
       "\t8 & 502 & 502\\_2004\\_2021-04-03 & 1 & Permanent & Box Meal & Portables \\\\\n",
       "\t9 & 502 & 502\\_2004\\_2021-04-03 & 1 & Permanent & Others & Others \\\\\n",
       "\t10 & 502 & 502\\_2005\\_2021-04-03 & 1 & Permanent & Ala Carte & Non-COB Protein \\\\\n",
       "\t11 & 502 & 502\\_2005\\_2021-04-03 & 1 & Permanent & Group Meal & Chicken-on-bone \\\\\n",
       "\t12 & 502 & 502\\_2005\\_2021-04-03 & 1 & Permanent & Others & Others \\\\\n",
       "\t13 & 502 & 502\\_2006\\_2021-04-03 & 1 & Permanent & Ala Carte & Non-COB Protein \\\\\n",
       "\t14 & 502 & 502\\_2006\\_2021-04-03 & 1 & Permanent & Group Meal & Chicken-on-bone \\\\\n",
       "\t15 & 502 & 502\\_2006\\_2021-04-03 & 1 & Permanent & Others & Others \\\\\n",
       "\t16 & 502 & 502\\_2007\\_2021-04-03 & 1 & Permanent & Ala Carte & Sides \\\\\n",
       "\t17 & 502 & 502\\_2007\\_2021-04-03 & 1 & Permanent & Add-on & Sides \\\\\n",
       "\t18 & 502 & 502\\_2007\\_2021-04-03 & 1 & Permanent & Ala Carte & Chicken-on-bone \\\\\n",
       "\t19 & 502 & 502\\_2007\\_2021-04-03 & 1 & Permanent & Box Meal & Portables \\\\\n",
       "\t20 & 502 & 502\\_2007\\_2021-04-03 & 1 & Permanent & Others & Others \\\\\n",
       "\t21 & 502 & 502\\_2008\\_2021-04-03 & 1 & Permanent & Ala Carte & Sides \\\\\n",
       "\t22 & 502 & 502\\_2008\\_2021-04-03 & 1 & Permanent & Ala Carte & Sides \\\\\n",
       "\t23 & 502 & 502\\_2008\\_2021-04-03 & 1 & Permanent & Ala Carte & Sides \\\\\n",
       "\t24 & 502 & 502\\_2008\\_2021-04-03 & 1 & Permanent & Ala Carte & Chicken-on-bone \\\\\n",
       "\t25 & 502 & 502\\_2008\\_2021-04-03 & 1 & Permanent & Others & Others \\\\\n",
       "\t26 & 502 & 502\\_2009\\_2021-04-03 & 1 & Permanent & Ala Carte & Non-COB Protein \\\\\n",
       "\t27 & 502 & 502\\_2009\\_2021-04-03 & 1 & Permanent & Ala Carte & Portables \\\\\n",
       "\t28 & 502 & 502\\_2009\\_2021-04-03 & 1 & Permanent & Ala Carte & Sides \\\\\n",
       "\t29 & 502 & 502\\_2009\\_2021-04-03 & 1 & Permanent & Ala Carte & Sides \\\\\n",
       "\t30 & 502 & 502\\_2009\\_2021-04-03 & 1 & Permanent & Others & Others \\\\\n",
       "\t$\\dots$ & $\\dots$ & $\\dots$ & $\\dots$ & $\\dots$ & $\\dots$ & $\\dots$ \\\\\n",
       "\\end{tabular}\n"
      ],
      "text/plain": [
       "\u001b[1m541552×6 DataFrame\u001b[0m\n",
       "\u001b[1m    Row \u001b[0m│\u001b[1m storenum \u001b[0m\u001b[1m store_transaction_key \u001b[0m\u001b[1m cluster \u001b[0m\u001b[1m PRODUCT_TYPE \u001b[0m\u001b[1m BUNDLE_TYPE \u001b[0m ⋯\n",
       "\u001b[1m        \u001b[0m│\u001b[90m Int64    \u001b[0m\u001b[90m String                \u001b[0m\u001b[90m Int64   \u001b[0m\u001b[90m String       \u001b[0m\u001b[90m String      \u001b[0m ⋯\n",
       "────────┼───────────────────────────────────────────────────────────────────────\n",
       "      1 │      654  654_7284_2021-03-28          1  LTO           Buddy Meal   ⋯\n",
       "      2 │      654  654_7284_2021-03-28          1  LTO           Ala Carte\n",
       "      3 │      654  654_7284_2021-03-28          1  Permanent     Ala Carte\n",
       "      4 │      654  654_7284_2021-03-28          1  Permanent     Individual M\n",
       "      5 │      654  654_7284_2021-03-28          1  Permanent     Trade-up     ⋯\n",
       "      6 │      654  654_7284_2021-03-28          1  LTO           Buddy Meal\n",
       "      7 │      502  502_2004_2021-04-03          1  Permanent     Add-on\n",
       "      8 │      502  502_2004_2021-04-03          1  Permanent     Box Meal\n",
       "      9 │      502  502_2004_2021-04-03          1  Permanent     Others       ⋯\n",
       "     10 │      502  502_2005_2021-04-03          1  Permanent     Ala Carte\n",
       "     11 │      502  502_2005_2021-04-03          1  Permanent     Group Meal\n",
       "   ⋮    │    ⋮                ⋮               ⋮          ⋮               ⋮     ⋱\n",
       " 541543 │      670  670_7733_2021-05-02          1  Unknown       Unknown\n",
       " 541544 │      670  670_7733_2021-05-02          1  Permanent     Individual M ⋯\n",
       " 541545 │      670  670_7733_2021-05-02          1  Permanent     Ala Carte\n",
       " 541546 │      670  670_7734_2021-05-02          1  Unknown       Unknown\n",
       " 541547 │      670  670_7735_2021-05-02          1  Unknown       Unknown\n",
       " 541548 │      670  670_7736_2021-05-02          1  Unknown       Unknown      ⋯\n",
       " 541549 │      670  670_7737_2021-05-02          1  Permanent     Individual M\n",
       " 541550 │      670  670_7737_2021-05-02          1  Permanent     Ala Carte\n",
       " 541551 │      563  563_7599_2021-05-02          1  Unknown       Unknown\n",
       " 541552 │      563  563_7599_2021-05-02          1  Unknown       Unknown      ⋯\n",
       "\u001b[36m                                               2 columns and 541531 rows omitted\u001b[0m"
      ]
     },
     "execution_count": 47,
     "metadata": {},
     "output_type": "execute_result"
    }
   ],
   "source": [
    "df = df[:,[:storenum,:store_transaction_key,:cluster,:PRODUCT_TYPE,:BUNDLE_TYPE,:SALES_ITEM_CATEGORY]]"
   ]
  },
  {
   "cell_type": "code",
   "execution_count": 48,
   "metadata": {
    "scrolled": true
   },
   "outputs": [
    {
     "data": {
      "text/html": [
       "<table class=\"data-frame\"><thead><tr><th></th><th>storenum</th><th>cluster</th><th>PRODUCT_TYPE</th><th>BUNDLE_TYPE</th><th>SALES_ITEM_CATEGORY</th></tr><tr><th></th><th>Int64</th><th>Int64</th><th>String</th><th>String</th><th>String</th></tr></thead><tbody><p>541,552 rows × 5 columns</p><tr><th>1</th><td>654</td><td>1</td><td>LTO</td><td>Buddy Meal</td><td>Porridge</td></tr><tr><th>2</th><td>654</td><td>1</td><td>LTO</td><td>Ala Carte</td><td>Platters &amp; Pancakes</td></tr><tr><th>3</th><td>654</td><td>1</td><td>Permanent</td><td>Ala Carte</td><td>Porridge</td></tr><tr><th>4</th><td>654</td><td>1</td><td>Permanent</td><td>Individual Meal</td><td>Platters &amp; Pancakes</td></tr><tr><th>5</th><td>654</td><td>1</td><td>Permanent</td><td>Trade-up</td><td>Beverage</td></tr><tr><th>6</th><td>654</td><td>1</td><td>LTO</td><td>Buddy Meal</td><td>Porridge</td></tr><tr><th>7</th><td>502</td><td>1</td><td>Permanent</td><td>Add-on</td><td>Sides</td></tr><tr><th>8</th><td>502</td><td>1</td><td>Permanent</td><td>Box Meal</td><td>Portables</td></tr><tr><th>9</th><td>502</td><td>1</td><td>Permanent</td><td>Others</td><td>Others</td></tr><tr><th>10</th><td>502</td><td>1</td><td>Permanent</td><td>Ala Carte</td><td>Non-COB Protein</td></tr><tr><th>11</th><td>502</td><td>1</td><td>Permanent</td><td>Group Meal</td><td>Chicken-on-bone</td></tr><tr><th>12</th><td>502</td><td>1</td><td>Permanent</td><td>Others</td><td>Others</td></tr><tr><th>13</th><td>502</td><td>1</td><td>Permanent</td><td>Ala Carte</td><td>Non-COB Protein</td></tr><tr><th>14</th><td>502</td><td>1</td><td>Permanent</td><td>Group Meal</td><td>Chicken-on-bone</td></tr><tr><th>15</th><td>502</td><td>1</td><td>Permanent</td><td>Others</td><td>Others</td></tr><tr><th>16</th><td>502</td><td>1</td><td>Permanent</td><td>Ala Carte</td><td>Sides</td></tr><tr><th>17</th><td>502</td><td>1</td><td>Permanent</td><td>Add-on</td><td>Sides</td></tr><tr><th>18</th><td>502</td><td>1</td><td>Permanent</td><td>Ala Carte</td><td>Chicken-on-bone</td></tr><tr><th>19</th><td>502</td><td>1</td><td>Permanent</td><td>Box Meal</td><td>Portables</td></tr><tr><th>20</th><td>502</td><td>1</td><td>Permanent</td><td>Others</td><td>Others</td></tr><tr><th>21</th><td>502</td><td>1</td><td>Permanent</td><td>Ala Carte</td><td>Sides</td></tr><tr><th>22</th><td>502</td><td>1</td><td>Permanent</td><td>Ala Carte</td><td>Sides</td></tr><tr><th>23</th><td>502</td><td>1</td><td>Permanent</td><td>Ala Carte</td><td>Sides</td></tr><tr><th>24</th><td>502</td><td>1</td><td>Permanent</td><td>Ala Carte</td><td>Chicken-on-bone</td></tr><tr><th>25</th><td>502</td><td>1</td><td>Permanent</td><td>Others</td><td>Others</td></tr><tr><th>26</th><td>502</td><td>1</td><td>Permanent</td><td>Ala Carte</td><td>Non-COB Protein</td></tr><tr><th>27</th><td>502</td><td>1</td><td>Permanent</td><td>Ala Carte</td><td>Portables</td></tr><tr><th>28</th><td>502</td><td>1</td><td>Permanent</td><td>Ala Carte</td><td>Sides</td></tr><tr><th>29</th><td>502</td><td>1</td><td>Permanent</td><td>Ala Carte</td><td>Sides</td></tr><tr><th>30</th><td>502</td><td>1</td><td>Permanent</td><td>Others</td><td>Others</td></tr><tr><th>&vellip;</th><td>&vellip;</td><td>&vellip;</td><td>&vellip;</td><td>&vellip;</td><td>&vellip;</td></tr></tbody></table>"
      ],
      "text/latex": [
       "\\begin{tabular}{r|ccccc}\n",
       "\t& storenum & cluster & PRODUCT\\_TYPE & BUNDLE\\_TYPE & SALES\\_ITEM\\_CATEGORY\\\\\n",
       "\t\\hline\n",
       "\t& Int64 & Int64 & String & String & String\\\\\n",
       "\t\\hline\n",
       "\t1 & 654 & 1 & LTO & Buddy Meal & Porridge \\\\\n",
       "\t2 & 654 & 1 & LTO & Ala Carte & Platters \\& Pancakes \\\\\n",
       "\t3 & 654 & 1 & Permanent & Ala Carte & Porridge \\\\\n",
       "\t4 & 654 & 1 & Permanent & Individual Meal & Platters \\& Pancakes \\\\\n",
       "\t5 & 654 & 1 & Permanent & Trade-up & Beverage \\\\\n",
       "\t6 & 654 & 1 & LTO & Buddy Meal & Porridge \\\\\n",
       "\t7 & 502 & 1 & Permanent & Add-on & Sides \\\\\n",
       "\t8 & 502 & 1 & Permanent & Box Meal & Portables \\\\\n",
       "\t9 & 502 & 1 & Permanent & Others & Others \\\\\n",
       "\t10 & 502 & 1 & Permanent & Ala Carte & Non-COB Protein \\\\\n",
       "\t11 & 502 & 1 & Permanent & Group Meal & Chicken-on-bone \\\\\n",
       "\t12 & 502 & 1 & Permanent & Others & Others \\\\\n",
       "\t13 & 502 & 1 & Permanent & Ala Carte & Non-COB Protein \\\\\n",
       "\t14 & 502 & 1 & Permanent & Group Meal & Chicken-on-bone \\\\\n",
       "\t15 & 502 & 1 & Permanent & Others & Others \\\\\n",
       "\t16 & 502 & 1 & Permanent & Ala Carte & Sides \\\\\n",
       "\t17 & 502 & 1 & Permanent & Add-on & Sides \\\\\n",
       "\t18 & 502 & 1 & Permanent & Ala Carte & Chicken-on-bone \\\\\n",
       "\t19 & 502 & 1 & Permanent & Box Meal & Portables \\\\\n",
       "\t20 & 502 & 1 & Permanent & Others & Others \\\\\n",
       "\t21 & 502 & 1 & Permanent & Ala Carte & Sides \\\\\n",
       "\t22 & 502 & 1 & Permanent & Ala Carte & Sides \\\\\n",
       "\t23 & 502 & 1 & Permanent & Ala Carte & Sides \\\\\n",
       "\t24 & 502 & 1 & Permanent & Ala Carte & Chicken-on-bone \\\\\n",
       "\t25 & 502 & 1 & Permanent & Others & Others \\\\\n",
       "\t26 & 502 & 1 & Permanent & Ala Carte & Non-COB Protein \\\\\n",
       "\t27 & 502 & 1 & Permanent & Ala Carte & Portables \\\\\n",
       "\t28 & 502 & 1 & Permanent & Ala Carte & Sides \\\\\n",
       "\t29 & 502 & 1 & Permanent & Ala Carte & Sides \\\\\n",
       "\t30 & 502 & 1 & Permanent & Others & Others \\\\\n",
       "\t$\\dots$ & $\\dots$ & $\\dots$ & $\\dots$ & $\\dots$ & $\\dots$ \\\\\n",
       "\\end{tabular}\n"
      ],
      "text/plain": [
       "\u001b[1m541552×5 DataFrame\u001b[0m\n",
       "\u001b[1m    Row \u001b[0m│\u001b[1m storenum \u001b[0m\u001b[1m cluster \u001b[0m\u001b[1m PRODUCT_TYPE \u001b[0m\u001b[1m BUNDLE_TYPE     \u001b[0m\u001b[1m SALES_ITEM_CATEGOR\u001b[0m ⋯\n",
       "\u001b[1m        \u001b[0m│\u001b[90m Int64    \u001b[0m\u001b[90m Int64   \u001b[0m\u001b[90m String       \u001b[0m\u001b[90m String          \u001b[0m\u001b[90m String            \u001b[0m ⋯\n",
       "────────┼───────────────────────────────────────────────────────────────────────\n",
       "      1 │      654        1  LTO           Buddy Meal       Porridge           ⋯\n",
       "      2 │      654        1  LTO           Ala Carte        Platters & Pancake\n",
       "      3 │      654        1  Permanent     Ala Carte        Porridge\n",
       "      4 │      654        1  Permanent     Individual Meal  Platters & Pancake\n",
       "      5 │      654        1  Permanent     Trade-up         Beverage           ⋯\n",
       "      6 │      654        1  LTO           Buddy Meal       Porridge\n",
       "      7 │      502        1  Permanent     Add-on           Sides\n",
       "      8 │      502        1  Permanent     Box Meal         Portables\n",
       "      9 │      502        1  Permanent     Others           Others             ⋯\n",
       "     10 │      502        1  Permanent     Ala Carte        Non-COB Protein\n",
       "     11 │      502        1  Permanent     Group Meal       Chicken-on-bone\n",
       "   ⋮    │    ⋮         ⋮          ⋮               ⋮                  ⋮         ⋱\n",
       " 541543 │      670        1  Unknown       Unknown          Unknown\n",
       " 541544 │      670        1  Permanent     Individual Meal  Chicken-on-bone    ⋯\n",
       " 541545 │      670        1  Permanent     Ala Carte        Sides\n",
       " 541546 │      670        1  Unknown       Unknown          Unknown\n",
       " 541547 │      670        1  Unknown       Unknown          Unknown\n",
       " 541548 │      670        1  Unknown       Unknown          Unknown            ⋯\n",
       " 541549 │      670        1  Permanent     Individual Meal  Portables\n",
       " 541550 │      670        1  Permanent     Ala Carte        Portables\n",
       " 541551 │      563        1  Unknown       Unknown          Unknown\n",
       " 541552 │      563        1  Unknown       Unknown          Unknown            ⋯\n",
       "\u001b[36m                                                1 column and 541531 rows omitted\u001b[0m"
      ]
     },
     "execution_count": 48,
     "metadata": {},
     "output_type": "execute_result"
    }
   ],
   "source": [
    "select!(df,Not(:store_transaction_key))"
   ]
  },
  {
   "cell_type": "code",
   "execution_count": 49,
   "metadata": {},
   "outputs": [
    {
     "data": {
      "text/html": [
       "<p><b>GroupedDataFrame with 3 groups based on key: cluster</b></p><p><i>First Group (434061 rows): cluster = 1</i></p><table class=\"data-frame\"><thead><tr><th></th><th>storenum</th><th>cluster</th><th>PRODUCT_TYPE</th><th>BUNDLE_TYPE</th><th>SALES_ITEM_CATEGORY</th></tr><tr><th></th><th>Int64</th><th>Int64</th><th>String</th><th>String</th><th>String</th></tr></thead><tbody><tr><th>1</th><td>654</td><td>1</td><td>LTO</td><td>Buddy Meal</td><td>Porridge</td></tr><tr><th>2</th><td>654</td><td>1</td><td>LTO</td><td>Ala Carte</td><td>Platters &amp; Pancakes</td></tr><tr><th>3</th><td>654</td><td>1</td><td>Permanent</td><td>Ala Carte</td><td>Porridge</td></tr><tr><th>4</th><td>654</td><td>1</td><td>Permanent</td><td>Individual Meal</td><td>Platters &amp; Pancakes</td></tr><tr><th>5</th><td>654</td><td>1</td><td>Permanent</td><td>Trade-up</td><td>Beverage</td></tr><tr><th>6</th><td>654</td><td>1</td><td>LTO</td><td>Buddy Meal</td><td>Porridge</td></tr><tr><th>7</th><td>502</td><td>1</td><td>Permanent</td><td>Add-on</td><td>Sides</td></tr><tr><th>8</th><td>502</td><td>1</td><td>Permanent</td><td>Box Meal</td><td>Portables</td></tr><tr><th>9</th><td>502</td><td>1</td><td>Permanent</td><td>Others</td><td>Others</td></tr><tr><th>10</th><td>502</td><td>1</td><td>Permanent</td><td>Ala Carte</td><td>Non-COB Protein</td></tr><tr><th>11</th><td>502</td><td>1</td><td>Permanent</td><td>Group Meal</td><td>Chicken-on-bone</td></tr><tr><th>12</th><td>502</td><td>1</td><td>Permanent</td><td>Others</td><td>Others</td></tr><tr><th>13</th><td>502</td><td>1</td><td>Permanent</td><td>Ala Carte</td><td>Non-COB Protein</td></tr><tr><th>14</th><td>502</td><td>1</td><td>Permanent</td><td>Group Meal</td><td>Chicken-on-bone</td></tr><tr><th>15</th><td>502</td><td>1</td><td>Permanent</td><td>Others</td><td>Others</td></tr><tr><th>16</th><td>502</td><td>1</td><td>Permanent</td><td>Ala Carte</td><td>Sides</td></tr><tr><th>17</th><td>502</td><td>1</td><td>Permanent</td><td>Add-on</td><td>Sides</td></tr><tr><th>18</th><td>502</td><td>1</td><td>Permanent</td><td>Ala Carte</td><td>Chicken-on-bone</td></tr><tr><th>19</th><td>502</td><td>1</td><td>Permanent</td><td>Box Meal</td><td>Portables</td></tr><tr><th>20</th><td>502</td><td>1</td><td>Permanent</td><td>Others</td><td>Others</td></tr><tr><th>21</th><td>502</td><td>1</td><td>Permanent</td><td>Ala Carte</td><td>Sides</td></tr><tr><th>22</th><td>502</td><td>1</td><td>Permanent</td><td>Ala Carte</td><td>Sides</td></tr><tr><th>23</th><td>502</td><td>1</td><td>Permanent</td><td>Ala Carte</td><td>Sides</td></tr><tr><th>24</th><td>502</td><td>1</td><td>Permanent</td><td>Ala Carte</td><td>Chicken-on-bone</td></tr><tr><th>25</th><td>502</td><td>1</td><td>Permanent</td><td>Others</td><td>Others</td></tr><tr><th>26</th><td>502</td><td>1</td><td>Permanent</td><td>Ala Carte</td><td>Non-COB Protein</td></tr><tr><th>27</th><td>502</td><td>1</td><td>Permanent</td><td>Ala Carte</td><td>Portables</td></tr><tr><th>28</th><td>502</td><td>1</td><td>Permanent</td><td>Ala Carte</td><td>Sides</td></tr><tr><th>29</th><td>502</td><td>1</td><td>Permanent</td><td>Ala Carte</td><td>Sides</td></tr><tr><th>30</th><td>502</td><td>1</td><td>Permanent</td><td>Others</td><td>Others</td></tr><tr><th>&vellip;</th><td>&vellip;</td><td>&vellip;</td><td>&vellip;</td><td>&vellip;</td><td>&vellip;</td></tr></tbody></table><p>&vellip;</p><p><i>Last Group (42567 rows): cluster = 2</i></p><table class=\"data-frame\"><thead><tr><th></th><th>storenum</th><th>cluster</th><th>PRODUCT_TYPE</th><th>BUNDLE_TYPE</th><th>SALES_ITEM_CATEGORY</th></tr><tr><th></th><th>Int64</th><th>Int64</th><th>String</th><th>String</th><th>String</th></tr></thead><tbody><tr><th>1</th><td>502</td><td>2</td><td>Unknown</td><td>Unknown</td><td>Unknown</td></tr><tr><th>2</th><td>502</td><td>2</td><td>Unknown</td><td>Unknown</td><td>Unknown</td></tr><tr><th>3</th><td>502</td><td>2</td><td>Permanent</td><td>Group Meal</td><td>Chicken-on-bone</td></tr><tr><th>4</th><td>502</td><td>2</td><td>Unknown</td><td>Unknown</td><td>Unknown</td></tr><tr><th>5</th><td>502</td><td>2</td><td>Unknown</td><td>Unknown</td><td>Unknown</td></tr><tr><th>6</th><td>502</td><td>2</td><td>Unknown</td><td>Unknown</td><td>Unknown</td></tr><tr><th>7</th><td>502</td><td>2</td><td>Unknown</td><td>Unknown</td><td>Unknown</td></tr><tr><th>8</th><td>502</td><td>2</td><td>Unknown</td><td>Unknown</td><td>Unknown</td></tr><tr><th>9</th><td>502</td><td>2</td><td>Unknown</td><td>Unknown</td><td>Unknown</td></tr><tr><th>10</th><td>502</td><td>2</td><td>Unknown</td><td>Unknown</td><td>Unknown</td></tr><tr><th>11</th><td>502</td><td>2</td><td>Unknown</td><td>Unknown</td><td>Unknown</td></tr><tr><th>12</th><td>502</td><td>2</td><td>Unknown</td><td>Unknown</td><td>Unknown</td></tr><tr><th>13</th><td>502</td><td>2</td><td>Unknown</td><td>Unknown</td><td>Unknown</td></tr><tr><th>14</th><td>502</td><td>2</td><td>Unknown</td><td>Unknown</td><td>Unknown</td></tr><tr><th>15</th><td>502</td><td>2</td><td>Permanent</td><td>Trade-up</td><td>Sides</td></tr><tr><th>16</th><td>502</td><td>2</td><td>Unknown</td><td>Unknown</td><td>Unknown</td></tr><tr><th>17</th><td>502</td><td>2</td><td>Permanent</td><td>Trade-up</td><td>Sides</td></tr><tr><th>18</th><td>502</td><td>2</td><td>Permanent</td><td>Trade-up</td><td>Beverage</td></tr><tr><th>19</th><td>502</td><td>2</td><td>Unknown</td><td>Unknown</td><td>Unknown</td></tr><tr><th>20</th><td>502</td><td>2</td><td>Permanent</td><td>Trade-up</td><td>Beverage</td></tr><tr><th>21</th><td>502</td><td>2</td><td>Permanent</td><td>Trade-up</td><td>Beverage</td></tr><tr><th>22</th><td>502</td><td>2</td><td>Unknown</td><td>Unknown</td><td>Unknown</td></tr><tr><th>23</th><td>502</td><td>2</td><td>Unknown</td><td>Unknown</td><td>Unknown</td></tr><tr><th>24</th><td>502</td><td>2</td><td>Permanent</td><td>Buddy Meal</td><td>Portables</td></tr><tr><th>25</th><td>502</td><td>2</td><td>Unknown</td><td>Unknown</td><td>Unknown</td></tr><tr><th>26</th><td>502</td><td>2</td><td>Unknown</td><td>Unknown</td><td>Unknown</td></tr><tr><th>27</th><td>502</td><td>2</td><td>Unknown</td><td>Unknown</td><td>Unknown</td></tr><tr><th>28</th><td>502</td><td>2</td><td>Unknown</td><td>Unknown</td><td>Unknown</td></tr><tr><th>29</th><td>502</td><td>2</td><td>Unknown</td><td>Unknown</td><td>Unknown</td></tr><tr><th>30</th><td>502</td><td>2</td><td>Unknown</td><td>Unknown</td><td>Unknown</td></tr><tr><th>&vellip;</th><td>&vellip;</td><td>&vellip;</td><td>&vellip;</td><td>&vellip;</td><td>&vellip;</td></tr></tbody></table>"
      ],
      "text/latex": [
       "GroupedDataFrame with 3 groups based on key: cluster\n",
       "\n",
       "First Group (434061 rows): cluster = 1\n",
       "\n",
       "\\begin{tabular}{r|ccccc}\n",
       "\t& storenum & cluster & PRODUCT\\_TYPE & BUNDLE\\_TYPE & SALES\\_ITEM\\_CATEGORY\\\\\n",
       "\t\\hline\n",
       "\t& Int64 & Int64 & String & String & String\\\\\n",
       "\t\\hline\n",
       "\t1 & 654 & 1 & LTO & Buddy Meal & Porridge \\\\\n",
       "\t2 & 654 & 1 & LTO & Ala Carte & Platters \\& Pancakes \\\\\n",
       "\t3 & 654 & 1 & Permanent & Ala Carte & Porridge \\\\\n",
       "\t4 & 654 & 1 & Permanent & Individual Meal & Platters \\& Pancakes \\\\\n",
       "\t5 & 654 & 1 & Permanent & Trade-up & Beverage \\\\\n",
       "\t6 & 654 & 1 & LTO & Buddy Meal & Porridge \\\\\n",
       "\t7 & 502 & 1 & Permanent & Add-on & Sides \\\\\n",
       "\t8 & 502 & 1 & Permanent & Box Meal & Portables \\\\\n",
       "\t9 & 502 & 1 & Permanent & Others & Others \\\\\n",
       "\t10 & 502 & 1 & Permanent & Ala Carte & Non-COB Protein \\\\\n",
       "\t11 & 502 & 1 & Permanent & Group Meal & Chicken-on-bone \\\\\n",
       "\t12 & 502 & 1 & Permanent & Others & Others \\\\\n",
       "\t13 & 502 & 1 & Permanent & Ala Carte & Non-COB Protein \\\\\n",
       "\t14 & 502 & 1 & Permanent & Group Meal & Chicken-on-bone \\\\\n",
       "\t15 & 502 & 1 & Permanent & Others & Others \\\\\n",
       "\t16 & 502 & 1 & Permanent & Ala Carte & Sides \\\\\n",
       "\t17 & 502 & 1 & Permanent & Add-on & Sides \\\\\n",
       "\t18 & 502 & 1 & Permanent & Ala Carte & Chicken-on-bone \\\\\n",
       "\t19 & 502 & 1 & Permanent & Box Meal & Portables \\\\\n",
       "\t20 & 502 & 1 & Permanent & Others & Others \\\\\n",
       "\t21 & 502 & 1 & Permanent & Ala Carte & Sides \\\\\n",
       "\t22 & 502 & 1 & Permanent & Ala Carte & Sides \\\\\n",
       "\t23 & 502 & 1 & Permanent & Ala Carte & Sides \\\\\n",
       "\t24 & 502 & 1 & Permanent & Ala Carte & Chicken-on-bone \\\\\n",
       "\t25 & 502 & 1 & Permanent & Others & Others \\\\\n",
       "\t26 & 502 & 1 & Permanent & Ala Carte & Non-COB Protein \\\\\n",
       "\t27 & 502 & 1 & Permanent & Ala Carte & Portables \\\\\n",
       "\t28 & 502 & 1 & Permanent & Ala Carte & Sides \\\\\n",
       "\t29 & 502 & 1 & Permanent & Ala Carte & Sides \\\\\n",
       "\t30 & 502 & 1 & Permanent & Others & Others \\\\\n",
       "\t$\\dots$ & $\\dots$ & $\\dots$ & $\\dots$ & $\\dots$ & $\\dots$ \\\\\n",
       "\\end{tabular}\n",
       "\n",
       "$\\dots$\n",
       "\n",
       "Last Group (42567 rows): cluster = 2\n",
       "\n",
       "\\begin{tabular}{r|ccccc}\n",
       "\t& storenum & cluster & PRODUCT\\_TYPE & BUNDLE\\_TYPE & SALES\\_ITEM\\_CATEGORY\\\\\n",
       "\t\\hline\n",
       "\t& Int64 & Int64 & String & String & String\\\\\n",
       "\t\\hline\n",
       "\t1 & 502 & 2 & Unknown & Unknown & Unknown \\\\\n",
       "\t2 & 502 & 2 & Unknown & Unknown & Unknown \\\\\n",
       "\t3 & 502 & 2 & Permanent & Group Meal & Chicken-on-bone \\\\\n",
       "\t4 & 502 & 2 & Unknown & Unknown & Unknown \\\\\n",
       "\t5 & 502 & 2 & Unknown & Unknown & Unknown \\\\\n",
       "\t6 & 502 & 2 & Unknown & Unknown & Unknown \\\\\n",
       "\t7 & 502 & 2 & Unknown & Unknown & Unknown \\\\\n",
       "\t8 & 502 & 2 & Unknown & Unknown & Unknown \\\\\n",
       "\t9 & 502 & 2 & Unknown & Unknown & Unknown \\\\\n",
       "\t10 & 502 & 2 & Unknown & Unknown & Unknown \\\\\n",
       "\t11 & 502 & 2 & Unknown & Unknown & Unknown \\\\\n",
       "\t12 & 502 & 2 & Unknown & Unknown & Unknown \\\\\n",
       "\t13 & 502 & 2 & Unknown & Unknown & Unknown \\\\\n",
       "\t14 & 502 & 2 & Unknown & Unknown & Unknown \\\\\n",
       "\t15 & 502 & 2 & Permanent & Trade-up & Sides \\\\\n",
       "\t16 & 502 & 2 & Unknown & Unknown & Unknown \\\\\n",
       "\t17 & 502 & 2 & Permanent & Trade-up & Sides \\\\\n",
       "\t18 & 502 & 2 & Permanent & Trade-up & Beverage \\\\\n",
       "\t19 & 502 & 2 & Unknown & Unknown & Unknown \\\\\n",
       "\t20 & 502 & 2 & Permanent & Trade-up & Beverage \\\\\n",
       "\t21 & 502 & 2 & Permanent & Trade-up & Beverage \\\\\n",
       "\t22 & 502 & 2 & Unknown & Unknown & Unknown \\\\\n",
       "\t23 & 502 & 2 & Unknown & Unknown & Unknown \\\\\n",
       "\t24 & 502 & 2 & Permanent & Buddy Meal & Portables \\\\\n",
       "\t25 & 502 & 2 & Unknown & Unknown & Unknown \\\\\n",
       "\t26 & 502 & 2 & Unknown & Unknown & Unknown \\\\\n",
       "\t27 & 502 & 2 & Unknown & Unknown & Unknown \\\\\n",
       "\t28 & 502 & 2 & Unknown & Unknown & Unknown \\\\\n",
       "\t29 & 502 & 2 & Unknown & Unknown & Unknown \\\\\n",
       "\t30 & 502 & 2 & Unknown & Unknown & Unknown \\\\\n",
       "\t$\\dots$ & $\\dots$ & $\\dots$ & $\\dots$ & $\\dots$ & $\\dots$ \\\\\n",
       "\\end{tabular}\n"
      ],
      "text/plain": [
       "GroupedDataFrame with 3 groups based on key: cluster\n",
       "First Group (434061 rows): cluster = 1\n",
       "\u001b[1m    Row \u001b[0m│\u001b[1m storenum \u001b[0m\u001b[1m cluster \u001b[0m\u001b[1m PRODUCT_TYPE \u001b[0m\u001b[1m BUNDLE_TYPE     \u001b[0m\u001b[1m SALES_ITEM_CATEGOR\u001b[0m ⋯\n",
       "\u001b[1m        \u001b[0m│\u001b[90m Int64    \u001b[0m\u001b[90m Int64   \u001b[0m\u001b[90m String       \u001b[0m\u001b[90m String          \u001b[0m\u001b[90m String            \u001b[0m ⋯\n",
       "────────┼───────────────────────────────────────────────────────────────────────\n",
       "      1 │      654        1  LTO           Buddy Meal       Porridge           ⋯\n",
       "      2 │      654        1  LTO           Ala Carte        Platters & Pancake\n",
       "      3 │      654        1  Permanent     Ala Carte        Porridge\n",
       "      4 │      654        1  Permanent     Individual Meal  Platters & Pancake\n",
       "      5 │      654        1  Permanent     Trade-up         Beverage           ⋯\n",
       "      6 │      654        1  LTO           Buddy Meal       Porridge\n",
       "      7 │      502        1  Permanent     Add-on           Sides\n",
       "      8 │      502        1  Permanent     Box Meal         Portables\n",
       "      9 │      502        1  Permanent     Others           Others             ⋯\n",
       "     10 │      502        1  Permanent     Ala Carte        Non-COB Protein\n",
       "     11 │      502        1  Permanent     Group Meal       Chicken-on-bone\n",
       "   ⋮    │    ⋮         ⋮          ⋮               ⋮                  ⋮         ⋱\n",
       " 434051 │      670        1  Permanent     Ala Carte        Portables\n",
       " 434052 │      670        1  Unknown       Unknown          Unknown            ⋯\n",
       " 434053 │      670        1  Permanent     Individual Meal  Chicken-on-bone\n",
       " 434054 │      670        1  Permanent     Ala Carte        Sides\n",
       " 434055 │      670        1  Unknown       Unknown          Unknown\n",
       " 434056 │      670        1  Unknown       Unknown          Unknown            ⋯\n",
       " 434057 │      670        1  Unknown       Unknown          Unknown\n",
       " 434058 │      670        1  Permanent     Individual Meal  Portables\n",
       " 434059 │      670        1  Permanent     Ala Carte        Portables\n",
       " 434060 │      563        1  Unknown       Unknown          Unknown            ⋯\n",
       " 434061 │      563        1  Unknown       Unknown          Unknown\n",
       "\u001b[36m                                                1 column and 434039 rows omitted\u001b[0m\n",
       "⋮\n",
       "Last Group (42567 rows): cluster = 2\n",
       "\u001b[1m   Row \u001b[0m│\u001b[1m storenum \u001b[0m\u001b[1m cluster \u001b[0m\u001b[1m PRODUCT_TYPE \u001b[0m\u001b[1m BUNDLE_TYPE \u001b[0m\u001b[1m SALES_ITEM_CATEGORY \u001b[0m\n",
       "\u001b[1m       \u001b[0m│\u001b[90m Int64    \u001b[0m\u001b[90m Int64   \u001b[0m\u001b[90m String       \u001b[0m\u001b[90m String      \u001b[0m\u001b[90m String              \u001b[0m\n",
       "───────┼───────────────────────────────────────────────────────────────────\n",
       "     1 │      502        2  Unknown       Unknown      Unknown\n",
       "     2 │      502        2  Unknown       Unknown      Unknown\n",
       "     3 │      502        2  Permanent     Group Meal   Chicken-on-bone\n",
       "     4 │      502        2  Unknown       Unknown      Unknown\n",
       "     5 │      502        2  Unknown       Unknown      Unknown\n",
       "     6 │      502        2  Unknown       Unknown      Unknown\n",
       "     7 │      502        2  Unknown       Unknown      Unknown\n",
       "     8 │      502        2  Unknown       Unknown      Unknown\n",
       "     9 │      502        2  Unknown       Unknown      Unknown\n",
       "    10 │      502        2  Unknown       Unknown      Unknown\n",
       "    11 │      502        2  Unknown       Unknown      Unknown\n",
       "   ⋮   │    ⋮         ⋮          ⋮             ⋮                ⋮\n",
       " 42557 │      670        2  Permanent     Buddy Meal   Chicken-on-bone\n",
       " 42558 │      670        2  Unknown       Unknown      Unknown\n",
       " 42559 │      670        2  Unknown       Unknown      Unknown\n",
       " 42560 │      670        2  Unknown       Unknown      Unknown\n",
       " 42561 │      670        2  Unknown       Unknown      Unknown\n",
       " 42562 │      670        2  Unknown       Unknown      Unknown\n",
       " 42563 │      670        2  Unknown       Unknown      Unknown\n",
       " 42564 │      670        2  Permanent     Trade-up     Sides\n",
       " 42565 │      670        2  Unknown       Unknown      Unknown\n",
       " 42566 │      670        2  Permanent     Trade-up     Beverage\n",
       " 42567 │      670        2  Permanent     Trade-up     Beverage\n",
       "\u001b[36m                                                         42545 rows omitted\u001b[0m"
      ]
     },
     "execution_count": 49,
     "metadata": {},
     "output_type": "execute_result"
    }
   ],
   "source": [
    "grp = groupby(df,:cluster)"
   ]
  },
  {
   "cell_type": "code",
   "execution_count": 42,
   "metadata": {},
   "outputs": [
    {
     "data": {
      "text/plain": [
       "\"/home/vikas/Downloads/Dinner_Weekday_BUNDLE_CNT.csv\""
      ]
     },
     "execution_count": 42,
     "metadata": {},
     "output_type": "execute_result"
    }
   ],
   "source": [
    "for i in 1:length(grp)\n",
    "    k = DataFrame(grp[i])\n",
    "    k = k[:,[:storenum,:PRODUCT_TYPE,:BUNDLE_TYPE,:SALES_ITEM_CATEGORY]]\n",
    "    df1 = k[:,[:storenum,:SALES_ITEM_CATEGORY]]\n",
    "    df2 = k[:,[:storenum,:PRODUCT_TYPE]]\n",
    "    df3 = k[:,[:storenum,:BUNDLE_TYPE]]\n",
    "    cnt = Dict()\n",
    "    for i in 1:length(df1.storenum)\n",
    "      s = string(df1.SALES_ITEM_CATEGORY[i])\n",
    "      if s in keys(cnt)\n",
    "        cnt[s]=cnt[s]+1\n",
    "      else\n",
    "        cnt[s]=1\n",
    "      end\n",
    "    end\n",
    "    ar = []\n",
    "    for j in 1:length(d_category.i)\n",
    "        if d_category.i[j] in keys(cnt)\n",
    "            push!(ar,cnt[d_category.i[j]])\n",
    "        else\n",
    "            push!(ar,0)\n",
    "        end\n",
    "    end\n",
    "    d_alt = DataFrame()\n",
    "    d_alt.i = ar\n",
    "    d_category = hcat(d_category,d_alt,makeunique=true)\n",
    "    \n",
    "    cnt=Dict()\n",
    "    for i in 1:length(df2.storenum)\n",
    "      s = string(df2.PRODUCT_TYPE[i])\n",
    "      if s in keys(cnt)\n",
    "        cnt[s]=cnt[s]+1\n",
    "      else\n",
    "        cnt[s]=1\n",
    "      end\n",
    "    end\n",
    "    ar = []\n",
    "    for j in 1:length(d_product.i)\n",
    "        if d_product.i[j] in keys(cnt)\n",
    "            push!(ar,cnt[d_product.i[j]])\n",
    "        else\n",
    "            push!(ar,0)\n",
    "        end\n",
    "    end\n",
    "    d_alt = DataFrame()\n",
    "    d_alt.i = ar\n",
    "    d_product = hcat(d_product,d_alt,makeunique=true)\n",
    "    \n",
    "    cnt = Dict()\n",
    "    for i in 1:length(df3.storenum)\n",
    "      s = string(df3.BUNDLE_TYPE[i])\n",
    "      if s in keys(cnt)\n",
    "        cnt[s]=cnt[s]+1\n",
    "      else\n",
    "        cnt[s]=1\n",
    "      end\n",
    "    end\n",
    "    ar = []\n",
    "    for j in 1:length(d_bundle.i)\n",
    "        if d_bundle.i[j] in keys(cnt)\n",
    "            push!(ar,cnt[d_bundle.i[j]])\n",
    "        else\n",
    "            push!(ar,0)\n",
    "        end\n",
    "    end\n",
    "    d_alt = DataFrame()\n",
    "    d_alt.i = ar\n",
    "    d_bundle = hcat(d_bundle,d_alt,makeunique=true)\n",
    "    \n",
    "end\n",
    "\n",
    "CSV.write(\"/home/vikas/Downloads/Breakfast_Weekday_SALES_ITEM_CATEGORY_CNT.csv\",d_category)\n",
    "CSV.write(\"/home/vikas/Downloads/Breakfast_Weekday_PRODUCT_CNT.csv\",d_product)\n",
    "CSV.write(\"/home/vikas/Downloads/Breakfast_Weekday_BUNDLE_CNT.csv\",d_bundle)"
   ]
  },
  {
   "cell_type": "code",
   "execution_count": null,
   "metadata": {},
   "outputs": [],
   "source": [
    "df = DataFrame(CSV.File(\"df_CPSB_Breakfast_Weekend.csv\"))\n",
    "\n",
    "d_category = DataFrame()\n",
    "s=unique(df.SALES_ITEM_CATEGORY)\n",
    "d_category.i = s\n",
    "\n",
    "d_product = DataFrame()\n",
    "s=unique(df.PRODUCT_TYPE)\n",
    "d_product.i = s\n",
    "\n",
    "d_bundle = DataFrame()\n",
    "s=unique(df.BUNDLE_TYPE)\n",
    "d_bundle.i = s\n",
    "\n",
    "df = df[:,[:storenum,:store_transaction_key,:cluster,:PRODUCT_TYPE,:BUNDLE_TYPE,:SALES_ITEM_CATEGORY]]\n",
    "\n",
    "select!(df,Not(:store_transaction_key))\n",
    "\n",
    "grp = groupby(df,:cluster)\n",
    "\n",
    "for i in 1:length(grp)\n",
    "    k = DataFrame(grp[i])\n",
    "    k = k[:,[:storenum,:PRODUCT_TYPE,:BUNDLE_TYPE,:SALES_ITEM_CATEGORY]]\n",
    "    df1 = k[:,[:storenum,:SALES_ITEM_CATEGORY]]\n",
    "    df2 = k[:,[:storenum,:PRODUCT_TYPE]]\n",
    "    df3 = k[:,[:storenum,:BUNDLE_TYPE]]\n",
    "    cnt = Dict()\n",
    "    for i in 1:length(df1.storenum)\n",
    "      s = string(df1.SALES_ITEM_CATEGORY[i])\n",
    "      if s in keys(cnt)\n",
    "        cnt[s]=cnt[s]+1\n",
    "      else\n",
    "        cnt[s]=1\n",
    "      end\n",
    "    end\n",
    "    ar = []\n",
    "    for j in 1:length(d_category.i)\n",
    "        if d_category.i[j] in keys(cnt)\n",
    "            push!(ar,cnt[d_category.i[j]])\n",
    "        else\n",
    "            push!(ar,0)\n",
    "        end\n",
    "    end\n",
    "    d_alt = DataFrame()\n",
    "    d_alt.i = ar\n",
    "    d_category = hcat(d_category,d_alt,makeunique=true)\n",
    "    \n",
    "    cnt=Dict()\n",
    "    for i in 1:length(df2.storenum)\n",
    "      s = string(df2.PRODUCT_TYPE[i])\n",
    "      if s in keys(cnt)\n",
    "        cnt[s]=cnt[s]+1\n",
    "      else\n",
    "        cnt[s]=1\n",
    "      end\n",
    "    end\n",
    "    ar = []\n",
    "    for j in 1:length(d_product.i)\n",
    "        if d_product.i[j] in keys(cnt)\n",
    "            push!(ar,cnt[d_product.i[j]])\n",
    "        else\n",
    "            push!(ar,0)\n",
    "        end\n",
    "    end\n",
    "    d_alt = DataFrame()\n",
    "    d_alt.i = ar\n",
    "    d_product = hcat(d_product,d_alt,makeunique=true)\n",
    "    \n",
    "    cnt = Dict()\n",
    "    for i in 1:length(df3.storenum)\n",
    "      s = string(df3.BUNDLE_TYPE[i])\n",
    "      if s in keys(cnt)\n",
    "        cnt[s]=cnt[s]+1\n",
    "      else\n",
    "        cnt[s]=1\n",
    "      end\n",
    "    end\n",
    "    ar = []\n",
    "    for j in 1:length(d_bundle.i)\n",
    "        if d_bundle.i[j] in keys(cnt)\n",
    "            push!(ar,cnt[d_bundle.i[j]])\n",
    "        else\n",
    "            push!(ar,0)\n",
    "        end\n",
    "    end\n",
    "    d_alt = DataFrame()\n",
    "    d_alt.i = ar\n",
    "    d_bundle = hcat(d_bundle,d_alt,makeunique=true)\n",
    "    \n",
    "end\n",
    "\n",
    "CSV.write(\"/home/vikas/Downloads/Breakfast_Weekend_SALES_ITEM_CATEGORY_CNT.csv\",d_category)\n",
    "CSV.write(\"/home/vikas/Downloads/Breakfast_Weekend_PRODUCT_CNT.csv\",d_product)\n",
    "CSV.write(\"/home/vikas/Downloads/Breakfast_Weekend_BUNDLE_CNT.csv\",d_bundle)"
   ]
  },
  {
   "cell_type": "code",
   "execution_count": null,
   "metadata": {},
   "outputs": [],
   "source": [
    "df = DataFrame(CSV.File(\"df_CPSB_Lunch_Weekday.csv\"))\n",
    "\n",
    "d_category = DataFrame()\n",
    "s=unique(df.SALES_ITEM_CATEGORY)\n",
    "d_category.i = s\n",
    "\n",
    "d_product = DataFrame()\n",
    "s=unique(df.PRODUCT_TYPE)\n",
    "d_product.i = s\n",
    "\n",
    "d_bundle = DataFrame()\n",
    "s=unique(df.BUNDLE_TYPE)\n",
    "d_bundle.i = s\n",
    "\n",
    "df = df[:,[:storenum,:store_transaction_key,:cluster,:PRODUCT_TYPE,:BUNDLE_TYPE,:SALES_ITEM_CATEGORY]]\n",
    "\n",
    "select!(df,Not(:store_transaction_key))\n",
    "\n",
    "grp = groupby(df,:cluster)\n",
    "\n",
    "for i in 1:length(grp)\n",
    "    k = DataFrame(grp[i])\n",
    "    k = k[:,[:storenum,:PRODUCT_TYPE,:BUNDLE_TYPE,:SALES_ITEM_CATEGORY]]\n",
    "    df1 = k[:,[:storenum,:SALES_ITEM_CATEGORY]]\n",
    "    df2 = k[:,[:storenum,:PRODUCT_TYPE]]\n",
    "    df3 = k[:,[:storenum,:BUNDLE_TYPE]]\n",
    "    cnt = Dict()\n",
    "    for i in 1:length(df1.storenum)\n",
    "      s = string(df1.SALES_ITEM_CATEGORY[i])\n",
    "      if s in keys(cnt)\n",
    "        cnt[s]=cnt[s]+1\n",
    "      else\n",
    "        cnt[s]=1\n",
    "      end\n",
    "    end\n",
    "    ar = []\n",
    "    for j in 1:length(d_category.i)\n",
    "        if d_category.i[j] in keys(cnt)\n",
    "            push!(ar,cnt[d_category.i[j]])\n",
    "        else\n",
    "            push!(ar,0)\n",
    "        end\n",
    "    end\n",
    "    d_alt = DataFrame()\n",
    "    d_alt.i = ar\n",
    "    d_category = hcat(d_category,d_alt,makeunique=true)\n",
    "    \n",
    "    cnt=Dict()\n",
    "    for i in 1:length(df2.storenum)\n",
    "      s = string(df2.PRODUCT_TYPE[i])\n",
    "      if s in keys(cnt)\n",
    "        cnt[s]=cnt[s]+1\n",
    "      else\n",
    "        cnt[s]=1\n",
    "      end\n",
    "    end\n",
    "    ar = []\n",
    "    for j in 1:length(d_product.i)\n",
    "        if d_product.i[j] in keys(cnt)\n",
    "            push!(ar,cnt[d_product.i[j]])\n",
    "        else\n",
    "            push!(ar,0)\n",
    "        end\n",
    "    end\n",
    "    d_alt = DataFrame()\n",
    "    d_alt.i = ar\n",
    "    d_product = hcat(d_product,d_alt,makeunique=true)\n",
    "    \n",
    "    cnt = Dict()\n",
    "    for i in 1:length(df3.storenum)\n",
    "      s = string(df3.BUNDLE_TYPE[i])\n",
    "      if s in keys(cnt)\n",
    "        cnt[s]=cnt[s]+1\n",
    "      else\n",
    "        cnt[s]=1\n",
    "      end\n",
    "    end\n",
    "    ar = []\n",
    "    for j in 1:length(d_bundle.i)\n",
    "        if d_bundle.i[j] in keys(cnt)\n",
    "            push!(ar,cnt[d_bundle.i[j]])\n",
    "        else\n",
    "            push!(ar,0)\n",
    "        end\n",
    "    end\n",
    "    d_alt = DataFrame()\n",
    "    d_alt.i = ar\n",
    "    d_bundle = hcat(d_bundle,d_alt,makeunique=true)\n",
    "    \n",
    "end\n",
    "\n",
    "CSV.write(\"/home/vikas/Downloads/Lunch_Weekday_SALES_ITEM_CATEGORY_CNT.csv\",d_category)\n",
    "CSV.write(\"/home/vikas/Downloads/Lunch_Weekday_PRODUCT_CNT.csv\",d_product)\n",
    "CSV.write(\"/home/vikas/Downloads/Lunch_Weekday_BUNDLE_CNT.csv\",d_bundle)"
   ]
  },
  {
   "cell_type": "code",
   "execution_count": null,
   "metadata": {},
   "outputs": [],
   "source": [
    "df = DataFrame(CSV.File(\"df_CPSB_Lunch_Weekend.csv\"))\n",
    "\n",
    "d_category = DataFrame()\n",
    "s=unique(df.SALES_ITEM_CATEGORY)\n",
    "d_category.i = s\n",
    "\n",
    "d_product = DataFrame()\n",
    "s=unique(df.PRODUCT_TYPE)\n",
    "d_product.i = s\n",
    "\n",
    "d_bundle = DataFrame()\n",
    "s=unique(df.BUNDLE_TYPE)\n",
    "d_bundle.i = s\n",
    "\n",
    "df = df[:,[:storenum,:store_transaction_key,:cluster,:PRODUCT_TYPE,:BUNDLE_TYPE,:SALES_ITEM_CATEGORY]]\n",
    "\n",
    "select!(df,Not(:store_transaction_key))\n",
    "\n",
    "grp = groupby(df,:cluster)\n",
    "\n",
    "for i in 1:length(grp)\n",
    "    k = DataFrame(grp[i])\n",
    "    k = k[:,[:storenum,:PRODUCT_TYPE,:BUNDLE_TYPE,:SALES_ITEM_CATEGORY]]\n",
    "    df1 = k[:,[:storenum,:SALES_ITEM_CATEGORY]]\n",
    "    df2 = k[:,[:storenum,:PRODUCT_TYPE]]\n",
    "    df3 = k[:,[:storenum,:BUNDLE_TYPE]]\n",
    "    cnt = Dict()\n",
    "    for i in 1:length(df1.storenum)\n",
    "      s = string(df1.SALES_ITEM_CATEGORY[i])\n",
    "      if s in keys(cnt)\n",
    "        cnt[s]=cnt[s]+1\n",
    "      else\n",
    "        cnt[s]=1\n",
    "      end\n",
    "    end\n",
    "    ar = []\n",
    "    for j in 1:length(d_category.i)\n",
    "        if d_category.i[j] in keys(cnt)\n",
    "            push!(ar,cnt[d_category.i[j]])\n",
    "        else\n",
    "            push!(ar,0)\n",
    "        end\n",
    "    end\n",
    "    d_alt = DataFrame()\n",
    "    d_alt.i = ar\n",
    "    d_category = hcat(d_category,d_alt,makeunique=true)\n",
    "    \n",
    "    cnt=Dict()\n",
    "    for i in 1:length(df2.storenum)\n",
    "      s = string(df2.PRODUCT_TYPE[i])\n",
    "      if s in keys(cnt)\n",
    "        cnt[s]=cnt[s]+1\n",
    "      else\n",
    "        cnt[s]=1\n",
    "      end\n",
    "    end\n",
    "    ar = []\n",
    "    for j in 1:length(d_product.i)\n",
    "        if d_product.i[j] in keys(cnt)\n",
    "            push!(ar,cnt[d_product.i[j]])\n",
    "        else\n",
    "            push!(ar,0)\n",
    "        end\n",
    "    end\n",
    "    d_alt = DataFrame()\n",
    "    d_alt.i = ar\n",
    "    d_product = hcat(d_product,d_alt,makeunique=true)\n",
    "    \n",
    "    cnt = Dict()\n",
    "    for i in 1:length(df3.storenum)\n",
    "      s = string(df3.BUNDLE_TYPE[i])\n",
    "      if s in keys(cnt)\n",
    "        cnt[s]=cnt[s]+1\n",
    "      else\n",
    "        cnt[s]=1\n",
    "      end\n",
    "    end\n",
    "    ar = []\n",
    "    for j in 1:length(d_bundle.i)\n",
    "        if d_bundle.i[j] in keys(cnt)\n",
    "            push!(ar,cnt[d_bundle.i[j]])\n",
    "        else\n",
    "            push!(ar,0)\n",
    "        end\n",
    "    end\n",
    "    d_alt = DataFrame()\n",
    "    d_alt.i = ar\n",
    "    d_bundle = hcat(d_bundle,d_alt,makeunique=true)\n",
    "    \n",
    "end\n",
    "\n",
    "CSV.write(\"/home/vikas/Downloads/Lunch_Weekend_SALES_ITEM_CATEGORY_CNT.csv\",d_category)\n",
    "CSV.write(\"/home/vikas/Downloads/Lunch_Weekend_PRODUCT_CNT.csv\",d_product)\n",
    "CSV.write(\"/home/vikas/Downloads/Lunch_Weekend_BUNDLE_CNT.csv\",d_bundle)"
   ]
  },
  {
   "cell_type": "code",
   "execution_count": null,
   "metadata": {},
   "outputs": [],
   "source": [
    "df = DataFrame(CSV.File(\"df_CPSB_Dinner_Weekday.csv\"))\n",
    "\n",
    "d_category = DataFrame()\n",
    "s=unique(df.SALES_ITEM_CATEGORY)\n",
    "d_category.i = s\n",
    "\n",
    "d_product = DataFrame()\n",
    "s=unique(df.PRODUCT_TYPE)\n",
    "d_product.i = s\n",
    "\n",
    "d_bundle = DataFrame()\n",
    "s=unique(df.BUNDLE_TYPE)\n",
    "d_bundle.i = s\n",
    "\n",
    "df = df[:,[:storenum,:store_transaction_key,:cluster,:PRODUCT_TYPE,:BUNDLE_TYPE,:SALES_ITEM_CATEGORY]]\n",
    "\n",
    "select!(df,Not(:store_transaction_key))\n",
    "\n",
    "grp = groupby(df,:cluster)\n",
    "\n",
    "for i in 1:length(grp)\n",
    "    k = DataFrame(grp[i])\n",
    "    k = k[:,[:storenum,:PRODUCT_TYPE,:BUNDLE_TYPE,:SALES_ITEM_CATEGORY]]\n",
    "    df1 = k[:,[:storenum,:SALES_ITEM_CATEGORY]]\n",
    "    df2 = k[:,[:storenum,:PRODUCT_TYPE]]\n",
    "    df3 = k[:,[:storenum,:BUNDLE_TYPE]]\n",
    "    cnt = Dict()\n",
    "    for i in 1:length(df1.storenum)\n",
    "      s = string(df1.SALES_ITEM_CATEGORY[i])\n",
    "      if s in keys(cnt)\n",
    "        cnt[s]=cnt[s]+1\n",
    "      else\n",
    "        cnt[s]=1\n",
    "      end\n",
    "    end\n",
    "    ar = []\n",
    "    for j in 1:length(d_category.i)\n",
    "        if d_category.i[j] in keys(cnt)\n",
    "            push!(ar,cnt[d_category.i[j]])\n",
    "        else\n",
    "            push!(ar,0)\n",
    "        end\n",
    "    end\n",
    "    d_alt = DataFrame()\n",
    "    d_alt.i = ar\n",
    "    d_category = hcat(d_category,d_alt,makeunique=true)\n",
    "    \n",
    "    cnt=Dict()\n",
    "    for i in 1:length(df2.storenum)\n",
    "      s = string(df2.PRODUCT_TYPE[i])\n",
    "      if s in keys(cnt)\n",
    "        cnt[s]=cnt[s]+1\n",
    "      else\n",
    "        cnt[s]=1\n",
    "      end\n",
    "    end\n",
    "    ar = []\n",
    "    for j in 1:length(d_product.i)\n",
    "        if d_product.i[j] in keys(cnt)\n",
    "            push!(ar,cnt[d_product.i[j]])\n",
    "        else\n",
    "            push!(ar,0)\n",
    "        end\n",
    "    end\n",
    "    d_alt = DataFrame()\n",
    "    d_alt.i = ar\n",
    "    d_product = hcat(d_product,d_alt,makeunique=true)\n",
    "    \n",
    "    cnt = Dict()\n",
    "    for i in 1:length(df3.storenum)\n",
    "      s = string(df3.BUNDLE_TYPE[i])\n",
    "      if s in keys(cnt)\n",
    "        cnt[s]=cnt[s]+1\n",
    "      else\n",
    "        cnt[s]=1\n",
    "      end\n",
    "    end\n",
    "    ar = []\n",
    "    for j in 1:length(d_bundle.i)\n",
    "        if d_bundle.i[j] in keys(cnt)\n",
    "            push!(ar,cnt[d_bundle.i[j]])\n",
    "        else\n",
    "            push!(ar,0)\n",
    "        end\n",
    "    end\n",
    "    d_alt = DataFrame()\n",
    "    d_alt.i = ar\n",
    "    d_bundle = hcat(d_bundle,d_alt,makeunique=true)\n",
    "    \n",
    "end\n",
    "\n",
    "CSV.write(\"/home/vikas/Downloads/Dinner_Weekday_SALES_ITEM_CATEGORY_CNT.csv\",d_category)\n",
    "CSV.write(\"/home/vikas/Downloads/Dinner_Weekday_PRODUCT_CNT.csv\",d_product)\n",
    "CSV.write(\"/home/vikas/Downloads/Dinner_Weekday_BUNDLE_CNT.csv\",d_bundle)"
   ]
  },
  {
   "cell_type": "code",
   "execution_count": null,
   "metadata": {},
   "outputs": [],
   "source": [
    "df = DataFrame(CSV.File(\"df_CPSB_Dinner_Weekend.csv\"))\n",
    "\n",
    "d_category = DataFrame()\n",
    "s=unique(df.SALES_ITEM_CATEGORY)\n",
    "d_category.i = s\n",
    "\n",
    "d_product = DataFrame()\n",
    "s=unique(df.PRODUCT_TYPE)\n",
    "d_product.i = s\n",
    "\n",
    "d_bundle = DataFrame()\n",
    "s=unique(df.BUNDLE_TYPE)\n",
    "d_bundle.i = s\n",
    "\n",
    "df = df[:,[:storenum,:store_transaction_key,:cluster,:PRODUCT_TYPE,:BUNDLE_TYPE,:SALES_ITEM_CATEGORY]]\n",
    "\n",
    "select!(df,Not(:store_transaction_key))\n",
    "\n",
    "grp = groupby(df,:cluster)\n",
    "\n",
    "for i in 1:length(grp)\n",
    "    k = DataFrame(grp[i])\n",
    "    k = k[:,[:storenum,:PRODUCT_TYPE,:BUNDLE_TYPE,:SALES_ITEM_CATEGORY]]\n",
    "    df1 = k[:,[:storenum,:SALES_ITEM_CATEGORY]]\n",
    "    df2 = k[:,[:storenum,:PRODUCT_TYPE]]\n",
    "    df3 = k[:,[:storenum,:BUNDLE_TYPE]]\n",
    "    cnt = Dict()\n",
    "    for i in 1:length(df1.storenum)\n",
    "      s = string(df1.SALES_ITEM_CATEGORY[i])\n",
    "      if s in keys(cnt)\n",
    "        cnt[s]=cnt[s]+1\n",
    "      else\n",
    "        cnt[s]=1\n",
    "      end\n",
    "    end\n",
    "    ar = []\n",
    "    for j in 1:length(d_category.i)\n",
    "        if d_category.i[j] in keys(cnt)\n",
    "            push!(ar,cnt[d_category.i[j]])\n",
    "        else\n",
    "            push!(ar,0)\n",
    "        end\n",
    "    end\n",
    "    d_alt = DataFrame()\n",
    "    d_alt.i = ar\n",
    "    d_category = hcat(d_category,d_alt,makeunique=true)\n",
    "    \n",
    "    cnt=Dict()\n",
    "    for i in 1:length(df2.storenum)\n",
    "      s = string(df2.PRODUCT_TYPE[i])\n",
    "      if s in keys(cnt)\n",
    "        cnt[s]=cnt[s]+1\n",
    "      else\n",
    "        cnt[s]=1\n",
    "      end\n",
    "    end\n",
    "    ar = []\n",
    "    for j in 1:length(d_product.i)\n",
    "        if d_product.i[j] in keys(cnt)\n",
    "            push!(ar,cnt[d_product.i[j]])\n",
    "        else\n",
    "            push!(ar,0)\n",
    "        end\n",
    "    end\n",
    "    d_alt = DataFrame()\n",
    "    d_alt.i = ar\n",
    "    d_product = hcat(d_product,d_alt,makeunique=true)\n",
    "    \n",
    "    cnt = Dict()\n",
    "    for i in 1:length(df3.storenum)\n",
    "      s = string(df3.BUNDLE_TYPE[i])\n",
    "      if s in keys(cnt)\n",
    "        cnt[s]=cnt[s]+1\n",
    "      else\n",
    "        cnt[s]=1\n",
    "      end\n",
    "    end\n",
    "    ar = []\n",
    "    for j in 1:length(d_bundle.i)\n",
    "        if d_bundle.i[j] in keys(cnt)\n",
    "            push!(ar,cnt[d_bundle.i[j]])\n",
    "        else\n",
    "            push!(ar,0)\n",
    "        end\n",
    "    end\n",
    "    d_alt = DataFrame()\n",
    "    d_alt.i = ar\n",
    "    d_bundle = hcat(d_bundle,d_alt,makeunique=true)\n",
    "    \n",
    "end\n",
    "\n",
    "CSV.write(\"/home/vikas/Downloads/Dinner_Weekend_SALES_ITEM_CATEGORY_CNT.csv\",d_category)\n",
    "CSV.write(\"/home/vikas/Downloads/Dinner_Weekend_PRODUCT_CNT.csv\",d_product)\n",
    "CSV.write(\"/home/vikas/Downloads/Dinner_Weekend_BUNDLE_CNT.csv\",d_bundle)"
   ]
  },
  {
   "cell_type": "code",
   "execution_count": null,
   "metadata": {},
   "outputs": [],
   "source": []
  },
  {
   "cell_type": "code",
   "execution_count": null,
   "metadata": {},
   "outputs": [],
   "source": []
  },
  {
   "cell_type": "code",
   "execution_count": null,
   "metadata": {},
   "outputs": [],
   "source": []
  },
  {
   "cell_type": "code",
   "execution_count": null,
   "metadata": {},
   "outputs": [],
   "source": []
  },
  {
   "cell_type": "markdown",
   "metadata": {},
   "source": [
    "## Preparing storenum vs cluster"
   ]
  },
  {
   "cell_type": "code",
   "execution_count": 46,
   "metadata": {
    "scrolled": true
   },
   "outputs": [
    {
     "data": {
      "text/html": [
       "<table class=\"data-frame\"><thead><tr><th></th><th>storenum</th><th>store_transaction_key</th><th>cluster</th><th>PRODUCT_TYPE</th><th>SALES_ITEM_CATEGORY</th><th>BUNDLE_TYPE</th></tr><tr><th></th><th>Int64</th><th>String</th><th>Int64</th><th>String</th><th>String</th><th>String</th></tr></thead><tbody><p>1,543,970 rows × 6 columns</p><tr><th>1</th><td>502</td><td>502_1751_2021-03-29</td><td>2</td><td>Permanent</td><td>Chicken-on-bone</td><td>Ala Carte</td></tr><tr><th>2</th><td>502</td><td>502_1751_2021-03-29</td><td>2</td><td>Permanent</td><td>Others</td><td>Others</td></tr><tr><th>3</th><td>502</td><td>502_1752_2021-03-29</td><td>2</td><td>Permanent</td><td>Sides</td><td>Ala Carte</td></tr><tr><th>4</th><td>502</td><td>502_1752_2021-03-29</td><td>2</td><td>Permanent</td><td>Sides</td><td>Ala Carte</td></tr><tr><th>5</th><td>502</td><td>502_1752_2021-03-29</td><td>2</td><td>Permanent</td><td>Chicken-on-bone</td><td>Ala Carte</td></tr><tr><th>6</th><td>502</td><td>502_1752_2021-03-29</td><td>2</td><td>Permanent</td><td>Others</td><td>Others</td></tr><tr><th>7</th><td>502</td><td>502_1753_2021-03-29</td><td>2</td><td>Permanent</td><td>Sides</td><td>Ala Carte</td></tr><tr><th>8</th><td>502</td><td>502_1753_2021-03-29</td><td>2</td><td>Permanent</td><td>Portables</td><td>Buddy Meal</td></tr><tr><th>9</th><td>502</td><td>502_1753_2021-03-29</td><td>2</td><td>Permanent</td><td>Others</td><td>Others</td></tr><tr><th>10</th><td>502</td><td>502_1754_2021-03-29</td><td>2</td><td>Permanent</td><td>Portables</td><td>Ala Carte</td></tr><tr><th>11</th><td>502</td><td>502_1754_2021-03-29</td><td>2</td><td>Permanent</td><td>Sides</td><td>Ala Carte</td></tr><tr><th>12</th><td>502</td><td>502_1754_2021-03-29</td><td>2</td><td>Permanent</td><td>Sides</td><td>Add-on</td></tr><tr><th>13</th><td>502</td><td>502_1754_2021-03-29</td><td>2</td><td>Permanent</td><td>Chicken-on-bone</td><td>Group Meal</td></tr><tr><th>14</th><td>502</td><td>502_1754_2021-03-29</td><td>2</td><td>Permanent</td><td>Bowls &amp; Rice</td><td>Individual Meal</td></tr><tr><th>15</th><td>502</td><td>502_1754_2021-03-29</td><td>2</td><td>Permanent</td><td>Others</td><td>Others</td></tr><tr><th>16</th><td>502</td><td>502_1755_2021-03-29</td><td>2</td><td>Permanent</td><td>Portables</td><td>Box Meal</td></tr><tr><th>17</th><td>502</td><td>502_1755_2021-03-29</td><td>2</td><td>Permanent</td><td>Others</td><td>Others</td></tr><tr><th>18</th><td>502</td><td>502_1756_2021-03-29</td><td>2</td><td>Permanent</td><td>Sides</td><td>Add-on</td></tr><tr><th>19</th><td>502</td><td>502_1756_2021-03-29</td><td>2</td><td>Permanent</td><td>Beverage</td><td>Add-on</td></tr><tr><th>20</th><td>502</td><td>502_1756_2021-03-29</td><td>2</td><td>Permanent</td><td>Chicken-on-bone</td><td>Group Meal</td></tr><tr><th>21</th><td>502</td><td>502_1756_2021-03-29</td><td>2</td><td>Permanent</td><td>Others</td><td>Others</td></tr><tr><th>22</th><td>502</td><td>502_1757_2021-03-29</td><td>2</td><td>Permanent</td><td>Chicken-on-bone</td><td>Ala Carte</td></tr><tr><th>23</th><td>502</td><td>502_1757_2021-03-29</td><td>2</td><td>Permanent</td><td>Others</td><td>Others</td></tr><tr><th>24</th><td>502</td><td>502_1758_2021-03-29</td><td>2</td><td>Permanent</td><td>Portables</td><td>Ala Carte</td></tr><tr><th>25</th><td>502</td><td>502_1758_2021-03-29</td><td>2</td><td>Permanent</td><td>Chicken-on-bone</td><td>Buddy Meal</td></tr><tr><th>26</th><td>502</td><td>502_1758_2021-03-29</td><td>2</td><td>Permanent</td><td>Others</td><td>Others</td></tr><tr><th>27</th><td>502</td><td>502_1759_2021-03-29</td><td>2</td><td>Permanent</td><td>Sides</td><td>Ala Carte</td></tr><tr><th>28</th><td>502</td><td>502_1759_2021-03-29</td><td>2</td><td>Permanent</td><td>Sides</td><td>Ala Carte</td></tr><tr><th>29</th><td>502</td><td>502_1759_2021-03-29</td><td>2</td><td>Permanent</td><td>Sides</td><td>Add-on</td></tr><tr><th>30</th><td>502</td><td>502_1759_2021-03-29</td><td>2</td><td>Permanent</td><td>Beverage</td><td>Add-on</td></tr><tr><th>&vellip;</th><td>&vellip;</td><td>&vellip;</td><td>&vellip;</td><td>&vellip;</td><td>&vellip;</td><td>&vellip;</td></tr></tbody></table>"
      ],
      "text/latex": [
       "\\begin{tabular}{r|cccccc}\n",
       "\t& storenum & store\\_transaction\\_key & cluster & PRODUCT\\_TYPE & SALES\\_ITEM\\_CATEGORY & BUNDLE\\_TYPE\\\\\n",
       "\t\\hline\n",
       "\t& Int64 & String & Int64 & String & String & String\\\\\n",
       "\t\\hline\n",
       "\t1 & 502 & 502\\_1751\\_2021-03-29 & 2 & Permanent & Chicken-on-bone & Ala Carte \\\\\n",
       "\t2 & 502 & 502\\_1751\\_2021-03-29 & 2 & Permanent & Others & Others \\\\\n",
       "\t3 & 502 & 502\\_1752\\_2021-03-29 & 2 & Permanent & Sides & Ala Carte \\\\\n",
       "\t4 & 502 & 502\\_1752\\_2021-03-29 & 2 & Permanent & Sides & Ala Carte \\\\\n",
       "\t5 & 502 & 502\\_1752\\_2021-03-29 & 2 & Permanent & Chicken-on-bone & Ala Carte \\\\\n",
       "\t6 & 502 & 502\\_1752\\_2021-03-29 & 2 & Permanent & Others & Others \\\\\n",
       "\t7 & 502 & 502\\_1753\\_2021-03-29 & 2 & Permanent & Sides & Ala Carte \\\\\n",
       "\t8 & 502 & 502\\_1753\\_2021-03-29 & 2 & Permanent & Portables & Buddy Meal \\\\\n",
       "\t9 & 502 & 502\\_1753\\_2021-03-29 & 2 & Permanent & Others & Others \\\\\n",
       "\t10 & 502 & 502\\_1754\\_2021-03-29 & 2 & Permanent & Portables & Ala Carte \\\\\n",
       "\t11 & 502 & 502\\_1754\\_2021-03-29 & 2 & Permanent & Sides & Ala Carte \\\\\n",
       "\t12 & 502 & 502\\_1754\\_2021-03-29 & 2 & Permanent & Sides & Add-on \\\\\n",
       "\t13 & 502 & 502\\_1754\\_2021-03-29 & 2 & Permanent & Chicken-on-bone & Group Meal \\\\\n",
       "\t14 & 502 & 502\\_1754\\_2021-03-29 & 2 & Permanent & Bowls \\& Rice & Individual Meal \\\\\n",
       "\t15 & 502 & 502\\_1754\\_2021-03-29 & 2 & Permanent & Others & Others \\\\\n",
       "\t16 & 502 & 502\\_1755\\_2021-03-29 & 2 & Permanent & Portables & Box Meal \\\\\n",
       "\t17 & 502 & 502\\_1755\\_2021-03-29 & 2 & Permanent & Others & Others \\\\\n",
       "\t18 & 502 & 502\\_1756\\_2021-03-29 & 2 & Permanent & Sides & Add-on \\\\\n",
       "\t19 & 502 & 502\\_1756\\_2021-03-29 & 2 & Permanent & Beverage & Add-on \\\\\n",
       "\t20 & 502 & 502\\_1756\\_2021-03-29 & 2 & Permanent & Chicken-on-bone & Group Meal \\\\\n",
       "\t21 & 502 & 502\\_1756\\_2021-03-29 & 2 & Permanent & Others & Others \\\\\n",
       "\t22 & 502 & 502\\_1757\\_2021-03-29 & 2 & Permanent & Chicken-on-bone & Ala Carte \\\\\n",
       "\t23 & 502 & 502\\_1757\\_2021-03-29 & 2 & Permanent & Others & Others \\\\\n",
       "\t24 & 502 & 502\\_1758\\_2021-03-29 & 2 & Permanent & Portables & Ala Carte \\\\\n",
       "\t25 & 502 & 502\\_1758\\_2021-03-29 & 2 & Permanent & Chicken-on-bone & Buddy Meal \\\\\n",
       "\t26 & 502 & 502\\_1758\\_2021-03-29 & 2 & Permanent & Others & Others \\\\\n",
       "\t27 & 502 & 502\\_1759\\_2021-03-29 & 2 & Permanent & Sides & Ala Carte \\\\\n",
       "\t28 & 502 & 502\\_1759\\_2021-03-29 & 2 & Permanent & Sides & Ala Carte \\\\\n",
       "\t29 & 502 & 502\\_1759\\_2021-03-29 & 2 & Permanent & Sides & Add-on \\\\\n",
       "\t30 & 502 & 502\\_1759\\_2021-03-29 & 2 & Permanent & Beverage & Add-on \\\\\n",
       "\t$\\dots$ & $\\dots$ & $\\dots$ & $\\dots$ & $\\dots$ & $\\dots$ & $\\dots$ \\\\\n",
       "\\end{tabular}\n"
      ],
      "text/plain": [
       "\u001b[1m1543970×6 DataFrame\u001b[0m\n",
       "\u001b[1m     Row \u001b[0m│\u001b[1m storenum \u001b[0m\u001b[1m store_transaction_key \u001b[0m\u001b[1m cluster \u001b[0m\u001b[1m PRODUCT_TYPE \u001b[0m\u001b[1m SALES_ITEM_\u001b[0m ⋯\n",
       "\u001b[1m         \u001b[0m│\u001b[90m Int64    \u001b[0m\u001b[90m String                \u001b[0m\u001b[90m Int64   \u001b[0m\u001b[90m String       \u001b[0m\u001b[90m String     \u001b[0m ⋯\n",
       "─────────┼──────────────────────────────────────────────────────────────────────\n",
       "       1 │      502  502_1751_2021-03-29          2  Permanent     Chicken-on- ⋯\n",
       "       2 │      502  502_1751_2021-03-29          2  Permanent     Others\n",
       "       3 │      502  502_1752_2021-03-29          2  Permanent     Sides\n",
       "       4 │      502  502_1752_2021-03-29          2  Permanent     Sides\n",
       "       5 │      502  502_1752_2021-03-29          2  Permanent     Chicken-on- ⋯\n",
       "       6 │      502  502_1752_2021-03-29          2  Permanent     Others\n",
       "       7 │      502  502_1753_2021-03-29          2  Permanent     Sides\n",
       "       8 │      502  502_1753_2021-03-29          2  Permanent     Portables\n",
       "       9 │      502  502_1753_2021-03-29          2  Permanent     Others      ⋯\n",
       "      10 │      502  502_1754_2021-03-29          2  Permanent     Portables\n",
       "      11 │      502  502_1754_2021-03-29          2  Permanent     Sides\n",
       "    ⋮    │    ⋮                ⋮               ⋮          ⋮                 ⋮  ⋱\n",
       " 1543961 │      670  670_5310_2021-05-07          2  Permanent     Portables\n",
       " 1543962 │      670  670_5310_2021-05-07          2  Permanent     Beverage    ⋯\n",
       " 1543963 │      670  670_5311_2021-05-07          2  Permanent     Chicken-on-\n",
       " 1543964 │      670  670_5317_2021-05-07          2  LTO           Chicken-on-\n",
       " 1543965 │      670  670_5317_2021-05-07          2  Permanent     Sides\n",
       " 1543966 │      670  670_5317_2021-05-07          2  Permanent     Sides       ⋯\n",
       " 1543967 │      670  670_5318_2021-05-07          2  Permanent     Portables\n",
       " 1543968 │      670  670_5318_2021-05-07          2  Permanent     Sides\n",
       " 1543969 │      670  670_5318_2021-05-07          2  Permanent     Sides\n",
       " 1543970 │      670  670_5319_2021-05-07          2  Permanent     Chicken-on- ⋯\n",
       "\u001b[36m                                              2 columns and 1543949 rows omitted\u001b[0m"
      ]
     },
     "execution_count": 46,
     "metadata": {},
     "output_type": "execute_result"
    }
   ],
   "source": [
    "df = DataFrame(CSV.File(\"df_CPSB_Breakfast_Weekday.csv\"))"
   ]
  },
  {
   "cell_type": "code",
   "execution_count": 47,
   "metadata": {
    "scrolled": true
   },
   "outputs": [
    {
     "data": {
      "text/html": [
       "<table class=\"data-frame\"><thead><tr><th></th><th>storenum</th><th>store_transaction_key</th><th>cluster</th></tr><tr><th></th><th>Int64</th><th>String</th><th>Int64</th></tr></thead><tbody><p>1,543,970 rows × 3 columns</p><tr><th>1</th><td>502</td><td>502_1751_2021-03-29</td><td>2</td></tr><tr><th>2</th><td>502</td><td>502_1751_2021-03-29</td><td>2</td></tr><tr><th>3</th><td>502</td><td>502_1752_2021-03-29</td><td>2</td></tr><tr><th>4</th><td>502</td><td>502_1752_2021-03-29</td><td>2</td></tr><tr><th>5</th><td>502</td><td>502_1752_2021-03-29</td><td>2</td></tr><tr><th>6</th><td>502</td><td>502_1752_2021-03-29</td><td>2</td></tr><tr><th>7</th><td>502</td><td>502_1753_2021-03-29</td><td>2</td></tr><tr><th>8</th><td>502</td><td>502_1753_2021-03-29</td><td>2</td></tr><tr><th>9</th><td>502</td><td>502_1753_2021-03-29</td><td>2</td></tr><tr><th>10</th><td>502</td><td>502_1754_2021-03-29</td><td>2</td></tr><tr><th>11</th><td>502</td><td>502_1754_2021-03-29</td><td>2</td></tr><tr><th>12</th><td>502</td><td>502_1754_2021-03-29</td><td>2</td></tr><tr><th>13</th><td>502</td><td>502_1754_2021-03-29</td><td>2</td></tr><tr><th>14</th><td>502</td><td>502_1754_2021-03-29</td><td>2</td></tr><tr><th>15</th><td>502</td><td>502_1754_2021-03-29</td><td>2</td></tr><tr><th>16</th><td>502</td><td>502_1755_2021-03-29</td><td>2</td></tr><tr><th>17</th><td>502</td><td>502_1755_2021-03-29</td><td>2</td></tr><tr><th>18</th><td>502</td><td>502_1756_2021-03-29</td><td>2</td></tr><tr><th>19</th><td>502</td><td>502_1756_2021-03-29</td><td>2</td></tr><tr><th>20</th><td>502</td><td>502_1756_2021-03-29</td><td>2</td></tr><tr><th>21</th><td>502</td><td>502_1756_2021-03-29</td><td>2</td></tr><tr><th>22</th><td>502</td><td>502_1757_2021-03-29</td><td>2</td></tr><tr><th>23</th><td>502</td><td>502_1757_2021-03-29</td><td>2</td></tr><tr><th>24</th><td>502</td><td>502_1758_2021-03-29</td><td>2</td></tr><tr><th>25</th><td>502</td><td>502_1758_2021-03-29</td><td>2</td></tr><tr><th>26</th><td>502</td><td>502_1758_2021-03-29</td><td>2</td></tr><tr><th>27</th><td>502</td><td>502_1759_2021-03-29</td><td>2</td></tr><tr><th>28</th><td>502</td><td>502_1759_2021-03-29</td><td>2</td></tr><tr><th>29</th><td>502</td><td>502_1759_2021-03-29</td><td>2</td></tr><tr><th>30</th><td>502</td><td>502_1759_2021-03-29</td><td>2</td></tr><tr><th>&vellip;</th><td>&vellip;</td><td>&vellip;</td><td>&vellip;</td></tr></tbody></table>"
      ],
      "text/latex": [
       "\\begin{tabular}{r|ccc}\n",
       "\t& storenum & store\\_transaction\\_key & cluster\\\\\n",
       "\t\\hline\n",
       "\t& Int64 & String & Int64\\\\\n",
       "\t\\hline\n",
       "\t1 & 502 & 502\\_1751\\_2021-03-29 & 2 \\\\\n",
       "\t2 & 502 & 502\\_1751\\_2021-03-29 & 2 \\\\\n",
       "\t3 & 502 & 502\\_1752\\_2021-03-29 & 2 \\\\\n",
       "\t4 & 502 & 502\\_1752\\_2021-03-29 & 2 \\\\\n",
       "\t5 & 502 & 502\\_1752\\_2021-03-29 & 2 \\\\\n",
       "\t6 & 502 & 502\\_1752\\_2021-03-29 & 2 \\\\\n",
       "\t7 & 502 & 502\\_1753\\_2021-03-29 & 2 \\\\\n",
       "\t8 & 502 & 502\\_1753\\_2021-03-29 & 2 \\\\\n",
       "\t9 & 502 & 502\\_1753\\_2021-03-29 & 2 \\\\\n",
       "\t10 & 502 & 502\\_1754\\_2021-03-29 & 2 \\\\\n",
       "\t11 & 502 & 502\\_1754\\_2021-03-29 & 2 \\\\\n",
       "\t12 & 502 & 502\\_1754\\_2021-03-29 & 2 \\\\\n",
       "\t13 & 502 & 502\\_1754\\_2021-03-29 & 2 \\\\\n",
       "\t14 & 502 & 502\\_1754\\_2021-03-29 & 2 \\\\\n",
       "\t15 & 502 & 502\\_1754\\_2021-03-29 & 2 \\\\\n",
       "\t16 & 502 & 502\\_1755\\_2021-03-29 & 2 \\\\\n",
       "\t17 & 502 & 502\\_1755\\_2021-03-29 & 2 \\\\\n",
       "\t18 & 502 & 502\\_1756\\_2021-03-29 & 2 \\\\\n",
       "\t19 & 502 & 502\\_1756\\_2021-03-29 & 2 \\\\\n",
       "\t20 & 502 & 502\\_1756\\_2021-03-29 & 2 \\\\\n",
       "\t21 & 502 & 502\\_1756\\_2021-03-29 & 2 \\\\\n",
       "\t22 & 502 & 502\\_1757\\_2021-03-29 & 2 \\\\\n",
       "\t23 & 502 & 502\\_1757\\_2021-03-29 & 2 \\\\\n",
       "\t24 & 502 & 502\\_1758\\_2021-03-29 & 2 \\\\\n",
       "\t25 & 502 & 502\\_1758\\_2021-03-29 & 2 \\\\\n",
       "\t26 & 502 & 502\\_1758\\_2021-03-29 & 2 \\\\\n",
       "\t27 & 502 & 502\\_1759\\_2021-03-29 & 2 \\\\\n",
       "\t28 & 502 & 502\\_1759\\_2021-03-29 & 2 \\\\\n",
       "\t29 & 502 & 502\\_1759\\_2021-03-29 & 2 \\\\\n",
       "\t30 & 502 & 502\\_1759\\_2021-03-29 & 2 \\\\\n",
       "\t$\\dots$ & $\\dots$ & $\\dots$ & $\\dots$ \\\\\n",
       "\\end{tabular}\n"
      ],
      "text/plain": [
       "\u001b[1m1543970×3 DataFrame\u001b[0m\n",
       "\u001b[1m     Row \u001b[0m│\u001b[1m storenum \u001b[0m\u001b[1m store_transaction_key \u001b[0m\u001b[1m cluster \u001b[0m\n",
       "\u001b[1m         \u001b[0m│\u001b[90m Int64    \u001b[0m\u001b[90m String                \u001b[0m\u001b[90m Int64   \u001b[0m\n",
       "─────────┼──────────────────────────────────────────\n",
       "       1 │      502  502_1751_2021-03-29          2\n",
       "       2 │      502  502_1751_2021-03-29          2\n",
       "       3 │      502  502_1752_2021-03-29          2\n",
       "       4 │      502  502_1752_2021-03-29          2\n",
       "       5 │      502  502_1752_2021-03-29          2\n",
       "       6 │      502  502_1752_2021-03-29          2\n",
       "       7 │      502  502_1753_2021-03-29          2\n",
       "       8 │      502  502_1753_2021-03-29          2\n",
       "       9 │      502  502_1753_2021-03-29          2\n",
       "      10 │      502  502_1754_2021-03-29          2\n",
       "      11 │      502  502_1754_2021-03-29          2\n",
       "    ⋮    │    ⋮                ⋮               ⋮\n",
       " 1543961 │      670  670_5310_2021-05-07          2\n",
       " 1543962 │      670  670_5310_2021-05-07          2\n",
       " 1543963 │      670  670_5311_2021-05-07          2\n",
       " 1543964 │      670  670_5317_2021-05-07          2\n",
       " 1543965 │      670  670_5317_2021-05-07          2\n",
       " 1543966 │      670  670_5317_2021-05-07          2\n",
       " 1543967 │      670  670_5318_2021-05-07          2\n",
       " 1543968 │      670  670_5318_2021-05-07          2\n",
       " 1543969 │      670  670_5318_2021-05-07          2\n",
       " 1543970 │      670  670_5319_2021-05-07          2\n",
       "\u001b[36m                                1543949 rows omitted\u001b[0m"
      ]
     },
     "execution_count": 47,
     "metadata": {},
     "output_type": "execute_result"
    }
   ],
   "source": [
    "df = df[:,[:storenum,:store_transaction_key,:cluster]]"
   ]
  },
  {
   "cell_type": "code",
   "execution_count": 48,
   "metadata": {
    "scrolled": true
   },
   "outputs": [
    {
     "data": {
      "text/plain": [
       "84-element Vector{Int64}:\n",
       " 502\n",
       " 504\n",
       " 505\n",
       " 506\n",
       " 507\n",
       " 508\n",
       " 509\n",
       " 510\n",
       " 513\n",
       " 514\n",
       " 517\n",
       " 518\n",
       " 519\n",
       "   ⋮\n",
       " 653\n",
       " 654\n",
       " 655\n",
       " 658\n",
       " 659\n",
       " 660\n",
       " 664\n",
       " 665\n",
       " 666\n",
       " 667\n",
       " 669\n",
       " 670"
      ]
     },
     "execution_count": 48,
     "metadata": {},
     "output_type": "execute_result"
    }
   ],
   "source": [
    "d_store = DataFrame()\n",
    "s = unique(df.storenum)\n",
    "d_store.i = s"
   ]
  },
  {
   "cell_type": "code",
   "execution_count": 49,
   "metadata": {},
   "outputs": [
    {
     "data": {
      "text/html": [
       "<p><b>GroupedDataFrame with 3 groups based on key: cluster</b></p><p><i>First Group (640556 rows): cluster = 2</i></p><table class=\"data-frame\"><thead><tr><th></th><th>storenum</th><th>store_transaction_key</th><th>cluster</th></tr><tr><th></th><th>Int64</th><th>String</th><th>Int64</th></tr></thead><tbody><tr><th>1</th><td>502</td><td>502_1751_2021-03-29</td><td>2</td></tr><tr><th>2</th><td>502</td><td>502_1751_2021-03-29</td><td>2</td></tr><tr><th>3</th><td>502</td><td>502_1752_2021-03-29</td><td>2</td></tr><tr><th>4</th><td>502</td><td>502_1752_2021-03-29</td><td>2</td></tr><tr><th>5</th><td>502</td><td>502_1752_2021-03-29</td><td>2</td></tr><tr><th>6</th><td>502</td><td>502_1752_2021-03-29</td><td>2</td></tr><tr><th>7</th><td>502</td><td>502_1753_2021-03-29</td><td>2</td></tr><tr><th>8</th><td>502</td><td>502_1753_2021-03-29</td><td>2</td></tr><tr><th>9</th><td>502</td><td>502_1753_2021-03-29</td><td>2</td></tr><tr><th>10</th><td>502</td><td>502_1754_2021-03-29</td><td>2</td></tr><tr><th>11</th><td>502</td><td>502_1754_2021-03-29</td><td>2</td></tr><tr><th>12</th><td>502</td><td>502_1754_2021-03-29</td><td>2</td></tr><tr><th>13</th><td>502</td><td>502_1754_2021-03-29</td><td>2</td></tr><tr><th>14</th><td>502</td><td>502_1754_2021-03-29</td><td>2</td></tr><tr><th>15</th><td>502</td><td>502_1754_2021-03-29</td><td>2</td></tr><tr><th>16</th><td>502</td><td>502_1755_2021-03-29</td><td>2</td></tr><tr><th>17</th><td>502</td><td>502_1755_2021-03-29</td><td>2</td></tr><tr><th>18</th><td>502</td><td>502_1756_2021-03-29</td><td>2</td></tr><tr><th>19</th><td>502</td><td>502_1756_2021-03-29</td><td>2</td></tr><tr><th>20</th><td>502</td><td>502_1756_2021-03-29</td><td>2</td></tr><tr><th>21</th><td>502</td><td>502_1756_2021-03-29</td><td>2</td></tr><tr><th>22</th><td>502</td><td>502_1757_2021-03-29</td><td>2</td></tr><tr><th>23</th><td>502</td><td>502_1757_2021-03-29</td><td>2</td></tr><tr><th>24</th><td>502</td><td>502_1758_2021-03-29</td><td>2</td></tr><tr><th>25</th><td>502</td><td>502_1758_2021-03-29</td><td>2</td></tr><tr><th>26</th><td>502</td><td>502_1758_2021-03-29</td><td>2</td></tr><tr><th>27</th><td>502</td><td>502_1759_2021-03-29</td><td>2</td></tr><tr><th>28</th><td>502</td><td>502_1759_2021-03-29</td><td>2</td></tr><tr><th>29</th><td>502</td><td>502_1759_2021-03-29</td><td>2</td></tr><tr><th>30</th><td>502</td><td>502_1759_2021-03-29</td><td>2</td></tr><tr><th>&vellip;</th><td>&vellip;</td><td>&vellip;</td><td>&vellip;</td></tr></tbody></table><p>&vellip;</p><p><i>Last Group (200022 rows): cluster = 1</i></p><table class=\"data-frame\"><thead><tr><th></th><th>storenum</th><th>store_transaction_key</th><th>cluster</th></tr><tr><th></th><th>Int64</th><th>String</th><th>Int64</th></tr></thead><tbody><tr><th>1</th><td>502</td><td>502_6214_2021-03-29</td><td>1</td></tr><tr><th>2</th><td>502</td><td>502_6214_2021-03-29</td><td>1</td></tr><tr><th>3</th><td>502</td><td>502_6214_2021-03-29</td><td>1</td></tr><tr><th>4</th><td>502</td><td>502_6214_2021-03-29</td><td>1</td></tr><tr><th>5</th><td>502</td><td>502_6214_2021-03-29</td><td>1</td></tr><tr><th>6</th><td>502</td><td>502_6214_2021-03-29</td><td>1</td></tr><tr><th>7</th><td>502</td><td>502_6214_2021-03-29</td><td>1</td></tr><tr><th>8</th><td>502</td><td>502_6216_2021-03-29</td><td>1</td></tr><tr><th>9</th><td>502</td><td>502_6216_2021-03-29</td><td>1</td></tr><tr><th>10</th><td>502</td><td>502_6216_2021-03-29</td><td>1</td></tr><tr><th>11</th><td>502</td><td>502_6216_2021-03-29</td><td>1</td></tr><tr><th>12</th><td>502</td><td>502_6216_2021-03-29</td><td>1</td></tr><tr><th>13</th><td>502</td><td>502_6216_2021-03-29</td><td>1</td></tr><tr><th>14</th><td>502</td><td>502_6216_2021-03-29</td><td>1</td></tr><tr><th>15</th><td>502</td><td>502_6216_2021-03-29</td><td>1</td></tr><tr><th>16</th><td>502</td><td>502_6216_2021-03-29</td><td>1</td></tr><tr><th>17</th><td>502</td><td>502_6216_2021-03-29</td><td>1</td></tr><tr><th>18</th><td>502</td><td>502_6216_2021-03-29</td><td>1</td></tr><tr><th>19</th><td>502</td><td>502_6216_2021-03-29</td><td>1</td></tr><tr><th>20</th><td>502</td><td>502_6216_2021-03-29</td><td>1</td></tr><tr><th>21</th><td>502</td><td>502_6243_2021-03-29</td><td>1</td></tr><tr><th>22</th><td>502</td><td>502_6243_2021-03-29</td><td>1</td></tr><tr><th>23</th><td>502</td><td>502_6243_2021-03-29</td><td>1</td></tr><tr><th>24</th><td>502</td><td>502_6243_2021-03-29</td><td>1</td></tr><tr><th>25</th><td>502</td><td>502_6243_2021-03-29</td><td>1</td></tr><tr><th>26</th><td>502</td><td>502_6243_2021-03-29</td><td>1</td></tr><tr><th>27</th><td>502</td><td>502_6243_2021-03-29</td><td>1</td></tr><tr><th>28</th><td>506</td><td>506_5850_2021-03-29</td><td>1</td></tr><tr><th>29</th><td>506</td><td>506_5850_2021-03-29</td><td>1</td></tr><tr><th>30</th><td>506</td><td>506_5850_2021-03-29</td><td>1</td></tr><tr><th>&vellip;</th><td>&vellip;</td><td>&vellip;</td><td>&vellip;</td></tr></tbody></table>"
      ],
      "text/latex": [
       "GroupedDataFrame with 3 groups based on key: cluster\n",
       "\n",
       "First Group (640556 rows): cluster = 2\n",
       "\n",
       "\\begin{tabular}{r|ccc}\n",
       "\t& storenum & store\\_transaction\\_key & cluster\\\\\n",
       "\t\\hline\n",
       "\t& Int64 & String & Int64\\\\\n",
       "\t\\hline\n",
       "\t1 & 502 & 502\\_1751\\_2021-03-29 & 2 \\\\\n",
       "\t2 & 502 & 502\\_1751\\_2021-03-29 & 2 \\\\\n",
       "\t3 & 502 & 502\\_1752\\_2021-03-29 & 2 \\\\\n",
       "\t4 & 502 & 502\\_1752\\_2021-03-29 & 2 \\\\\n",
       "\t5 & 502 & 502\\_1752\\_2021-03-29 & 2 \\\\\n",
       "\t6 & 502 & 502\\_1752\\_2021-03-29 & 2 \\\\\n",
       "\t7 & 502 & 502\\_1753\\_2021-03-29 & 2 \\\\\n",
       "\t8 & 502 & 502\\_1753\\_2021-03-29 & 2 \\\\\n",
       "\t9 & 502 & 502\\_1753\\_2021-03-29 & 2 \\\\\n",
       "\t10 & 502 & 502\\_1754\\_2021-03-29 & 2 \\\\\n",
       "\t11 & 502 & 502\\_1754\\_2021-03-29 & 2 \\\\\n",
       "\t12 & 502 & 502\\_1754\\_2021-03-29 & 2 \\\\\n",
       "\t13 & 502 & 502\\_1754\\_2021-03-29 & 2 \\\\\n",
       "\t14 & 502 & 502\\_1754\\_2021-03-29 & 2 \\\\\n",
       "\t15 & 502 & 502\\_1754\\_2021-03-29 & 2 \\\\\n",
       "\t16 & 502 & 502\\_1755\\_2021-03-29 & 2 \\\\\n",
       "\t17 & 502 & 502\\_1755\\_2021-03-29 & 2 \\\\\n",
       "\t18 & 502 & 502\\_1756\\_2021-03-29 & 2 \\\\\n",
       "\t19 & 502 & 502\\_1756\\_2021-03-29 & 2 \\\\\n",
       "\t20 & 502 & 502\\_1756\\_2021-03-29 & 2 \\\\\n",
       "\t21 & 502 & 502\\_1756\\_2021-03-29 & 2 \\\\\n",
       "\t22 & 502 & 502\\_1757\\_2021-03-29 & 2 \\\\\n",
       "\t23 & 502 & 502\\_1757\\_2021-03-29 & 2 \\\\\n",
       "\t24 & 502 & 502\\_1758\\_2021-03-29 & 2 \\\\\n",
       "\t25 & 502 & 502\\_1758\\_2021-03-29 & 2 \\\\\n",
       "\t26 & 502 & 502\\_1758\\_2021-03-29 & 2 \\\\\n",
       "\t27 & 502 & 502\\_1759\\_2021-03-29 & 2 \\\\\n",
       "\t28 & 502 & 502\\_1759\\_2021-03-29 & 2 \\\\\n",
       "\t29 & 502 & 502\\_1759\\_2021-03-29 & 2 \\\\\n",
       "\t30 & 502 & 502\\_1759\\_2021-03-29 & 2 \\\\\n",
       "\t$\\dots$ & $\\dots$ & $\\dots$ & $\\dots$ \\\\\n",
       "\\end{tabular}\n",
       "\n",
       "$\\dots$\n",
       "\n",
       "Last Group (200022 rows): cluster = 1\n",
       "\n",
       "\\begin{tabular}{r|ccc}\n",
       "\t& storenum & store\\_transaction\\_key & cluster\\\\\n",
       "\t\\hline\n",
       "\t& Int64 & String & Int64\\\\\n",
       "\t\\hline\n",
       "\t1 & 502 & 502\\_6214\\_2021-03-29 & 1 \\\\\n",
       "\t2 & 502 & 502\\_6214\\_2021-03-29 & 1 \\\\\n",
       "\t3 & 502 & 502\\_6214\\_2021-03-29 & 1 \\\\\n",
       "\t4 & 502 & 502\\_6214\\_2021-03-29 & 1 \\\\\n",
       "\t5 & 502 & 502\\_6214\\_2021-03-29 & 1 \\\\\n",
       "\t6 & 502 & 502\\_6214\\_2021-03-29 & 1 \\\\\n",
       "\t7 & 502 & 502\\_6214\\_2021-03-29 & 1 \\\\\n",
       "\t8 & 502 & 502\\_6216\\_2021-03-29 & 1 \\\\\n",
       "\t9 & 502 & 502\\_6216\\_2021-03-29 & 1 \\\\\n",
       "\t10 & 502 & 502\\_6216\\_2021-03-29 & 1 \\\\\n",
       "\t11 & 502 & 502\\_6216\\_2021-03-29 & 1 \\\\\n",
       "\t12 & 502 & 502\\_6216\\_2021-03-29 & 1 \\\\\n",
       "\t13 & 502 & 502\\_6216\\_2021-03-29 & 1 \\\\\n",
       "\t14 & 502 & 502\\_6216\\_2021-03-29 & 1 \\\\\n",
       "\t15 & 502 & 502\\_6216\\_2021-03-29 & 1 \\\\\n",
       "\t16 & 502 & 502\\_6216\\_2021-03-29 & 1 \\\\\n",
       "\t17 & 502 & 502\\_6216\\_2021-03-29 & 1 \\\\\n",
       "\t18 & 502 & 502\\_6216\\_2021-03-29 & 1 \\\\\n",
       "\t19 & 502 & 502\\_6216\\_2021-03-29 & 1 \\\\\n",
       "\t20 & 502 & 502\\_6216\\_2021-03-29 & 1 \\\\\n",
       "\t21 & 502 & 502\\_6243\\_2021-03-29 & 1 \\\\\n",
       "\t22 & 502 & 502\\_6243\\_2021-03-29 & 1 \\\\\n",
       "\t23 & 502 & 502\\_6243\\_2021-03-29 & 1 \\\\\n",
       "\t24 & 502 & 502\\_6243\\_2021-03-29 & 1 \\\\\n",
       "\t25 & 502 & 502\\_6243\\_2021-03-29 & 1 \\\\\n",
       "\t26 & 502 & 502\\_6243\\_2021-03-29 & 1 \\\\\n",
       "\t27 & 502 & 502\\_6243\\_2021-03-29 & 1 \\\\\n",
       "\t28 & 506 & 506\\_5850\\_2021-03-29 & 1 \\\\\n",
       "\t29 & 506 & 506\\_5850\\_2021-03-29 & 1 \\\\\n",
       "\t30 & 506 & 506\\_5850\\_2021-03-29 & 1 \\\\\n",
       "\t$\\dots$ & $\\dots$ & $\\dots$ & $\\dots$ \\\\\n",
       "\\end{tabular}\n"
      ],
      "text/plain": [
       "GroupedDataFrame with 3 groups based on key: cluster\n",
       "First Group (640556 rows): cluster = 2\n",
       "\u001b[1m    Row \u001b[0m│\u001b[1m storenum \u001b[0m\u001b[1m store_transaction_key \u001b[0m\u001b[1m cluster \u001b[0m\n",
       "\u001b[1m        \u001b[0m│\u001b[90m Int64    \u001b[0m\u001b[90m String                \u001b[0m\u001b[90m Int64   \u001b[0m\n",
       "────────┼──────────────────────────────────────────\n",
       "      1 │      502  502_1751_2021-03-29          2\n",
       "      2 │      502  502_1751_2021-03-29          2\n",
       "      3 │      502  502_1752_2021-03-29          2\n",
       "      4 │      502  502_1752_2021-03-29          2\n",
       "      5 │      502  502_1752_2021-03-29          2\n",
       "      6 │      502  502_1752_2021-03-29          2\n",
       "      7 │      502  502_1753_2021-03-29          2\n",
       "      8 │      502  502_1753_2021-03-29          2\n",
       "      9 │      502  502_1753_2021-03-29          2\n",
       "     10 │      502  502_1754_2021-03-29          2\n",
       "     11 │      502  502_1754_2021-03-29          2\n",
       "   ⋮    │    ⋮                ⋮               ⋮\n",
       " 640546 │      670  670_5309_2021-05-07          2\n",
       " 640547 │      670  670_5310_2021-05-07          2\n",
       " 640548 │      670  670_5310_2021-05-07          2\n",
       " 640549 │      670  670_5311_2021-05-07          2\n",
       " 640550 │      670  670_5317_2021-05-07          2\n",
       " 640551 │      670  670_5317_2021-05-07          2\n",
       " 640552 │      670  670_5317_2021-05-07          2\n",
       " 640553 │      670  670_5318_2021-05-07          2\n",
       " 640554 │      670  670_5318_2021-05-07          2\n",
       " 640555 │      670  670_5318_2021-05-07          2\n",
       " 640556 │      670  670_5319_2021-05-07          2\n",
       "\u001b[36m                                640534 rows omitted\u001b[0m\n",
       "⋮\n",
       "Last Group (200022 rows): cluster = 1\n",
       "\u001b[1m    Row \u001b[0m│\u001b[1m storenum \u001b[0m\u001b[1m store_transaction_key \u001b[0m\u001b[1m cluster \u001b[0m\n",
       "\u001b[1m        \u001b[0m│\u001b[90m Int64    \u001b[0m\u001b[90m String                \u001b[0m\u001b[90m Int64   \u001b[0m\n",
       "────────┼──────────────────────────────────────────\n",
       "      1 │      502  502_6214_2021-03-29          1\n",
       "      2 │      502  502_6214_2021-03-29          1\n",
       "      3 │      502  502_6214_2021-03-29          1\n",
       "      4 │      502  502_6214_2021-03-29          1\n",
       "      5 │      502  502_6214_2021-03-29          1\n",
       "      6 │      502  502_6214_2021-03-29          1\n",
       "      7 │      502  502_6214_2021-03-29          1\n",
       "      8 │      502  502_6216_2021-03-29          1\n",
       "      9 │      502  502_6216_2021-03-29          1\n",
       "     10 │      502  502_6216_2021-03-29          1\n",
       "     11 │      502  502_6216_2021-03-29          1\n",
       "   ⋮    │    ⋮                ⋮               ⋮\n",
       " 200012 │      670  670_5186_2021-05-07          1\n",
       " 200013 │      670  670_5186_2021-05-07          1\n",
       " 200014 │      670  670_5186_2021-05-07          1\n",
       " 200015 │      670  670_5186_2021-05-07          1\n",
       " 200016 │      670  670_5195_2021-05-07          1\n",
       " 200017 │      670  670_5195_2021-05-07          1\n",
       " 200018 │      670  670_5195_2021-05-07          1\n",
       " 200019 │      670  670_5195_2021-05-07          1\n",
       " 200020 │      670  670_5195_2021-05-07          1\n",
       " 200021 │      670  670_5195_2021-05-07          1\n",
       " 200022 │      670  670_5195_2021-05-07          1\n",
       "\u001b[36m                                200000 rows omitted\u001b[0m"
      ]
     },
     "execution_count": 49,
     "metadata": {},
     "output_type": "execute_result"
    }
   ],
   "source": [
    "grp = groupby(df,:cluster)"
   ]
  },
  {
   "cell_type": "code",
   "execution_count": 50,
   "metadata": {},
   "outputs": [],
   "source": [
    "for i in 1:length(grp)\n",
    "    k = DataFrame(grp[i])\n",
    "    k = k[:,[:storenum,:store_transaction_key]]\n",
    "    gp = groupby(k,:store_transaction_key)\n",
    "    cnt = Dict()\n",
    "    \n",
    "    for j in 1:length(gp)\n",
    "        if gp[j].storenum[1] in keys(cnt)\n",
    "            cnt[gp[j].storenum[1]] = cnt[gp[j].storenum[1]] + 1\n",
    "        else\n",
    "            cnt[gp[j].storenum[1]] = 1\n",
    "        end\n",
    "    end\n",
    "    \n",
    "    ar = []\n",
    "    \n",
    "    for j in 1:length(d_store.i)\n",
    "        if d_store.i[j] in keys(cnt)\n",
    "            push!(ar,cnt[d_store.i[j]])\n",
    "        else\n",
    "            push!(ar,0)\n",
    "        end\n",
    "    end\n",
    "    \n",
    "    d = DataFrame()\n",
    "    d.i = ar\n",
    "    d_store = hcat(d_store,d,makeunique = true)\n",
    "end"
   ]
  },
  {
   "cell_type": "code",
   "execution_count": 51,
   "metadata": {
    "scrolled": true
   },
   "outputs": [
    {
     "data": {
      "text/html": [
       "<table class=\"data-frame\"><thead><tr><th></th><th>i</th><th>i_1</th><th>i_2</th><th>i_3</th></tr><tr><th></th><th>Int64</th><th>Any</th><th>Any</th><th>Any</th></tr></thead><tbody><p>84 rows × 4 columns</p><tr><th>1</th><td>502</td><td>3346</td><td>2087</td><td>303</td></tr><tr><th>2</th><td>504</td><td>3624</td><td>2486</td><td>5</td></tr><tr><th>3</th><td>505</td><td>7205</td><td>3091</td><td>1</td></tr><tr><th>4</th><td>506</td><td>3608</td><td>1441</td><td>337</td></tr><tr><th>5</th><td>507</td><td>5410</td><td>3308</td><td>0</td></tr><tr><th>6</th><td>508</td><td>1369</td><td>1092</td><td>285</td></tr><tr><th>7</th><td>509</td><td>2103</td><td>2759</td><td>380</td></tr><tr><th>8</th><td>510</td><td>1875</td><td>816</td><td>204</td></tr><tr><th>9</th><td>513</td><td>1893</td><td>1223</td><td>0</td></tr><tr><th>10</th><td>514</td><td>3929</td><td>2291</td><td>0</td></tr><tr><th>11</th><td>517</td><td>1271</td><td>1507</td><td>223</td></tr><tr><th>12</th><td>518</td><td>1625</td><td>830</td><td>29</td></tr><tr><th>13</th><td>519</td><td>2869</td><td>1057</td><td>259</td></tr><tr><th>14</th><td>520</td><td>3090</td><td>2342</td><td>2</td></tr><tr><th>15</th><td>521</td><td>4890</td><td>2497</td><td>1</td></tr><tr><th>16</th><td>522</td><td>1840</td><td>1238</td><td>151</td></tr><tr><th>17</th><td>523</td><td>4785</td><td>2936</td><td>624</td></tr><tr><th>18</th><td>524</td><td>1344</td><td>1110</td><td>499</td></tr><tr><th>19</th><td>526</td><td>718</td><td>150</td><td>164</td></tr><tr><th>20</th><td>528</td><td>5031</td><td>2024</td><td>289</td></tr><tr><th>21</th><td>529</td><td>2083</td><td>2767</td><td>226</td></tr><tr><th>22</th><td>530</td><td>2672</td><td>747</td><td>0</td></tr><tr><th>23</th><td>531</td><td>2095</td><td>66</td><td>101</td></tr><tr><th>24</th><td>532</td><td>1004</td><td>642</td><td>0</td></tr><tr><th>25</th><td>533</td><td>3393</td><td>1629</td><td>363</td></tr><tr><th>26</th><td>534</td><td>1830</td><td>902</td><td>1</td></tr><tr><th>27</th><td>536</td><td>2296</td><td>1419</td><td>519</td></tr><tr><th>28</th><td>537</td><td>1609</td><td>1051</td><td>0</td></tr><tr><th>29</th><td>538</td><td>1175</td><td>721</td><td>1</td></tr><tr><th>30</th><td>539</td><td>2140</td><td>1473</td><td>0</td></tr><tr><th>&vellip;</th><td>&vellip;</td><td>&vellip;</td><td>&vellip;</td><td>&vellip;</td></tr></tbody></table>"
      ],
      "text/latex": [
       "\\begin{tabular}{r|cccc}\n",
       "\t& i & i\\_1 & i\\_2 & i\\_3\\\\\n",
       "\t\\hline\n",
       "\t& Int64 & Any & Any & Any\\\\\n",
       "\t\\hline\n",
       "\t1 & 502 & 3346 & 2087 & 303 \\\\\n",
       "\t2 & 504 & 3624 & 2486 & 5 \\\\\n",
       "\t3 & 505 & 7205 & 3091 & 1 \\\\\n",
       "\t4 & 506 & 3608 & 1441 & 337 \\\\\n",
       "\t5 & 507 & 5410 & 3308 & 0 \\\\\n",
       "\t6 & 508 & 1369 & 1092 & 285 \\\\\n",
       "\t7 & 509 & 2103 & 2759 & 380 \\\\\n",
       "\t8 & 510 & 1875 & 816 & 204 \\\\\n",
       "\t9 & 513 & 1893 & 1223 & 0 \\\\\n",
       "\t10 & 514 & 3929 & 2291 & 0 \\\\\n",
       "\t11 & 517 & 1271 & 1507 & 223 \\\\\n",
       "\t12 & 518 & 1625 & 830 & 29 \\\\\n",
       "\t13 & 519 & 2869 & 1057 & 259 \\\\\n",
       "\t14 & 520 & 3090 & 2342 & 2 \\\\\n",
       "\t15 & 521 & 4890 & 2497 & 1 \\\\\n",
       "\t16 & 522 & 1840 & 1238 & 151 \\\\\n",
       "\t17 & 523 & 4785 & 2936 & 624 \\\\\n",
       "\t18 & 524 & 1344 & 1110 & 499 \\\\\n",
       "\t19 & 526 & 718 & 150 & 164 \\\\\n",
       "\t20 & 528 & 5031 & 2024 & 289 \\\\\n",
       "\t21 & 529 & 2083 & 2767 & 226 \\\\\n",
       "\t22 & 530 & 2672 & 747 & 0 \\\\\n",
       "\t23 & 531 & 2095 & 66 & 101 \\\\\n",
       "\t24 & 532 & 1004 & 642 & 0 \\\\\n",
       "\t25 & 533 & 3393 & 1629 & 363 \\\\\n",
       "\t26 & 534 & 1830 & 902 & 1 \\\\\n",
       "\t27 & 536 & 2296 & 1419 & 519 \\\\\n",
       "\t28 & 537 & 1609 & 1051 & 0 \\\\\n",
       "\t29 & 538 & 1175 & 721 & 1 \\\\\n",
       "\t30 & 539 & 2140 & 1473 & 0 \\\\\n",
       "\t$\\dots$ & $\\dots$ & $\\dots$ & $\\dots$ & $\\dots$ \\\\\n",
       "\\end{tabular}\n"
      ],
      "text/plain": [
       "\u001b[1m84×4 DataFrame\u001b[0m\n",
       "\u001b[1m Row \u001b[0m│\u001b[1m i     \u001b[0m\u001b[1m i_1  \u001b[0m\u001b[1m i_2  \u001b[0m\u001b[1m i_3 \u001b[0m\n",
       "\u001b[1m     \u001b[0m│\u001b[90m Int64 \u001b[0m\u001b[90m Any  \u001b[0m\u001b[90m Any  \u001b[0m\u001b[90m Any \u001b[0m\n",
       "─────┼────────────────────────\n",
       "   1 │   502  3346  2087  303\n",
       "   2 │   504  3624  2486  5\n",
       "   3 │   505  7205  3091  1\n",
       "   4 │   506  3608  1441  337\n",
       "   5 │   507  5410  3308  0\n",
       "   6 │   508  1369  1092  285\n",
       "   7 │   509  2103  2759  380\n",
       "   8 │   510  1875  816   204\n",
       "   9 │   513  1893  1223  0\n",
       "  10 │   514  3929  2291  0\n",
       "  11 │   517  1271  1507  223\n",
       "  ⋮  │   ⋮     ⋮     ⋮     ⋮\n",
       "  75 │   655  2677  1385  385\n",
       "  76 │   658  867   1552  0\n",
       "  77 │   659  2257  459   106\n",
       "  78 │   660  1620  1498  0\n",
       "  79 │   664  5315  1037  276\n",
       "  80 │   665  3063  2300  542\n",
       "  81 │   666  942   1025  427\n",
       "  82 │   667  2205  1367  296\n",
       "  83 │   669  4537  1161  197\n",
       "  84 │   670  2705  1123  287\n",
       "\u001b[36m               63 rows omitted\u001b[0m"
      ]
     },
     "execution_count": 51,
     "metadata": {},
     "output_type": "execute_result"
    }
   ],
   "source": [
    "d_store"
   ]
  },
  {
   "cell_type": "code",
   "execution_count": 52,
   "metadata": {},
   "outputs": [
    {
     "data": {
      "text/plain": [
       "\"/home/vikas/Downloads/Dinner_Weekday_storenum_vs_cluster.csv\""
      ]
     },
     "execution_count": 52,
     "metadata": {},
     "output_type": "execute_result"
    }
   ],
   "source": [
    "CSV.write(\"/home/vikas/Downloads/Breakfast_Weekday_storenum_vs_cluster.csv\",d_store)"
   ]
  },
  {
   "cell_type": "code",
   "execution_count": null,
   "metadata": {},
   "outputs": [],
   "source": [
    "df = DataFrame(CSV.File(\"df_CPSB_Breakfast_Weekend.csv\"))\n",
    "\n",
    "df = df[:,[:storenum,:store_transaction_key,:cluster]]\n",
    "\n",
    "d_store = DataFrame()\n",
    "s = unique(df.storenum)\n",
    "d_store.i = s\n",
    "\n",
    "grp = groupby(df,:cluster)\n",
    "\n",
    "for i in 1:length(grp)\n",
    "    k = DataFrame(grp[i])\n",
    "    k = k[:,[:storenum,:store_transaction_key]]\n",
    "    gp = groupby(k,:store_transaction_key)\n",
    "    cnt = Dict()\n",
    "    \n",
    "    for j in 1:length(gp)\n",
    "        if gp[j].storenum[1] in keys(cnt)\n",
    "            cnt[gp[j].storenum[1]] = cnt[gp[j].storenum[1]] + 1\n",
    "        else\n",
    "            cnt[gp[j].storenum[1]] = 1\n",
    "        end\n",
    "    end\n",
    "    \n",
    "    ar = []\n",
    "    \n",
    "    for j in 1:length(d_store.i)\n",
    "        if d_store.i[j] in keys(cnt)\n",
    "            push!(ar,cnt[d_store.i[j]])\n",
    "        else\n",
    "            push!(ar,0)\n",
    "        end\n",
    "    end\n",
    "    \n",
    "    d = DataFrame()\n",
    "    d.i = ar\n",
    "    d_store = hcat(d_store,d,makeunique = true)\n",
    "end\n",
    "\n",
    "CSV.write(\"/home/vikas/Downloads/Breakfast_Weekend_storenum_vs_cluster.csv\",d_store)"
   ]
  },
  {
   "cell_type": "code",
   "execution_count": null,
   "metadata": {},
   "outputs": [],
   "source": [
    "df = DataFrame(CSV.File(\"df_CPSB_Lunch_Weekday.csv\"))\n",
    "\n",
    "df = df[:,[:storenum,:store_transaction_key,:cluster]]\n",
    "\n",
    "d_store = DataFrame()\n",
    "s = unique(df.storenum)\n",
    "d_store.i = s\n",
    "\n",
    "grp = groupby(df,:cluster)\n",
    "\n",
    "for i in 1:length(grp)\n",
    "    k = DataFrame(grp[i])\n",
    "    k = k[:,[:storenum,:store_transaction_key]]\n",
    "    gp = groupby(k,:store_transaction_key)\n",
    "    cnt = Dict()\n",
    "    \n",
    "    for j in 1:length(gp)\n",
    "        if gp[j].storenum[1] in keys(cnt)\n",
    "            cnt[gp[j].storenum[1]] = cnt[gp[j].storenum[1]] + 1\n",
    "        else\n",
    "            cnt[gp[j].storenum[1]] = 1\n",
    "        end\n",
    "    end\n",
    "    \n",
    "    ar = []\n",
    "    \n",
    "    for j in 1:length(d_store.i)\n",
    "        if d_store.i[j] in keys(cnt)\n",
    "            push!(ar,cnt[d_store.i[j]])\n",
    "        else\n",
    "            push!(ar,0)\n",
    "        end\n",
    "    end\n",
    "    \n",
    "    d = DataFrame()\n",
    "    d.i = ar\n",
    "    d_store = hcat(d_store,d,makeunique = true)\n",
    "end\n",
    "\n",
    "CSV.write(\"/home/vikas/Downloads/Lunch_Weekday_storenum_vs_cluster.csv\",d_store)"
   ]
  },
  {
   "cell_type": "code",
   "execution_count": null,
   "metadata": {},
   "outputs": [],
   "source": [
    "df = DataFrame(CSV.File(\"df_CPSB_Lunch_Weekend.csv\"))\n",
    "\n",
    "df = df[:,[:storenum,:store_transaction_key,:cluster]]\n",
    "\n",
    "d_store = DataFrame()\n",
    "s = unique(df.storenum)\n",
    "d_store.i = s\n",
    "\n",
    "grp = groupby(df,:cluster)\n",
    "\n",
    "for i in 1:length(grp)\n",
    "    k = DataFrame(grp[i])\n",
    "    k = k[:,[:storenum,:store_transaction_key]]\n",
    "    gp = groupby(k,:store_transaction_key)\n",
    "    cnt = Dict()\n",
    "    \n",
    "    for j in 1:length(gp)\n",
    "        if gp[j].storenum[1] in keys(cnt)\n",
    "            cnt[gp[j].storenum[1]] = cnt[gp[j].storenum[1]] + 1\n",
    "        else\n",
    "            cnt[gp[j].storenum[1]] = 1\n",
    "        end\n",
    "    end\n",
    "    \n",
    "    ar = []\n",
    "    \n",
    "    for j in 1:length(d_store.i)\n",
    "        if d_store.i[j] in keys(cnt)\n",
    "            push!(ar,cnt[d_store.i[j]])\n",
    "        else\n",
    "            push!(ar,0)\n",
    "        end\n",
    "    end\n",
    "    \n",
    "    d = DataFrame()\n",
    "    d.i = ar\n",
    "    d_store = hcat(d_store,d,makeunique = true)\n",
    "end\n",
    "\n",
    "CSV.write(\"/home/vikas/Downloads/Lunch_Weekend_storenum_vs_cluster.csv\",d_store)"
   ]
  },
  {
   "cell_type": "code",
   "execution_count": null,
   "metadata": {},
   "outputs": [],
   "source": [
    "df = DataFrame(CSV.File(\"df_CPSB_Dinner_Weekday.csv\"))\n",
    "\n",
    "df = df[:,[:storenum,:store_transaction_key,:cluster]]\n",
    "\n",
    "d_store = DataFrame()\n",
    "s = unique(df.storenum)\n",
    "d_store.i = s\n",
    "\n",
    "grp = groupby(df,:cluster)\n",
    "\n",
    "for i in 1:length(grp)\n",
    "    k = DataFrame(grp[i])\n",
    "    k = k[:,[:storenum,:store_transaction_key]]\n",
    "    gp = groupby(k,:store_transaction_key)\n",
    "    cnt = Dict()\n",
    "    \n",
    "    for j in 1:length(gp)\n",
    "        if gp[j].storenum[1] in keys(cnt)\n",
    "            cnt[gp[j].storenum[1]] = cnt[gp[j].storenum[1]] + 1\n",
    "        else\n",
    "            cnt[gp[j].storenum[1]] = 1\n",
    "        end\n",
    "    end\n",
    "    \n",
    "    ar = []\n",
    "    \n",
    "    for j in 1:length(d_store.i)\n",
    "        if d_store.i[j] in keys(cnt)\n",
    "            push!(ar,cnt[d_store.i[j]])\n",
    "        else\n",
    "            push!(ar,0)\n",
    "        end\n",
    "    end\n",
    "    \n",
    "    d = DataFrame()\n",
    "    d.i = ar\n",
    "    d_store = hcat(d_store,d,makeunique = true)\n",
    "end\n",
    "\n",
    "CSV.write(\"/home/vikas/Downloads/Dinner_Weekday_storenum_vs_cluster.csv\",d_store)"
   ]
  },
  {
   "cell_type": "code",
   "execution_count": null,
   "metadata": {},
   "outputs": [],
   "source": [
    "df = DataFrame(CSV.File(\"df_CPSB_Dinner_Weekend.csv\"))\n",
    "\n",
    "df = df[:,[:storenum,:store_transaction_key,:cluster]]\n",
    "\n",
    "d_store = DataFrame()\n",
    "s = unique(df.storenum)\n",
    "d_store.i = s\n",
    "\n",
    "grp = groupby(df,:cluster)\n",
    "\n",
    "for i in 1:length(grp)\n",
    "    k = DataFrame(grp[i])\n",
    "    k = k[:,[:storenum,:store_transaction_key]]\n",
    "    gp = groupby(k,:store_transaction_key)\n",
    "    cnt = Dict()\n",
    "    \n",
    "    for j in 1:length(gp)\n",
    "        if gp[j].storenum[1] in keys(cnt)\n",
    "            cnt[gp[j].storenum[1]] = cnt[gp[j].storenum[1]] + 1\n",
    "        else\n",
    "            cnt[gp[j].storenum[1]] = 1\n",
    "        end\n",
    "    end\n",
    "    \n",
    "    ar = []\n",
    "    \n",
    "    for j in 1:length(d_store.i)\n",
    "        if d_store.i[j] in keys(cnt)\n",
    "            push!(ar,cnt[d_store.i[j]])\n",
    "        else\n",
    "            push!(ar,0)\n",
    "        end\n",
    "    end\n",
    "    \n",
    "    d = DataFrame()\n",
    "    d.i = ar\n",
    "    d_store = hcat(d_store,d,makeunique = true)\n",
    "end\n",
    "\n",
    "CSV.write(\"/home/vikas/Downloads/Dinner_Weekend_storenum_vs_cluster.csv\",d_store)"
   ]
  },
  {
   "cell_type": "code",
   "execution_count": null,
   "metadata": {},
   "outputs": [],
   "source": []
  },
  {
   "cell_type": "code",
   "execution_count": null,
   "metadata": {},
   "outputs": [],
   "source": []
  },
  {
   "cell_type": "code",
   "execution_count": null,
   "metadata": {},
   "outputs": [],
   "source": []
  },
  {
   "cell_type": "markdown",
   "metadata": {},
   "source": [
    "## Clusterwise transaction key vs sales amount"
   ]
  },
  {
   "cell_type": "code",
   "execution_count": 3,
   "metadata": {
    "scrolled": true
   },
   "outputs": [
    {
     "data": {
      "text/html": [
       "<table class=\"data-frame\"><thead><tr><th></th><th>storenum</th><th>item_key</th><th>item_description</th><th>transaction_type</th><th>sales_amount</th><th>sales_channel</th></tr><tr><th></th><th>Int64</th><th>Int64</th><th>String</th><th>String</th><th>Float64</th><th>String</th></tr></thead><tbody><p>6,859,688 rows × 11 columns (omitted printing of 5 columns)</p><tr><th>1</th><td>502</td><td>916755</td><td>D-10P CKN BKT</td><td>M</td><td>26.9159</td><td>Online-Delivery</td></tr><tr><th>2</th><td>502</td><td>710033</td><td>DEL SURCHARGE</td><td>M</td><td>3.7383</td><td>Online-Delivery</td></tr><tr><th>3</th><td>502</td><td>1</td><td>D-CASH</td><td>T</td><td>30.6542</td><td>Online-Delivery</td></tr><tr><th>4</th><td>502</td><td>700103</td><td>D-3PC ML(OR)</td><td>M</td><td>58.4112</td><td>Phone-Delivery</td></tr><tr><th>5</th><td>502</td><td>710033</td><td>DEL SURCHARGE</td><td>M</td><td>3.7383</td><td>Phone-Delivery</td></tr><tr><th>6</th><td>502</td><td>1</td><td>D-CASH</td><td>T</td><td>62.1495</td><td>Phone-Delivery</td></tr><tr><th>7</th><td>502</td><td>710009</td><td>D-ZINGER</td><td>M</td><td>10.9346</td><td>Phone-Delivery</td></tr><tr><th>8</th><td>502</td><td>700103</td><td>D-3PC ML(OR)</td><td>M</td><td>46.729</td><td>Phone-Delivery</td></tr><tr><th>9</th><td>502</td><td>710033</td><td>DEL SURCHARGE</td><td>M</td><td>3.7383</td><td>Phone-Delivery</td></tr><tr><th>10</th><td>502</td><td>1</td><td>D-CASH</td><td>T</td><td>61.4019</td><td>Phone-Delivery</td></tr><tr><th>11</th><td>502</td><td>922023</td><td>D-10 FOR $10</td><td>M</td><td>9.3458</td><td>Online-Delivery</td></tr><tr><th>12</th><td>502</td><td>913618</td><td>D-10P CKN 2-5PM</td><td>M</td><td>16.8224</td><td>Online-Delivery</td></tr><tr><th>13</th><td>502</td><td>710033</td><td>DEL SURCHARGE</td><td>M</td><td>3.7383</td><td>Online-Delivery</td></tr><tr><th>14</th><td>502</td><td>3</td><td>D-DBS Paylah</td><td>T</td><td>29.9065</td><td>Online-Delivery</td></tr><tr><th>15</th><td>502</td><td>916137</td><td>D-FM POT BWL</td><td>M</td><td>5.0</td><td>Online-Delivery</td></tr><tr><th>16</th><td>502</td><td>710018</td><td>D-C/SL MED</td><td>M</td><td>3.4579</td><td>Online-Delivery</td></tr><tr><th>17</th><td>502</td><td>710021</td><td>D-W/PT MED</td><td>M</td><td>3.4579</td><td>Online-Delivery</td></tr><tr><th>18</th><td>502</td><td>919893</td><td>D-8P FOR $15</td><td>M</td><td>14.0187</td><td>Online-Delivery</td></tr><tr><th>19</th><td>502</td><td>710033</td><td>DEL SURCHARGE</td><td>M</td><td>3.7383</td><td>Online-Delivery</td></tr><tr><th>20</th><td>502</td><td>8</td><td>D-eNETS CREDIT</td><td>T</td><td>29.6729</td><td>Online-Delivery</td></tr><tr><th>21</th><td>502</td><td>913961</td><td>D-8P VRTY FEAST</td><td>M</td><td>38.271</td><td>Online-Delivery</td></tr><tr><th>22</th><td>502</td><td>710033</td><td>DEL SURCHARGE</td><td>M</td><td>3.7383</td><td>Online-Delivery</td></tr><tr><th>23</th><td>502</td><td>8</td><td>D-eNETS CREDIT</td><td>T</td><td>42.0093</td><td>Online-Delivery</td></tr><tr><th>24</th><td>502</td><td>921466</td><td>D-2P CKN BX</td><td>M</td><td>39.2523</td><td>Online-Delivery</td></tr><tr><th>25</th><td>502</td><td>921466</td><td>D-2P CKN BX</td><td>M</td><td>39.2523</td><td>Online-Delivery</td></tr><tr><th>26</th><td>502</td><td>921466</td><td>D-2P CKN BX</td><td>M</td><td>29.4393</td><td>Online-Delivery</td></tr><tr><th>27</th><td>502</td><td>710033</td><td>DEL SURCHARGE</td><td>M</td><td>3.7383</td><td>Online-Delivery</td></tr><tr><th>28</th><td>502</td><td>8</td><td>D-eNETS CREDIT</td><td>T</td><td>111.682</td><td>Online-Delivery</td></tr><tr><th>29</th><td>502</td><td>913299</td><td>D-AO 2 CHZ FRIES-APP</td><td>M</td><td>5.6075</td><td>Online-Delivery</td></tr><tr><th>30</th><td>502</td><td>922023</td><td>D-10 FOR $10</td><td>M</td><td>9.3458</td><td>Online-Delivery</td></tr><tr><th>&vellip;</th><td>&vellip;</td><td>&vellip;</td><td>&vellip;</td><td>&vellip;</td><td>&vellip;</td><td>&vellip;</td></tr></tbody></table>"
      ],
      "text/latex": [
       "\\begin{tabular}{r|ccccccc}\n",
       "\t& storenum & item\\_key & item\\_description & transaction\\_type & sales\\_amount & sales\\_channel & \\\\\n",
       "\t\\hline\n",
       "\t& Int64 & Int64 & String & String & Float64 & String & \\\\\n",
       "\t\\hline\n",
       "\t1 & 502 & 916755 & D-10P CKN BKT & M & 26.9159 & Online-Delivery & $\\dots$ \\\\\n",
       "\t2 & 502 & 710033 & DEL SURCHARGE & M & 3.7383 & Online-Delivery & $\\dots$ \\\\\n",
       "\t3 & 502 & 1 & D-CASH & T & 30.6542 & Online-Delivery & $\\dots$ \\\\\n",
       "\t4 & 502 & 700103 & D-3PC ML(OR) & M & 58.4112 & Phone-Delivery & $\\dots$ \\\\\n",
       "\t5 & 502 & 710033 & DEL SURCHARGE & M & 3.7383 & Phone-Delivery & $\\dots$ \\\\\n",
       "\t6 & 502 & 1 & D-CASH & T & 62.1495 & Phone-Delivery & $\\dots$ \\\\\n",
       "\t7 & 502 & 710009 & D-ZINGER & M & 10.9346 & Phone-Delivery & $\\dots$ \\\\\n",
       "\t8 & 502 & 700103 & D-3PC ML(OR) & M & 46.729 & Phone-Delivery & $\\dots$ \\\\\n",
       "\t9 & 502 & 710033 & DEL SURCHARGE & M & 3.7383 & Phone-Delivery & $\\dots$ \\\\\n",
       "\t10 & 502 & 1 & D-CASH & T & 61.4019 & Phone-Delivery & $\\dots$ \\\\\n",
       "\t11 & 502 & 922023 & D-10 FOR \\$10 & M & 9.3458 & Online-Delivery & $\\dots$ \\\\\n",
       "\t12 & 502 & 913618 & D-10P CKN 2-5PM & M & 16.8224 & Online-Delivery & $\\dots$ \\\\\n",
       "\t13 & 502 & 710033 & DEL SURCHARGE & M & 3.7383 & Online-Delivery & $\\dots$ \\\\\n",
       "\t14 & 502 & 3 & D-DBS Paylah & T & 29.9065 & Online-Delivery & $\\dots$ \\\\\n",
       "\t15 & 502 & 916137 & D-FM POT BWL & M & 5.0 & Online-Delivery & $\\dots$ \\\\\n",
       "\t16 & 502 & 710018 & D-C/SL MED & M & 3.4579 & Online-Delivery & $\\dots$ \\\\\n",
       "\t17 & 502 & 710021 & D-W/PT MED & M & 3.4579 & Online-Delivery & $\\dots$ \\\\\n",
       "\t18 & 502 & 919893 & D-8P FOR \\$15 & M & 14.0187 & Online-Delivery & $\\dots$ \\\\\n",
       "\t19 & 502 & 710033 & DEL SURCHARGE & M & 3.7383 & Online-Delivery & $\\dots$ \\\\\n",
       "\t20 & 502 & 8 & D-eNETS CREDIT & T & 29.6729 & Online-Delivery & $\\dots$ \\\\\n",
       "\t21 & 502 & 913961 & D-8P VRTY FEAST & M & 38.271 & Online-Delivery & $\\dots$ \\\\\n",
       "\t22 & 502 & 710033 & DEL SURCHARGE & M & 3.7383 & Online-Delivery & $\\dots$ \\\\\n",
       "\t23 & 502 & 8 & D-eNETS CREDIT & T & 42.0093 & Online-Delivery & $\\dots$ \\\\\n",
       "\t24 & 502 & 921466 & D-2P CKN BX & M & 39.2523 & Online-Delivery & $\\dots$ \\\\\n",
       "\t25 & 502 & 921466 & D-2P CKN BX & M & 39.2523 & Online-Delivery & $\\dots$ \\\\\n",
       "\t26 & 502 & 921466 & D-2P CKN BX & M & 29.4393 & Online-Delivery & $\\dots$ \\\\\n",
       "\t27 & 502 & 710033 & DEL SURCHARGE & M & 3.7383 & Online-Delivery & $\\dots$ \\\\\n",
       "\t28 & 502 & 8 & D-eNETS CREDIT & T & 111.682 & Online-Delivery & $\\dots$ \\\\\n",
       "\t29 & 502 & 913299 & D-AO 2 CHZ FRIES-APP & M & 5.6075 & Online-Delivery & $\\dots$ \\\\\n",
       "\t30 & 502 & 922023 & D-10 FOR \\$10 & M & 9.3458 & Online-Delivery & $\\dots$ \\\\\n",
       "\t$\\dots$ & $\\dots$ & $\\dots$ & $\\dots$ & $\\dots$ & $\\dots$ & $\\dots$ &  \\\\\n",
       "\\end{tabular}\n"
      ],
      "text/plain": [
       "\u001b[1m6859688×11 DataFrame\u001b[0m\n",
       "\u001b[1m     Row \u001b[0m│\u001b[1m storenum \u001b[0m\u001b[1m item_key \u001b[0m\u001b[1m item_description \u001b[0m\u001b[1m transaction_type \u001b[0m\u001b[1m sales_amoun\u001b[0m ⋯\n",
       "\u001b[1m         \u001b[0m│\u001b[90m Int64    \u001b[0m\u001b[90m Int64    \u001b[0m\u001b[90m String           \u001b[0m\u001b[90m String           \u001b[0m\u001b[90m Float64    \u001b[0m ⋯\n",
       "─────────┼──────────────────────────────────────────────────────────────────────\n",
       "       1 │      502    916755  D-10P CKN BKT     M                    26.9159  ⋯\n",
       "       2 │      502    710033  DEL SURCHARGE     M                     3.7383\n",
       "       3 │      502         1  D-CASH            T                    30.6542\n",
       "       4 │      502    700103  D-3PC ML(OR)      M                    58.4112\n",
       "       5 │      502    710033  DEL SURCHARGE     M                     3.7383  ⋯\n",
       "       6 │      502         1  D-CASH            T                    62.1495\n",
       "       7 │      502    710009  D-ZINGER          M                    10.9346\n",
       "       8 │      502    700103  D-3PC ML(OR)      M                    46.729\n",
       "       9 │      502    710033  DEL SURCHARGE     M                     3.7383  ⋯\n",
       "      10 │      502         1  D-CASH            T                    61.4019\n",
       "      11 │      502    922023  D-10 FOR $10      M                     9.3458\n",
       "    ⋮    │    ⋮         ⋮             ⋮                 ⋮               ⋮      ⋱\n",
       " 6859679 │      670    922110  2P(TG) ML         M                     8.3645\n",
       " 6859680 │      670    450011  RWP>CF            M                     2.0561  ⋯\n",
       " 6859681 │      670    914357  1P EGG TART       M                     1.215\n",
       " 6859682 │      670         8  D-eNETS CREDIT    T                    11.6355\n",
       " 6859683 │      670    912781  1 OR ZNG BX       M                     8.5514\n",
       " 6859684 │      670    450046  RFF>CFRIES        M                     1.8692  ⋯\n",
       " 6859685 │      670    914357  1P EGG TART       M                     1.215\n",
       " 6859686 │      670         8  D-eNETS CREDIT    T                    11.6355\n",
       " 6859687 │      670    921046  5P ACB 30%        M                     9.6262\n",
       " 6859688 │      670        15  DI-DBS PAYLAH     T                     9.62617 ⋯\n",
       "\u001b[36m                                              7 columns and 6859667 rows omitted\u001b[0m"
      ]
     },
     "execution_count": 3,
     "metadata": {},
     "output_type": "execute_result"
    }
   ],
   "source": [
    "df = DataFrame(CSV.File(\"Dataset2.csv\"))"
   ]
  },
  {
   "cell_type": "code",
   "execution_count": 4,
   "metadata": {},
   "outputs": [
    {
     "data": {
      "text/html": [
       "<p><b>GroupedDataFrame with 3 groups based on key: transaction_type</b></p><p><i>First Group (5214325 rows): transaction_type = \"M\"</i></p><table class=\"data-frame\"><thead><tr><th></th><th>storenum</th><th>item_key</th><th>item_description</th><th>transaction_type</th><th>sales_amount</th><th>sales_channel</th></tr><tr><th></th><th>Int64</th><th>Int64</th><th>String</th><th>String</th><th>Float64</th><th>String</th></tr></thead><tbody><tr><th>1</th><td>502</td><td>916755</td><td>D-10P CKN BKT</td><td>M</td><td>26.9159</td><td>Online-Delivery</td></tr><tr><th>2</th><td>502</td><td>710033</td><td>DEL SURCHARGE</td><td>M</td><td>3.7383</td><td>Online-Delivery</td></tr><tr><th>3</th><td>502</td><td>700103</td><td>D-3PC ML(OR)</td><td>M</td><td>58.4112</td><td>Phone-Delivery</td></tr><tr><th>4</th><td>502</td><td>710033</td><td>DEL SURCHARGE</td><td>M</td><td>3.7383</td><td>Phone-Delivery</td></tr><tr><th>5</th><td>502</td><td>710009</td><td>D-ZINGER</td><td>M</td><td>10.9346</td><td>Phone-Delivery</td></tr><tr><th>6</th><td>502</td><td>700103</td><td>D-3PC ML(OR)</td><td>M</td><td>46.729</td><td>Phone-Delivery</td></tr><tr><th>7</th><td>502</td><td>710033</td><td>DEL SURCHARGE</td><td>M</td><td>3.7383</td><td>Phone-Delivery</td></tr><tr><th>8</th><td>502</td><td>922023</td><td>D-10 FOR $10</td><td>M</td><td>9.3458</td><td>Online-Delivery</td></tr><tr><th>9</th><td>502</td><td>913618</td><td>D-10P CKN 2-5PM</td><td>M</td><td>16.8224</td><td>Online-Delivery</td></tr><tr><th>10</th><td>502</td><td>710033</td><td>DEL SURCHARGE</td><td>M</td><td>3.7383</td><td>Online-Delivery</td></tr><tr><th>11</th><td>502</td><td>916137</td><td>D-FM POT BWL</td><td>M</td><td>5.0</td><td>Online-Delivery</td></tr><tr><th>12</th><td>502</td><td>710018</td><td>D-C/SL MED</td><td>M</td><td>3.4579</td><td>Online-Delivery</td></tr><tr><th>13</th><td>502</td><td>710021</td><td>D-W/PT MED</td><td>M</td><td>3.4579</td><td>Online-Delivery</td></tr><tr><th>14</th><td>502</td><td>919893</td><td>D-8P FOR $15</td><td>M</td><td>14.0187</td><td>Online-Delivery</td></tr><tr><th>15</th><td>502</td><td>710033</td><td>DEL SURCHARGE</td><td>M</td><td>3.7383</td><td>Online-Delivery</td></tr><tr><th>16</th><td>502</td><td>913961</td><td>D-8P VRTY FEAST</td><td>M</td><td>38.271</td><td>Online-Delivery</td></tr><tr><th>17</th><td>502</td><td>710033</td><td>DEL SURCHARGE</td><td>M</td><td>3.7383</td><td>Online-Delivery</td></tr><tr><th>18</th><td>502</td><td>921466</td><td>D-2P CKN BX</td><td>M</td><td>39.2523</td><td>Online-Delivery</td></tr><tr><th>19</th><td>502</td><td>921466</td><td>D-2P CKN BX</td><td>M</td><td>39.2523</td><td>Online-Delivery</td></tr><tr><th>20</th><td>502</td><td>921466</td><td>D-2P CKN BX</td><td>M</td><td>29.4393</td><td>Online-Delivery</td></tr><tr><th>21</th><td>502</td><td>710033</td><td>DEL SURCHARGE</td><td>M</td><td>3.7383</td><td>Online-Delivery</td></tr><tr><th>22</th><td>502</td><td>913299</td><td>D-AO 2 CHZ FRIES-APP</td><td>M</td><td>5.6075</td><td>Online-Delivery</td></tr><tr><th>23</th><td>502</td><td>922023</td><td>D-10 FOR $10</td><td>M</td><td>9.3458</td><td>Online-Delivery</td></tr><tr><th>24</th><td>502</td><td>710033</td><td>DEL SURCHARGE</td><td>M</td><td>3.7383</td><td>Online-Delivery</td></tr><tr><th>25</th><td>502</td><td>921474</td><td>D-ZNGBX+2P CKN BX</td><td>M</td><td>15.1402</td><td>Online-Delivery</td></tr><tr><th>26</th><td>502</td><td>916131</td><td>D-1P CRY BWL ML</td><td>M</td><td>7.9907</td><td>Online-Delivery</td></tr><tr><th>27</th><td>502</td><td>912754</td><td>D-1P ZNG BOX</td><td>M</td><td>10.2336</td><td>Online-Delivery</td></tr><tr><th>28</th><td>502</td><td>710033</td><td>DEL SURCHARGE</td><td>M</td><td>3.7383</td><td>Online-Delivery</td></tr><tr><th>29</th><td>502</td><td>916759</td><td>D-ALA SNACK N SHARE BX  </td><td>M</td><td>12.1028</td><td>Online-Delivery</td></tr><tr><th>30</th><td>502</td><td>922023</td><td>D-10 FOR $10</td><td>M</td><td>9.3458</td><td>Online-Delivery</td></tr><tr><th>&vellip;</th><td>&vellip;</td><td>&vellip;</td><td>&vellip;</td><td>&vellip;</td><td>&vellip;</td><td>&vellip;</td></tr></tbody></table><p>&vellip;</p><p><i>Last Group (12833 rows): transaction_type = \"D\"</i></p><table class=\"data-frame\"><thead><tr><th></th><th>storenum</th><th>item_key</th><th>item_description</th><th>transaction_type</th><th>sales_amount</th><th>sales_channel</th></tr><tr><th></th><th>Int64</th><th>Int64</th><th>String</th><th>String</th><th>Float64</th><th>String</th></tr></thead><tbody><tr><th>1</th><td>502</td><td>2000</td><td>25% EMP DISC</td><td>D</td><td>-1.9626</td><td>Drive-Thru</td></tr><tr><th>2</th><td>502</td><td>3007</td><td>$1-OFF(PAssion)</td><td>D</td><td>-0.9346</td><td>Eat In (EI)</td></tr><tr><th>3</th><td>502</td><td>8027</td><td>10% OFF GES DEAL</td><td>D</td><td>-1.8131</td><td>Eat In (EI)</td></tr><tr><th>4</th><td>502</td><td>3007</td><td>$1-OFF(PAssion)</td><td>D</td><td>-0.9346</td><td>Take Away (TA)</td></tr><tr><th>5</th><td>504</td><td>3007</td><td>$1-OFF(PAssion)</td><td>D</td><td>-0.9346</td><td>Eat In (EI)</td></tr><tr><th>6</th><td>504</td><td>3007</td><td>$1-OFF(PAssion)</td><td>D</td><td>-0.9346</td><td>Eat In (EI)</td></tr><tr><th>7</th><td>504</td><td>3007</td><td>$1-OFF(PAssion)</td><td>D</td><td>0.9346</td><td>Eat In (EI)</td></tr><tr><th>8</th><td>504</td><td>3007</td><td>$1-OFF(PAssion)</td><td>D</td><td>-0.9346</td><td>Eat In (EI)</td></tr><tr><th>9</th><td>504</td><td>5010</td><td>10% OFF(LSM)</td><td>D</td><td>-0.9438</td><td>Eat In (EI)</td></tr><tr><th>10</th><td>504</td><td>8027</td><td>10% OFF GES DEAL</td><td>D</td><td>-2.243</td><td>Take Away (TA)</td></tr><tr><th>11</th><td>505</td><td>5016</td><td>10% OFF xFOOD PANDA</td><td>D</td><td>-1.0751</td><td>Eat In (EI)</td></tr><tr><th>12</th><td>505</td><td>5016</td><td>10% OFF xFOOD PANDA</td><td>D</td><td>-0.9813</td><td>Take Away (TA)</td></tr><tr><th>13</th><td>505</td><td>5010</td><td>10% OFF(LSM)</td><td>D</td><td>-0.7851</td><td>Drive-Thru</td></tr><tr><th>14</th><td>505</td><td>5010</td><td>10% OFF(LSM)</td><td>D</td><td>0.7851</td><td>Drive-Thru</td></tr><tr><th>15</th><td>505</td><td>3007</td><td>$1-OFF(PAssion)</td><td>D</td><td>-0.9346</td><td>Eat In (EI)</td></tr><tr><th>16</th><td>506</td><td>5016</td><td>10% OFF xFOOD PANDA</td><td>D</td><td>-0.5517</td><td>Breakfast (BF)</td></tr><tr><th>17</th><td>506</td><td>5016</td><td>10% OFF xFOOD PANDA</td><td>D</td><td>-0.4019</td><td>Breakfast (BF)</td></tr><tr><th>18</th><td>506</td><td>3007</td><td>$1-OFF(PAssion)</td><td>D</td><td>-0.9346</td><td>Eat In (EI)</td></tr><tr><th>19</th><td>506</td><td>3007</td><td>$1-OFF(PAssion)</td><td>D</td><td>-0.9346</td><td>Eat In (EI)</td></tr><tr><th>20</th><td>506</td><td>2000</td><td>25% EMP DISC</td><td>D</td><td>-3.6075</td><td>Eat In (EI)</td></tr><tr><th>21</th><td>506</td><td>3007</td><td>$1-OFF(PAssion)</td><td>D</td><td>-0.9346</td><td>Take Away (TA)</td></tr><tr><th>22</th><td>506</td><td>3007</td><td>$1-OFF(PAssion)</td><td>D</td><td>-0.9346</td><td>Eat In (EI)</td></tr><tr><th>23</th><td>506</td><td>3007</td><td>$1-OFF(PAssion)</td><td>D</td><td>-0.9346</td><td>Take Away (TA)</td></tr><tr><th>24</th><td>506</td><td>3007</td><td>$1-OFF(PAssion)</td><td>D</td><td>-0.9304</td><td>Take Away (TA)</td></tr><tr><th>25</th><td>506</td><td>5016</td><td>10% OFF xFOOD PANDA</td><td>D</td><td>-0.9816</td><td>Take Away (TA)</td></tr><tr><th>26</th><td>506</td><td>8027</td><td>10% OFF GES DEAL</td><td>D</td><td>-0.9346</td><td>Take Away (TA)</td></tr><tr><th>27</th><td>506</td><td>3007</td><td>$1-OFF(PAssion)</td><td>D</td><td>-0.9346</td><td>Eat In (EI)</td></tr><tr><th>28</th><td>506</td><td>3007</td><td>$1-OFF(PAssion)</td><td>D</td><td>-0.9346</td><td>Eat In (EI)</td></tr><tr><th>29</th><td>506</td><td>3007</td><td>$1-OFF(PAssion)</td><td>D</td><td>-0.9346</td><td>Take Away (TA)</td></tr><tr><th>30</th><td>506</td><td>8027</td><td>10% OFF GES DEAL</td><td>D</td><td>-0.9719</td><td>Take Away (TA)</td></tr><tr><th>&vellip;</th><td>&vellip;</td><td>&vellip;</td><td>&vellip;</td><td>&vellip;</td><td>&vellip;</td><td>&vellip;</td></tr></tbody></table>"
      ],
      "text/latex": [
       "GroupedDataFrame with 3 groups based on key: transaction\\_type\n",
       "\n",
       "First Group (5214325 rows): transaction\\_type = \"M\"\n",
       "\n",
       "\\begin{tabular}{r|ccccccc}\n",
       "\t& storenum & item\\_key & item\\_description & transaction\\_type & sales\\_amount & sales\\_channel & \\\\\n",
       "\t\\hline\n",
       "\t& Int64 & Int64 & String & String & Float64 & String & \\\\\n",
       "\t\\hline\n",
       "\t1 & 502 & 916755 & D-10P CKN BKT & M & 26.9159 & Online-Delivery & $\\dots$ \\\\\n",
       "\t2 & 502 & 710033 & DEL SURCHARGE & M & 3.7383 & Online-Delivery & $\\dots$ \\\\\n",
       "\t3 & 502 & 700103 & D-3PC ML(OR) & M & 58.4112 & Phone-Delivery & $\\dots$ \\\\\n",
       "\t4 & 502 & 710033 & DEL SURCHARGE & M & 3.7383 & Phone-Delivery & $\\dots$ \\\\\n",
       "\t5 & 502 & 710009 & D-ZINGER & M & 10.9346 & Phone-Delivery & $\\dots$ \\\\\n",
       "\t6 & 502 & 700103 & D-3PC ML(OR) & M & 46.729 & Phone-Delivery & $\\dots$ \\\\\n",
       "\t7 & 502 & 710033 & DEL SURCHARGE & M & 3.7383 & Phone-Delivery & $\\dots$ \\\\\n",
       "\t8 & 502 & 922023 & D-10 FOR \\$10 & M & 9.3458 & Online-Delivery & $\\dots$ \\\\\n",
       "\t9 & 502 & 913618 & D-10P CKN 2-5PM & M & 16.8224 & Online-Delivery & $\\dots$ \\\\\n",
       "\t10 & 502 & 710033 & DEL SURCHARGE & M & 3.7383 & Online-Delivery & $\\dots$ \\\\\n",
       "\t11 & 502 & 916137 & D-FM POT BWL & M & 5.0 & Online-Delivery & $\\dots$ \\\\\n",
       "\t12 & 502 & 710018 & D-C/SL MED & M & 3.4579 & Online-Delivery & $\\dots$ \\\\\n",
       "\t13 & 502 & 710021 & D-W/PT MED & M & 3.4579 & Online-Delivery & $\\dots$ \\\\\n",
       "\t14 & 502 & 919893 & D-8P FOR \\$15 & M & 14.0187 & Online-Delivery & $\\dots$ \\\\\n",
       "\t15 & 502 & 710033 & DEL SURCHARGE & M & 3.7383 & Online-Delivery & $\\dots$ \\\\\n",
       "\t16 & 502 & 913961 & D-8P VRTY FEAST & M & 38.271 & Online-Delivery & $\\dots$ \\\\\n",
       "\t17 & 502 & 710033 & DEL SURCHARGE & M & 3.7383 & Online-Delivery & $\\dots$ \\\\\n",
       "\t18 & 502 & 921466 & D-2P CKN BX & M & 39.2523 & Online-Delivery & $\\dots$ \\\\\n",
       "\t19 & 502 & 921466 & D-2P CKN BX & M & 39.2523 & Online-Delivery & $\\dots$ \\\\\n",
       "\t20 & 502 & 921466 & D-2P CKN BX & M & 29.4393 & Online-Delivery & $\\dots$ \\\\\n",
       "\t21 & 502 & 710033 & DEL SURCHARGE & M & 3.7383 & Online-Delivery & $\\dots$ \\\\\n",
       "\t22 & 502 & 913299 & D-AO 2 CHZ FRIES-APP & M & 5.6075 & Online-Delivery & $\\dots$ \\\\\n",
       "\t23 & 502 & 922023 & D-10 FOR \\$10 & M & 9.3458 & Online-Delivery & $\\dots$ \\\\\n",
       "\t24 & 502 & 710033 & DEL SURCHARGE & M & 3.7383 & Online-Delivery & $\\dots$ \\\\\n",
       "\t25 & 502 & 921474 & D-ZNGBX+2P CKN BX & M & 15.1402 & Online-Delivery & $\\dots$ \\\\\n",
       "\t26 & 502 & 916131 & D-1P CRY BWL ML & M & 7.9907 & Online-Delivery & $\\dots$ \\\\\n",
       "\t27 & 502 & 912754 & D-1P ZNG BOX & M & 10.2336 & Online-Delivery & $\\dots$ \\\\\n",
       "\t28 & 502 & 710033 & DEL SURCHARGE & M & 3.7383 & Online-Delivery & $\\dots$ \\\\\n",
       "\t29 & 502 & 916759 & D-ALA SNACK N SHARE BX   & M & 12.1028 & Online-Delivery & $\\dots$ \\\\\n",
       "\t30 & 502 & 922023 & D-10 FOR \\$10 & M & 9.3458 & Online-Delivery & $\\dots$ \\\\\n",
       "\t$\\dots$ & $\\dots$ & $\\dots$ & $\\dots$ & $\\dots$ & $\\dots$ & $\\dots$ &  \\\\\n",
       "\\end{tabular}\n",
       "\n",
       "$\\dots$\n",
       "\n",
       "Last Group (12833 rows): transaction\\_type = \"D\"\n",
       "\n",
       "\\begin{tabular}{r|ccccccc}\n",
       "\t& storenum & item\\_key & item\\_description & transaction\\_type & sales\\_amount & sales\\_channel & \\\\\n",
       "\t\\hline\n",
       "\t& Int64 & Int64 & String & String & Float64 & String & \\\\\n",
       "\t\\hline\n",
       "\t1 & 502 & 2000 & 25\\% EMP DISC & D & -1.9626 & Drive-Thru & $\\dots$ \\\\\n",
       "\t2 & 502 & 3007 & \\$1-OFF(PAssion) & D & -0.9346 & Eat In (EI) & $\\dots$ \\\\\n",
       "\t3 & 502 & 8027 & 10\\% OFF GES DEAL & D & -1.8131 & Eat In (EI) & $\\dots$ \\\\\n",
       "\t4 & 502 & 3007 & \\$1-OFF(PAssion) & D & -0.9346 & Take Away (TA) & $\\dots$ \\\\\n",
       "\t5 & 504 & 3007 & \\$1-OFF(PAssion) & D & -0.9346 & Eat In (EI) & $\\dots$ \\\\\n",
       "\t6 & 504 & 3007 & \\$1-OFF(PAssion) & D & -0.9346 & Eat In (EI) & $\\dots$ \\\\\n",
       "\t7 & 504 & 3007 & \\$1-OFF(PAssion) & D & 0.9346 & Eat In (EI) & $\\dots$ \\\\\n",
       "\t8 & 504 & 3007 & \\$1-OFF(PAssion) & D & -0.9346 & Eat In (EI) & $\\dots$ \\\\\n",
       "\t9 & 504 & 5010 & 10\\% OFF(LSM) & D & -0.9438 & Eat In (EI) & $\\dots$ \\\\\n",
       "\t10 & 504 & 8027 & 10\\% OFF GES DEAL & D & -2.243 & Take Away (TA) & $\\dots$ \\\\\n",
       "\t11 & 505 & 5016 & 10\\% OFF xFOOD PANDA & D & -1.0751 & Eat In (EI) & $\\dots$ \\\\\n",
       "\t12 & 505 & 5016 & 10\\% OFF xFOOD PANDA & D & -0.9813 & Take Away (TA) & $\\dots$ \\\\\n",
       "\t13 & 505 & 5010 & 10\\% OFF(LSM) & D & -0.7851 & Drive-Thru & $\\dots$ \\\\\n",
       "\t14 & 505 & 5010 & 10\\% OFF(LSM) & D & 0.7851 & Drive-Thru & $\\dots$ \\\\\n",
       "\t15 & 505 & 3007 & \\$1-OFF(PAssion) & D & -0.9346 & Eat In (EI) & $\\dots$ \\\\\n",
       "\t16 & 506 & 5016 & 10\\% OFF xFOOD PANDA & D & -0.5517 & Breakfast (BF) & $\\dots$ \\\\\n",
       "\t17 & 506 & 5016 & 10\\% OFF xFOOD PANDA & D & -0.4019 & Breakfast (BF) & $\\dots$ \\\\\n",
       "\t18 & 506 & 3007 & \\$1-OFF(PAssion) & D & -0.9346 & Eat In (EI) & $\\dots$ \\\\\n",
       "\t19 & 506 & 3007 & \\$1-OFF(PAssion) & D & -0.9346 & Eat In (EI) & $\\dots$ \\\\\n",
       "\t20 & 506 & 2000 & 25\\% EMP DISC & D & -3.6075 & Eat In (EI) & $\\dots$ \\\\\n",
       "\t21 & 506 & 3007 & \\$1-OFF(PAssion) & D & -0.9346 & Take Away (TA) & $\\dots$ \\\\\n",
       "\t22 & 506 & 3007 & \\$1-OFF(PAssion) & D & -0.9346 & Eat In (EI) & $\\dots$ \\\\\n",
       "\t23 & 506 & 3007 & \\$1-OFF(PAssion) & D & -0.9346 & Take Away (TA) & $\\dots$ \\\\\n",
       "\t24 & 506 & 3007 & \\$1-OFF(PAssion) & D & -0.9304 & Take Away (TA) & $\\dots$ \\\\\n",
       "\t25 & 506 & 5016 & 10\\% OFF xFOOD PANDA & D & -0.9816 & Take Away (TA) & $\\dots$ \\\\\n",
       "\t26 & 506 & 8027 & 10\\% OFF GES DEAL & D & -0.9346 & Take Away (TA) & $\\dots$ \\\\\n",
       "\t27 & 506 & 3007 & \\$1-OFF(PAssion) & D & -0.9346 & Eat In (EI) & $\\dots$ \\\\\n",
       "\t28 & 506 & 3007 & \\$1-OFF(PAssion) & D & -0.9346 & Eat In (EI) & $\\dots$ \\\\\n",
       "\t29 & 506 & 3007 & \\$1-OFF(PAssion) & D & -0.9346 & Take Away (TA) & $\\dots$ \\\\\n",
       "\t30 & 506 & 8027 & 10\\% OFF GES DEAL & D & -0.9719 & Take Away (TA) & $\\dots$ \\\\\n",
       "\t$\\dots$ & $\\dots$ & $\\dots$ & $\\dots$ & $\\dots$ & $\\dots$ & $\\dots$ &  \\\\\n",
       "\\end{tabular}\n"
      ],
      "text/plain": [
       "GroupedDataFrame with 3 groups based on key: transaction_type\n",
       "First Group (5214325 rows): transaction_type = \"M\"\n",
       "\u001b[1m     Row \u001b[0m│\u001b[1m storenum \u001b[0m\u001b[1m item_key \u001b[0m\u001b[1m item_description \u001b[0m\u001b[1m transaction_type \u001b[0m\u001b[1m sales_amoun\u001b[0m ⋯\n",
       "\u001b[1m         \u001b[0m│\u001b[90m Int64    \u001b[0m\u001b[90m Int64    \u001b[0m\u001b[90m String           \u001b[0m\u001b[90m String           \u001b[0m\u001b[90m Float64    \u001b[0m ⋯\n",
       "─────────┼──────────────────────────────────────────────────────────────────────\n",
       "       1 │      502    916755  D-10P CKN BKT     M                      26.915 ⋯\n",
       "       2 │      502    710033  DEL SURCHARGE     M                       3.738\n",
       "       3 │      502    700103  D-3PC ML(OR)      M                      58.411\n",
       "       4 │      502    710033  DEL SURCHARGE     M                       3.738\n",
       "       5 │      502    710009  D-ZINGER          M                      10.934 ⋯\n",
       "       6 │      502    700103  D-3PC ML(OR)      M                      46.729\n",
       "       7 │      502    710033  DEL SURCHARGE     M                       3.738\n",
       "       8 │      502    922023  D-10 FOR $10      M                       9.345\n",
       "       9 │      502    913618  D-10P CKN 2-5PM   M                      16.822 ⋯\n",
       "      10 │      502    710033  DEL SURCHARGE     M                       3.738\n",
       "      11 │      502    916137  D-FM POT BWL      M                       5.0\n",
       "    ⋮    │    ⋮         ⋮             ⋮                 ⋮               ⋮      ⋱\n",
       " 5214315 │      670    200006  RT BEER -M        M                       2.757\n",
       " 5214316 │      670    921046  5P ACB 30%        M                       9.626 ⋯\n",
       " 5214317 │      670    922204  ZNG+SJ-R          M                       0.934\n",
       " 5214318 │      670    921048  15P ACB 30%       M                      25.420\n",
       " 5214319 │      670    922110  2P(TG) ML         M                       8.364\n",
       " 5214320 │      670    450011  RWP>CF            M                       2.056 ⋯\n",
       " 5214321 │      670    914357  1P EGG TART       M                       1.215\n",
       " 5214322 │      670    912781  1 OR ZNG BX       M                       8.551\n",
       " 5214323 │      670    450046  RFF>CFRIES        M                       1.869\n",
       " 5214324 │      670    914357  1P EGG TART       M                       1.215 ⋯\n",
       " 5214325 │      670    921046  5P ACB 30%        M                       9.626\n",
       "\u001b[36m                                              7 columns and 5214303 rows omitted\u001b[0m\n",
       "⋮\n",
       "Last Group (12833 rows): transaction_type = \"D\"\n",
       "\u001b[1m   Row \u001b[0m│\u001b[1m storenum \u001b[0m\u001b[1m item_key \u001b[0m\u001b[1m item_description    \u001b[0m\u001b[1m transaction_type \u001b[0m\u001b[1m sales_amou\u001b[0m ⋯\n",
       "\u001b[1m       \u001b[0m│\u001b[90m Int64    \u001b[0m\u001b[90m Int64    \u001b[0m\u001b[90m String              \u001b[0m\u001b[90m String           \u001b[0m\u001b[90m Float64   \u001b[0m ⋯\n",
       "───────┼────────────────────────────────────────────────────────────────────────\n",
       "     1 │      502      2000  25% EMP DISC         D                      -1.96 ⋯\n",
       "     2 │      502      3007  $1-OFF(PAssion)      D                      -0.93\n",
       "     3 │      502      8027  10% OFF GES DEAL     D                      -1.81\n",
       "     4 │      502      3007  $1-OFF(PAssion)      D                      -0.93\n",
       "     5 │      504      3007  $1-OFF(PAssion)      D                      -0.93 ⋯\n",
       "     6 │      504      3007  $1-OFF(PAssion)      D                      -0.93\n",
       "     7 │      504      3007  $1-OFF(PAssion)      D                       0.93\n",
       "     8 │      504      3007  $1-OFF(PAssion)      D                      -0.93\n",
       "     9 │      504      5010  10% OFF(LSM)         D                      -0.94 ⋯\n",
       "    10 │      504      8027  10% OFF GES DEAL     D                      -2.24\n",
       "    11 │      505      5016  10% OFF xFOOD PANDA  D                      -1.07\n",
       "   ⋮   │    ⋮         ⋮               ⋮                  ⋮               ⋮     ⋱\n",
       " 12823 │      660      8027  10% OFF GES DEAL     D                      -0.46\n",
       " 12824 │      660      8027  10% OFF GES DEAL     D                      -1.66 ⋯\n",
       " 12825 │      664      3007  $1-OFF(PAssion)      D                      -0.93\n",
       " 12826 │      664      3007  $1-OFF(PAssion)      D                      -0.93\n",
       " 12827 │      664      8027  10% OFF GES DEAL     D                      -0.60\n",
       " 12828 │      665      3007  $1-OFF(PAssion)      D                      -0.93 ⋯\n",
       " 12829 │      665      3007  $1-OFF(PAssion)      D                      -0.93\n",
       " 12830 │      665      5010  10% OFF(LSM)         D                      -0.46\n",
       " 12831 │      666      3007  $1-OFF(PAssion)      D                      -0.93\n",
       " 12832 │      670      8027  10% OFF GES DEAL     D                      -0.78 ⋯\n",
       " 12833 │      670      8027  10% OFF GES DEAL     D                      -0.32\n",
       "\u001b[36m                                                7 columns and 12811 rows omitted\u001b[0m"
      ]
     },
     "execution_count": 4,
     "metadata": {},
     "output_type": "execute_result"
    }
   ],
   "source": [
    "grp = groupby(df,:transaction_type)"
   ]
  },
  {
   "cell_type": "code",
   "execution_count": 5,
   "metadata": {
    "scrolled": true
   },
   "outputs": [
    {
     "data": {
      "text/html": [
       "<table class=\"data-frame\"><thead><tr><th></th><th>storenum</th><th>item_key</th><th>item_description</th><th>transaction_type</th><th>sales_amount</th><th>sales_channel</th></tr><tr><th></th><th>Int64</th><th>Int64</th><th>String</th><th>String</th><th>Float64</th><th>String</th></tr></thead><tbody><p>5,214,325 rows × 11 columns (omitted printing of 5 columns)</p><tr><th>1</th><td>502</td><td>916755</td><td>D-10P CKN BKT</td><td>M</td><td>26.9159</td><td>Online-Delivery</td></tr><tr><th>2</th><td>502</td><td>710033</td><td>DEL SURCHARGE</td><td>M</td><td>3.7383</td><td>Online-Delivery</td></tr><tr><th>3</th><td>502</td><td>700103</td><td>D-3PC ML(OR)</td><td>M</td><td>58.4112</td><td>Phone-Delivery</td></tr><tr><th>4</th><td>502</td><td>710033</td><td>DEL SURCHARGE</td><td>M</td><td>3.7383</td><td>Phone-Delivery</td></tr><tr><th>5</th><td>502</td><td>710009</td><td>D-ZINGER</td><td>M</td><td>10.9346</td><td>Phone-Delivery</td></tr><tr><th>6</th><td>502</td><td>700103</td><td>D-3PC ML(OR)</td><td>M</td><td>46.729</td><td>Phone-Delivery</td></tr><tr><th>7</th><td>502</td><td>710033</td><td>DEL SURCHARGE</td><td>M</td><td>3.7383</td><td>Phone-Delivery</td></tr><tr><th>8</th><td>502</td><td>922023</td><td>D-10 FOR $10</td><td>M</td><td>9.3458</td><td>Online-Delivery</td></tr><tr><th>9</th><td>502</td><td>913618</td><td>D-10P CKN 2-5PM</td><td>M</td><td>16.8224</td><td>Online-Delivery</td></tr><tr><th>10</th><td>502</td><td>710033</td><td>DEL SURCHARGE</td><td>M</td><td>3.7383</td><td>Online-Delivery</td></tr><tr><th>11</th><td>502</td><td>916137</td><td>D-FM POT BWL</td><td>M</td><td>5.0</td><td>Online-Delivery</td></tr><tr><th>12</th><td>502</td><td>710018</td><td>D-C/SL MED</td><td>M</td><td>3.4579</td><td>Online-Delivery</td></tr><tr><th>13</th><td>502</td><td>710021</td><td>D-W/PT MED</td><td>M</td><td>3.4579</td><td>Online-Delivery</td></tr><tr><th>14</th><td>502</td><td>919893</td><td>D-8P FOR $15</td><td>M</td><td>14.0187</td><td>Online-Delivery</td></tr><tr><th>15</th><td>502</td><td>710033</td><td>DEL SURCHARGE</td><td>M</td><td>3.7383</td><td>Online-Delivery</td></tr><tr><th>16</th><td>502</td><td>913961</td><td>D-8P VRTY FEAST</td><td>M</td><td>38.271</td><td>Online-Delivery</td></tr><tr><th>17</th><td>502</td><td>710033</td><td>DEL SURCHARGE</td><td>M</td><td>3.7383</td><td>Online-Delivery</td></tr><tr><th>18</th><td>502</td><td>921466</td><td>D-2P CKN BX</td><td>M</td><td>39.2523</td><td>Online-Delivery</td></tr><tr><th>19</th><td>502</td><td>921466</td><td>D-2P CKN BX</td><td>M</td><td>39.2523</td><td>Online-Delivery</td></tr><tr><th>20</th><td>502</td><td>921466</td><td>D-2P CKN BX</td><td>M</td><td>29.4393</td><td>Online-Delivery</td></tr><tr><th>21</th><td>502</td><td>710033</td><td>DEL SURCHARGE</td><td>M</td><td>3.7383</td><td>Online-Delivery</td></tr><tr><th>22</th><td>502</td><td>913299</td><td>D-AO 2 CHZ FRIES-APP</td><td>M</td><td>5.6075</td><td>Online-Delivery</td></tr><tr><th>23</th><td>502</td><td>922023</td><td>D-10 FOR $10</td><td>M</td><td>9.3458</td><td>Online-Delivery</td></tr><tr><th>24</th><td>502</td><td>710033</td><td>DEL SURCHARGE</td><td>M</td><td>3.7383</td><td>Online-Delivery</td></tr><tr><th>25</th><td>502</td><td>921474</td><td>D-ZNGBX+2P CKN BX</td><td>M</td><td>15.1402</td><td>Online-Delivery</td></tr><tr><th>26</th><td>502</td><td>916131</td><td>D-1P CRY BWL ML</td><td>M</td><td>7.9907</td><td>Online-Delivery</td></tr><tr><th>27</th><td>502</td><td>912754</td><td>D-1P ZNG BOX</td><td>M</td><td>10.2336</td><td>Online-Delivery</td></tr><tr><th>28</th><td>502</td><td>710033</td><td>DEL SURCHARGE</td><td>M</td><td>3.7383</td><td>Online-Delivery</td></tr><tr><th>29</th><td>502</td><td>916759</td><td>D-ALA SNACK N SHARE BX  </td><td>M</td><td>12.1028</td><td>Online-Delivery</td></tr><tr><th>30</th><td>502</td><td>922023</td><td>D-10 FOR $10</td><td>M</td><td>9.3458</td><td>Online-Delivery</td></tr><tr><th>&vellip;</th><td>&vellip;</td><td>&vellip;</td><td>&vellip;</td><td>&vellip;</td><td>&vellip;</td><td>&vellip;</td></tr></tbody></table>"
      ],
      "text/latex": [
       "\\begin{tabular}{r|ccccccc}\n",
       "\t& storenum & item\\_key & item\\_description & transaction\\_type & sales\\_amount & sales\\_channel & \\\\\n",
       "\t\\hline\n",
       "\t& Int64 & Int64 & String & String & Float64 & String & \\\\\n",
       "\t\\hline\n",
       "\t1 & 502 & 916755 & D-10P CKN BKT & M & 26.9159 & Online-Delivery & $\\dots$ \\\\\n",
       "\t2 & 502 & 710033 & DEL SURCHARGE & M & 3.7383 & Online-Delivery & $\\dots$ \\\\\n",
       "\t3 & 502 & 700103 & D-3PC ML(OR) & M & 58.4112 & Phone-Delivery & $\\dots$ \\\\\n",
       "\t4 & 502 & 710033 & DEL SURCHARGE & M & 3.7383 & Phone-Delivery & $\\dots$ \\\\\n",
       "\t5 & 502 & 710009 & D-ZINGER & M & 10.9346 & Phone-Delivery & $\\dots$ \\\\\n",
       "\t6 & 502 & 700103 & D-3PC ML(OR) & M & 46.729 & Phone-Delivery & $\\dots$ \\\\\n",
       "\t7 & 502 & 710033 & DEL SURCHARGE & M & 3.7383 & Phone-Delivery & $\\dots$ \\\\\n",
       "\t8 & 502 & 922023 & D-10 FOR \\$10 & M & 9.3458 & Online-Delivery & $\\dots$ \\\\\n",
       "\t9 & 502 & 913618 & D-10P CKN 2-5PM & M & 16.8224 & Online-Delivery & $\\dots$ \\\\\n",
       "\t10 & 502 & 710033 & DEL SURCHARGE & M & 3.7383 & Online-Delivery & $\\dots$ \\\\\n",
       "\t11 & 502 & 916137 & D-FM POT BWL & M & 5.0 & Online-Delivery & $\\dots$ \\\\\n",
       "\t12 & 502 & 710018 & D-C/SL MED & M & 3.4579 & Online-Delivery & $\\dots$ \\\\\n",
       "\t13 & 502 & 710021 & D-W/PT MED & M & 3.4579 & Online-Delivery & $\\dots$ \\\\\n",
       "\t14 & 502 & 919893 & D-8P FOR \\$15 & M & 14.0187 & Online-Delivery & $\\dots$ \\\\\n",
       "\t15 & 502 & 710033 & DEL SURCHARGE & M & 3.7383 & Online-Delivery & $\\dots$ \\\\\n",
       "\t16 & 502 & 913961 & D-8P VRTY FEAST & M & 38.271 & Online-Delivery & $\\dots$ \\\\\n",
       "\t17 & 502 & 710033 & DEL SURCHARGE & M & 3.7383 & Online-Delivery & $\\dots$ \\\\\n",
       "\t18 & 502 & 921466 & D-2P CKN BX & M & 39.2523 & Online-Delivery & $\\dots$ \\\\\n",
       "\t19 & 502 & 921466 & D-2P CKN BX & M & 39.2523 & Online-Delivery & $\\dots$ \\\\\n",
       "\t20 & 502 & 921466 & D-2P CKN BX & M & 29.4393 & Online-Delivery & $\\dots$ \\\\\n",
       "\t21 & 502 & 710033 & DEL SURCHARGE & M & 3.7383 & Online-Delivery & $\\dots$ \\\\\n",
       "\t22 & 502 & 913299 & D-AO 2 CHZ FRIES-APP & M & 5.6075 & Online-Delivery & $\\dots$ \\\\\n",
       "\t23 & 502 & 922023 & D-10 FOR \\$10 & M & 9.3458 & Online-Delivery & $\\dots$ \\\\\n",
       "\t24 & 502 & 710033 & DEL SURCHARGE & M & 3.7383 & Online-Delivery & $\\dots$ \\\\\n",
       "\t25 & 502 & 921474 & D-ZNGBX+2P CKN BX & M & 15.1402 & Online-Delivery & $\\dots$ \\\\\n",
       "\t26 & 502 & 916131 & D-1P CRY BWL ML & M & 7.9907 & Online-Delivery & $\\dots$ \\\\\n",
       "\t27 & 502 & 912754 & D-1P ZNG BOX & M & 10.2336 & Online-Delivery & $\\dots$ \\\\\n",
       "\t28 & 502 & 710033 & DEL SURCHARGE & M & 3.7383 & Online-Delivery & $\\dots$ \\\\\n",
       "\t29 & 502 & 916759 & D-ALA SNACK N SHARE BX   & M & 12.1028 & Online-Delivery & $\\dots$ \\\\\n",
       "\t30 & 502 & 922023 & D-10 FOR \\$10 & M & 9.3458 & Online-Delivery & $\\dots$ \\\\\n",
       "\t$\\dots$ & $\\dots$ & $\\dots$ & $\\dots$ & $\\dots$ & $\\dots$ & $\\dots$ &  \\\\\n",
       "\\end{tabular}\n"
      ],
      "text/plain": [
       "\u001b[1m5214325×11 SubDataFrame\u001b[0m\n",
       "\u001b[1m     Row \u001b[0m│\u001b[1m storenum \u001b[0m\u001b[1m item_key \u001b[0m\u001b[1m item_description \u001b[0m\u001b[1m transaction_type \u001b[0m\u001b[1m sales_amoun\u001b[0m ⋯\n",
       "\u001b[1m         \u001b[0m│\u001b[90m Int64    \u001b[0m\u001b[90m Int64    \u001b[0m\u001b[90m String           \u001b[0m\u001b[90m String           \u001b[0m\u001b[90m Float64    \u001b[0m ⋯\n",
       "─────────┼──────────────────────────────────────────────────────────────────────\n",
       "       1 │      502    916755  D-10P CKN BKT     M                      26.915 ⋯\n",
       "       2 │      502    710033  DEL SURCHARGE     M                       3.738\n",
       "       3 │      502    700103  D-3PC ML(OR)      M                      58.411\n",
       "       4 │      502    710033  DEL SURCHARGE     M                       3.738\n",
       "       5 │      502    710009  D-ZINGER          M                      10.934 ⋯\n",
       "       6 │      502    700103  D-3PC ML(OR)      M                      46.729\n",
       "       7 │      502    710033  DEL SURCHARGE     M                       3.738\n",
       "       8 │      502    922023  D-10 FOR $10      M                       9.345\n",
       "       9 │      502    913618  D-10P CKN 2-5PM   M                      16.822 ⋯\n",
       "      10 │      502    710033  DEL SURCHARGE     M                       3.738\n",
       "      11 │      502    916137  D-FM POT BWL      M                       5.0\n",
       "    ⋮    │    ⋮         ⋮             ⋮                 ⋮               ⋮      ⋱\n",
       " 5214316 │      670    921046  5P ACB 30%        M                       9.626\n",
       " 5214317 │      670    922204  ZNG+SJ-R          M                       0.934 ⋯\n",
       " 5214318 │      670    921048  15P ACB 30%       M                      25.420\n",
       " 5214319 │      670    922110  2P(TG) ML         M                       8.364\n",
       " 5214320 │      670    450011  RWP>CF            M                       2.056\n",
       " 5214321 │      670    914357  1P EGG TART       M                       1.215 ⋯\n",
       " 5214322 │      670    912781  1 OR ZNG BX       M                       8.551\n",
       " 5214323 │      670    450046  RFF>CFRIES        M                       1.869\n",
       " 5214324 │      670    914357  1P EGG TART       M                       1.215\n",
       " 5214325 │      670    921046  5P ACB 30%        M                       9.626 ⋯\n",
       "\u001b[36m                                              7 columns and 5214304 rows omitted\u001b[0m"
      ]
     },
     "execution_count": 5,
     "metadata": {},
     "output_type": "execute_result"
    }
   ],
   "source": [
    "grp = grp[1]"
   ]
  },
  {
   "cell_type": "code",
   "execution_count": 6,
   "metadata": {
    "scrolled": true
   },
   "outputs": [
    {
     "data": {
      "text/html": [
       "<p><b>GroupedDataFrame with 1264699 groups based on key: store_transaction_key</b></p><p><i>First Group (2 rows): store_transaction_key = \"502_1724_2021-03-29\"</i></p><table class=\"data-frame\"><thead><tr><th></th><th>storenum</th><th>item_key</th><th>item_description</th><th>transaction_type</th><th>sales_amount</th><th>sales_channel</th></tr><tr><th></th><th>Int64</th><th>Int64</th><th>String</th><th>String</th><th>Float64</th><th>String</th></tr></thead><tbody><tr><th>1</th><td>502</td><td>916755</td><td>D-10P CKN BKT</td><td>M</td><td>26.9159</td><td>Online-Delivery</td></tr><tr><th>2</th><td>502</td><td>710033</td><td>DEL SURCHARGE</td><td>M</td><td>3.7383</td><td>Online-Delivery</td></tr></tbody></table><p>&vellip;</p><p><i>Last Group (1 row): store_transaction_key = \"670_5319_2021-05-07\"</i></p><table class=\"data-frame\"><thead><tr><th></th><th>storenum</th><th>item_key</th><th>item_description</th><th>transaction_type</th><th>sales_amount</th><th>sales_channel</th></tr><tr><th></th><th>Int64</th><th>Int64</th><th>String</th><th>String</th><th>Float64</th><th>String</th></tr></thead><tbody><tr><th>1</th><td>670</td><td>921046</td><td>5P ACB 30%</td><td>M</td><td>9.6262</td><td>Self-Ordering TA</td></tr></tbody></table>"
      ],
      "text/latex": [
       "GroupedDataFrame with 1264699 groups based on key: store\\_transaction\\_key\n",
       "\n",
       "First Group (2 rows): store\\_transaction\\_key = \"502\\_1724\\_2021-03-29\"\n",
       "\n",
       "\\begin{tabular}{r|ccccccc}\n",
       "\t& storenum & item\\_key & item\\_description & transaction\\_type & sales\\_amount & sales\\_channel & \\\\\n",
       "\t\\hline\n",
       "\t& Int64 & Int64 & String & String & Float64 & String & \\\\\n",
       "\t\\hline\n",
       "\t1 & 502 & 916755 & D-10P CKN BKT & M & 26.9159 & Online-Delivery & $\\dots$ \\\\\n",
       "\t2 & 502 & 710033 & DEL SURCHARGE & M & 3.7383 & Online-Delivery & $\\dots$ \\\\\n",
       "\\end{tabular}\n",
       "\n",
       "$\\dots$\n",
       "\n",
       "Last Group (1 row): store\\_transaction\\_key = \"670\\_5319\\_2021-05-07\"\n",
       "\n",
       "\\begin{tabular}{r|ccccccc}\n",
       "\t& storenum & item\\_key & item\\_description & transaction\\_type & sales\\_amount & sales\\_channel & \\\\\n",
       "\t\\hline\n",
       "\t& Int64 & Int64 & String & String & Float64 & String & \\\\\n",
       "\t\\hline\n",
       "\t1 & 670 & 921046 & 5P ACB 30\\% & M & 9.6262 & Self-Ordering TA & $\\dots$ \\\\\n",
       "\\end{tabular}\n"
      ],
      "text/plain": [
       "GroupedDataFrame with 1264699 groups based on key: store_transaction_key\n",
       "First Group (2 rows): store_transaction_key = \"502_1724_2021-03-29\"\n",
       "\u001b[1m Row \u001b[0m│\u001b[1m storenum \u001b[0m\u001b[1m item_key \u001b[0m\u001b[1m item_description \u001b[0m\u001b[1m transaction_type \u001b[0m\u001b[1m sales_amount \u001b[0m\u001b[1m s\u001b[0m ⋯\n",
       "\u001b[1m     \u001b[0m│\u001b[90m Int64    \u001b[0m\u001b[90m Int64    \u001b[0m\u001b[90m String           \u001b[0m\u001b[90m String           \u001b[0m\u001b[90m Float64      \u001b[0m\u001b[90m S\u001b[0m ⋯\n",
       "─────┼──────────────────────────────────────────────────────────────────────────\n",
       "   1 │      502    916755  D-10P CKN BKT     M                      26.9159  O ⋯\n",
       "   2 │      502    710033  DEL SURCHARGE     M                       3.7383  O\n",
       "\u001b[36m                                                               6 columns omitted\u001b[0m\n",
       "⋮\n",
       "Last Group (1 row): store_transaction_key = \"670_5319_2021-05-07\"\n",
       "\u001b[1m Row \u001b[0m│\u001b[1m storenum \u001b[0m\u001b[1m item_key \u001b[0m\u001b[1m item_description \u001b[0m\u001b[1m transaction_type \u001b[0m\u001b[1m sales_amount \u001b[0m\u001b[1m s\u001b[0m ⋯\n",
       "\u001b[1m     \u001b[0m│\u001b[90m Int64    \u001b[0m\u001b[90m Int64    \u001b[0m\u001b[90m String           \u001b[0m\u001b[90m String           \u001b[0m\u001b[90m Float64      \u001b[0m\u001b[90m S\u001b[0m ⋯\n",
       "─────┼──────────────────────────────────────────────────────────────────────────\n",
       "   1 │      670    921046  5P ACB 30%        M                       9.6262  S ⋯\n",
       "\u001b[36m                                                               6 columns omitted\u001b[0m"
      ]
     },
     "execution_count": 6,
     "metadata": {},
     "output_type": "execute_result"
    }
   ],
   "source": [
    "gdf = groupby(grp,:store_transaction_key)"
   ]
  },
  {
   "cell_type": "code",
   "execution_count": 7,
   "metadata": {
    "scrolled": true
   },
   "outputs": [
    {
     "data": {
      "text/html": [
       "<table class=\"data-frame\"><thead><tr><th></th><th>store_transaction_key</th><th>sales_amount_sum</th></tr><tr><th></th><th>String</th><th>Float64</th></tr></thead><tbody><p>1,264,699 rows × 2 columns</p><tr><th>1</th><td>502_1724_2021-03-29</td><td>30.6542</td></tr><tr><th>2</th><td>502_1725_2021-03-29</td><td>62.1495</td></tr><tr><th>3</th><td>502_1726_2021-03-29</td><td>61.4019</td></tr><tr><th>4</th><td>502_1727_2021-03-29</td><td>29.9065</td></tr><tr><th>5</th><td>502_1728_2021-03-29</td><td>29.6728</td></tr><tr><th>6</th><td>502_1729_2021-03-29</td><td>42.0093</td></tr><tr><th>7</th><td>502_1730_2021-03-29</td><td>111.682</td></tr><tr><th>8</th><td>502_1731_2021-03-29</td><td>18.6916</td></tr><tr><th>9</th><td>502_1732_2021-03-29</td><td>37.1028</td></tr><tr><th>10</th><td>502_1733_2021-03-29</td><td>25.1869</td></tr><tr><th>11</th><td>502_1734_2021-03-29</td><td>17.0094</td></tr><tr><th>12</th><td>502_1735_2021-03-29</td><td>24.7664</td></tr><tr><th>13</th><td>502_1736_2021-03-29</td><td>18.8785</td></tr><tr><th>14</th><td>502_1737_2021-03-29</td><td>18.6916</td></tr><tr><th>15</th><td>502_1738_2021-03-29</td><td>183.037</td></tr><tr><th>16</th><td>502_1739_2021-03-29</td><td>41.1682</td></tr><tr><th>17</th><td>502_1740_2021-03-29</td><td>34.3925</td></tr><tr><th>18</th><td>502_1741_2021-03-29</td><td>59.7195</td></tr><tr><th>19</th><td>502_1742_2021-03-29</td><td>26.1682</td></tr><tr><th>20</th><td>502_1743_2021-03-29</td><td>20.5607</td></tr><tr><th>21</th><td>502_1744_2021-03-29</td><td>18.6916</td></tr><tr><th>22</th><td>502_1745_2021-03-29</td><td>37.0562</td></tr><tr><th>23</th><td>502_1746_2021-03-29</td><td>27.2429</td></tr><tr><th>24</th><td>502_1747_2021-03-29</td><td>57.1029</td></tr><tr><th>25</th><td>502_1748_2021-03-29</td><td>18.6916</td></tr><tr><th>26</th><td>502_1749_2021-03-29</td><td>35.7009</td></tr><tr><th>27</th><td>502_1750_2021-03-29</td><td>41.9159</td></tr><tr><th>28</th><td>502_1751_2021-03-29</td><td>30.6542</td></tr><tr><th>29</th><td>502_1752_2021-03-29</td><td>44.486</td></tr><tr><th>30</th><td>502_1753_2021-03-29</td><td>21.2149</td></tr><tr><th>&vellip;</th><td>&vellip;</td><td>&vellip;</td></tr></tbody></table>"
      ],
      "text/latex": [
       "\\begin{tabular}{r|cc}\n",
       "\t& store\\_transaction\\_key & sales\\_amount\\_sum\\\\\n",
       "\t\\hline\n",
       "\t& String & Float64\\\\\n",
       "\t\\hline\n",
       "\t1 & 502\\_1724\\_2021-03-29 & 30.6542 \\\\\n",
       "\t2 & 502\\_1725\\_2021-03-29 & 62.1495 \\\\\n",
       "\t3 & 502\\_1726\\_2021-03-29 & 61.4019 \\\\\n",
       "\t4 & 502\\_1727\\_2021-03-29 & 29.9065 \\\\\n",
       "\t5 & 502\\_1728\\_2021-03-29 & 29.6728 \\\\\n",
       "\t6 & 502\\_1729\\_2021-03-29 & 42.0093 \\\\\n",
       "\t7 & 502\\_1730\\_2021-03-29 & 111.682 \\\\\n",
       "\t8 & 502\\_1731\\_2021-03-29 & 18.6916 \\\\\n",
       "\t9 & 502\\_1732\\_2021-03-29 & 37.1028 \\\\\n",
       "\t10 & 502\\_1733\\_2021-03-29 & 25.1869 \\\\\n",
       "\t11 & 502\\_1734\\_2021-03-29 & 17.0094 \\\\\n",
       "\t12 & 502\\_1735\\_2021-03-29 & 24.7664 \\\\\n",
       "\t13 & 502\\_1736\\_2021-03-29 & 18.8785 \\\\\n",
       "\t14 & 502\\_1737\\_2021-03-29 & 18.6916 \\\\\n",
       "\t15 & 502\\_1738\\_2021-03-29 & 183.037 \\\\\n",
       "\t16 & 502\\_1739\\_2021-03-29 & 41.1682 \\\\\n",
       "\t17 & 502\\_1740\\_2021-03-29 & 34.3925 \\\\\n",
       "\t18 & 502\\_1741\\_2021-03-29 & 59.7195 \\\\\n",
       "\t19 & 502\\_1742\\_2021-03-29 & 26.1682 \\\\\n",
       "\t20 & 502\\_1743\\_2021-03-29 & 20.5607 \\\\\n",
       "\t21 & 502\\_1744\\_2021-03-29 & 18.6916 \\\\\n",
       "\t22 & 502\\_1745\\_2021-03-29 & 37.0562 \\\\\n",
       "\t23 & 502\\_1746\\_2021-03-29 & 27.2429 \\\\\n",
       "\t24 & 502\\_1747\\_2021-03-29 & 57.1029 \\\\\n",
       "\t25 & 502\\_1748\\_2021-03-29 & 18.6916 \\\\\n",
       "\t26 & 502\\_1749\\_2021-03-29 & 35.7009 \\\\\n",
       "\t27 & 502\\_1750\\_2021-03-29 & 41.9159 \\\\\n",
       "\t28 & 502\\_1751\\_2021-03-29 & 30.6542 \\\\\n",
       "\t29 & 502\\_1752\\_2021-03-29 & 44.486 \\\\\n",
       "\t30 & 502\\_1753\\_2021-03-29 & 21.2149 \\\\\n",
       "\t$\\dots$ & $\\dots$ & $\\dots$ \\\\\n",
       "\\end{tabular}\n"
      ],
      "text/plain": [
       "\u001b[1m1264699×2 DataFrame\u001b[0m\n",
       "\u001b[1m     Row \u001b[0m│\u001b[1m store_transaction_key \u001b[0m\u001b[1m sales_amount_sum \u001b[0m\n",
       "\u001b[1m         \u001b[0m│\u001b[90m String                \u001b[0m\u001b[90m Float64          \u001b[0m\n",
       "─────────┼─────────────────────────────────────────\n",
       "       1 │ 502_1724_2021-03-29             30.6542\n",
       "       2 │ 502_1725_2021-03-29             62.1495\n",
       "       3 │ 502_1726_2021-03-29             61.4019\n",
       "       4 │ 502_1727_2021-03-29             29.9065\n",
       "       5 │ 502_1728_2021-03-29             29.6728\n",
       "       6 │ 502_1729_2021-03-29             42.0093\n",
       "       7 │ 502_1730_2021-03-29            111.682\n",
       "       8 │ 502_1731_2021-03-29             18.6916\n",
       "       9 │ 502_1732_2021-03-29             37.1028\n",
       "      10 │ 502_1733_2021-03-29             25.1869\n",
       "      11 │ 502_1734_2021-03-29             17.0094\n",
       "    ⋮    │           ⋮                   ⋮\n",
       " 1264690 │ 670_5310_2021-05-07              6.028\n",
       " 1264691 │ 670_5311_2021-05-07             14.3925\n",
       " 1264692 │ 670_5312_2021-05-07              3.972\n",
       " 1264693 │ 670_5313_2021-05-07             34.6729\n",
       " 1264694 │ 670_5314_2021-05-07              9.6262\n",
       " 1264695 │ 670_5315_2021-05-07              0.9346\n",
       " 1264696 │ 670_5316_2021-05-07             25.4206\n",
       " 1264697 │ 670_5317_2021-05-07             11.6356\n",
       " 1264698 │ 670_5318_2021-05-07             11.6356\n",
       " 1264699 │ 670_5319_2021-05-07              9.6262\n",
       "\u001b[36m                               1264678 rows omitted\u001b[0m"
      ]
     },
     "execution_count": 7,
     "metadata": {},
     "output_type": "execute_result"
    }
   ],
   "source": [
    "df1 = combine(gdf,:sales_amount =>sum)"
   ]
  },
  {
   "cell_type": "code",
   "execution_count": 8,
   "metadata": {},
   "outputs": [],
   "source": [
    "map_sales = Dict()\n",
    "\n",
    "for i in 1:length(df1.store_transaction_key)\n",
    "    map_sales[df1.store_transaction_key[i]] = df1.sales_amount_sum[i]\n",
    "end"
   ]
  },
  {
   "cell_type": "code",
   "execution_count": 44,
   "metadata": {
    "scrolled": true
   },
   "outputs": [
    {
     "data": {
      "text/html": [
       "<table class=\"data-frame\"><thead><tr><th></th><th>store_transaction_key</th><th>cluster</th></tr><tr><th></th><th>String</th><th>Int64</th></tr></thead><tbody><p>123,724 rows × 2 columns</p><tr><th>1</th><td>654_7284_2021-03-28</td><td>1</td></tr><tr><th>2</th><td>502_2004_2021-04-03</td><td>1</td></tr><tr><th>3</th><td>502_2005_2021-04-03</td><td>1</td></tr><tr><th>4</th><td>502_2006_2021-04-03</td><td>1</td></tr><tr><th>5</th><td>502_2007_2021-04-03</td><td>1</td></tr><tr><th>6</th><td>502_2008_2021-04-03</td><td>1</td></tr><tr><th>7</th><td>502_2009_2021-04-03</td><td>1</td></tr><tr><th>8</th><td>502_2010_2021-04-03</td><td>1</td></tr><tr><th>9</th><td>502_2011_2021-04-03</td><td>1</td></tr><tr><th>10</th><td>502_2012_2021-04-03</td><td>1</td></tr><tr><th>11</th><td>502_2013_2021-04-03</td><td>1</td></tr><tr><th>12</th><td>502_2014_2021-04-03</td><td>1</td></tr><tr><th>13</th><td>502_2015_2021-04-03</td><td>1</td></tr><tr><th>14</th><td>502_2016_2021-04-03</td><td>1</td></tr><tr><th>15</th><td>502_2017_2021-04-03</td><td>1</td></tr><tr><th>16</th><td>502_2018_2021-04-03</td><td>1</td></tr><tr><th>17</th><td>502_2019_2021-04-03</td><td>1</td></tr><tr><th>18</th><td>502_2020_2021-04-03</td><td>1</td></tr><tr><th>19</th><td>502_2021_2021-04-03</td><td>1</td></tr><tr><th>20</th><td>502_2022_2021-04-03</td><td>1</td></tr><tr><th>21</th><td>502_2023_2021-04-03</td><td>1</td></tr><tr><th>22</th><td>502_2024_2021-04-03</td><td>1</td></tr><tr><th>23</th><td>502_2025_2021-04-03</td><td>1</td></tr><tr><th>24</th><td>502_2026_2021-04-03</td><td>1</td></tr><tr><th>25</th><td>502_4181_2021-04-03</td><td>1</td></tr><tr><th>26</th><td>502_4182_2021-04-03</td><td>1</td></tr><tr><th>27</th><td>502_4183_2021-04-03</td><td>1</td></tr><tr><th>28</th><td>502_4184_2021-04-03</td><td>3</td></tr><tr><th>29</th><td>502_4185_2021-04-03</td><td>1</td></tr><tr><th>30</th><td>502_4186_2021-04-03</td><td>2</td></tr><tr><th>&vellip;</th><td>&vellip;</td><td>&vellip;</td></tr></tbody></table>"
      ],
      "text/latex": [
       "\\begin{tabular}{r|cc}\n",
       "\t& store\\_transaction\\_key & cluster\\\\\n",
       "\t\\hline\n",
       "\t& String & Int64\\\\\n",
       "\t\\hline\n",
       "\t1 & 654\\_7284\\_2021-03-28 & 1 \\\\\n",
       "\t2 & 502\\_2004\\_2021-04-03 & 1 \\\\\n",
       "\t3 & 502\\_2005\\_2021-04-03 & 1 \\\\\n",
       "\t4 & 502\\_2006\\_2021-04-03 & 1 \\\\\n",
       "\t5 & 502\\_2007\\_2021-04-03 & 1 \\\\\n",
       "\t6 & 502\\_2008\\_2021-04-03 & 1 \\\\\n",
       "\t7 & 502\\_2009\\_2021-04-03 & 1 \\\\\n",
       "\t8 & 502\\_2010\\_2021-04-03 & 1 \\\\\n",
       "\t9 & 502\\_2011\\_2021-04-03 & 1 \\\\\n",
       "\t10 & 502\\_2012\\_2021-04-03 & 1 \\\\\n",
       "\t11 & 502\\_2013\\_2021-04-03 & 1 \\\\\n",
       "\t12 & 502\\_2014\\_2021-04-03 & 1 \\\\\n",
       "\t13 & 502\\_2015\\_2021-04-03 & 1 \\\\\n",
       "\t14 & 502\\_2016\\_2021-04-03 & 1 \\\\\n",
       "\t15 & 502\\_2017\\_2021-04-03 & 1 \\\\\n",
       "\t16 & 502\\_2018\\_2021-04-03 & 1 \\\\\n",
       "\t17 & 502\\_2019\\_2021-04-03 & 1 \\\\\n",
       "\t18 & 502\\_2020\\_2021-04-03 & 1 \\\\\n",
       "\t19 & 502\\_2021\\_2021-04-03 & 1 \\\\\n",
       "\t20 & 502\\_2022\\_2021-04-03 & 1 \\\\\n",
       "\t21 & 502\\_2023\\_2021-04-03 & 1 \\\\\n",
       "\t22 & 502\\_2024\\_2021-04-03 & 1 \\\\\n",
       "\t23 & 502\\_2025\\_2021-04-03 & 1 \\\\\n",
       "\t24 & 502\\_2026\\_2021-04-03 & 1 \\\\\n",
       "\t25 & 502\\_4181\\_2021-04-03 & 1 \\\\\n",
       "\t26 & 502\\_4182\\_2021-04-03 & 1 \\\\\n",
       "\t27 & 502\\_4183\\_2021-04-03 & 1 \\\\\n",
       "\t28 & 502\\_4184\\_2021-04-03 & 3 \\\\\n",
       "\t29 & 502\\_4185\\_2021-04-03 & 1 \\\\\n",
       "\t30 & 502\\_4186\\_2021-04-03 & 2 \\\\\n",
       "\t$\\dots$ & $\\dots$ & $\\dots$ \\\\\n",
       "\\end{tabular}\n"
      ],
      "text/plain": [
       "\u001b[1m123724×2 DataFrame\u001b[0m\n",
       "\u001b[1m    Row \u001b[0m│\u001b[1m store_transaction_key \u001b[0m\u001b[1m cluster \u001b[0m\n",
       "\u001b[1m        \u001b[0m│\u001b[90m String                \u001b[0m\u001b[90m Int64   \u001b[0m\n",
       "────────┼────────────────────────────────\n",
       "      1 │ 654_7284_2021-03-28          1\n",
       "      2 │ 502_2004_2021-04-03          1\n",
       "      3 │ 502_2005_2021-04-03          1\n",
       "      4 │ 502_2006_2021-04-03          1\n",
       "      5 │ 502_2007_2021-04-03          1\n",
       "      6 │ 502_2008_2021-04-03          1\n",
       "      7 │ 502_2009_2021-04-03          1\n",
       "      8 │ 502_2010_2021-04-03          1\n",
       "      9 │ 502_2011_2021-04-03          1\n",
       "     10 │ 502_2012_2021-04-03          1\n",
       "     11 │ 502_2013_2021-04-03          1\n",
       "   ⋮    │           ⋮               ⋮\n",
       " 123715 │ 670_7725_2021-05-02          1\n",
       " 123716 │ 670_7726_2021-05-02          1\n",
       " 123717 │ 670_7727_2021-05-02          1\n",
       " 123718 │ 670_7732_2021-05-02          1\n",
       " 123719 │ 670_7733_2021-05-02          1\n",
       " 123720 │ 670_7734_2021-05-02          1\n",
       " 123721 │ 670_7735_2021-05-02          1\n",
       " 123722 │ 670_7736_2021-05-02          1\n",
       " 123723 │ 670_7737_2021-05-02          1\n",
       " 123724 │ 563_7599_2021-05-02          1\n",
       "\u001b[36m                      123703 rows omitted\u001b[0m"
      ]
     },
     "execution_count": 44,
     "metadata": {},
     "output_type": "execute_result"
    }
   ],
   "source": [
    "df = DataFrame(CSV.File(\"/home/vikas/Downloads/Breakfast_Weekday_Clusters.csv\"))"
   ]
  },
  {
   "cell_type": "code",
   "execution_count": 45,
   "metadata": {
    "scrolled": true
   },
   "outputs": [
    {
     "data": {
      "text/plain": [
       "123724-element Vector{Any}:\n",
       " 20.7945\n",
       " 19.5794\n",
       " 18.6448\n",
       " 17.6635\n",
       " 49.9532\n",
       " 41.1214\n",
       " 21.8691\n",
       " 33.5046\n",
       " 33.644800000000004\n",
       " 45.841100000000004\n",
       " 39.4391\n",
       " 39.3457\n",
       " 25.3272\n",
       "  ⋮\n",
       " 13.8784\n",
       " 22.0094\n",
       "  7.850499999999999\n",
       " 41.3084\n",
       " 17.1028\n",
       "  7.944000000000001\n",
       " 12.5234\n",
       "  0.9346\n",
       "  0.9346\n",
       "  0.9346\n",
       "  7.4299\n",
       "  0.0"
      ]
     },
     "execution_count": 45,
     "metadata": {},
     "output_type": "execute_result"
    }
   ],
   "source": [
    "sales_amount = []\n",
    "\n",
    "for i in 1:length(df.store_transaction_key)\n",
    "    push!(sales_amount,map_sales[df.store_transaction_key[i]])\n",
    "end\n",
    "\n",
    "df.sales_amount = sales_amount"
   ]
  },
  {
   "cell_type": "code",
   "execution_count": 46,
   "metadata": {
    "scrolled": true
   },
   "outputs": [
    {
     "data": {
      "text/html": [
       "<table class=\"data-frame\"><thead><tr><th></th><th>store_transaction_key</th><th>cluster</th><th>sales_amount</th></tr><tr><th></th><th>String</th><th>Int64</th><th>Any</th></tr></thead><tbody><p>123,724 rows × 3 columns</p><tr><th>1</th><td>654_7284_2021-03-28</td><td>1</td><td>20.7945</td></tr><tr><th>2</th><td>502_2004_2021-04-03</td><td>1</td><td>19.5794</td></tr><tr><th>3</th><td>502_2005_2021-04-03</td><td>1</td><td>18.6448</td></tr><tr><th>4</th><td>502_2006_2021-04-03</td><td>1</td><td>17.6635</td></tr><tr><th>5</th><td>502_2007_2021-04-03</td><td>1</td><td>49.9532</td></tr><tr><th>6</th><td>502_2008_2021-04-03</td><td>1</td><td>41.1214</td></tr><tr><th>7</th><td>502_2009_2021-04-03</td><td>1</td><td>21.8691</td></tr><tr><th>8</th><td>502_2010_2021-04-03</td><td>1</td><td>33.5046</td></tr><tr><th>9</th><td>502_2011_2021-04-03</td><td>1</td><td>33.6448</td></tr><tr><th>10</th><td>502_2012_2021-04-03</td><td>1</td><td>45.8411</td></tr><tr><th>11</th><td>502_2013_2021-04-03</td><td>1</td><td>39.4391</td></tr><tr><th>12</th><td>502_2014_2021-04-03</td><td>1</td><td>39.3457</td></tr><tr><th>13</th><td>502_2015_2021-04-03</td><td>1</td><td>25.3272</td></tr><tr><th>14</th><td>502_2016_2021-04-03</td><td>1</td><td>23.3177</td></tr><tr><th>15</th><td>502_2017_2021-04-03</td><td>1</td><td>28.9252</td></tr><tr><th>16</th><td>502_2018_2021-04-03</td><td>1</td><td>20.0935</td></tr><tr><th>17</th><td>502_2019_2021-04-03</td><td>1</td><td>20.4205</td></tr><tr><th>18</th><td>502_2020_2021-04-03</td><td>1</td><td>69.486</td></tr><tr><th>19</th><td>502_2021_2021-04-03</td><td>1</td><td>52.243</td></tr><tr><th>20</th><td>502_2022_2021-04-03</td><td>1</td><td>59.5794</td></tr><tr><th>21</th><td>502_2023_2021-04-03</td><td>1</td><td>18.6916</td></tr><tr><th>22</th><td>502_2024_2021-04-03</td><td>1</td><td>62.5701</td></tr><tr><th>23</th><td>502_2025_2021-04-03</td><td>1</td><td>21.6823</td></tr><tr><th>24</th><td>502_2026_2021-04-03</td><td>1</td><td>19.5326</td></tr><tr><th>25</th><td>502_4181_2021-04-03</td><td>1</td><td>8.1309</td></tr><tr><th>26</th><td>502_4182_2021-04-03</td><td>1</td><td>23.3645</td></tr><tr><th>27</th><td>502_4183_2021-04-03</td><td>1</td><td>17.243</td></tr><tr><th>28</th><td>502_4184_2021-04-03</td><td>3</td><td>11.5421</td></tr><tr><th>29</th><td>502_4185_2021-04-03</td><td>1</td><td>9.3458</td></tr><tr><th>30</th><td>502_4186_2021-04-03</td><td>2</td><td>50.6076</td></tr><tr><th>&vellip;</th><td>&vellip;</td><td>&vellip;</td><td>&vellip;</td></tr></tbody></table>"
      ],
      "text/latex": [
       "\\begin{tabular}{r|ccc}\n",
       "\t& store\\_transaction\\_key & cluster & sales\\_amount\\\\\n",
       "\t\\hline\n",
       "\t& String & Int64 & Any\\\\\n",
       "\t\\hline\n",
       "\t1 & 654\\_7284\\_2021-03-28 & 1 & 20.7945 \\\\\n",
       "\t2 & 502\\_2004\\_2021-04-03 & 1 & 19.5794 \\\\\n",
       "\t3 & 502\\_2005\\_2021-04-03 & 1 & 18.6448 \\\\\n",
       "\t4 & 502\\_2006\\_2021-04-03 & 1 & 17.6635 \\\\\n",
       "\t5 & 502\\_2007\\_2021-04-03 & 1 & 49.9532 \\\\\n",
       "\t6 & 502\\_2008\\_2021-04-03 & 1 & 41.1214 \\\\\n",
       "\t7 & 502\\_2009\\_2021-04-03 & 1 & 21.8691 \\\\\n",
       "\t8 & 502\\_2010\\_2021-04-03 & 1 & 33.5046 \\\\\n",
       "\t9 & 502\\_2011\\_2021-04-03 & 1 & 33.6448 \\\\\n",
       "\t10 & 502\\_2012\\_2021-04-03 & 1 & 45.8411 \\\\\n",
       "\t11 & 502\\_2013\\_2021-04-03 & 1 & 39.4391 \\\\\n",
       "\t12 & 502\\_2014\\_2021-04-03 & 1 & 39.3457 \\\\\n",
       "\t13 & 502\\_2015\\_2021-04-03 & 1 & 25.3272 \\\\\n",
       "\t14 & 502\\_2016\\_2021-04-03 & 1 & 23.3177 \\\\\n",
       "\t15 & 502\\_2017\\_2021-04-03 & 1 & 28.9252 \\\\\n",
       "\t16 & 502\\_2018\\_2021-04-03 & 1 & 20.0935 \\\\\n",
       "\t17 & 502\\_2019\\_2021-04-03 & 1 & 20.4205 \\\\\n",
       "\t18 & 502\\_2020\\_2021-04-03 & 1 & 69.486 \\\\\n",
       "\t19 & 502\\_2021\\_2021-04-03 & 1 & 52.243 \\\\\n",
       "\t20 & 502\\_2022\\_2021-04-03 & 1 & 59.5794 \\\\\n",
       "\t21 & 502\\_2023\\_2021-04-03 & 1 & 18.6916 \\\\\n",
       "\t22 & 502\\_2024\\_2021-04-03 & 1 & 62.5701 \\\\\n",
       "\t23 & 502\\_2025\\_2021-04-03 & 1 & 21.6823 \\\\\n",
       "\t24 & 502\\_2026\\_2021-04-03 & 1 & 19.5326 \\\\\n",
       "\t25 & 502\\_4181\\_2021-04-03 & 1 & 8.1309 \\\\\n",
       "\t26 & 502\\_4182\\_2021-04-03 & 1 & 23.3645 \\\\\n",
       "\t27 & 502\\_4183\\_2021-04-03 & 1 & 17.243 \\\\\n",
       "\t28 & 502\\_4184\\_2021-04-03 & 3 & 11.5421 \\\\\n",
       "\t29 & 502\\_4185\\_2021-04-03 & 1 & 9.3458 \\\\\n",
       "\t30 & 502\\_4186\\_2021-04-03 & 2 & 50.6076 \\\\\n",
       "\t$\\dots$ & $\\dots$ & $\\dots$ & $\\dots$ \\\\\n",
       "\\end{tabular}\n"
      ],
      "text/plain": [
       "\u001b[1m123724×3 DataFrame\u001b[0m\n",
       "\u001b[1m    Row \u001b[0m│\u001b[1m store_transaction_key \u001b[0m\u001b[1m cluster \u001b[0m\u001b[1m sales_amount \u001b[0m\n",
       "\u001b[1m        \u001b[0m│\u001b[90m String                \u001b[0m\u001b[90m Int64   \u001b[0m\u001b[90m Any          \u001b[0m\n",
       "────────┼──────────────────────────────────────────────\n",
       "      1 │ 654_7284_2021-03-28          1  20.7945\n",
       "      2 │ 502_2004_2021-04-03          1  19.5794\n",
       "      3 │ 502_2005_2021-04-03          1  18.6448\n",
       "      4 │ 502_2006_2021-04-03          1  17.6635\n",
       "      5 │ 502_2007_2021-04-03          1  49.9532\n",
       "      6 │ 502_2008_2021-04-03          1  41.1214\n",
       "      7 │ 502_2009_2021-04-03          1  21.8691\n",
       "      8 │ 502_2010_2021-04-03          1  33.5046\n",
       "      9 │ 502_2011_2021-04-03          1  33.6448\n",
       "     10 │ 502_2012_2021-04-03          1  45.8411\n",
       "     11 │ 502_2013_2021-04-03          1  39.4391\n",
       "   ⋮    │           ⋮               ⋮          ⋮\n",
       " 123715 │ 670_7725_2021-05-02          1  7.8505\n",
       " 123716 │ 670_7726_2021-05-02          1  41.3084\n",
       " 123717 │ 670_7727_2021-05-02          1  17.1028\n",
       " 123718 │ 670_7732_2021-05-02          1  7.944\n",
       " 123719 │ 670_7733_2021-05-02          1  12.5234\n",
       " 123720 │ 670_7734_2021-05-02          1  0.9346\n",
       " 123721 │ 670_7735_2021-05-02          1  0.9346\n",
       " 123722 │ 670_7736_2021-05-02          1  0.9346\n",
       " 123723 │ 670_7737_2021-05-02          1  7.4299\n",
       " 123724 │ 563_7599_2021-05-02          1  0.0\n",
       "\u001b[36m                                    123703 rows omitted\u001b[0m"
      ]
     },
     "execution_count": 46,
     "metadata": {},
     "output_type": "execute_result"
    }
   ],
   "source": [
    "df"
   ]
  },
  {
   "cell_type": "code",
   "execution_count": 47,
   "metadata": {
    "scrolled": true
   },
   "outputs": [
    {
     "data": {
      "text/html": [
       "<p><b>GroupedDataFrame with 3 groups based on key: cluster</b></p><p><i>First Group (109349 rows): cluster = 1</i></p><table class=\"data-frame\"><thead><tr><th></th><th>store_transaction_key</th><th>cluster</th><th>sales_amount</th></tr><tr><th></th><th>String</th><th>Int64</th><th>Any</th></tr></thead><tbody><tr><th>1</th><td>654_7284_2021-03-28</td><td>1</td><td>20.7945</td></tr><tr><th>2</th><td>502_2004_2021-04-03</td><td>1</td><td>19.5794</td></tr><tr><th>3</th><td>502_2005_2021-04-03</td><td>1</td><td>18.6448</td></tr><tr><th>4</th><td>502_2006_2021-04-03</td><td>1</td><td>17.6635</td></tr><tr><th>5</th><td>502_2007_2021-04-03</td><td>1</td><td>49.9532</td></tr><tr><th>6</th><td>502_2008_2021-04-03</td><td>1</td><td>41.1214</td></tr><tr><th>7</th><td>502_2009_2021-04-03</td><td>1</td><td>21.8691</td></tr><tr><th>8</th><td>502_2010_2021-04-03</td><td>1</td><td>33.5046</td></tr><tr><th>9</th><td>502_2011_2021-04-03</td><td>1</td><td>33.6448</td></tr><tr><th>10</th><td>502_2012_2021-04-03</td><td>1</td><td>45.8411</td></tr><tr><th>11</th><td>502_2013_2021-04-03</td><td>1</td><td>39.4391</td></tr><tr><th>12</th><td>502_2014_2021-04-03</td><td>1</td><td>39.3457</td></tr><tr><th>13</th><td>502_2015_2021-04-03</td><td>1</td><td>25.3272</td></tr><tr><th>14</th><td>502_2016_2021-04-03</td><td>1</td><td>23.3177</td></tr><tr><th>15</th><td>502_2017_2021-04-03</td><td>1</td><td>28.9252</td></tr><tr><th>16</th><td>502_2018_2021-04-03</td><td>1</td><td>20.0935</td></tr><tr><th>17</th><td>502_2019_2021-04-03</td><td>1</td><td>20.4205</td></tr><tr><th>18</th><td>502_2020_2021-04-03</td><td>1</td><td>69.486</td></tr><tr><th>19</th><td>502_2021_2021-04-03</td><td>1</td><td>52.243</td></tr><tr><th>20</th><td>502_2022_2021-04-03</td><td>1</td><td>59.5794</td></tr><tr><th>21</th><td>502_2023_2021-04-03</td><td>1</td><td>18.6916</td></tr><tr><th>22</th><td>502_2024_2021-04-03</td><td>1</td><td>62.5701</td></tr><tr><th>23</th><td>502_2025_2021-04-03</td><td>1</td><td>21.6823</td></tr><tr><th>24</th><td>502_2026_2021-04-03</td><td>1</td><td>19.5326</td></tr><tr><th>25</th><td>502_4181_2021-04-03</td><td>1</td><td>8.1309</td></tr><tr><th>26</th><td>502_4182_2021-04-03</td><td>1</td><td>23.3645</td></tr><tr><th>27</th><td>502_4183_2021-04-03</td><td>1</td><td>17.243</td></tr><tr><th>28</th><td>502_4185_2021-04-03</td><td>1</td><td>9.3458</td></tr><tr><th>29</th><td>502_4187_2021-04-03</td><td>1</td><td>9.3458</td></tr><tr><th>30</th><td>502_4188_2021-04-03</td><td>1</td><td>11.8692</td></tr><tr><th>&vellip;</th><td>&vellip;</td><td>&vellip;</td><td>&vellip;</td></tr></tbody></table><p>&vellip;</p><p><i>Last Group (2743 rows): cluster = 2</i></p><table class=\"data-frame\"><thead><tr><th></th><th>store_transaction_key</th><th>cluster</th><th>sales_amount</th></tr><tr><th></th><th>String</th><th>Int64</th><th>Any</th></tr></thead><tbody><tr><th>1</th><td>502_4186_2021-04-03</td><td>2</td><td>50.6076</td></tr><tr><th>2</th><td>502_4189_2021-04-03</td><td>2</td><td>28.458</td></tr><tr><th>3</th><td>502_4195_2021-04-03</td><td>2</td><td>30.9346</td></tr><tr><th>4</th><td>502_4276_2021-04-03</td><td>2</td><td>22.3364</td></tr><tr><th>5</th><td>506_4081_2021-04-03</td><td>2</td><td>34.3925</td></tr><tr><th>6</th><td>506_4082_2021-04-03</td><td>2</td><td>25.4672</td></tr><tr><th>7</th><td>506_4083_2021-04-03</td><td>2</td><td>34.1589</td></tr><tr><th>8</th><td>506_4085_2021-04-03</td><td>2</td><td>27.0561</td></tr><tr><th>9</th><td>506_4088_2021-04-03</td><td>2</td><td>53.3179</td></tr><tr><th>10</th><td>506_4090_2021-04-03</td><td>2</td><td>29.8599</td></tr><tr><th>11</th><td>506_4093_2021-04-03</td><td>2</td><td>32.5701</td></tr><tr><th>12</th><td>506_4095_2021-04-03</td><td>2</td><td>29.5795</td></tr><tr><th>13</th><td>506_4114_2021-04-03</td><td>2</td><td>27.2431</td></tr><tr><th>14</th><td>506_4120_2021-04-03</td><td>2</td><td>46.5888</td></tr><tr><th>15</th><td>506_4122_2021-04-03</td><td>2</td><td>60.701</td></tr><tr><th>16</th><td>506_4132_2021-04-03</td><td>2</td><td>28.9253</td></tr><tr><th>17</th><td>506_4133_2021-04-03</td><td>2</td><td>124.486</td></tr><tr><th>18</th><td>506_4138_2021-04-03</td><td>2</td><td>80.1871</td></tr><tr><th>19</th><td>506_4161_2021-04-03</td><td>2</td><td>65.0001</td></tr><tr><th>20</th><td>506_4189_2021-04-03</td><td>2</td><td>46.0281</td></tr><tr><th>21</th><td>506_4195_2021-04-03</td><td>2</td><td>61.5889</td></tr><tr><th>22</th><td>508_4013_2021-04-03</td><td>2</td><td>73.3178</td></tr><tr><th>23</th><td>508_4057_2021-04-03</td><td>2</td><td>31.2617</td></tr><tr><th>24</th><td>509_4280_2021-04-03</td><td>2</td><td>53.972</td></tr><tr><th>25</th><td>509_4282_2021-04-03</td><td>2</td><td>51.8224</td></tr><tr><th>26</th><td>509_4317_2021-04-03</td><td>2</td><td>31.0748</td></tr><tr><th>27</th><td>509_4350_2021-04-03</td><td>2</td><td>35.4206</td></tr><tr><th>28</th><td>509_4363_2021-04-03</td><td>2</td><td>48.5046</td></tr><tr><th>29</th><td>510_5014_2021-04-03</td><td>2</td><td>57.1962</td></tr><tr><th>30</th><td>510_5015_2021-04-03</td><td>2</td><td>37.1963</td></tr><tr><th>&vellip;</th><td>&vellip;</td><td>&vellip;</td><td>&vellip;</td></tr></tbody></table>"
      ],
      "text/latex": [
       "GroupedDataFrame with 3 groups based on key: cluster\n",
       "\n",
       "First Group (109349 rows): cluster = 1\n",
       "\n",
       "\\begin{tabular}{r|ccc}\n",
       "\t& store\\_transaction\\_key & cluster & sales\\_amount\\\\\n",
       "\t\\hline\n",
       "\t& String & Int64 & Any\\\\\n",
       "\t\\hline\n",
       "\t1 & 654\\_7284\\_2021-03-28 & 1 & 20.7945 \\\\\n",
       "\t2 & 502\\_2004\\_2021-04-03 & 1 & 19.5794 \\\\\n",
       "\t3 & 502\\_2005\\_2021-04-03 & 1 & 18.6448 \\\\\n",
       "\t4 & 502\\_2006\\_2021-04-03 & 1 & 17.6635 \\\\\n",
       "\t5 & 502\\_2007\\_2021-04-03 & 1 & 49.9532 \\\\\n",
       "\t6 & 502\\_2008\\_2021-04-03 & 1 & 41.1214 \\\\\n",
       "\t7 & 502\\_2009\\_2021-04-03 & 1 & 21.8691 \\\\\n",
       "\t8 & 502\\_2010\\_2021-04-03 & 1 & 33.5046 \\\\\n",
       "\t9 & 502\\_2011\\_2021-04-03 & 1 & 33.6448 \\\\\n",
       "\t10 & 502\\_2012\\_2021-04-03 & 1 & 45.8411 \\\\\n",
       "\t11 & 502\\_2013\\_2021-04-03 & 1 & 39.4391 \\\\\n",
       "\t12 & 502\\_2014\\_2021-04-03 & 1 & 39.3457 \\\\\n",
       "\t13 & 502\\_2015\\_2021-04-03 & 1 & 25.3272 \\\\\n",
       "\t14 & 502\\_2016\\_2021-04-03 & 1 & 23.3177 \\\\\n",
       "\t15 & 502\\_2017\\_2021-04-03 & 1 & 28.9252 \\\\\n",
       "\t16 & 502\\_2018\\_2021-04-03 & 1 & 20.0935 \\\\\n",
       "\t17 & 502\\_2019\\_2021-04-03 & 1 & 20.4205 \\\\\n",
       "\t18 & 502\\_2020\\_2021-04-03 & 1 & 69.486 \\\\\n",
       "\t19 & 502\\_2021\\_2021-04-03 & 1 & 52.243 \\\\\n",
       "\t20 & 502\\_2022\\_2021-04-03 & 1 & 59.5794 \\\\\n",
       "\t21 & 502\\_2023\\_2021-04-03 & 1 & 18.6916 \\\\\n",
       "\t22 & 502\\_2024\\_2021-04-03 & 1 & 62.5701 \\\\\n",
       "\t23 & 502\\_2025\\_2021-04-03 & 1 & 21.6823 \\\\\n",
       "\t24 & 502\\_2026\\_2021-04-03 & 1 & 19.5326 \\\\\n",
       "\t25 & 502\\_4181\\_2021-04-03 & 1 & 8.1309 \\\\\n",
       "\t26 & 502\\_4182\\_2021-04-03 & 1 & 23.3645 \\\\\n",
       "\t27 & 502\\_4183\\_2021-04-03 & 1 & 17.243 \\\\\n",
       "\t28 & 502\\_4185\\_2021-04-03 & 1 & 9.3458 \\\\\n",
       "\t29 & 502\\_4187\\_2021-04-03 & 1 & 9.3458 \\\\\n",
       "\t30 & 502\\_4188\\_2021-04-03 & 1 & 11.8692 \\\\\n",
       "\t$\\dots$ & $\\dots$ & $\\dots$ & $\\dots$ \\\\\n",
       "\\end{tabular}\n",
       "\n",
       "$\\dots$\n",
       "\n",
       "Last Group (2743 rows): cluster = 2\n",
       "\n",
       "\\begin{tabular}{r|ccc}\n",
       "\t& store\\_transaction\\_key & cluster & sales\\_amount\\\\\n",
       "\t\\hline\n",
       "\t& String & Int64 & Any\\\\\n",
       "\t\\hline\n",
       "\t1 & 502\\_4186\\_2021-04-03 & 2 & 50.6076 \\\\\n",
       "\t2 & 502\\_4189\\_2021-04-03 & 2 & 28.458 \\\\\n",
       "\t3 & 502\\_4195\\_2021-04-03 & 2 & 30.9346 \\\\\n",
       "\t4 & 502\\_4276\\_2021-04-03 & 2 & 22.3364 \\\\\n",
       "\t5 & 506\\_4081\\_2021-04-03 & 2 & 34.3925 \\\\\n",
       "\t6 & 506\\_4082\\_2021-04-03 & 2 & 25.4672 \\\\\n",
       "\t7 & 506\\_4083\\_2021-04-03 & 2 & 34.1589 \\\\\n",
       "\t8 & 506\\_4085\\_2021-04-03 & 2 & 27.0561 \\\\\n",
       "\t9 & 506\\_4088\\_2021-04-03 & 2 & 53.3179 \\\\\n",
       "\t10 & 506\\_4090\\_2021-04-03 & 2 & 29.8599 \\\\\n",
       "\t11 & 506\\_4093\\_2021-04-03 & 2 & 32.5701 \\\\\n",
       "\t12 & 506\\_4095\\_2021-04-03 & 2 & 29.5795 \\\\\n",
       "\t13 & 506\\_4114\\_2021-04-03 & 2 & 27.2431 \\\\\n",
       "\t14 & 506\\_4120\\_2021-04-03 & 2 & 46.5888 \\\\\n",
       "\t15 & 506\\_4122\\_2021-04-03 & 2 & 60.701 \\\\\n",
       "\t16 & 506\\_4132\\_2021-04-03 & 2 & 28.9253 \\\\\n",
       "\t17 & 506\\_4133\\_2021-04-03 & 2 & 124.486 \\\\\n",
       "\t18 & 506\\_4138\\_2021-04-03 & 2 & 80.1871 \\\\\n",
       "\t19 & 506\\_4161\\_2021-04-03 & 2 & 65.0001 \\\\\n",
       "\t20 & 506\\_4189\\_2021-04-03 & 2 & 46.0281 \\\\\n",
       "\t21 & 506\\_4195\\_2021-04-03 & 2 & 61.5889 \\\\\n",
       "\t22 & 508\\_4013\\_2021-04-03 & 2 & 73.3178 \\\\\n",
       "\t23 & 508\\_4057\\_2021-04-03 & 2 & 31.2617 \\\\\n",
       "\t24 & 509\\_4280\\_2021-04-03 & 2 & 53.972 \\\\\n",
       "\t25 & 509\\_4282\\_2021-04-03 & 2 & 51.8224 \\\\\n",
       "\t26 & 509\\_4317\\_2021-04-03 & 2 & 31.0748 \\\\\n",
       "\t27 & 509\\_4350\\_2021-04-03 & 2 & 35.4206 \\\\\n",
       "\t28 & 509\\_4363\\_2021-04-03 & 2 & 48.5046 \\\\\n",
       "\t29 & 510\\_5014\\_2021-04-03 & 2 & 57.1962 \\\\\n",
       "\t30 & 510\\_5015\\_2021-04-03 & 2 & 37.1963 \\\\\n",
       "\t$\\dots$ & $\\dots$ & $\\dots$ & $\\dots$ \\\\\n",
       "\\end{tabular}\n"
      ],
      "text/plain": [
       "GroupedDataFrame with 3 groups based on key: cluster\n",
       "First Group (109349 rows): cluster = 1\n",
       "\u001b[1m    Row \u001b[0m│\u001b[1m store_transaction_key \u001b[0m\u001b[1m cluster \u001b[0m\u001b[1m sales_amount \u001b[0m\n",
       "\u001b[1m        \u001b[0m│\u001b[90m String                \u001b[0m\u001b[90m Int64   \u001b[0m\u001b[90m Any          \u001b[0m\n",
       "────────┼──────────────────────────────────────────────\n",
       "      1 │ 654_7284_2021-03-28          1  20.7945\n",
       "      2 │ 502_2004_2021-04-03          1  19.5794\n",
       "      3 │ 502_2005_2021-04-03          1  18.6448\n",
       "      4 │ 502_2006_2021-04-03          1  17.6635\n",
       "      5 │ 502_2007_2021-04-03          1  49.9532\n",
       "      6 │ 502_2008_2021-04-03          1  41.1214\n",
       "      7 │ 502_2009_2021-04-03          1  21.8691\n",
       "      8 │ 502_2010_2021-04-03          1  33.5046\n",
       "      9 │ 502_2011_2021-04-03          1  33.6448\n",
       "     10 │ 502_2012_2021-04-03          1  45.8411\n",
       "     11 │ 502_2013_2021-04-03          1  39.4391\n",
       "   ⋮    │           ⋮               ⋮          ⋮\n",
       " 109339 │ 670_7724_2021-05-02          1  22.0094\n",
       " 109340 │ 670_7725_2021-05-02          1  7.8505\n",
       " 109341 │ 670_7726_2021-05-02          1  41.3084\n",
       " 109342 │ 670_7727_2021-05-02          1  17.1028\n",
       " 109343 │ 670_7732_2021-05-02          1  7.944\n",
       " 109344 │ 670_7733_2021-05-02          1  12.5234\n",
       " 109345 │ 670_7734_2021-05-02          1  0.9346\n",
       " 109346 │ 670_7735_2021-05-02          1  0.9346\n",
       " 109347 │ 670_7736_2021-05-02          1  0.9346\n",
       " 109348 │ 670_7737_2021-05-02          1  7.4299\n",
       " 109349 │ 563_7599_2021-05-02          1  0.0\n",
       "\u001b[36m                                    109327 rows omitted\u001b[0m\n",
       "⋮\n",
       "Last Group (2743 rows): cluster = 2\n",
       "\u001b[1m  Row \u001b[0m│\u001b[1m store_transaction_key \u001b[0m\u001b[1m cluster \u001b[0m\u001b[1m sales_amount \u001b[0m\n",
       "\u001b[1m      \u001b[0m│\u001b[90m String                \u001b[0m\u001b[90m Int64   \u001b[0m\u001b[90m Any          \u001b[0m\n",
       "──────┼──────────────────────────────────────────────\n",
       "    1 │ 502_4186_2021-04-03          2  50.6076\n",
       "    2 │ 502_4189_2021-04-03          2  28.458\n",
       "    3 │ 502_4195_2021-04-03          2  30.9346\n",
       "    4 │ 502_4276_2021-04-03          2  22.3364\n",
       "    5 │ 506_4081_2021-04-03          2  34.3925\n",
       "    6 │ 506_4082_2021-04-03          2  25.4672\n",
       "    7 │ 506_4083_2021-04-03          2  34.1589\n",
       "    8 │ 506_4085_2021-04-03          2  27.0561\n",
       "    9 │ 506_4088_2021-04-03          2  53.3179\n",
       "   10 │ 506_4090_2021-04-03          2  29.8599\n",
       "   11 │ 506_4093_2021-04-03          2  32.5701\n",
       "  ⋮   │           ⋮               ⋮          ⋮\n",
       " 2733 │ 667_7980_2021-05-02          2  29.8132\n",
       " 2734 │ 669_7207_2021-05-02          2  26.028\n",
       " 2735 │ 670_7574_2021-05-02          2  26.1216\n",
       " 2736 │ 670_7593_2021-05-02          2  52.7571\n",
       " 2737 │ 670_7594_2021-05-02          2  42.8506\n",
       " 2738 │ 670_7595_2021-05-02          2  31.6357\n",
       " 2739 │ 670_7605_2021-05-02          2  29.8598\n",
       " 2740 │ 670_7609_2021-05-02          2  33.7851\n",
       " 2741 │ 670_7631_2021-05-02          2  30.2338\n",
       " 2742 │ 670_7640_2021-05-02          2  36.7757\n",
       " 2743 │ 670_7642_2021-05-02          2  60.7477\n",
       "\u001b[36m                                    2721 rows omitted\u001b[0m"
      ]
     },
     "execution_count": 47,
     "metadata": {},
     "output_type": "execute_result"
    }
   ],
   "source": [
    "grp = groupby(df,:cluster)"
   ]
  },
  {
   "cell_type": "code",
   "execution_count": 48,
   "metadata": {},
   "outputs": [],
   "source": [
    "for i in 1:length(grp)\n",
    "    k = DataFrame(grp[i])\n",
    "    k = k[:,[:store_transaction_key,:sales_amount]]\n",
    "    CSV.write(\"/home/vikas/Downloads/Breakfast_Weekday_Clusters_sales$i.csv\",k)\n",
    "end"
   ]
  },
  {
   "cell_type": "code",
   "execution_count": null,
   "metadata": {},
   "outputs": [],
   "source": [
    "df = DataFrame(CSV.File(\"/home/vikas/Downloads/Breakfast_Weekend_Clusters.csv\"))\n",
    "\n",
    "sales_amount = []\n",
    "\n",
    "for i in 1:length(df.store_transaction_key)\n",
    "    push!(sales_amount,map_sales[df.store_transaction_key[i]])\n",
    "end\n",
    "\n",
    "df.sales_amount = sales_amount\n",
    "\n",
    "grp = groupby(df,:cluster)\n",
    "\n",
    "for i in 1:length(grp)\n",
    "    k = DataFrame(grp[i])\n",
    "    k = k[:,[:store_transaction_key,:sales_amount]]\n",
    "    CSV.write(\"/home/vikas/Downloads/Breakfast_Weekend_Clusters_sales$i.csv\",k)\n",
    "end"
   ]
  },
  {
   "cell_type": "code",
   "execution_count": null,
   "metadata": {},
   "outputs": [],
   "source": [
    "df = DataFrame(CSV.File(\"/home/vikas/Downloads/Lunch_Weekday_Clusters.csv\"))\n",
    "\n",
    "sales_amount = []\n",
    "\n",
    "for i in 1:length(df.store_transaction_key)\n",
    "    push!(sales_amount,map_sales[df.store_transaction_key[i]])\n",
    "end\n",
    "\n",
    "df.sales_amount = sales_amount\n",
    "\n",
    "grp = groupby(df,:cluster)\n",
    "\n",
    "for i in 1:length(grp)\n",
    "    k = DataFrame(grp[i])\n",
    "    k = k[:,[:store_transaction_key,:sales_amount]]\n",
    "    CSV.write(\"/home/vikas/Downloads/Lunch_Weekday_Clusters_sales$i.csv\",k)\n",
    "end"
   ]
  },
  {
   "cell_type": "code",
   "execution_count": null,
   "metadata": {},
   "outputs": [],
   "source": [
    "df = DataFrame(CSV.File(\"/home/vikas/Downloads/Lunch_Weekend_Clusters.csv\"))\n",
    "\n",
    "sales_amount = []\n",
    "\n",
    "for i in 1:length(df.store_transaction_key)\n",
    "    push!(sales_amount,map_sales[df.store_transaction_key[i]])\n",
    "end\n",
    "\n",
    "df.sales_amount = sales_amount\n",
    "\n",
    "grp = groupby(df,:cluster)\n",
    "\n",
    "for i in 1:length(grp)\n",
    "    k = DataFrame(grp[i])\n",
    "    k = k[:,[:store_transaction_key,:sales_amount]]\n",
    "    CSV.write(\"/home/vikas/Downloads/Lunch_Weekend_Clusters_sales$i.csv\",k)\n",
    "end"
   ]
  },
  {
   "cell_type": "code",
   "execution_count": null,
   "metadata": {},
   "outputs": [],
   "source": [
    "df = DataFrame(CSV.File(\"/home/vikas/Downloads/Dinner_Weekday_Clusters.csv\"))\n",
    "\n",
    "sales_amount = []\n",
    "\n",
    "for i in 1:length(df.store_transaction_key)\n",
    "    push!(sales_amount,map_sales[df.store_transaction_key[i]])\n",
    "end\n",
    "\n",
    "df.sales_amount = sales_amount\n",
    "\n",
    "grp = groupby(df,:cluster)\n",
    "\n",
    "for i in 1:length(grp)\n",
    "    k = DataFrame(grp[i])\n",
    "    k = k[:,[:store_transaction_key,:sales_amount]]\n",
    "    CSV.write(\"/home/vikas/Downloads/Dinner_Weekday_Clusters_sales$i.csv\",k)\n",
    "end"
   ]
  },
  {
   "cell_type": "code",
   "execution_count": null,
   "metadata": {},
   "outputs": [],
   "source": [
    "df = DataFrame(CSV.File(\"/home/vikas/Downloads/Dinner_Weekend_Clusters.csv\"))\n",
    "\n",
    "sales_amount = []\n",
    "\n",
    "for i in 1:length(df.store_transaction_key)\n",
    "    push!(sales_amount,map_sales[df.store_transaction_key[i]])\n",
    "end\n",
    "\n",
    "df.sales_amount = sales_amount\n",
    "\n",
    "grp = groupby(df,:cluster)\n",
    "\n",
    "for i in 1:length(grp)\n",
    "    k = DataFrame(grp[i])\n",
    "    k = k[:,[:store_transaction_key,:sales_amount]]\n",
    "    CSV.write(\"/home/vikas/Downloads/Dinner_Weekend_Clusters_sales$i.csv\",k)\n",
    "end"
   ]
  },
  {
   "cell_type": "code",
   "execution_count": null,
   "metadata": {},
   "outputs": [],
   "source": []
  }
 ],
 "metadata": {
  "kernelspec": {
   "display_name": "Julia 1.6.1",
   "language": "julia",
   "name": "julia-1.6"
  },
  "language_info": {
   "file_extension": ".jl",
   "mimetype": "application/julia",
   "name": "julia",
   "version": "1.6.1"
  }
 },
 "nbformat": 4,
 "nbformat_minor": 4
}
