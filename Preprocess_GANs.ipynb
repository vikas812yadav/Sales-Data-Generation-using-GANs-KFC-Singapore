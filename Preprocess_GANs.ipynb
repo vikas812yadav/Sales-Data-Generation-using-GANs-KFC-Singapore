{
 "cells": [
  {
   "cell_type": "markdown",
   "id": "a2c32eff",
   "metadata": {},
   "source": [
    "# Dataset preparation for embedding generation"
   ]
  },
  {
   "cell_type": "code",
   "execution_count": 1,
   "id": "dae507a0",
   "metadata": {},
   "outputs": [],
   "source": [
    "using Flux\n",
    "using DataFrames\n",
    "using CSV\n",
    "using Plots\n",
    "using StatsBase\n",
    "using Random\n",
    "using LSHFunctions\n",
    "using Metrics\n",
    "using JLD2, FileIO\n",
    "using Word2Vec\n",
    "using XLSX"
   ]
  },
  {
   "cell_type": "code",
   "execution_count": 2,
   "id": "6b4a5ad1",
   "metadata": {},
   "outputs": [],
   "source": [
    "import Dates"
   ]
  },
  {
   "cell_type": "code",
   "execution_count": 3,
   "id": "a80ecd2c",
   "metadata": {},
   "outputs": [
    {
     "data": {
      "text/html": [
       "<table class=\"data-frame\"><thead><tr><th></th><th>storenum</th><th>item_key</th><th>item_description</th><th>transaction_type</th><th>sales_amount</th><th>sales_channel</th></tr><tr><th></th><th>Int64</th><th>Int64</th><th>String</th><th>String</th><th>Float64</th><th>String</th></tr></thead><tbody><p>15,546,753 rows × 10 columns (omitted printing of 4 columns)</p><tr><th>1</th><td>505</td><td>44158</td><td>*PF OR Thighs</td><td>M</td><td>0.0</td><td>Eat In (EI)</td></tr><tr><th>2</th><td>505</td><td>1</td><td>CASH</td><td>T</td><td>6.26168</td><td>Eat In (EI)</td></tr><tr><th>3</th><td>505</td><td>915855</td><td>1(OR)BPKT BX</td><td>M</td><td>8.3645</td><td>Take Away (TA)</td></tr><tr><th>4</th><td>505</td><td>913435</td><td>AO-2 CHZ FRI</td><td>M</td><td>4.6729</td><td>Take Away (TA)</td></tr><tr><th>5</th><td>505</td><td>1</td><td>CASH</td><td>T</td><td>46.729</td><td>Take Away (TA)</td></tr><tr><th>6</th><td>505</td><td>1</td><td>CASH</td><td>T</td><td>-33.6916</td><td>Take Away (TA)</td></tr><tr><th>7</th><td>505</td><td>912796</td><td>1 HC ZNG BX</td><td>M</td><td>8.3645</td><td>Eat In (EI)</td></tr><tr><th>8</th><td>505</td><td>913435</td><td>AO-2 CHZ FRI</td><td>M</td><td>4.6729</td><td>Eat In (EI)</td></tr><tr><th>9</th><td>505</td><td>918231</td><td>2P SCO ML  </td><td>M</td><td>8.3645</td><td>Eat In (EI)</td></tr><tr><th>10</th><td>505</td><td>913435</td><td>AO-2 CHZ FRI</td><td>M</td><td>4.6729</td><td>Eat In (EI)</td></tr><tr><th>11</th><td>505</td><td>400102</td><td>RP&gt;TEA</td><td>M</td><td>0.0</td><td>Eat In (EI)</td></tr><tr><th>12</th><td>505</td><td>44013</td><td>*No Milk</td><td>M</td><td>0.0</td><td>Eat In (EI)</td></tr><tr><th>13</th><td>505</td><td>400400</td><td>SJ&gt;SJRA-M</td><td>M</td><td>0.4673</td><td>Eat In (EI)</td></tr><tr><th>14</th><td>505</td><td>44007</td><td>*No Ice</td><td>M</td><td>0.0</td><td>Eat In (EI)</td></tr><tr><th>15</th><td>505</td><td>30003</td><td>3P(OR)ML-A</td><td>M</td><td>9.486</td><td>Eat In (EI)</td></tr><tr><th>16</th><td>505</td><td>400128</td><td>RP&gt;IMILO -M</td><td>M</td><td>1.3084</td><td>Eat In (EI)</td></tr><tr><th>17</th><td>505</td><td>44007</td><td>*No Ice</td><td>M</td><td>0.0</td><td>Eat In (EI)</td></tr><tr><th>18</th><td>505</td><td>915967</td><td>6P C HZ TRT</td><td>M</td><td>7.0093</td><td>Eat In (EI)</td></tr><tr><th>19</th><td>505</td><td>63</td><td>NETS</td><td>T</td><td>44.3458</td><td>Eat In (EI)</td></tr><tr><th>20</th><td>505</td><td>912716</td><td>SHR F BGR ML</td><td>M</td><td>4.6729</td><td>Eat In (EI)</td></tr><tr><th>21</th><td>505</td><td>400122</td><td>RP&gt;MTDEW  -R</td><td>M</td><td>0.0</td><td>Eat In (EI)</td></tr><tr><th>22</th><td>505</td><td>1</td><td>CASH</td><td>T</td><td>5.60748</td><td>Eat In (EI)</td></tr><tr><th>23</th><td>505</td><td>1</td><td>CASH</td><td>T</td><td>-0.934579</td><td>Eat In (EI)</td></tr><tr><th>24</th><td>505</td><td>30003</td><td>3P(OR)ML-A</td><td>M</td><td>9.486</td><td>Drive-Thru</td></tr><tr><th>25</th><td>505</td><td>450003</td><td>RWP&gt;FF -R</td><td>M</td><td>0.1869</td><td>Drive-Thru</td></tr><tr><th>26</th><td>505</td><td>1</td><td>CASH</td><td>T</td><td>9.6729</td><td>Drive-Thru</td></tr><tr><th>27</th><td>505</td><td>916089</td><td>OR RC BWL ML</td><td>M</td><td>4.6729</td><td>Eat In (EI)</td></tr><tr><th>28</th><td>505</td><td>916654</td><td>RPEP&gt;NWCF </td><td>M</td><td>0.0</td><td>Eat In (EI)</td></tr><tr><th>29</th><td>505</td><td>1</td><td>CASH</td><td>T</td><td>9.34579</td><td>Eat In (EI)</td></tr><tr><th>30</th><td>505</td><td>1</td><td>CASH</td><td>T</td><td>-4.6729</td><td>Eat In (EI)</td></tr><tr><th>&vellip;</th><td>&vellip;</td><td>&vellip;</td><td>&vellip;</td><td>&vellip;</td><td>&vellip;</td><td>&vellip;</td></tr></tbody></table>"
      ],
      "text/latex": [
       "\\begin{tabular}{r|ccccccc}\n",
       "\t& storenum & item\\_key & item\\_description & transaction\\_type & sales\\_amount & sales\\_channel & \\\\\n",
       "\t\\hline\n",
       "\t& Int64 & Int64 & String & String & Float64 & String & \\\\\n",
       "\t\\hline\n",
       "\t1 & 505 & 44158 & *PF OR Thighs & M & 0.0 & Eat In (EI) & $\\dots$ \\\\\n",
       "\t2 & 505 & 1 & CASH & T & 6.26168 & Eat In (EI) & $\\dots$ \\\\\n",
       "\t3 & 505 & 915855 & 1(OR)BPKT BX & M & 8.3645 & Take Away (TA) & $\\dots$ \\\\\n",
       "\t4 & 505 & 913435 & AO-2 CHZ FRI & M & 4.6729 & Take Away (TA) & $\\dots$ \\\\\n",
       "\t5 & 505 & 1 & CASH & T & 46.729 & Take Away (TA) & $\\dots$ \\\\\n",
       "\t6 & 505 & 1 & CASH & T & -33.6916 & Take Away (TA) & $\\dots$ \\\\\n",
       "\t7 & 505 & 912796 & 1 HC ZNG BX & M & 8.3645 & Eat In (EI) & $\\dots$ \\\\\n",
       "\t8 & 505 & 913435 & AO-2 CHZ FRI & M & 4.6729 & Eat In (EI) & $\\dots$ \\\\\n",
       "\t9 & 505 & 918231 & 2P SCO ML   & M & 8.3645 & Eat In (EI) & $\\dots$ \\\\\n",
       "\t10 & 505 & 913435 & AO-2 CHZ FRI & M & 4.6729 & Eat In (EI) & $\\dots$ \\\\\n",
       "\t11 & 505 & 400102 & RP>TEA & M & 0.0 & Eat In (EI) & $\\dots$ \\\\\n",
       "\t12 & 505 & 44013 & *No Milk & M & 0.0 & Eat In (EI) & $\\dots$ \\\\\n",
       "\t13 & 505 & 400400 & SJ>SJRA-M & M & 0.4673 & Eat In (EI) & $\\dots$ \\\\\n",
       "\t14 & 505 & 44007 & *No Ice & M & 0.0 & Eat In (EI) & $\\dots$ \\\\\n",
       "\t15 & 505 & 30003 & 3P(OR)ML-A & M & 9.486 & Eat In (EI) & $\\dots$ \\\\\n",
       "\t16 & 505 & 400128 & RP>IMILO -M & M & 1.3084 & Eat In (EI) & $\\dots$ \\\\\n",
       "\t17 & 505 & 44007 & *No Ice & M & 0.0 & Eat In (EI) & $\\dots$ \\\\\n",
       "\t18 & 505 & 915967 & 6P C HZ TRT & M & 7.0093 & Eat In (EI) & $\\dots$ \\\\\n",
       "\t19 & 505 & 63 & NETS & T & 44.3458 & Eat In (EI) & $\\dots$ \\\\\n",
       "\t20 & 505 & 912716 & SHR F BGR ML & M & 4.6729 & Eat In (EI) & $\\dots$ \\\\\n",
       "\t21 & 505 & 400122 & RP>MTDEW  -R & M & 0.0 & Eat In (EI) & $\\dots$ \\\\\n",
       "\t22 & 505 & 1 & CASH & T & 5.60748 & Eat In (EI) & $\\dots$ \\\\\n",
       "\t23 & 505 & 1 & CASH & T & -0.934579 & Eat In (EI) & $\\dots$ \\\\\n",
       "\t24 & 505 & 30003 & 3P(OR)ML-A & M & 9.486 & Drive-Thru & $\\dots$ \\\\\n",
       "\t25 & 505 & 450003 & RWP>FF -R & M & 0.1869 & Drive-Thru & $\\dots$ \\\\\n",
       "\t26 & 505 & 1 & CASH & T & 9.6729 & Drive-Thru & $\\dots$ \\\\\n",
       "\t27 & 505 & 916089 & OR RC BWL ML & M & 4.6729 & Eat In (EI) & $\\dots$ \\\\\n",
       "\t28 & 505 & 916654 & RPEP>NWCF  & M & 0.0 & Eat In (EI) & $\\dots$ \\\\\n",
       "\t29 & 505 & 1 & CASH & T & 9.34579 & Eat In (EI) & $\\dots$ \\\\\n",
       "\t30 & 505 & 1 & CASH & T & -4.6729 & Eat In (EI) & $\\dots$ \\\\\n",
       "\t$\\dots$ & $\\dots$ & $\\dots$ & $\\dots$ & $\\dots$ & $\\dots$ & $\\dots$ &  \\\\\n",
       "\\end{tabular}\n"
      ],
      "text/plain": [
       "15546753×10 DataFrame. Omitted printing of 6 columns\n",
       "│ Row      │ storenum │ item_key │ item_description │ transaction_type │\n",
       "│          │ \u001b[90mInt64\u001b[39m    │ \u001b[90mInt64\u001b[39m    │ \u001b[90mString\u001b[39m           │ \u001b[90mString\u001b[39m           │\n",
       "├──────────┼──────────┼──────────┼──────────────────┼──────────────────┤\n",
       "│ 1        │ 505      │ 44158    │ *PF OR Thighs    │ M                │\n",
       "│ 2        │ 505      │ 1        │ CASH             │ T                │\n",
       "│ 3        │ 505      │ 915855   │ 1(OR)BPKT BX     │ M                │\n",
       "│ 4        │ 505      │ 913435   │ AO-2 CHZ FRI     │ M                │\n",
       "│ 5        │ 505      │ 1        │ CASH             │ T                │\n",
       "│ 6        │ 505      │ 1        │ CASH             │ T                │\n",
       "│ 7        │ 505      │ 912796   │ 1 HC ZNG BX      │ M                │\n",
       "│ 8        │ 505      │ 913435   │ AO-2 CHZ FRI     │ M                │\n",
       "│ 9        │ 505      │ 918231   │ 2P SCO ML        │ M                │\n",
       "│ 10       │ 505      │ 913435   │ AO-2 CHZ FRI     │ M                │\n",
       "⋮\n",
       "│ 15546743 │ 670      │ 100007   │ CS -R            │ M                │\n",
       "│ 15546744 │ 670      │ 918824   │ $1.95 SHRM FLT   │ M                │\n",
       "│ 15546745 │ 670      │ 15       │ DI-DBS PAYLAH    │ T                │\n",
       "│ 15546746 │ 670      │ 918830   │ TEN & FR SET     │ M                │\n",
       "│ 15546747 │ 670      │ 915535   │ AO CHZ FRIES     │ M                │\n",
       "│ 15546748 │ 670      │ 918177   │ CKN SKN          │ M                │\n",
       "│ 15546749 │ 670      │ 914357   │ 1P EGG TART      │ M                │\n",
       "│ 15546750 │ 670      │ 8        │ D-eNETS CREDIT   │ T                │\n",
       "│ 15546751 │ 670      │ 918866   │ 50% OFF BDML     │ M                │\n",
       "│ 15546752 │ 670      │ 918824   │ $1.95 SHRM FLT   │ M                │\n",
       "│ 15546753 │ 670      │ 8        │ D-eNETS CREDIT   │ T                │"
      ]
     },
     "execution_count": 3,
     "metadata": {},
     "output_type": "execute_result"
    }
   ],
   "source": [
    "#loading the dataset\n",
    "path = \"Datasetq1.csv\"\n",
    "df1 = DataFrame(CSV.File(path))"
   ]
  },
  {
   "cell_type": "code",
   "execution_count": 4,
   "id": "a592ccc1",
   "metadata": {},
   "outputs": [
    {
     "data": {
      "text/html": [
       "<p><b>GroupedDataFrame with 3 groups based on key: transaction_type</b></p><p><i>First Group (10447532 rows): transaction_type = \"M\"</i></p><table class=\"data-frame\"><thead><tr><th></th><th>storenum</th><th>item_key</th><th>item_description</th><th>transaction_type</th><th>sales_amount</th><th>sales_channel</th></tr><tr><th></th><th>Int64</th><th>Int64</th><th>String</th><th>String</th><th>Float64</th><th>String</th></tr></thead><tbody><tr><th>1</th><td>505</td><td>44158</td><td>*PF OR Thighs</td><td>M</td><td>0.0</td><td>Eat In (EI)</td></tr><tr><th>2</th><td>505</td><td>915855</td><td>1(OR)BPKT BX</td><td>M</td><td>8.3645</td><td>Take Away (TA)</td></tr><tr><th>3</th><td>505</td><td>913435</td><td>AO-2 CHZ FRI</td><td>M</td><td>4.6729</td><td>Take Away (TA)</td></tr><tr><th>4</th><td>505</td><td>912796</td><td>1 HC ZNG BX</td><td>M</td><td>8.3645</td><td>Eat In (EI)</td></tr><tr><th>5</th><td>505</td><td>913435</td><td>AO-2 CHZ FRI</td><td>M</td><td>4.6729</td><td>Eat In (EI)</td></tr><tr><th>6</th><td>505</td><td>918231</td><td>2P SCO ML  </td><td>M</td><td>8.3645</td><td>Eat In (EI)</td></tr><tr><th>7</th><td>505</td><td>913435</td><td>AO-2 CHZ FRI</td><td>M</td><td>4.6729</td><td>Eat In (EI)</td></tr><tr><th>8</th><td>505</td><td>400102</td><td>RP&gt;TEA</td><td>M</td><td>0.0</td><td>Eat In (EI)</td></tr><tr><th>9</th><td>505</td><td>44013</td><td>*No Milk</td><td>M</td><td>0.0</td><td>Eat In (EI)</td></tr><tr><th>10</th><td>505</td><td>400400</td><td>SJ&gt;SJRA-M</td><td>M</td><td>0.4673</td><td>Eat In (EI)</td></tr><tr><th>11</th><td>505</td><td>44007</td><td>*No Ice</td><td>M</td><td>0.0</td><td>Eat In (EI)</td></tr><tr><th>12</th><td>505</td><td>30003</td><td>3P(OR)ML-A</td><td>M</td><td>9.486</td><td>Eat In (EI)</td></tr><tr><th>13</th><td>505</td><td>400128</td><td>RP&gt;IMILO -M</td><td>M</td><td>1.3084</td><td>Eat In (EI)</td></tr><tr><th>14</th><td>505</td><td>44007</td><td>*No Ice</td><td>M</td><td>0.0</td><td>Eat In (EI)</td></tr><tr><th>15</th><td>505</td><td>915967</td><td>6P C HZ TRT</td><td>M</td><td>7.0093</td><td>Eat In (EI)</td></tr><tr><th>16</th><td>505</td><td>912716</td><td>SHR F BGR ML</td><td>M</td><td>4.6729</td><td>Eat In (EI)</td></tr><tr><th>17</th><td>505</td><td>400122</td><td>RP&gt;MTDEW  -R</td><td>M</td><td>0.0</td><td>Eat In (EI)</td></tr><tr><th>18</th><td>505</td><td>30003</td><td>3P(OR)ML-A</td><td>M</td><td>9.486</td><td>Drive-Thru</td></tr><tr><th>19</th><td>505</td><td>450003</td><td>RWP&gt;FF -R</td><td>M</td><td>0.1869</td><td>Drive-Thru</td></tr><tr><th>20</th><td>505</td><td>916089</td><td>OR RC BWL ML</td><td>M</td><td>4.6729</td><td>Eat In (EI)</td></tr><tr><th>21</th><td>505</td><td>916654</td><td>RPEP&gt;NWCF </td><td>M</td><td>0.0</td><td>Eat In (EI)</td></tr><tr><th>22</th><td>505</td><td>914272</td><td>5P CKN BKT</td><td>M</td><td>13.2243</td><td>Take Away (TA)</td></tr><tr><th>23</th><td>505</td><td>44086</td><td>*PF OR Parts</td><td>M</td><td>0.0</td><td>Take Away (TA)</td></tr><tr><th>24</th><td>505</td><td>30002</td><td>2P(HC)ML-A</td><td>M</td><td>7.6168</td><td>Take Away (TA)</td></tr><tr><th>25</th><td>505</td><td>450005</td><td>RWP&gt;WP -M</td><td>M</td><td>1.1215</td><td>Take Away (TA)</td></tr><tr><th>26</th><td>505</td><td>912651</td><td>FY NAT FRT</td><td>M</td><td>4.6729</td><td>Drive-Thru</td></tr><tr><th>27</th><td>505</td><td>914982</td><td>FAM POT ML</td><td>M</td><td>4.6729</td><td>Eat In (EI)</td></tr><tr><th>28</th><td>505</td><td>30001</td><td>2P(OR)ML-A</td><td>M</td><td>7.6168</td><td>Eat In (EI)</td></tr><tr><th>29</th><td>505</td><td>44158</td><td>*PF OR Thighs</td><td>M</td><td>0.0</td><td>Eat In (EI)</td></tr><tr><th>30</th><td>505</td><td>44143</td><td>*PF OR Drum</td><td>M</td><td>0.0</td><td>Eat In (EI)</td></tr><tr><th>&vellip;</th><td>&vellip;</td><td>&vellip;</td><td>&vellip;</td><td>&vellip;</td><td>&vellip;</td><td>&vellip;</td></tr></tbody></table><p>&vellip;</p><p><i>Last Group (38012 rows): transaction_type = \"D\"</i></p><table class=\"data-frame\"><thead><tr><th></th><th>storenum</th><th>item_key</th><th>item_description</th><th>transaction_type</th><th>sales_amount</th><th>sales_channel</th></tr><tr><th></th><th>Int64</th><th>Int64</th><th>String</th><th>String</th><th>Float64</th><th>String</th></tr></thead><tbody><tr><th>1</th><td>505</td><td>3007</td><td>$1-OFF(PAssion)</td><td>D</td><td>-0.9346</td><td>Eat In (EI)</td></tr><tr><th>2</th><td>505</td><td>3007</td><td>$1-OFF(PAssion)</td><td>D</td><td>-0.9304</td><td>Eat In (EI)</td></tr><tr><th>3</th><td>505</td><td>3007</td><td>$1-OFF(PAssion)</td><td>D</td><td>-0.9346</td><td>Eat In (EI)</td></tr><tr><th>4</th><td>506</td><td>3007</td><td>$1-OFF(PAssion)</td><td>D</td><td>-0.9346</td><td>Eat In (EI)</td></tr><tr><th>5</th><td>506</td><td>5016</td><td>10% OFF xFOOD PANDA</td><td>D</td><td>-1.1873</td><td>Eat In (EI)</td></tr><tr><th>6</th><td>506</td><td>3007</td><td>$1-OFF(PAssion)</td><td>D</td><td>-0.9345</td><td>Take Away (TA)</td></tr><tr><th>7</th><td>506</td><td>3007</td><td>$1-OFF(PAssion)</td><td>D</td><td>0.9345</td><td>Take Away (TA)</td></tr><tr><th>8</th><td>506</td><td>8027</td><td>10% OFF GES DEAL</td><td>D</td><td>-0.7664</td><td>Eat In (EI)</td></tr><tr><th>9</th><td>507</td><td>8027</td><td>10% OFF GES DEAL</td><td>D</td><td>-0.7383</td><td>Eat In (EI)</td></tr><tr><th>10</th><td>508</td><td>3007</td><td>$1-OFF(PAssion)</td><td>D</td><td>-0.9345</td><td>Foodpanda Daypart</td></tr><tr><th>11</th><td>508</td><td>3007</td><td>$1-OFF(PAssion)</td><td>D</td><td>-0.9346</td><td>Eat In (EI)</td></tr><tr><th>12</th><td>503</td><td>8027</td><td>10% OFF GES DEAL</td><td>D</td><td>-0.8411</td><td>Take Away (TA)</td></tr><tr><th>13</th><td>503</td><td>5016</td><td>10% OFF xFOOD PANDA</td><td>D</td><td>-1.1967</td><td>Take Away (TA)</td></tr><tr><th>14</th><td>504</td><td>8027</td><td>10% OFF GES DEAL</td><td>D</td><td>-2.5234</td><td>Eat In (EI)</td></tr><tr><th>15</th><td>505</td><td>5010</td><td>10% OFF(LSM)</td><td>D</td><td>-1.1032</td><td>Eat In (EI)</td></tr><tr><th>16</th><td>505</td><td>8027</td><td>10% OFF GES DEAL</td><td>D</td><td>-2.5421</td><td>Drive-Thru</td></tr><tr><th>17</th><td>505</td><td>3007</td><td>$1-OFF(PAssion)</td><td>D</td><td>-0.9346</td><td>Eat In (EI)</td></tr><tr><th>18</th><td>509</td><td>3007</td><td>$1-OFF(PAssion)</td><td>D</td><td>-0.9345</td><td>Take Away (TA)</td></tr><tr><th>19</th><td>509</td><td>8027</td><td>10% OFF GES DEAL</td><td>D</td><td>-0.8411</td><td>Take Away (TA)</td></tr><tr><th>20</th><td>509</td><td>8027</td><td>10% OFF GES DEAL</td><td>D</td><td>-2.0468</td><td>Eat In (EI)</td></tr><tr><th>21</th><td>509</td><td>5016</td><td>10% OFF xFOOD PANDA</td><td>D</td><td>-1.1404</td><td>Take Away (TA)</td></tr><tr><th>22</th><td>511</td><td>3016</td><td>$1-OFF (OC/PL)</td><td>D</td><td>-0.9346</td><td>Take Away (TA)</td></tr><tr><th>23</th><td>511</td><td>3016</td><td>$1-OFF (OC/PL)</td><td>D</td><td>0.9346</td><td>Take Away (TA)</td></tr><tr><th>24</th><td>514</td><td>3007</td><td>$1-OFF(PAssion)</td><td>D</td><td>-0.9347</td><td>Take Away (TA)</td></tr><tr><th>25</th><td>514</td><td>3007</td><td>$1-OFF(PAssion)</td><td>D</td><td>-0.9347</td><td>Eat In (EI)</td></tr><tr><th>26</th><td>514</td><td>3007</td><td>$1-OFF(PAssion)</td><td>D</td><td>-0.9346</td><td>Eat In (EI)</td></tr><tr><th>27</th><td>514</td><td>2000</td><td>25% EMP eDISC</td><td>D</td><td>-8.4019</td><td>Take Away (TA)</td></tr><tr><th>28</th><td>514</td><td>3007</td><td>$1-OFF(PAssion)</td><td>D</td><td>-0.9346</td><td>Eat In (EI)</td></tr><tr><th>29</th><td>514</td><td>3007</td><td>$1-OFF(PAssion)</td><td>D</td><td>-0.9346</td><td>Take Away (TA)</td></tr><tr><th>30</th><td>514</td><td>3007</td><td>$1-OFF(PAssion)</td><td>D</td><td>-0.9346</td><td>Take Away (TA)</td></tr><tr><th>&vellip;</th><td>&vellip;</td><td>&vellip;</td><td>&vellip;</td><td>&vellip;</td><td>&vellip;</td><td>&vellip;</td></tr></tbody></table>"
      ],
      "text/latex": [
       "GroupedDataFrame with 3 groups based on key: transaction\\_type\n",
       "\n",
       "First Group (10447532 rows): transaction\\_type = \"M\"\n",
       "\n",
       "\\begin{tabular}{r|ccccccc}\n",
       "\t& storenum & item\\_key & item\\_description & transaction\\_type & sales\\_amount & sales\\_channel & \\\\\n",
       "\t\\hline\n",
       "\t& Int64 & Int64 & String & String & Float64 & String & \\\\\n",
       "\t\\hline\n",
       "\t1 & 505 & 44158 & *PF OR Thighs & M & 0.0 & Eat In (EI) & $\\dots$ \\\\\n",
       "\t2 & 505 & 915855 & 1(OR)BPKT BX & M & 8.3645 & Take Away (TA) & $\\dots$ \\\\\n",
       "\t3 & 505 & 913435 & AO-2 CHZ FRI & M & 4.6729 & Take Away (TA) & $\\dots$ \\\\\n",
       "\t4 & 505 & 912796 & 1 HC ZNG BX & M & 8.3645 & Eat In (EI) & $\\dots$ \\\\\n",
       "\t5 & 505 & 913435 & AO-2 CHZ FRI & M & 4.6729 & Eat In (EI) & $\\dots$ \\\\\n",
       "\t6 & 505 & 918231 & 2P SCO ML   & M & 8.3645 & Eat In (EI) & $\\dots$ \\\\\n",
       "\t7 & 505 & 913435 & AO-2 CHZ FRI & M & 4.6729 & Eat In (EI) & $\\dots$ \\\\\n",
       "\t8 & 505 & 400102 & RP>TEA & M & 0.0 & Eat In (EI) & $\\dots$ \\\\\n",
       "\t9 & 505 & 44013 & *No Milk & M & 0.0 & Eat In (EI) & $\\dots$ \\\\\n",
       "\t10 & 505 & 400400 & SJ>SJRA-M & M & 0.4673 & Eat In (EI) & $\\dots$ \\\\\n",
       "\t11 & 505 & 44007 & *No Ice & M & 0.0 & Eat In (EI) & $\\dots$ \\\\\n",
       "\t12 & 505 & 30003 & 3P(OR)ML-A & M & 9.486 & Eat In (EI) & $\\dots$ \\\\\n",
       "\t13 & 505 & 400128 & RP>IMILO -M & M & 1.3084 & Eat In (EI) & $\\dots$ \\\\\n",
       "\t14 & 505 & 44007 & *No Ice & M & 0.0 & Eat In (EI) & $\\dots$ \\\\\n",
       "\t15 & 505 & 915967 & 6P C HZ TRT & M & 7.0093 & Eat In (EI) & $\\dots$ \\\\\n",
       "\t16 & 505 & 912716 & SHR F BGR ML & M & 4.6729 & Eat In (EI) & $\\dots$ \\\\\n",
       "\t17 & 505 & 400122 & RP>MTDEW  -R & M & 0.0 & Eat In (EI) & $\\dots$ \\\\\n",
       "\t18 & 505 & 30003 & 3P(OR)ML-A & M & 9.486 & Drive-Thru & $\\dots$ \\\\\n",
       "\t19 & 505 & 450003 & RWP>FF -R & M & 0.1869 & Drive-Thru & $\\dots$ \\\\\n",
       "\t20 & 505 & 916089 & OR RC BWL ML & M & 4.6729 & Eat In (EI) & $\\dots$ \\\\\n",
       "\t21 & 505 & 916654 & RPEP>NWCF  & M & 0.0 & Eat In (EI) & $\\dots$ \\\\\n",
       "\t22 & 505 & 914272 & 5P CKN BKT & M & 13.2243 & Take Away (TA) & $\\dots$ \\\\\n",
       "\t23 & 505 & 44086 & *PF OR Parts & M & 0.0 & Take Away (TA) & $\\dots$ \\\\\n",
       "\t24 & 505 & 30002 & 2P(HC)ML-A & M & 7.6168 & Take Away (TA) & $\\dots$ \\\\\n",
       "\t25 & 505 & 450005 & RWP>WP -M & M & 1.1215 & Take Away (TA) & $\\dots$ \\\\\n",
       "\t26 & 505 & 912651 & FY NAT FRT & M & 4.6729 & Drive-Thru & $\\dots$ \\\\\n",
       "\t27 & 505 & 914982 & FAM POT ML & M & 4.6729 & Eat In (EI) & $\\dots$ \\\\\n",
       "\t28 & 505 & 30001 & 2P(OR)ML-A & M & 7.6168 & Eat In (EI) & $\\dots$ \\\\\n",
       "\t29 & 505 & 44158 & *PF OR Thighs & M & 0.0 & Eat In (EI) & $\\dots$ \\\\\n",
       "\t30 & 505 & 44143 & *PF OR Drum & M & 0.0 & Eat In (EI) & $\\dots$ \\\\\n",
       "\t$\\dots$ & $\\dots$ & $\\dots$ & $\\dots$ & $\\dots$ & $\\dots$ & $\\dots$ &  \\\\\n",
       "\\end{tabular}\n",
       "\n",
       "$\\dots$\n",
       "\n",
       "Last Group (38012 rows): transaction\\_type = \"D\"\n",
       "\n",
       "\\begin{tabular}{r|ccccccc}\n",
       "\t& storenum & item\\_key & item\\_description & transaction\\_type & sales\\_amount & sales\\_channel & \\\\\n",
       "\t\\hline\n",
       "\t& Int64 & Int64 & String & String & Float64 & String & \\\\\n",
       "\t\\hline\n",
       "\t1 & 505 & 3007 & \\$1-OFF(PAssion) & D & -0.9346 & Eat In (EI) & $\\dots$ \\\\\n",
       "\t2 & 505 & 3007 & \\$1-OFF(PAssion) & D & -0.9304 & Eat In (EI) & $\\dots$ \\\\\n",
       "\t3 & 505 & 3007 & \\$1-OFF(PAssion) & D & -0.9346 & Eat In (EI) & $\\dots$ \\\\\n",
       "\t4 & 506 & 3007 & \\$1-OFF(PAssion) & D & -0.9346 & Eat In (EI) & $\\dots$ \\\\\n",
       "\t5 & 506 & 5016 & 10\\% OFF xFOOD PANDA & D & -1.1873 & Eat In (EI) & $\\dots$ \\\\\n",
       "\t6 & 506 & 3007 & \\$1-OFF(PAssion) & D & -0.9345 & Take Away (TA) & $\\dots$ \\\\\n",
       "\t7 & 506 & 3007 & \\$1-OFF(PAssion) & D & 0.9345 & Take Away (TA) & $\\dots$ \\\\\n",
       "\t8 & 506 & 8027 & 10\\% OFF GES DEAL & D & -0.7664 & Eat In (EI) & $\\dots$ \\\\\n",
       "\t9 & 507 & 8027 & 10\\% OFF GES DEAL & D & -0.7383 & Eat In (EI) & $\\dots$ \\\\\n",
       "\t10 & 508 & 3007 & \\$1-OFF(PAssion) & D & -0.9345 & Foodpanda Daypart & $\\dots$ \\\\\n",
       "\t11 & 508 & 3007 & \\$1-OFF(PAssion) & D & -0.9346 & Eat In (EI) & $\\dots$ \\\\\n",
       "\t12 & 503 & 8027 & 10\\% OFF GES DEAL & D & -0.8411 & Take Away (TA) & $\\dots$ \\\\\n",
       "\t13 & 503 & 5016 & 10\\% OFF xFOOD PANDA & D & -1.1967 & Take Away (TA) & $\\dots$ \\\\\n",
       "\t14 & 504 & 8027 & 10\\% OFF GES DEAL & D & -2.5234 & Eat In (EI) & $\\dots$ \\\\\n",
       "\t15 & 505 & 5010 & 10\\% OFF(LSM) & D & -1.1032 & Eat In (EI) & $\\dots$ \\\\\n",
       "\t16 & 505 & 8027 & 10\\% OFF GES DEAL & D & -2.5421 & Drive-Thru & $\\dots$ \\\\\n",
       "\t17 & 505 & 3007 & \\$1-OFF(PAssion) & D & -0.9346 & Eat In (EI) & $\\dots$ \\\\\n",
       "\t18 & 509 & 3007 & \\$1-OFF(PAssion) & D & -0.9345 & Take Away (TA) & $\\dots$ \\\\\n",
       "\t19 & 509 & 8027 & 10\\% OFF GES DEAL & D & -0.8411 & Take Away (TA) & $\\dots$ \\\\\n",
       "\t20 & 509 & 8027 & 10\\% OFF GES DEAL & D & -2.0468 & Eat In (EI) & $\\dots$ \\\\\n",
       "\t21 & 509 & 5016 & 10\\% OFF xFOOD PANDA & D & -1.1404 & Take Away (TA) & $\\dots$ \\\\\n",
       "\t22 & 511 & 3016 & \\$1-OFF (OC/PL) & D & -0.9346 & Take Away (TA) & $\\dots$ \\\\\n",
       "\t23 & 511 & 3016 & \\$1-OFF (OC/PL) & D & 0.9346 & Take Away (TA) & $\\dots$ \\\\\n",
       "\t24 & 514 & 3007 & \\$1-OFF(PAssion) & D & -0.9347 & Take Away (TA) & $\\dots$ \\\\\n",
       "\t25 & 514 & 3007 & \\$1-OFF(PAssion) & D & -0.9347 & Eat In (EI) & $\\dots$ \\\\\n",
       "\t26 & 514 & 3007 & \\$1-OFF(PAssion) & D & -0.9346 & Eat In (EI) & $\\dots$ \\\\\n",
       "\t27 & 514 & 2000 & 25\\% EMP eDISC & D & -8.4019 & Take Away (TA) & $\\dots$ \\\\\n",
       "\t28 & 514 & 3007 & \\$1-OFF(PAssion) & D & -0.9346 & Eat In (EI) & $\\dots$ \\\\\n",
       "\t29 & 514 & 3007 & \\$1-OFF(PAssion) & D & -0.9346 & Take Away (TA) & $\\dots$ \\\\\n",
       "\t30 & 514 & 3007 & \\$1-OFF(PAssion) & D & -0.9346 & Take Away (TA) & $\\dots$ \\\\\n",
       "\t$\\dots$ & $\\dots$ & $\\dots$ & $\\dots$ & $\\dots$ & $\\dots$ & $\\dots$ &  \\\\\n",
       "\\end{tabular}\n"
      ],
      "text/plain": [
       "GroupedDataFrame with 3 groups based on key: transaction_type\n",
       "First Group (10447532 rows): transaction_type = \"M\". Omitted printing of 6 columns\n",
       "│ Row      │ storenum │ item_key │ item_description │ transaction_type │\n",
       "│          │ \u001b[90mInt64\u001b[39m    │ \u001b[90mInt64\u001b[39m    │ \u001b[90mString\u001b[39m           │ \u001b[90mString\u001b[39m           │\n",
       "├──────────┼──────────┼──────────┼──────────────────┼──────────────────┤\n",
       "│ 1        │ 505      │ 44158    │ *PF OR Thighs    │ M                │\n",
       "│ 2        │ 505      │ 915855   │ 1(OR)BPKT BX     │ M                │\n",
       "│ 3        │ 505      │ 913435   │ AO-2 CHZ FRI     │ M                │\n",
       "│ 4        │ 505      │ 912796   │ 1 HC ZNG BX      │ M                │\n",
       "│ 5        │ 505      │ 913435   │ AO-2 CHZ FRI     │ M                │\n",
       "│ 6        │ 505      │ 918231   │ 2P SCO ML        │ M                │\n",
       "│ 7        │ 505      │ 913435   │ AO-2 CHZ FRI     │ M                │\n",
       "│ 8        │ 505      │ 400102   │ RP>TEA           │ M                │\n",
       "│ 9        │ 505      │ 44013    │ *No Milk         │ M                │\n",
       "│ 10       │ 505      │ 400400   │ SJ>SJRA-M        │ M                │\n",
       "⋮\n",
       "│ 10447522 │ 670      │ 80005    │ ZINGER           │ M                │\n",
       "│ 10447523 │ 670      │ 918824   │ $1.95 SHRM FLT   │ M                │\n",
       "│ 10447524 │ 670      │ 916090   │ CURRY BWL ML     │ M                │\n",
       "│ 10447525 │ 670      │ 100007   │ CS -R            │ M                │\n",
       "│ 10447526 │ 670      │ 918824   │ $1.95 SHRM FLT   │ M                │\n",
       "│ 10447527 │ 670      │ 918830   │ TEN & FR SET     │ M                │\n",
       "│ 10447528 │ 670      │ 915535   │ AO CHZ FRIES     │ M                │\n",
       "│ 10447529 │ 670      │ 918177   │ CKN SKN          │ M                │\n",
       "│ 10447530 │ 670      │ 914357   │ 1P EGG TART      │ M                │\n",
       "│ 10447531 │ 670      │ 918866   │ 50% OFF BDML     │ M                │\n",
       "│ 10447532 │ 670      │ 918824   │ $1.95 SHRM FLT   │ M                │\n",
       "⋮\n",
       "Last Group (38012 rows): transaction_type = \"D\". Omitted printing of 6 columns\n",
       "│ Row   │ storenum │ item_key │ item_description    │ transaction_type │\n",
       "│       │ \u001b[90mInt64\u001b[39m    │ \u001b[90mInt64\u001b[39m    │ \u001b[90mString\u001b[39m              │ \u001b[90mString\u001b[39m           │\n",
       "├───────┼──────────┼──────────┼─────────────────────┼──────────────────┤\n",
       "│ 1     │ 505      │ 3007     │ $1-OFF(PAssion)     │ D                │\n",
       "│ 2     │ 505      │ 3007     │ $1-OFF(PAssion)     │ D                │\n",
       "│ 3     │ 505      │ 3007     │ $1-OFF(PAssion)     │ D                │\n",
       "│ 4     │ 506      │ 3007     │ $1-OFF(PAssion)     │ D                │\n",
       "│ 5     │ 506      │ 5016     │ 10% OFF xFOOD PANDA │ D                │\n",
       "│ 6     │ 506      │ 3007     │ $1-OFF(PAssion)     │ D                │\n",
       "│ 7     │ 506      │ 3007     │ $1-OFF(PAssion)     │ D                │\n",
       "│ 8     │ 506      │ 8027     │ 10% OFF GES DEAL    │ D                │\n",
       "│ 9     │ 507      │ 8027     │ 10% OFF GES DEAL    │ D                │\n",
       "│ 10    │ 508      │ 3007     │ $1-OFF(PAssion)     │ D                │\n",
       "⋮\n",
       "│ 38002 │ 669      │ 8027     │ 10% OFF GES DEAL    │ D                │\n",
       "│ 38003 │ 669      │ 8027     │ 10% OFF GES DEAL    │ D                │\n",
       "│ 38004 │ 669      │ 3007     │ $1-OFF(PAssion)     │ D                │\n",
       "│ 38005 │ 669      │ 8027     │ 10% OFF GES DEAL    │ D                │\n",
       "│ 38006 │ 669      │ 3007     │ $1-OFF(PAssion)     │ D                │\n",
       "│ 38007 │ 670      │ 3016     │ $1-OFF (OC/PL)      │ D                │\n",
       "│ 38008 │ 670      │ 3016     │ $1-OFF (OC/PL)      │ D                │\n",
       "│ 38009 │ 670      │ 3007     │ $1-OFF(PAssion)     │ D                │\n",
       "│ 38010 │ 670      │ 5016     │ 10% OFF xFOOD PANDA │ D                │\n",
       "│ 38011 │ 670      │ 3007     │ $1-OFF(PAssion)     │ D                │\n",
       "│ 38012 │ 670      │ 3007     │ $1-OFF(PAssion)     │ D                │"
      ]
     },
     "execution_count": 4,
     "metadata": {},
     "output_type": "execute_result"
    }
   ],
   "source": [
    "#grouping by transaction_type\n",
    "grp = groupby(df1,:transaction_type)"
   ]
  },
  {
   "cell_type": "code",
   "execution_count": 5,
   "id": "ee686cea",
   "metadata": {},
   "outputs": [
    {
     "data": {
      "text/html": [
       "<table class=\"data-frame\"><thead><tr><th></th><th>storenum</th><th>item_key</th><th>item_description</th><th>transaction_type</th><th>sales_amount</th><th>sales_channel</th></tr><tr><th></th><th>Int64</th><th>Int64</th><th>String</th><th>String</th><th>Float64</th><th>String</th></tr></thead><tbody><p>10,447,532 rows × 10 columns (omitted printing of 4 columns)</p><tr><th>1</th><td>505</td><td>44158</td><td>*PF OR Thighs</td><td>M</td><td>0.0</td><td>Eat In (EI)</td></tr><tr><th>2</th><td>505</td><td>915855</td><td>1(OR)BPKT BX</td><td>M</td><td>8.3645</td><td>Take Away (TA)</td></tr><tr><th>3</th><td>505</td><td>913435</td><td>AO-2 CHZ FRI</td><td>M</td><td>4.6729</td><td>Take Away (TA)</td></tr><tr><th>4</th><td>505</td><td>912796</td><td>1 HC ZNG BX</td><td>M</td><td>8.3645</td><td>Eat In (EI)</td></tr><tr><th>5</th><td>505</td><td>913435</td><td>AO-2 CHZ FRI</td><td>M</td><td>4.6729</td><td>Eat In (EI)</td></tr><tr><th>6</th><td>505</td><td>918231</td><td>2P SCO ML  </td><td>M</td><td>8.3645</td><td>Eat In (EI)</td></tr><tr><th>7</th><td>505</td><td>913435</td><td>AO-2 CHZ FRI</td><td>M</td><td>4.6729</td><td>Eat In (EI)</td></tr><tr><th>8</th><td>505</td><td>400102</td><td>RP&gt;TEA</td><td>M</td><td>0.0</td><td>Eat In (EI)</td></tr><tr><th>9</th><td>505</td><td>44013</td><td>*No Milk</td><td>M</td><td>0.0</td><td>Eat In (EI)</td></tr><tr><th>10</th><td>505</td><td>400400</td><td>SJ&gt;SJRA-M</td><td>M</td><td>0.4673</td><td>Eat In (EI)</td></tr><tr><th>11</th><td>505</td><td>44007</td><td>*No Ice</td><td>M</td><td>0.0</td><td>Eat In (EI)</td></tr><tr><th>12</th><td>505</td><td>30003</td><td>3P(OR)ML-A</td><td>M</td><td>9.486</td><td>Eat In (EI)</td></tr><tr><th>13</th><td>505</td><td>400128</td><td>RP&gt;IMILO -M</td><td>M</td><td>1.3084</td><td>Eat In (EI)</td></tr><tr><th>14</th><td>505</td><td>44007</td><td>*No Ice</td><td>M</td><td>0.0</td><td>Eat In (EI)</td></tr><tr><th>15</th><td>505</td><td>915967</td><td>6P C HZ TRT</td><td>M</td><td>7.0093</td><td>Eat In (EI)</td></tr><tr><th>16</th><td>505</td><td>912716</td><td>SHR F BGR ML</td><td>M</td><td>4.6729</td><td>Eat In (EI)</td></tr><tr><th>17</th><td>505</td><td>400122</td><td>RP&gt;MTDEW  -R</td><td>M</td><td>0.0</td><td>Eat In (EI)</td></tr><tr><th>18</th><td>505</td><td>30003</td><td>3P(OR)ML-A</td><td>M</td><td>9.486</td><td>Drive-Thru</td></tr><tr><th>19</th><td>505</td><td>450003</td><td>RWP&gt;FF -R</td><td>M</td><td>0.1869</td><td>Drive-Thru</td></tr><tr><th>20</th><td>505</td><td>916089</td><td>OR RC BWL ML</td><td>M</td><td>4.6729</td><td>Eat In (EI)</td></tr><tr><th>21</th><td>505</td><td>916654</td><td>RPEP&gt;NWCF </td><td>M</td><td>0.0</td><td>Eat In (EI)</td></tr><tr><th>22</th><td>505</td><td>914272</td><td>5P CKN BKT</td><td>M</td><td>13.2243</td><td>Take Away (TA)</td></tr><tr><th>23</th><td>505</td><td>44086</td><td>*PF OR Parts</td><td>M</td><td>0.0</td><td>Take Away (TA)</td></tr><tr><th>24</th><td>505</td><td>30002</td><td>2P(HC)ML-A</td><td>M</td><td>7.6168</td><td>Take Away (TA)</td></tr><tr><th>25</th><td>505</td><td>450005</td><td>RWP&gt;WP -M</td><td>M</td><td>1.1215</td><td>Take Away (TA)</td></tr><tr><th>26</th><td>505</td><td>912651</td><td>FY NAT FRT</td><td>M</td><td>4.6729</td><td>Drive-Thru</td></tr><tr><th>27</th><td>505</td><td>914982</td><td>FAM POT ML</td><td>M</td><td>4.6729</td><td>Eat In (EI)</td></tr><tr><th>28</th><td>505</td><td>30001</td><td>2P(OR)ML-A</td><td>M</td><td>7.6168</td><td>Eat In (EI)</td></tr><tr><th>29</th><td>505</td><td>44158</td><td>*PF OR Thighs</td><td>M</td><td>0.0</td><td>Eat In (EI)</td></tr><tr><th>30</th><td>505</td><td>44143</td><td>*PF OR Drum</td><td>M</td><td>0.0</td><td>Eat In (EI)</td></tr><tr><th>&vellip;</th><td>&vellip;</td><td>&vellip;</td><td>&vellip;</td><td>&vellip;</td><td>&vellip;</td><td>&vellip;</td></tr></tbody></table>"
      ],
      "text/latex": [
       "\\begin{tabular}{r|ccccccc}\n",
       "\t& storenum & item\\_key & item\\_description & transaction\\_type & sales\\_amount & sales\\_channel & \\\\\n",
       "\t\\hline\n",
       "\t& Int64 & Int64 & String & String & Float64 & String & \\\\\n",
       "\t\\hline\n",
       "\t1 & 505 & 44158 & *PF OR Thighs & M & 0.0 & Eat In (EI) & $\\dots$ \\\\\n",
       "\t2 & 505 & 915855 & 1(OR)BPKT BX & M & 8.3645 & Take Away (TA) & $\\dots$ \\\\\n",
       "\t3 & 505 & 913435 & AO-2 CHZ FRI & M & 4.6729 & Take Away (TA) & $\\dots$ \\\\\n",
       "\t4 & 505 & 912796 & 1 HC ZNG BX & M & 8.3645 & Eat In (EI) & $\\dots$ \\\\\n",
       "\t5 & 505 & 913435 & AO-2 CHZ FRI & M & 4.6729 & Eat In (EI) & $\\dots$ \\\\\n",
       "\t6 & 505 & 918231 & 2P SCO ML   & M & 8.3645 & Eat In (EI) & $\\dots$ \\\\\n",
       "\t7 & 505 & 913435 & AO-2 CHZ FRI & M & 4.6729 & Eat In (EI) & $\\dots$ \\\\\n",
       "\t8 & 505 & 400102 & RP>TEA & M & 0.0 & Eat In (EI) & $\\dots$ \\\\\n",
       "\t9 & 505 & 44013 & *No Milk & M & 0.0 & Eat In (EI) & $\\dots$ \\\\\n",
       "\t10 & 505 & 400400 & SJ>SJRA-M & M & 0.4673 & Eat In (EI) & $\\dots$ \\\\\n",
       "\t11 & 505 & 44007 & *No Ice & M & 0.0 & Eat In (EI) & $\\dots$ \\\\\n",
       "\t12 & 505 & 30003 & 3P(OR)ML-A & M & 9.486 & Eat In (EI) & $\\dots$ \\\\\n",
       "\t13 & 505 & 400128 & RP>IMILO -M & M & 1.3084 & Eat In (EI) & $\\dots$ \\\\\n",
       "\t14 & 505 & 44007 & *No Ice & M & 0.0 & Eat In (EI) & $\\dots$ \\\\\n",
       "\t15 & 505 & 915967 & 6P C HZ TRT & M & 7.0093 & Eat In (EI) & $\\dots$ \\\\\n",
       "\t16 & 505 & 912716 & SHR F BGR ML & M & 4.6729 & Eat In (EI) & $\\dots$ \\\\\n",
       "\t17 & 505 & 400122 & RP>MTDEW  -R & M & 0.0 & Eat In (EI) & $\\dots$ \\\\\n",
       "\t18 & 505 & 30003 & 3P(OR)ML-A & M & 9.486 & Drive-Thru & $\\dots$ \\\\\n",
       "\t19 & 505 & 450003 & RWP>FF -R & M & 0.1869 & Drive-Thru & $\\dots$ \\\\\n",
       "\t20 & 505 & 916089 & OR RC BWL ML & M & 4.6729 & Eat In (EI) & $\\dots$ \\\\\n",
       "\t21 & 505 & 916654 & RPEP>NWCF  & M & 0.0 & Eat In (EI) & $\\dots$ \\\\\n",
       "\t22 & 505 & 914272 & 5P CKN BKT & M & 13.2243 & Take Away (TA) & $\\dots$ \\\\\n",
       "\t23 & 505 & 44086 & *PF OR Parts & M & 0.0 & Take Away (TA) & $\\dots$ \\\\\n",
       "\t24 & 505 & 30002 & 2P(HC)ML-A & M & 7.6168 & Take Away (TA) & $\\dots$ \\\\\n",
       "\t25 & 505 & 450005 & RWP>WP -M & M & 1.1215 & Take Away (TA) & $\\dots$ \\\\\n",
       "\t26 & 505 & 912651 & FY NAT FRT & M & 4.6729 & Drive-Thru & $\\dots$ \\\\\n",
       "\t27 & 505 & 914982 & FAM POT ML & M & 4.6729 & Eat In (EI) & $\\dots$ \\\\\n",
       "\t28 & 505 & 30001 & 2P(OR)ML-A & M & 7.6168 & Eat In (EI) & $\\dots$ \\\\\n",
       "\t29 & 505 & 44158 & *PF OR Thighs & M & 0.0 & Eat In (EI) & $\\dots$ \\\\\n",
       "\t30 & 505 & 44143 & *PF OR Drum & M & 0.0 & Eat In (EI) & $\\dots$ \\\\\n",
       "\t$\\dots$ & $\\dots$ & $\\dots$ & $\\dots$ & $\\dots$ & $\\dots$ & $\\dots$ &  \\\\\n",
       "\\end{tabular}\n"
      ],
      "text/plain": [
       "10447532×10 SubDataFrame. Omitted printing of 6 columns\n",
       "│ Row      │ storenum │ item_key │ item_description │ transaction_type │\n",
       "│          │ \u001b[90mInt64\u001b[39m    │ \u001b[90mInt64\u001b[39m    │ \u001b[90mString\u001b[39m           │ \u001b[90mString\u001b[39m           │\n",
       "├──────────┼──────────┼──────────┼──────────────────┼──────────────────┤\n",
       "│ 1        │ 505      │ 44158    │ *PF OR Thighs    │ M                │\n",
       "│ 2        │ 505      │ 915855   │ 1(OR)BPKT BX     │ M                │\n",
       "│ 3        │ 505      │ 913435   │ AO-2 CHZ FRI     │ M                │\n",
       "│ 4        │ 505      │ 912796   │ 1 HC ZNG BX      │ M                │\n",
       "│ 5        │ 505      │ 913435   │ AO-2 CHZ FRI     │ M                │\n",
       "│ 6        │ 505      │ 918231   │ 2P SCO ML        │ M                │\n",
       "│ 7        │ 505      │ 913435   │ AO-2 CHZ FRI     │ M                │\n",
       "│ 8        │ 505      │ 400102   │ RP>TEA           │ M                │\n",
       "│ 9        │ 505      │ 44013    │ *No Milk         │ M                │\n",
       "│ 10       │ 505      │ 400400   │ SJ>SJRA-M        │ M                │\n",
       "⋮\n",
       "│ 10447522 │ 670      │ 80005    │ ZINGER           │ M                │\n",
       "│ 10447523 │ 670      │ 918824   │ $1.95 SHRM FLT   │ M                │\n",
       "│ 10447524 │ 670      │ 916090   │ CURRY BWL ML     │ M                │\n",
       "│ 10447525 │ 670      │ 100007   │ CS -R            │ M                │\n",
       "│ 10447526 │ 670      │ 918824   │ $1.95 SHRM FLT   │ M                │\n",
       "│ 10447527 │ 670      │ 918830   │ TEN & FR SET     │ M                │\n",
       "│ 10447528 │ 670      │ 915535   │ AO CHZ FRIES     │ M                │\n",
       "│ 10447529 │ 670      │ 918177   │ CKN SKN          │ M                │\n",
       "│ 10447530 │ 670      │ 914357   │ 1P EGG TART      │ M                │\n",
       "│ 10447531 │ 670      │ 918866   │ 50% OFF BDML     │ M                │\n",
       "│ 10447532 │ 670      │ 918824   │ $1.95 SHRM FLT   │ M                │"
      ]
     },
     "execution_count": 5,
     "metadata": {},
     "output_type": "execute_result"
    }
   ],
   "source": [
    "#Consider transaction_type M\n",
    "grp = grp[1]"
   ]
  },
  {
   "cell_type": "code",
   "execution_count": 6,
   "id": "7b3489ee",
   "metadata": {},
   "outputs": [
    {
     "data": {
      "text/html": [
       "<p><b>GroupedDataFrame with 3716867 groups based on key: store_transaction_key</b></p><p><i>First Group (4 rows): store_transaction_key = \"505_5022_2020-01-01\"</i></p><table class=\"data-frame\"><thead><tr><th></th><th>storenum</th><th>item_key</th><th>item_description</th><th>transaction_type</th><th>sales_amount</th><th>sales_channel</th></tr><tr><th></th><th>Int64</th><th>Int64</th><th>String</th><th>String</th><th>Float64</th><th>String</th></tr></thead><tbody><tr><th>1</th><td>505</td><td>44158</td><td>*PF OR Thighs</td><td>M</td><td>0.0</td><td>Eat In (EI)</td></tr><tr><th>2</th><td>505</td><td>10001</td><td>1PC (OR)</td><td>M</td><td>3.1308</td><td>Eat In (EI)</td></tr><tr><th>3</th><td>505</td><td>10001</td><td>1PC (OR)</td><td>M</td><td>3.1308</td><td>Eat In (EI)</td></tr><tr><th>4</th><td>505</td><td>44158</td><td>*PF OR Thighs</td><td>M</td><td>0.0</td><td>Eat In (EI)</td></tr></tbody></table><p>&vellip;</p><p><i>Last Group (2 rows): store_transaction_key = \"670_7940_2020-03-11\"</i></p><table class=\"data-frame\"><thead><tr><th></th><th>storenum</th><th>item_key</th><th>item_description</th><th>transaction_type</th><th>sales_amount</th><th>sales_channel</th></tr><tr><th></th><th>Int64</th><th>Int64</th><th>String</th><th>String</th><th>Float64</th><th>String</th></tr></thead><tbody><tr><th>1</th><td>670</td><td>918866</td><td>50% OFF BDML</td><td>M</td><td>10.7944</td><td>Self-Ordering TA</td></tr><tr><th>2</th><td>670</td><td>918824</td><td>$1.95 SHRM FLT</td><td>M</td><td>1.8224</td><td>Self-Ordering TA</td></tr></tbody></table>"
      ],
      "text/latex": [
       "GroupedDataFrame with 3716867 groups based on key: store\\_transaction\\_key\n",
       "\n",
       "First Group (4 rows): store\\_transaction\\_key = \"505\\_5022\\_2020-01-01\"\n",
       "\n",
       "\\begin{tabular}{r|ccccccc}\n",
       "\t& storenum & item\\_key & item\\_description & transaction\\_type & sales\\_amount & sales\\_channel & \\\\\n",
       "\t\\hline\n",
       "\t& Int64 & Int64 & String & String & Float64 & String & \\\\\n",
       "\t\\hline\n",
       "\t1 & 505 & 44158 & *PF OR Thighs & M & 0.0 & Eat In (EI) & $\\dots$ \\\\\n",
       "\t2 & 505 & 10001 & 1PC (OR) & M & 3.1308 & Eat In (EI) & $\\dots$ \\\\\n",
       "\t3 & 505 & 10001 & 1PC (OR) & M & 3.1308 & Eat In (EI) & $\\dots$ \\\\\n",
       "\t4 & 505 & 44158 & *PF OR Thighs & M & 0.0 & Eat In (EI) & $\\dots$ \\\\\n",
       "\\end{tabular}\n",
       "\n",
       "$\\dots$\n",
       "\n",
       "Last Group (2 rows): store\\_transaction\\_key = \"670\\_7940\\_2020-03-11\"\n",
       "\n",
       "\\begin{tabular}{r|ccccccc}\n",
       "\t& storenum & item\\_key & item\\_description & transaction\\_type & sales\\_amount & sales\\_channel & \\\\\n",
       "\t\\hline\n",
       "\t& Int64 & Int64 & String & String & Float64 & String & \\\\\n",
       "\t\\hline\n",
       "\t1 & 670 & 918866 & 50\\% OFF BDML & M & 10.7944 & Self-Ordering TA & $\\dots$ \\\\\n",
       "\t2 & 670 & 918824 & \\$1.95 SHRM FLT & M & 1.8224 & Self-Ordering TA & $\\dots$ \\\\\n",
       "\\end{tabular}\n"
      ],
      "text/plain": [
       "GroupedDataFrame with 3716867 groups based on key: store_transaction_key\n",
       "First Group (4 rows): store_transaction_key = \"505_5022_2020-01-01\". Omitted printing of 6 columns\n",
       "│ Row │ storenum │ item_key │ item_description │ transaction_type │\n",
       "│     │ \u001b[90mInt64\u001b[39m    │ \u001b[90mInt64\u001b[39m    │ \u001b[90mString\u001b[39m           │ \u001b[90mString\u001b[39m           │\n",
       "├─────┼──────────┼──────────┼──────────────────┼──────────────────┤\n",
       "│ 1   │ 505      │ 44158    │ *PF OR Thighs    │ M                │\n",
       "│ 2   │ 505      │ 10001    │ 1PC (OR)         │ M                │\n",
       "│ 3   │ 505      │ 10001    │ 1PC (OR)         │ M                │\n",
       "│ 4   │ 505      │ 44158    │ *PF OR Thighs    │ M                │\n",
       "⋮\n",
       "Last Group (2 rows): store_transaction_key = \"670_7940_2020-03-11\". Omitted printing of 6 columns\n",
       "│ Row │ storenum │ item_key │ item_description │ transaction_type │\n",
       "│     │ \u001b[90mInt64\u001b[39m    │ \u001b[90mInt64\u001b[39m    │ \u001b[90mString\u001b[39m           │ \u001b[90mString\u001b[39m           │\n",
       "├─────┼──────────┼──────────┼──────────────────┼──────────────────┤\n",
       "│ 1   │ 670      │ 918866   │ 50% OFF BDML     │ M                │\n",
       "│ 2   │ 670      │ 918824   │ $1.95 SHRM FLT   │ M                │"
      ]
     },
     "execution_count": 6,
     "metadata": {},
     "output_type": "execute_result"
    }
   ],
   "source": [
    "#Grouping DataFrame based on store_transaction_key\n",
    "gdf = groupby(grp,:store_transaction_key)"
   ]
  },
  {
   "cell_type": "code",
   "execution_count": 7,
   "id": "644b6277",
   "metadata": {},
   "outputs": [
    {
     "data": {
      "text/html": [
       "<table class=\"data-frame\"><thead><tr><th></th><th>store_transaction_key</th><th>sales_amount_sum</th></tr><tr><th></th><th>String</th><th>Float64</th></tr></thead><tbody><p>3,716,867 rows × 2 columns</p><tr><th>1</th><td>505_5022_2020-01-01</td><td>6.2616</td></tr><tr><th>2</th><td>505_5023_2020-01-01</td><td>13.0374</td></tr><tr><th>3</th><td>505_5024_2020-01-01</td><td>44.3458</td></tr><tr><th>4</th><td>505_5025_2020-01-01</td><td>4.6729</td></tr><tr><th>5</th><td>505_5026_2020-01-01</td><td>9.6729</td></tr><tr><th>6</th><td>505_5027_2020-01-01</td><td>4.6729</td></tr><tr><th>7</th><td>505_5028_2020-01-01</td><td>21.9626</td></tr><tr><th>8</th><td>505_5029_2020-01-01</td><td>4.6729</td></tr><tr><th>9</th><td>505_5030_2020-01-01</td><td>12.2897</td></tr><tr><th>10</th><td>505_5031_2020-01-01</td><td>4.6729</td></tr><tr><th>11</th><td>505_5032_2020-01-01</td><td>11.4019</td></tr><tr><th>12</th><td>505_5033_2020-01-01</td><td>17.7103</td></tr><tr><th>13</th><td>505_5034_2020-01-01</td><td>1.4019</td></tr><tr><th>14</th><td>505_5035_2020-01-01</td><td>16.729</td></tr><tr><th>15</th><td>505_5036_2020-01-01</td><td>15.7944</td></tr><tr><th>16</th><td>505_5037_2020-01-01</td><td>2.5234</td></tr><tr><th>17</th><td>505_5038_2020-01-01</td><td>7.6168</td></tr><tr><th>18</th><td>505_5039_2020-01-01</td><td>6.3551</td></tr><tr><th>19</th><td>505_5040_2020-01-01</td><td>28.271</td></tr><tr><th>20</th><td>505_5041_2020-01-01</td><td>28.7851</td></tr><tr><th>21</th><td>505_5042_2020-01-01</td><td>7.9907</td></tr><tr><th>22</th><td>505_5043_2020-01-01</td><td>21.8224</td></tr><tr><th>23</th><td>505_5044_2020-01-01</td><td>2.3364</td></tr><tr><th>24</th><td>505_5045_2020-01-01</td><td>0.0</td></tr><tr><th>25</th><td>505_5046_2020-01-01</td><td>10.7944</td></tr><tr><th>26</th><td>505_5047_2020-01-01</td><td>16.1682</td></tr><tr><th>27</th><td>505_5048_2020-01-01</td><td>15.2804</td></tr><tr><th>28</th><td>505_5049_2020-01-01</td><td>16.1682</td></tr><tr><th>29</th><td>505_5050_2020-01-01</td><td>42.0093</td></tr><tr><th>30</th><td>505_5051_2020-01-01</td><td>3.9252</td></tr><tr><th>&vellip;</th><td>&vellip;</td><td>&vellip;</td></tr></tbody></table>"
      ],
      "text/latex": [
       "\\begin{tabular}{r|cc}\n",
       "\t& store\\_transaction\\_key & sales\\_amount\\_sum\\\\\n",
       "\t\\hline\n",
       "\t& String & Float64\\\\\n",
       "\t\\hline\n",
       "\t1 & 505\\_5022\\_2020-01-01 & 6.2616 \\\\\n",
       "\t2 & 505\\_5023\\_2020-01-01 & 13.0374 \\\\\n",
       "\t3 & 505\\_5024\\_2020-01-01 & 44.3458 \\\\\n",
       "\t4 & 505\\_5025\\_2020-01-01 & 4.6729 \\\\\n",
       "\t5 & 505\\_5026\\_2020-01-01 & 9.6729 \\\\\n",
       "\t6 & 505\\_5027\\_2020-01-01 & 4.6729 \\\\\n",
       "\t7 & 505\\_5028\\_2020-01-01 & 21.9626 \\\\\n",
       "\t8 & 505\\_5029\\_2020-01-01 & 4.6729 \\\\\n",
       "\t9 & 505\\_5030\\_2020-01-01 & 12.2897 \\\\\n",
       "\t10 & 505\\_5031\\_2020-01-01 & 4.6729 \\\\\n",
       "\t11 & 505\\_5032\\_2020-01-01 & 11.4019 \\\\\n",
       "\t12 & 505\\_5033\\_2020-01-01 & 17.7103 \\\\\n",
       "\t13 & 505\\_5034\\_2020-01-01 & 1.4019 \\\\\n",
       "\t14 & 505\\_5035\\_2020-01-01 & 16.729 \\\\\n",
       "\t15 & 505\\_5036\\_2020-01-01 & 15.7944 \\\\\n",
       "\t16 & 505\\_5037\\_2020-01-01 & 2.5234 \\\\\n",
       "\t17 & 505\\_5038\\_2020-01-01 & 7.6168 \\\\\n",
       "\t18 & 505\\_5039\\_2020-01-01 & 6.3551 \\\\\n",
       "\t19 & 505\\_5040\\_2020-01-01 & 28.271 \\\\\n",
       "\t20 & 505\\_5041\\_2020-01-01 & 28.7851 \\\\\n",
       "\t21 & 505\\_5042\\_2020-01-01 & 7.9907 \\\\\n",
       "\t22 & 505\\_5043\\_2020-01-01 & 21.8224 \\\\\n",
       "\t23 & 505\\_5044\\_2020-01-01 & 2.3364 \\\\\n",
       "\t24 & 505\\_5045\\_2020-01-01 & 0.0 \\\\\n",
       "\t25 & 505\\_5046\\_2020-01-01 & 10.7944 \\\\\n",
       "\t26 & 505\\_5047\\_2020-01-01 & 16.1682 \\\\\n",
       "\t27 & 505\\_5048\\_2020-01-01 & 15.2804 \\\\\n",
       "\t28 & 505\\_5049\\_2020-01-01 & 16.1682 \\\\\n",
       "\t29 & 505\\_5050\\_2020-01-01 & 42.0093 \\\\\n",
       "\t30 & 505\\_5051\\_2020-01-01 & 3.9252 \\\\\n",
       "\t$\\dots$ & $\\dots$ & $\\dots$ \\\\\n",
       "\\end{tabular}\n"
      ],
      "text/plain": [
       "3716867×2 DataFrame\n",
       "│ Row     │ store_transaction_key │ sales_amount_sum │\n",
       "│         │ \u001b[90mString\u001b[39m                │ \u001b[90mFloat64\u001b[39m          │\n",
       "├─────────┼───────────────────────┼──────────────────┤\n",
       "│ 1       │ 505_5022_2020-01-01   │ 6.2616           │\n",
       "│ 2       │ 505_5023_2020-01-01   │ 13.0374          │\n",
       "│ 3       │ 505_5024_2020-01-01   │ 44.3458          │\n",
       "│ 4       │ 505_5025_2020-01-01   │ 4.6729           │\n",
       "│ 5       │ 505_5026_2020-01-01   │ 9.6729           │\n",
       "│ 6       │ 505_5027_2020-01-01   │ 4.6729           │\n",
       "│ 7       │ 505_5028_2020-01-01   │ 21.9626          │\n",
       "│ 8       │ 505_5029_2020-01-01   │ 4.6729           │\n",
       "│ 9       │ 505_5030_2020-01-01   │ 12.2897          │\n",
       "│ 10      │ 505_5031_2020-01-01   │ 4.6729           │\n",
       "⋮\n",
       "│ 3716857 │ 670_7930_2020-03-11   │ 8.3644           │\n",
       "│ 3716858 │ 670_7931_2020-03-11   │ 1.215            │\n",
       "│ 3716859 │ 670_7932_2020-03-11   │ 10.2336          │\n",
       "│ 3716860 │ 670_7933_2020-03-11   │ 17.8972          │\n",
       "│ 3716861 │ 670_7934_2020-03-11   │ 7.3832           │\n",
       "│ 3716862 │ 670_7935_2020-03-11   │ 8.3645           │\n",
       "│ 3716863 │ 670_7936_2020-03-11   │ 13.1776          │\n",
       "│ 3716864 │ 670_7937_2020-03-11   │ 15.187           │\n",
       "│ 3716865 │ 670_7938_2020-03-11   │ 8.4579           │\n",
       "│ 3716866 │ 670_7939_2020-03-11   │ 8.4112           │\n",
       "│ 3716867 │ 670_7940_2020-03-11   │ 12.6168          │"
      ]
     },
     "execution_count": 7,
     "metadata": {},
     "output_type": "execute_result"
    }
   ],
   "source": [
    "#Using grouping to combine sales amount wrt each transaction key\n",
    "df2_sales = combine(gdf,:sales_amount =>sum)"
   ]
  },
  {
   "cell_type": "code",
   "execution_count": 8,
   "id": "3f107f97",
   "metadata": {},
   "outputs": [],
   "source": [
    "#mapping from transaction key to sales amount\n",
    "map_sales = Dict()\n",
    "\n",
    "for i in 1:length(df2_sales.store_transaction_key)\n",
    "    map_sales[df2_sales.store_transaction_key[i]] = df2_sales.sales_amount_sum[i]\n",
    "end"
   ]
  },
  {
   "cell_type": "code",
   "execution_count": 9,
   "id": "97e02493",
   "metadata": {},
   "outputs": [],
   "source": [
    "#mapping from transaction key to storenum\n",
    "map_storenum = Dict()\n",
    "\n",
    "for i in 1:length(gdf)\n",
    "    map_storenum[gdf[i].store_transaction_key[1]] = gdf[i].storenum[1]\n",
    "end"
   ]
  },
  {
   "cell_type": "code",
   "execution_count": 10,
   "id": "2ab189c5",
   "metadata": {},
   "outputs": [
    {
     "data": {
      "text/plain": [
       "emb (generic function with 1 method)"
      ]
     },
     "execution_count": 10,
     "metadata": {},
     "output_type": "execute_result"
    }
   ],
   "source": [
    "#preparing embedding clusterwise function\n",
    "function emb(cl,daypart)\n",
    "    path_embedd = cl*\"_\"*daypart*\"_embedding.csv\"\n",
    "    df_embedd = DataFrame(CSV.File(path_embedd))\n",
    "    \n",
    "    path_trn = cl*\"_\"*daypart*\"_Clusters_sales_channel.csv\"\n",
    "    df_trn = DataFrame(CSV.File(path_trn))\n",
    "    \n",
    "    df = hcat(df_trn,df_embedd)\n",
    "    \n",
    "    arr_sales = []\n",
    "    arr_storenum = []\n",
    "\n",
    "    for i in 1:length(df.store_transaction_key)\n",
    "        push!(arr_sales,map_sales[df.store_transaction_key[i]])\n",
    "        push!(arr_storenum,map_storenum[df.store_transaction_key[i]])\n",
    "    end\n",
    "    \n",
    "    df.sales = arr_sales\n",
    "    df.storenum = arr_storenum\n",
    "    \n",
    "    grp = groupby(df,:cluster)\n",
    "    \n",
    "    for i in 1:length(grp)\n",
    "        d = DataFrame(grp[i])\n",
    "        select!(d,Not(\"cluster\"))\n",
    "        path = cl*\"_\"*daypart*\"_embedding_Cluster$i.csv\"\n",
    "        println(path)\n",
    "        CSV.write(path,d)\n",
    "    end\n",
    "end"
   ]
  },
  {
   "cell_type": "code",
   "execution_count": 11,
   "id": "edcfb83b",
   "metadata": {},
   "outputs": [
    {
     "name": "stdout",
     "output_type": "stream",
     "text": [
      "q1_Breakfast_Weekday_embedding_Cluster1.csv\n",
      "q1_Breakfast_Weekday_embedding_Cluster2.csv\n",
      "1\n",
      "q1_Breakfast_Weekend_embedding_Cluster1.csv\n",
      "2\n",
      "q1_Lunch_Weekday_embedding_Cluster1.csv\n",
      "q1_Lunch_Weekday_embedding_Cluster2.csv\n",
      "q1_Lunch_Weekday_embedding_Cluster3.csv\n",
      "q1_Lunch_Weekday_embedding_Cluster4.csv\n",
      "q1_Lunch_Weekday_embedding_Cluster5.csv\n",
      "q1_Lunch_Weekday_embedding_Cluster6.csv\n",
      "3\n",
      "q1_Lunch_Weekend_embedding_Cluster1.csv\n",
      "q1_Lunch_Weekend_embedding_Cluster2.csv\n",
      "q1_Lunch_Weekend_embedding_Cluster3.csv\n",
      "q1_Lunch_Weekend_embedding_Cluster4.csv\n",
      "4\n",
      "q1_Dinner_Weekday_embedding_Cluster1.csv\n",
      "q1_Dinner_Weekday_embedding_Cluster2.csv\n",
      "q1_Dinner_Weekday_embedding_Cluster3.csv\n",
      "5\n",
      "q1_Dinner_Weekend_embedding_Cluster1.csv\n",
      "q1_Dinner_Weekend_embedding_Cluster2.csv\n",
      "q1_Dinner_Weekend_embedding_Cluster3.csv\n",
      "6\n"
     ]
    }
   ],
   "source": [
    "#Quarterwise embeddings preparation\n",
    "segment = [\"Breakfast_Weekday\",\"Breakfast_Weekend\",\"Lunch_Weekday\",\"Lunch_Weekend\",\"Dinner_Weekday\",\"Dinner_Weekend\"]\n",
    "\n",
    "for j in 1:6\n",
    "    emb(\"q1\",segment[j])\n",
    "    println(j)\n",
    "end"
   ]
  },
  {
   "cell_type": "markdown",
   "id": "34e6f02c",
   "metadata": {},
   "source": [
    "# Regionwise stores clustering"
   ]
  },
  {
   "cell_type": "code",
   "execution_count": 2,
   "id": "c3369ead",
   "metadata": {
    "scrolled": true
   },
   "outputs": [
    {
     "data": {
      "text/html": [
       "<table class=\"data-frame\"><thead><tr><th></th><th>LOCAL_STORE_NUMBER</th><th>JDE_NUMBER</th><th>CHAMPS_NUMBER</th><th>STORE_NM</th><th>STATUS_KEY</th></tr><tr><th></th><th>Any</th><th>Any</th><th>Any</th><th>Any</th><th>Any</th></tr></thead><tbody><p>111 rows × 9 columns (omitted printing of 4 columns)</p><tr><th>1</th><td>501</td><td>54050174</td><td>65K501</td><td>Signature@Changi Business Park</td><td>654</td></tr><tr><th>2</th><td>503</td><td>54049305</td><td>65K503</td><td>Bedok KFC</td><td>654</td></tr><tr><th>3</th><td>511</td><td>54050338</td><td>65K511</td><td>Nee Soon South CC</td><td>654</td></tr><tr><th>4</th><td>512</td><td>54049309</td><td>65K512</td><td>Woodlands Centre</td><td>654</td></tr><tr><th>5</th><td>515</td><td>54049311</td><td>65K515</td><td>People's Park Complex</td><td>654</td></tr><tr><th>6</th><td>556</td><td>54050184</td><td>65K556</td><td>Valley Point</td><td>654</td></tr><tr><th>7</th><td>561</td><td>54050206</td><td>65K561</td><td>Guthrie House</td><td>654</td></tr><tr><th>8</th><td>567</td><td>54049317</td><td>65K567</td><td>Tiong Bahru Plaza</td><td>654</td></tr><tr><th>9</th><td>592</td><td>54049324</td><td>65K592</td><td>Admiralty</td><td>654</td></tr><tr><th>10</th><td>622</td><td>54049357</td><td>65K622</td><td>Shaw Plaza</td><td>654</td></tr><tr><th>11</th><td>628</td><td>54049403</td><td>65K628</td><td>KFC Singapore Post Centre</td><td>654</td></tr><tr><th>12</th><td>629</td><td>54049404</td><td>65K629</td><td>Tampines CPF</td><td>654</td></tr><tr><th>13</th><td>637</td><td>54049484</td><td>65K637</td><td>Marina Square</td><td>654</td></tr><tr><th>14</th><td>641</td><td>54049591</td><td>65K641</td><td>Bukit Timah Plaza</td><td>654</td></tr><tr><th>15</th><td>647</td><td>54049648</td><td>65K647</td><td>KFC Kovan Heartland Mall</td><td>654</td></tr><tr><th>16</th><td>649</td><td>54049668</td><td>65K649</td><td>KFC Funan</td><td>654</td></tr><tr><th>17</th><td>651</td><td>54049859</td><td>65K651</td><td>KFC Merlion Plaza, Sentosa</td><td>654</td></tr><tr><th>18</th><td>657</td><td>54049915</td><td>65K657</td><td>Terminal 1</td><td>654</td></tr><tr><th>19</th><td>661</td><td>54049927</td><td>65K661</td><td>KFC Keypoint</td><td>654</td></tr><tr><th>20</th><td>662</td><td>54049950</td><td>65K662</td><td>Parklane</td><td>654</td></tr><tr><th>21</th><td>663</td><td>54049977</td><td>65K663</td><td>Raffles City</td><td>654</td></tr><tr><th>22</th><td>668</td><td>54050313</td><td>65K668</td><td>KidZania_KFC</td><td>654</td></tr><tr><th>23</th><td>619</td><td>54049354</td><td>65K619</td><td>Yishun Express</td><td>654</td></tr><tr><th>24</th><td>630</td><td>54049408</td><td>65K630</td><td>Fuchun Community Club Express</td><td>654</td></tr><tr><th>25</th><td>652</td><td>54049928</td><td>65K652</td><td>KFC Punggol East</td><td>653</td></tr><tr><th>26</th><td>502</td><td>54049304</td><td>65K502</td><td>Yung Ho KFC</td><td>653</td></tr><tr><th>27</th><td>505</td><td>54049306</td><td>65K505</td><td>Kallang Stadium</td><td>653</td></tr><tr><th>28</th><td>528</td><td>54049313</td><td>65K528</td><td>Toa Payoh</td><td>653</td></tr><tr><th>29</th><td>658</td><td>54049789</td><td>65K658</td><td>Jalan Bukit Merah</td><td>653</td></tr><tr><th>30</th><td>504</td><td>54050392</td><td>65K504</td><td>Hillion Mall</td><td>653</td></tr><tr><th>&vellip;</th><td>&vellip;</td><td>&vellip;</td><td>&vellip;</td><td>&vellip;</td><td>&vellip;</td></tr></tbody></table>"
      ],
      "text/latex": [
       "\\begin{tabular}{r|cccccc}\n",
       "\t& LOCAL\\_STORE\\_NUMBER & JDE\\_NUMBER & CHAMPS\\_NUMBER & STORE\\_NM & STATUS\\_KEY & \\\\\n",
       "\t\\hline\n",
       "\t& Any & Any & Any & Any & Any & \\\\\n",
       "\t\\hline\n",
       "\t1 & 501 & 54050174 & 65K501 & Signature@Changi Business Park & 654 & $\\dots$ \\\\\n",
       "\t2 & 503 & 54049305 & 65K503 & Bedok KFC & 654 & $\\dots$ \\\\\n",
       "\t3 & 511 & 54050338 & 65K511 & Nee Soon South CC & 654 & $\\dots$ \\\\\n",
       "\t4 & 512 & 54049309 & 65K512 & Woodlands Centre & 654 & $\\dots$ \\\\\n",
       "\t5 & 515 & 54049311 & 65K515 & People's Park Complex & 654 & $\\dots$ \\\\\n",
       "\t6 & 556 & 54050184 & 65K556 & Valley Point & 654 & $\\dots$ \\\\\n",
       "\t7 & 561 & 54050206 & 65K561 & Guthrie House & 654 & $\\dots$ \\\\\n",
       "\t8 & 567 & 54049317 & 65K567 & Tiong Bahru Plaza & 654 & $\\dots$ \\\\\n",
       "\t9 & 592 & 54049324 & 65K592 & Admiralty & 654 & $\\dots$ \\\\\n",
       "\t10 & 622 & 54049357 & 65K622 & Shaw Plaza & 654 & $\\dots$ \\\\\n",
       "\t11 & 628 & 54049403 & 65K628 & KFC Singapore Post Centre & 654 & $\\dots$ \\\\\n",
       "\t12 & 629 & 54049404 & 65K629 & Tampines CPF & 654 & $\\dots$ \\\\\n",
       "\t13 & 637 & 54049484 & 65K637 & Marina Square & 654 & $\\dots$ \\\\\n",
       "\t14 & 641 & 54049591 & 65K641 & Bukit Timah Plaza & 654 & $\\dots$ \\\\\n",
       "\t15 & 647 & 54049648 & 65K647 & KFC Kovan Heartland Mall & 654 & $\\dots$ \\\\\n",
       "\t16 & 649 & 54049668 & 65K649 & KFC Funan & 654 & $\\dots$ \\\\\n",
       "\t17 & 651 & 54049859 & 65K651 & KFC Merlion Plaza, Sentosa & 654 & $\\dots$ \\\\\n",
       "\t18 & 657 & 54049915 & 65K657 & Terminal 1 & 654 & $\\dots$ \\\\\n",
       "\t19 & 661 & 54049927 & 65K661 & KFC Keypoint & 654 & $\\dots$ \\\\\n",
       "\t20 & 662 & 54049950 & 65K662 & Parklane & 654 & $\\dots$ \\\\\n",
       "\t21 & 663 & 54049977 & 65K663 & Raffles City & 654 & $\\dots$ \\\\\n",
       "\t22 & 668 & 54050313 & 65K668 & KidZania\\_KFC & 654 & $\\dots$ \\\\\n",
       "\t23 & 619 & 54049354 & 65K619 & Yishun Express & 654 & $\\dots$ \\\\\n",
       "\t24 & 630 & 54049408 & 65K630 & Fuchun Community Club Express & 654 & $\\dots$ \\\\\n",
       "\t25 & 652 & 54049928 & 65K652 & KFC Punggol East & 653 & $\\dots$ \\\\\n",
       "\t26 & 502 & 54049304 & 65K502 & Yung Ho KFC & 653 & $\\dots$ \\\\\n",
       "\t27 & 505 & 54049306 & 65K505 & Kallang Stadium & 653 & $\\dots$ \\\\\n",
       "\t28 & 528 & 54049313 & 65K528 & Toa Payoh & 653 & $\\dots$ \\\\\n",
       "\t29 & 658 & 54049789 & 65K658 & Jalan Bukit Merah & 653 & $\\dots$ \\\\\n",
       "\t30 & 504 & 54050392 & 65K504 & Hillion Mall & 653 & $\\dots$ \\\\\n",
       "\t$\\dots$ & $\\dots$ & $\\dots$ & $\\dots$ & $\\dots$ & $\\dots$ &  \\\\\n",
       "\\end{tabular}\n"
      ],
      "text/plain": [
       "111×9 DataFrame. Omitted printing of 6 columns\n",
       "│ Row │ LOCAL_STORE_NUMBER │ JDE_NUMBER │ CHAMPS_NUMBER │\n",
       "│     │ \u001b[90mAny\u001b[39m                │ \u001b[90mAny\u001b[39m        │ \u001b[90mAny\u001b[39m           │\n",
       "├─────┼────────────────────┼────────────┼───────────────┤\n",
       "│ 1   │ 501                │ 54050174   │ 65K501        │\n",
       "│ 2   │ 503                │ 54049305   │ 65K503        │\n",
       "│ 3   │ 511                │ 54050338   │ 65K511        │\n",
       "│ 4   │ 512                │ 54049309   │ 65K512        │\n",
       "│ 5   │ 515                │ 54049311   │ 65K515        │\n",
       "│ 6   │ 556                │ 54050184   │ 65K556        │\n",
       "│ 7   │ 561                │ 54050206   │ 65K561        │\n",
       "│ 8   │ 567                │ 54049317   │ 65K567        │\n",
       "│ 9   │ 592                │ 54049324   │ 65K592        │\n",
       "│ 10  │ 622                │ 54049357   │ 65K622        │\n",
       "⋮\n",
       "│ 101 │ 670                │ 54050122   │ 65K670        │\n",
       "│ 102 │ 542                │ 44055985   │ 65K542        │\n",
       "│ 103 │ 549                │ 44056176   │ 65K549        │\n",
       "│ 104 │ 530                │ 44056829   │ 65K530        │\n",
       "│ 105 │ 548                │ 44056830   │ 65K548        │\n",
       "│ 106 │ 568                │ 54049318   │ 65K568        │\n",
       "│ 107 │ 596                │ 54049326   │ 65K596        │\n",
       "│ 108 │ 621                │ 54049366   │ 65K621        │\n",
       "│ 109 │ 632                │ 54049440   │ 65K632        │\n",
       "│ 110 │ 967                │ 54049200   │ 65K967        │\n",
       "│ 111 │ 968                │ 54037568   │ 65K968        │"
      ]
     },
     "execution_count": 2,
     "metadata": {},
     "output_type": "execute_result"
    }
   ],
   "source": [
    "#loading the regionwise storenum data\n",
    "import XLSX\n",
    "df = DataFrame(XLSX.readtable(\"SGP_STORES.xlsx\", \"Sheet1\")...)"
   ]
  },
  {
   "cell_type": "code",
   "execution_count": 3,
   "id": "b2766d1a",
   "metadata": {},
   "outputs": [
    {
     "data": {
      "text/html": [
       "<table class=\"data-frame\"><thead><tr><th></th><th>Storenum</th><th>Latitude</th><th>Longitude</th></tr><tr><th></th><th>Any</th><th>Any</th><th>Any</th></tr></thead><tbody><p>111 rows × 3 columns</p><tr><th>1</th><td>501</td><td>1.33495</td><td>103.966</td></tr><tr><th>2</th><td>503</td><td>1.32478</td><td>103.931</td></tr><tr><th>3</th><td>511</td><td>1.41513</td><td>103.835</td></tr><tr><th>4</th><td>512</td><td>1.43985</td><td>103.77</td></tr><tr><th>5</th><td>515</td><td>0</td><td>0</td></tr><tr><th>6</th><td>556</td><td>1.29319</td><td>103.827</td></tr><tr><th>7</th><td>561</td><td>1.33095</td><td>103.796</td></tr><tr><th>8</th><td>567</td><td>0</td><td>0</td></tr><tr><th>9</th><td>592</td><td>1.44047</td><td>103.802</td></tr><tr><th>10</th><td>622</td><td>1.32518</td><td>103.851</td></tr><tr><th>11</th><td>628</td><td>0</td><td>0</td></tr><tr><th>12</th><td>629</td><td>1.35338</td><td>103.944</td></tr><tr><th>13</th><td>637</td><td>1.29174</td><td>103.858</td></tr><tr><th>14</th><td>641</td><td>1.33902</td><td>103.779</td></tr><tr><th>15</th><td>647</td><td>1.35956</td><td>103.885</td></tr><tr><th>16</th><td>649</td><td>1.29158</td><td>103.85</td></tr><tr><th>17</th><td>651</td><td>1.25433</td><td>103.819</td></tr><tr><th>18</th><td>657</td><td>1.36185</td><td>103.99</td></tr><tr><th>19</th><td>661</td><td>1.30257</td><td>103.862</td></tr><tr><th>20</th><td>662</td><td>1.30089</td><td>103.849</td></tr><tr><th>21</th><td>663</td><td>0</td><td>0</td></tr><tr><th>22</th><td>668</td><td>1.25145</td><td>103.82</td></tr><tr><th>23</th><td>619</td><td>1.43698</td><td>103.837</td></tr><tr><th>24</th><td>630</td><td>1.42957</td><td>103.775</td></tr><tr><th>25</th><td>652</td><td>1.39537</td><td>103.918</td></tr><tr><th>26</th><td>502</td><td>1.3264</td><td>103.724</td></tr><tr><th>27</th><td>505</td><td>1.30501</td><td>103.881</td></tr><tr><th>28</th><td>528</td><td>1.33286</td><td>103.849</td></tr><tr><th>29</th><td>658</td><td>1.28777</td><td>103.808</td></tr><tr><th>30</th><td>504</td><td>1.37807</td><td>103.764</td></tr><tr><th>&vellip;</th><td>&vellip;</td><td>&vellip;</td><td>&vellip;</td></tr></tbody></table>"
      ],
      "text/latex": [
       "\\begin{tabular}{r|ccc}\n",
       "\t& Storenum & Latitude & Longitude\\\\\n",
       "\t\\hline\n",
       "\t& Any & Any & Any\\\\\n",
       "\t\\hline\n",
       "\t1 & 501 & 1.33495 & 103.966 \\\\\n",
       "\t2 & 503 & 1.32478 & 103.931 \\\\\n",
       "\t3 & 511 & 1.41513 & 103.835 \\\\\n",
       "\t4 & 512 & 1.43985 & 103.77 \\\\\n",
       "\t5 & 515 & 0 & 0 \\\\\n",
       "\t6 & 556 & 1.29319 & 103.827 \\\\\n",
       "\t7 & 561 & 1.33095 & 103.796 \\\\\n",
       "\t8 & 567 & 0 & 0 \\\\\n",
       "\t9 & 592 & 1.44047 & 103.802 \\\\\n",
       "\t10 & 622 & 1.32518 & 103.851 \\\\\n",
       "\t11 & 628 & 0 & 0 \\\\\n",
       "\t12 & 629 & 1.35338 & 103.944 \\\\\n",
       "\t13 & 637 & 1.29174 & 103.858 \\\\\n",
       "\t14 & 641 & 1.33902 & 103.779 \\\\\n",
       "\t15 & 647 & 1.35956 & 103.885 \\\\\n",
       "\t16 & 649 & 1.29158 & 103.85 \\\\\n",
       "\t17 & 651 & 1.25433 & 103.819 \\\\\n",
       "\t18 & 657 & 1.36185 & 103.99 \\\\\n",
       "\t19 & 661 & 1.30257 & 103.862 \\\\\n",
       "\t20 & 662 & 1.30089 & 103.849 \\\\\n",
       "\t21 & 663 & 0 & 0 \\\\\n",
       "\t22 & 668 & 1.25145 & 103.82 \\\\\n",
       "\t23 & 619 & 1.43698 & 103.837 \\\\\n",
       "\t24 & 630 & 1.42957 & 103.775 \\\\\n",
       "\t25 & 652 & 1.39537 & 103.918 \\\\\n",
       "\t26 & 502 & 1.3264 & 103.724 \\\\\n",
       "\t27 & 505 & 1.30501 & 103.881 \\\\\n",
       "\t28 & 528 & 1.33286 & 103.849 \\\\\n",
       "\t29 & 658 & 1.28777 & 103.808 \\\\\n",
       "\t30 & 504 & 1.37807 & 103.764 \\\\\n",
       "\t$\\dots$ & $\\dots$ & $\\dots$ & $\\dots$ \\\\\n",
       "\\end{tabular}\n"
      ],
      "text/plain": [
       "111×3 DataFrame\n",
       "│ Row │ Storenum │ Latitude │ Longitude │\n",
       "│     │ \u001b[90mAny\u001b[39m      │ \u001b[90mAny\u001b[39m      │ \u001b[90mAny\u001b[39m       │\n",
       "├─────┼──────────┼──────────┼───────────┤\n",
       "│ 1   │ 501      │ 1.33495  │ 103.966   │\n",
       "│ 2   │ 503      │ 1.32478  │ 103.931   │\n",
       "│ 3   │ 511      │ 1.41513  │ 103.835   │\n",
       "│ 4   │ 512      │ 1.43985  │ 103.77    │\n",
       "│ 5   │ 515      │ 0        │ 0         │\n",
       "│ 6   │ 556      │ 1.29319  │ 103.827   │\n",
       "│ 7   │ 561      │ 1.33095  │ 103.796   │\n",
       "│ 8   │ 567      │ 0        │ 0         │\n",
       "│ 9   │ 592      │ 1.44047  │ 103.802   │\n",
       "│ 10  │ 622      │ 1.32518  │ 103.851   │\n",
       "⋮\n",
       "│ 101 │ 670      │ 1.32513  │ 103.929   │\n",
       "│ 102 │ 542      │ 1.4183   │ 103.841   │\n",
       "│ 103 │ 549      │ 1.32553  │ 103.93    │\n",
       "│ 104 │ 530      │ 1.44358  │ 103.83    │\n",
       "│ 105 │ 548      │ 1.35547  │ 103.74    │\n",
       "│ 106 │ 568      │ 1.35427  │ 103.873   │\n",
       "│ 107 │ 596      │ 1.3092   │ 103.781   │\n",
       "│ 108 │ 621      │ 1.34031  │ 103.845   │\n",
       "│ 109 │ 632      │ 1.35011  │ 103.719   │\n",
       "│ 110 │ 967      │ 1.40522  │ 103.791   │\n",
       "│ 111 │ 968      │ 1.25166  │ 103.82    │"
      ]
     },
     "execution_count": 3,
     "metadata": {},
     "output_type": "execute_result"
    }
   ],
   "source": [
    "#Consider latitude, longitude wrt storenum for regionwise grouping\n",
    "df2 = DataFrame(Storenum = df.LOCAL_STORE_NUMBER,\n",
    "                Latitude = df.LATITUDE,\n",
    "                Longitude = df.LONGITUDE)"
   ]
  },
  {
   "cell_type": "code",
   "execution_count": 4,
   "id": "5ecc17bd",
   "metadata": {},
   "outputs": [],
   "source": [
    "#Scaling similarly for latitude and longitude\n",
    "for i in 1:size(df2,1)\n",
    "    if(df2.Latitude[i]!= 0)\n",
    "    df2.Latitude[i] = (df2.Latitude[i]*100 - 120)\n",
    "    end\n",
    "    if(df2.Longitude[i]!=0)\n",
    "    df2.Longitude[i] = ((df2.Longitude[i]-103)*100 - 50)\n",
    "    end\n",
    "end"
   ]
  },
  {
   "cell_type": "code",
   "execution_count": 5,
   "id": "a5920f51",
   "metadata": {},
   "outputs": [
    {
     "data": {
      "text/html": [
       "<table class=\"data-frame\"><thead><tr><th></th><th>Storenum</th><th>Latitude</th><th>Longitude</th></tr><tr><th></th><th>Any</th><th>Any</th><th>Any</th></tr></thead><tbody><p>111 rows × 3 columns</p><tr><th>1</th><td>501</td><td>13.4952</td><td>46.5594</td></tr><tr><th>2</th><td>503</td><td>12.478</td><td>43.1155</td></tr><tr><th>3</th><td>511</td><td>21.5126</td><td>33.5183</td></tr><tr><th>4</th><td>512</td><td>23.9845</td><td>27.0354</td></tr><tr><th>5</th><td>515</td><td>0</td><td>0</td></tr><tr><th>6</th><td>556</td><td>9.3188</td><td>32.6933</td></tr><tr><th>7</th><td>561</td><td>13.095</td><td>29.5609</td></tr><tr><th>8</th><td>567</td><td>0</td><td>0</td></tr><tr><th>9</th><td>592</td><td>24.0466</td><td>30.1774</td></tr><tr><th>10</th><td>622</td><td>12.5177</td><td>35.1158</td></tr><tr><th>11</th><td>628</td><td>0</td><td>0</td></tr><tr><th>12</th><td>629</td><td>15.3381</td><td>44.3704</td></tr><tr><th>13</th><td>637</td><td>9.1738</td><td>35.7572</td></tr><tr><th>14</th><td>641</td><td>13.9019</td><td>27.8818</td></tr><tr><th>15</th><td>647</td><td>15.9556</td><td>38.5197</td></tr><tr><th>16</th><td>649</td><td>9.1582</td><td>35.002</td></tr><tr><th>17</th><td>651</td><td>5.4328</td><td>31.9238</td></tr><tr><th>18</th><td>657</td><td>16.1848</td><td>49.0311</td></tr><tr><th>19</th><td>661</td><td>10.2568</td><td>36.2279</td></tr><tr><th>20</th><td>662</td><td>10.0889</td><td>34.9479</td></tr><tr><th>21</th><td>663</td><td>0</td><td>0</td></tr><tr><th>22</th><td>668</td><td>5.1451</td><td>32.0366</td></tr><tr><th>23</th><td>619</td><td>23.6984</td><td>33.7487</td></tr><tr><th>24</th><td>630</td><td>22.9566</td><td>27.5398</td></tr><tr><th>25</th><td>652</td><td>19.5368</td><td>41.7799</td></tr><tr><th>26</th><td>502</td><td>12.6398</td><td>22.3865</td></tr><tr><th>27</th><td>505</td><td>10.5006</td><td>38.1297</td></tr><tr><th>28</th><td>528</td><td>13.2863</td><td>34.9474</td></tr><tr><th>29</th><td>658</td><td>8.7774</td><td>30.7905</td></tr><tr><th>30</th><td>504</td><td>17.8072</td><td>26.397</td></tr><tr><th>&vellip;</th><td>&vellip;</td><td>&vellip;</td><td>&vellip;</td></tr></tbody></table>"
      ],
      "text/latex": [
       "\\begin{tabular}{r|ccc}\n",
       "\t& Storenum & Latitude & Longitude\\\\\n",
       "\t\\hline\n",
       "\t& Any & Any & Any\\\\\n",
       "\t\\hline\n",
       "\t1 & 501 & 13.4952 & 46.5594 \\\\\n",
       "\t2 & 503 & 12.478 & 43.1155 \\\\\n",
       "\t3 & 511 & 21.5126 & 33.5183 \\\\\n",
       "\t4 & 512 & 23.9845 & 27.0354 \\\\\n",
       "\t5 & 515 & 0 & 0 \\\\\n",
       "\t6 & 556 & 9.3188 & 32.6933 \\\\\n",
       "\t7 & 561 & 13.095 & 29.5609 \\\\\n",
       "\t8 & 567 & 0 & 0 \\\\\n",
       "\t9 & 592 & 24.0466 & 30.1774 \\\\\n",
       "\t10 & 622 & 12.5177 & 35.1158 \\\\\n",
       "\t11 & 628 & 0 & 0 \\\\\n",
       "\t12 & 629 & 15.3381 & 44.3704 \\\\\n",
       "\t13 & 637 & 9.1738 & 35.7572 \\\\\n",
       "\t14 & 641 & 13.9019 & 27.8818 \\\\\n",
       "\t15 & 647 & 15.9556 & 38.5197 \\\\\n",
       "\t16 & 649 & 9.1582 & 35.002 \\\\\n",
       "\t17 & 651 & 5.4328 & 31.9238 \\\\\n",
       "\t18 & 657 & 16.1848 & 49.0311 \\\\\n",
       "\t19 & 661 & 10.2568 & 36.2279 \\\\\n",
       "\t20 & 662 & 10.0889 & 34.9479 \\\\\n",
       "\t21 & 663 & 0 & 0 \\\\\n",
       "\t22 & 668 & 5.1451 & 32.0366 \\\\\n",
       "\t23 & 619 & 23.6984 & 33.7487 \\\\\n",
       "\t24 & 630 & 22.9566 & 27.5398 \\\\\n",
       "\t25 & 652 & 19.5368 & 41.7799 \\\\\n",
       "\t26 & 502 & 12.6398 & 22.3865 \\\\\n",
       "\t27 & 505 & 10.5006 & 38.1297 \\\\\n",
       "\t28 & 528 & 13.2863 & 34.9474 \\\\\n",
       "\t29 & 658 & 8.7774 & 30.7905 \\\\\n",
       "\t30 & 504 & 17.8072 & 26.397 \\\\\n",
       "\t$\\dots$ & $\\dots$ & $\\dots$ & $\\dots$ \\\\\n",
       "\\end{tabular}\n"
      ],
      "text/plain": [
       "111×3 DataFrame\n",
       "│ Row │ Storenum │ Latitude │ Longitude │\n",
       "│     │ \u001b[90mAny\u001b[39m      │ \u001b[90mAny\u001b[39m      │ \u001b[90mAny\u001b[39m       │\n",
       "├─────┼──────────┼──────────┼───────────┤\n",
       "│ 1   │ 501      │ 13.4952  │ 46.5594   │\n",
       "│ 2   │ 503      │ 12.478   │ 43.1155   │\n",
       "│ 3   │ 511      │ 21.5126  │ 33.5183   │\n",
       "│ 4   │ 512      │ 23.9845  │ 27.0354   │\n",
       "│ 5   │ 515      │ 0        │ 0         │\n",
       "│ 6   │ 556      │ 9.3188   │ 32.6933   │\n",
       "│ 7   │ 561      │ 13.095   │ 29.5609   │\n",
       "│ 8   │ 567      │ 0        │ 0         │\n",
       "│ 9   │ 592      │ 24.0466  │ 30.1774   │\n",
       "│ 10  │ 622      │ 12.5177  │ 35.1158   │\n",
       "⋮\n",
       "│ 101 │ 670      │ 12.5127  │ 42.9176   │\n",
       "│ 102 │ 542      │ 21.8298  │ 34.1221   │\n",
       "│ 103 │ 549      │ 12.5535  │ 43.0208   │\n",
       "│ 104 │ 530      │ 24.3578  │ 33.0463   │\n",
       "│ 105 │ 548      │ 15.5473  │ 23.9916   │\n",
       "│ 106 │ 568      │ 15.4272  │ 37.2639   │\n",
       "│ 107 │ 596      │ 10.9196  │ 28.1249   │\n",
       "│ 108 │ 621      │ 14.0311  │ 34.5196   │\n",
       "│ 109 │ 632      │ 15.0113  │ 21.9228   │\n",
       "│ 110 │ 967      │ 20.5223  │ 29.071    │\n",
       "│ 111 │ 968      │ 5.1661   │ 32.03     │"
      ]
     },
     "execution_count": 5,
     "metadata": {},
     "output_type": "execute_result"
    }
   ],
   "source": [
    "df2"
   ]
  },
  {
   "cell_type": "code",
   "execution_count": 8,
   "id": "9fdcd5e6",
   "metadata": {},
   "outputs": [],
   "source": [
    "using Clustering"
   ]
  },
  {
   "cell_type": "code",
   "execution_count": 9,
   "id": "b7ecec55",
   "metadata": {},
   "outputs": [
    {
     "data": {
      "text/plain": [
       "2×111 adjoint(::Matrix{Any}) with eltype Any:\n",
       " 13.4952  12.478   21.5126  23.9845  0  …  14.0311  15.0113  20.5223   5.1661\n",
       " 46.5594  43.1155  33.5183  27.0354  0     34.5196  21.9228  29.071   32.03"
      ]
     },
     "execution_count": 9,
     "metadata": {},
     "output_type": "execute_result"
    }
   ],
   "source": [
    "features = Matrix(df2[:,2:3])'"
   ]
  },
  {
   "cell_type": "code",
   "execution_count": 10,
   "id": "a5620371",
   "metadata": {},
   "outputs": [
    {
     "data": {
      "text/plain": [
       "2×111 Matrix{Float64}:\n",
       " 13.4952  12.478   21.5126  23.9845  …  14.0311  15.0113  20.5223   5.1661\n",
       " 46.5594  43.1155  33.5183  27.0354     34.5196  21.9228  29.071   32.03"
      ]
     },
     "execution_count": 10,
     "metadata": {},
     "output_type": "execute_result"
    }
   ],
   "source": [
    "features = convert(Array{Float64},features)"
   ]
  },
  {
   "cell_type": "code",
   "execution_count": 11,
   "id": "4dabd330",
   "metadata": {},
   "outputs": [
    {
     "data": {
      "text/plain": [
       "KmeansResult{Matrix{Float64}, Float64, Int64}([23.217086666666667 11.905909999999997 … 0.0 18.102778571428576; 30.79401999999978 40.71342999999999 … 0.0 39.21764285714307], [5, 2, 1, 1, 6, 4, 4, 6, 1, 4  …  1, 2, 1, 3, 7, 4, 4, 3, 1, 4], [4.871069676735715, 6.09722725300162, 10.326976315245702, 14.716147528577949, 0.0, 1.0826350726283636, 23.56864633105397, 0.0, 1.0683125945779466, 8.856768403535625  …  13.00068078191589, 5.743329124996762, 6.373992107242884, 0.18910250472549706, 10.975831843722517, 28.3019585213533, 16.754002709718407, 2.9878557568995348, 10.230673099241812, 26.163454056142655], [15, 10, 23, 33, 12, 4, 14], [15, 10, 23, 33, 12, 4, 14], 977.9142644565218, 12, true)"
      ]
     },
     "execution_count": 11,
     "metadata": {},
     "output_type": "execute_result"
    }
   ],
   "source": [
    "#K-means clustering for grouping similar stores geographically\n",
    "result = kmeans(features, 7)"
   ]
  },
  {
   "cell_type": "code",
   "execution_count": 12,
   "id": "7e379f22",
   "metadata": {},
   "outputs": [
    {
     "data": {
      "image/svg+xml": [
       "<?xml version=\"1.0\" encoding=\"utf-8\"?>\n",
       "<svg xmlns=\"http://www.w3.org/2000/svg\" xmlns:xlink=\"http://www.w3.org/1999/xlink\" width=\"600\" height=\"400\" viewBox=\"0 0 2400 1600\">\n",
       "<defs>\n",
       "  <clipPath id=\"clip560\">\n",
       "    <rect x=\"0\" y=\"0\" width=\"2400\" height=\"1600\"/>\n",
       "  </clipPath>\n",
       "</defs>\n",
       "<path clip-path=\"url(#clip560)\" d=\"\n",
       "M0 1600 L2400 1600 L2400 0 L0 0  Z\n",
       "  \" fill=\"#ffffff\" fill-rule=\"evenodd\" fill-opacity=\"1\"/>\n",
       "<defs>\n",
       "  <clipPath id=\"clip561\">\n",
       "    <rect x=\"480\" y=\"0\" width=\"1681\" height=\"1600\"/>\n",
       "  </clipPath>\n",
       "</defs>\n",
       "<path clip-path=\"url(#clip560)\" d=\"\n",
       "M141.853 1486.45 L2112.76 1486.45 L2112.76 47.2441 L141.853 47.2441  Z\n",
       "  \" fill=\"#ffffff\" fill-rule=\"evenodd\" fill-opacity=\"1\"/>\n",
       "<defs>\n",
       "  <clipPath id=\"clip562\">\n",
       "    <rect x=\"141\" y=\"47\" width=\"1972\" height=\"1440\"/>\n",
       "  </clipPath>\n",
       "</defs>\n",
       "<polyline clip-path=\"url(#clip562)\" style=\"stroke:#000000; stroke-linecap:butt; stroke-linejoin:round; stroke-width:2; stroke-opacity:0.1; fill:none\" points=\"\n",
       "  197.633,1486.45 197.633,47.2441 \n",
       "  \"/>\n",
       "<polyline clip-path=\"url(#clip562)\" style=\"stroke:#000000; stroke-linecap:butt; stroke-linejoin:round; stroke-width:2; stroke-opacity:0.1; fill:none\" points=\"\n",
       "  572.164,1486.45 572.164,47.2441 \n",
       "  \"/>\n",
       "<polyline clip-path=\"url(#clip562)\" style=\"stroke:#000000; stroke-linecap:butt; stroke-linejoin:round; stroke-width:2; stroke-opacity:0.1; fill:none\" points=\"\n",
       "  946.695,1486.45 946.695,47.2441 \n",
       "  \"/>\n",
       "<polyline clip-path=\"url(#clip562)\" style=\"stroke:#000000; stroke-linecap:butt; stroke-linejoin:round; stroke-width:2; stroke-opacity:0.1; fill:none\" points=\"\n",
       "  1321.23,1486.45 1321.23,47.2441 \n",
       "  \"/>\n",
       "<polyline clip-path=\"url(#clip562)\" style=\"stroke:#000000; stroke-linecap:butt; stroke-linejoin:round; stroke-width:2; stroke-opacity:0.1; fill:none\" points=\"\n",
       "  1695.76,1486.45 1695.76,47.2441 \n",
       "  \"/>\n",
       "<polyline clip-path=\"url(#clip562)\" style=\"stroke:#000000; stroke-linecap:butt; stroke-linejoin:round; stroke-width:2; stroke-opacity:0.1; fill:none\" points=\"\n",
       "  2070.29,1486.45 2070.29,47.2441 \n",
       "  \"/>\n",
       "<polyline clip-path=\"url(#clip560)\" style=\"stroke:#000000; stroke-linecap:butt; stroke-linejoin:round; stroke-width:4; stroke-opacity:1; fill:none\" points=\"\n",
       "  141.853,1486.45 2112.76,1486.45 \n",
       "  \"/>\n",
       "<polyline clip-path=\"url(#clip560)\" style=\"stroke:#000000; stroke-linecap:butt; stroke-linejoin:round; stroke-width:4; stroke-opacity:1; fill:none\" points=\"\n",
       "  197.633,1486.45 197.633,1469.18 \n",
       "  \"/>\n",
       "<polyline clip-path=\"url(#clip560)\" style=\"stroke:#000000; stroke-linecap:butt; stroke-linejoin:round; stroke-width:4; stroke-opacity:1; fill:none\" points=\"\n",
       "  572.164,1486.45 572.164,1469.18 \n",
       "  \"/>\n",
       "<polyline clip-path=\"url(#clip560)\" style=\"stroke:#000000; stroke-linecap:butt; stroke-linejoin:round; stroke-width:4; stroke-opacity:1; fill:none\" points=\"\n",
       "  946.695,1486.45 946.695,1469.18 \n",
       "  \"/>\n",
       "<polyline clip-path=\"url(#clip560)\" style=\"stroke:#000000; stroke-linecap:butt; stroke-linejoin:round; stroke-width:4; stroke-opacity:1; fill:none\" points=\"\n",
       "  1321.23,1486.45 1321.23,1469.18 \n",
       "  \"/>\n",
       "<polyline clip-path=\"url(#clip560)\" style=\"stroke:#000000; stroke-linecap:butt; stroke-linejoin:round; stroke-width:4; stroke-opacity:1; fill:none\" points=\"\n",
       "  1695.76,1486.45 1695.76,1469.18 \n",
       "  \"/>\n",
       "<polyline clip-path=\"url(#clip560)\" style=\"stroke:#000000; stroke-linecap:butt; stroke-linejoin:round; stroke-width:4; stroke-opacity:1; fill:none\" points=\"\n",
       "  2070.29,1486.45 2070.29,1469.18 \n",
       "  \"/>\n",
       "<path clip-path=\"url(#clip560)\" d=\"M197.633 1515.64 Q194.022 1515.64 192.193 1519.2 Q190.388 1522.75 190.388 1529.87 Q190.388 1536.98 192.193 1540.55 Q194.022 1544.09 197.633 1544.09 Q201.267 1544.09 203.073 1540.55 Q204.902 1536.98 204.902 1529.87 Q204.902 1522.75 203.073 1519.2 Q201.267 1515.64 197.633 1515.64 M197.633 1511.93 Q203.443 1511.93 206.499 1516.54 Q209.578 1521.12 209.578 1529.87 Q209.578 1538.6 206.499 1543.21 Q203.443 1547.79 197.633 1547.79 Q191.823 1547.79 188.744 1543.21 Q185.689 1538.6 185.689 1529.87 Q185.689 1521.12 188.744 1516.54 Q191.823 1511.93 197.633 1511.93 Z\" fill=\"#000000\" fill-rule=\"evenodd\" fill-opacity=\"1\" /><path clip-path=\"url(#clip560)\" d=\"M562.442 1512.56 L580.798 1512.56 L580.798 1516.5 L566.724 1516.5 L566.724 1524.97 Q567.743 1524.62 568.761 1524.46 Q569.78 1524.27 570.798 1524.27 Q576.585 1524.27 579.965 1527.44 Q583.344 1530.62 583.344 1536.03 Q583.344 1541.61 579.872 1544.71 Q576.4 1547.79 570.081 1547.79 Q567.905 1547.79 565.636 1547.42 Q563.391 1547.05 560.983 1546.31 L560.983 1541.61 Q563.067 1542.74 565.289 1543.3 Q567.511 1543.86 569.988 1543.86 Q573.993 1543.86 576.331 1541.75 Q578.668 1539.64 578.668 1536.03 Q578.668 1532.42 576.331 1530.31 Q573.993 1528.21 569.988 1528.21 Q568.113 1528.21 566.238 1528.62 Q564.386 1529.04 562.442 1529.92 L562.442 1512.56 Z\" fill=\"#000000\" fill-rule=\"evenodd\" fill-opacity=\"1\" /><path clip-path=\"url(#clip560)\" d=\"M921.382 1543.18 L929.021 1543.18 L929.021 1516.82 L920.711 1518.49 L920.711 1514.23 L928.975 1512.56 L933.651 1512.56 L933.651 1543.18 L941.289 1543.18 L941.289 1547.12 L921.382 1547.12 L921.382 1543.18 Z\" fill=\"#000000\" fill-rule=\"evenodd\" fill-opacity=\"1\" /><path clip-path=\"url(#clip560)\" d=\"M960.734 1515.64 Q957.123 1515.64 955.294 1519.2 Q953.488 1522.75 953.488 1529.87 Q953.488 1536.98 955.294 1540.55 Q957.123 1544.09 960.734 1544.09 Q964.368 1544.09 966.174 1540.55 Q968.002 1536.98 968.002 1529.87 Q968.002 1522.75 966.174 1519.2 Q964.368 1515.64 960.734 1515.64 M960.734 1511.93 Q966.544 1511.93 969.599 1516.54 Q972.678 1521.12 972.678 1529.87 Q972.678 1538.6 969.599 1543.21 Q966.544 1547.79 960.734 1547.79 Q954.924 1547.79 951.845 1543.21 Q948.789 1538.6 948.789 1529.87 Q948.789 1521.12 951.845 1516.54 Q954.924 1511.93 960.734 1511.93 Z\" fill=\"#000000\" fill-rule=\"evenodd\" fill-opacity=\"1\" /><path clip-path=\"url(#clip560)\" d=\"M1296.41 1543.18 L1304.05 1543.18 L1304.05 1516.82 L1295.74 1518.49 L1295.74 1514.23 L1304 1512.56 L1308.68 1512.56 L1308.68 1543.18 L1316.32 1543.18 L1316.32 1547.12 L1296.41 1547.12 L1296.41 1543.18 Z\" fill=\"#000000\" fill-rule=\"evenodd\" fill-opacity=\"1\" /><path clip-path=\"url(#clip560)\" d=\"M1325.81 1512.56 L1344.16 1512.56 L1344.16 1516.5 L1330.09 1516.5 L1330.09 1524.97 Q1331.11 1524.62 1332.13 1524.46 Q1333.15 1524.27 1334.16 1524.27 Q1339.95 1524.27 1343.33 1527.44 Q1346.71 1530.62 1346.71 1536.03 Q1346.71 1541.61 1343.24 1544.71 Q1339.77 1547.79 1333.45 1547.79 Q1331.27 1547.79 1329 1547.42 Q1326.76 1547.05 1324.35 1546.31 L1324.35 1541.61 Q1326.43 1542.74 1328.66 1543.3 Q1330.88 1543.86 1333.35 1543.86 Q1337.36 1543.86 1339.7 1541.75 Q1342.04 1539.64 1342.04 1536.03 Q1342.04 1532.42 1339.7 1530.31 Q1337.36 1528.21 1333.35 1528.21 Q1331.48 1528.21 1329.6 1528.62 Q1327.75 1529.04 1325.81 1529.92 L1325.81 1512.56 Z\" fill=\"#000000\" fill-rule=\"evenodd\" fill-opacity=\"1\" /><path clip-path=\"url(#clip560)\" d=\"M1674.53 1543.18 L1690.85 1543.18 L1690.85 1547.12 L1668.9 1547.12 L1668.9 1543.18 Q1671.57 1540.43 1676.15 1535.8 Q1680.76 1531.15 1681.94 1529.81 Q1684.18 1527.28 1685.06 1525.55 Q1685.96 1523.79 1685.96 1522.1 Q1685.96 1519.34 1684.02 1517.61 Q1682.1 1515.87 1679 1515.87 Q1676.8 1515.87 1674.34 1516.63 Q1671.91 1517.4 1669.14 1518.95 L1669.14 1514.23 Q1671.96 1513.09 1674.41 1512.51 Q1676.87 1511.93 1678.9 1511.93 Q1684.27 1511.93 1687.47 1514.62 Q1690.66 1517.31 1690.66 1521.8 Q1690.66 1523.93 1689.85 1525.85 Q1689.07 1527.74 1686.96 1530.34 Q1686.38 1531.01 1683.28 1534.23 Q1680.18 1537.42 1674.53 1543.18 Z\" fill=\"#000000\" fill-rule=\"evenodd\" fill-opacity=\"1\" /><path clip-path=\"url(#clip560)\" d=\"M1710.66 1515.64 Q1707.05 1515.64 1705.22 1519.2 Q1703.42 1522.75 1703.42 1529.87 Q1703.42 1536.98 1705.22 1540.55 Q1707.05 1544.09 1710.66 1544.09 Q1714.3 1544.09 1716.1 1540.55 Q1717.93 1536.98 1717.93 1529.87 Q1717.93 1522.75 1716.1 1519.2 Q1714.3 1515.64 1710.66 1515.64 M1710.66 1511.93 Q1716.47 1511.93 1719.53 1516.54 Q1722.61 1521.12 1722.61 1529.87 Q1722.61 1538.6 1719.53 1543.21 Q1716.47 1547.79 1710.66 1547.79 Q1704.85 1547.79 1701.77 1543.21 Q1698.72 1538.6 1698.72 1529.87 Q1698.72 1521.12 1701.77 1516.54 Q1704.85 1511.93 1710.66 1511.93 Z\" fill=\"#000000\" fill-rule=\"evenodd\" fill-opacity=\"1\" /><path clip-path=\"url(#clip560)\" d=\"M2049.56 1543.18 L2065.88 1543.18 L2065.88 1547.12 L2043.93 1547.12 L2043.93 1543.18 Q2046.59 1540.43 2051.18 1535.8 Q2055.78 1531.15 2056.96 1529.81 Q2059.21 1527.28 2060.09 1525.55 Q2060.99 1523.79 2060.99 1522.1 Q2060.99 1519.34 2059.05 1517.61 Q2057.13 1515.87 2054.02 1515.87 Q2051.83 1515.87 2049.37 1516.63 Q2046.94 1517.4 2044.16 1518.95 L2044.16 1514.23 Q2046.99 1513.09 2049.44 1512.51 Q2051.9 1511.93 2053.93 1511.93 Q2059.3 1511.93 2062.5 1514.62 Q2065.69 1517.31 2065.69 1521.8 Q2065.69 1523.93 2064.88 1525.85 Q2064.09 1527.74 2061.99 1530.34 Q2061.41 1531.01 2058.31 1534.23 Q2055.21 1537.42 2049.56 1543.18 Z\" fill=\"#000000\" fill-rule=\"evenodd\" fill-opacity=\"1\" /><path clip-path=\"url(#clip560)\" d=\"M2075.74 1512.56 L2094.09 1512.56 L2094.09 1516.5 L2080.02 1516.5 L2080.02 1524.97 Q2081.04 1524.62 2082.06 1524.46 Q2083.08 1524.27 2084.09 1524.27 Q2089.88 1524.27 2093.26 1527.44 Q2096.64 1530.62 2096.64 1536.03 Q2096.64 1541.61 2093.17 1544.71 Q2089.7 1547.79 2083.38 1547.79 Q2081.2 1547.79 2078.93 1547.42 Q2076.69 1547.05 2074.28 1546.31 L2074.28 1541.61 Q2076.36 1542.74 2078.59 1543.3 Q2080.81 1543.86 2083.28 1543.86 Q2087.29 1543.86 2089.63 1541.75 Q2091.96 1539.64 2091.96 1536.03 Q2091.96 1532.42 2089.63 1530.31 Q2087.29 1528.21 2083.28 1528.21 Q2081.41 1528.21 2079.53 1528.62 Q2077.68 1529.04 2075.74 1529.92 L2075.74 1512.56 Z\" fill=\"#000000\" fill-rule=\"evenodd\" fill-opacity=\"1\" /><polyline clip-path=\"url(#clip562)\" style=\"stroke:#000000; stroke-linecap:butt; stroke-linejoin:round; stroke-width:2; stroke-opacity:0.1; fill:none\" points=\"\n",
       "  141.853,1445.72 2112.76,1445.72 \n",
       "  \"/>\n",
       "<polyline clip-path=\"url(#clip562)\" style=\"stroke:#000000; stroke-linecap:butt; stroke-linejoin:round; stroke-width:2; stroke-opacity:0.1; fill:none\" points=\"\n",
       "  141.853,1168.8 2112.76,1168.8 \n",
       "  \"/>\n",
       "<polyline clip-path=\"url(#clip562)\" style=\"stroke:#000000; stroke-linecap:butt; stroke-linejoin:round; stroke-width:2; stroke-opacity:0.1; fill:none\" points=\"\n",
       "  141.853,891.888 2112.76,891.888 \n",
       "  \"/>\n",
       "<polyline clip-path=\"url(#clip562)\" style=\"stroke:#000000; stroke-linecap:butt; stroke-linejoin:round; stroke-width:2; stroke-opacity:0.1; fill:none\" points=\"\n",
       "  141.853,614.974 2112.76,614.974 \n",
       "  \"/>\n",
       "<polyline clip-path=\"url(#clip562)\" style=\"stroke:#000000; stroke-linecap:butt; stroke-linejoin:round; stroke-width:2; stroke-opacity:0.1; fill:none\" points=\"\n",
       "  141.853,338.06 2112.76,338.06 \n",
       "  \"/>\n",
       "<polyline clip-path=\"url(#clip562)\" style=\"stroke:#000000; stroke-linecap:butt; stroke-linejoin:round; stroke-width:2; stroke-opacity:0.1; fill:none\" points=\"\n",
       "  141.853,61.1461 2112.76,61.1461 \n",
       "  \"/>\n",
       "<polyline clip-path=\"url(#clip560)\" style=\"stroke:#000000; stroke-linecap:butt; stroke-linejoin:round; stroke-width:4; stroke-opacity:1; fill:none\" points=\"\n",
       "  141.853,1486.45 141.853,47.2441 \n",
       "  \"/>\n",
       "<polyline clip-path=\"url(#clip560)\" style=\"stroke:#000000; stroke-linecap:butt; stroke-linejoin:round; stroke-width:4; stroke-opacity:1; fill:none\" points=\"\n",
       "  141.853,1445.72 165.504,1445.72 \n",
       "  \"/>\n",
       "<polyline clip-path=\"url(#clip560)\" style=\"stroke:#000000; stroke-linecap:butt; stroke-linejoin:round; stroke-width:4; stroke-opacity:1; fill:none\" points=\"\n",
       "  141.853,1168.8 165.504,1168.8 \n",
       "  \"/>\n",
       "<polyline clip-path=\"url(#clip560)\" style=\"stroke:#000000; stroke-linecap:butt; stroke-linejoin:round; stroke-width:4; stroke-opacity:1; fill:none\" points=\"\n",
       "  141.853,891.888 165.504,891.888 \n",
       "  \"/>\n",
       "<polyline clip-path=\"url(#clip560)\" style=\"stroke:#000000; stroke-linecap:butt; stroke-linejoin:round; stroke-width:4; stroke-opacity:1; fill:none\" points=\"\n",
       "  141.853,614.974 165.504,614.974 \n",
       "  \"/>\n",
       "<polyline clip-path=\"url(#clip560)\" style=\"stroke:#000000; stroke-linecap:butt; stroke-linejoin:round; stroke-width:4; stroke-opacity:1; fill:none\" points=\"\n",
       "  141.853,338.06 165.504,338.06 \n",
       "  \"/>\n",
       "<polyline clip-path=\"url(#clip560)\" style=\"stroke:#000000; stroke-linecap:butt; stroke-linejoin:round; stroke-width:4; stroke-opacity:1; fill:none\" points=\"\n",
       "  141.853,61.1461 165.504,61.1461 \n",
       "  \"/>\n",
       "<path clip-path=\"url(#clip560)\" d=\"M93.9086 1431.51 Q90.2975 1431.51 88.4688 1435.08 Q86.6632 1438.62 86.6632 1445.75 Q86.6632 1452.86 88.4688 1456.42 Q90.2975 1459.96 93.9086 1459.96 Q97.5428 1459.96 99.3483 1456.42 Q101.177 1452.86 101.177 1445.75 Q101.177 1438.62 99.3483 1435.08 Q97.5428 1431.51 93.9086 1431.51 M93.9086 1427.81 Q99.7187 1427.81 102.774 1432.42 Q105.853 1437 105.853 1445.75 Q105.853 1454.48 102.774 1459.08 Q99.7187 1463.67 93.9086 1463.67 Q88.0984 1463.67 85.0197 1459.08 Q81.9642 1454.48 81.9642 1445.75 Q81.9642 1437 85.0197 1432.42 Q88.0984 1427.81 93.9086 1427.81 Z\" fill=\"#000000\" fill-rule=\"evenodd\" fill-opacity=\"1\" /><path clip-path=\"url(#clip560)\" d=\"M54.5569 1182.15 L62.1958 1182.15 L62.1958 1155.78 L53.8856 1157.45 L53.8856 1153.19 L62.1495 1151.52 L66.8254 1151.52 L66.8254 1182.15 L74.4642 1182.15 L74.4642 1186.08 L54.5569 1186.08 L54.5569 1182.15 Z\" fill=\"#000000\" fill-rule=\"evenodd\" fill-opacity=\"1\" /><path clip-path=\"url(#clip560)\" d=\"M93.9086 1154.6 Q90.2975 1154.6 88.4688 1158.17 Q86.6632 1161.71 86.6632 1168.84 Q86.6632 1175.94 88.4688 1179.51 Q90.2975 1183.05 93.9086 1183.05 Q97.5428 1183.05 99.3483 1179.51 Q101.177 1175.94 101.177 1168.84 Q101.177 1161.71 99.3483 1158.17 Q97.5428 1154.6 93.9086 1154.6 M93.9086 1150.9 Q99.7187 1150.9 102.774 1155.5 Q105.853 1160.09 105.853 1168.84 Q105.853 1177.56 102.774 1182.17 Q99.7187 1186.75 93.9086 1186.75 Q88.0984 1186.75 85.0197 1182.17 Q81.9642 1177.56 81.9642 1168.84 Q81.9642 1160.09 85.0197 1155.5 Q88.0984 1150.9 93.9086 1150.9 Z\" fill=\"#000000\" fill-rule=\"evenodd\" fill-opacity=\"1\" /><path clip-path=\"url(#clip560)\" d=\"M57.7745 905.233 L74.0939 905.233 L74.0939 909.168 L52.1495 909.168 L52.1495 905.233 Q54.8115 902.478 59.3949 897.848 Q64.0013 893.196 65.1819 891.853 Q67.4272 889.33 68.3068 887.594 Q69.2096 885.835 69.2096 884.145 Q69.2096 881.39 67.2652 879.654 Q65.3439 877.918 62.2421 877.918 Q60.043 877.918 57.5893 878.682 Q55.1588 879.446 52.381 880.997 L52.381 876.275 Q55.2051 875.14 57.6588 874.562 Q60.1124 873.983 62.1495 873.983 Q67.5198 873.983 70.7142 876.668 Q73.9087 879.353 73.9087 883.844 Q73.9087 885.974 73.0985 887.895 Q72.3115 889.793 70.205 892.386 Q69.6263 893.057 66.5245 896.274 Q63.4226 899.469 57.7745 905.233 Z\" fill=\"#000000\" fill-rule=\"evenodd\" fill-opacity=\"1\" /><path clip-path=\"url(#clip560)\" d=\"M93.9086 877.687 Q90.2975 877.687 88.4688 881.251 Q86.6632 884.793 86.6632 891.923 Q86.6632 899.029 88.4688 902.594 Q90.2975 906.135 93.9086 906.135 Q97.5428 906.135 99.3483 902.594 Q101.177 899.029 101.177 891.923 Q101.177 884.793 99.3483 881.251 Q97.5428 877.687 93.9086 877.687 M93.9086 873.983 Q99.7187 873.983 102.774 878.589 Q105.853 883.173 105.853 891.923 Q105.853 900.649 102.774 905.256 Q99.7187 909.839 93.9086 909.839 Q88.0984 909.839 85.0197 905.256 Q81.9642 900.649 81.9642 891.923 Q81.9642 883.173 85.0197 878.589 Q88.0984 873.983 93.9086 873.983 Z\" fill=\"#000000\" fill-rule=\"evenodd\" fill-opacity=\"1\" /><path clip-path=\"url(#clip560)\" d=\"M67.9133 613.62 Q71.2698 614.337 73.1448 616.606 Q75.0429 618.874 75.0429 622.208 Q75.0429 627.323 71.5244 630.124 Q68.0059 632.925 61.5245 632.925 Q59.3486 632.925 57.0338 632.485 Q54.7421 632.069 52.2884 631.212 L52.2884 626.698 Q54.2328 627.833 56.5477 628.411 Q58.8625 628.99 61.3856 628.99 Q65.7837 628.99 68.0754 627.254 Q70.3902 625.518 70.3902 622.208 Q70.3902 619.152 68.2374 617.439 Q66.1078 615.703 62.2884 615.703 L58.2606 615.703 L58.2606 611.861 L62.4735 611.861 Q65.9226 611.861 67.7513 610.495 Q69.58 609.106 69.58 606.513 Q69.58 603.851 67.6819 602.439 Q65.8069 601.004 62.2884 601.004 Q60.3671 601.004 58.168 601.421 Q55.969 601.837 53.3301 602.717 L53.3301 598.55 Q55.9921 597.81 58.3069 597.439 Q60.6449 597.069 62.705 597.069 Q68.0291 597.069 71.1309 599.499 Q74.2327 601.907 74.2327 606.027 Q74.2327 608.898 72.5892 610.888 Q70.9457 612.856 67.9133 613.62 Z\" fill=\"#000000\" fill-rule=\"evenodd\" fill-opacity=\"1\" /><path clip-path=\"url(#clip560)\" d=\"M93.9086 600.773 Q90.2975 600.773 88.4688 604.337 Q86.6632 607.879 86.6632 615.009 Q86.6632 622.115 88.4688 625.68 Q90.2975 629.222 93.9086 629.222 Q97.5428 629.222 99.3483 625.68 Q101.177 622.115 101.177 615.009 Q101.177 607.879 99.3483 604.337 Q97.5428 600.773 93.9086 600.773 M93.9086 597.069 Q99.7187 597.069 102.774 601.675 Q105.853 606.259 105.853 615.009 Q105.853 623.735 102.774 628.342 Q99.7187 632.925 93.9086 632.925 Q88.0984 632.925 85.0197 628.342 Q81.9642 623.735 81.9642 615.009 Q81.9642 606.259 85.0197 601.675 Q88.0984 597.069 93.9086 597.069 Z\" fill=\"#000000\" fill-rule=\"evenodd\" fill-opacity=\"1\" /><path clip-path=\"url(#clip560)\" d=\"M66.5939 324.854 L54.7884 343.303 L66.5939 343.303 L66.5939 324.854 M65.367 320.78 L71.2466 320.78 L71.2466 343.303 L76.1772 343.303 L76.1772 347.192 L71.2466 347.192 L71.2466 355.34 L66.5939 355.34 L66.5939 347.192 L50.9921 347.192 L50.9921 342.678 L65.367 320.78 Z\" fill=\"#000000\" fill-rule=\"evenodd\" fill-opacity=\"1\" /><path clip-path=\"url(#clip560)\" d=\"M93.9086 323.859 Q90.2975 323.859 88.4688 327.423 Q86.6632 330.965 86.6632 338.095 Q86.6632 345.201 88.4688 348.766 Q90.2975 352.308 93.9086 352.308 Q97.5428 352.308 99.3483 348.766 Q101.177 345.201 101.177 338.095 Q101.177 330.965 99.3483 327.423 Q97.5428 323.859 93.9086 323.859 M93.9086 320.155 Q99.7187 320.155 102.774 324.761 Q105.853 329.345 105.853 338.095 Q105.853 346.822 102.774 351.428 Q99.7187 356.011 93.9086 356.011 Q88.0984 356.011 85.0197 351.428 Q81.9642 346.822 81.9642 338.095 Q81.9642 329.345 85.0197 324.761 Q88.0984 320.155 93.9086 320.155 Z\" fill=\"#000000\" fill-rule=\"evenodd\" fill-opacity=\"1\" /><path clip-path=\"url(#clip560)\" d=\"M53.793 43.8661 L72.1494 43.8661 L72.1494 47.8013 L58.0754 47.8013 L58.0754 56.2734 Q59.0939 55.9262 60.1124 55.7642 Q61.131 55.579 62.1495 55.579 Q67.9365 55.579 71.3161 58.7503 Q74.6957 61.9215 74.6957 67.3382 Q74.6957 72.9169 71.2235 76.0187 Q67.7513 79.0974 61.4319 79.0974 Q59.256 79.0974 56.9875 78.727 Q54.7421 78.3566 52.3347 77.6159 L52.3347 72.9169 Q54.418 74.0511 56.6402 74.6067 Q58.8625 75.1622 61.3393 75.1622 Q65.3439 75.1622 67.6819 73.0557 Q70.0198 70.9493 70.0198 67.3382 Q70.0198 63.7271 67.6819 61.6206 Q65.3439 59.5142 61.3393 59.5142 Q59.4643 59.5142 57.5893 59.9308 Q55.7375 60.3475 53.793 61.2271 L53.793 43.8661 Z\" fill=\"#000000\" fill-rule=\"evenodd\" fill-opacity=\"1\" /><path clip-path=\"url(#clip560)\" d=\"M93.9086 46.9448 Q90.2975 46.9448 88.4688 50.5096 Q86.6632 54.0512 86.6632 61.1808 Q86.6632 68.2873 88.4688 71.852 Q90.2975 75.3937 93.9086 75.3937 Q97.5428 75.3937 99.3483 71.852 Q101.177 68.2873 101.177 61.1808 Q101.177 54.0512 99.3483 50.5096 Q97.5428 46.9448 93.9086 46.9448 M93.9086 43.2411 Q99.7187 43.2411 102.774 47.8475 Q105.853 52.4309 105.853 61.1808 Q105.853 69.9076 102.774 74.5141 Q99.7187 79.0974 93.9086 79.0974 Q88.0984 79.0974 85.0197 74.5141 Q81.9642 69.9076 81.9642 61.1808 Q81.9642 52.4309 85.0197 47.8475 Q88.0984 43.2411 93.9086 43.2411 Z\" fill=\"#000000\" fill-rule=\"evenodd\" fill-opacity=\"1\" /><circle clip-path=\"url(#clip562)\" cx=\"1208.51\" cy=\"156.421\" r=\"14\" fill=\"#a99800\" fill-rule=\"evenodd\" fill-opacity=\"1\" stroke=\"#000000\" stroke-opacity=\"1\" stroke-width=\"3.2\"/>\n",
       "<circle clip-path=\"url(#clip562)\" cx=\"1132.31\" cy=\"251.787\" r=\"14\" fill=\"#2a00d4\" fill-rule=\"evenodd\" fill-opacity=\"1\" stroke=\"#000000\" stroke-opacity=\"1\" stroke-width=\"3.2\"/>\n",
       "<circle clip-path=\"url(#clip562)\" cx=\"1809.06\" cy=\"517.547\" r=\"14\" fill=\"#800080\" fill-rule=\"evenodd\" fill-opacity=\"1\" stroke=\"#000000\" stroke-opacity=\"1\" stroke-width=\"3.2\"/>\n",
       "<circle clip-path=\"url(#clip562)\" cx=\"1994.22\" cy=\"697.068\" r=\"14\" fill=\"#800080\" fill-rule=\"evenodd\" fill-opacity=\"1\" stroke=\"#000000\" stroke-opacity=\"1\" stroke-width=\"3.2\"/>\n",
       "<circle clip-path=\"url(#clip562)\" cx=\"197.633\" cy=\"1445.72\" r=\"14\" fill=\"#ff6d00\" fill-rule=\"evenodd\" fill-opacity=\"1\" stroke=\"#000000\" stroke-opacity=\"1\" stroke-width=\"3.2\"/>\n",
       "<circle clip-path=\"url(#clip562)\" cx=\"895.668\" cy=\"540.393\" r=\"14\" fill=\"#008000\" fill-rule=\"evenodd\" fill-opacity=\"1\" stroke=\"#000000\" stroke-opacity=\"1\" stroke-width=\"3.2\"/>\n",
       "<circle clip-path=\"url(#clip562)\" cx=\"1178.53\" cy=\"627.133\" r=\"14\" fill=\"#008000\" fill-rule=\"evenodd\" fill-opacity=\"1\" stroke=\"#000000\" stroke-opacity=\"1\" stroke-width=\"3.2\"/>\n",
       "<circle clip-path=\"url(#clip562)\" cx=\"197.633\" cy=\"1445.72\" r=\"14\" fill=\"#ff6d00\" fill-rule=\"evenodd\" fill-opacity=\"1\" stroke=\"#000000\" stroke-opacity=\"1\" stroke-width=\"3.2\"/>\n",
       "<circle clip-path=\"url(#clip562)\" cx=\"1998.87\" cy=\"610.061\" r=\"14\" fill=\"#800080\" fill-rule=\"evenodd\" fill-opacity=\"1\" stroke=\"#000000\" stroke-opacity=\"1\" stroke-width=\"3.2\"/>\n",
       "<circle clip-path=\"url(#clip562)\" cx=\"1135.29\" cy=\"473.31\" r=\"14\" fill=\"#008000\" fill-rule=\"evenodd\" fill-opacity=\"1\" stroke=\"#000000\" stroke-opacity=\"1\" stroke-width=\"3.2\"/>\n",
       "<circle clip-path=\"url(#clip562)\" cx=\"197.633\" cy=\"1445.72\" r=\"14\" fill=\"#ff6d00\" fill-rule=\"evenodd\" fill-opacity=\"1\" stroke=\"#000000\" stroke-opacity=\"1\" stroke-width=\"3.2\"/>\n",
       "<circle clip-path=\"url(#clip562)\" cx=\"1346.55\" cy=\"217.038\" r=\"14\" fill=\"#a99800\" fill-rule=\"evenodd\" fill-opacity=\"1\" stroke=\"#000000\" stroke-opacity=\"1\" stroke-width=\"3.2\"/>\n",
       "<circle clip-path=\"url(#clip562)\" cx=\"884.807\" cy=\"455.549\" r=\"14\" fill=\"#008000\" fill-rule=\"evenodd\" fill-opacity=\"1\" stroke=\"#000000\" stroke-opacity=\"1\" stroke-width=\"3.2\"/>\n",
       "<circle clip-path=\"url(#clip562)\" cx=\"1238.97\" cy=\"673.63\" r=\"14\" fill=\"#002aaa\" fill-rule=\"evenodd\" fill-opacity=\"1\" stroke=\"#000000\" stroke-opacity=\"1\" stroke-width=\"3.2\"/>\n",
       "<circle clip-path=\"url(#clip562)\" cx=\"1392.81\" cy=\"379.052\" r=\"14\" fill=\"#ff0000\" fill-rule=\"evenodd\" fill-opacity=\"1\" stroke=\"#000000\" stroke-opacity=\"1\" stroke-width=\"3.2\"/>\n",
       "<circle clip-path=\"url(#clip562)\" cx=\"883.639\" cy=\"476.462\" r=\"14\" fill=\"#008000\" fill-rule=\"evenodd\" fill-opacity=\"1\" stroke=\"#000000\" stroke-opacity=\"1\" stroke-width=\"3.2\"/>\n",
       "<circle clip-path=\"url(#clip562)\" cx=\"604.583\" cy=\"561.701\" r=\"14\" fill=\"#008000\" fill-rule=\"evenodd\" fill-opacity=\"1\" stroke=\"#000000\" stroke-opacity=\"1\" stroke-width=\"3.2\"/>\n",
       "<circle clip-path=\"url(#clip562)\" cx=\"1409.97\" cy=\"87.9763\" r=\"14\" fill=\"#a99800\" fill-rule=\"evenodd\" fill-opacity=\"1\" stroke=\"#000000\" stroke-opacity=\"1\" stroke-width=\"3.2\"/>\n",
       "<circle clip-path=\"url(#clip562)\" cx=\"965.93\" cy=\"442.515\" r=\"14\" fill=\"#008000\" fill-rule=\"evenodd\" fill-opacity=\"1\" stroke=\"#000000\" stroke-opacity=\"1\" stroke-width=\"3.2\"/>\n",
       "<circle clip-path=\"url(#clip562)\" cx=\"953.354\" cy=\"477.96\" r=\"14\" fill=\"#008000\" fill-rule=\"evenodd\" fill-opacity=\"1\" stroke=\"#000000\" stroke-opacity=\"1\" stroke-width=\"3.2\"/>\n",
       "<circle clip-path=\"url(#clip562)\" cx=\"197.633\" cy=\"1445.72\" r=\"14\" fill=\"#ff6d00\" fill-rule=\"evenodd\" fill-opacity=\"1\" stroke=\"#000000\" stroke-opacity=\"1\" stroke-width=\"3.2\"/>\n",
       "<circle clip-path=\"url(#clip562)\" cx=\"583.033\" cy=\"558.578\" r=\"14\" fill=\"#008000\" fill-rule=\"evenodd\" fill-opacity=\"1\" stroke=\"#000000\" stroke-opacity=\"1\" stroke-width=\"3.2\"/>\n",
       "<circle clip-path=\"url(#clip562)\" cx=\"1972.79\" cy=\"511.167\" r=\"14\" fill=\"#800080\" fill-rule=\"evenodd\" fill-opacity=\"1\" stroke=\"#000000\" stroke-opacity=\"1\" stroke-width=\"3.2\"/>\n",
       "<circle clip-path=\"url(#clip562)\" cx=\"1917.22\" cy=\"683.1\" r=\"14\" fill=\"#800080\" fill-rule=\"evenodd\" fill-opacity=\"1\" stroke=\"#000000\" stroke-opacity=\"1\" stroke-width=\"3.2\"/>\n",
       "<circle clip-path=\"url(#clip562)\" cx=\"1661.06\" cy=\"288.772\" r=\"14\" fill=\"#ff0000\" fill-rule=\"evenodd\" fill-opacity=\"1\" stroke=\"#000000\" stroke-opacity=\"1\" stroke-width=\"3.2\"/>\n",
       "<circle clip-path=\"url(#clip562)\" cx=\"1144.43\" cy=\"825.802\" r=\"14\" fill=\"#002aaa\" fill-rule=\"evenodd\" fill-opacity=\"1\" stroke=\"#000000\" stroke-opacity=\"1\" stroke-width=\"3.2\"/>\n",
       "<circle clip-path=\"url(#clip562)\" cx=\"984.193\" cy=\"389.851\" r=\"14\" fill=\"#2a00d4\" fill-rule=\"evenodd\" fill-opacity=\"1\" stroke=\"#000000\" stroke-opacity=\"1\" stroke-width=\"3.2\"/>\n",
       "<circle clip-path=\"url(#clip562)\" cx=\"1192.86\" cy=\"477.974\" r=\"14\" fill=\"#008000\" fill-rule=\"evenodd\" fill-opacity=\"1\" stroke=\"#000000\" stroke-opacity=\"1\" stroke-width=\"3.2\"/>\n",
       "<circle clip-path=\"url(#clip562)\" cx=\"855.114\" cy=\"593.084\" r=\"14\" fill=\"#008000\" fill-rule=\"evenodd\" fill-opacity=\"1\" stroke=\"#000000\" stroke-opacity=\"1\" stroke-width=\"3.2\"/>\n",
       "<circle clip-path=\"url(#clip562)\" cx=\"1531.5\" cy=\"714.746\" r=\"14\" fill=\"#002aaa\" fill-rule=\"evenodd\" fill-opacity=\"1\" stroke=\"#000000\" stroke-opacity=\"1\" stroke-width=\"3.2\"/>\n",
       "<circle clip-path=\"url(#clip562)\" cx=\"1478.14\" cy=\"487.859\" r=\"14\" fill=\"#ff0000\" fill-rule=\"evenodd\" fill-opacity=\"1\" stroke=\"#000000\" stroke-opacity=\"1\" stroke-width=\"3.2\"/>\n",
       "<circle clip-path=\"url(#clip562)\" cx=\"2056.98\" cy=\"561.042\" r=\"14\" fill=\"#800080\" fill-rule=\"evenodd\" fill-opacity=\"1\" stroke=\"#000000\" stroke-opacity=\"1\" stroke-width=\"3.2\"/>\n",
       "<circle clip-path=\"url(#clip562)\" cx=\"1041.89\" cy=\"269.889\" r=\"14\" fill=\"#2a00d4\" fill-rule=\"evenodd\" fill-opacity=\"1\" stroke=\"#000000\" stroke-opacity=\"1\" stroke-width=\"3.2\"/>\n",
       "<circle clip-path=\"url(#clip562)\" cx=\"1266.7\" cy=\"189.997\" r=\"14\" fill=\"#a99800\" fill-rule=\"evenodd\" fill-opacity=\"1\" stroke=\"#000000\" stroke-opacity=\"1\" stroke-width=\"3.2\"/>\n",
       "<circle clip-path=\"url(#clip562)\" cx=\"1357.28\" cy=\"529.46\" r=\"14\" fill=\"#008000\" fill-rule=\"evenodd\" fill-opacity=\"1\" stroke=\"#000000\" stroke-opacity=\"1\" stroke-width=\"3.2\"/>\n",
       "<circle clip-path=\"url(#clip562)\" cx=\"829.631\" cy=\"568.203\" r=\"14\" fill=\"#008000\" fill-rule=\"evenodd\" fill-opacity=\"1\" stroke=\"#000000\" stroke-opacity=\"1\" stroke-width=\"3.2\"/>\n",
       "<circle clip-path=\"url(#clip562)\" cx=\"1344.17\" cy=\"226.926\" r=\"14\" fill=\"#a99800\" fill-rule=\"evenodd\" fill-opacity=\"1\" stroke=\"#000000\" stroke-opacity=\"1\" stroke-width=\"3.2\"/>\n",
       "<circle clip-path=\"url(#clip562)\" cx=\"1916.23\" cy=\"666.832\" r=\"14\" fill=\"#800080\" fill-rule=\"evenodd\" fill-opacity=\"1\" stroke=\"#000000\" stroke-opacity=\"1\" stroke-width=\"3.2\"/>\n",
       "<circle clip-path=\"url(#clip562)\" cx=\"1299.67\" cy=\"946.656\" r=\"14\" fill=\"#002aaa\" fill-rule=\"evenodd\" fill-opacity=\"1\" stroke=\"#000000\" stroke-opacity=\"1\" stroke-width=\"3.2\"/>\n",
       "<circle clip-path=\"url(#clip562)\" cx=\"1517.25\" cy=\"182.725\" r=\"14\" fill=\"#a99800\" fill-rule=\"evenodd\" fill-opacity=\"1\" stroke=\"#000000\" stroke-opacity=\"1\" stroke-width=\"3.2\"/>\n",
       "<circle clip-path=\"url(#clip562)\" cx=\"843.594\" cy=\"538.983\" r=\"14\" fill=\"#008000\" fill-rule=\"evenodd\" fill-opacity=\"1\" stroke=\"#000000\" stroke-opacity=\"1\" stroke-width=\"3.2\"/>\n",
       "<circle clip-path=\"url(#clip562)\" cx=\"1637.11\" cy=\"352.523\" r=\"14\" fill=\"#ff0000\" fill-rule=\"evenodd\" fill-opacity=\"1\" stroke=\"#000000\" stroke-opacity=\"1\" stroke-width=\"3.2\"/>\n",
       "<circle clip-path=\"url(#clip562)\" cx=\"954.005\" cy=\"322.068\" r=\"14\" fill=\"#2a00d4\" fill-rule=\"evenodd\" fill-opacity=\"1\" stroke=\"#000000\" stroke-opacity=\"1\" stroke-width=\"3.2\"/>\n",
       "<circle clip-path=\"url(#clip562)\" cx=\"1913.56\" cy=\"516.238\" r=\"14\" fill=\"#800080\" fill-rule=\"evenodd\" fill-opacity=\"1\" stroke=\"#000000\" stroke-opacity=\"1\" stroke-width=\"3.2\"/>\n",
       "<circle clip-path=\"url(#clip562)\" cx=\"1296.45\" cy=\"214.019\" r=\"14\" fill=\"#a99800\" fill-rule=\"evenodd\" fill-opacity=\"1\" stroke=\"#000000\" stroke-opacity=\"1\" stroke-width=\"3.2\"/>\n",
       "<circle clip-path=\"url(#clip562)\" cx=\"1627.53\" cy=\"759.783\" r=\"14\" fill=\"#002aaa\" fill-rule=\"evenodd\" fill-opacity=\"1\" stroke=\"#000000\" stroke-opacity=\"1\" stroke-width=\"3.2\"/>\n",
       "<circle clip-path=\"url(#clip562)\" cx=\"1487.9\" cy=\"199.675\" r=\"14\" fill=\"#a99800\" fill-rule=\"evenodd\" fill-opacity=\"1\" stroke=\"#000000\" stroke-opacity=\"1\" stroke-width=\"3.2\"/>\n",
       "<circle clip-path=\"url(#clip562)\" cx=\"882.051\" cy=\"476.564\" r=\"14\" fill=\"#008000\" fill-rule=\"evenodd\" fill-opacity=\"1\" stroke=\"#000000\" stroke-opacity=\"1\" stroke-width=\"3.2\"/>\n",
       "<circle clip-path=\"url(#clip562)\" cx=\"1714.92\" cy=\"302.634\" r=\"14\" fill=\"#ff0000\" fill-rule=\"evenodd\" fill-opacity=\"1\" stroke=\"#000000\" stroke-opacity=\"1\" stroke-width=\"3.2\"/>\n",
       "<circle clip-path=\"url(#clip562)\" cx=\"1339.27\" cy=\"215.312\" r=\"14\" fill=\"#a99800\" fill-rule=\"evenodd\" fill-opacity=\"1\" stroke=\"#000000\" stroke-opacity=\"1\" stroke-width=\"3.2\"/>\n",
       "<circle clip-path=\"url(#clip562)\" cx=\"1399.58\" cy=\"89.5547\" r=\"14\" fill=\"#a99800\" fill-rule=\"evenodd\" fill-opacity=\"1\" stroke=\"#000000\" stroke-opacity=\"1\" stroke-width=\"3.2\"/>\n",
       "<circle clip-path=\"url(#clip562)\" cx=\"1058.73\" cy=\"353.595\" r=\"14\" fill=\"#2a00d4\" fill-rule=\"evenodd\" fill-opacity=\"1\" stroke=\"#000000\" stroke-opacity=\"1\" stroke-width=\"3.2\"/>\n",
       "<circle clip-path=\"url(#clip562)\" cx=\"1152.36\" cy=\"952.421\" r=\"14\" fill=\"#002aaa\" fill-rule=\"evenodd\" fill-opacity=\"1\" stroke=\"#000000\" stroke-opacity=\"1\" stroke-width=\"3.2\"/>\n",
       "<circle clip-path=\"url(#clip562)\" cx=\"749.272\" cy=\"610.673\" r=\"14\" fill=\"#008000\" fill-rule=\"evenodd\" fill-opacity=\"1\" stroke=\"#000000\" stroke-opacity=\"1\" stroke-width=\"3.2\"/>\n",
       "<circle clip-path=\"url(#clip562)\" cx=\"2016.71\" cy=\"640.984\" r=\"14\" fill=\"#800080\" fill-rule=\"evenodd\" fill-opacity=\"1\" stroke=\"#000000\" stroke-opacity=\"1\" stroke-width=\"3.2\"/>\n",
       "<circle clip-path=\"url(#clip562)\" cx=\"1070.71\" cy=\"357.378\" r=\"14\" fill=\"#2a00d4\" fill-rule=\"evenodd\" fill-opacity=\"1\" stroke=\"#000000\" stroke-opacity=\"1\" stroke-width=\"3.2\"/>\n",
       "<circle clip-path=\"url(#clip562)\" cx=\"1125.91\" cy=\"586.442\" r=\"14\" fill=\"#008000\" fill-rule=\"evenodd\" fill-opacity=\"1\" stroke=\"#000000\" stroke-opacity=\"1\" stroke-width=\"3.2\"/>\n",
       "<circle clip-path=\"url(#clip562)\" cx=\"1920.08\" cy=\"537.621\" r=\"14\" fill=\"#800080\" fill-rule=\"evenodd\" fill-opacity=\"1\" stroke=\"#000000\" stroke-opacity=\"1\" stroke-width=\"3.2\"/>\n",
       "<circle clip-path=\"url(#clip562)\" cx=\"953.608\" cy=\"462.129\" r=\"14\" fill=\"#008000\" fill-rule=\"evenodd\" fill-opacity=\"1\" stroke=\"#000000\" stroke-opacity=\"1\" stroke-width=\"3.2\"/>\n",
       "<circle clip-path=\"url(#clip562)\" cx=\"1327.4\" cy=\"480.208\" r=\"14\" fill=\"#008000\" fill-rule=\"evenodd\" fill-opacity=\"1\" stroke=\"#000000\" stroke-opacity=\"1\" stroke-width=\"3.2\"/>\n",
       "<circle clip-path=\"url(#clip562)\" cx=\"1747.34\" cy=\"331.541\" r=\"14\" fill=\"#ff0000\" fill-rule=\"evenodd\" fill-opacity=\"1\" stroke=\"#000000\" stroke-opacity=\"1\" stroke-width=\"3.2\"/>\n",
       "<circle clip-path=\"url(#clip562)\" cx=\"1001.32\" cy=\"521.671\" r=\"14\" fill=\"#008000\" fill-rule=\"evenodd\" fill-opacity=\"1\" stroke=\"#000000\" stroke-opacity=\"1\" stroke-width=\"3.2\"/>\n",
       "<circle clip-path=\"url(#clip562)\" cx=\"1565.96\" cy=\"355.298\" r=\"14\" fill=\"#ff0000\" fill-rule=\"evenodd\" fill-opacity=\"1\" stroke=\"#000000\" stroke-opacity=\"1\" stroke-width=\"3.2\"/>\n",
       "<circle clip-path=\"url(#clip562)\" cx=\"1488.9\" cy=\"355.877\" r=\"14\" fill=\"#ff0000\" fill-rule=\"evenodd\" fill-opacity=\"1\" stroke=\"#000000\" stroke-opacity=\"1\" stroke-width=\"3.2\"/>\n",
       "<circle clip-path=\"url(#clip562)\" cx=\"1582.94\" cy=\"766.881\" r=\"14\" fill=\"#002aaa\" fill-rule=\"evenodd\" fill-opacity=\"1\" stroke=\"#000000\" stroke-opacity=\"1\" stroke-width=\"3.2\"/>\n",
       "<circle clip-path=\"url(#clip562)\" cx=\"864.665\" cy=\"600.832\" r=\"14\" fill=\"#008000\" fill-rule=\"evenodd\" fill-opacity=\"1\" stroke=\"#000000\" stroke-opacity=\"1\" stroke-width=\"3.2\"/>\n",
       "<circle clip-path=\"url(#clip562)\" cx=\"967.264\" cy=\"518.35\" r=\"14\" fill=\"#008000\" fill-rule=\"evenodd\" fill-opacity=\"1\" stroke=\"#000000\" stroke-opacity=\"1\" stroke-width=\"3.2\"/>\n",
       "<circle clip-path=\"url(#clip562)\" cx=\"1979.42\" cy=\"627.477\" r=\"14\" fill=\"#800080\" fill-rule=\"evenodd\" fill-opacity=\"1\" stroke=\"#000000\" stroke-opacity=\"1\" stroke-width=\"3.2\"/>\n",
       "<circle clip-path=\"url(#clip562)\" cx=\"1545.18\" cy=\"714.062\" r=\"14\" fill=\"#002aaa\" fill-rule=\"evenodd\" fill-opacity=\"1\" stroke=\"#000000\" stroke-opacity=\"1\" stroke-width=\"3.2\"/>\n",
       "<circle clip-path=\"url(#clip562)\" cx=\"1319.96\" cy=\"755.71\" r=\"14\" fill=\"#002aaa\" fill-rule=\"evenodd\" fill-opacity=\"1\" stroke=\"#000000\" stroke-opacity=\"1\" stroke-width=\"3.2\"/>\n",
       "<circle clip-path=\"url(#clip562)\" cx=\"1586.18\" cy=\"332.455\" r=\"14\" fill=\"#ff0000\" fill-rule=\"evenodd\" fill-opacity=\"1\" stroke=\"#000000\" stroke-opacity=\"1\" stroke-width=\"3.2\"/>\n",
       "<circle clip-path=\"url(#clip562)\" cx=\"953.069\" cy=\"490.291\" r=\"14\" fill=\"#008000\" fill-rule=\"evenodd\" fill-opacity=\"1\" stroke=\"#000000\" stroke-opacity=\"1\" stroke-width=\"3.2\"/>\n",
       "<circle clip-path=\"url(#clip562)\" cx=\"1966.02\" cy=\"653.515\" r=\"14\" fill=\"#800080\" fill-rule=\"evenodd\" fill-opacity=\"1\" stroke=\"#000000\" stroke-opacity=\"1\" stroke-width=\"3.2\"/>\n",
       "<circle clip-path=\"url(#clip562)\" cx=\"1246.54\" cy=\"874.434\" r=\"14\" fill=\"#002aaa\" fill-rule=\"evenodd\" fill-opacity=\"1\" stroke=\"#000000\" stroke-opacity=\"1\" stroke-width=\"3.2\"/>\n",
       "<circle clip-path=\"url(#clip562)\" cx=\"1355.82\" cy=\"171.217\" r=\"14\" fill=\"#a99800\" fill-rule=\"evenodd\" fill-opacity=\"1\" stroke=\"#000000\" stroke-opacity=\"1\" stroke-width=\"3.2\"/>\n",
       "<circle clip-path=\"url(#clip562)\" cx=\"1097.32\" cy=\"493.763\" r=\"14\" fill=\"#008000\" fill-rule=\"evenodd\" fill-opacity=\"1\" stroke=\"#000000\" stroke-opacity=\"1\" stroke-width=\"3.2\"/>\n",
       "<circle clip-path=\"url(#clip562)\" cx=\"1583.55\" cy=\"707.707\" r=\"14\" fill=\"#002aaa\" fill-rule=\"evenodd\" fill-opacity=\"1\" stroke=\"#000000\" stroke-opacity=\"1\" stroke-width=\"3.2\"/>\n",
       "<circle clip-path=\"url(#clip562)\" cx=\"1440.74\" cy=\"757.632\" r=\"14\" fill=\"#002aaa\" fill-rule=\"evenodd\" fill-opacity=\"1\" stroke=\"#000000\" stroke-opacity=\"1\" stroke-width=\"3.2\"/>\n",
       "<circle clip-path=\"url(#clip562)\" cx=\"1296.88\" cy=\"811.339\" r=\"14\" fill=\"#002aaa\" fill-rule=\"evenodd\" fill-opacity=\"1\" stroke=\"#000000\" stroke-opacity=\"1\" stroke-width=\"3.2\"/>\n",
       "<circle clip-path=\"url(#clip562)\" cx=\"1266.69\" cy=\"912.972\" r=\"14\" fill=\"#002aaa\" fill-rule=\"evenodd\" fill-opacity=\"1\" stroke=\"#000000\" stroke-opacity=\"1\" stroke-width=\"3.2\"/>\n",
       "<circle clip-path=\"url(#clip562)\" cx=\"1310.36\" cy=\"895.106\" r=\"14\" fill=\"#002aaa\" fill-rule=\"evenodd\" fill-opacity=\"1\" stroke=\"#000000\" stroke-opacity=\"1\" stroke-width=\"3.2\"/>\n",
       "<circle clip-path=\"url(#clip562)\" cx=\"1103.39\" cy=\"443.78\" r=\"14\" fill=\"#008000\" fill-rule=\"evenodd\" fill-opacity=\"1\" stroke=\"#000000\" stroke-opacity=\"1\" stroke-width=\"3.2\"/>\n",
       "<circle clip-path=\"url(#clip562)\" cx=\"1638.08\" cy=\"326.405\" r=\"14\" fill=\"#ff0000\" fill-rule=\"evenodd\" fill-opacity=\"1\" stroke=\"#000000\" stroke-opacity=\"1\" stroke-width=\"3.2\"/>\n",
       "<circle clip-path=\"url(#clip562)\" cx=\"942.095\" cy=\"461.076\" r=\"14\" fill=\"#008000\" fill-rule=\"evenodd\" fill-opacity=\"1\" stroke=\"#000000\" stroke-opacity=\"1\" stroke-width=\"3.2\"/>\n",
       "<circle clip-path=\"url(#clip562)\" cx=\"1315.44\" cy=\"245.828\" r=\"14\" fill=\"#a99800\" fill-rule=\"evenodd\" fill-opacity=\"1\" stroke=\"#000000\" stroke-opacity=\"1\" stroke-width=\"3.2\"/>\n",
       "<circle clip-path=\"url(#clip562)\" cx=\"1193.54\" cy=\"428.866\" r=\"14\" fill=\"#2a00d4\" fill-rule=\"evenodd\" fill-opacity=\"1\" stroke=\"#000000\" stroke-opacity=\"1\" stroke-width=\"3.2\"/>\n",
       "<circle clip-path=\"url(#clip562)\" cx=\"1186.33\" cy=\"297.93\" r=\"14\" fill=\"#2a00d4\" fill-rule=\"evenodd\" fill-opacity=\"1\" stroke=\"#000000\" stroke-opacity=\"1\" stroke-width=\"3.2\"/>\n",
       "<circle clip-path=\"url(#clip562)\" cx=\"678.486\" cy=\"558.561\" r=\"14\" fill=\"#008000\" fill-rule=\"evenodd\" fill-opacity=\"1\" stroke=\"#000000\" stroke-opacity=\"1\" stroke-width=\"3.2\"/>\n",
       "<circle clip-path=\"url(#clip562)\" cx=\"958.665\" cy=\"514.377\" r=\"14\" fill=\"#008000\" fill-rule=\"evenodd\" fill-opacity=\"1\" stroke=\"#000000\" stroke-opacity=\"1\" stroke-width=\"3.2\"/>\n",
       "<circle clip-path=\"url(#clip562)\" cx=\"1650.12\" cy=\"301.001\" r=\"14\" fill=\"#ff0000\" fill-rule=\"evenodd\" fill-opacity=\"1\" stroke=\"#000000\" stroke-opacity=\"1\" stroke-width=\"3.2\"/>\n",
       "<circle clip-path=\"url(#clip562)\" cx=\"1059.58\" cy=\"713.378\" r=\"14\" fill=\"#002aaa\" fill-rule=\"evenodd\" fill-opacity=\"1\" stroke=\"#000000\" stroke-opacity=\"1\" stroke-width=\"3.2\"/>\n",
       "<circle clip-path=\"url(#clip562)\" cx=\"1671.7\" cy=\"762.497\" r=\"14\" fill=\"#002aaa\" fill-rule=\"evenodd\" fill-opacity=\"1\" stroke=\"#000000\" stroke-opacity=\"1\" stroke-width=\"3.2\"/>\n",
       "<circle clip-path=\"url(#clip562)\" cx=\"1032.79\" cy=\"458.008\" r=\"14\" fill=\"#008000\" fill-rule=\"evenodd\" fill-opacity=\"1\" stroke=\"#000000\" stroke-opacity=\"1\" stroke-width=\"3.2\"/>\n",
       "<circle clip-path=\"url(#clip562)\" cx=\"1197.54\" cy=\"780.444\" r=\"14\" fill=\"#002aaa\" fill-rule=\"evenodd\" fill-opacity=\"1\" stroke=\"#000000\" stroke-opacity=\"1\" stroke-width=\"3.2\"/>\n",
       "<circle clip-path=\"url(#clip562)\" cx=\"1524.44\" cy=\"769.185\" r=\"14\" fill=\"#002aaa\" fill-rule=\"evenodd\" fill-opacity=\"1\" stroke=\"#000000\" stroke-opacity=\"1\" stroke-width=\"3.2\"/>\n",
       "<circle clip-path=\"url(#clip562)\" cx=\"1324.78\" cy=\"414.557\" r=\"14\" fill=\"#ff0000\" fill-rule=\"evenodd\" fill-opacity=\"1\" stroke=\"#000000\" stroke-opacity=\"1\" stroke-width=\"3.2\"/>\n",
       "<circle clip-path=\"url(#clip562)\" cx=\"1512.37\" cy=\"394.343\" r=\"14\" fill=\"#ff0000\" fill-rule=\"evenodd\" fill-opacity=\"1\" stroke=\"#000000\" stroke-opacity=\"1\" stroke-width=\"3.2\"/>\n",
       "<circle clip-path=\"url(#clip562)\" cx=\"1009.94\" cy=\"719.44\" r=\"14\" fill=\"#002aaa\" fill-rule=\"evenodd\" fill-opacity=\"1\" stroke=\"#000000\" stroke-opacity=\"1\" stroke-width=\"3.2\"/>\n",
       "<circle clip-path=\"url(#clip562)\" cx=\"837.204\" cy=\"490.789\" r=\"14\" fill=\"#008000\" fill-rule=\"evenodd\" fill-opacity=\"1\" stroke=\"#000000\" stroke-opacity=\"1\" stroke-width=\"3.2\"/>\n",
       "<circle clip-path=\"url(#clip562)\" cx=\"1194.3\" cy=\"771.062\" r=\"14\" fill=\"#002aaa\" fill-rule=\"evenodd\" fill-opacity=\"1\" stroke=\"#000000\" stroke-opacity=\"1\" stroke-width=\"3.2\"/>\n",
       "<circle clip-path=\"url(#clip562)\" cx=\"1134.91\" cy=\"257.268\" r=\"14\" fill=\"#2a00d4\" fill-rule=\"evenodd\" fill-opacity=\"1\" stroke=\"#000000\" stroke-opacity=\"1\" stroke-width=\"3.2\"/>\n",
       "<circle clip-path=\"url(#clip562)\" cx=\"1832.82\" cy=\"500.827\" r=\"14\" fill=\"#800080\" fill-rule=\"evenodd\" fill-opacity=\"1\" stroke=\"#000000\" stroke-opacity=\"1\" stroke-width=\"3.2\"/>\n",
       "<circle clip-path=\"url(#clip562)\" cx=\"1137.97\" cy=\"254.41\" r=\"14\" fill=\"#2a00d4\" fill-rule=\"evenodd\" fill-opacity=\"1\" stroke=\"#000000\" stroke-opacity=\"1\" stroke-width=\"3.2\"/>\n",
       "<circle clip-path=\"url(#clip562)\" cx=\"2022.18\" cy=\"530.618\" r=\"14\" fill=\"#800080\" fill-rule=\"evenodd\" fill-opacity=\"1\" stroke=\"#000000\" stroke-opacity=\"1\" stroke-width=\"3.2\"/>\n",
       "<circle clip-path=\"url(#clip562)\" cx=\"1362.22\" cy=\"781.355\" r=\"14\" fill=\"#002aaa\" fill-rule=\"evenodd\" fill-opacity=\"1\" stroke=\"#000000\" stroke-opacity=\"1\" stroke-width=\"3.2\"/>\n",
       "<circle clip-path=\"url(#clip562)\" cx=\"1353.23\" cy=\"413.826\" r=\"14\" fill=\"#ff0000\" fill-rule=\"evenodd\" fill-opacity=\"1\" stroke=\"#000000\" stroke-opacity=\"1\" stroke-width=\"3.2\"/>\n",
       "<circle clip-path=\"url(#clip562)\" cx=\"1015.58\" cy=\"666.898\" r=\"14\" fill=\"#008000\" fill-rule=\"evenodd\" fill-opacity=\"1\" stroke=\"#000000\" stroke-opacity=\"1\" stroke-width=\"3.2\"/>\n",
       "<circle clip-path=\"url(#clip562)\" cx=\"1248.65\" cy=\"489.82\" r=\"14\" fill=\"#008000\" fill-rule=\"evenodd\" fill-opacity=\"1\" stroke=\"#000000\" stroke-opacity=\"1\" stroke-width=\"3.2\"/>\n",
       "<circle clip-path=\"url(#clip562)\" cx=\"1322.07\" cy=\"838.643\" r=\"14\" fill=\"#002aaa\" fill-rule=\"evenodd\" fill-opacity=\"1\" stroke=\"#000000\" stroke-opacity=\"1\" stroke-width=\"3.2\"/>\n",
       "<circle clip-path=\"url(#clip562)\" cx=\"1734.88\" cy=\"640.699\" r=\"14\" fill=\"#800080\" fill-rule=\"evenodd\" fill-opacity=\"1\" stroke=\"#000000\" stroke-opacity=\"1\" stroke-width=\"3.2\"/>\n",
       "<circle clip-path=\"url(#clip562)\" cx=\"584.606\" cy=\"558.76\" r=\"14\" fill=\"#008000\" fill-rule=\"evenodd\" fill-opacity=\"1\" stroke=\"#000000\" stroke-opacity=\"1\" stroke-width=\"3.2\"/>\n",
       "<defs>\n",
       "  <clipPath id=\"clip563\">\n",
       "    <rect x=\"2160\" y=\"47\" width=\"73\" height=\"1440\"/>\n",
       "  </clipPath>\n",
       "</defs>\n",
       "<g clip-path=\"url(#clip563)\">\n",
       "<image width=\"72\" height=\"1439\" xlink:href=\"data:image/png;base64,\n",
       "iVBORw0KGgoAAAANSUhEUgAAAEgAAAWfCAYAAAAI7rB3AAAL+0lEQVR4nO3dQW7jMBQFQSr+c/8D\n",
       "O5ZygnEvyUXVCYzGgwjKcHI9az2L//rZ/QFOJ1AQKAgUBAoj0XfyBIGCQEGgIFCY9dr9Ec5mQUGg\n",
       "IFAQKLhqBHmCQEGgIFAQKLhqBAsKAgWBgkBBoOAuFuQJAgWBgkDBVSNYUBAoCBQECgIFp1iwoCBQ\n",
       "ECgIFLwPCvIEgYJAQaAgUHDVCBYUBAoCBYGCQMFdLMgTBAoCBYGCq0awoCBQECgIFAQKTrFgQUGg\n",
       "IFAQKAgUvDAL8gSBgkBBoOCqESwoCBQECgIFgYKrRpAnCBQECgIFV41gQUGgIFAQKAgUXDWCPEGg\n",
       "IFAQKAgU3MWCBQWBgkBBoOAhHSwoCBQECgIFgYIXZkGeIFAQKAgUBAruYsGCgkBBoCBQcNUI8gSB\n",
       "gkBBoCBQcNUIFhQECgIFgYKHdLCgIFAQKAgUBApemAV5gkBBoCBQECi4iwULCgIFgYJAwVUjyBME\n",
       "CgIFgYJAwVUjWFAQKAgUBAoCBadYsKAgUBAoCBS8MAvyBIGCQEGgIFBw1QgWFAQKAgWBgqtGkCcI\n",
       "FAQKAgWBgqtGsKAgUBAoCBQECu5iQZ4gUBAoCBRcNYIFBYGCQEGgIFBwigULCgIFgYJAwfugIE8Q\n",
       "KAgUBAoCBVeNYEFBoCBQECgIFNzFgjxBoCBQECi4agQLCgIFgYJAQaDgFAsWFAQKAgWBgkDBC7Mg\n",
       "TxAoCBQECq4awYKCQEGgIFAQKLhqBHmCQEGgIFBw1QgWFAQKAgWBgkDBKRYsKAgUBAoCBYGCF2ZB\n",
       "niBQECgIFFw1ggUFgYJAQaAgUHDVCPIEgYJAQaAgUHAXCxYUBAoCBYGCq0aQJwgUBAoCBYGCq0aw\n",
       "oCBQECgIFDykgwUFgYJAQaAgUPDCLMgTBAoCBYGCQMFdLFhQECgIFAQKrhpBniBQECgIFAQKrhrB\n",
       "goJAQaAgUBAoOMWCBQWBgkBBoOCFWZAnCBQECgIFgYKrRrCgIFAQKAgUXDWCPEGgIFAQKAgUXDWC\n",
       "BQWBgkBBoCBQcIoFCwoCBYGCQGGea/dHOJsFBYGCQEGgIFCY392f4HAWFAQKAgWBwvw+uz/C2Swo\n",
       "CBQECgIFgYKrRrCgIFAQKAgUBArzdhf7yoKCQEGgIFDwwixYUBAoCBQECgIFL8yCBQWBgkBBoCBQ\n",
       "mI+72FcWFAQKAgWBgqtGsKAgUBAoCBQECr72CRYUBAoCBYGCq0awoCBQECgIFAQKrhrBgoJAQaAg\n",
       "UBAo+DFLsKAgUBAoCBS8MAsWFAQKAgWBgkDBC7NgQUGgIFAQKAgU5rP7ExzOgoJAQaAgUHDVCBYU\n",
       "BAoCBYGCQMEpFiwoCBQECgIF380HCwoCBYGCQEGg4KoRLCgIFAQKAgWBwrx3f4LDWVAQKAgUBAqu\n",
       "GsGCgkBBoCBQECj42idYUBAoCBQECgIF/5klWFAQKAgUBApemAULCgIFgYJAQaDghVmwoCBQECgI\n",
       "FFw1ggUFgYJAQaAgUHDVCBYUBAoCBYGCQMF/ZgkWFAQKAgWBgqtGsKAgUBAoCBQECr72CRYUBAoC\n",
       "BYGCQMGPWYIFBYGCQEGg4IVZsKAgUBAoCBQECl6YBQsKAgWBgkDBVSNYUBAoCBQECgIFV41gQUGg\n",
       "IFAQKAgU/JglWFAQKAgUBApemAULCgIFgYJAQaDghVmwoCBQECgIFFw1ggUFgYJAQaAgUPCLw2BB\n",
       "QaAgUBAoCBTcxYIFBYGCQEGg4FuNYEFBoCBQECgIFJxiwYKCQEGgIFAQKMx79yc4nAUFgYJAQaDg\n",
       "qhEsKAgUBAoCBYGC7+aDBQWBgkBBoOCqESwoCBQECgIFgYIfswQLCgIFgYJAQaDghVmwoCBQECgI\n",
       "FLwwCxYUBAoCBYGCQMFVI1hQECgIFAQKAgX/mSVYUBAoCBQECq4awYKCQEGgIFAQKPjaJ1hQECgI\n",
       "FAQKHtLBgoJAQaAgUBAozGf3JzicBQWBgkBBoCBQcBcLFhQECgIFgYLv5oMFBYGCQEGgIFBw1QgW\n",
       "FAQKAgWBgkDBf2YJFhQECgIFgYKrRrCgIFAQKAgUBApOsWBBQaAgUBAo+G4+WFAQKAgUBAoChXnu\n",
       "a/dnOJoFBYGCQEGgIFCYdc/uz3A0CwoCBYGCQMFDOlhQECgIFAQKAgWnWLCgIFAQKAgUPKSDBQWB\n",
       "gkBBoCBQcIoFCwoCBYGCQEGgMOv+t/szHM2CgkBBoCBQcNUIFhQECgIFgYJAYdb92v0ZjmZBQaAg\n",
       "UBAoCBTcxYIFBYGCQEGg4FuNYEFBoCBQECgIFFw1ggUFgYJAQaDgIR0sKAgUBAoCBYGCUyxYUBAo\n",
       "CBQECgIFp1iwoCBQECgIFDykgwUFgYJAQaAgUPBjlmBBQaAgUBAoCBTcxYIFBYGCQEGg4CEdLCgI\n",
       "FAQKAgWBglMsWFAQKAgUBAoe0sGCgkBBoCBQECg4xYIFBYGCQEGgIFDwN8yCBQWBgkBBoOCqESwo\n",
       "CBQECgIFgYIfswQLCgIFgYJAQaDgLhYsKAgUBAoCBd9qBAsKAgWBgkBBoOCqESwoCBQECgIFD+lg\n",
       "QUGgIFAQKAgUnGLBgoJAQaAgUBAoOMWCBQWBgkBBoOAhHSwoCBQECgIFgYJTLFhQECgIFAQKfnEY\n",
       "LCgIFAQKAgWBgqtGsKAgUBAoCBQECk6xYEFBoCBQECh4SAcLCgIFgYJAQaDgFAsWFAQKAgWBgkDB\n",
       "3zALFhQECgIFgYKrRrCgIFAQKAgUBApOsWBBQaAgUBAo+DFLsKAgUBAoCBQECr7VCBYUBAoCBYGC\n",
       "QMELs2BBQaAgUBAoeEgHCwoCBYGCQEGg4BQLFhQECgIFgYJAwSkWLCgIFAQKAgUP6WBBQaAgUBAo\n",
       "CBScYsGCgkBBoCBQ8GOWYEFBoCBQECgIFFw1ggUFgYJAQaAgUHCKBQsKAgWBgkDBQzpYUBAoCBQE\n",
       "CgIFp1iwoCBQECgIFAQK/oZZsKAgUBAoCBRcNYIFBYGCQEGgIFBwigULCgIFgYJAwY9ZggUFgYJA\n",
       "QaAgUPCtRrCgIFAQKAgUBApemAULCgIFgYJAwUM6WFAQKAgUBAoCBadYsKAgUBAoCBQECk6xYEFB\n",
       "oCBQEChca93P7g9xMgsKAgWBgkBBoDDXcoh9Y0FBoCBQECjMz7p3f4ajWVAQKAgUBAoCBadYsKAg\n",
       "UBAoCBQECk6xYEFBoCBQECh4SAcLCgIFgYJAQaDgFAsWFAQKAgWBgod0sKAgUBAoCBQECk6xYEFB\n",
       "oCBQECgIFJxiwYKCQEGgIFDwkA4WFAQKAgWBgkDBKRYsKAgUBAoCBYGCUyxYUBAoCBQECh7SwYKC\n",
       "QEGgIFAQKDjFggUFgYJAQaDgIR0sKAgUBAoCBYGCUyxYUBAoCBQECgIFp1iwoCBQECgIFDykgwUF\n",
       "gYJAQaAgUHCKBQsKAgWBgkBBoOAUCxYUBAoCBYGCh3SwoCBQECgIFAQKTrFgQUGgIFAQKHhIBwsK\n",
       "AgWBgkBBoOAUCxYUBAoCBYGCQMEpFiwoCBQECgIFD+lgQUGgIFAQKAgUnGLBgoJAQaAgUBAoOMWC\n",
       "BQWBgkBBoOAhHSwoCBQECgIFgYJTLFhQECgIFAQKHtLBgoJAQaAgUBAoOMWCBQWBgkBBoCBQcIoF\n",
       "CwoCBYGCQMFDOlhQECgIFAQKAgWnWLCgIFAQKAgUPKSDBQWBgkBBoCBQcIoFCwoCBYGCQEGg4BQL\n",
       "FhQECgIFgYKHdLCgIFAQKAgUBApOsWBBQaAgUBAoCBScYsGCgkBBoCBQ8JAOFhQECgIFgYJAwSkW\n",
       "LCgIFAQKAgUP6WBBQaAgUBAoCBScYsGCgkBBoCBQECg4xYIFBYGCQEGg4CEdLCgIFAQKAgWBglMs\n",
       "WFAQKAgUBAoCBadYsKAgUBAoCBQ8pIMFBYGCQEGgIFBwigULCgIFgYJAwUM6WFAQKAgUBAoCBadY\n",
       "sKAgUBAoCBQECk6xYEFBoCBQECh4SAcLCgIFgYJAQaDgFAsWFAQKAgWBgkDBKRYsKAgUBAoCBQ/p\n",
       "YEFBoCBQECgIFJxiwYKCQEGgIFDwkA4WFAQKAgWBgkDBKRYsKAgUBAoCBYGCUyxYUBAoCBQECh7S\n",
       "wYKCQEGgIFAQKMxrPbs/w9EsKAgUBAoChT90vvUzqb6pbgAAAABJRU5ErkJggg==\n",
       "\" transform=\"translate(2161, 47)\"/>\n",
       "</g>\n",
       "<path clip-path=\"url(#clip560)\" d=\"M2269.43 1496.16 L2277.07 1496.16 L2277.07 1469.8 L2268.76 1471.46 L2268.76 1467.21 L2277.02 1465.54 L2281.7 1465.54 L2281.7 1496.16 L2289.33 1496.16 L2289.33 1500.1 L2269.43 1500.1 L2269.43 1496.16 Z\" fill=\"#000000\" fill-rule=\"evenodd\" fill-opacity=\"1\" /><path clip-path=\"url(#clip560)\" d=\"M2274.38 1256.3 L2290.7 1256.3 L2290.7 1260.23 L2268.76 1260.23 L2268.76 1256.3 Q2271.42 1253.54 2276 1248.91 Q2280.61 1244.26 2281.79 1242.92 Q2284.03 1240.39 2284.91 1238.66 Q2285.82 1236.9 2285.82 1235.21 Q2285.82 1232.45 2283.87 1230.72 Q2281.95 1228.98 2278.85 1228.98 Q2276.65 1228.98 2274.2 1229.75 Q2271.77 1230.51 2268.99 1232.06 L2268.99 1227.34 Q2271.81 1226.2 2274.27 1225.63 Q2276.72 1225.05 2278.76 1225.05 Q2284.13 1225.05 2287.32 1227.73 Q2290.52 1230.42 2290.52 1234.91 Q2290.52 1237.04 2289.7 1238.96 Q2288.92 1240.86 2286.81 1243.45 Q2286.23 1244.12 2283.13 1247.34 Q2280.03 1250.53 2274.38 1256.3 Z\" fill=\"#000000\" fill-rule=\"evenodd\" fill-opacity=\"1\" /><path clip-path=\"url(#clip560)\" d=\"M2284.38 1001.73 Q2287.74 1002.45 2289.61 1004.72 Q2291.51 1006.98 2291.51 1010.32 Q2291.51 1015.43 2287.99 1018.23 Q2284.47 1021.04 2277.99 1021.04 Q2275.82 1021.04 2273.5 1020.6 Q2271.21 1020.18 2268.76 1019.32 L2268.76 1014.81 Q2270.7 1015.94 2273.02 1016.52 Q2275.33 1017.1 2277.85 1017.1 Q2282.25 1017.1 2284.54 1015.36 Q2286.86 1013.63 2286.86 1010.32 Q2286.86 1007.26 2284.7 1005.55 Q2282.58 1003.81 2278.76 1003.81 L2274.73 1003.81 L2274.73 999.971 L2278.94 999.971 Q2282.39 999.971 2284.22 998.605 Q2286.05 997.216 2286.05 994.624 Q2286.05 991.962 2284.15 990.55 Q2282.27 989.115 2278.76 989.115 Q2276.83 989.115 2274.64 989.531 Q2272.44 989.948 2269.8 990.828 L2269.8 986.661 Q2272.46 985.92 2274.77 985.55 Q2277.11 985.179 2279.17 985.179 Q2284.5 985.179 2287.6 987.61 Q2290.7 990.017 2290.7 994.138 Q2290.7 997.008 2289.06 998.999 Q2287.41 1000.97 2284.38 1001.73 Z\" fill=\"#000000\" fill-rule=\"evenodd\" fill-opacity=\"1\" /><path clip-path=\"url(#clip560)\" d=\"M2284.36 750.011 L2272.55 768.46 L2284.36 768.46 L2284.36 750.011 M2283.13 745.937 L2289.01 745.937 L2289.01 768.46 L2293.94 768.46 L2293.94 772.349 L2289.01 772.349 L2289.01 780.497 L2284.36 780.497 L2284.36 772.349 L2268.76 772.349 L2268.76 767.835 L2283.13 745.937 Z\" fill=\"#000000\" fill-rule=\"evenodd\" fill-opacity=\"1\" /><path clip-path=\"url(#clip560)\" d=\"M2270.21 506.07 L2288.57 506.07 L2288.57 510.005 L2274.5 510.005 L2274.5 518.477 Q2275.52 518.13 2276.53 517.968 Q2277.55 517.783 2278.57 517.783 Q2284.36 517.783 2287.74 520.954 Q2291.12 524.125 2291.12 529.542 Q2291.12 535.121 2287.64 538.222 Q2284.17 541.301 2277.85 541.301 Q2275.68 541.301 2273.41 540.931 Q2271.16 540.56 2268.76 539.82 L2268.76 535.121 Q2270.84 536.255 2273.06 536.81 Q2275.28 537.366 2277.76 537.366 Q2281.77 537.366 2284.1 535.26 Q2286.44 533.153 2286.44 529.542 Q2286.44 525.931 2284.1 523.824 Q2281.77 521.718 2277.76 521.718 Q2275.89 521.718 2274.01 522.135 Q2272.16 522.551 2270.21 523.431 L2270.21 506.07 Z\" fill=\"#000000\" fill-rule=\"evenodd\" fill-opacity=\"1\" /><path clip-path=\"url(#clip560)\" d=\"M2281.09 281.619 Q2277.95 281.619 2276.09 283.772 Q2274.27 285.925 2274.27 289.675 Q2274.27 293.402 2276.09 295.577 Q2277.95 297.73 2281.09 297.73 Q2284.24 297.73 2286.07 295.577 Q2287.92 293.402 2287.92 289.675 Q2287.92 285.925 2286.07 283.772 Q2284.24 281.619 2281.09 281.619 M2290.38 266.966 L2290.38 271.226 Q2288.62 270.392 2286.81 269.953 Q2285.03 269.513 2283.27 269.513 Q2278.64 269.513 2276.19 272.638 Q2273.76 275.763 2273.41 282.082 Q2274.77 280.068 2276.83 279.003 Q2278.89 277.915 2281.37 277.915 Q2286.58 277.915 2289.59 281.087 Q2292.62 284.235 2292.62 289.675 Q2292.62 294.999 2289.47 298.216 Q2286.33 301.434 2281.09 301.434 Q2275.1 301.434 2271.93 296.851 Q2268.76 292.244 2268.76 283.517 Q2268.76 275.323 2272.64 270.462 Q2276.53 265.578 2283.08 265.578 Q2284.84 265.578 2286.63 265.925 Q2288.43 266.272 2290.38 266.966 Z\" fill=\"#000000\" fill-rule=\"evenodd\" fill-opacity=\"1\" /><path clip-path=\"url(#clip560)\" d=\"M2268.76 26.3353 L2290.98 26.3353 L2290.98 28.326 L2278.43 60.8953 L2273.55 60.8953 L2285.35 30.2705 L2268.76 30.2705 L2268.76 26.3353 Z\" fill=\"#000000\" fill-rule=\"evenodd\" fill-opacity=\"1\" /><polyline clip-path=\"url(#clip560)\" style=\"stroke:#000000; stroke-linecap:butt; stroke-linejoin:round; stroke-width:4; stroke-opacity:1; fill:none\" points=\"\n",
       "  2232.76,1486.45 2232.76,1486.45 2256.76,1486.45 2232.76,1486.45 2232.76,1246.58 2256.76,1246.58 2232.76,1246.58 2232.76,1006.71 2256.76,1006.71 2232.76,1006.71 \n",
       "  2232.76,766.846 2256.76,766.846 2232.76,766.846 2232.76,526.979 2256.76,526.979 2232.76,526.979 2232.76,287.111 2256.76,287.111 2232.76,287.111 2232.76,47.2441 \n",
       "  2256.76,47.2441 2232.76,47.2441 \n",
       "  \"/>\n",
       "<path clip-path=\"url(#clip560)\" d=\"\n",
       "M1775.64 216.178 L2047.06 216.178 L2047.06 95.2176 L1775.64 95.2176  Z\n",
       "  \" fill=\"#ffffff\" fill-rule=\"evenodd\" fill-opacity=\"1\"/>\n",
       "<polyline clip-path=\"url(#clip560)\" style=\"stroke:#000000; stroke-linecap:butt; stroke-linejoin:round; stroke-width:4; stroke-opacity:1; fill:none\" points=\"\n",
       "  1775.64,216.178 2047.06,216.178 2047.06,95.2176 1775.64,95.2176 1775.64,216.178 \n",
       "  \"/>\n",
       "<circle clip-path=\"url(#clip560)\" cx=\"1863.24\" cy=\"155.698\" r=\"23\" fill=\"#a99800\" fill-rule=\"evenodd\" fill-opacity=\"1\" stroke=\"#000000\" stroke-opacity=\"1\" stroke-width=\"5.12\"/>\n",
       "<path clip-path=\"url(#clip560)\" d=\"M1964.67 175.385 Q1962.87 180.015 1961.16 181.427 Q1959.44 182.839 1956.57 182.839 L1953.17 182.839 L1953.17 179.274 L1955.67 179.274 Q1957.43 179.274 1958.4 178.44 Q1959.37 177.607 1960.55 174.505 L1961.32 172.561 L1950.83 147.052 L1955.34 147.052 L1963.45 167.329 L1971.55 147.052 L1976.06 147.052 L1964.67 175.385 Z\" fill=\"#000000\" fill-rule=\"evenodd\" fill-opacity=\"1\" /><path clip-path=\"url(#clip560)\" d=\"M1983.35 169.042 L1990.99 169.042 L1990.99 142.677 L1982.68 144.343 L1982.68 140.084 L1990.95 138.418 L1995.62 138.418 L1995.62 169.042 L2003.26 169.042 L2003.26 172.978 L1983.35 172.978 L1983.35 169.042 Z\" fill=\"#000000\" fill-rule=\"evenodd\" fill-opacity=\"1\" /></svg>\n"
      ]
     },
     "execution_count": 12,
     "metadata": {},
     "output_type": "execute_result"
    }
   ],
   "source": [
    "#Plots to view the resultant clustering\n",
    "using Plots\n",
    "scatter(df2.Latitude, df2.Longitude,\n",
    "        marker_z = result.assignments,\n",
    "        color =:rainbow, legend = true)"
   ]
  },
  {
   "cell_type": "code",
   "execution_count": 13,
   "id": "ab5612ff",
   "metadata": {},
   "outputs": [],
   "source": [
    "#Mapping storenum to its corresponding cluster\n",
    "store_clus = Dict()\n",
    "for i in 1:size(df2,1)\n",
    "    store_clus[df2.Storenum[i]] = result.assignments[i]\n",
    "end"
   ]
  },
  {
   "cell_type": "code",
   "execution_count": 14,
   "id": "750b076d",
   "metadata": {},
   "outputs": [
    {
     "data": {
      "text/plain": [
       "Dict{Any, Any} with 111 entries:\n",
       "  597 => 4\n",
       "  519 => 5\n",
       "  586 => 1\n",
       "  501 => 5\n",
       "  627 => 4\n",
       "  660 => 3\n",
       "  650 => 7\n",
       "  510 => 4\n",
       "  556 => 4\n",
       "  657 => 5\n",
       "  547 => 4\n",
       "  530 => 1\n",
       "  612 => 3\n",
       "  505 => 2\n",
       "  629 => 5\n",
       "  665 => 7\n",
       "  567 => 6\n",
       "  638 => 5\n",
       "  506 => 7\n",
       "  524 => 5\n",
       "  518 => 3\n",
       "  603 => 3\n",
       "  661 => 4\n",
       "  651 => 4\n",
       "  658 => 4\n",
       "  ⋮   => ⋮"
      ]
     },
     "execution_count": 14,
     "metadata": {},
     "output_type": "execute_result"
    }
   ],
   "source": [
    "store_clus"
   ]
  },
  {
   "cell_type": "code",
   "execution_count": 15,
   "id": "e7efae93",
   "metadata": {},
   "outputs": [],
   "source": [
    "#Save the mappings for further use\n",
    "save(\"store_clus.jld2\", \"store_clus\", store_clus)"
   ]
  },
  {
   "cell_type": "markdown",
   "id": "54429c45",
   "metadata": {},
   "source": [
    "# Word2Vec-storenum,sales number,sales channel"
   ]
  },
  {
   "cell_type": "code",
   "execution_count": 2,
   "id": "705861f9",
   "metadata": {
    "scrolled": true
   },
   "outputs": [
    {
     "data": {
      "text/html": [
       "<table class=\"data-frame\"><thead><tr><th></th><th>storenum</th><th>item_key</th><th>item_description</th><th>transaction_type</th><th>sales_amount</th><th>sales_channel</th></tr><tr><th></th><th>Int64</th><th>Int64</th><th>String</th><th>String</th><th>Float64</th><th>String</th></tr></thead><tbody><p>12,419,521 rows × 10 columns (omitted printing of 4 columns)</p><tr><th>1</th><td>502</td><td>9999994</td><td>*BF Eat In*</td><td>M</td><td>0.0</td><td>Breakfast (BF)</td></tr><tr><th>2</th><td>502</td><td>1</td><td>CASH</td><td>T</td><td>9.34579</td><td>Breakfast (BF)</td></tr><tr><th>3</th><td>502</td><td>1</td><td>CASH</td><td>T</td><td>-9.34579</td><td>Breakfast (BF)</td></tr><tr><th>4</th><td>502</td><td>914335</td><td>9P FFST</td><td>M</td><td>28.9252</td><td>Take Away (TA)</td></tr><tr><th>5</th><td>502</td><td>1</td><td>CASH</td><td>T</td><td>32.7103</td><td>Take Away (TA)</td></tr><tr><th>6</th><td>502</td><td>1</td><td>CASH</td><td>T</td><td>-3.78505</td><td>Take Away (TA)</td></tr><tr><th>7</th><td>502</td><td>200002</td><td>PEPSI -R</td><td>M</td><td>2.2897</td><td>Take Away (TA)</td></tr><tr><th>8</th><td>502</td><td>200020</td><td>ICED MILO -R</td><td>M</td><td>3.1776</td><td>Take Away (TA)</td></tr><tr><th>9</th><td>502</td><td>1</td><td>CASH</td><td>T</td><td>9.34579</td><td>Take Away (TA)</td></tr><tr><th>10</th><td>502</td><td>1</td><td>CASH</td><td>T</td><td>-3.8785</td><td>Take Away (TA)</td></tr><tr><th>11</th><td>502</td><td>30005</td><td>ZINGER ML</td><td>M</td><td>6.8692</td><td>Take Away (TA)</td></tr><tr><th>12</th><td>502</td><td>1</td><td>CASH</td><td>T</td><td>9.34579</td><td>Take Away (TA)</td></tr><tr><th>13</th><td>502</td><td>1</td><td>CASH</td><td>T</td><td>-2.47664</td><td>Take Away (TA)</td></tr><tr><th>14</th><td>502</td><td>916722</td><td>AM TWT ML </td><td>M</td><td>6.4486</td><td>Foodpanda Breakfast</td></tr><tr><th>15</th><td>502</td><td>916730</td><td>NWCF&gt;IMILO-M </td><td>M</td><td>1.4486</td><td>Foodpanda Breakfast</td></tr><tr><th>16</th><td>502</td><td>100091</td><td>FOODPANDA PAY</td><td>T</td><td>7.8972</td><td>Foodpanda Breakfast</td></tr><tr><th>17</th><td>502</td><td>916709</td><td>ORP&amp;ORTWTBML </td><td>M</td><td>13.0374</td><td>Foodpanda Breakfast</td></tr><tr><th>18</th><td>502</td><td>919323</td><td>2 ML FOR $8.95</td><td>M</td><td>8.3645</td><td>Foodpanda Breakfast</td></tr><tr><th>19</th><td>502</td><td>100091</td><td>FOODPANDA PAY</td><td>T</td><td>21.4019</td><td>Foodpanda Breakfast</td></tr><tr><th>20</th><td>502</td><td>914738</td><td>5P CKNBDY ML</td><td>M</td><td>27.0561</td><td>Foodpanda Daypart</td></tr><tr><th>21</th><td>502</td><td>919120</td><td>RWP&gt;MFRIES </td><td>M</td><td>1.215</td><td>Foodpanda Daypart</td></tr><tr><th>22</th><td>502</td><td>919121</td><td>MWP&gt;MFRIES </td><td>M</td><td>0.0935</td><td>Foodpanda Daypart</td></tr><tr><th>23</th><td>502</td><td>100091</td><td>FOODPANDA PAY</td><td>T</td><td>28.3645</td><td>Foodpanda Daypart</td></tr><tr><th>24</th><td>502</td><td>915872</td><td>BBQ PKT</td><td>M</td><td>5.0</td><td>Foodpanda Daypart</td></tr><tr><th>25</th><td>502</td><td>915872</td><td>BBQ PKT</td><td>M</td><td>5.0</td><td>Foodpanda Daypart</td></tr><tr><th>26</th><td>502</td><td>915555</td><td>REG PEPSI</td><td>M</td><td>2.6636</td><td>Foodpanda Daypart</td></tr><tr><th>27</th><td>502</td><td>914770</td><td>IMILO -R</td><td>M</td><td>3.5514</td><td>Foodpanda Daypart</td></tr><tr><th>28</th><td>502</td><td>100091</td><td>FOODPANDA PAY</td><td>T</td><td>16.215</td><td>Foodpanda Daypart</td></tr><tr><th>29</th><td>502</td><td>914734</td><td>2P CKN ML</td><td>M</td><td>10.7477</td><td>Foodpanda Daypart</td></tr><tr><th>30</th><td>502</td><td>914734</td><td>2P CKN ML</td><td>M</td><td>10.7477</td><td>Foodpanda Daypart</td></tr><tr><th>&vellip;</th><td>&vellip;</td><td>&vellip;</td><td>&vellip;</td><td>&vellip;</td><td>&vellip;</td><td>&vellip;</td></tr></tbody></table>"
      ],
      "text/latex": [
       "\\begin{tabular}{r|ccccccc}\n",
       "\t& storenum & item\\_key & item\\_description & transaction\\_type & sales\\_amount & sales\\_channel & \\\\\n",
       "\t\\hline\n",
       "\t& Int64 & Int64 & String & String & Float64 & String & \\\\\n",
       "\t\\hline\n",
       "\t1 & 502 & 9999994 & *BF Eat In* & M & 0.0 & Breakfast (BF) & $\\dots$ \\\\\n",
       "\t2 & 502 & 1 & CASH & T & 9.34579 & Breakfast (BF) & $\\dots$ \\\\\n",
       "\t3 & 502 & 1 & CASH & T & -9.34579 & Breakfast (BF) & $\\dots$ \\\\\n",
       "\t4 & 502 & 914335 & 9P FFST & M & 28.9252 & Take Away (TA) & $\\dots$ \\\\\n",
       "\t5 & 502 & 1 & CASH & T & 32.7103 & Take Away (TA) & $\\dots$ \\\\\n",
       "\t6 & 502 & 1 & CASH & T & -3.78505 & Take Away (TA) & $\\dots$ \\\\\n",
       "\t7 & 502 & 200002 & PEPSI -R & M & 2.2897 & Take Away (TA) & $\\dots$ \\\\\n",
       "\t8 & 502 & 200020 & ICED MILO -R & M & 3.1776 & Take Away (TA) & $\\dots$ \\\\\n",
       "\t9 & 502 & 1 & CASH & T & 9.34579 & Take Away (TA) & $\\dots$ \\\\\n",
       "\t10 & 502 & 1 & CASH & T & -3.8785 & Take Away (TA) & $\\dots$ \\\\\n",
       "\t11 & 502 & 30005 & ZINGER ML & M & 6.8692 & Take Away (TA) & $\\dots$ \\\\\n",
       "\t12 & 502 & 1 & CASH & T & 9.34579 & Take Away (TA) & $\\dots$ \\\\\n",
       "\t13 & 502 & 1 & CASH & T & -2.47664 & Take Away (TA) & $\\dots$ \\\\\n",
       "\t14 & 502 & 916722 & AM TWT ML  & M & 6.4486 & Foodpanda Breakfast & $\\dots$ \\\\\n",
       "\t15 & 502 & 916730 & NWCF>IMILO-M  & M & 1.4486 & Foodpanda Breakfast & $\\dots$ \\\\\n",
       "\t16 & 502 & 100091 & FOODPANDA PAY & T & 7.8972 & Foodpanda Breakfast & $\\dots$ \\\\\n",
       "\t17 & 502 & 916709 & ORP\\&ORTWTBML  & M & 13.0374 & Foodpanda Breakfast & $\\dots$ \\\\\n",
       "\t18 & 502 & 919323 & 2 ML FOR \\$8.95 & M & 8.3645 & Foodpanda Breakfast & $\\dots$ \\\\\n",
       "\t19 & 502 & 100091 & FOODPANDA PAY & T & 21.4019 & Foodpanda Breakfast & $\\dots$ \\\\\n",
       "\t20 & 502 & 914738 & 5P CKNBDY ML & M & 27.0561 & Foodpanda Daypart & $\\dots$ \\\\\n",
       "\t21 & 502 & 919120 & RWP>MFRIES  & M & 1.215 & Foodpanda Daypart & $\\dots$ \\\\\n",
       "\t22 & 502 & 919121 & MWP>MFRIES  & M & 0.0935 & Foodpanda Daypart & $\\dots$ \\\\\n",
       "\t23 & 502 & 100091 & FOODPANDA PAY & T & 28.3645 & Foodpanda Daypart & $\\dots$ \\\\\n",
       "\t24 & 502 & 915872 & BBQ PKT & M & 5.0 & Foodpanda Daypart & $\\dots$ \\\\\n",
       "\t25 & 502 & 915872 & BBQ PKT & M & 5.0 & Foodpanda Daypart & $\\dots$ \\\\\n",
       "\t26 & 502 & 915555 & REG PEPSI & M & 2.6636 & Foodpanda Daypart & $\\dots$ \\\\\n",
       "\t27 & 502 & 914770 & IMILO -R & M & 3.5514 & Foodpanda Daypart & $\\dots$ \\\\\n",
       "\t28 & 502 & 100091 & FOODPANDA PAY & T & 16.215 & Foodpanda Daypart & $\\dots$ \\\\\n",
       "\t29 & 502 & 914734 & 2P CKN ML & M & 10.7477 & Foodpanda Daypart & $\\dots$ \\\\\n",
       "\t30 & 502 & 914734 & 2P CKN ML & M & 10.7477 & Foodpanda Daypart & $\\dots$ \\\\\n",
       "\t$\\dots$ & $\\dots$ & $\\dots$ & $\\dots$ & $\\dots$ & $\\dots$ & $\\dots$ &  \\\\\n",
       "\\end{tabular}\n"
      ],
      "text/plain": [
       "12419521×10 DataFrame. Omitted printing of 6 columns\n",
       "│ Row      │ storenum │ item_key │ item_description │ transaction_type │\n",
       "│          │ \u001b[90mInt64\u001b[39m    │ \u001b[90mInt64\u001b[39m    │ \u001b[90mString\u001b[39m           │ \u001b[90mString\u001b[39m           │\n",
       "├──────────┼──────────┼──────────┼──────────────────┼──────────────────┤\n",
       "│ 1        │ 502      │ 9999994  │ *BF Eat In*      │ M                │\n",
       "│ 2        │ 502      │ 1        │ CASH             │ T                │\n",
       "│ 3        │ 502      │ 1        │ CASH             │ T                │\n",
       "│ 4        │ 502      │ 914335   │ 9P FFST          │ M                │\n",
       "│ 5        │ 502      │ 1        │ CASH             │ T                │\n",
       "│ 6        │ 502      │ 1        │ CASH             │ T                │\n",
       "│ 7        │ 502      │ 200002   │ PEPSI -R         │ M                │\n",
       "│ 8        │ 502      │ 200020   │ ICED MILO -R     │ M                │\n",
       "│ 9        │ 502      │ 1        │ CASH             │ T                │\n",
       "│ 10       │ 502      │ 1        │ CASH             │ T                │\n",
       "⋮\n",
       "│ 12419511 │ 670      │ 1        │ CASH             │ T                │\n",
       "│ 12419512 │ 670      │ 30005    │ ZINGER ML        │ M                │\n",
       "│ 12419513 │ 670      │ 44041    │ *No Lettuce      │ M                │\n",
       "│ 12419514 │ 670      │ 44007    │ *No Ice          │ M                │\n",
       "│ 12419515 │ 670      │ 400125   │ RP>R BEER -R     │ M                │\n",
       "│ 12419516 │ 670      │ 100003   │ VISA             │ T                │\n",
       "│ 12419517 │ 670      │ 915852   │ BBQ PKTT ML      │ M                │\n",
       "│ 12419518 │ 670      │ 400123   │ RP>MT DEW -M     │ M                │\n",
       "│ 12419519 │ 670      │ 450044   │ MFF>CFRIES       │ M                │\n",
       "│ 12419520 │ 670      │ 30001    │ 2P(OR)ML-A       │ M                │\n",
       "│ 12419521 │ 670      │ 400110   │ RP>PEPSI -M      │ M                │"
      ]
     },
     "execution_count": 2,
     "metadata": {},
     "output_type": "execute_result"
    }
   ],
   "source": [
    "#loading the dataset for unique channels in particular quarter\n",
    "df = DataFrame(CSV.File(\"Datasetq1.csv\"))"
   ]
  },
  {
   "cell_type": "code",
   "execution_count": 3,
   "id": "03d64030",
   "metadata": {
    "scrolled": true
   },
   "outputs": [
    {
     "data": {
      "text/plain": [
       "17-element Vector{String}:\n",
       " \"Breakfast (BF)\"\n",
       " \"Take Away (TA)\"\n",
       " \"Foodpanda Breakfast\"\n",
       " \"Foodpanda Daypart\"\n",
       " \"Drive-Thru\"\n",
       " \"Eat In (EI)\"\n",
       " \"Grabfood Breakfast\"\n",
       " \"Grabfood Daypart\"\n",
       " \"Self-Ordering TA\"\n",
       " \"Deliveroo Breakfast\"\n",
       " \"Deliveroo Daypart\"\n",
       " \"Online-Delivery\"\n",
       " \"Phone-Delivery\"\n",
       " \"Self-Ordering EI\"\n",
       " \"Phone-Pickup\"\n",
       " \"Catering\"\n",
       " \"Online-Pickup\""
      ]
     },
     "execution_count": 3,
     "metadata": {},
     "output_type": "execute_result"
    }
   ],
   "source": [
    "#getting unique channels\n",
    "sales_channel = unique(df.sales_channel)"
   ]
  },
  {
   "cell_type": "code",
   "execution_count": 14,
   "id": "230b620b",
   "metadata": {},
   "outputs": [
    {
     "data": {
      "text/plain": [
       "remove_space (generic function with 1 method)"
      ]
     },
     "execution_count": 14,
     "metadata": {},
     "output_type": "execute_result"
    }
   ],
   "source": [
    "# Remove spaces from a string,Input-string,Output-string\n",
    "function remove_space(s)\n",
    "    s1 = \"\"\n",
    "    for i in 1:length(s)\n",
    "        if(!isspace(s[i]))\n",
    "            s1 = s1 * s[i]\n",
    "        end\n",
    "    end\n",
    "    return s1\n",
    "end"
   ]
  },
  {
   "cell_type": "code",
   "execution_count": 22,
   "id": "ee594df5",
   "metadata": {},
   "outputs": [],
   "source": [
    "#text preparation for Word2Vec training of storenum,sales number,sales channel \n",
    "for num_clus = 7\n",
    "text = \"\"\n",
    "sales_div = [\"Sales_0-3\",\"Sales_3-6\",\"Sales_6-8\",\"Sales_8-11\",\"Sales_11-18\",\"Sales_18-22\",\"Sales_22-50\"]\n",
    "for i in 1:length(sales_div)\n",
    "    text = text * sales_div[i] * \"\\n\"\n",
    "end\n",
    "for i in 1:num_clus\n",
    "    text = text * \"Store_Cluster-\" * string(i) * \"\\n\"\n",
    "end\n",
    "for i in 1:length(sales_channel)\n",
    "    text = text * remove_space(sales_channel[i]) * \"\\n\"\n",
    "end"
   ]
  },
  {
   "cell_type": "code",
   "execution_count": 23,
   "id": "25665070",
   "metadata": {},
   "outputs": [
    {
     "data": {
      "text/plain": [
       "\"Sales_0-3\\nSales_3-6\\nSales_6-8\\nSales_8-11\\nSales_11-18\\nSales_18-22\\nSales_22-50\\nStore_Cluster-1\\nStore_Cluster-2\\nStore_Cluster-3\\nStore_Cluster-4\\nStore_Cluster-5\\nStore_Cluster-6\\nStore_Cluster-7\\nEatIn(EI)\\nTakeAway(TA)\\nDrive-Thru\\nFoodpandaDaypart\\nDeliverooDaypart\\nBreakfast(BF)\\nSelf-OrderingEI\\nSelf-OrderingTA\\nOnline-Delivery\\nPhone-Delivery\\nPhone-Pickup\\nGrabfoodDaypart\\nFoodpandaBreakfast\\nGrabfoodBreakfast\\nCatering\\nDeliverooBreakfast\\nBirthday/KidsTour\\nOnline-Pickup\\n\""
      ]
     },
     "execution_count": 23,
     "metadata": {},
     "output_type": "execute_result"
    }
   ],
   "source": [
    "text"
   ]
  },
  {
   "cell_type": "code",
   "execution_count": 24,
   "id": "b07e33ae",
   "metadata": {},
   "outputs": [],
   "source": [
    "#save the text file\n",
    "open(\"text_store_sales_channel.txt\", \"w\") do io\n",
    "           write(io, text)\n",
    "       end;"
   ]
  },
  {
   "cell_type": "code",
   "execution_count": 1,
   "id": "61c2f1d7",
   "metadata": {},
   "outputs": [],
   "source": [
    "using Word2Vec"
   ]
  },
  {
   "cell_type": "code",
   "execution_count": 29,
   "id": "280dae89",
   "metadata": {},
   "outputs": [
    {
     "name": "stdout",
     "output_type": "stream",
     "text": [
      "Starting training using file text_store_sales_channel.txt\n",
      "Vocab size: 33\n",
      "Words in train file: 64\n"
     ]
    },
    {
     "data": {
      "text/plain": [
       "Process(`\u001b[4m/opt/julia/artifacts/0c86f7feb8f6b4ab5f9fb793f1fde1278e3a6021/bin/word2vec\u001b[24m \u001b[4m-train\u001b[24m \u001b[4mtext_store_sales_channel.txt\u001b[24m \u001b[4m-output\u001b[24m \u001b[4mtext_store_sales_channel-vec.txt\u001b[24m \u001b[4m-size\u001b[24m \u001b[4m20\u001b[24m \u001b[4m-window\u001b[24m \u001b[4m5\u001b[24m \u001b[4m-sample\u001b[24m \u001b[4m0.001\u001b[24m \u001b[4m-hs\u001b[24m \u001b[4m0\u001b[24m \u001b[4m-negative\u001b[24m \u001b[4m5\u001b[24m \u001b[4m-threads\u001b[24m \u001b[4m12\u001b[24m \u001b[4m-iter\u001b[24m \u001b[4m20\u001b[24m \u001b[4m-min-count\u001b[24m \u001b[4m1\u001b[24m \u001b[4m-alpha\u001b[24m \u001b[4m0.025\u001b[24m \u001b[4m-debug\u001b[24m \u001b[4m2\u001b[24m \u001b[4m-binary\u001b[24m \u001b[4m0\u001b[24m \u001b[4m-cbow\u001b[24m \u001b[4m1\u001b[24m`, ProcessExited(0))"
      ]
     },
     "execution_count": 29,
     "metadata": {},
     "output_type": "execute_result"
    }
   ],
   "source": [
    "#Word2vec Training needs to be in Linux-based Sysytem\n",
    "#training the word2vec using text data\n",
    "word2vec(\"text_store_sales_channel.txt\", \"text_store_sales_channel-vec.txt\",size = 20 ,iter = 20 ,min_count = 1, verbose=true)"
   ]
  },
  {
   "cell_type": "code",
   "execution_count": 2,
   "id": "87616e61",
   "metadata": {},
   "outputs": [
    {
     "data": {
      "text/plain": [
       "33-element Vector{String}:\n",
       " \"</s>\"\n",
       " \"Sales_0-3\"\n",
       " \"Sales_3-6\"\n",
       " \"Sales_6-8\"\n",
       " \"Sales_8-11\"\n",
       " \"Sales_11-18\"\n",
       " \"Sales_18-22\"\n",
       " \"Sales_22-50\"\n",
       " \"Store_Cluster-1\"\n",
       " \"Store_Cluster-2\"\n",
       " \"Store_Cluster-3\"\n",
       " \"Store_Cluster-4\"\n",
       " \"Store_Cluster-5\"\n",
       " ⋮\n",
       " \"Self-OrderingEI\"\n",
       " \"Self-OrderingTA\"\n",
       " \"Online-Delivery\"\n",
       " \"Phone-Delivery\"\n",
       " \"Phone-Pickup\"\n",
       " \"GrabfoodDaypart\"\n",
       " \"FoodpandaBreakfast\"\n",
       " \"GrabfoodBreakfast\"\n",
       " \"Catering\"\n",
       " \"DeliverooBreakfast\"\n",
       " \"Birthday/KidsTour\"\n",
       " \"Online-Pickup\""
      ]
     },
     "execution_count": 2,
     "metadata": {},
     "output_type": "execute_result"
    }
   ],
   "source": [
    "#loading model and vocabulary\n",
    "model = wordvectors(\"text_store_sales_channel-vec.txt\")\n",
    "words = vocabulary(model)"
   ]
  },
  {
   "cell_type": "markdown",
   "id": "857bcddd",
   "metadata": {},
   "source": [
    "# Embedding Generation"
   ]
  },
  {
   "cell_type": "code",
   "execution_count": 3,
   "id": "f1a70740",
   "metadata": {},
   "outputs": [],
   "source": [
    "using CSV\n",
    "using DataFrames"
   ]
  },
  {
   "cell_type": "code",
   "execution_count": 3,
   "id": "1ef3fcff",
   "metadata": {},
   "outputs": [
    {
     "data": {
      "text/plain": [
       "get_sales_div (generic function with 1 method)"
      ]
     },
     "execution_count": 3,
     "metadata": {},
     "output_type": "execute_result"
    }
   ],
   "source": [
    "#Getting sales division group,Input-float,Output-string\n",
    "function get_sales_div(sales)\n",
    "    sales_div = [\"Sales_0-3\",\"Sales_3-6\",\"Sales_6-8\",\"Sales_8-11\",\"Sales_11-18\",\"Sales_18-22\",\"Sales_22-50\"]\n",
    "    if(sales >=0.0 && sales<=3.0)\n",
    "        return sales_div[1]\n",
    "    elseif(sales >3.0 && sales <=6.0)\n",
    "        return sales_div[2]\n",
    "    elseif(sales >6.0 && sales <=8.0)\n",
    "        return sales_div[3]\n",
    "    elseif(sales >8.0 && sales <=11.0)\n",
    "        return sales_div[4]        \n",
    "    elseif(sales >11.0 && sales <=18.0)\n",
    "        return sales_div[5]\n",
    "    elseif(sales >18.0 && sales <=22.0)\n",
    "        return sales_div[6]\n",
    "    else\n",
    "        return sales_div[7]\n",
    "    end\n",
    "end"
   ]
  },
  {
   "cell_type": "code",
   "execution_count": 4,
   "id": "2c6eaaaf",
   "metadata": {},
   "outputs": [
    {
     "data": {
      "text/plain": [
       "get_store_clus (generic function with 1 method)"
      ]
     },
     "execution_count": 4,
     "metadata": {},
     "output_type": "execute_result"
    }
   ],
   "source": [
    "#Getting store division group,Input-int,Output-string\n",
    "function get_store_clus(store)\n",
    "    x = \"Store_Cluster-\" * string(store_clus[store])\n",
    "    return x\n",
    "end"
   ]
  },
  {
   "cell_type": "code",
   "execution_count": 11,
   "id": "d22fb830",
   "metadata": {},
   "outputs": [
    {
     "data": {
      "text/plain": [
       "generate_embedding (generic function with 1 method)"
      ]
     },
     "execution_count": 11,
     "metadata": {},
     "output_type": "execute_result"
    }
   ],
   "source": [
    "#Genearating emb_partial(containing embedding for storenum,sales amount division, channel) and \n",
    "#emb_all((containing embedding for storenum,sales amount division, channel and products description))\n",
    "function generate_embedding(df,df1,lower,upper)\n",
    "    emb_partial = vcat(get_vector(model,get_store_clus(df.storenum[lower])),get_vector(model,get_sales_div(df.sales[lower])),get_vector(model,remove_space(df.sales_channel[lower])))\n",
    "    emb_all = vcat(emb_partial,(df1[lower,1:20]))\n",
    "    for i in (lower+1):upper\n",
    "        x = vcat(get_vector(model,get_store_clus(df.storenum[i])),get_vector(model,get_sales_div(df.sales[i])),get_vector(model,remove_space(df.sales_channel[i])))\n",
    "        emb_partial = hcat(emb_partial,x)\n",
    "        emb_all = hcat(emb_all,vcat(x,(df1[i,1:20])))\n",
    "    end\n",
    "    return emb_partial,emb_all\n",
    "end"
   ]
  },
  {
   "cell_type": "code",
   "execution_count": 12,
   "id": "376c24ea",
   "metadata": {},
   "outputs": [
    {
     "data": {
      "text/plain": [
       "get_embedding (generic function with 1 method)"
      ]
     },
     "execution_count": 12,
     "metadata": {},
     "output_type": "execute_result"
    }
   ],
   "source": [
    "#Batchwise preparation of embedding\n",
    "function get_embedding(df,df1,batch)\n",
    "    max_length = size(df,1)\n",
    "    emb_partial,emb_all = generate_embedding(df,df1,1,1)\n",
    "    count = 2\n",
    "    while (count<=max_length)\n",
    "        lower = count\n",
    "        upper = count + batch\n",
    "        if(upper>max_length)\n",
    "            upper = max_length\n",
    "        end\n",
    "        count = upper + 1\n",
    "        x,y = generate_embedding(df,df1,lower,upper)\n",
    "        emb_partial = hcat(emb_partial,x)\n",
    "        emb_all = hcat(emb_all,y)\n",
    "        println(lower,\" \",upper)\n",
    "    end\n",
    "    return emb_partial,emb_all\n",
    "end"
   ]
  },
  {
   "cell_type": "code",
   "execution_count": 7,
   "id": "fc38af1b",
   "metadata": {},
   "outputs": [
    {
     "data": {
      "text/plain": [
       "embed (generic function with 1 method)"
      ]
     },
     "execution_count": 7,
     "metadata": {},
     "output_type": "execute_result"
    }
   ],
   "source": [
    "#embeddings preparation clusterwise Input:quarter,daypart,cluster number\n",
    "function embed(cl,daypart,i)\n",
    "    path = cl * \"_\" * daypart * \"_embedding_Cluster$i.csv\"\n",
    "    df = DataFrame(CSV.File(path))\n",
    "    df1 = Matrix(df[:,3:22])\n",
    "    \n",
    "    emb_partial,emb_all = get_embedding(df,df1,10000)\n",
    "    \n",
    "    df_partial = DataFrame(emb_partial')\n",
    "    df_all = DataFrame(emb_all')\n",
    "    \n",
    "    CSV.write(cl * \"_\" * daypart * \"_emb_partial$i.csv\",df_partial)\n",
    "    CSV.write(cl * \"_\" * daypart * \"_emb_all$i.csv\",df_all)\n",
    "end"
   ]
  },
  {
   "cell_type": "code",
   "execution_count": 8,
   "id": "45eb90ad",
   "metadata": {},
   "outputs": [
    {
     "data": {
      "text/plain": [
       "Dict{Any, Any} with 111 entries:\n",
       "  597 => 4\n",
       "  519 => 5\n",
       "  586 => 1\n",
       "  501 => 5\n",
       "  627 => 4\n",
       "  660 => 3\n",
       "  650 => 7\n",
       "  510 => 4\n",
       "  556 => 4\n",
       "  657 => 5\n",
       "  547 => 4\n",
       "  530 => 1\n",
       "  612 => 3\n",
       "  505 => 2\n",
       "  629 => 5\n",
       "  665 => 7\n",
       "  567 => 6\n",
       "  638 => 5\n",
       "  506 => 7\n",
       "  524 => 5\n",
       "  518 => 3\n",
       "  603 => 3\n",
       "  661 => 4\n",
       "  651 => 4\n",
       "  658 => 4\n",
       "  ⋮   => ⋮"
      ]
     },
     "execution_count": 8,
     "metadata": {},
     "output_type": "execute_result"
    }
   ],
   "source": [
    "#load mapping of store to its corresponding geographical group\n",
    "using JLD2, FileIO\n",
    "store_clus = load(\"store_clus.jld2\")[\"store_clus\"]"
   ]
  },
  {
   "cell_type": "code",
   "execution_count": 11,
   "id": "bf29ca13",
   "metadata": {
    "scrolled": true
   },
   "outputs": [
    {
     "name": "stdout",
     "output_type": "stream",
     "text": [
      "2 10002\n",
      "10003 20003\n",
      "20004 30004\n",
      "30005 40005\n",
      "40006 50006\n",
      "50007 60007\n",
      "60008 70008\n",
      "70009 80009\n",
      "80010 90010\n",
      "90011 100011\n",
      "100012 110012\n",
      "110013 120013\n",
      "120014 130014\n",
      "130015 140015\n",
      "140016 150016\n",
      "150017 160017\n",
      "160018 170018\n",
      "170019 180019\n",
      "180020 190020\n",
      "190021 200021\n",
      "200022 207848\n",
      "1\n"
     ]
    }
   ],
   "source": [
    "#Embeddings(emb_all,emb_partila) prepared clusterwise\n",
    "\n",
    "#This cell takes prolonged time (>30 minutes)\n",
    "\n",
    "segment = [\"Breakfast_Weekday\",\"Breakfast_Weekend\",\"Lunch_Weekday\",\"Lunch_Weekend\",\"Dinner_Weekday\",\"Dinner_Weekend\"]\n",
    "cluster = [2,1,6,4,3,3]\n",
    "\n",
    "for j in 1:6\n",
    "    for i in 1:cluster[j]\n",
    "        embed(\"q1\",segment[j],i)\n",
    "        println(i)\n",
    "    end\n",
    "    println(j)\n",
    "end"
   ]
  },
  {
   "cell_type": "markdown",
   "id": "76c605fd",
   "metadata": {},
   "source": [
    "# Quarterwise embedding preparation(required input for GAN)"
   ]
  },
  {
   "cell_type": "code",
   "execution_count": 1,
   "id": "a1f2c143",
   "metadata": {},
   "outputs": [],
   "source": [
    "using CSV\n",
    "using DataFrames"
   ]
  },
  {
   "cell_type": "code",
   "execution_count": 2,
   "id": "5270c786",
   "metadata": {},
   "outputs": [
    {
     "data": {
      "text/plain": [
       "emb_comb (generic function with 1 method)"
      ]
     },
     "execution_count": 2,
     "metadata": {},
     "output_type": "execute_result"
    }
   ],
   "source": [
    "#Quarterwise embedding combination Input:quarter,segment,cluster number,df_final,df_all,df_partial\n",
    "#df_final-dataframe containing storenum,sales,channel,product combination embeddings\n",
    "#df_all-dataframe for emb_all\n",
    "#df_partial-dataframe for emb_partial\n",
    "function emb_comb(quarter,segment,c,df_final,df_all,df_partial)\n",
    "    path = quarter * \"_\" * segment * \"_embedding_Cluster$c.csv\"\n",
    "    df = DataFrame(CSV.File(path))\n",
    "    \n",
    "    st = segment * string(c)\n",
    "    arr_seg = []\n",
    "    n = size(df,1)\n",
    "    for i in 1:n\n",
    "        push!(arr_seg,st)\n",
    "    end\n",
    "    df.seg = arr_seg\n",
    "    \n",
    "    df_final = vcat(df_final,df)\n",
    "    \n",
    "    path_all = quarter * \"_\" * segment * \"_emb_all$c.csv\"\n",
    "    df_a = DataFrame(CSV.File(path_all))\n",
    "    \n",
    "    path_partial = quarter * \"_\" * segment * \"_emb_partial$c.csv\"\n",
    "    df_p = DataFrame(CSV.File(path_partial))\n",
    "    \n",
    "    df_all = vcat(df_all,df_a)\n",
    "    df_partial = vcat(df_partial,df_p)\n",
    "    \n",
    "    return df_final,df_all,df_partial\n",
    "end "
   ]
  },
  {
   "cell_type": "code",
   "execution_count": 3,
   "id": "c6f5eab8",
   "metadata": {
    "scrolled": true
   },
   "outputs": [
    {
     "name": "stdout",
     "output_type": "stream",
     "text": [
      "1\n",
      "2\n",
      "1\n",
      "1\n",
      "2\n",
      "1\n",
      "2\n",
      "3\n",
      "4\n",
      "5\n",
      "6\n",
      "3\n",
      "1\n",
      "2\n",
      "3\n",
      "4\n",
      "4\n",
      "1\n",
      "2\n",
      "3\n",
      "5\n",
      "1\n",
      "2\n",
      "3\n",
      "6\n"
     ]
    }
   ],
   "source": [
    "#Quarterwise emb_all,emb_partial prep\n",
    "segment = [\"Breakfast_Weekday\",\"Breakfast_Weekend\",\"Lunch_Weekday\",\"Lunch_Weekend\",\"Dinner_Weekday\",\"Dinner_Weekend\"]\n",
    "cluster = [2,1,6,4,3,3]\n",
    "arr = []\n",
    "\n",
    "df_final = DataFrame()\n",
    "df_all = DataFrame()\n",
    "df_partial = DataFrame()\n",
    "\n",
    "for j in 1:6\n",
    "    for i in 1:cluster[j]\n",
    "        df_final,df_all,df_partial = emb_comb(\"q1\",segment[j],i,df_final,df_all,df_partial)\n",
    "        println(i)\n",
    "    end\n",
    "    println(j)\n",
    "end"
   ]
  },
  {
   "cell_type": "code",
   "execution_count": 4,
   "id": "9b76422b",
   "metadata": {},
   "outputs": [
    {
     "data": {
      "text/plain": [
       "\"q4_embedding_Cluster.csv\""
      ]
     },
     "execution_count": 4,
     "metadata": {},
     "output_type": "execute_result"
    }
   ],
   "source": [
    "#Save df_final\n",
    "CSV.write(\"q4_embedding_Cluster.csv\",df_final)"
   ]
  },
  {
   "cell_type": "code",
   "execution_count": 5,
   "id": "5ff97252",
   "metadata": {},
   "outputs": [
    {
     "data": {
      "text/plain": [
       "\"q4_emb_all.csv\""
      ]
     },
     "execution_count": 5,
     "metadata": {},
     "output_type": "execute_result"
    }
   ],
   "source": [
    "#Save df_all\n",
    "CSV.write(\"q4_emb_all.csv\",df_all)"
   ]
  },
  {
   "cell_type": "code",
   "execution_count": 6,
   "id": "ee2a6f6d",
   "metadata": {},
   "outputs": [
    {
     "data": {
      "text/plain": [
       "\"q4_emb_partial.csv\""
      ]
     },
     "execution_count": 6,
     "metadata": {},
     "output_type": "execute_result"
    }
   ],
   "source": [
    "#Save df_partial\n",
    "CSV.write(\"q4_emb_partial.csv\",df_partial)"
   ]
  },
  {
   "cell_type": "markdown",
   "id": "da06d256",
   "metadata": {},
   "source": [
    "# Dictionaries for tracking segmentwise beginning and ending index "
   ]
  },
  {
   "cell_type": "code",
   "execution_count": 7,
   "id": "2beccb29",
   "metadata": {},
   "outputs": [
    {
     "data": {
      "text/plain": [
       "19-element Vector{Any}:\n",
       " \"Breakfast_Weekday1\"\n",
       " \"Breakfast_Weekday2\"\n",
       " \"Breakfast_Weekend1\"\n",
       " \"Lunch_Weekday1\"\n",
       " \"Lunch_Weekday2\"\n",
       " \"Lunch_Weekday3\"\n",
       " \"Lunch_Weekday4\"\n",
       " \"Lunch_Weekday5\"\n",
       " \"Lunch_Weekday6\"\n",
       " \"Lunch_Weekend1\"\n",
       " \"Lunch_Weekend2\"\n",
       " \"Lunch_Weekend3\"\n",
       " \"Lunch_Weekend4\"\n",
       " \"Dinner_Weekday1\"\n",
       " \"Dinner_Weekday2\"\n",
       " \"Dinner_Weekday3\"\n",
       " \"Dinner_Weekend1\"\n",
       " \"Dinner_Weekend2\"\n",
       " \"Dinner_Weekend3\""
      ]
     },
     "execution_count": 7,
     "metadata": {},
     "output_type": "execute_result"
    }
   ],
   "source": [
    "#Prepare dataframe containing segments\n",
    "segment = [\"Breakfast_Weekday\",\"Breakfast_Weekend\",\"Lunch_Weekday\",\"Lunch_Weekend\",\"Dinner_Weekday\",\"Dinner_Weekend\"]\n",
    "cluster = [2,1,6,4,3,3]\n",
    "\n",
    "arr = []\n",
    "\n",
    "for i in 1:6\n",
    "    for j in 1:cluster[i]\n",
    "        push!(arr,segment[i]*string(j))\n",
    "    end\n",
    "end\n",
    "\n",
    "df = DataFrame()\n",
    "df.seg = arr"
   ]
  },
  {
   "cell_type": "code",
   "execution_count": 8,
   "id": "9a0184f7",
   "metadata": {},
   "outputs": [
    {
     "data": {
      "text/plain": [
       "-1"
      ]
     },
     "execution_count": 8,
     "metadata": {},
     "output_type": "execute_result"
    }
   ],
   "source": [
    "#Supposing min and max value of index\n",
    "mi = 4000000\n",
    "ma = -1"
   ]
  },
  {
   "cell_type": "code",
   "execution_count": 9,
   "id": "2b76f1a6",
   "metadata": {},
   "outputs": [],
   "source": [
    "#Declaring dictionaries for beginning and ending index corresponding to each segment\n",
    "q1_dict_beg = Dict()\n",
    "q1_dict_end = Dict()\n",
    "\n",
    "for i in 1:19\n",
    "    q1_dict_beg[df.seg[i]] = mi\n",
    "    q1_dict_end[df.seg[i]] = ma\n",
    "end "
   ]
  },
  {
   "cell_type": "code",
   "execution_count": 10,
   "id": "ea63b974",
   "metadata": {},
   "outputs": [],
   "source": [
    "#Preparing dictionaries for beginning and ending index corresponding to each segment\n",
    "for i in 1:size(df_final,1)\n",
    "    q1_dict_beg[df_final.seg[i]] = min(q1_dict_beg[df_final.seg[i]],i)\n",
    "    q1_dict_end[df_final.seg[i]] = max(q1_dict_beg[df_final.seg[i]],i)\n",
    "end"
   ]
  },
  {
   "cell_type": "code",
   "execution_count": 11,
   "id": "3e86d644",
   "metadata": {},
   "outputs": [],
   "source": [
    "#Save dictionary containg beginning index\n",
    "using JLD2, FileIO\n",
    "save(\"q1_dict_beg.jld2\", \"q1_dict_beg\", q1_dict_beg)"
   ]
  },
  {
   "cell_type": "code",
   "execution_count": 12,
   "id": "7dac77cc",
   "metadata": {},
   "outputs": [],
   "source": [
    "#Save dictionary containg ending index\n",
    "save(\"q1_dict_end.jld2\", \"q1_dict_end\", q1_dict_end)"
   ]
  },
  {
   "cell_type": "code",
   "execution_count": 13,
   "id": "568afb50",
   "metadata": {},
   "outputs": [
    {
     "data": {
      "text/plain": [
       "Dict{Any, Any} with 19 entries:\n",
       "  \"Lunch_Weekend4\"     => 1999284\n",
       "  \"Lunch_Weekday3\"     => 1224320\n",
       "  \"Lunch_Weekday2\"     => 1168209\n",
       "  \"Dinner_Weekend1\"    => 2965884\n",
       "  \"Breakfast_Weekday2\" => 363225\n",
       "  \"Lunch_Weekday4\"     => 1482559\n",
       "  \"Dinner_Weekday2\"    => 2800887\n",
       "  \"Dinner_Weekday3\"    => 2842127\n",
       "  \"Dinner_Weekday1\"    => 2481257\n",
       "  \"Dinner_Weekend2\"    => 2982096\n",
       "  \"Lunch_Weekday5\"     => 1533706\n",
       "  \"Lunch_Weekday1\"     => 1074946\n",
       "  \"Lunch_Weekend3\"     => 1978136\n",
       "  \"Lunch_Weekend2\"     => 1735060\n",
       "  \"Lunch_Weekend1\"     => 1615818\n",
       "  \"Breakfast_Weekday1\" => 332583\n",
       "  \"Breakfast_Weekend1\" => 554100\n",
       "  \"Lunch_Weekday6\"     => 1576132\n",
       "  \"Dinner_Weekend3\"    => 3168740"
      ]
     },
     "execution_count": 13,
     "metadata": {},
     "output_type": "execute_result"
    }
   ],
   "source": [
    "#loading dictionaries\n",
    "using JLD2, FileIO\n",
    "q1_dict_beg = load(\"q1_dict_beg.jld2\")[\"q1_dict_beg\"]\n",
    "q1_dict_end = load(\"q1_dict_end.jld2\")[\"q1_dict_end\"]"
   ]
  },
  {
   "cell_type": "code",
   "execution_count": null,
   "id": "8eaa438b",
   "metadata": {},
   "outputs": [],
   "source": []
  }
 ],
 "metadata": {
  "kernelspec": {
   "display_name": "Julia 1.6.0",
   "language": "julia",
   "name": "julia-1.6"
  },
  "language_info": {
   "file_extension": ".jl",
   "mimetype": "application/julia",
   "name": "julia",
   "version": "1.6.0"
  }
 },
 "nbformat": 4,
 "nbformat_minor": 5
}
